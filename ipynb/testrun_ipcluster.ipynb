{
 "cells": [
  {
   "cell_type": "code",
   "execution_count": 9,
   "metadata": {},
   "outputs": [
    {
     "name": "stdout",
     "output_type": "stream",
     "text": [
      "{0: 18345, 1: 18358, 2: 18363, 3: 18366, 4: 18370, 5: 18376, 6: 18380, 7: 18402, 8: 18414, 9: 18425, 10: 18443, 11: 18454, 12: 18470, 13: 18480, 14: 18491, 15: 18502, 16: 18517, 17: 18528, 18: 18540, 19: 18551, 20: 18562, 21: 18577, 22: 18588, 23: 18599, 24: 18610, 25: 18621, 26: 18636, 27: 18648, 28: 18659, 29: 18670, 30: 18681, 31: 18696, 32: 18707, 33: 18718, 34: 18729, 35: 18740, 36: 18755, 37: 18767, 38: 18778, 39: 18789, 40: 18800, 41: 18815, 42: 18828, 43: 18839, 44: 18860, 45: 18887, 46: 18902, 47: 18914, 48: 18925, 49: 18936, 50: 18947, 51: 18962, 52: 18973, 53: 18984}\n"
     ]
    }
   ],
   "source": [
    "import os\n",
    "import ipyparallel as ipp\n",
    "\n",
    "rc = ipp.Client()\n",
    "ar = rc[:].apply_async(os.getpid)\n",
    "pid_map = ar.get_dict()\n",
    "print(pid_map)"
   ]
  },
  {
   "cell_type": "code",
   "execution_count": 11,
   "metadata": {},
   "outputs": [
    {
     "ename": "NameError",
     "evalue": "name 'hostname' is not defined",
     "output_type": "error",
     "traceback": [
      "\u001b[0;31m---------------------------------------------------------------------------\u001b[0m",
      "\u001b[0;31mNameError\u001b[0m                                 Traceback (most recent call last)",
      "\u001b[0;32m<ipython-input-11-623899f8106e>\u001b[0m in \u001b[0;36m<module>\u001b[0;34m()\u001b[0m\n\u001b[1;32m      1\u001b[0m \u001b[0mget_ipython\u001b[0m\u001b[0;34m(\u001b[0m\u001b[0;34m)\u001b[0m\u001b[0;34m.\u001b[0m\u001b[0msystem\u001b[0m\u001b[0;34m(\u001b[0m\u001b[0;34m''\u001b[0m\u001b[0;34m)\u001b[0m\u001b[0;34m\u001b[0m\u001b[0m\n\u001b[0;32m----> 2\u001b[0;31m \u001b[0mhostname\u001b[0m\u001b[0;34m\u001b[0m\u001b[0m\n\u001b[0m",
      "\u001b[0;31mNameError\u001b[0m: name 'hostname' is not defined"
     ]
    }
   ],
   "source": [
    "! bash\n",
    "hostname"
   ]
  },
  {
   "cell_type": "code",
   "execution_count": null,
   "metadata": {},
   "outputs": [],
   "source": []
  }
 ],
 "metadata": {
  "kernelspec": {
   "display_name": "Python 3",
   "language": "python",
   "name": "python3"
  },
  "language_info": {
   "codemirror_mode": {
    "name": "ipython",
    "version": 3
   },
   "file_extension": ".py",
   "mimetype": "text/x-python",
   "name": "python",
   "nbconvert_exporter": "python",
   "pygments_lexer": "ipython3",
   "version": "3.5.2"
  }
 },
 "nbformat": 4,
 "nbformat_minor": 2
}
