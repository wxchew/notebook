{
 "cells": [
  {
   "cell_type": "code",
   "execution_count": 1,
   "metadata": {},
   "outputs": [
    {
     "data": {
      "text/plain": [
       "{'CLICOLOR': '1',\n",
       " 'GIT_PAGER': 'cat',\n",
       " 'HOME': '/home/chew',\n",
       " 'JPY_API_TOKEN': '94608b3896aa45098f01f8c47ed051b0',\n",
       " 'JPY_PARENT_PID': '2864',\n",
       " 'JUPYTERHUB_API_TOKEN': '94608b3896aa45098f01f8c47ed051b0',\n",
       " 'JUPYTERHUB_API_URL': 'http://127.0.0.1:8081/hub/api',\n",
       " 'JUPYTERHUB_BASE_URL': '/',\n",
       " 'JUPYTERHUB_CLIENT_ID': 'user-chew',\n",
       " 'JUPYTERHUB_HOST': '',\n",
       " 'JUPYTERHUB_OAUTH_CALLBACK_URL': '/user/chew/oauth_callback',\n",
       " 'JUPYTERHUB_SERVICE_PREFIX': '/user/chew/',\n",
       " 'JUPYTERHUB_USER': 'chew',\n",
       " 'LANG': 'en_US.UTF-8',\n",
       " 'LD_LIBRARY_PATH': '/home/chew/ecell4/build/local/lib',\n",
       " 'MPLBACKEND': 'module://ipykernel.pylab.backend_inline',\n",
       " 'PAGER': 'cat',\n",
       " 'PATH': '/usr/local/sbin:/usr/local/bin:/usr/sbin:/usr/bin:/sbin:/bin:/usr/games:/usr/local/games',\n",
       " 'PYTHONPATH': '/home/chew/ecell4/build/local/lib/python3.5/site-packages',\n",
       " 'TERM': 'xterm-color',\n",
       " 'USER': 'chew'}"
      ]
     },
     "execution_count": 1,
     "metadata": {},
     "output_type": "execute_result"
    }
   ],
   "source": [
    "%env"
   ]
  },
  {
   "cell_type": "code",
   "execution_count": 4,
   "metadata": {},
   "outputs": [
    {
     "ename": "ImportError",
     "evalue": "No module named 'scipy'",
     "output_type": "error",
     "traceback": [
      "\u001b[0;31m---------------------------------------------------------------------------\u001b[0m",
      "\u001b[0;31mImportError\u001b[0m                               Traceback (most recent call last)",
      "\u001b[0;32m<ipython-input-4-4363d2be0702>\u001b[0m in \u001b[0;36m<module>\u001b[0;34m()\u001b[0m\n\u001b[0;32m----> 1\u001b[0;31m \u001b[0;32mimport\u001b[0m \u001b[0mscipy\u001b[0m\u001b[0;34m\u001b[0m\u001b[0m\n\u001b[0m",
      "\u001b[0;31mImportError\u001b[0m: No module named 'scipy'"
     ]
    }
   ],
   "source": [
    "import scipy"
   ]
  },
  {
   "cell_type": "code",
   "execution_count": 10,
   "metadata": {},
   "outputs": [
    {
     "name": "stdout",
     "output_type": "stream",
     "text": [
      "Collecting scipy\n",
      "  Downloading scipy-1.0.0-cp35-cp35m-manylinux1_x86_64.whl (49.6MB)\n",
      "\u001b[K    100% |████████████████████████████████| 49.6MB 11kB/s  eta 0:00:01\n",
      "\u001b[?25hRequirement already satisfied: numpy>=1.8.2 in /usr/local/lib/python3.5/dist-packages (from scipy)\n",
      "Installing collected packages: scipy\n",
      "Successfully installed scipy-1.0.0\n"
     ]
    }
   ],
   "source": [
    "!pip3 install scipy --user"
   ]
  },
  {
   "cell_type": "code",
   "execution_count": 11,
   "metadata": {},
   "outputs": [
    {
     "ename": "ImportError",
     "evalue": "No module named 'scipy'",
     "output_type": "error",
     "traceback": [
      "\u001b[0;31m---------------------------------------------------------------------------\u001b[0m",
      "\u001b[0;31mImportError\u001b[0m                               Traceback (most recent call last)",
      "\u001b[0;32m<ipython-input-11-4363d2be0702>\u001b[0m in \u001b[0;36m<module>\u001b[0;34m()\u001b[0m\n\u001b[0;32m----> 1\u001b[0;31m \u001b[0;32mimport\u001b[0m \u001b[0mscipy\u001b[0m\u001b[0;34m\u001b[0m\u001b[0m\n\u001b[0m",
      "\u001b[0;31mImportError\u001b[0m: No module named 'scipy'"
     ]
    }
   ],
   "source": [
    "import scipy"
   ]
  },
  {
   "cell_type": "markdown",
   "metadata": {},
   "source": [
    "%env"
   ]
  },
  {
   "cell_type": "code",
   "execution_count": 2,
   "metadata": {},
   "outputs": [],
   "source": [
    "from ecell4 import *"
   ]
  },
  {
   "cell_type": "code",
   "execution_count": 3,
   "metadata": {},
   "outputs": [],
   "source": [
    "import ecell4.core"
   ]
  },
  {
   "cell_type": "code",
   "execution_count": 2,
   "metadata": {},
   "outputs": [
    {
     "ename": "NameError",
     "evalue": "name 'sys' is not defined",
     "output_type": "error",
     "traceback": [
      "\u001b[0;31m---------------------------------------------------------------------------\u001b[0m",
      "\u001b[0;31mNameError\u001b[0m                                 Traceback (most recent call last)",
      "\u001b[0;32m<ipython-input-2-b35d1d099a2a>\u001b[0m in \u001b[0;36m<module>\u001b[0;34m()\u001b[0m\n\u001b[0;32m----> 1\u001b[0;31m \u001b[0msys\u001b[0m\u001b[0;34m.\u001b[0m\u001b[0mpath\u001b[0m\u001b[0;34m\u001b[0m\u001b[0m\n\u001b[0m",
      "\u001b[0;31mNameError\u001b[0m: name 'sys' is not defined"
     ]
    }
   ],
   "source": [
    "sys.path"
   ]
  },
  {
   "cell_type": "code",
   "execution_count": 4,
   "metadata": {},
   "outputs": [],
   "source": [
    "sys.path.append('/home/chew/ecell4/build/local/lib/python2.7/site-packages')"
   ]
  },
  {
   "cell_type": "code",
   "execution_count": 5,
   "metadata": {},
   "outputs": [
    {
     "data": {
      "text/plain": [
       "['',\n",
       " '/usr/lib/python35.zip',\n",
       " '/usr/lib/python3.5',\n",
       " '/usr/lib/python3.5/plat-x86_64-linux-gnu',\n",
       " '/usr/lib/python3.5/lib-dynload',\n",
       " '/usr/local/lib/python3.5/dist-packages',\n",
       " '/usr/lib/python3/dist-packages',\n",
       " '/usr/local/lib/python3.5/dist-packages/IPython/extensions',\n",
       " '/home/chew/.ipython',\n",
       " '/home/chew/ecell4/build/local/lib/python2.7/site-packages']"
      ]
     },
     "execution_count": 5,
     "metadata": {},
     "output_type": "execute_result"
    }
   ],
   "source": [
    "sys.path"
   ]
  },
  {
   "cell_type": "code",
   "execution_count": 3,
   "metadata": {},
   "outputs": [
    {
     "data": {
      "text/plain": [
       "{'CLICOLOR': '1',\n",
       " 'GIT_PAGER': 'cat',\n",
       " 'HOME': '/home/chew',\n",
       " 'JPY_API_TOKEN': '94608b3896aa45098f01f8c47ed051b0',\n",
       " 'JPY_PARENT_PID': '2864',\n",
       " 'JUPYTERHUB_API_TOKEN': '94608b3896aa45098f01f8c47ed051b0',\n",
       " 'JUPYTERHUB_API_URL': 'http://127.0.0.1:8081/hub/api',\n",
       " 'JUPYTERHUB_BASE_URL': '/',\n",
       " 'JUPYTERHUB_CLIENT_ID': 'user-chew',\n",
       " 'JUPYTERHUB_HOST': '',\n",
       " 'JUPYTERHUB_OAUTH_CALLBACK_URL': '/user/chew/oauth_callback',\n",
       " 'JUPYTERHUB_SERVICE_PREFIX': '/user/chew/',\n",
       " 'JUPYTERHUB_USER': 'chew',\n",
       " 'LANG': 'en_US.UTF-8',\n",
       " 'LD_LIBRARY_PATH': '/home/chew/ecell4/build/local/lib',\n",
       " 'MPLBACKEND': 'module://ipykernel.pylab.backend_inline',\n",
       " 'PAGER': 'cat',\n",
       " 'PATH': '/usr/local/sbin:/usr/local/bin:/usr/sbin:/usr/bin:/sbin:/bin:/usr/games:/usr/local/games',\n",
       " 'PYTHONPATH': '/home/chew/ecell4/build/local/lib/python3.5/site-packages',\n",
       " 'TERM': 'xterm-color',\n",
       " 'USER': 'chew'}"
      ]
     },
     "execution_count": 3,
     "metadata": {},
     "output_type": "execute_result"
    }
   ],
   "source": [
    "%env"
   ]
  },
  {
   "cell_type": "code",
   "execution_count": 30,
   "metadata": {},
   "outputs": [
    {
     "ename": "ImportError",
     "evalue": "No module named 'ecell4'",
     "output_type": "error",
     "traceback": [
      "\u001b[0;31m---------------------------------------------------------------------------\u001b[0m",
      "\u001b[0;31mImportError\u001b[0m                               Traceback (most recent call last)",
      "\u001b[0;32m<ipython-input-30-9ff19488f077>\u001b[0m in \u001b[0;36m<module>\u001b[0;34m()\u001b[0m\n\u001b[0;32m----> 1\u001b[0;31m \u001b[0;32mimport\u001b[0m \u001b[0mecell4\u001b[0m\u001b[0;34m\u001b[0m\u001b[0m\n\u001b[0m",
      "\u001b[0;31mImportError\u001b[0m: No module named 'ecell4'"
     ]
    }
   ],
   "source": [
    "import ecell4"
   ]
  },
  {
   "cell_type": "code",
   "execution_count": null,
   "metadata": {},
   "outputs": [],
   "source": []
  },
  {
   "cell_type": "code",
   "execution_count": null,
   "metadata": {},
   "outputs": [],
   "source": []
  }
 ],
 "metadata": {
  "kernelspec": {
   "display_name": "Python 3",
   "language": "python",
   "name": "python3"
  },
  "language_info": {
   "codemirror_mode": {
    "name": "ipython",
    "version": 3
   },
   "file_extension": ".py",
   "mimetype": "text/x-python",
   "name": "python",
   "nbconvert_exporter": "python",
   "pygments_lexer": "ipython3",
   "version": "3.5.2"
  }
 },
 "nbformat": 4,
 "nbformat_minor": 2
}
