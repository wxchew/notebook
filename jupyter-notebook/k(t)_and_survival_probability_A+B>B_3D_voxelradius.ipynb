{
 "cells": [
  {
   "cell_type": "code",
   "execution_count": 1,
   "metadata": {
    "scrolled": true
   },
   "outputs": [
    {
     "name": "stdout",
     "output_type": "stream",
     "text": [
      "L 1.78650185\n",
      "Vr 5.83415352458\n",
      "1.25663698739 0.125663706144 0.114239732858\n",
      "phi 0.103155740411 phir 0.103155740411\n"
     ]
    }
   ],
   "source": [
    "from ecell4 import *\n",
    "import numpy as np\n",
    "import math\n",
    "import sys\n",
    "\n",
    "run = int(sys.argv[2])\n",
    "rng = GSLRandomNumberGenerator()\n",
    "rng.seed(run)\n",
    "k_factor = float(sys.argv[1])\n",
    "#rm = 0.005\n",
    "voxelr = 0.005#*1.0208582  \n",
    "#r0=0.256318\n",
    "L = 350*voxelr\n",
    "D = 1\n",
    "kd= 4.0*math.pi*D*2*voxelr\n",
    "ka = k_factor*kd\n",
    "#ka = (1./r0-1)*6*2**0.5*D*voxelr*kaa/kd\n",
    "kon = (ka*kd)/(ka+kd)\n",
    "tm =(2*voxelr)**2/(6*D)\n",
    "N = 4000\n",
    "duration =0.05# -math.log(1e-10)/N/kon\n",
    "dt=tm\n",
    "w = spatiocyte.SpatiocyteWorld(ones()*L,voxelr)\n",
    "Vr = w.calculate_volume(ones()*L,voxelr)\n",
    "lx,ly,lz = tuple(w.calculate_shape(ones()*L,voxelr))\n",
    "Nv = lx*ly*lz\n",
    "vv = w.calculate_voxel_volume(voxelr)\n",
    "phi = 2.*N/Nv\n",
    "print 'ka,kd,kon,L,dur,N',ka,kd,kon,L,duration,N\n",
    "\n",
    "with species_attributes():\n",
    "    A |  {'D': str(0), 'radius':str(voxelr)}\n",
    "    B |  {'D': str(D), 'radius':str(voxelr)}\n",
    "\n",
    "with reaction_rules():#for spa and egfrd\n",
    "    A + B > B | ka\n",
    "\n",
    "m2 = get_model()\n",
    "\n",
    "w = spatiocyte.SpatiocyteWorld(ones()*L,voxelr,rng)\n",
    "w.bind_to(m2)\n",
    "w.add_molecules(Species('A'), N)\n",
    "w.add_molecules(Species('B'), N)\n",
    "obs = FixedIntervalNumberObserver(dt, ('A'))\n",
    "sim = spatiocyte.SpatiocyteSimulator(w)\n",
    "sim.initialize()\n",
    "tlog = dt\n",
    "tlogs=[]\n",
    "nlog=[]\n",
    "while sim.t()<duration:\n",
    "    if sim.t()>tlog:\n",
    "        tlogs.append(tlog)\n",
    "        nlog.append(w.num_particles_exact(Species('A')))\n",
    "        tlog+=dt\n",
    "    sim.step()\n",
    "    #print sim.dt(),tm\n",
    "    #sim.run(duration, obs)    \n",
    "\n",
    "name = '/home/chew/runscript/data/keff/kfac'+str(k_factor)+'/run'+str(run)\n",
    "filename=open(name,'w')\n",
    "np.savetxt(name,np.column_stack((tlogs,nlog)),delimiter=',',fmt='%s')\n",
    "filename.close()\n"
   ]
  },
  {
   "cell_type": "code",
   "execution_count": null,
   "metadata": {
    "collapsed": true
   },
   "outputs": [],
   "source": []
  }
 ],
 "metadata": {
  "anaconda-cloud": {},
  "kernelspec": {
   "display_name": "Python 2",
   "language": "python",
   "name": "python2"
  },
  "language_info": {
   "codemirror_mode": {
    "name": "ipython",
    "version": 3
   },
   "file_extension": ".py",
   "mimetype": "text/x-python",
   "name": "python",
   "nbconvert_exporter": "python",
   "pygments_lexer": "ipython3",
   "version": "3.5.2"
  }
 },
 "nbformat": 4,
 "nbformat_minor": 1
}
