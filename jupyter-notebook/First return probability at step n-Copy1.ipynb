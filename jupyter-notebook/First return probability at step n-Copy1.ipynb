{
 "cells": [
  {
   "cell_type": "code",
   "execution_count": 1,
   "metadata": {
    "collapsed": false
   },
   "outputs": [],
   "source": [
    "import math\n",
    "import numpy as np\n",
    "import scipy\n",
    "import matplotlib.pyplot as plt\n",
    "%matplotlib inline"
   ]
  },
  {
   "cell_type": "code",
   "execution_count": 2,
   "metadata": {
    "collapsed": true
   },
   "outputs": [],
   "source": [
    "def bino(n, k):\n",
    "    def eratosthenes_simple_numbers(N):\n",
    "        yield 2\n",
    "        nonsimp = set()\n",
    "        for i in xrange(3, N + 1, 2):\n",
    "            if i not in nonsimp:\n",
    "                nonsimp |= {j for j in xrange(i * i, N + 1, 2 * i)}\n",
    "                yield i\n",
    "    def calc_pow_in_factorial(a, p):\n",
    "        res = 0\n",
    "        while a:\n",
    "            a //= p\n",
    "            res += a\n",
    "        return res\n",
    "    ans = 1\n",
    "    for p in eratosthenes_simple_numbers(n):\n",
    "        ans *= p ** (calc_pow_in_factorial(n, p) - calc_pow_in_factorial(k, p) - calc_pow_in_factorial(n - k, p))\n",
    "    return ans"
   ]
  },
  {
   "cell_type": "code",
   "execution_count": 3,
   "metadata": {
    "collapsed": false
   },
   "outputs": [],
   "source": [
    "def f1(n): #Pdiamond\n",
    "    x=0\n",
    "    for j in range(n+1):\n",
    "        xx = (bino(n,j))**2 *(bino(2*j,j))*(bino(2*n-2*j,n-j))\n",
    "        x+=xx\n",
    "    return x\n",
    "\n",
    "def f2(n): #Pfcc\n",
    "    y=0\n",
    "    for j in range(n+1):\n",
    "        yy = bino(n,j)*((-4)**(n-j)) *f1(j)\n",
    "        y+=yy\n",
    "    return float(y)/12**n\n",
    "\n",
    "def F(n): #FPfcc\n",
    "    y = [1]\n",
    "    if n==0: return y[0]\n",
    "    else:  \n",
    "        m = 1\n",
    "        while m<=n:\n",
    "            yy=0\n",
    "            for i in range(m-1):\n",
    "                j=i+1\n",
    "                yy+=f2(m-j)*y[j]\n",
    "            y.append(f2(m)-yy)    \n",
    "            m+=1\n",
    "    return y"
   ]
  },
  {
   "cell_type": "code",
   "execution_count": null,
   "metadata": {
    "collapsed": false
   },
   "outputs": [
    {
     "name": "stdout",
     "output_type": "stream",
     "text": [
      "0 1\n",
      "1 0.0\n",
      "2 0.0833333333333\n",
      "3 0.0277777777778\n",
      "4 0.0190972222222\n",
      "5 0.0127314814815\n",
      "6 0.00961291152263\n",
      "7 0.00749099794239\n",
      "8 0.00607864945023\n",
      "9 0.00505297788304\n",
      "10 0.00428919885929\n",
      "11 0.00369966833813\n"
     ]
    }
   ],
   "source": [
    "for i,j in enumerate(F(11)):\n",
    "    print i,j"
   ]
  },
  {
   "cell_type": "code",
   "execution_count": null,
   "metadata": {
    "collapsed": false
   },
   "outputs": [],
   "source": [
    "prob = F(100)"
   ]
  },
  {
   "cell_type": "code",
   "execution_count": null,
   "metadata": {
    "collapsed": false
   },
   "outputs": [],
   "source": [
    "prob[-1]"
   ]
  },
  {
   "cell_type": "code",
   "execution_count": null,
   "metadata": {
    "collapsed": false
   },
   "outputs": [],
   "source": [
    "plt.loglog(range(len(prob)),prob,'.',label='exact')\n",
    "z = lambda x: 0.1*(x**-1.5) #t^(-0.5)\n",
    "plt.plot(np.logspace(0,3,10),z(np.logspace(0,3,10)),label='p ~ t^-1.5')\n",
    "plt.xlabel('step')\n",
    "plt.ylabel('1st return prob')\n",
    "plt.legend()               "
   ]
  },
  {
   "cell_type": "code",
   "execution_count": null,
   "metadata": {
    "collapsed": true
   },
   "outputs": [],
   "source": []
  }
 ],
 "metadata": {
  "kernelspec": {
   "display_name": "Python 2",
   "language": "python",
   "name": "python2"
  },
  "language_info": {
   "codemirror_mode": {
    "name": "ipython",
    "version": 2
   },
   "file_extension": ".py",
   "mimetype": "text/x-python",
   "name": "python",
   "nbconvert_exporter": "python",
   "pygments_lexer": "ipython2",
   "version": "2.7.10"
  }
 },
 "nbformat": 4,
 "nbformat_minor": 2
}
