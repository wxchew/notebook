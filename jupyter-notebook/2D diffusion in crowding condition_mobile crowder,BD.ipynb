{
 "cells": [
  {
   "cell_type": "code",
   "execution_count": 1,
   "metadata": {
    "collapsed": false,
    "scrolled": false
   },
   "outputs": [
    {
     "name": "stdout",
     "output_type": "stream",
     "text": [
      "Nt 1 phit 0.0314159265359 No 16 phio 0.502654824574\n",
      "L=0.05,rm=0.005,Dt=1.0,Do=1.0,tmol=5.00E-05,duration=0.1,simdt=5e-10\n"
     ]
    }
   ],
   "source": [
    "from ecell4 import *\n",
    "import numpy as np\n",
    "import math\n",
    "import sys\n",
    "import os\n",
    "%matplotlib inline\n",
    "import matplotlib.pyplot as plt\n",
    "rng = core.GSLRandomNumberGenerator()\n",
    "\n",
    "Dratio = 1.\n",
    "run = 1\n",
    "phio = 0.3 #until 0.5\n",
    "rm = 0.005\n",
    "Dt = 1.\n",
    "Do = Dt/Dratio\n",
    "Dmax = max([Dt,Do])\n",
    "dtfactor = 1e-5\n",
    "finalt = -1\n",
    "tmol = (2*rm)**2 / (2*Dmax)\n",
    "Ap = math.pi*rm*rm\n",
    "Nt = 1\n",
    "L = rm*2*5\n",
    "At = L*L\n",
    "No = int(At*phio/Ap)+1\n",
    "mat = Integer3(1,1,1)*int(L/2/rm)#max(3,int((Nall)**(1./2)))\n",
    "simdt = math.log10(tmol*dtfactor)\n",
    "tt = np.logspace(simdt,finalt,int(abs(finalt-simdt))*5)\n",
    "tt = np.insert(tt,0,0.)\n",
    "with species_attributes():\n",
    "     T | {'D':str(Dt),'radius':str(rm)}\n",
    "     O | {'D':str(Do),'radius':str(rm)}      \n",
    "m=get_model()\n",
    "a=(3.)**0.5\n",
    "poss = [[n[0]*rm,n[1]*rm] for n in [[1,1],[1+a,1+a],[1,1+2*a],[1+2*a,1],[1+2*a,1+2*a]]]\n",
    "print 'Nt',Nt,'phit',Nt*Ap/At,'No',No,'phio',No*Ap/At\n",
    "print 'L={},rm={},Dt={},Do={},tmol={:.2E},duration={},simdt={}'.format(L,rm,Dt,Do,tmol,tt[-1],tmol*dtfactor)\n",
    "#filename = 'data/phi'+str(phit)+'inipos.csv'\n",
    "#inipos = np.loadtxt(filename,delimiter=',')\n",
    "\n",
    "def singlerun(run,inipos,dur):\n",
    "    rng.seed(run)\n",
    "    w = egfrd.EGFRDWorld(Real3(L,L,L),matrix_sizes=mat,rng=rng)\n",
    "    x,y,z = w.actual_lengths()\n",
    "    w.bind_to(m)\n",
    "    for i in range(Nt):\n",
    "         while(True):\n",
    "            if (inipos==0):\n",
    "                (pid,p),suc = w.new_particle(Species(\"T\"),Real3(0,rng.uniform(0.0,L),rng.uniform(0.0,L)))\n",
    "            else: \n",
    "                pp = inipos[i]\n",
    "                (pid,p),suc = w.new_particle(Species(\"T\"),Real3(0,pp[0],pp[1]))    \n",
    "            if (suc): break\n",
    "    PID = [pid for pid, p in w.list_particles(Species(\"T\"))] #particle IDs\n",
    "    for i in range(No):\n",
    "         while(True):\n",
    "            if (inipos==0):\n",
    "                (pid,p),suc = w.new_particle(Species(\"O\"),Real3(0,rng.uniform(0.0,L),rng.uniform(0.0,L)))\n",
    "            else: \n",
    "                pp = inipos[i]\n",
    "                (pid,p),suc = w.new_particle(Species(\"O\"),Real3(0,pp[0],pp[1]))    \n",
    "            if (suc): break\n",
    "    sim = egfrd.BDSimulator(w)\n",
    "    sim.set_dt(tmol*dtfactor)\n",
    "    sim.initialize()\n",
    "    simdt = sim.dt()\n",
    "    #obs = FixedIntervalTrajectoryObserver(tmol,PID)\n",
    "    obs = TimingTrajectoryObserver(tt,PID,True,tmol)\n",
    "    sim.run(dur,obs)\n",
    "    #viz.plot_trajectory(obs)   \n",
    "    #viz.plot_world(w,radius=0.003)\n",
    "    data=obs.data()\n",
    "    outpos = [[pos[-1][1],pos[-1][2]] for pos in data]\n",
    "    for i in range(Nt):\n",
    "        msd = np.array(\n",
    "            [np.linalg.norm(np.array(tuple(pos)) - np.array(tuple(data[i][0]))) ** 2\n",
    "                 for pos in data[i]]) \n",
    "        if (i==0): MSD = msd\n",
    "        else: MSD += msd\n",
    "    return outpos,MSD/Nt\n",
    "\n",
    "#outpos,msd = singlerun(run,poss,tmol*100)\n",
    "#outpos,msd = singlerun(run,inipos,tt[-1])\n",
    "outpos,msd = singlerun(run,0,tt[-1])\n",
    "#dirname = 'data/BDphi'+str(phio)\n",
    "#if not os.path.exists(dirname):\n",
    "#    os.makedirs(dirname)\n",
    "#name = dirname + '/phi'+str(phio)+'run'+str(run)+'.csv'\n",
    "#filename = open(name,'w')\n",
    "#np.savetxt(filename,np.column_stack((tt,msd)),delimiter=',',fmt='%s')\n",
    "#filename.close()\n",
    "#print 'saving to ',name\n"
   ]
  },
  {
   "cell_type": "code",
   "execution_count": 2,
   "metadata": {
    "collapsed": false
   },
   "outputs": [
    {
     "name": "stdout",
     "output_type": "stream",
     "text": [
      "L=0.0626657068658,rm=0.005,Dt=1,tmol=5.00E-05,duration=10.0,simdt=5e-08\n"
     ]
    }
   ],
   "source": [
    "norun = 1\n",
    "for run in range(norun):\n",
    "    msd = singlerun(run)\n",
    "    if (run==0):\n",
    "        MSD = msd\n",
    "    else: \n",
    "        MSD+=msd\n",
    "MSD /= norun"
   ]
  },
  {
   "cell_type": "code",
   "execution_count": 8,
   "metadata": {
    "collapsed": false
   },
   "outputs": [
    {
     "data": {
      "text/plain": [
       "[<matplotlib.lines.Line2D at 0x7f35f0596290>]"
      ]
     },
     "execution_count": 8,
     "metadata": {},
     "output_type": "execute_result"
    },
    {
     "data": {
      "image/png": "[encoded data removed]",
      "text/plain": [
       "<matplotlib.figure.Figure at 0x7f35ce069f10>"
      ]
     },
     "metadata": {},
     "output_type": "display_data"
    }
   ],
   "source": [
    "MSD = msd\n",
    "dct = MSD[1:]/tt[1:]/4./Dt\n",
    "%matplotlib inline\n",
    "import matplotlib.pyplot as plt\n",
    "plt.loglog(tt,MSD,'.')\n",
    "plt.plot(tt,4.*Dt*np.array(tt))"
   ]
  },
  {
   "cell_type": "code",
   "execution_count": 9,
   "metadata": {
    "collapsed": false
   },
   "outputs": [
    {
     "data": {
      "text/plain": [
       "(0.2, 1.1)"
      ]
     },
     "execution_count": 9,
     "metadata": {},
     "output_type": "execute_result"
    },
    {
     "data": {
      "image/png": "[encoded data removed]",
      "text/plain": [
       "<matplotlib.figure.Figure at 0x7f35f05b4650>"
      ]
     },
     "metadata": {},
     "output_type": "display_data"
    }
   ],
   "source": [
    "plt.semilogx(tt[1:],dct,'.')\n",
    "plt.ylim(0.2,1.1)"
   ]
  },
  {
   "cell_type": "code",
   "execution_count": 6,
   "metadata": {
    "collapsed": false
   },
   "outputs": [
    {
     "data": {
      "text/plain": [
       "[<matplotlib.lines.Line2D at 0x7f397cb47490>]"
      ]
     },
     "execution_count": 6,
     "metadata": {},
     "output_type": "execute_result"
    },
    {
     "data": {
      "image/png": "[encoded data removed]",
      "text/plain": [
       "<matplotlib.figure.Figure at 0x7f397cb476d0>"
      ]
     },
     "metadata": {},
     "output_type": "display_data"
    }
   ],
   "source": [
    "msd = MSD/norun\n",
    "dct = msd[1:]/tt[1:]/4./Dt\n",
    "import matplotlib.pyplot as plt\n",
    "plt.loglog(tt,msd,'.')\n",
    "#plt.semilogx(tt[1:],dct,'.')\n",
    "plt.plot(tt,4.*Dt*np.array(tt))\n"
   ]
  },
  {
   "cell_type": "code",
   "execution_count": 7,
   "metadata": {
    "collapsed": false
   },
   "outputs": [
    {
     "data": {
      "text/plain": [
       "[<matplotlib.lines.Line2D at 0x7f397c5f3590>]"
      ]
     },
     "execution_count": 7,
     "metadata": {},
     "output_type": "execute_result"
    },
    {
     "data": {
      "image/png": "[encoded data removed]",
      "text/plain": [
       "<matplotlib.figure.Figure at 0x7f397cc0a150>"
      ]
     },
     "metadata": {},
     "output_type": "display_data"
    }
   ],
   "source": [
    "msd = MSD/norun\n",
    "dct = msd[1:]/tt[1:]/4./Dt\n",
    "import matplotlib.pyplot as plt\n",
    "#plt.loglog(tt,msd,'.')\n",
    "plt.semilogx(tt[1:],dct,'.')\n",
    "#plt.plot(tt,4.*Dt*np.array(tt))"
   ]
  },
  {
   "cell_type": "code",
   "execution_count": null,
   "metadata": {
    "collapsed": true
   },
   "outputs": [],
   "source": [
    "data=obs.data()\n",
    "leng = np.array(data).shape[1]\n",
    "msd=np.zeros(leng,float) #zeros array for initiation of sum of squared displacement\n",
    "for i in range(Nt):\n",
    "     msd += np.array(\n",
    "     [np.linalg.norm(np.array(tuple(pos)) - np.array(tuple(data[i][0]))) ** 2\n",
    "          for pos in data[i]]) \n",
    "\n",
    "msd = msd/Nt\n",
    "t=np.arange(0,dur,simdt)\n",
    "name = 'data/BDphi'+str(phio)+'/phi'+str(phio)+'run'+str(run)+'.csv'\n",
    "filename = open(name,'w')\n",
    "np.savetxt(filename,np.column_stack((t,msd)),delimiter=',',fmt='%s')\n",
    "filename.close()\n",
    "print 'saving to ',name"
   ]
  },
  {
   "cell_type": "code",
   "execution_count": 13,
   "metadata": {
    "collapsed": false
   },
   "outputs": [
    {
     "name": "stdout",
     "output_type": "stream",
     "text": [
      "2303\n",
      "47\n",
      "200\n"
     ]
    }
   ],
   "source": [
    "#M = max(3, int(min(cbrt(N), L / max(diameter))))\n",
    "print Nall\n",
    "print int((Nall)**(1./2))\n",
    "print int(L/rm)"
   ]
  },
  {
   "cell_type": "code",
   "execution_count": 15,
   "metadata": {
    "collapsed": false
   },
   "outputs": [],
   "source": [
    "\n",
    "Deff = msd[1:]/t[1:]/4/Dt\n",
    "plt.plot(t,msd)\n",
    "plt.plot(t,4*Dt*t,'g-')  #theoretical line\n",
    "plt.xlabel(\"time\")\n",
    "plt.ylabel(\"msd\")\n",
    "plt.show()"
   ]
  },
  {
   "cell_type": "code",
   "execution_count": 3,
   "metadata": {
    "collapsed": false
   },
   "outputs": [
    {
     "name": "stdout",
     "output_type": "stream",
     "text": [
      "0.748632071987\n"
     ]
    }
   ],
   "source": [
    "plt.loglog(t[1:],Deff)\n",
    "plt.xlabel(\"time\")\n",
    "plt.ylabel(\"D/Do\")\n",
    "print np.mean(Deff[-10:])\n",
    "plt.show()"
   ]
  },
  {
   "cell_type": "code",
   "execution_count": 9,
   "metadata": {
    "collapsed": false
   },
   "outputs": [],
   "source": [
    "#viz.plot_world(w)"
   ]
  },
  {
   "cell_type": "code",
   "execution_count": 7,
   "metadata": {
    "collapsed": false
   },
   "outputs": [
    {
     "name": "stdout",
     "output_type": "stream",
     "text": [
      "[ 0.31446205  0.31451613  0.3146622   0.3142563   0.31506291  0.31394816\n",
      "  0.31434592  0.31380255  0.31425508  0.31323333]\n"
     ]
    }
   ],
   "source": [
    "print Deff[-10:]"
   ]
  },
  {
   "cell_type": "code",
   "execution_count": 11,
   "metadata": {
    "collapsed": false
   },
   "outputs": [],
   "source": [
    "p = w.list_particles(Species(\"M\"))"
   ]
  },
  {
   "cell_type": "code",
   "execution_count": 13,
   "metadata": {
    "collapsed": false
   },
   "outputs": [
    {
     "name": "stdout",
     "output_type": "stream",
     "text": [
      "186528\n"
     ]
    }
   ],
   "source": [
    "print len(p)+186+74611"
   ]
  },
  {
   "cell_type": "code",
   "execution_count": 6,
   "metadata": {
    "collapsed": false
   },
   "outputs": [
    {
     "name": "stdout",
     "output_type": "stream",
     "text": [
      "(3, 3, 3)\n"
     ]
    }
   ],
   "source": [
    "print tuple(Integer3(1,1,1)*3)"
   ]
  },
  {
   "cell_type": "code",
   "execution_count": 5,
   "metadata": {
    "collapsed": false
   },
   "outputs": [
    {
     "name": "stdout",
     "output_type": "stream",
     "text": [
      "run 1\n",
      "matrix size (6, 6, 6)\n",
      "phit 0.1 Nt 5\n",
      "saving to  data/BDmocphi0.1/phi0.1run1.csv\n"
     ]
    }
   ],
   "source": [
    "from ecell4 import *\n",
    "import numpy as np\n",
    "import math\n",
    "import sys\n",
    "import os\n",
    "rng = core.GSLRandomNumberGenerator()\n",
    "phit = 0.1 \n",
    "run = 1\n",
    "print 'run',run\n",
    "rm = 0.005\n",
    "Dt = 1\n",
    "dtfactor = 1e-3\n",
    "tmol = (2*rm)**2 / (2*Dt)\n",
    "Ap = math.pi*rm*rm\n",
    "Nt = 5\n",
    "At = Nt*Ap/phit\n",
    "L = At**0.5\n",
    "mat = Integer3(1,1,1)*int(L/2/rm)#max(3,int((Nall)**(1./2)))\n",
    "print 'matrix size',tuple(mat)\n",
    "print 'phit',Nt*Ap/At,'Nt',Nt\n",
    "tt = np.logspace(-8,-4,40)\n",
    "tt = np.insert(tt,0,0.)\n",
    "dur = tt[-1]#tmol*10**5\n",
    "rng.seed(run)\n",
    "w = egfrd.EGFRDWorld(Real3(L,L,L),matrix_sizes=mat,rng=rng)\n",
    "x,y,z = w.actual_lengths()\n",
    "\n",
    "with species_attributes():\n",
    "     T | {'D':str(Dt),'radius':str(rm)}\n",
    "m=get_model()\n",
    "w.bind_to(m)\n",
    "for i in range(Nt):\n",
    "     while(True):\n",
    "        (pid,p),suc = w.new_particle(Species(\"T\"),Real3(0,rng.uniform(0.0,L),rng.uniform(0.0,L)))\n",
    "        if (suc): break\n",
    "PID = [pid for pid, p in w.list_particles(Species(\"T\"))] #particle IDs\n",
    "sim = egfrd.BDSimulator(w)\n",
    "sim.set_dt(tmol*dtfactor)\n",
    "sim.initialize()\n",
    "if (run==0):\n",
    "    print 'L={},rm={},Dt={},tmol={:.2E},duration={},simdt={}'.format(L,rm,Dt,tmol,dur,sim.dt())\n",
    "simdt = sim.dt()\n",
    "obs = TimingTrajectoryObserver(tt,PID,True,tmol)\n",
    "sim.run(dur,obs)\n",
    "data=obs.data()\n",
    "msd = np.zeros(len(tt),float)\n",
    "for i in range(Nt):\n",
    "    msd += np.array(\n",
    "        [np.linalg.norm(np.array(tuple(pos)) - np.array(tuple(data[i][0]))) ** 2\n",
    "             for pos in data[i]]) \n",
    "msd = msd/Nt\n",
    "dirname = 'data/BDmocphi'+str(phit)\n",
    "if not os.path.exists(dirname):\n",
    "    os.makedirs(dirname)\n",
    "name = dirname + '/phi'+str(phit)+'run'+str(run)+'.csv'\n",
    "filename = open(name,'w')\n",
    "np.savetxt(filename,np.column_stack((tt,msd)),delimiter=',',fmt='%s')\n",
    "filename.close()\n",
    "print 'saving to ',name"
   ]
  },
  {
   "cell_type": "code",
   "execution_count": null,
   "metadata": {
    "collapsed": true
   },
   "outputs": [],
   "source": []
  }
 ],
 "metadata": {
  "anaconda-cloud": {},
  "kernelspec": {
   "display_name": "Python 2",
   "language": "python",
   "name": "python2"
  },
  "language_info": {
   "codemirror_mode": {
    "name": "ipython",
    "version": 2
   },
   "file_extension": ".py",
   "mimetype": "text/x-python",
   "name": "python",
   "nbconvert_exporter": "python",
   "pygments_lexer": "ipython2",
   "version": "2.7.10"
  }
 },
 "nbformat": 4,
 "nbformat_minor": 1
}
