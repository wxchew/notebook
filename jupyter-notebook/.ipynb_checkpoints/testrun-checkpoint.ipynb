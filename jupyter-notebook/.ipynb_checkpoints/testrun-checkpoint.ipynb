{
 "cells": [
  {
   "cell_type": "code",
   "execution_count": 1,
   "metadata": {},
   "outputs": [
    {
     "name": "stderr",
     "output_type": "stream",
     "text": [
      "DEBUG:sge:Submitted batch job 696047\n",
      "DEBUG:sge:             JOBID PARTITION     NAME     USER ST       TIME  NODES NODELIST(REASON)\n",
      "DEBUG:sge: 696046_[1-10%350]      defq sge-bxs0     chew PD       0:00      1 (Resources)\n",
      "DEBUG:sge: 696047_[1-10%350]      defq sge-eg3i     chew PD       0:00      1 (ReqNodeNotAvail, UnavailableNodes:ibc[01-08,10-28])\n",
      "DEBUG:sge:\n",
      "INFO:sge:Job 696047 must be queued, running or being transferred\n",
      "INFO:sge:Waiting for jobids [696047] to finish\n",
      "DEBUG:sge:             JOBID PARTITION     NAME     USER ST       TIME  NODES NODELIST(REASON)\n",
      "DEBUG:sge: 696046_[1-10%350]      defq sge-bxs0     chew PD       0:00      1 (Resources)\n",
      "DEBUG:sge: 696047_[1-10%350]      defq sge-eg3i     chew PD       0:00      1 (Resources)\n",
      "DEBUG:sge:\n",
      "INFO:sge:Job 696047 must be queued, running or being transferred\n",
      "INFO:sge:Waiting for jobids [696047] to finish\n",
      "DEBUG:sge:             JOBID PARTITION     NAME     USER ST       TIME  NODES NODELIST(REASON)\n",
      "DEBUG:sge: 696046_[1-10%350]      defq sge-bxs0     chew PD       0:00      1 (Resources)\n",
      "DEBUG:sge: 696047_[1-10%350]      defq sge-eg3i     chew PD       0:00      1 (Resources)\n",
      "DEBUG:sge:\n",
      "INFO:sge:Job 696047 must be queued, running or being transferred\n",
      "DEBUG:sge:b''\n"
     ]
    },
    {
     "ename": "KeyboardInterrupt",
     "evalue": "",
     "output_type": "error",
     "traceback": [
      "\u001b[0;31m---------------------------------------------------------------------------\u001b[0m",
      "\u001b[0;31mKeyboardInterrupt\u001b[0m                         Traceback (most recent call last)",
      "\u001b[0;32m<ipython-input-1-9be8aa9dc577>\u001b[0m in \u001b[0;36m<module>\u001b[0;34m()\u001b[0m\n\u001b[1;32m     79\u001b[0m \u001b[0mkaf\u001b[0m\u001b[0;34m=\u001b[0m\u001b[0;36m0.1\u001b[0m\u001b[0;34m\u001b[0m\u001b[0m\n\u001b[1;32m     80\u001b[0m \u001b[0mjobs\u001b[0m\u001b[0;34m=\u001b[0m\u001b[0;34m[\u001b[0m\u001b[0;34m{\u001b[0m\u001b[0;34m'kaf'\u001b[0m\u001b[0;34m:\u001b[0m\u001b[0mkaf\u001b[0m\u001b[0;34m,\u001b[0m\u001b[0;34m'correct'\u001b[0m\u001b[0;34m:\u001b[0m\u001b[0mcor\u001b[0m\u001b[0;34m}\u001b[0m\u001b[0;34m]\u001b[0m\u001b[0;34m\u001b[0m\u001b[0m\n\u001b[0;32m---> 81\u001b[0;31m \u001b[0mres\u001b[0m\u001b[0;34m=\u001b[0m\u001b[0mensemble\u001b[0m\u001b[0;34m.\u001b[0m\u001b[0mrun_slurm\u001b[0m\u001b[0;34m(\u001b[0m\u001b[0mwrap\u001b[0m\u001b[0;34m,\u001b[0m\u001b[0mjobs\u001b[0m\u001b[0;34m,\u001b[0m\u001b[0mn\u001b[0m\u001b[0;34m=\u001b[0m\u001b[0msimrun\u001b[0m\u001b[0;34m,\u001b[0m\u001b[0mnproc\u001b[0m\u001b[0;34m=\u001b[0m\u001b[0mnproc\u001b[0m\u001b[0;34m,\u001b[0m\u001b[0mpath\u001b[0m\u001b[0;34m=\u001b[0m\u001b[0;34m'tmp'\u001b[0m\u001b[0;34m,\u001b[0m\u001b[0mmodules\u001b[0m\u001b[0;34m=\u001b[0m\u001b[0;34m(\u001b[0m\u001b[0;34m'numpy'\u001b[0m\u001b[0;34m,\u001b[0m\u001b[0;34m'ecell4'\u001b[0m\u001b[0;34m,\u001b[0m\u001b[0;34m'math'\u001b[0m\u001b[0;34m)\u001b[0m\u001b[0;34m)\u001b[0m\u001b[0;34m[\u001b[0m\u001b[0;36m0\u001b[0m\u001b[0;34m]\u001b[0m\u001b[0;34m\u001b[0m\u001b[0m\n\u001b[0m\u001b[1;32m     82\u001b[0m \u001b[0;31m#res=ensemble.run_multiprocessing(wrap,jobs,n=simrun,nproc=nproc,modules=('numpy','ecell4','math'))[0]\u001b[0m\u001b[0;34m\u001b[0m\u001b[0;34m\u001b[0m\u001b[0m\n\u001b[1;32m     83\u001b[0m \u001b[0mprint\u001b[0m\u001b[0;34m(\u001b[0m\u001b[0;34m'finish'\u001b[0m\u001b[0;34m)\u001b[0m\u001b[0;34m\u001b[0m\u001b[0m\n",
      "\u001b[0;32m~/ecell4/build/local/lib/python3.5/site-packages/ecell-4.1.2-py3.5-linux-x86_64.egg/ecell4/extra/ensemble.py\u001b[0m in \u001b[0;36mrun_slurm\u001b[0;34m(target, jobs, n, nproc, path, delete, wait, environ, modules, **kwargs)\u001b[0m\n\u001b[1;32m    259\u001b[0m \u001b[0;34m\u001b[0m\u001b[0m\n\u001b[1;32m    260\u001b[0m     \u001b[0;31m#XXX: nproc only limits the maximum count for 'each' job, but not for the whole jobs.\u001b[0m\u001b[0;34m\u001b[0m\u001b[0;34m\u001b[0m\u001b[0m\n\u001b[0;32m--> 261\u001b[0;31m     \u001b[0mjobids\u001b[0m \u001b[0;34m=\u001b[0m \u001b[0mslurm\u001b[0m\u001b[0;34m.\u001b[0m\u001b[0mrun\u001b[0m\u001b[0;34m(\u001b[0m\u001b[0mcmds\u001b[0m\u001b[0;34m,\u001b[0m \u001b[0mn\u001b[0m\u001b[0;34m=\u001b[0m\u001b[0mn\u001b[0m\u001b[0;34m,\u001b[0m \u001b[0mpath\u001b[0m\u001b[0;34m=\u001b[0m\u001b[0mpath\u001b[0m\u001b[0;34m,\u001b[0m \u001b[0mdelete\u001b[0m\u001b[0;34m=\u001b[0m\u001b[0mdelete\u001b[0m\u001b[0;34m,\u001b[0m \u001b[0msync\u001b[0m\u001b[0;34m=\u001b[0m\u001b[0msync\u001b[0m\u001b[0;34m,\u001b[0m \u001b[0mmax_running_tasks\u001b[0m\u001b[0;34m=\u001b[0m\u001b[0mnproc\u001b[0m\u001b[0;34m,\u001b[0m \u001b[0;34m**\u001b[0m\u001b[0mkwargs\u001b[0m\u001b[0;34m)\u001b[0m\u001b[0;34m\u001b[0m\u001b[0m\n\u001b[0m\u001b[1;32m    262\u001b[0m \u001b[0;34m\u001b[0m\u001b[0m\n\u001b[1;32m    263\u001b[0m     \u001b[0;32mif\u001b[0m \u001b[0;32mnot\u001b[0m \u001b[0;34m(\u001b[0m\u001b[0msync\u001b[0m \u001b[0;34m>\u001b[0m \u001b[0;36m0\u001b[0m\u001b[0;34m)\u001b[0m\u001b[0;34m:\u001b[0m\u001b[0;34m\u001b[0m\u001b[0m\n",
      "\u001b[0;32m~/ecell4/build/local/lib/python3.5/site-packages/ecell-4.1.2-py3.5-linux-x86_64.egg/ecell4/extra/slurm.py\u001b[0m in \u001b[0;36mrun\u001b[0;34m(jobs, n, path, sync, delete, extra_args, max_running_tasks)\u001b[0m\n\u001b[1;32m     29\u001b[0m     \u001b[0;32mif\u001b[0m \u001b[0msync\u001b[0m \u001b[0;34m>\u001b[0m \u001b[0;36m0\u001b[0m\u001b[0;34m:\u001b[0m\u001b[0;34m\u001b[0m\u001b[0m\n\u001b[1;32m     30\u001b[0m         \u001b[0;32mtry\u001b[0m\u001b[0;34m:\u001b[0m\u001b[0;34m\u001b[0m\u001b[0m\n\u001b[0;32m---> 31\u001b[0;31m             \u001b[0mwait\u001b[0m\u001b[0;34m(\u001b[0m\u001b[0;34m[\u001b[0m\u001b[0mjobid\u001b[0m \u001b[0;32mfor\u001b[0m \u001b[0mjobid\u001b[0m\u001b[0;34m,\u001b[0m \u001b[0mname\u001b[0m\u001b[0;34m,\u001b[0m \u001b[0mfilename\u001b[0m \u001b[0;32min\u001b[0m \u001b[0mretval\u001b[0m\u001b[0;34m]\u001b[0m\u001b[0;34m,\u001b[0m \u001b[0msync\u001b[0m\u001b[0;34m)\u001b[0m\u001b[0;34m\u001b[0m\u001b[0m\n\u001b[0m\u001b[1;32m     32\u001b[0m         \u001b[0;32mfinally\u001b[0m\u001b[0;34m:\u001b[0m\u001b[0;34m\u001b[0m\u001b[0m\n\u001b[1;32m     33\u001b[0m             \u001b[0;32mif\u001b[0m \u001b[0mdelete\u001b[0m\u001b[0;34m:\u001b[0m\u001b[0;34m\u001b[0m\u001b[0m\n",
      "\u001b[0;32m~/ecell4/build/local/lib/python3.5/site-packages/ecell-4.1.2-py3.5-linux-x86_64.egg/ecell4/extra/slurm.py\u001b[0m in \u001b[0;36mwait\u001b[0;34m(jobids, interval)\u001b[0m\n\u001b[1;32m    185\u001b[0m \u001b[0;34m\u001b[0m\u001b[0m\n\u001b[1;32m    186\u001b[0m             \u001b[0;32mif\u001b[0m \u001b[0mdowait\u001b[0m\u001b[0;34m:\u001b[0m\u001b[0;34m\u001b[0m\u001b[0m\n\u001b[0;32m--> 187\u001b[0;31m                 \u001b[0mtime\u001b[0m\u001b[0;34m.\u001b[0m\u001b[0msleep\u001b[0m\u001b[0;34m(\u001b[0m\u001b[0minterval\u001b[0m\u001b[0;34m)\u001b[0m\u001b[0;34m\u001b[0m\u001b[0m\n\u001b[0m\u001b[1;32m    188\u001b[0m                 get_logger().info(\n\u001b[1;32m    189\u001b[0m                     \"Waiting for jobids {:s} to finish\".format(str(jobids)))\n",
      "\u001b[0;31mKeyboardInterrupt\u001b[0m: "
     ]
    }
   ],
   "source": [
    "from ecell4 import *\n",
    "%matplotlib inline\n",
    "import numpy as np\n",
    "import math\n",
    "import sys\n",
    "import os\n",
    "import matplotlib.pyplot as plt\n",
    "from ecell4.extra import ensemble\n",
    "\n",
    "def wrap(job,job_id,task_id):\n",
    "    def singlerun(kaf,run,correct):\n",
    "        import numpy as np\n",
    "        rm = 0.005\n",
    "        factor =700\n",
    "        L = factor*rm        \n",
    "        voxelr=rm       \n",
    "        if correct==True:\n",
    "            voxelr=rm*1.0208582         \n",
    "        Na=1000\n",
    "        Nb=1000\n",
    "        rng = GSLRandomNumberGenerator()\n",
    "        rng.seed(run)\n",
    "        D = 1.\n",
    "        kd= 4.0*math.pi*D\n",
    "        ka = kaf*kd\n",
    "        tm =(2*voxelr)**2/(4*D)\n",
    "        duration=1000*tm\n",
    "        H = 3*voxelr*2\n",
    "        ori = Real3(0.5*H,0,0)\n",
    "        unit0 = Real3(0,0,L)\n",
    "        unit1 = Real3(0,L,0)\n",
    "        w = spatiocyte.SpatiocyteWorld(Real3(H,L,L),voxelr)\n",
    "        size=tuple(w.calculate_shape(Real3(H,L,L),voxelr))\n",
    "        Nmv=size[1]*size[2]\n",
    "        #print('phi',(Na+Nb)/Nmv)\n",
    "\n",
    "        w.add_structure(Species('M'),PlanarSurface(ori,unit0,unit1))\n",
    "        #w = spatiocyte.SpatiocyteWorld(ones()*L,voxelr)\n",
    "        with species_attributes():\n",
    "            A |  {'D': str(0), 'radius':str(voxelr),'location':'M'}\n",
    "            B |  {'D': str(D), 'radius':str(voxelr),'location':'M'}\n",
    "\n",
    "        with reaction_rules():\n",
    "            A + B > B | ka\n",
    "\n",
    "        m2 = get_model()\n",
    "\n",
    "        w.bind_to(m2)\n",
    "        w.add_molecules(Species('A'), Na)\n",
    "        w.add_molecules(Species('B'), Nb)\n",
    "        sim = spatiocyte.SpatiocyteSimulator(w)\n",
    "        sim.initialize()\n",
    "        dt = tm\n",
    "        tlog = dt\n",
    "        tlogs=[]\n",
    "        nlog=[]    \n",
    "        while sim.t()<duration:\n",
    "            if sim.t()>=tlog:\n",
    "                tlogs.append(sim.t())\n",
    "                nlog.append(w.num_particles_exact(Species('A')))\n",
    "                tlog+=dt\n",
    "            sim.step()\n",
    "        if correct==True:\n",
    "            folder='/home/chew/outputdata/keff/2D/kfac{}_{}_{}/'.format(kaf,Na,Nb)\n",
    "            name = folder+'run'+str(run)\n",
    "            if not os.path.exists(folder):\n",
    "                os.makedirs(folder)\n",
    "        filename=open(name,'w')\n",
    "        np.savetxt(name,np.column_stack((tlogs,nlog)),delimiter=',',fmt='%s')\n",
    "        filename.close()  \n",
    "        return \n",
    "    job.update({'run':task_id})\n",
    "    out=singlerun(**job)\n",
    "    return out       \n",
    "\n",
    "simrun=10\n",
    "nproc=350\n",
    "cor=True #correction true?\n",
    "kaf=0.1\n",
    "jobs=[{'kaf':kaf,'correct':cor}]\n",
    "res=ensemble.run_slurm(wrap,jobs,n=simrun,nproc=nproc,path='tmp',modules=('numpy','ecell4','math'))[0]\n",
    "#res=ensemble.run_multiprocessing(wrap,jobs,n=simrun,nproc=nproc,modules=('numpy','ecell4','math'))[0]\n",
    "print('finish')"
   ]
  },
  {
   "cell_type": "code",
   "execution_count": 19,
   "metadata": {},
   "outputs": [
    {
     "data": {
      "text/plain": [
       "[<matplotlib.lines.Line2D at 0x7f916d31d978>]"
      ]
     },
     "execution_count": 19,
     "metadata": {},
     "output_type": "execute_result"
    },
    {
     "data": {
      "image/png": "[encoded data removed]",
      "text/plain": [
       "<matplotlib.figure.Figure at 0x7f916f440898>"
      ]
     },
     "metadata": {},
     "output_type": "display_data"
    }
   ],
   "source": [
    "plt.plot(tt,nn)"
   ]
  },
  {
   "cell_type": "code",
   "execution_count": null,
   "metadata": {},
   "outputs": [],
   "source": []
  }
 ],
 "metadata": {
  "kernelspec": {
   "display_name": "Python 3",
   "language": "python",
   "name": "python3"
  },
  "language_info": {
   "codemirror_mode": {
    "name": "ipython",
    "version": 3
   },
   "file_extension": ".py",
   "mimetype": "text/x-python",
   "name": "python",
   "nbconvert_exporter": "python",
   "pygments_lexer": "ipython3",
   "version": "3.5.2"
  }
 },
 "nbformat": 4,
 "nbformat_minor": 2
}
