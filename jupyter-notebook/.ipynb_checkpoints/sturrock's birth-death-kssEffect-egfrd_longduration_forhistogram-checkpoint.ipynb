{
 "cells": [
  {
   "cell_type": "code",
   "execution_count": null,
   "metadata": {
    "scrolled": true
   },
   "outputs": [],
   "source": [
    "from ecell4 import *\n",
    "from ecell4.extra import ensemble\n",
    "import numpy as np\n",
    "import matplotlib.pylab as plt\n",
    "%matplotlib inline\n",
    "\n",
    "duration = 10000\n",
    "L=cbrt(100)\n",
    "Ca=5.\n",
    "Cb=1.\n",
    "k0= 0.1\n",
    "\n",
    "def write(name,obs):\n",
    "    f=open(name,'w')\n",
    "    data = np.array(obs.data()).T\n",
    "    np.savetxt(name,np.column_stack([data[0],data[1]]),delimiter=',',fmt='%s')\n",
    "    f.close()        \n",
    "    print('saving into',name)        \n",
    "\n",
    "def singlerun(rm,D,solver='ode',intrinsic=False):   \n",
    "    print(solver)\n",
    "    V = L**3 \n",
    "    keff = k0/Ca/Cb\n",
    "    Nb=100\n",
    "    Na=500\n",
    "    print('Nb',Nb,'Na',Na)\n",
    "    kd = 4*np.pi*rm*2*D*2\n",
    "    ka = keff*kd/(kd-keff)\n",
    "    dt = (2*rm)**2 / (6*D)\n",
    "    M = max(int(min(cbrt(Na + Nb), L / (2 * rm))), 3)\n",
    "    assert(ka>0)\n",
    "    with species_attributes():\n",
    "        A | {'D': D, 'radius':rm  }\n",
    "        B | {'D': D, 'radius':rm  }\n",
    "\n",
    "    with reaction_rules():\n",
    "        ~A > A | k0\n",
    "        A + B >B | (ka if intrinsic else keff)\n",
    "    m = get_model()\n",
    "    w = egfrd.EGFRDWorld(Real3(L,L,L),Integer3(M,M,M))\n",
    "    w.bind_to(m)\n",
    "    w.add_molecules(Species('B'),Nb)\n",
    "    w.add_molecules(Species('A'),Na)\n",
    "    sim = egfrd.EGFRDSimulator(w)    \n",
    "    print('rm={:.3},D={:.3}'.format(rm,D))\n",
    "    print('kon={:.3},ka={:.3},kd={:.3},keff={:.3},kfactor={:.3},V={:.3}'.format(k0,ka,kd,keff,ka/kd,V))\n",
    "    obs = FixedIntervalNumberObserver(dt, ['A'])\n",
    "    sim.run(duration,obs)\n",
    "    data = np.array(obs.data()).T\n",
    "    print('mean [A]',np.mean(data[1][50:])/V)   \n",
    "    write('/home/chew/outputdata/sturrock_bd_{}_rm{:.3}_D{:.3}_L{:.3}b_dur{}'.format('egfrd',rm,D,L,duration),obs)\n",
    "    return obs\n",
    "\n",
    "for job in [[0.05,0.1]]:#[[0.02,0.02],[0.05,0.01]]:#[0.05,0.1],[0.05,0.01]]:\n",
    "    obs=singlerun(job[0],job[1],'egfrd',True)\n",
    "    #obs=singlerun(job[0],job[1],'G',False,simrun)\n",
    "\n",
    "    "
   ]
  },
  {
   "cell_type": "code",
   "execution_count": null,
   "metadata": {},
   "outputs": [],
   "source": [
    "#viz.plot_number_observer(obs4,'r.',obs2,'g.',obs3,'k-',obs5,'y-',obs6,'c-')\n",
    "viz.plot_number_observer(obs,'r.')"
   ]
  },
  {
   "cell_type": "code",
   "execution_count": 18,
   "metadata": {},
   "outputs": [
    {
     "data": {
      "text/plain": [
       "[<matplotlib.lines.Line2D at 0x7f4a6c605d68>]"
      ]
     },
     "execution_count": 18,
     "metadata": {},
     "output_type": "execute_result"
    },
    {
     "data": {
      "image/png": "[encoded data removed]",
      "text/plain": [
       "<matplotlib.figure.Figure at 0x7f4a6c523160>"
      ]
     },
     "metadata": {},
     "output_type": "display_data"
    }
   ],
   "source": [
    "data = np.array(obs.data()).T\n",
    "plt.plot(data[1][-500:],'.')"
   ]
  },
  {
   "cell_type": "code",
   "execution_count": 5,
   "metadata": {},
   "outputs": [
    {
     "data": {
      "text/plain": [
       "5.0606000000000018"
      ]
     },
     "execution_count": 5,
     "metadata": {},
     "output_type": "execute_result"
    }
   ],
   "source": [
    "np.array(obs.data()).T[1][-1]/L**3"
   ]
  },
  {
   "cell_type": "code",
   "execution_count": null,
   "metadata": {},
   "outputs": [],
   "source": [
    "5.265"
   ]
  }
 ],
 "metadata": {
  "anaconda-cloud": {},
  "kernelspec": {
   "display_name": "Python 3",
   "language": "python",
   "name": "python3"
  },
  "language_info": {
   "codemirror_mode": {
    "name": "ipython",
    "version": 3
   },
   "file_extension": ".py",
   "mimetype": "text/x-python",
   "name": "python",
   "nbconvert_exporter": "python",
   "pygments_lexer": "ipython3",
   "version": "3.5.2"
  }
 },
 "nbformat": 4,
 "nbformat_minor": 1
}
