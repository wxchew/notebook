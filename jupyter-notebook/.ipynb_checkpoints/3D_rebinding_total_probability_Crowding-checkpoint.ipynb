{
 "cells": [
  {
   "cell_type": "markdown",
   "metadata": {},
   "source": [
    "problem: without time limit, all As got absorbed eventuallty."
   ]
  },
  {
   "cell_type": "code",
   "execution_count": 7,
   "metadata": {
    "scrolled": true
   },
   "outputs": [
    {
     "name": "stdout",
     "output_type": "stream",
     "text": [
      "kaf=0.01,phic=0.1,simrun=50000,Prebtotal_theory0.0099\n",
      "50000 50000\n",
      "preb_sim 0.01006\n"
     ]
    }
   ],
   "source": [
    "from ecell4 import *\n",
    "%matplotlib inline\n",
    "import numpy as np\n",
    "import math\n",
    "import sys\n",
    "import matplotlib.pyplot as plt\n",
    "from ecell4.extra import ensemble\n",
    "\n",
    "def wrap(job,job_id,task_id):\n",
    "    def singlerun(kaf,run,phic):\n",
    "        L = 0.5\n",
    "        rm=0.005\n",
    "        voxel_radius = rm*1.021\n",
    "        D = 1.\n",
    "        kD = 4 * math.pi * (2 * rm) * D\n",
    "        ka = kD * kaf\n",
    "        dt = (4 * voxel_radius * voxel_radius) / (6 * D)    \n",
    "        step=4000#int(L/rm/4)#*10000\n",
    "        maxt=dt*step\n",
    "        rng = GSLRandomNumberGenerator()  \n",
    "        rng.seed(run)\n",
    "        Nc=0#int(phic*L**3/(4*math.pi*rm**3 /3))\n",
    "        with species_attributes():\n",
    "            C | {'D':str(D),'radius':str(voxel_radius)}\n",
    "            B | {'D':str(0),'radius':str(voxel_radius)}\n",
    "            T | {'D':str(D),'radius':str(voxel_radius)}\n",
    "        with reaction_rules():\n",
    "            T + B >B | ka     \n",
    "        m=get_model()           \n",
    "        w = spatiocyte.SpatiocyteWorld(ones() * L, voxel_radius, rng)\n",
    "        w.bind_to(m)       \n",
    "        coord1 = w.position2coordinate(ones() * L * 0.5)\n",
    "        coord2 = w.get_neighbor(coord1, 0)\n",
    "        (pidB,p),suc=w.new_particle(Species('B'),w.coordinate2position(coord1))  \n",
    "        (pidT,p),suc=w.new_particle(Species('T'),w.coordinate2position(coord2))     \n",
    "        w.add_molecules(Species('C'),Nc)\n",
    "        t= 0.0\n",
    "        sim = spatiocyte.SpatiocyteSimulator(w)\n",
    "        sim.initialize()\n",
    "        pos = tuple(p.position())\n",
    "        bound = voxel_radius*6\n",
    "        while all(bound< dim <(L-bound) for dim in pos) and t<maxt:\n",
    "            NT=w.num_particles(Species('T'))        \n",
    "            if NT==0:\n",
    "                return True\n",
    "            else:\n",
    "                (pid,p)=w.get_particle(pidT)\n",
    "                pos = tuple(p.position())\n",
    "                sim.step()\n",
    "                t = sim.t()\n",
    "        return t\n",
    "    job.update({'run':task_id})\n",
    "    out=singlerun(**job)\n",
    "    return out\n",
    "\n",
    "\n",
    "nproc=300\n",
    "phic=0.1\n",
    "kafs=[0.01]\n",
    "simrun=int(500/kafs[0])\n",
    "result=[('phic','kaf','pt','psim')]\n",
    "for kaf in kafs:\n",
    "    jobs=[{'kaf':kaf,'phic':phic}]\n",
    "    #res=ensemble.run_sge(wrap,jobs,n=simrun,nproc=nproc,path='tmp',modules=('numpy','ecell4','math'))[0]\n",
    "    #res=ensemble.run_multiprocessing(wrap,jobs,n=simrun,nproc=10,modules=('numpy','ecell4','math'))[0]\n",
    "    pt = 1./(1+1./kaf)\n",
    "    print('kaf={},phic={},simrun={},Prebtotal_theory{:.3}'.format(kaf,phic,simrun,pt))\n",
    "    print(len(res),simrun)\n",
    "    psim = float(res.count(True))/simrun\n",
    "    print('preb_sim',psim)  \n",
    "    result.append((phic,kaf,pt,psim))\n",
    "#f = open('3dcrowdingrebinding.txt','w')\n",
    "#f.write(str(result))\n",
    "#f.close()"
   ]
  },
  {
   "cell_type": "code",
   "execution_count": 6,
   "metadata": {},
   "outputs": [
    {
     "name": "stdout",
     "output_type": "stream",
     "text": [
      "0 0\n"
     ]
    },
    {
     "ename": "ZeroDivisionError",
     "evalue": "float division by zero",
     "output_type": "error",
     "traceback": [
      "\u001b[0;31m---------------------------------------------------------------------------\u001b[0m",
      "\u001b[0;31mZeroDivisionError\u001b[0m                         Traceback (most recent call last)",
      "\u001b[0;32m<ipython-input-6-8f03598a4822>\u001b[0m in \u001b[0;36m<module>\u001b[0;34m()\u001b[0m\n\u001b[1;32m     21\u001b[0m             \u001b[0;31m#print(scores)\u001b[0m\u001b[0;34m\u001b[0m\u001b[0;34m\u001b[0m\u001b[0m\n\u001b[1;32m     22\u001b[0m \u001b[0mprint\u001b[0m\u001b[0;34m(\u001b[0m\u001b[0mcnt\u001b[0m\u001b[0;34m,\u001b[0m\u001b[0mmean\u001b[0m\u001b[0;34m.\u001b[0m\u001b[0mcount\u001b[0m\u001b[0;34m(\u001b[0m\u001b[0;32mTrue\u001b[0m\u001b[0;34m)\u001b[0m\u001b[0;34m)\u001b[0m\u001b[0;34m\u001b[0m\u001b[0m\n\u001b[0;32m---> 23\u001b[0;31m \u001b[0mprint\u001b[0m\u001b[0;34m(\u001b[0m\u001b[0mmean\u001b[0m\u001b[0;34m.\u001b[0m\u001b[0mcount\u001b[0m\u001b[0;34m(\u001b[0m\u001b[0;32mTrue\u001b[0m\u001b[0;34m)\u001b[0m\u001b[0;34m/\u001b[0m\u001b[0mfloat\u001b[0m\u001b[0;34m(\u001b[0m\u001b[0mcnt\u001b[0m\u001b[0;34m)\u001b[0m\u001b[0;34m)\u001b[0m\u001b[0;34m\u001b[0m\u001b[0m\n\u001b[0m",
      "\u001b[0;31mZeroDivisionError\u001b[0m: float division by zero"
     ]
    }
   ],
   "source": [
    "import numpy as np\n",
    "import os\n",
    "import pickle\n",
    "scores = {} # scores is an empty dict already\n",
    "tmp=\"/home/chew/notebook/jupyter-notebook/tmp/\"\n",
    "namelist=np.array(os.listdir(tmp))\n",
    "cnt=0\n",
    "mean=[]\n",
    "for n in namelist:\n",
    "    if n[-6:]=='pickle': \n",
    "        target=tmp+n\n",
    "        sz=os.path.getsize(target)\n",
    "        if (sz>0):\n",
    "            cnt+=1\n",
    "            f=open(target ,\"rb\")\n",
    "            unpickler = pickle.Unpickler(f)\n",
    "            # if file is not empty scores will be equal\n",
    "            # to the value unpickled\n",
    "            scores = unpickler.load()\n",
    "            mean.append(scores)\n",
    "            #print(scores)    \n",
    "print(cnt,mean.count(True))            \n",
    "print(mean.count(True)/float(cnt)) "
   ]
  },
  {
   "cell_type": "code",
   "execution_count": 17,
   "metadata": {},
   "outputs": [
    {
     "data": {
      "text/plain": [
       "0.6957230526840726"
      ]
     },
     "execution_count": 17,
     "metadata": {},
     "output_type": "execute_result"
    }
   ],
   "source": [
    "math.pi/3/1.021**3/2**0.5\n"
   ]
  },
  {
   "cell_type": "code",
   "execution_count": 33,
   "metadata": {},
   "outputs": [
    {
     "name": "stdout",
     "output_type": "stream",
     "text": [
      "1.1355748373101953 0.8058252427184466 0.9150748689004485\n",
      "1.3123644251626898 0.6116504854368932 0.8027083377208685\n",
      "1.5780911062906722 0.41747572815533984 0.6588147336941642\n",
      "[1.0156422119409563, 0.9423646030673669, 0.8419762086218892, 0.7108568571866816]\n",
      "[1.0, 0.8562646449413975, 0.712529289882795, 0.5687939348241925]\n",
      "[0.9845986984815617, 0.9086341339161969, 0.8462582227222698, 0.8001525610588839]\n"
     ]
    }
   ],
   "source": [
    "#L=0.5,kaf=0.1\n",
    "#phic=0.0\n",
    "#kaf=0.1,phic=0.0,simrun=10000,Prebtotal_theory0.0909\n",
    "#preb_sim 0.0922\n",
    "phic=0.1\n",
    "#kaf=0.1,phic=0.1,simrun=10000,Prebtotal_theory0.0909\n",
    "#preb_sim 0.1047\n",
    "ratio=0.1047/0.0922\n",
    "print(ratio,1-phic/0.515,ratio*(1-phic/0.515))\n",
    "phic=0.2\n",
    "#kaf=0.1,phic=0.2,simrun=10000,Prebtotal_theory0.0909\n",
    "#preb_sim 0.121\n",
    "ratio=0.121/0.0922\n",
    "print(ratio,1-phic/0.515,ratio*(1-phic/0.515))\n",
    "phic=0.3\n",
    "#kaf=0.1,phic=0.3,simrun=10000,Prebtotal_theory0.0909\n",
    "#preb_sim 0.1455\n",
    "ratio=0.1455/0.0922\n",
    "print(ratio,1-phic/0.515,ratio*(1-phic/0.515)) \n",
    "kaf=0.1\n",
    "phics=[0,0.1,0.2,0.3]\n",
    "psims=[0.0922,0.1047,0.121,0.1455]\n",
    "g=[(1-p/0.515)/(1/P-1)/(kaf) for p,P in zip(phics,psims)]\n",
    "print(g)\n",
    "phils=[1.021**3 *3 *2**0.5*p/np.pi for p in phics]\n",
    "gp=[(1-p) for p in phils]\n",
    "print(gp)\n",
    "print([i/j for i,j in zip(gp,g)])"
   ]
  },
  {
   "cell_type": "code",
   "execution_count": 25,
   "metadata": {},
   "outputs": [
    {
     "data": {
      "text/plain": [
       "0.6957230526840726"
      ]
     },
     "execution_count": 25,
     "metadata": {},
     "output_type": "execute_result"
    }
   ],
   "source": [
    "math.pi/3/2**0.5/1.021**3"
   ]
  },
  {
   "cell_type": "code",
   "execution_count": 8,
   "metadata": {},
   "outputs": [
    {
     "name": "stdout",
     "output_type": "stream",
     "text": [
      "1.1880252100840336 0.9573407032715999\n",
      "0.01006 1.1729622266401591 0.9452025709818758\n"
     ]
    }
   ],
   "source": [
    "#L=0.5,kaf=0.05\n",
    "#kaf=0.05,phic=0,simrun=20000,Prebtotal_theory0.0476\n",
    "#preb_sim 0.0473\n",
    "phic=0.1\n",
    "preb_sim=0.05655\n",
    "ratio=preb_sim/0.0476\n",
    "print(ratio,ratio*(1-phic/0.515))\n",
    "\n",
    "kaf=0.01\n",
    "phic=0.1\n",
    "preb_sim=0.0118\n",
    "pt = 0.01006#1./(1+1./kaf)\n",
    "ratio=preb_sim/pt\n",
    "print(pt,ratio, ratio*(1-phic/0.515))"
   ]
  },
  {
   "cell_type": "code",
   "execution_count": null,
   "metadata": {},
   "outputs": [],
   "source": []
  },
  {
   "cell_type": "code",
   "execution_count": 53,
   "metadata": {},
   "outputs": [
    {
     "ename": "ZeroDivisionError",
     "evalue": "float division by zero",
     "output_type": "error",
     "traceback": [
      "\u001b[0;31m---------------------------------------------------------------------------\u001b[0m",
      "\u001b[0;31mZeroDivisionError\u001b[0m                         Traceback (most recent call last)",
      "\u001b[0;32m<ipython-input-53-fe9adaf4b085>\u001b[0m in \u001b[0;36m<module>\u001b[0;34m()\u001b[0m\n\u001b[1;32m      9\u001b[0m \u001b[0mboo\u001b[0m \u001b[0;34m=\u001b[0m \u001b[0mexit\u001b[0m\u001b[0;34m>\u001b[0m\u001b[0mmaxt\u001b[0m\u001b[0;34m\u001b[0m\u001b[0m\n\u001b[1;32m     10\u001b[0m \u001b[0mboo\u001b[0m \u001b[0;34m=\u001b[0m \u001b[0mnp\u001b[0m\u001b[0;34m.\u001b[0m\u001b[0mndarray\u001b[0m\u001b[0;34m.\u001b[0m\u001b[0mtolist\u001b[0m\u001b[0;34m(\u001b[0m\u001b[0mboo\u001b[0m\u001b[0;34m)\u001b[0m\u001b[0;34m\u001b[0m\u001b[0m\n\u001b[0;32m---> 11\u001b[0;31m \u001b[0mprint\u001b[0m\u001b[0;34m(\u001b[0m\u001b[0mboo\u001b[0m\u001b[0;34m.\u001b[0m\u001b[0mcount\u001b[0m\u001b[0;34m(\u001b[0m\u001b[0;32mTrue\u001b[0m\u001b[0;34m)\u001b[0m\u001b[0;34m/\u001b[0m\u001b[0mfloat\u001b[0m\u001b[0;34m(\u001b[0m\u001b[0mlen\u001b[0m\u001b[0;34m(\u001b[0m\u001b[0mexit\u001b[0m\u001b[0;34m)\u001b[0m\u001b[0;34m)\u001b[0m\u001b[0;34m)\u001b[0m\u001b[0;34m\u001b[0m\u001b[0m\n\u001b[0m",
      "\u001b[0;31mZeroDivisionError\u001b[0m: float division by zero"
     ]
    }
   ],
   "source": [
    "L=0.1\n",
    "rm=0.005\n",
    "voxel_radius = rm*1.021\n",
    "D = 1.\n",
    "dt = (4 * voxel_radius * voxel_radius) / (6 * D)    \n",
    "step=int(L/rm/4)*100\n",
    "maxt=dt*step\n",
    "exit = np.array([p for p in res if p!=True])\n",
    "boo = exit>maxt\n",
    "boo = np.ndarray.tolist(boo)\n",
    "print(boo.count(True)/float(len(exit)))\n"
   ]
  },
  {
   "cell_type": "code",
   "execution_count": 28,
   "metadata": {},
   "outputs": [
    {
     "data": {
      "text/plain": [
       "[('phic', 'kaf', 'pt', 'psim'), (0.1, 0.1, 0.09090909090909091, 0.102)]"
      ]
     },
     "execution_count": 28,
     "metadata": {},
     "output_type": "execute_result"
    }
   ],
   "source": [
    "result"
   ]
  },
  {
   "cell_type": "code",
   "execution_count": null,
   "metadata": {},
   "outputs": [],
   "source": [
    "phi=0.01\n",
    "L=1, simrun=1000\n",
    "kfac pt psim\n",
    "0.1"
   ]
  },
  {
   "cell_type": "code",
   "execution_count": 5,
   "metadata": {},
   "outputs": [
    {
     "ename": "SyntaxError",
     "evalue": "invalid syntax (<ipython-input-5-3ad89d7b69e4>, line 23)",
     "output_type": "error",
     "traceback": [
      "\u001b[0;36m  File \u001b[0;32m\"<ipython-input-5-3ad89d7b69e4>\"\u001b[0;36m, line \u001b[0;32m23\u001b[0m\n\u001b[0;31m    L=1, dur=4x\u001b[0m\n\u001b[0m              ^\u001b[0m\n\u001b[0;31mSyntaxError\u001b[0m\u001b[0;31m:\u001b[0m invalid syntax\n"
     ]
    }
   ],
   "source": [
    "L=1\n",
    "[('phic', 'kaf', 'pt', 'psim'),\n",
    " (0.001, 0.01, 0.009900990099009901, 0.01),\n",
    " (0.001, 1.0, 0.5, 0.4638),\n",
    " (0.001, 100, 0.9900990099009901, 0.9914)]\n",
    "L=4.\n",
    "[('phic', 'kaf', 'pt', 'psim'),\n",
    " (0.001, 0.01, 0.009900990099009901, 0.0122),\n",
    " (0.001, 1.0, 0.5, 0.4966),\n",
    " (0.001, 100, 0.9900990099009901, 0.9896)]\n",
    "L=1.\n",
    "[('phic', 'kaf', 'pt', 'psim'),\n",
    " (0.3, 0.01, 0.009900990099009901, 0.0126),\n",
    " (0.3, 1.0, 0.5, 0.592),\n",
    " (0.3, 100, 0.9900990099009901, 0.9952)]\n",
    "L=1.5, simrun=1000,\n",
    "(0.3,1,0.5,0.594)\n",
    "L=1, simrun=2000\n",
    "[('phic', 'kaf', 'pt', 'psim'),\n",
    " (0.3, 1.0, 0.5, 0.6025),\n",
    " (0.3, 5.0, 0.8333333333333334, 0.8755),\n",
    " (0.3, 10.0, 0.9090909090909091, 0.9305)]\n",
    "L=1, dur=4x\n",
    "[('phic', 'kaf', 'pt', 'psim'), \n",
    " (0.3, 1.0, 0.5, 0.6155)]\n",
    "L=1,dur=10x\n",
    "[('phic', 'kaf', 'pt', 'psim'), \n",
    " (0.3, 1.0, 0.5, 0.623)]\n",
    "L=1,dur=100x\n",
    "[('phic', 'kaf', 'pt', 'psim'), \n",
    " (0.3, 1.0, 0.5, 0.6365)]\n",
    "L=1,dur=100x\n",
    "0.3,0.01,0.0099,0.01435 (6kx)\n",
    "0.3,0.05,0.0476,0.083695 (6kx)\n",
    "0.3, 0.1, 0.09090909090909091, 0.1589 (6kx)\n",
    "0.3,100,0.99,0.997\n",
    "L=1,dur=1x\n",
    "0.3,0.01,0.0099, 0.0145 (10kx)\n",
    "0.3,0.03,0.0291, 0.0368 (10kx)\n",
    "L1,dur=100x\n",
    "0.3,0.01,0.0099, (10kx)\n",
    "0.3,0.03,0.0291,(10kx)"
   ]
  },
  {
   "cell_type": "code",
   "execution_count": 4,
   "metadata": {},
   "outputs": [
    {
     "data": {
      "text/plain": [
       "[<matplotlib.lines.Line2D at 0x7fbc7527c0f0>]"
      ]
     },
     "execution_count": 4,
     "metadata": {},
     "output_type": "execute_result"
    },
    {
     "data": {
      "image/png": "[encoded data removed]",
      "text/plain": [
       "<matplotlib.figure.Figure at 0x7fbc8c089be0>"
      ]
     },
     "metadata": {},
     "output_type": "display_data"
    }
   ],
   "source": [
    "simdata=np.array([[0.01,0.0145,0.0109],[0.03, 0.0368,0.0291],[0.05,0.083695,0.0476],[0.1,0.1589,0.0909],[1,0.6365,0.5],[100,0.997,0.99]])\n",
    "plt.semilogx(simdata[:,0],[x/y for x,y in zip(simdata[:,1],simdata[:,2])],'o')"
   ]
  },
  {
   "cell_type": "code",
   "execution_count": 7,
   "metadata": {},
   "outputs": [
    {
     "data": {
      "text/plain": [
       "(1.6666666666666665, 1.7161716171617163)"
      ]
     },
     "execution_count": 7,
     "metadata": {},
     "output_type": "execute_result"
    }
   ],
   "source": [
    "0.0165/0.0099,0.156/0.0909"
   ]
  },
  {
   "cell_type": "code",
   "execution_count": 6,
   "metadata": {},
   "outputs": [
    {
     "data": {
      "text/plain": [
       "[0.6094117647058823, 0.535953007899534, 0.8707999999999886]"
      ]
     },
     "execution_count": 6,
     "metadata": {},
     "output_type": "execute_result"
    }
   ],
   "source": [
    "[0.42/(1./p-1)/k for p,k in [(0.592,1.),(0.0126,0.01),(0.9952,100)]]"
   ]
  },
  {
   "cell_type": "markdown",
   "metadata": {},
   "source": [
    "with multiprocessing"
   ]
  },
  {
   "cell_type": "code",
   "execution_count": 2,
   "metadata": {},
   "outputs": [
    {
     "name": "stdout",
     "output_type": "stream",
     "text": [
      "kaf=0.01,phic=0.3,Prebtotal_theory0.0099\n",
      "preb_sim 0.0165\n",
      "kaf=100,phic=0.3,Prebtotal_theory0.99\n",
      "preb_sim 0.997\n"
     ]
    }
   ],
   "source": [
    "from ecell4 import *\n",
    "%matplotlib inline\n",
    "import numpy as np\n",
    "import math\n",
    "import sys\n",
    "import matplotlib.pyplot as plt\n",
    "from ecell4.extra import ensemble\n",
    "\n",
    "def wrap(job,job_id,task_id):\n",
    "    def singlerun(kaf,run,phic):\n",
    "        L = 1.\n",
    "        rm=0.005\n",
    "        duration=int(L/rm/4)*100\n",
    "        voxel_radius = rm*1.021\n",
    "        D = 1.\n",
    "        kD = 4 * math.pi * (2 * rm) * D\n",
    "        ka = kD * kaf\n",
    "        dt = (4 * voxel_radius * voxel_radius) / (6 * D)    \n",
    "        maxt=dt*duration\n",
    "        rng = GSLRandomNumberGenerator()  \n",
    "        rng.seed(run)\n",
    "        Nc=int(phic*L**3/(4*math.pi*rm**3 /3))\n",
    "        with species_attributes():\n",
    "            C | {'D':str(D),'radius':str(voxel_radius)}\n",
    "            B | {'D':str(0),'radius':str(voxel_radius)}\n",
    "            T | {'D':str(D),'radius':str(voxel_radius)}\n",
    "        with reaction_rules():\n",
    "            T + B >B | ka     \n",
    "        m=get_model()           \n",
    "        w = spatiocyte.SpatiocyteWorld(ones() * L, voxel_radius, rng)\n",
    "        w.bind_to(m)       \n",
    "        coord1 = w.position2coordinate(ones() * L * 0.5)\n",
    "        coord2 = w.get_neighbor(coord1, 0)\n",
    "        (pidB,p),suc=w.new_particle(Species('B'),w.coordinate2position(coord1))  \n",
    "        (pidT,p),suc=w.new_particle(Species('T'),w.coordinate2position(coord2))     \n",
    "        w.add_molecules(Species('C'),Nc)\n",
    "        t= 0.0\n",
    "        sim = spatiocyte.SpatiocyteSimulator(w)\n",
    "        sim.initialize()\n",
    "        pos = tuple(p.position())\n",
    "        while all(0<= dim <L for dim in pos) and t<maxt:\n",
    "            NT=w.num_particles(Species('T'))        \n",
    "            if NT==0:\n",
    "                return True\n",
    "            else:\n",
    "                (pid,p)=w.get_particle(pidT)\n",
    "                pos = tuple(p.position())\n",
    "                sim.step()\n",
    "                t = sim.t()\n",
    "        return False    \n",
    "    job.update({'run':task_id})\n",
    "    out=singlerun(**job)\n",
    "    return out\n",
    "\n",
    "simrun=2000\n",
    "nproc=70\n",
    "phic=0.3\n",
    "kafs=[0.01,100]\n",
    "result=[('phic','kaf','pt','psim')]\n",
    "for kaf in kafs:\n",
    "    jobs=[{'kaf':kaf,'phic':phic}]\n",
    "    res=ensemble.run_multiprocessing(wrap,jobs,n=simrun,nproc=nproc,modules=('numpy','ecell4','math'))[0]\n",
    "    #res=ensemble.run_sge(wrap,jobs,n=simrun,nproc=nproc,path='tmp',modules=('numpy','ecell4','math'))[0]\n",
    "    pt = 1./(1+1./kaf)\n",
    "    print('kaf={},phic={},Prebtotal_theory{:.3}'.format(kaf,phic,pt))\n",
    "    psim = float(res.count(True))/len(res)\n",
    "    print('preb_sim',psim)  \n",
    "    result.append((phic,kaf,pt,psim))\n"
   ]
  },
  {
   "cell_type": "code",
   "execution_count": 3,
   "metadata": {},
   "outputs": [
    {
     "data": {
      "text/plain": [
       "0.9900990099009901"
      ]
     },
     "execution_count": 3,
     "metadata": {},
     "output_type": "execute_result"
    }
   ],
   "source": [
    "1./(1+1./100)"
   ]
  },
  {
   "cell_type": "code",
   "execution_count": null,
   "metadata": {},
   "outputs": [],
   "source": [
    "L,t,p\n",
    "1,1e5,0.4\n",
    "1,1e6,0.4\n",
    "2,1e5,0.46\n",
    "2,1e4,0.46\n",
    "2,1e2,0.44\n",
    "4,1e2,0.5"
   ]
  },
  {
   "cell_type": "code",
   "execution_count": null,
   "metadata": {},
   "outputs": [],
   "source": [
    "from ecell4 import *\n",
    "import numpy as np\n",
    "%matplotlib inline\n",
    "import math\n",
    "import sys\n",
    "import matplotlib.pyplot as plt\n",
    "from ecell4.extra import ensemble\n",
    "import time\n",
    "\n",
    "def singlerun(kaf,run,phic):\n",
    "    rm=0.005\n",
    "    L = 1.   \n",
    "    duration=1e3\n",
    "    voxel_radius = rm*1.021\n",
    "    D = 1.\n",
    "    kD = 4 * math.pi * (2 * rm) * D\n",
    "    ka = kD * kaf\n",
    "    Pacc = ka / (6 * math.sqrt(2) * D * voxel_radius)\n",
    "    if (Pacc>1):\n",
    "        alpha=1./Pacc\n",
    "    else: alpha=1.\n",
    "    assert Pacc*alpha <=1\n",
    "    assert alpha  <= 1    \n",
    "    dt = (4 * voxel_radius * voxel_radius) / (6 * D)    \n",
    "    maxt=dt*duration\n",
    "    rng = GSLRandomNumberGenerator()   \n",
    "    rng.seed(run)\n",
    "    Nc=int(phic*L**3/(4*math.pi*rm**3 /3))\n",
    "    \n",
    "    with species_attributes():\n",
    "        C | {'D':str(D),'radius':str(voxel_radius)}\n",
    "        T | {'D':str(0),'radius':str(voxel_radius)}\n",
    "    m=get_model()           \n",
    "    w = spatiocyte.create_spatiocyte_world_cell_list_impl(ones() * L, voxel_radius, Integer3(3, 3, 3), rng)\n",
    "    w.bind_to(m)        \n",
    "    w.add_molecules(Species('C'),Nc)\n",
    "\n",
    "    coord1 = w.position2coordinate(ones() * L * 0.5)\n",
    "    coord2 = w.get_neighbor(coord1, 0)\n",
    "    (pidT1,p),suc=w.new_particle(Species('T'),w.coordinate2position(coord2))   \n",
    "    dt = dt*alpha\n",
    "    t= 0.0\n",
    "    sim = spatiocyte.SpatiocyteSimulator(w)\n",
    "    sim.initialize()\n",
    "    sim.set_dt(dt)\n",
    "    \n",
    "    while all(0<= dim <L for dim in w.coordinate2position(coord2)) and t<maxt:\n",
    "        rnd = w.rng().uniform_int(0, 11)\n",
    "        newcoord = w.get_neighbor(coord2, rnd)          \n",
    "        if newcoord == coord1:\n",
    "            if Pacc*alpha >= w.rng().uniform(0, 1):\n",
    "                return True\n",
    "        elif alpha>=w.rng().uniform(0,1):\n",
    "            (pidT2,p),suc=w.new_particle(Species('T'),w.coordinate2position(newcoord))\n",
    "            if suc:\n",
    "                coord2 = newcoord\n",
    "                w.remove_particle(pidT1)   \n",
    "                pidT1=pidT2\n",
    "        sim.step()\n",
    "        t = sim.t()\n",
    "    assert(w.num_particles(Species('T'))==1)\n",
    "    return False\n",
    "\n",
    "def wrap(job,job_id,task_id):\n",
    "    job.update({'run':task_id})\n",
    "    out=singlerun(**job)\n",
    "    return out\n",
    "\n",
    "simrun=100\n",
    "nproc=70\n",
    "phic=0.01\n",
    "kafs=[1.]\n",
    "st=time.time()\n",
    "for kaf in kafs:\n",
    "    jobs=[{'kaf':kaf,'phic':phic}]\n",
    "    res=ensemble.run_multiprocessing(wrap,jobs,n=simrun,nproc=nproc)[0]\n",
    "    print('kaf={},phic={},Prebtotal_theory{:.3}'.format(kaf,phic,1./(1+1./kaf)))\n",
    "    print('preb_sim',float(res.count(True))/len(res))    \n",
    "print(time.time()-st)\n",
    "#name='/home/chew/outputdata/LS3Dcrowd_Dt{}Dc{}phi{:.3}phit{:.3}Nt{}rm{:.3}L{}'.format(Dt,Dc,phi,phit,Nt,rv,L)\n",
    "#f=open(name,'w')\n",
    "#np.savetxt(name,np.column_stack([tt,msd]),delimiter=',')\n",
    "#f.close()    "
   ]
  },
  {
   "cell_type": "code",
   "execution_count": 7,
   "metadata": {},
   "outputs": [
    {
     "data": {
      "text/plain": [
       "[0.1592356687898089, 0.39808917197452226]"
      ]
     },
     "execution_count": 7,
     "metadata": {},
     "output_type": "execute_result"
    }
   ],
   "source": [
    "r=0.0025\n",
    "D=[0.06,4]\n",
    "kd=4*3.14*r*2*D[1]\n",
    "ka=[0.04,0.1]\n",
    "[k/kd for k in ka]"
   ]
  },
  {
   "cell_type": "code",
   "execution_count": null,
   "metadata": {},
   "outputs": [],
   "source": []
  }
 ],
 "metadata": {
  "anaconda-cloud": {},
  "kernelspec": {
   "display_name": "Python 3",
   "language": "python",
   "name": "python3"
  },
  "language_info": {
   "codemirror_mode": {
    "name": "ipython",
    "version": 3
   },
   "file_extension": ".py",
   "mimetype": "text/x-python",
   "name": "python",
   "nbconvert_exporter": "python",
   "pygments_lexer": "ipython3",
   "version": "3.5.2"
  }
 },
 "nbformat": 4,
 "nbformat_minor": 1
}
