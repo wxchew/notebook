{
 "cells": [
  {
   "cell_type": "code",
   "execution_count": 2,
   "metadata": {
    "scrolled": false
   },
   "outputs": [
    {
     "name": "stderr",
     "output_type": "stream",
     "text": [
      "DEBUG:sge:Submitted batch job 695382\n",
      "DEBUG:sge:             JOBID PARTITION     NAME     USER ST       TIME  NODES NODELIST(REASON)\n",
      "DEBUG:sge:    695382_[1%350]      defq sge-3xcr     chew PD       0:00      1 (None)\n",
      "DEBUG:sge:\n",
      "INFO:sge:Job 695382 must be queued, running or being transferred\n",
      "INFO:sge:Waiting for jobids [695382] to finish\n",
      "DEBUG:sge:             JOBID PARTITION     NAME     USER ST       TIME  NODES NODELIST(REASON)\n",
      "DEBUG:sge:          695382_1      defq sge-3xcr     chew  R       0:09      1 ibc01\n",
      "DEBUG:sge:\n",
      "INFO:sge:Job 695382 must be queued, running or being transferred\n",
      "INFO:sge:Waiting for jobids [695382] to finish\n",
      "DEBUG:sge:             JOBID PARTITION     NAME     USER ST       TIME  NODES NODELIST(REASON)\n",
      "DEBUG:sge:\n"
     ]
    },
    {
     "name": "stdout",
     "output_type": "stream",
     "text": [
      "finish\n"
     ]
    }
   ],
   "source": [
    "from ecell4 import *\n",
    "%matplotlib inline\n",
    "import numpy as np\n",
    "import math\n",
    "import sys\n",
    "import os\n",
    "import matplotlib.pyplot as plt\n",
    "from ecell4.extra import ensemble\n",
    "\n",
    "def wrap(job,job_id,task_id):\n",
    "    def singlerun(kaf,run,correct):\n",
    "        import numpy as np\n",
    "        duration=0.05\n",
    "        rm = 0.005\n",
    "        factor =700\n",
    "        \n",
    "        L = factor*rm        \n",
    "        voxelr=rm       \n",
    "        if correct==True:\n",
    "            voxelr=rm*1.0208582         \n",
    "        Na=4000\n",
    "        Nb=4000\n",
    "        #run+=30000\n",
    "        rng = GSLRandomNumberGenerator()\n",
    "        rng.seed(run)\n",
    "        D = 1.\n",
    "        kd= 4.0*math.pi*D*2*rm\n",
    "        ka = kaf*kd\n",
    "        kon = (ka*kd)/(ka+kd)\n",
    "        tm =(2*voxelr)**2/(6*D)\n",
    "\n",
    "        w = spatiocyte.SpatiocyteWorld(ones()*L,voxelr)\n",
    "        with species_attributes():\n",
    "            A |  {'D': str(0), 'radius':str(voxelr)}\n",
    "            B |  {'D': str(D), 'radius':str(voxelr)}\n",
    "\n",
    "        with reaction_rules():\n",
    "            A + B > B | ka\n",
    "\n",
    "        m2 = get_model()\n",
    "\n",
    "        w = spatiocyte.SpatiocyteWorld(ones()*L,voxelr,rng)\n",
    "        w.bind_to(m2)\n",
    "        w.add_molecules(Species('A'), Na)\n",
    "        w.add_molecules(Species('B'), Nb)\n",
    "        sim = spatiocyte.SpatiocyteSimulator(w)\n",
    "        sim.initialize()\n",
    "        dt = tm\n",
    "        tlog = dt\n",
    "        tlogs=[]\n",
    "        nlog=[]    \n",
    "        while sim.t()<duration:\n",
    "            if sim.t()>=tlog:\n",
    "                tlogs.append(sim.t())\n",
    "                nlog.append(w.num_particles_exact(Species('A')))\n",
    "                tlog+=dt\n",
    "            sim.step()\n",
    "        if correct==True:\n",
    "            folder='/home/chew/outputdata/keffc/kfac{}_{}_{}_{}/'.format(kaf,factor,Na,Nb)\n",
    "            name = folder+'run'+str(run)\n",
    "            if not os.path.exists(folder):\n",
    "                os.makedirs(folder)\n",
    "        filename=open(name,'w')\n",
    "        np.savetxt(name,np.column_stack((tlogs,nlog)),delimiter=',',fmt='%s')\n",
    "        filename.close()  \n",
    "        return\n",
    "    job.update({'run':task_id})\n",
    "    out=singlerun(**job)\n",
    "\n",
    "    return out    \n",
    "        \n",
    "simrun=1\n",
    "nproc=350\n",
    "kafs=[2]\n",
    "cor=True #correction true?\n",
    "for kaf in kafs:\n",
    "    jobs=[{'kaf':kaf,'correct':cor}]\n",
    "    res=ensemble.run_slurm(wrap,jobs,n=simrun,nproc=nproc,path='tmp',modules=('numpy','ecell4','math'))[0]\n",
    "    #res=ensemble.run_multiprocessing(wrap,jobs,n=simrun,nproc=nproc,modules=('numpy','ecell4','math'))[0]\n",
    "print('finish')"
   ]
  }
 ],
 "metadata": {
  "anaconda-cloud": {},
  "kernelspec": {
   "display_name": "Python 3",
   "language": "python",
   "name": "python3"
  },
  "language_info": {
   "codemirror_mode": {
    "name": "ipython",
    "version": 3
   },
   "file_extension": ".py",
   "mimetype": "text/x-python",
   "name": "python",
   "nbconvert_exporter": "python",
   "pygments_lexer": "ipython3",
   "version": "3.5.2"
  }
 },
 "nbformat": 4,
 "nbformat_minor": 1
}
