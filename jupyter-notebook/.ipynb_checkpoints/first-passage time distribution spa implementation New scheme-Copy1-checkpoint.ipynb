{
 "cells": [
  {
   "cell_type": "code",
   "execution_count": 1,
   "metadata": {},
   "outputs": [],
   "source": [
    "from ecell4 import *\n",
    "import math\n",
    "%matplotlib inline\n",
    "import numpy as np\n",
    "import matplotlib.pyplot as plt\n",
    "rng = GSLRandomNumberGenerator()\n",
    "import scipy.special"
   ]
  },
  {
   "cell_type": "code",
   "execution_count": 2,
   "metadata": {},
   "outputs": [
    {
     "name": "stdout",
     "output_type": "stream",
     "text": [
      "1.256\n",
      "tmol 1.66666666667e-06 0.00416666666667 2500.0\n",
      "pacc 2.96042039057\n",
      "totalpreb 0.5\n",
      "alpha 0.337789863624\n"
     ]
    }
   ],
   "source": [
    "voxelr = 0.005\n",
    "L = 1.\n",
    "V=L**3\n",
    "Da = 10.\n",
    "Db = 0.\n",
    "kD = 4*3.14*2*voxelr*Da\n",
    "print kD\n",
    "ka = 1*kD\n",
    "tmol = 2*voxelr*voxelr/3./Da\n",
    "tb = (0.5*0.5*L*L)/6./Da #time to boundary\n",
    "print 'tmol',tmol,tb,tb/tmol\n",
    "pacc = ka/6./(2**0.5)/Da/voxelr\n",
    "P = 1. #must be less then one\n",
    "print 'pacc',pacc\n",
    "totalpreb = 1./(1+kD/ka)\n",
    "print 'totalpreb',totalpreb\n",
    "alpha = 1./pacc\n",
    "print 'alpha',alpha\n",
    "#prebt = (1+math.exp(tmol)*(scipy.special.erf(math.sqrt(tmol))-1))/(1+kD/ka)\n",
    "#print prebt"
   ]
  },
  {
   "cell_type": "code",
   "execution_count": 110,
   "metadata": {},
   "outputs": [
    {
     "name": "stdout",
     "output_type": "stream",
     "text": [
      "20.1666666667\n",
      "0.478636363636\n"
     ]
    }
   ],
   "source": [
    "print tmol/((voxelr*2)**2 /Da/(1+ka/kD)**2)\n",
    "print 0.5265*totalpreb"
   ]
  },
  {
   "cell_type": "code",
   "execution_count": 111,
   "metadata": {},
   "outputs": [
    {
     "data": {
      "text/plain": [
       "0.5"
      ]
     },
     "execution_count": 111,
     "metadata": {},
     "output_type": "execute_result"
    }
   ],
   "source": [
    "0.205"
   ]
  },
  {
   "cell_type": "code",
   "execution_count": 3,
   "metadata": {},
   "outputs": [
    {
     "name": "stdout",
     "output_type": "stream",
     "text": [
      "0.263 0.437269372694\n",
      "5.46148356213e-06 2.8987814937e-06\n"
     ]
    }
   ],
   "source": [
    "prebt =0.263#0.982#0.797#0.263# before tmol\n",
    "lamda = -np.log(1-prebt)/tmol\n",
    "postm =(totalpreb-prebt)/0.542#0.3942#0.263# after tmol\n",
    "lamda2 = -np.log(1-postm)/tmol\n",
    "print prebt,postm\n",
    "print 1./lamda,1./lamda2"
   ]
  },
  {
   "cell_type": "code",
   "execution_count": 7,
   "metadata": {
    "collapsed": true
   },
   "outputs": [],
   "source": [
    "def create_model_spa(Da,Db,voxelr,k): \n",
    "    with species_attributes():\n",
    "        A | {'D': str(Da), 'radius':str(voxelr)}        \n",
    "    return get_model()"
   ]
  },
  {
   "cell_type": "code",
   "execution_count": 8,
   "metadata": {},
   "outputs": [],
   "source": [
    "NN2 = [701911, 701912, 701913 ,714355 ,714356 ,714457 ,714458 ,714459 ,714558, 714561,\n",
    " 714661, 714662, 714663, 714763, 714764 ,727003, 727004, 727005, 727104, 727107,\n",
    " 727206, 727210, 727308, 727311, 727411 ,727412, 727413, 739651, 739652, 739753,\n",
    " 739755, 739854, 739857, 739957, 739959 ,740059, 740060, 752401, 752402, 752503,\n",
    " 752504, 752505, 752605, 752606]"
   ]
  },
  {
   "cell_type": "code",
   "execution_count": 77,
   "metadata": {},
   "outputs": [],
   "source": [
    "#spatio\n",
    "def rant(lamda):\n",
    "    return np.random.exponential(1/lamda)  \n",
    "\n",
    "def spa_singlerun():\n",
    "    model = create_model_spa(Da,Db,voxelr,ka)\n",
    "    w = spatiocyte.SpatiocyteWorld(Real3(L,L,L),voxelr,rng)    \n",
    "    w.bind_to(model)\n",
    "    oricord = 727208\n",
    "    oripos = w.coordinate2position(oricord)\n",
    "    #FN = w.get_neighbor(oricord,0)   \n",
    "    #FNpos = w.coordinate2position(FN)\n",
    "    #(pid,p),suc = w.new_particle(Species(\"A\"),FNpos)\n",
    "    #print np.linalg.norm(np.array(Apos)-np.array(tuple(ori)))    \n",
    "    #print np.linalg.norm(np.array(tuple(FNpos))-np.array(tuple(ori)))\n",
    "    #dt = rant(lamda)\n",
    "    #w.remove_particle(pid)\n",
    "    nnid = np.random.randint(0,44,1)[0]\n",
    "    Apos = w.coordinate2position(NN2[nnid])\n",
    "    (pid,p),suc = w.new_particle(Species(\"A\"),Apos)     \n",
    "    sim = spatiocyte.SpatiocyteSimulator(w)\n",
    "    sim.initialize()    \n",
    "    duration = tb    \n",
    "    while sim.t() < duration:\n",
    "        #dt = rant()\n",
    "        #if (sim.t()==0):\n",
    "            #if (dt<tmol):\n",
    "            #    return dt\n",
    "            #else:\n",
    "                       \n",
    "        sim.step()\n",
    "        pid,Apos1 = w.get_particle(pid)\n",
    "        dist = np.array(tuple(Apos1.position()))-np.array(tuple(oripos))\n",
    "        length = np.linalg.norm(dist)\n",
    "        #diff = abs(length-2*voxelr   )\n",
    "        #print length\n",
    "        if (length<=0.011):# and (dt<tmol):\n",
    "            #dt = rant(lamda2)\n",
    "            draw = np.random.randint(0,12,1)[0]           \n",
    "            #return sim.t()+dt\n",
    "            if draw==0:#(dt<tmol):\n",
    "                #print 'neighbor'\n",
    "                return sim.t()\n",
    "            else:\n",
    "                w.remove_particle(pid)\n",
    "                nnid = np.random.randint(0,44,1)[0]\n",
    "                Apos = w.coordinate2position(NN2[nnid])\n",
    "                (pid,p),suc = w.new_particle(Species(\"A\"),Apos)             \n",
    "        elif (length>0.5*L):\n",
    "            break\n",
    "    return 0\n",
    "\n",
    "def spa_2NN():\n",
    "    model = create_model_spa(Da,Db,voxelr,ka)\n",
    "    w = spatiocyte.SpatiocyteWorld(Real3(L,L,L),voxelr,rng)    \n",
    "    w.bind_to(model)\n",
    "    (pid,p),suc = w.new_particle(Species(\"A\"),Real3(L*0.5,L*0.5,L*0.5))\n",
    "    coord = w.position2coordinate(p.position())\n",
    "    #print coord\n",
    "    oripos = tuple(w.coordinate2position(coord))\n",
    "    sim = spatiocyte.SpatiocyteSimulator(w)\n",
    "    sim.initialize()    \n",
    "    duration = tmol\n",
    "    w.remove_particle(pid)\n",
    "    nnid = np.random.randint(0,44,1)[0]\n",
    "    Apos = w.coordinate2position(NN2[nnid])\n",
    "    (pid,p),suc = w.new_particle(Species(\"A\"),Apos)\n",
    "    #print np.linalg.norm(np.array(Apos)-np.array(tuple(ori)))    \n",
    "    #print np.linalg.norm(np.array(tuple(FNpos))-np.array(tuple(ori)))\n",
    "    while sim.t() < duration:\n",
    "        #dt = rant()\n",
    "        sim.step()\n",
    "        #if sim.t()==0: sim.step()\n",
    "        pid,Apos1 = w.get_particle(pid)\n",
    "        dist = np.array(tuple(Apos1.position()))-np.array(oripos)\n",
    "        leng = np.linalg.norm(dist)\n",
    "        #length = np.linalg.norm(dist)\n",
    "        #diff = abs(length-2*voxelr   )\n",
    "        #print leng\n",
    "        #print 'leng',leng\n",
    "        if (leng<=0.011):# and (dt<tmol):\n",
    "            #print 'neighbor'\n",
    "            return sim.t()#+dt\n",
    "        elif (leng>0.5*L):\n",
    "            break\n",
    "\n",
    "    return 0\n"
   ]
  },
  {
   "cell_type": "code",
   "execution_count": 78,
   "metadata": {},
   "outputs": [],
   "source": [
    "#normal\n",
    "rebtime =[]\n",
    "#rng.seed(0)\n",
    "trial = 10000\n",
    "for i in range(trial):\n",
    "    suc = spa_singlerun()\n",
    "    if (suc!=0):\n",
    "        rebtime.append(suc)\n",
    "        #print i,suc"
   ]
  },
  {
   "cell_type": "code",
   "execution_count": 79,
   "metadata": {
    "scrolled": false
   },
   "outputs": [
    {
     "name": "stdout",
     "output_type": "stream",
     "text": [
      "1.66666666667e-06 0.00416666666667\n",
      "0.0979\n",
      "0.0\n",
      "0.0979\n"
     ]
    }
   ],
   "source": [
    "rebtime = np.array(rebtime)\n",
    "print min(rebtime),max(rebtime)\n",
    "print float(len(rebtime))/trial\n",
    "print float(len(rebtime[rebtime<tmol]))/trial\n",
    "print float(len(rebtime[rebtime>=tmol]))/trial"
   ]
  },
  {
   "cell_type": "code",
   "execution_count": 169,
   "metadata": {
    "scrolled": true
   },
   "outputs": [
    {
     "name": "stdout",
     "output_type": "stream",
     "text": [
      "0.527\n"
     ]
    },
    {
     "data": {
      "image/png": "[encoded data removed]",
      "text/plain": [
       "<matplotlib.figure.Figure at 0x7fae3055aa90>"
      ]
     },
     "metadata": {},
     "output_type": "display_data"
    }
   ],
   "source": [
    "hist, bin_edges = np.histogram(rebtime,bins=np.logspace(np.log10(min(rebtime)),np.log10(max(rebtime)),30))\n",
    "tt = 0.5*(bin_edges[:-1]+bin_edges[1:])\n",
    "binwid = -(bin_edges[:-1]-bin_edges[1:])\n",
    "ft = np.array([float(h)/trial/b for h,b in zip(hist,binwid)])\n",
    "plt.loglog(tt,ft,'.')\n",
    "z = lambda x: 1e-3*(x**-1.5) #t^(-0.5)\n",
    "#w = lambda x: 0.1*(x**-0.5) #t^(-0.5)\n",
    "plt.plot(np.logspace(-6,-3,50),z(np.logspace(-6,-3,50)),label='p ~ t^-1.5')\n",
    "#plt.plot(np.logspace(-6,1,50),w(np.logspace(-6,1,50)),'r',label='p ~ t^-0.5')\n",
    "prange = np.logspace(1,6,10)\n",
    "plt.plot([tmol]*len(prange),prange,'c')\n",
    "plt.xlabel('step')\n",
    "plt.ylabel('first return prob density')\n",
    "totalsum = sum(ft*binwid)\n",
    "print totalsum"
   ]
  },
  {
   "cell_type": "code",
   "execution_count": 44,
   "metadata": {},
   "outputs": [
    {
     "name": "stdout",
     "output_type": "stream",
     "text": [
      "33841.2820553\n"
     ]
    }
   ],
   "source": [
    "a = 1.\n",
    "R = 0.005\n",
    "l = 2*R\n",
    "ip1 = 1./1.393\n",
    "B = (1-ip1)/(1-(1-a)*(1-ip1))\n",
    "C = 2*a*l*(1-a*B)/math.pi\n",
    "factor = (1./(1-C/R) -1)/4/math.pi/R/R\n",
    "print factor"
   ]
  },
  {
   "cell_type": "code",
   "execution_count": 40,
   "metadata": {},
   "outputs": [
    {
     "data": {
      "text/plain": [
       "0.2821249102656138"
      ]
     },
     "execution_count": 40,
     "metadata": {},
     "output_type": "execute_result"
    }
   ],
   "source": [
    "1-1./1.393"
   ]
  },
  {
   "cell_type": "code",
   "execution_count": 43,
   "metadata": {},
   "outputs": [
    {
     "data": {
      "text/plain": [
       "0.9996268656716417"
      ]
     },
     "execution_count": 43,
     "metadata": {},
     "output_type": "execute_result"
    }
   ],
   "source": [
    "1./(1./2679 +1)"
   ]
  },
  {
   "cell_type": "code",
   "execution_count": 22,
   "metadata": {},
   "outputs": [
    {
     "name": "stdout",
     "output_type": "stream",
     "text": [
      "0\n",
      "1\n",
      "2\n"
     ]
    }
   ],
   "source": [
    "suc=False\n",
    "r=[False,False,True,False]\n",
    "i=0\n",
    "while (suc==False):\n",
    "    print i\n",
    "    suc=r[i]\n",
    "    i+=1"
   ]
  },
  {
   "cell_type": "code",
   "execution_count": 57,
   "metadata": {},
   "outputs": [
    {
     "data": {
      "text/plain": [
       "0.2138"
      ]
     },
     "execution_count": 57,
     "metadata": {},
     "output_type": "execute_result"
    }
   ],
   "source": [
    "0.5-(0.5724*0.5)"
   ]
  },
  {
   "cell_type": "code",
   "execution_count": 66,
   "metadata": {},
   "outputs": [
    {
     "data": {
      "text/plain": [
       "0.2138"
      ]
     },
     "execution_count": 66,
     "metadata": {},
     "output_type": "execute_result"
    }
   ],
   "source": [
    "r=1.\n",
    "f = 1./r\n",
    "0.4276/(1+f)"
   ]
  },
  {
   "cell_type": "code",
   "execution_count": 68,
   "metadata": {},
   "outputs": [
    {
     "data": {
      "text/plain": [
       "0.520884"
      ]
     },
     "execution_count": 68,
     "metadata": {},
     "output_type": "execute_result"
    }
   ],
   "source": [
    "0.5724*0.91"
   ]
  },
  {
   "cell_type": "code",
   "execution_count": 50,
   "metadata": {},
   "outputs": [
    {
     "data": {
      "text/plain": [
       "0.3941740412979351"
      ]
     },
     "execution_count": 50,
     "metadata": {},
     "output_type": "execute_result"
    }
   ],
   "source": [
    "0.4276/0.5424/2"
   ]
  },
  {
   "cell_type": "code",
   "execution_count": 73,
   "metadata": {},
   "outputs": [
    {
     "data": {
      "text/plain": [
       "0.7091700000000001"
      ]
     },
     "execution_count": 73,
     "metadata": {},
     "output_type": "execute_result"
    }
   ],
   "source": [
    "2*0.385*(1-0.5*0.158)"
   ]
  },
  {
   "cell_type": "code",
   "execution_count": 82,
   "metadata": {},
   "outputs": [
    {
     "data": {
      "text/plain": [
       "2.439"
      ]
     },
     "execution_count": 82,
     "metadata": {},
     "output_type": "execute_result"
    }
   ],
   "source": [
    "0.9**2+0.9+0.9**3"
   ]
  },
  {
   "cell_type": "code",
   "execution_count": null,
   "metadata": {
    "collapsed": true
   },
   "outputs": [],
   "source": []
  }
 ],
 "metadata": {
  "kernelspec": {
   "display_name": "Python 3",
   "language": "python",
   "name": "python3"
  },
  "language_info": {
   "codemirror_mode": {
    "name": "ipython",
    "version": 3
   },
   "file_extension": ".py",
   "mimetype": "text/x-python",
   "name": "python",
   "nbconvert_exporter": "python",
   "pygments_lexer": "ipython3",
   "version": "3.5.2"
  }
 },
 "nbformat": 4,
 "nbformat_minor": 2
}
