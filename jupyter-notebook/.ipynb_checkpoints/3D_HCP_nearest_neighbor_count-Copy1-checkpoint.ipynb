{
 "cells": [
  {
   "cell_type": "code",
   "execution_count": null,
   "metadata": {},
   "outputs": [],
   "source": [
    "from ecell4 import *\n",
    "%matplotlib inline\n",
    "import numpy as np\n",
    "import math\n",
    "import sys\n",
    "import matplotlib.pyplot as plt\n",
    "from ecell4.extra import ensemble\n",
    "\n",
    "phic=0.3\n",
    "L = 1.\n",
    "rm=0.005\n",
    "Nc=int(phic*L**3/(4*math.pi*rm**3 /3))\n",
    "voxel_radius = rm*1.021\n",
    "rng = GSLRandomNumberGenerator()  \n",
    "rng.seed(2)\n",
    "with species_attributes():\n",
    "    C | {'D':str(0),'radius':str(voxel_radius)}\n",
    "m=get_model()           \n",
    "w = spatiocyte.SpatiocyteWorld(ones() * L, voxel_radius, rng)\n",
    "w.bind_to(m)       \n",
    "(c,r,l)=w.shape()\n",
    "Nev=(c - 2) * (r - 2) * (l - 2)\n",
    "phiL=float(Nc)/Nev\n",
    "w.add_molecules(Species('C'),Nc)\n",
    "#print(Nev,L**3/4/2**0.5/voxel_radius**3)#,L**3,0.74*4*Nc*math.pi*rm**3/L**3/3/0.515)\n",
    "\n",
    "def countN(coord):\n",
    "    NNN=0\n",
    "    NNV=0\n",
    "    for i in range(12):\n",
    "        Ncoord=w.get_neighbor(coord,i)\n",
    "        x,y=w.get_voxel_at(Ncoord)\n",
    "        s=y.species().serial()\n",
    "        if s!='VACANT': \n",
    "            NNN+=1\n",
    "        else: NNV+=1\n",
    "    assert(NNN+NNV)==12\n",
    "    return NNN\n",
    "\n",
    "coordlist = [j[1].coordinate() for j in w.list_voxels_exact(Species(\"C\"))]\n",
    "Nnn=[]\n",
    "for cor in coordlist:\n",
    "    pos = w.coordinate2position(cor)\n",
    "    if (all((2*rm)<dim<(L-2*rm) for dim in pos)):\n",
    "        #print(tuple(pos))\n",
    "        Nnn.append(countN(cor))\n",
    "meanNnn=np.mean(Nnn)\n",
    "print('L{},phic{:.3},phiL{:.3}'.format(L,phic,phiL))\n",
    "print(meanNnn/12)\n"
   ]
  },
  {
   "cell_type": "code",
   "execution_count": null,
   "metadata": {},
   "outputs": [],
   "source": []
  },
  {
   "cell_type": "code",
   "execution_count": 48,
   "metadata": {},
   "outputs": [
    {
     "name": "stdout",
     "output_type": "stream",
     "text": [
      "0.005104999999999999\n",
      "2.31197662983\n",
      "1.51723466332\n",
      "1.28443146102\n",
      "1.29145569557\n",
      "1.20222784751\n",
      "1.14394676997\n",
      "1.16778411405\n",
      "1.08185755383\n",
      "1.10630248885\n",
      "1.08253489074\n",
      "1.10243012852\n",
      "1.08290282683\n",
      "1.09968847436\n",
      "1.05670700555\n",
      "1.04447112118\n",
      "1.06022040276\n",
      "1.0491658653\n",
      "1.06292649841\n",
      "1.03371545845\n"
     ]
    },
    {
     "data": {
      "image/png": "[encoded data removed]",
      "text/plain": [
       "<matplotlib.figure.Figure at 0x7f76a1f26588>"
      ]
     },
     "metadata": {},
     "output_type": "display_data"
    }
   ],
   "source": [
    "Ns=[]\n",
    "print(voxel_radius)\n",
    "for L in np.arange(0.05,1.,0.05):\n",
    "    Nt=L**3/4/2**0.5/voxel_radius**3\n",
    "    w = spatiocyte.SpatiocyteWorld(ones() * L, voxel_radius, rng)\n",
    "    (c,r,l)=w.shape()\n",
    "    N=(c - 2) * (r - 2) * (l - 2)\n",
    "    Ns.append(N)\n",
    "    plt.plot(L/voxel_radius,N/Nt,'ko')\n",
    "    plt.ylabel('Nactual/Ntheory')\n",
    "    plt.xlabel('L/rv')\n",
    "    print(N/Nt)\n"
   ]
  },
  {
   "cell_type": "code",
   "execution_count": 47,
   "metadata": {},
   "outputs": [
    {
     "data": {
      "text/plain": [
       "0.531995"
      ]
     },
     "execution_count": 47,
     "metadata": {},
     "output_type": "execute_result"
    }
   ],
   "source": [
    "0.515*1.033"
   ]
  },
  {
   "cell_type": "code",
   "execution_count": null,
   "metadata": {},
   "outputs": [],
   "source": [
    "gR=[]\n",
    "for pt in res.T:\n",
    "    x=np.array([p[0] for p in pt])\n",
    "    y=np.array([p[1] for p in pt])\n",
    "    z=np.array([p[2] for p in pt])\n",
    "    g_r, r, reference_indices=pairCorrelationFunction_3D(x, y, z, L,rm*2.5, rm/10)\n",
    "    #print(g_r[20],r[20])    \n",
    "    plt.plot(r,g_r,'.')\n",
    "    gR.append(g_r[20])\n"
   ]
  },
  {
   "cell_type": "code",
   "execution_count": null,
   "metadata": {},
   "outputs": [],
   "source": [
    "plt.figure()\n",
    "plt.semilogx(tt[1:]/dt, gR,'o-')\n",
    "plt.title('g(r=2rv), L={},phic={}'.format(L,phic))\n",
    "plt.xlabel('t')\n",
    "plt.ylabel('g(R)')\n",
    "print('mean',np.mean(gR))\n",
    "#plt.savefig(\"/home/chew/ecellwork/figure/gR_L{}phic{}.png\".format(L,phic),format='png',dpi=100)"
   ]
  },
  {
   "cell_type": "code",
   "execution_count": null,
   "metadata": {},
   "outputs": [],
   "source": []
  }
 ],
 "metadata": {
  "anaconda-cloud": {},
  "kernelspec": {
   "display_name": "Python 3",
   "language": "python",
   "name": "python3"
  },
  "language_info": {
   "codemirror_mode": {
    "name": "ipython",
    "version": 3
   },
   "file_extension": ".py",
   "mimetype": "text/x-python",
   "name": "python",
   "nbconvert_exporter": "python",
   "pygments_lexer": "ipython3",
   "version": "3.5.2"
  }
 },
 "nbformat": 4,
 "nbformat_minor": 1
}
