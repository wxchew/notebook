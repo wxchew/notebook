{
 "cells": [
  {
   "cell_type": "code",
   "execution_count": 10,
   "metadata": {
    "scrolled": true
   },
   "outputs": [
    {
     "name": "stdout",
     "output_type": "stream",
     "text": [
      "egfrd\n",
      "vol fraction 0.00031415926535897936\n",
      "rm=0.005,D=0.1\n",
      "kon=0.1,ka=0.0979,kd=0.0251,keff=0.02,kfactor=3.9,V=8.0\n",
      "mean [A] 5.1875\n",
      "egfrd\n",
      "vol fraction 0.31415926535897937\n",
      "rm=0.05,D=0.1\n",
      "kon=0.1,ka=0.0217,kd=0.251,keff=0.02,kfactor=0.0865,V=8.0\n",
      "mean [A] 5.25\n",
      "egfrd\n",
      "vol fraction 0.31415926535897937\n",
      "rm=0.05,D=0.01\n",
      "kon=0.1,ka=0.0979,kd=0.0251,keff=0.02,kfactor=3.9,V=8.0\n",
      "mean [A] 4.99142156863\n",
      "egfrd\n",
      "vol fraction 2.513274122871835\n",
      "rm=0.1,D=0.01\n",
      "kon=0.1,ka=0.0332,kd=0.0503,keff=0.02,kfactor=0.661,V=8.0\n",
      "mean [A] 4.69607843137\n",
      "egfrd\n",
      "vol fraction 2.513274122871835\n",
      "rm=0.1,D=0.1\n",
      "kon=0.1,ka=0.0208,kd=0.503,keff=0.02,kfactor=0.0414,V=8.0\n",
      "mean [A] 5.02083333333\n",
      "egfrd\n",
      "vol fraction 2.513274122871835\n",
      "rm=0.1,D=0.005\n",
      "kon=0.1,ka=0.0979,kd=0.0251,keff=0.02,kfactor=3.9,V=8.0\n",
      "mean [A] 4.7487745098\n"
     ]
    }
   ],
   "source": [
    "from ecell4 import *\n",
    "from ecell4.extra import ensemble\n",
    "import numpy as np\n",
    "import matplotlib.pylab as plt\n",
    "%matplotlib inline\n",
    "\n",
    "simrun=2#000\n",
    "duration = 1000\n",
    "nproc=70\n",
    "L=cbrt(100)\n",
    "Ca=5.\n",
    "Cb=1.\n",
    "k0= 0.1\n",
    "method='multiprocessing'\n",
    "\n",
    "def write(name,obs):\n",
    "    f=open(name,'w')\n",
    "    data = np.array(obs.data()).T\n",
    "    np.savetxt(name,np.column_stack([data[0],data[1]]),delimiter=',',fmt='%s')\n",
    "    f.close()        \n",
    "    print('saving into',name)        \n",
    "    e=open(name+'_err','w')        \n",
    "    err = np.array(obs.error()).T        \n",
    "    np.savetxt(name+'_err',np.column_stack([err[0],err[1]]),delimiter=',',fmt='%s')\n",
    "    e.close()\n",
    "    print('saving into',name+'_err')\n",
    "\n",
    "def singlerun(rm,D,solver='ode',intrinsic=False,simrun=1):   \n",
    "    print(solver)\n",
    "    V = L**3 \n",
    "    Nas=V*Ca\n",
    "    Nbs=V*Cb\n",
    "    v=4*np.pi*rm**3 /3\n",
    "    phi = (Nas+Nbs)*100*v/V\n",
    "    print('vol fraction',phi)\n",
    "    M = max(int(min(cbrt(Nas + Nbs), L / (2 * rm))), 3)\n",
    "    if solver == 'spa':\n",
    "        solver=(\"spatiocyte\", rm)\n",
    "        V = spatiocyte.SpatiocyteWorld.calculate_volume(Real3(L, L, L), rm)\n",
    "    elif solver == 'egfrd':\n",
    "        solver = ('egfrd', Integer3(M, M, M))        \n",
    "    keff = k0/Ca/Cb\n",
    "    kd = 4*np.pi*rm*2*D*2\n",
    "    ka = keff*kd/(kd-keff)\n",
    "    assert(ka>0)\n",
    "    with species_attributes():\n",
    "        A | {'D': 0, 'radius':rm}\n",
    "        #B | {'D': D, 'radius':rm}\n",
    "\n",
    "    with reaction_rules():\n",
    "        ~A > A | k0\n",
    "        #A + B >B | (ka if intrinsic else keff)\n",
    "        A > ~A | keff\n",
    "    m = get_model()\n",
    "    print('rm={:.3},D={:.3}'.format(rm,D))\n",
    "    print('kon={:.3},ka={:.3},kd={:.3},keff={:.3},kfactor={:.3},V={:.3}'.format(k0,ka,kd,keff,ka/kd,V))\n",
    "    if simrun >1    :\n",
    "        obs=ensemble.ensemble_simulations(duration,n=simrun, model=m, solver=solver,volume=ones()*L,species_list=[\"A\"],return_type='observer',nproc=nproc,method=method)#,return_type=\"observer\")\n",
    "    else:\n",
    "        obs=run_simulation(duration,model=m,return_type='observer',species_list=['A'],solver=solver,volume=ones()*L)\n",
    "    data = np.array(obs.data()).T\n",
    "    print('mean [A]',np.mean(data[1][50:])/V)   \n",
    "    #write('/home/chew/outputdata/sturrock_bd_spa_rm{:.3}_D{:.3}_L{:.3}'.format(rm,D,L),obs)\n",
    "    return obs\n",
    "\n",
    "obs1=singlerun(0.005,0.1,'egfrd',True,simrun)   \n",
    "obs2=singlerun(0.05,0.1,'egfrd',True,simrun)   \n",
    "obs3=singlerun(0.05,0.01,'egfrd',True,simrun)   \n",
    "obs4=singlerun(0.1,0.01,'egfrd',True,simrun)   \n",
    "obs5=singlerun(0.1,0.1,'egfrd',True,simrun)   \n",
    "obs6=singlerun(0.1,0.005,'egfrd',True,simrun)   \n",
    "    "
   ]
  },
  {
   "cell_type": "code",
   "execution_count": 6,
   "metadata": {},
   "outputs": [
    {
     "data": {
      "image/png": "[encoded data removed]",
      "text/plain": [
       "<matplotlib.figure.Figure at 0x7f7aa26dcb38>"
      ]
     },
     "metadata": {},
     "output_type": "display_data"
    }
   ],
   "source": [
    "viz.plot_number_observer(obs4,'r.',obs2,'g.',obs3,'k-',obs5,'y-',obs6,'c-')\n",
    "#viz.plot_number_observer(obs2,'r.')"
   ]
  },
  {
   "cell_type": "code",
   "execution_count": 15,
   "metadata": {},
   "outputs": [
    {
     "name": "stdout",
     "output_type": "stream",
     "text": [
      "rm=0.005, phi=0.000314%\n",
      "rm=0.05, phi=0.314%\n",
      "rm=0.1, phi=2.51%\n"
     ]
    }
   ],
   "source": [
    "for rm in [0.005,0.05,0.1]:\n",
    "    L=cbrt(100)\n",
    "    V = L**3 \n",
    "    Nas=V*Ca\n",
    "    Nbs=V*Cb\n",
    "    v=4*np.pi*rm**3 /3\n",
    "    phi = (Nas+Nbs)*100*v/V\n",
    "    print('rm={}, phi={:.3}%'.format(rm,phi))"
   ]
  },
  {
   "cell_type": "code",
   "execution_count": null,
   "metadata": {},
   "outputs": [],
   "source": []
  }
 ],
 "metadata": {
  "anaconda-cloud": {},
  "kernelspec": {
   "display_name": "Python 3",
   "language": "python",
   "name": "python3"
  },
  "language_info": {
   "codemirror_mode": {
    "name": "ipython",
    "version": 3
   },
   "file_extension": ".py",
   "mimetype": "text/x-python",
   "name": "python",
   "nbconvert_exporter": "python",
   "pygments_lexer": "ipython3",
   "version": "3.5.2"
  }
 },
 "nbformat": 4,
 "nbformat_minor": 1
}
