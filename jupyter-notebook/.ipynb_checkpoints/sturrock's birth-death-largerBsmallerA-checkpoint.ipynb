{
 "cells": [
  {
   "cell_type": "markdown",
   "metadata": {},
   "source": [
    "effect of larger B and smaller A on egfrd (R remains 0.01)"
   ]
  },
  {
   "cell_type": "code",
   "execution_count": null,
   "metadata": {
    "scrolled": false
   },
   "outputs": [
    {
     "name": "stdout",
     "output_type": "stream",
     "text": [
      "ode\n",
      "av=1.0,intrinsic=False\n",
      "kon=0.1,koff=0.02,kd=0.0251,keff=0.02,kfactor=3.9\n",
      "egfrd\n",
      "av=1.0,intrinsic=True\n",
      "kon=0.1,koff=0.0979,kd=0.0251,keff=0.02,kfactor=3.9\n"
     ]
    }
   ],
   "source": [
    "from ecell4 import *\n",
    "from ecell4.extra import ensemble\n",
    "import numpy as np\n",
    "import matplotlib.pylab as plt\n",
    "%matplotlib inline\n",
    "\n",
    "simrun=5000\n",
    "duration = 1000\n",
    "#rm = 0.005\n",
    "D=0.1\n",
    "Nas = 5\n",
    "nproc=None\n",
    "L=1#cbrt(10)\n",
    "k0= 0.1\n",
    "method='multiprocessing'\n",
    "\n",
    "for rm in [0.005]:\n",
    "    def write(name,obs):\n",
    "        f=open(name,'w')\n",
    "        data = np.array(obs.data()).T\n",
    "        np.savetxt(name,np.column_stack([data[0],data[1]]),delimiter=',',fmt='%s')\n",
    "        f.close()\n",
    "        print('saving into',name)\n",
    "\n",
    "    def singlerun(solver='ode',intrinsic=False,simrun=1):   \n",
    "        print(solver)\n",
    "        V = L**3 \n",
    "        M = max(int(min(cbrt(Nas), L / (2 * rm))), 3)\n",
    "        if solver=='spa':\n",
    "            solver=(\"spatiocyte\",rm)\n",
    "            V=spatiocyte.SpatiocyteWorld.calculate_volume(Real3(L,L,L),rm)\n",
    "        elif solver=='egfrd':\n",
    "            solver = ('egfrd', Integer3(M, M, M)) \n",
    "\n",
    "        kon=k0/V        \n",
    "        keff = kon*V*V/Nas\n",
    "        kd = 4*np.pi*rm*2*D*2\n",
    "        ka = keff*kd/(kd-keff)\n",
    "        assert(ka>0)\n",
    "        with species_attributes():\n",
    "            A | {'D': D, 'radius':0.0005}\n",
    "            B | {'D': D, 'radius':0.0095}\n",
    "\n",
    "        with reaction_rules():\n",
    "            ~A > A | kon\n",
    "            A + B >B | (ka if intrinsic else keff)\n",
    "        m = get_model()\n",
    "\n",
    "        print('av={:.3},intrinsic={}'.format(float(V),intrinsic))\n",
    "        print('kon={:.3},koff={:.3},kd={:.3},keff={:.3},kfactor={:.3}'.format(kon,(ka if intrinsic else keff),kd,keff,ka/kd))\n",
    "        if simrun >1    :\n",
    "            obs=ensemble.ensemble_simulations(duration,n=simrun, y0={'B':1},model=m, solver=solver,volume=ones()*L,species_list=[\"A\"],return_type='observer',nproc=nproc,method=method)#,return_type=\"observer\")\n",
    "        else:\n",
    "            obs=run_simulation(duration,model=m,y0={'B':1},return_type='observer',species_list=['A'],solver=solver,volume=ones()*L)\n",
    "        return obs\n",
    "\n",
    "\n",
    "    obs1=singlerun('ode',False,1)\n",
    "    #obs2=singlerun('spa',True,simrun)\n",
    "    obs3=singlerun('egfrd',True,simrun)\n",
    "    #write('/home/chew/outputdata/sturrock_bd_ode_rm{:.3}'.format(rm),obs1)\n",
    "    #write('/home/chew/outputdata/sturrock_bd_spa_rm{:.3}_run2'.format(rm),obs2)\n",
    "    #write('/home/chew/outputdata/sturrock_bd_egfrd_rm{:.3}_largerBsmallerA'.format(rm),obs3)"
   ]
  },
  {
   "cell_type": "code",
   "execution_count": 7,
   "metadata": {},
   "outputs": [
    {
     "data": {
      "image/png": "[encoded data removed]",
      "text/plain": [
       "<matplotlib.figure.Figure at 0x7fdc3be2ac88>"
      ]
     },
     "metadata": {},
     "output_type": "display_data"
    }
   ],
   "source": [
    "viz.plot_number_observer(obs3,'r.',obs1,'k-')"
   ]
  },
  {
   "cell_type": "code",
   "execution_count": 3,
   "metadata": {},
   "outputs": [
    {
     "ename": "NameError",
     "evalue": "name 'obs3' is not defined",
     "output_type": "error",
     "traceback": [
      "\u001b[0;31m---------------------------------------------------------------------------\u001b[0m",
      "\u001b[0;31mNameError\u001b[0m                                 Traceback (most recent call last)",
      "\u001b[0;32m<ipython-input-3-60410faf5d1f>\u001b[0m in \u001b[0;36m<module>\u001b[0;34m()\u001b[0m\n\u001b[1;32m      3\u001b[0m \u001b[0;32mimport\u001b[0m \u001b[0mnumpy\u001b[0m \u001b[0;32mas\u001b[0m \u001b[0mnp\u001b[0m\u001b[0;34m\u001b[0m\u001b[0m\n\u001b[1;32m      4\u001b[0m \u001b[0mfig\u001b[0m\u001b[0;34m=\u001b[0m\u001b[0mplt\u001b[0m\u001b[0;34m.\u001b[0m\u001b[0mfigure\u001b[0m\u001b[0;34m(\u001b[0m\u001b[0;34m)\u001b[0m\u001b[0;34m\u001b[0m\u001b[0m\n\u001b[0;32m----> 5\u001b[0;31m \u001b[0mdata3\u001b[0m \u001b[0;34m=\u001b[0m \u001b[0mnp\u001b[0m\u001b[0;34m.\u001b[0m\u001b[0marray\u001b[0m\u001b[0;34m(\u001b[0m\u001b[0mobs3\u001b[0m\u001b[0;34m.\u001b[0m\u001b[0mdata\u001b[0m\u001b[0;34m(\u001b[0m\u001b[0;34m)\u001b[0m\u001b[0;34m)\u001b[0m\u001b[0;34m.\u001b[0m\u001b[0mT\u001b[0m\u001b[0;34m\u001b[0m\u001b[0m\n\u001b[0m\u001b[1;32m      6\u001b[0m \u001b[0mplt\u001b[0m\u001b[0;34m.\u001b[0m\u001b[0mplot\u001b[0m\u001b[0;34m(\u001b[0m\u001b[0mdata3\u001b[0m\u001b[0;34m[\u001b[0m\u001b[0;36m0\u001b[0m\u001b[0;34m]\u001b[0m\u001b[0;34m,\u001b[0m \u001b[0mdata3\u001b[0m\u001b[0;34m[\u001b[0m\u001b[0;36m1\u001b[0m\u001b[0;34m]\u001b[0m\u001b[0;34m,\u001b[0m\u001b[0;34m'-'\u001b[0m\u001b[0;34m,\u001b[0m \u001b[0mlabel\u001b[0m\u001b[0;34m=\u001b[0m\u001b[0;34m'egfrd (r={})'\u001b[0m\u001b[0;34m.\u001b[0m\u001b[0mformat\u001b[0m\u001b[0;34m(\u001b[0m\u001b[0mrm\u001b[0m\u001b[0;34m)\u001b[0m\u001b[0;34m)\u001b[0m\u001b[0;34m\u001b[0m\u001b[0m\n\u001b[1;32m      7\u001b[0m \u001b[0mplt\u001b[0m\u001b[0;34m.\u001b[0m\u001b[0mlegend\u001b[0m\u001b[0;34m(\u001b[0m\u001b[0mloc\u001b[0m\u001b[0;34m=\u001b[0m\u001b[0;34m'best'\u001b[0m\u001b[0;34m,\u001b[0m\u001b[0mfontsize\u001b[0m\u001b[0;34m=\u001b[0m\u001b[0;36m20\u001b[0m\u001b[0;34m)\u001b[0m\u001b[0;34m\u001b[0m\u001b[0m\n",
      "\u001b[0;31mNameError\u001b[0m: name 'obs3' is not defined"
     ]
    },
    {
     "data": {
      "text/plain": [
       "<matplotlib.figure.Figure at 0x7fb48ad27a90>"
      ]
     },
     "metadata": {},
     "output_type": "display_data"
    }
   ],
   "source": [
    "import matplotlib.pylab as plt\n",
    "%matplotlib inline\n",
    "import numpy as np\n",
    "fig=plt.figure()\n",
    "data3 = np.array(obs3.data()).T\n",
    "plt.plot(data3[0], data3[1],'-', label='egfrd (r={})'.format(rm))\n",
    "plt.legend(loc='best',fontsize=20)\n",
    "fig.set_size_inches(15, 9)\n",
    "plt.tick_params(labelsize=20)\n",
    "s=20\n",
    "plt.xlabel('time',fontsize=s)\n",
    "plt.ylabel('number of A molecule',fontsize=s)\n",
    "#plt.title('L={},D={},kd={:3},keff={:3},ka_Spa={:3},ka_eGFRD={:3}'.format(L,D,0.126,0.02,0.025,0.024),fontsize=s)\n",
    "#plt.savefig('/home/chew/ecellwork/figure/sturrock_birth_death_1')"
   ]
  },
  {
   "cell_type": "code",
   "execution_count": 5,
   "metadata": {},
   "outputs": [
    {
     "name": "stdout",
     "output_type": "stream",
     "text": [
      "0.005\n",
      "egfrd mean 1.300952\n"
     ]
    },
    {
     "data": {
      "image/png": "[encoded data removed]",
      "text/plain": [
       "<matplotlib.figure.Figure at 0x7fb4889a3d68>"
      ]
     },
     "metadata": {},
     "output_type": "display_data"
    }
   ],
   "source": [
    "rm=0.005\n",
    "for rm in [0.005]:\n",
    "    dat1=np.genfromtxt('/home/chew/outputdata/sturrock_bd_ode_rm{}'.format(rm),delimiter=',',dtype='str')\n",
    "    #dat2=np.genfromtxt('/home/chew/outputdata/sturrock_bd_spa_rm{}'.format(rm),delimiter=',',dtype='str')\n",
    "    #dat3=np.genfromtxt('/home/chew/outputdata/sturrock_bd_egfrd_rm{}'.format(rm),delimiter=',',dtype='str')\n",
    "    dat3=np.genfromtxt('/home/chew/outputdata/sturrock_bd_egfrd_rm{}_largerBsmallerA'.format(rm),delimiter=',',dtype='str')\n",
    "    \n",
    "    fig=plt.figure()\n",
    "    plt.plot(dat1[:,0],dat1[:,1], label='ODE (r={})'.format(rm))\n",
    "    #plt.plot(dat2[:,0],dat2[:,1],'.', label='spatiocyte (r={})'.format(rm))\n",
    "    plt.plot(dat3[:,0],dat3[:,1],'.', label='egfrd (r={})'.format(rm))\n",
    "    print(rm)\n",
    "    #print('spa mean',np.mean([float(i) for i in dat2[:,1][-50:]]))\n",
    "    print('egfrd mean',np.mean([float(i) for i in dat3[:,1][-50:]]))\n",
    "    plt.tick_params(labelsize=20)\n",
    "    s=20\n",
    "    plt.legend(loc='best',fontsize=20)\n",
    "    plt.xlabel('time',fontsize=s)\n",
    "    if rm==0.005:\n",
    "        plt.title('kon=0.0601,koff=0.0383,kd=0.251,keff=0.0333,kfactor=0.153',fontsize=s)\n",
    "    plt.ylabel('number of A molecule',fontsize=s)\n",
    "    fig.set_size_inches(15, 9)"
   ]
  },
  {
   "cell_type": "code",
   "execution_count": 20,
   "metadata": {},
   "outputs": [
    {
     "name": "stdout",
     "output_type": "stream",
     "text": [
      "[ 0.      0.9088  1.6458  2.2386  2.717   3.1444  3.4504  3.7458  3.9582\n",
      "  4.1612  4.2788  4.402   4.4826  4.5398  4.6052  4.6432  4.6806  4.7116\n",
      "  4.7338  4.7698  4.76    4.768   4.752   4.7842  4.7974  4.8068  4.827\n",
      "  4.8288  4.8346  4.8144  4.8148  4.833   4.8246  4.831   4.8614  4.8338\n",
      "  4.8166  4.8102  4.824   4.8544  4.836   4.8486  4.8612  4.8748  4.8832\n",
      "  4.897   4.884   4.8596  4.8456  4.8404  4.8118  4.8366  4.83    4.8404\n",
      "  4.8122  4.8284  4.857   4.8672  4.8522  4.8892  4.8696  4.8896  4.9168\n",
      "  4.9298  4.9194  4.9186  4.9014  4.9228  4.9246  4.9246  4.9254  4.8988\n",
      "  4.8962  4.8936  4.8866  4.8916  4.8928  4.8908  4.8968  4.9094  4.915\n",
      "  4.8856  4.8358  4.865   4.8652  4.92    4.9296  4.8946  4.9174  4.886\n",
      "  4.899   4.9004  4.9022  4.9124  4.8934  4.9008  4.927   4.9238  4.8828\n",
      "  4.8584  4.8572]\n"
     ]
    },
    {
     "data": {
      "text/plain": [
       "[0.0,\n",
       " 0.9088,\n",
       " 1.6458,\n",
       " 2.2386,\n",
       " 2.717,\n",
       " 3.1444,\n",
       " 3.4504,\n",
       " 3.7458,\n",
       " 3.9582,\n",
       " 4.1612,\n",
       " 4.2788,\n",
       " 4.402,\n",
       " 4.4826,\n",
       " 4.5398,\n",
       " 4.6052,\n",
       " 4.6432,\n",
       " 4.6806,\n",
       " 4.7116,\n",
       " 4.7338,\n",
       " 4.7698,\n",
       " 4.76,\n",
       " 4.768,\n",
       " 4.752,\n",
       " 4.7842,\n",
       " 4.7974,\n",
       " 4.8068,\n",
       " 4.827,\n",
       " 4.8288,\n",
       " 4.8346,\n",
       " 4.8144,\n",
       " 4.8148,\n",
       " 4.833,\n",
       " 4.8246,\n",
       " 4.831,\n",
       " 4.8614,\n",
       " 4.8338,\n",
       " 4.8166,\n",
       " 4.8102,\n",
       " 4.824,\n",
       " 4.8544,\n",
       " 4.836,\n",
       " 4.8486,\n",
       " 4.8612,\n",
       " 4.8748,\n",
       " 4.8832,\n",
       " 4.897,\n",
       " 4.884,\n",
       " 4.8596,\n",
       " 4.8456,\n",
       " 4.8404,\n",
       " 4.8118,\n",
       " 4.8366,\n",
       " 4.83,\n",
       " 4.8404,\n",
       " 4.8122,\n",
       " 4.8284,\n",
       " 4.857,\n",
       " 4.8672,\n",
       " 4.8522,\n",
       " 4.8892,\n",
       " 4.8696,\n",
       " 4.8896,\n",
       " 4.9168,\n",
       " 4.9298,\n",
       " 4.9194,\n",
       " 4.9186,\n",
       " 4.9014,\n",
       " 4.9228,\n",
       " 4.9246,\n",
       " 4.9246,\n",
       " 4.9254,\n",
       " 4.8988,\n",
       " 4.8962,\n",
       " 4.8936,\n",
       " 4.8866,\n",
       " 4.8916,\n",
       " 4.8928,\n",
       " 4.8908,\n",
       " 4.8968,\n",
       " 4.9094,\n",
       " 4.915,\n",
       " 4.8856,\n",
       " 4.8358,\n",
       " 4.865,\n",
       " 4.8652,\n",
       " 4.92,\n",
       " 4.9296,\n",
       " 4.8946,\n",
       " 4.9174,\n",
       " 4.886,\n",
       " 4.899,\n",
       " 4.9004,\n",
       " 4.9022,\n",
       " 4.9124,\n",
       " 4.8934,\n",
       " 4.9008,\n",
       " 4.927,\n",
       " 4.9238,\n",
       " 4.8828,\n",
       " 4.8584,\n",
       " 4.8572]"
      ]
     },
     "execution_count": 20,
     "metadata": {},
     "output_type": "execute_result"
    }
   ],
   "source": [
    "print(data3[1])\n",
    "[float(i) for i in dat3[:,1]]"
   ]
  },
  {
   "cell_type": "code",
   "execution_count": 16,
   "metadata": {},
   "outputs": [
    {
     "ename": "ImportError",
     "evalue": "cannot import name 'run_multiprocessing'",
     "output_type": "error",
     "traceback": [
      "\u001b[0;31m---------------------------------------------------------------------------\u001b[0m",
      "\u001b[0;31mImportError\u001b[0m                               Traceback (most recent call last)",
      "\u001b[0;32m<ipython-input-16-98e832fae675>\u001b[0m in \u001b[0;36m<module>\u001b[0;34m()\u001b[0m\n\u001b[0;32m----> 1\u001b[0;31m \u001b[0;32mfrom\u001b[0m \u001b[0mecell4\u001b[0m\u001b[0;34m.\u001b[0m\u001b[0mextra\u001b[0m \u001b[0;32mimport\u001b[0m \u001b[0mrun_multiprocessing\u001b[0m\u001b[0;34m\u001b[0m\u001b[0m\n\u001b[0m",
      "\u001b[0;31mImportError\u001b[0m: cannot import name 'run_multiprocessing'"
     ]
    }
   ],
   "source": [
    "def simplef(x):\n",
    "    return x**10\n",
    "\n",
    "ensemble.run_multiprocessing(jobs=,n=5,nproc=5,target=simplef)"
   ]
  },
  {
   "cell_type": "code",
   "execution_count": null,
   "metadata": {},
   "outputs": [],
   "source": []
  }
 ],
 "metadata": {
  "anaconda-cloud": {},
  "kernelspec": {
   "display_name": "Python 3",
   "language": "python",
   "name": "python3"
  },
  "language_info": {
   "codemirror_mode": {
    "name": "ipython",
    "version": 3
   },
   "file_extension": ".py",
   "mimetype": "text/x-python",
   "name": "python",
   "nbconvert_exporter": "python",
   "pygments_lexer": "ipython3",
   "version": "3.5.2"
  }
 },
 "nbformat": 4,
 "nbformat_minor": 1
}
