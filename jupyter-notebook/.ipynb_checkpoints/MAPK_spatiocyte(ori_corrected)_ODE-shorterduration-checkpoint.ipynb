{
 "cells": [
  {
   "cell_type": "code",
   "execution_count": 1,
   "metadata": {},
   "outputs": [],
   "source": [
    "import math\n",
    "%matplotlib inline\n",
    "import numpy as np\n",
    "import os\n",
    "import matplotlib.pyplot as plt\n",
    "from ecell4 import *\n",
    "rng = GSLRandomNumberGenerator()\n",
    "#from ecell4.gillespie import GillespieWorld as world_type, GillespieSimulator as simulator_type"
   ]
  },
  {
   "cell_type": "code",
   "execution_count": 2,
   "metadata": {},
   "outputs": [],
   "source": [
    "@species_attributes\n",
    "def attrgen(radius, D):\n",
    "    K | {\"radius\": radius, \"D\": D}\n",
    "    Kp | {\"radius\": radius, \"D\": D}\n",
    "    Kpp | {\"radius\": radius, \"D\": D}\n",
    "    KK | {\"radius\": radius, \"D\": D}\n",
    "    PP | {\"radius\": radius, \"D\": D}\n",
    "    K_KK | {\"radius\": radius, \"D\": D}\n",
    "    Kp_KK | {\"radius\": radius, \"D\": D}\n",
    "    Kpp_PP | {\"radius\": radius, \"D\": D}\n",
    "    Kp_PP | {\"radius\": radius, \"D\": D}\n",
    "    C | {\"radius\": radius, \"D\": D}\n",
    "\n",
    "@reaction_rules\n",
    "def rulegen(kon1, koff1, kcat1, kon2, koff2, kcat2,k7):\n",
    "    (KK + K == K_KK | (kon1, koff1)\n",
    "        > Kp + KKa | kcat1)\n",
    "    (KK + Kp == Kp_KK | (kon2, koff2)\n",
    "        > Kpp + KKa | kcat2)\n",
    "    (KKa > KK | k7)\n",
    "    (Kpp + PP == Kpp_PP | (kon1, koff1)\n",
    "        > Kp + PPa | kcat1)     \n",
    "    (Kp + PP == Kp_PP | (kon2, koff2)\n",
    "        > K + PPa | kcat2)\n",
    "    (PPa > PP | k7)\n",
    "\n",
    "@reaction_rules    \n",
    "def rulegen2(kon1, koff1, kcat1, kcat2):\n",
    "    (K + KK == K_KK | (kon1, koff1)\n",
    "        > Kp_KK | kcat1\n",
    "        > Kpp + KK | kcat2)\n",
    "\n",
    "    (Kpp + PP == Kpp_PP | (kon1, koff1)\n",
    "        > Kp + PP | kcat1\n",
    "        > K + PP | kcat2)\n",
    " "
   ]
  },
  {
   "cell_type": "code",
   "execution_count": 3,
   "metadata": {},
   "outputs": [],
   "source": [
    "#rulegen(ka1, kd1, kcat1, ka2, kd2, kcat2,k7)\n",
    "ka1, kd1, kcat1 = 0.04483455086786913, 1.35, 1.5\n",
    "ka2, kd2, kcat2 = 0.09299017957780264, 1.73, 15.0\n",
    "trel = 1e-5\n",
    "k7 = math.log(2)/trel\n",
    "radius = 0.0025"
   ]
  },
  {
   "cell_type": "code",
   "execution_count": 4,
   "metadata": {},
   "outputs": [],
   "source": [
    "def run(ratio,m):\n",
    "    voxelr = 1.0208582*radius\n",
    "    w = spatiocyte.SpatiocyteWorld(Real3(1, 1, 1),voxelr,rng)\n",
    "    (c,r,l)=w.shape()\n",
    "    Nev=(c - 2) * (r - 2) * (l - 2)\n",
    "    w.bind_to(m)\n",
    "    w.add_molecules(Species(\"K\"), NKT)\n",
    "    npp = int(60./(ratio+1))\n",
    "    nkk = 60-npp\n",
    "    w.add_molecules(Species(\"KK\"), nkk)\n",
    "    w.add_molecules(Species(\"PP\"), npp)\n",
    "    Nt=nkk+npp+NKT\n",
    "    phil = 0.15*0.74/0.515\n",
    "    Nc = int(Nev*phil)-Nt\n",
    "    w.add_molecules(Species(\"C\"), Nc)\n",
    "    sim = spatiocyte.SpatiocyteSimulator(m, w)\n",
    "    obs = FixedIntervalNumberObserver(1.0, [\"KK\",\"Kpp\",\"PP\"])\n",
    "    sim.run(dur, [obs])\n",
    "    data = np.array(obs.data()).T\n",
    "    NKK = data[1]\n",
    "    NKpp = data[2]\n",
    "    NP = data[3]\n",
    "    tt = data[0]\n",
    "    return tt,NKK,NKpp,NP\n",
    "\n",
    "def run_gil(ratio,m):\n",
    "    w = ode.ODEWorld(Real3(1, 1, 1))#world_type(Real3(1, 1, 1))\n",
    "    w.bind_to(m)\n",
    "    w.add_molecules(Species(\"K\"), NKT)\n",
    "    npp = int(60./(ratio+1))\n",
    "    nkk = 60-npp\n",
    "    w.add_molecules(Species(\"KK\"), nkk)\n",
    "    w.add_molecules(Species(\"PP\"), npp)\n",
    "    sim = ode.ODESimulator(m,w)#simulator_type(m, w)\n",
    "    obs = FixedIntervalNumberObserver(1.0, [\"KK\",\"Kpp\",\"PP\"])\n",
    "    sim.run(dur, [obs])\n",
    "    data = np.array(obs.data()).T\n",
    "    NKK = data[1]\n",
    "    NKpp = data[2]\n",
    "    NP = data[3]\n",
    "    tt = data[0]\n",
    "    return tt,NKK,NKpp,NP"
   ]
  },
  {
   "cell_type": "code",
   "execution_count": null,
   "metadata": {},
   "outputs": [],
   "source": [
    "ratios = [5.]#np.logspace(-1.5,1.5,50)\n",
    "NKT = 120\n",
    "dur = 200#1000\n",
    "\n",
    "for D in [4.]:\n",
    "    m = NetworkModel()\n",
    "    voxelr = 1.0208582*radius\n",
    "    for i, sp in enumerate(attrgen(str(voxelr), str(D))):\n",
    "        #print(i, sp.serial(), sp.get_attribute(\"radius\"), sp.get_attribute(\"D\"))\n",
    "        m.add_species_attribute(sp)\n",
    "    rul = rulegen(ka1, kd1, kcat1, ka2, kd2, kcat2,k7)\n",
    "    for i, rr in enumerate(rul):\n",
    "        reactants, products, k = rr.reactants(), rr.products(), rr.k()\n",
    "        #print(i, rr.as_string())\n",
    "        m.add_reaction_rule(rr)\n",
    "    xx = []\n",
    "    yy = []    \n",
    "    for ratio in ratios:\n",
    "        tt,NKK,NKpp,NP = run(ratio,m)\n",
    "        xx.append(ratio)# np.mean(NKK[int(dur*0.5):])/np.mean(NP[int(dur*0.5):]))\n",
    "        yy.append(np.mean(NKpp[int(dur*0.5):])/NKT)\n",
    "        plotts(tt,NKK,NP,NKpp)\n",
    "    #plt.semilogx(xx,yy,'-',label=lab)\n",
    "#plt.ylim(0,1)\n",
    "#plt.xlim(0.01,100)\n",
    "#plt.legend(loc='best')\n",
    "xx,yy"
   ]
  },
  {
   "cell_type": "code",
   "execution_count": null,
   "metadata": {},
   "outputs": [],
   "source": [
    "plt.plot(tt,NKK)\n",
    "plt.plot(tt,NP)\n",
    "plt.plot(tt,NKpp)\n",
    "xx,yy"
   ]
  },
  {
   "cell_type": "code",
   "execution_count": 14,
   "metadata": {},
   "outputs": [],
   "source": [
    "ratios = np.logspace(-1.5,1.5,100)\n",
    "NKT = 120\n",
    "dur = 200#1000\n",
    "#D = 1\n",
    "xx = [[],[]]\n",
    "yy = [[],[]]  \n",
    "for cnt in range(2) :\n",
    "    if cnt==0: D = 4.\n",
    "    else: D = 0.06\n",
    "    m = NetworkModel()\n",
    "    for i, sp in enumerate(attrgen(str(radius), str(D))):\n",
    "        #print(i, sp.serial(), sp.get_attribute(\"radius\"), sp.get_attribute(\"D\"))\n",
    "        m.add_species_attribute(sp)\n",
    "    def kon(k):\n",
    "        kD = 4*3.14*2*radius*2*D\n",
    "        #k = k*(k/(k+kD))\n",
    "        return k*kD/(k+kD)\n",
    "    def koff(kd,ka):\n",
    "        return kon(ka)*kd/ka \n",
    "    if cnt==0:\n",
    "    #rul = rulegen(ka1, kd2, kcat1, ka2, kd2, kcat2,k7)\n",
    "        rul = rulegen(kon(ka1), koff(kd1,ka1), kcat1, kon(ka2), koff(kd2,ka2), kcat2,k7)    \n",
    "        lab = 'distributive'\n",
    "    else:\n",
    "        rul = rulegen2(kon(ka1), koff(kd1,ka1), kcat1, kcat2)    \n",
    "        lab = 'processive'\n",
    "    for i, rr in enumerate(rul):\n",
    "        reactants, products, k = rr.reactants(), rr.products(), rr.k()\n",
    "        #print(i, rr.as_string())\n",
    "        m.add_reaction_rule(rr)\n",
    "  \n",
    "    for ratio in ratios:\n",
    "        tt,NKK,NKpp,NP = run_gil(ratio,m)\n",
    "        xx[cnt].append(ratio)# np.mean(NKK[int(dur*0.5):])/np.mean(NP[int(dur*0.5):]))\n",
    "        yy[cnt].append(np.mean(NKpp[int(dur*0.5):])/NKT)\n",
    "        #plotts(tt,NKK,NP,NKpp)\n",
    "    #plt.semilogx(xx,yy,'.-',label=lab)\n",
    "\n"
   ]
  },
  {
   "cell_type": "code",
   "execution_count": 121,
   "metadata": {},
   "outputs": [
    {
     "name": "stdout",
     "output_type": "stream",
     "text": [
      "0.06\n",
      "gx\n",
      "4.0\n",
      "g*\n"
     ]
    },
    {
     "data": {
      "image/png": "[encoded data removed]",
      "text/plain": [
       "<matplotlib.figure.Figure at 0x7efc7f00ba10>"
      ]
     },
     "metadata": {},
     "output_type": "display_data"
    }
   ],
   "source": [
    "#plt.semilogx(xx[1],yy[1],'b-',label='Processive ODE(D=0.06)')\n",
    "plt.semilogx(xx[0],yy[0],'c--',label='Distributive ODE(D=4)')\n",
    "#plt.semilogx(0.5,0.0633,'o',label='spa,D=4,trel=1e-6')   \n",
    "#plt.semilogx(0.5,0.258,'co',label='spa,D=0.06,trel=1e-6')   \n",
    "#plotspa(\"data/mapk_D0.06/\")\n",
    "#plotspa(\"data/mapk_D4/\")\n",
    "#plotspa(\"data/mapk_sc_D0.060/\")\n",
    "plotspa(\"data/mapk_sc_D4.000/\")\n",
    "#plotspa2(\"data/mapk_D0.06/\")\n",
    "plotspa2(\"data/mapk_D4/\")\n",
    "#plt.semilogx(0.5,0.16,'ks',label='spa,D=0.06,trel=1e-3')\n",
    "#plt.semilogx(0.5,0.272,'ys',label='spa,D=0.06,trel=1e-9')\n",
    "#plt.semilogx(0.5,0.266,'bs',label='spa,D=0.06,trel=1e-5')   \n",
    "plt.ylim(0,1)\n",
    "plt.xlim(0.01,100)\n",
    "plt.xlabel('$[KK]/[P]$',fontsize=14)\n",
    "plt.ylabel('$[Kpp]/[K]_{total}$',fontsize=14)\n",
    "plt.legend(loc='best',fontsize=8)\n",
    "#plt.savefig(\"figure/mapk.png\",format='png',dpi=300)    "
   ]
  },
  {
   "cell_type": "code",
   "execution_count": 17,
   "metadata": {},
   "outputs": [],
   "source": [
    "def plotts(tt,NKK,NP,NKpp):\n",
    "    plt.plot(tt, NKK, \"r-\", label=\"KK\")\n",
    "    plt.plot(tt,NP , \"g--\", label=\"P\")\n",
    "    plt.plot(tt, NKpp, \"b:\", label=\"Kpp\")\n",
    "    plt.xlabel(\"Time\")\n",
    "    plt.ylabel(\"Number Of Molecules\")\n",
    "    #plt.xlim(data[0][0], data[0][-1])\n",
    "    plt.legend(loc=\"best\", shadow=True)\n",
    "    #plt.savefig(\"figure/MAPKmodel1.png\",format='png',dpi=100)  "
   ]
  },
  {
   "cell_type": "code",
   "execution_count": 116,
   "metadata": {},
   "outputs": [],
   "source": [
    "def plotspa(name):\n",
    "    names = os.listdir(name)\n",
    "    lst = []\n",
    "    for n in names:\n",
    "        dat = np.loadtxt(name+n)\n",
    "        lst.append(dat)\n",
    "    lst = np.sort(lst,axis=0)    \n",
    "    if float(name[14:-2])-int(float(name[14:-2]))==0:\n",
    "        nam = str(int(float(name[14:-2])))\n",
    "        c='ro'\n",
    "    else: \n",
    "        nam = str(name[14:-2])\n",
    "        c='rs'\n",
    "    plt.semilogx(lst[:,0],lst[:,1],c,label='Lattice Simulation(D='+nam+')')\n",
    "    plt.legend()\n",
    "    \n",
    "def plotspa2(name):\n",
    "    names = os.listdir(name)\n",
    "    lst = []\n",
    "    for n in names:\n",
    "        dat = np.loadtxt(name+n)\n",
    "        lst.append(dat)\n",
    "    nam= float(name[11:-1])\n",
    "    print nam\n",
    "    if nam==0.06:\n",
    "        c='gx'\n",
    "    else: \n",
    "        c='g*'\n",
    "    print c\n",
    "    lst = np.sort(lst,axis=0)    \n",
    "    plt.semilogx(lst[:,0],lst[:,1],c,label='Lattice Simulation Ori.(D='+str(nam)+')')\n",
    "    plt.legend()    "
   ]
  },
  {
   "cell_type": "code",
   "execution_count": 105,
   "metadata": {},
   "outputs": [
    {
     "name": "stdout",
     "output_type": "stream",
     "text": [
      "0.06\n",
      "rx\n"
     ]
    },
    {
     "data": {
      "image/png": "[encoded data removed]",
      "text/plain": [
       "<matplotlib.figure.Figure at 0x7efc7f8f8710>"
      ]
     },
     "metadata": {},
     "output_type": "display_data"
    }
   ],
   "source": [
    "plotspa2(\"data/mapk_D0.06/\")\n",
    "#plotspa2(\"data/mapk_D4/\")\n",
    "#plotspa(\"data/mapk_sc_D4.000/\")"
   ]
  },
  {
   "cell_type": "code",
   "execution_count": 28,
   "metadata": {},
   "outputs": [
    {
     "data": {
      "text/plain": [
       "array([[ 1,  2],\n",
       "       [ 2, 50]])"
      ]
     },
     "execution_count": 28,
     "metadata": {},
     "output_type": "execute_result"
    }
   ],
   "source": [
    "np.sort(lst,axis=0)"
   ]
  },
  {
   "cell_type": "code",
   "execution_count": 2,
   "metadata": {},
   "outputs": [
    {
     "data": {
      "text/plain": [
       "array([  0.03162278,   0.05925531,   0.11103363,   0.20805675,\n",
       "         0.38986037,   0.73052715,   1.36887451,   2.56502091,\n",
       "         4.80638086,   9.0062802 ,  16.87612476,  31.6227766 ])"
      ]
     },
     "execution_count": 2,
     "metadata": {},
     "output_type": "execute_result"
    }
   ],
   "source": [
    "import numpy as np\n",
    "np.logspace(-1.5,1.5,12)"
   ]
  },
  {
   "cell_type": "code",
   "execution_count": null,
   "metadata": {
    "collapsed": true
   },
   "outputs": [],
   "source": []
  }
 ],
 "metadata": {
  "kernelspec": {
   "display_name": "Python 3",
   "language": "python",
   "name": "python3"
  },
  "language_info": {
   "codemirror_mode": {
    "name": "ipython",
    "version": 3
   },
   "file_extension": ".py",
   "mimetype": "text/x-python",
   "name": "python",
   "nbconvert_exporter": "python",
   "pygments_lexer": "ipython3",
   "version": "3.5.2"
  }
 },
 "nbformat": 4,
 "nbformat_minor": 2
}
