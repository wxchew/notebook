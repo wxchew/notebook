{
 "cells": [
  {
   "cell_type": "code",
   "execution_count": null,
   "metadata": {
    "scrolled": true
   },
   "outputs": [
    {
     "name": "stderr",
     "output_type": "stream",
     "text": [
      "DEBUG:sge:Your job-array 946052.1-6000:1 (\"sge-fx072zsh.job\") has been submitted\n",
      "DEBUG:sge:job-ID  prior   name       user         state submit/start at     queue                          slots ja-task-ID \n",
      "DEBUG:sge:-----------------------------------------------------------------------------------------------------------------\n",
      "DEBUG:sge: 946052 0.00000 sge-fx072z chew         qw    11/27/2017 10:22:59                                    1 1-6000:1\n",
      "DEBUG:sge:\n",
      "INFO:sge:Job 946052 must be queued, running or being transferred\n",
      "INFO:sge:Waiting for jobids [946052] to finish\n",
      "DEBUG:sge:job-ID  prior   name       user         state submit/start at     queue                          slots ja-task-ID \n",
      "DEBUG:sge:-----------------------------------------------------------------------------------------------------------------\n",
      "DEBUG:sge: 946052 0.00000 sge-fx072z chew         qw    11/27/2017 10:22:59                                    1 1-6000:1\n",
      "DEBUG:sge:\n",
      "INFO:sge:Job 946052 must be queued, running or being transferred\n",
      "INFO:sge:Waiting for jobids [946052] to finish\n",
      "DEBUG:sge:job-ID  prior   name       user         state submit/start at     queue                          slots ja-task-ID \n",
      "DEBUG:sge:-----------------------------------------------------------------------------------------------------------------\n",
      "DEBUG:sge: 946052 0.00000 sge-fx072z chew         qw    11/27/2017 10:22:59                                    1 301-6000:1\n",
      "DEBUG:sge:\n",
      "INFO:sge:Job 946052 must be queued, running or being transferred\n",
      "INFO:sge:Waiting for jobids [946052] to finish\n",
      "DEBUG:sge:job-ID  prior   name       user         state submit/start at     queue                          slots ja-task-ID \n",
      "DEBUG:sge:-----------------------------------------------------------------------------------------------------------------\n",
      "DEBUG:sge: 946052 0.00000 sge-fx072z chew         qw    11/27/2017 10:22:59                                    1 301-6000:1\n",
      "DEBUG:sge:\n",
      "INFO:sge:Job 946052 must be queued, running or being transferred\n",
      "INFO:sge:Waiting for jobids [946052] to finish\n",
      "DEBUG:sge:job-ID  prior   name       user         state submit/start at     queue                          slots ja-task-ID \n",
      "DEBUG:sge:-----------------------------------------------------------------------------------------------------------------\n",
      "DEBUG:sge: 946052 0.00000 sge-fx072z chew         qw    11/27/2017 10:22:59                                    1 301-6000:1\n",
      "DEBUG:sge:\n",
      "INFO:sge:Job 946052 must be queued, running or being transferred\n"
     ]
    }
   ],
   "source": [
    "from ecell4 import *\n",
    "import numpy as np\n",
    "import math\n",
    "import sys\n",
    "from ecell4.extra import ensemble\n",
    "\n",
    "def wrap(job,job_id,task_id):\n",
    "    def singlerun(kaf,run,phic):\n",
    "        L = 1.\n",
    "        rm=0.005\n",
    "        voxel_radius = rm*1.021\n",
    "        D = 1.\n",
    "        kD = 4 * math.pi * (2 * rm) * D\n",
    "        ka = kD * kaf\n",
    "        dt = (4 * voxel_radius * voxel_radius) / (6 * D)    \n",
    "        maxt=dt\n",
    "        rng = GSLRandomNumberGenerator()  \n",
    "        rng.seed(run)\n",
    "        Nc=int(phic*L**3/(4*math.pi*rm**3 /3))\n",
    "        with species_attributes():\n",
    "            C | {'D':str(D),'radius':str(voxel_radius)}\n",
    "            B | {'D':str(0),'radius':str(voxel_radius)}\n",
    "            T | {'D':str(D),'radius':str(voxel_radius)}\n",
    "        with reaction_rules():\n",
    "            T + B >B | ka     \n",
    "        m=get_model()           \n",
    "        w = spatiocyte.SpatiocyteWorld(ones() * L, voxel_radius, rng)\n",
    "        w.bind_to(m)       \n",
    "        coord1 = w.position2coordinate(ones() * L * 0.5)\n",
    "        coord2 = w.get_neighbor(coord1, 0)\n",
    "        (pidB,p),suc=w.new_particle(Species('B'),w.coordinate2position(coord1))  \n",
    "        (pidT,p),suc=w.new_particle(Species('T'),w.coordinate2position(coord2))     \n",
    "        w.add_molecules(Species('C'),Nc)\n",
    "        t= 0.0\n",
    "        sim = spatiocyte.SpatiocyteSimulator(w)\n",
    "        sim.initialize()\n",
    "        pos = tuple(p.position())\n",
    "        while all(0<= dim <L for dim in pos) and t<maxt:\n",
    "            NT=w.num_particles(Species('T'))        \n",
    "            if NT==0:\n",
    "                return True\n",
    "            else:\n",
    "                (pid,p)=w.get_particle(pidT)\n",
    "                pos = tuple(p.position())\n",
    "                sim.step()\n",
    "                t = sim.t()\n",
    "        return False    \n",
    "    job.update({'run':task_id})\n",
    "    out=singlerun(**job)\n",
    "    return out\n",
    "\n",
    "simrun=6000\n",
    "nproc=300\n",
    "phic=0.01#0.3\n",
    "kaf=0.1\n",
    "jobs=[{'kaf':kaf,'phic':phic}]\n",
    "res=ensemble.run_sge(wrap,jobs,n=simrun,nproc=nproc,path='tmp',modules=('numpy','ecell4','math'))[0]\n"
   ]
  },
  {
   "cell_type": "code",
   "execution_count": null,
   "metadata": {},
   "outputs": [],
   "source": []
  }
 ],
 "metadata": {
  "anaconda-cloud": {},
  "kernelspec": {
   "display_name": "Python 3",
   "language": "python",
   "name": "python3"
  },
  "language_info": {
   "codemirror_mode": {
    "name": "ipython",
    "version": 3
   },
   "file_extension": ".py",
   "mimetype": "text/x-python",
   "name": "python",
   "nbconvert_exporter": "python",
   "pygments_lexer": "ipython3",
   "version": "3.5.2"
  }
 },
 "nbformat": 4,
 "nbformat_minor": 1
}
