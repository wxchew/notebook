{
 "cells": [
  {
   "cell_type": "markdown",
   "metadata": {},
   "source": [
    "with sge"
   ]
  },
  {
   "cell_type": "code",
   "execution_count": 1,
   "metadata": {
    "scrolled": true
   },
   "outputs": [
    {
     "name": "stdout",
     "output_type": "stream",
     "text": [
      "kaf=1.0,phic=0.3,Prebtotal_theory0.5\n"
     ]
    },
    {
     "ename": "NameError",
     "evalue": "name 'res' is not defined",
     "output_type": "error",
     "traceback": [
      "\u001b[0;31m---------------------------------------------------------------------------\u001b[0m",
      "\u001b[0;31mNameError\u001b[0m                                 Traceback (most recent call last)",
      "\u001b[0;32m<ipython-input-1-97a136a370b6>\u001b[0m in \u001b[0;36m<module>\u001b[0;34m()\u001b[0m\n\u001b[1;32m     63\u001b[0m     \u001b[0mpt\u001b[0m \u001b[0;34m=\u001b[0m \u001b[0;36m1.\u001b[0m\u001b[0;34m/\u001b[0m\u001b[0;34m(\u001b[0m\u001b[0;36m1\u001b[0m\u001b[0;34m+\u001b[0m\u001b[0;36m1.\u001b[0m\u001b[0;34m/\u001b[0m\u001b[0mkaf\u001b[0m\u001b[0;34m)\u001b[0m\u001b[0;34m\u001b[0m\u001b[0m\n\u001b[1;32m     64\u001b[0m     \u001b[0mprint\u001b[0m\u001b[0;34m(\u001b[0m\u001b[0;34m'kaf={},phic={},Prebtotal_theory{:.3}'\u001b[0m\u001b[0;34m.\u001b[0m\u001b[0mformat\u001b[0m\u001b[0;34m(\u001b[0m\u001b[0mkaf\u001b[0m\u001b[0;34m,\u001b[0m\u001b[0mphic\u001b[0m\u001b[0;34m,\u001b[0m\u001b[0mpt\u001b[0m\u001b[0;34m)\u001b[0m\u001b[0;34m)\u001b[0m\u001b[0;34m\u001b[0m\u001b[0m\n\u001b[0;32m---> 65\u001b[0;31m     \u001b[0mpsim\u001b[0m \u001b[0;34m=\u001b[0m \u001b[0mfloat\u001b[0m\u001b[0;34m(\u001b[0m\u001b[0mres\u001b[0m\u001b[0;34m.\u001b[0m\u001b[0mcount\u001b[0m\u001b[0;34m(\u001b[0m\u001b[0;32mTrue\u001b[0m\u001b[0;34m)\u001b[0m\u001b[0;34m)\u001b[0m\u001b[0;34m/\u001b[0m\u001b[0mlen\u001b[0m\u001b[0;34m(\u001b[0m\u001b[0mres\u001b[0m\u001b[0;34m)\u001b[0m\u001b[0;34m\u001b[0m\u001b[0m\n\u001b[0m\u001b[1;32m     66\u001b[0m     \u001b[0mprint\u001b[0m\u001b[0;34m(\u001b[0m\u001b[0;34m'preb_sim'\u001b[0m\u001b[0;34m,\u001b[0m\u001b[0mpsim\u001b[0m\u001b[0;34m)\u001b[0m\u001b[0;34m\u001b[0m\u001b[0m\n\u001b[1;32m     67\u001b[0m     \u001b[0mresult\u001b[0m\u001b[0;34m.\u001b[0m\u001b[0mappend\u001b[0m\u001b[0;34m(\u001b[0m\u001b[0;34m(\u001b[0m\u001b[0mphic\u001b[0m\u001b[0;34m,\u001b[0m\u001b[0mkaf\u001b[0m\u001b[0;34m,\u001b[0m\u001b[0mpt\u001b[0m\u001b[0;34m,\u001b[0m\u001b[0mpsim\u001b[0m\u001b[0;34m)\u001b[0m\u001b[0;34m)\u001b[0m\u001b[0;34m\u001b[0m\u001b[0m\n",
      "\u001b[0;31mNameError\u001b[0m: name 'res' is not defined"
     ]
    }
   ],
   "source": [
    "from ecell4 import *\n",
    "%matplotlib inline\n",
    "import numpy as np\n",
    "import math\n",
    "import sys\n",
    "import matplotlib.pyplot as plt\n",
    "from ecell4.extra import ensemble\n",
    "\n",
    "def wrap(job,job_id,task_id):\n",
    "    def singlerun(kaf,run,phic):\n",
    "        L = 2.\n",
    "        rm=0.005\n",
    "        duration=int(L/rm/4)*4#*2\n",
    "        voxel_radius = rm*1.021\n",
    "        D = 1.\n",
    "        kD = 4 * math.pi * (2 * rm) * D\n",
    "        ka = kD * kaf\n",
    "        dt = (4 * voxel_radius * voxel_radius) / (6 * D)    \n",
    "        maxt=dt*duration\n",
    "        rng = GSLRandomNumberGenerator()  \n",
    "        rng.seed(run)\n",
    "        Nc=int(phic*L**3/(4*math.pi*rm**3 /3))\n",
    "        with species_attributes():\n",
    "            C | {'D':str(D),'radius':str(voxel_radius)}\n",
    "            B | {'D':str(0),'radius':str(voxel_radius)}\n",
    "            T | {'D':str(D),'radius':str(voxel_radius)}\n",
    "        with reaction_rules():\n",
    "            T + B >B | ka     \n",
    "        m=get_model()           \n",
    "        w = spatiocyte.SpatiocyteWorld(ones() * L, voxel_radius, rng)\n",
    "        w.bind_to(m)       \n",
    "        coord1 = w.position2coordinate(ones() * L * 0.5)\n",
    "        coord2 = w.get_neighbor(coord1, 0)\n",
    "        (pidB,p),suc=w.new_particle(Species('B'),w.coordinate2position(coord1))  \n",
    "        (pidT,p),suc=w.new_particle(Species('T'),w.coordinate2position(coord2))     \n",
    "        w.add_molecules(Species('C'),Nc)\n",
    "        t= 0.0\n",
    "        sim = spatiocyte.SpatiocyteSimulator(w)\n",
    "        sim.initialize()\n",
    "        pos = tuple(p.position())\n",
    "        while all(0<= dim <L for dim in pos) and t<maxt:\n",
    "            NT=w.num_particles(Species('T'))        \n",
    "            if NT==0:\n",
    "                return True\n",
    "            else:\n",
    "                (pid,p)=w.get_particle(pidT)\n",
    "                pos = tuple(p.position())\n",
    "                sim.step()\n",
    "                t = sim.t()\n",
    "        return False    \n",
    "    job.update({'run':task_id})\n",
    "    out=singlerun(**job)\n",
    "    return out\n",
    "\n",
    "simrun=2000\n",
    "nproc=300\n",
    "phic=0.3\n",
    "kafs=[1.]\n",
    "result=[('phic','kaf','pt','psim')]\n",
    "for kaf in kafs:\n",
    "    jobs=[{'kaf':kaf,'phic':phic}]\n",
    "    #res=ensemble.run_sge(wrap,jobs,n=simrun,nproc=nproc,path='tmp',modules=('numpy','ecell4','math'))[0]\n",
    "    pt = 1./(1+1./kaf)\n",
    "    print('kaf={},phic={},Prebtotal_theory{:.3}'.format(kaf,phic,pt))\n",
    "    psim = float(res.count(True))/len(res)\n",
    "    print('preb_sim',psim)  \n",
    "    result.append((phic,kaf,pt,psim))\n"
   ]
  },
  {
   "cell_type": "code",
   "execution_count": 14,
   "metadata": {},
   "outputs": [
    {
     "data": {
      "text/plain": [
       "[('phic', 'kaf', 'pt', 'psim'), (0.3, 1.0, 0.5, 0.6365)]"
      ]
     },
     "execution_count": 14,
     "metadata": {},
     "output_type": "execute_result"
    }
   ],
   "source": [
    "result"
   ]
  },
  {
   "cell_type": "code",
   "execution_count": 4,
   "metadata": {},
   "outputs": [
    {
     "ename": "SyntaxError",
     "evalue": "invalid syntax (<ipython-input-4-1bb406b71b34>, line 23)",
     "output_type": "error",
     "traceback": [
      "\u001b[0;36m  File \u001b[0;32m\"<ipython-input-4-1bb406b71b34>\"\u001b[0;36m, line \u001b[0;32m23\u001b[0m\n\u001b[0;31m    L=1, dur=4x\u001b[0m\n\u001b[0m              ^\u001b[0m\n\u001b[0;31mSyntaxError\u001b[0m\u001b[0;31m:\u001b[0m invalid syntax\n"
     ]
    }
   ],
   "source": [
    "L=1\n",
    "[('phic', 'kaf', 'pt', 'psim'),\n",
    " (0.001, 0.01, 0.009900990099009901, 0.01),\n",
    " (0.001, 1.0, 0.5, 0.4638),\n",
    " (0.001, 100, 0.9900990099009901, 0.9914)]\n",
    "L=4.\n",
    "[('phic', 'kaf', 'pt', 'psim'),\n",
    " (0.001, 0.01, 0.009900990099009901, 0.0122),\n",
    " (0.001, 1.0, 0.5, 0.4966),\n",
    " (0.001, 100, 0.9900990099009901, 0.9896)]\n",
    "L=1.\n",
    "[('phic', 'kaf', 'pt', 'psim'),\n",
    " (0.3, 0.01, 0.009900990099009901, 0.0126),\n",
    " (0.3, 1.0, 0.5, 0.592),\n",
    " (0.3, 100, 0.9900990099009901, 0.9952)]\n",
    "L=1.5, simrun=1000,\n",
    "(0.3,1,0.5,0.594)\n",
    "L=1, simrun=2000\n",
    "[('phic', 'kaf', 'pt', 'psim'),\n",
    " (0.3, 1.0, 0.5, 0.6025),\n",
    " (0.3, 5.0, 0.8333333333333334, 0.8755),\n",
    " (0.3, 10.0, 0.9090909090909091, 0.9305)]\n",
    "L=1, dur=4x\n",
    "[('phic', 'kaf', 'pt', 'psim'), \n",
    " (0.3, 1.0, 0.5, 0.6155)]\n",
    "L=1,dur=10x\n",
    "[('phic', 'kaf', 'pt', 'psim'), \n",
    " (0.3, 1.0, 0.5, 0.623)]\n",
    "L=1,dur=100x\n",
    "[('phic', 'kaf', 'pt', 'psim'), \n",
    " (0.3, 1.0, 0.5, 0.6365)]\n",
    "L=1,dur=100x\n",
    "0.3,0.01,0.0099,0.0165\n",
    "0.3,100,0.99,0.997"
   ]
  },
  {
   "cell_type": "code",
   "execution_count": 8,
   "metadata": {},
   "outputs": [
    {
     "name": "stdout",
     "output_type": "stream",
     "text": [
      "0.6379345088161209\n",
      "0.5934193548387094\n",
      "0.5666956521739127\n"
     ]
    }
   ],
   "source": [
    "kf=[1,5,10]\n",
    "p=[0.603,0.876,0.931]\n",
    "for i,j in zip(kf,p):\n",
    "    print(0.42/(1./j -1)/i)"
   ]
  },
  {
   "cell_type": "code",
   "execution_count": 6,
   "metadata": {},
   "outputs": [
    {
     "data": {
      "text/plain": [
       "[0.6094117647058823, 0.535953007899534, 0.8707999999999886]"
      ]
     },
     "execution_count": 6,
     "metadata": {},
     "output_type": "execute_result"
    }
   ],
   "source": [
    "[0.42/(1./p-1)/k for p,k in [(0.592,1.),(0.0126,0.01),(0.9952,100)]]"
   ]
  },
  {
   "cell_type": "markdown",
   "metadata": {},
   "source": [
    "with multiprocessing"
   ]
  },
  {
   "cell_type": "code",
   "execution_count": 2,
   "metadata": {},
   "outputs": [
    {
     "name": "stdout",
     "output_type": "stream",
     "text": [
      "kaf=0.01,phic=0.3,Prebtotal_theory0.0099\n",
      "preb_sim 0.0165\n",
      "kaf=100,phic=0.3,Prebtotal_theory0.99\n",
      "preb_sim 0.997\n"
     ]
    }
   ],
   "source": [
    "from ecell4 import *\n",
    "%matplotlib inline\n",
    "import numpy as np\n",
    "import math\n",
    "import sys\n",
    "import matplotlib.pyplot as plt\n",
    "from ecell4.extra import ensemble\n",
    "\n",
    "def wrap(job,job_id,task_id):\n",
    "    def singlerun(kaf,run,phic):\n",
    "        L = 1.\n",
    "        rm=0.005\n",
    "        duration=int(L/rm/4)*100\n",
    "        voxel_radius = rm*1.021\n",
    "        D = 1.\n",
    "        kD = 4 * math.pi * (2 * rm) * D\n",
    "        ka = kD * kaf\n",
    "        dt = (4 * voxel_radius * voxel_radius) / (6 * D)    \n",
    "        maxt=dt*duration\n",
    "        rng = GSLRandomNumberGenerator()  \n",
    "        rng.seed(run)\n",
    "        Nc=int(phic*L**3/(4*math.pi*rm**3 /3))\n",
    "        with species_attributes():\n",
    "            C | {'D':str(D),'radius':str(voxel_radius)}\n",
    "            B | {'D':str(0),'radius':str(voxel_radius)}\n",
    "            T | {'D':str(D),'radius':str(voxel_radius)}\n",
    "        with reaction_rules():\n",
    "            T + B >B | ka     \n",
    "        m=get_model()           \n",
    "        w = spatiocyte.SpatiocyteWorld(ones() * L, voxel_radius, rng)\n",
    "        w.bind_to(m)       \n",
    "        coord1 = w.position2coordinate(ones() * L * 0.5)\n",
    "        coord2 = w.get_neighbor(coord1, 0)\n",
    "        (pidB,p),suc=w.new_particle(Species('B'),w.coordinate2position(coord1))  \n",
    "        (pidT,p),suc=w.new_particle(Species('T'),w.coordinate2position(coord2))     \n",
    "        w.add_molecules(Species('C'),Nc)\n",
    "        t= 0.0\n",
    "        sim = spatiocyte.SpatiocyteSimulator(w)\n",
    "        sim.initialize()\n",
    "        pos = tuple(p.position())\n",
    "        while all(0<= dim <L for dim in pos) and t<maxt:\n",
    "            NT=w.num_particles(Species('T'))        \n",
    "            if NT==0:\n",
    "                return True\n",
    "            else:\n",
    "                (pid,p)=w.get_particle(pidT)\n",
    "                pos = tuple(p.position())\n",
    "                sim.step()\n",
    "                t = sim.t()\n",
    "        return False    \n",
    "    job.update({'run':task_id})\n",
    "    out=singlerun(**job)\n",
    "    return out\n",
    "\n",
    "simrun=2000\n",
    "nproc=70\n",
    "phic=0.3\n",
    "kafs=[0.01,100]\n",
    "result=[('phic','kaf','pt','psim')]\n",
    "for kaf in kafs:\n",
    "    jobs=[{'kaf':kaf,'phic':phic}]\n",
    "    res=ensemble.run_multiprocessing(wrap,jobs,n=simrun,nproc=nproc,modules=('numpy','ecell4','math'))[0]\n",
    "    #res=ensemble.run_sge(wrap,jobs,n=simrun,nproc=nproc,path='tmp',modules=('numpy','ecell4','math'))[0]\n",
    "    pt = 1./(1+1./kaf)\n",
    "    print('kaf={},phic={},Prebtotal_theory{:.3}'.format(kaf,phic,pt))\n",
    "    psim = float(res.count(True))/len(res)\n",
    "    print('preb_sim',psim)  \n",
    "    result.append((phic,kaf,pt,psim))\n"
   ]
  },
  {
   "cell_type": "code",
   "execution_count": 3,
   "metadata": {},
   "outputs": [
    {
     "data": {
      "text/plain": [
       "0.9900990099009901"
      ]
     },
     "execution_count": 3,
     "metadata": {},
     "output_type": "execute_result"
    }
   ],
   "source": [
    "1./(1+1./100)"
   ]
  },
  {
   "cell_type": "code",
   "execution_count": null,
   "metadata": {},
   "outputs": [],
   "source": [
    "L,t,p\n",
    "1,1e5,0.4\n",
    "1,1e6,0.4\n",
    "2,1e5,0.46\n",
    "2,1e4,0.46\n",
    "2,1e2,0.44\n",
    "4,1e2,0.5"
   ]
  },
  {
   "cell_type": "code",
   "execution_count": null,
   "metadata": {},
   "outputs": [],
   "source": [
    "from ecell4 import *\n",
    "import numpy as np\n",
    "%matplotlib inline\n",
    "import math\n",
    "import sys\n",
    "import matplotlib.pyplot as plt\n",
    "from ecell4.extra import ensemble\n",
    "import time\n",
    "\n",
    "def singlerun(kaf,run,phic):\n",
    "    rm=0.005\n",
    "    L = 1.   \n",
    "    duration=1e3\n",
    "    voxel_radius = rm*1.021\n",
    "    D = 1.\n",
    "    kD = 4 * math.pi * (2 * rm) * D\n",
    "    ka = kD * kaf\n",
    "    Pacc = ka / (6 * math.sqrt(2) * D * voxel_radius)\n",
    "    if (Pacc>1):\n",
    "        alpha=1./Pacc\n",
    "    else: alpha=1.\n",
    "    assert Pacc*alpha <=1\n",
    "    assert alpha  <= 1    \n",
    "    dt = (4 * voxel_radius * voxel_radius) / (6 * D)    \n",
    "    maxt=dt*duration\n",
    "    rng = GSLRandomNumberGenerator()   \n",
    "    rng.seed(run)\n",
    "    Nc=int(phic*L**3/(4*math.pi*rm**3 /3))\n",
    "    \n",
    "    with species_attributes():\n",
    "        C | {'D':str(D),'radius':str(voxel_radius)}\n",
    "        T | {'D':str(0),'radius':str(voxel_radius)}\n",
    "    m=get_model()           \n",
    "    w = spatiocyte.create_spatiocyte_world_cell_list_impl(ones() * L, voxel_radius, Integer3(3, 3, 3), rng)\n",
    "    w.bind_to(m)        \n",
    "    w.add_molecules(Species('C'),Nc)\n",
    "\n",
    "    coord1 = w.position2coordinate(ones() * L * 0.5)\n",
    "    coord2 = w.get_neighbor(coord1, 0)\n",
    "    (pidT1,p),suc=w.new_particle(Species('T'),w.coordinate2position(coord2))   \n",
    "    dt = dt*alpha\n",
    "    t= 0.0\n",
    "    sim = spatiocyte.SpatiocyteSimulator(w)\n",
    "    sim.initialize()\n",
    "    sim.set_dt(dt)\n",
    "    \n",
    "    while all(0<= dim <L for dim in w.coordinate2position(coord2)) and t<maxt:\n",
    "        rnd = w.rng().uniform_int(0, 11)\n",
    "        newcoord = w.get_neighbor(coord2, rnd)          \n",
    "        if newcoord == coord1:\n",
    "            if Pacc*alpha >= w.rng().uniform(0, 1):\n",
    "                return True\n",
    "        elif alpha>=w.rng().uniform(0,1):\n",
    "            (pidT2,p),suc=w.new_particle(Species('T'),w.coordinate2position(newcoord))\n",
    "            if suc:\n",
    "                coord2 = newcoord\n",
    "                w.remove_particle(pidT1)   \n",
    "                pidT1=pidT2\n",
    "        sim.step()\n",
    "        t = sim.t()\n",
    "    assert(w.num_particles(Species('T'))==1)\n",
    "    return False\n",
    "\n",
    "def wrap(job,job_id,task_id):\n",
    "    job.update({'run':task_id})\n",
    "    out=singlerun(**job)\n",
    "    return out\n",
    "\n",
    "simrun=100\n",
    "nproc=70\n",
    "phic=0.01\n",
    "kafs=[1.]\n",
    "st=time.time()\n",
    "for kaf in kafs:\n",
    "    jobs=[{'kaf':kaf,'phic':phic}]\n",
    "    res=ensemble.run_multiprocessing(wrap,jobs,n=simrun,nproc=nproc)[0]\n",
    "    print('kaf={},phic={},Prebtotal_theory{:.3}'.format(kaf,phic,1./(1+1./kaf)))\n",
    "    print('preb_sim',float(res.count(True))/len(res))    \n",
    "print(time.time()-st)\n",
    "#name='/home/chew/outputdata/LS3Dcrowd_Dt{}Dc{}phi{:.3}phit{:.3}Nt{}rm{:.3}L{}'.format(Dt,Dc,phi,phit,Nt,rv,L)\n",
    "#f=open(name,'w')\n",
    "#np.savetxt(name,np.column_stack([tt,msd]),delimiter=',')\n",
    "#f.close()    "
   ]
  },
  {
   "cell_type": "code",
   "execution_count": 7,
   "metadata": {},
   "outputs": [
    {
     "data": {
      "text/plain": [
       "[0.1592356687898089, 0.39808917197452226]"
      ]
     },
     "execution_count": 7,
     "metadata": {},
     "output_type": "execute_result"
    }
   ],
   "source": [
    "r=0.0025\n",
    "D=[0.06,4]\n",
    "kd=4*3.14*r*2*D[1]\n",
    "ka=[0.04,0.1]\n",
    "[k/kd for k in ka]"
   ]
  },
  {
   "cell_type": "code",
   "execution_count": null,
   "metadata": {},
   "outputs": [],
   "source": []
  }
 ],
 "metadata": {
  "anaconda-cloud": {},
  "kernelspec": {
   "display_name": "Python 3",
   "language": "python",
   "name": "python3"
  },
  "language_info": {
   "codemirror_mode": {
    "name": "ipython",
    "version": 3
   },
   "file_extension": ".py",
   "mimetype": "text/x-python",
   "name": "python",
   "nbconvert_exporter": "python",
   "pygments_lexer": "ipython3",
   "version": "3.5.2"
  }
 },
 "nbformat": 4,
 "nbformat_minor": 1
}
