{
 "cells": [
  {
   "cell_type": "code",
   "execution_count": 19,
   "metadata": {
    "collapsed": false,
    "scrolled": true
   },
   "outputs": [
    {
     "name": "stdout",
     "output_type": "stream",
     "text": [
      "L 1.0208582\n",
      "Vr 1.11191127128\n",
      "0.0251327412287 0.251327412287 0.0228479465716\n",
      "phi 0.136317040721 phir 0.135313500736\n"
     ]
    }
   ],
   "source": [
    "%matplotlib inline\n",
    "from ecell4 import *\n",
    "import numpy as np\n",
    "import math\n",
    "import matplotlib.pyplot as plt\n",
    "\n",
    "k_factor = 0.1\n",
    "rm = 0.005  \n",
    "factor = 1.0208582\n",
    "voxelr = factor*rm\n",
    "L = 200*voxelr\n",
    "print 'L',L\n",
    "D = 1\n",
    "kd= 4.0*math.pi*D*4*rm\n",
    "ka = k_factor*kd\n",
    "r0=0.256318\n",
    "kac = 6*2**0.5*(2*D)*voxelr*(1./r0 -1)*ka/kd\n",
    "kon = (ka*kd)/(ka+kd)\n",
    "#tm =(2*voxelr)**2/(6*D)\n",
    "N = 1000\n",
    "duration = -math.log(0.01)/N/kon\n",
    "dt=duration/10\n",
    "w = spatiocyte.SpatiocyteWorld(ones()*L,voxelr)\n",
    "Vr = w.calculate_volume(ones()*L,rm)\n",
    "lx,ly,lz = tuple(w.calculate_shape(ones()*L,voxelr))\n",
    "Nv = lx*ly*lz\n",
    "vv = w.calculate_voxel_volume(voxelr)\n",
    "phi = 2.*N/Nv\n",
    "print 'Vr',Vr\n",
    "print ka,kd,kon\n",
    "print 'phi',phi*100,'phir',2*N*100*vv/Vr\n",
    "\n"
   ]
  },
  {
   "cell_type": "code",
   "execution_count": 20,
   "metadata": {
    "collapsed": false
   },
   "outputs": [
    {
     "data": {
      "text/plain": [
       "[<matplotlib.lines.Line2D at 0x7f01abcd2e90>]"
      ]
     },
     "execution_count": 20,
     "metadata": {},
     "output_type": "execute_result"
    },
    {
     "data": {
      "image/png": "[encoded data removed]",
      "text/plain": [
       "<matplotlib.figure.Figure at 0x7f01abe16d90>"
      ]
     },
     "metadata": {},
     "output_type": "display_data"
    }
   ],
   "source": [
    "with reaction_rules():#for ODE\n",
    "    A +B > B | kon\n",
    "\n",
    "m1 = get_model()\n",
    "\n",
    "ode = np.array(run_simulation(duration, model=m1, y0={'A': N,'B': N}, solver='ode', volume=Vr, return_type='array'))\n",
    "to = ode[:,0]\n",
    "nao = ode[:,1]\n",
    "\n",
    "plt.plot(to,nao/N,'g--')"
   ]
  },
  {
   "cell_type": "code",
   "execution_count": 3,
   "metadata": {
    "collapsed": false
   },
   "outputs": [],
   "source": [
    "with species_attributes():\n",
    "    A |B|C | {'D': str(D), 'radius':str(voxelr)}\n",
    "\n",
    "with reaction_rules():#for spa and egfrd\n",
    "    A + B > B | kac\n",
    "\n",
    "m2 = get_model()\n",
    "\n",
    "def singlerun(i):\n",
    "    rng = GSLRandomNumberGenerator()\n",
    "    rng.seed(i)\n",
    "    #w = spatiocyte.create_spatiocyte_world_cell_list_impl(ones() * L, voxelr, Integer3(3, 3, 3), rng)\n",
    "    w = spatiocyte.SpatiocyteWorld(ones()*L,voxelr,rng)\n",
    "    w.bind_to(m2)\n",
    "    #ll= tuple(w.actual_lengths())\n",
    "    #print ll[0]*ll[1]*ll[2]\n",
    "    w.add_molecules(Species('A'), N)\n",
    "    w.add_molecules(Species('B'), N)\n",
    "    obs = FixedIntervalNumberObserver(dt, ('A'))\n",
    "    sim = spatiocyte.SpatiocyteSimulator(w)\n",
    "    sim.initialize()\n",
    "    sim.run(duration, obs)    \n",
    "    return np.array(obs.data())\n"
   ]
  },
  {
   "cell_type": "code",
   "execution_count": 4,
   "metadata": {
    "collapsed": false
   },
   "outputs": [],
   "source": [
    "def rung(run):   \n",
    "    leng = int((duration/dt)+1)\n",
    "    n = np.empty([run,leng])\n",
    "    for i in range(run):\n",
    "        spa = gfrd(i)\n",
    "        n[i] = spa[:,1]        \n",
    "    ts = spa[:,0]\n",
    "    return ts,n\n",
    "\n",
    "def rungtest(run):   \n",
    "    spa = rungfrd(1)\n",
    "    return spa[:,0]  ,spa[:,1]\n",
    "\n",
    "def runspa(run):   \n",
    "    leng = int((duration/dt)+1)\n",
    "    n = np.empty([run,leng])\n",
    "    for i in range(run):\n",
    "        spa = singlerun(i)\n",
    "        n[i] = spa[:,1]        \n",
    "    ts = spa[:,0]\n",
    "    return ts,n\n"
   ]
  },
  {
   "cell_type": "code",
   "execution_count": 5,
   "metadata": {
    "collapsed": false
   },
   "outputs": [],
   "source": [
    "run = 10000\n",
    "#te,nae = rungtest(run)\n",
    "#print len(te)\n",
    "ts,nas = runspa(run)\n"
   ]
  },
  {
   "cell_type": "code",
   "execution_count": 6,
   "metadata": {
    "collapsed": false
   },
   "outputs": [],
   "source": [
    "mean = np.mean(nas,axis=0)/N\n",
    "std = np.std(nas,axis=0)/N"
   ]
  },
  {
   "cell_type": "code",
   "execution_count": 21,
   "metadata": {
    "collapsed": false
   },
   "outputs": [
    {
     "data": {
      "text/plain": [
       "[<matplotlib.lines.Line2D at 0x7f01abcfb750>]"
      ]
     },
     "execution_count": 21,
     "metadata": {},
     "output_type": "execute_result"
    },
    {
     "data": {
      "image/png": "[encoded data removed]",
      "text/plain": [
       "<matplotlib.figure.Figure at 0x7f01abf13550>"
      ]
     },
     "metadata": {},
     "output_type": "display_data"
    }
   ],
   "source": [
    "plt.errorbar(ts,mean,std,fmt=' ',marker='.')\n",
    "plt.semilogy(to,nao/N,'r--')"
   ]
  },
  {
   "cell_type": "code",
   "execution_count": 22,
   "metadata": {
    "collapsed": false,
    "scrolled": true
   },
   "outputs": [
    {
     "data": {
      "text/plain": [
       "[<matplotlib.lines.Line2D at 0x7f01abb0be50>]"
      ]
     },
     "execution_count": 22,
     "metadata": {},
     "output_type": "execute_result"
    },
    {
     "data": {
      "image/png": "[encoded data removed]",
      "text/plain": [
       "<matplotlib.figure.Figure at 0x7f01abe5b790>"
      ]
     },
     "metadata": {},
     "output_type": "display_data"
    }
   ],
   "source": [
    "#Ct =1.02085\n",
    "#r0=0.256318\n",
    "#voxelr = 0.005/Ct\n",
    "#kd = 4*np.pi*4*D*voxelr\n",
    "#kaa = k_factor*4.0*math.pi*D*4*0.005\n",
    "#Pa = kaa/(3*(2**0.5)*D*4*0.005)\n",
    "#ka = Pa*kd/(1/r0 -1)\n",
    "#kon = (ka*kd)/(ka+kd)\n",
    "#Vr = w.calculate_volume(ones()*L,voxelr)\n",
    "\n",
    "#import scipy.integrate as integrate\n",
    "def Phi(xx):\n",
    "    return 1./( (377.*xx/324)+(1+ (314.*(xx**2)/847) )**0.5)\n",
    "\n",
    "tau = ((ka*2*rm/(ka+kd))**2)/(2*D)\n",
    "#tt= np.linspace(0,0.5,1e3)\n",
    "#def kt(t):\n",
    "#    x=ka*((t/tau)**(0.5))/kd\n",
    "#    return kon*(1+(ka*phi(x)/kd))\n",
    "#intkt = [integrate.quad(lambda t: kt(t),0,T)[0] for T in tt] \n",
    "\n",
    "tt=ts\n",
    "intkt = [kon*(t+tau*((kd/ka)*(Phi(ka*((t/tau)**(0.5))/kd)-1)+2*(math.sqrt(t/np.pi/tau)))) for t in tt]\n",
    "\n",
    "st = [math.exp(-ik*N/Vr) for ik in intkt]\n",
    "plt.errorbar(ts,mean,std,fmt=' ',marker='.')\n",
    "plt.plot(tt,st,'c-')\n",
    "plt.plot(to,nao/N,'r--')\n",
    "#plt.ylim(0.4,1)"
   ]
  },
  {
   "cell_type": "code",
   "execution_count": 23,
   "metadata": {
    "collapsed": false
   },
   "outputs": [
    {
     "name": "stdout",
     "output_type": "stream",
     "text": [
      "1.72687460399\n"
     ]
    },
    {
     "data": {
      "image/png": "[encoded data removed]",
      "text/plain": [
       "<matplotlib.figure.Figure at 0x7f01abc27e50>"
      ]
     },
     "metadata": {},
     "output_type": "display_data"
    }
   ],
   "source": [
    "diff = (st-mean)*100/(st)\n",
    "plt.plot(ts,diff,'.')\n",
    "print np.mean(diff)"
   ]
  },
  {
   "cell_type": "code",
   "execution_count": null,
   "metadata": {
    "collapsed": true
   },
   "outputs": [],
   "source": []
  },
  {
   "cell_type": "code",
   "execution_count": null,
   "metadata": {
    "collapsed": true
   },
   "outputs": [],
   "source": []
  }
 ],
 "metadata": {
  "anaconda-cloud": {},
  "kernelspec": {
   "display_name": "Python 2",
   "language": "python",
   "name": "python2"
  },
  "language_info": {
   "codemirror_mode": {
    "name": "ipython",
    "version": 2
   },
   "file_extension": ".py",
   "mimetype": "text/x-python",
   "name": "python",
   "nbconvert_exporter": "python",
   "pygments_lexer": "ipython2",
   "version": "2.7.10"
  }
 },
 "nbformat": 4,
 "nbformat_minor": 1
}
