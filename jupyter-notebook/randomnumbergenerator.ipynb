{
 "cells": [
  {
   "cell_type": "code",
   "execution_count": 25,
   "metadata": {
    "collapsed": false
   },
   "outputs": [
    {
     "name": "stdout",
     "output_type": "stream",
     "text": [
      "<ecell4.core.GSLRandomNumberGenerator object at 0x7f33bab55600>\n",
      "<ecell4.core.GSLRandomNumberGenerator object at 0x7f33bab55600>\n",
      "0.999741748907\n",
      "<ecell4.core.GSLRandomNumberGenerator object at 0x7f33bab55750>\n",
      "<ecell4.core.GSLRandomNumberGenerator object at 0x7f33bab55750>\n",
      "0.417021998437\n",
      "<ecell4.core.GSLRandomNumberGenerator object at 0x7f33bab55600>\n",
      "<ecell4.core.GSLRandomNumberGenerator object at 0x7f33bab55600>\n",
      "0.435994902626\n",
      "<ecell4.core.GSLRandomNumberGenerator object at 0x7f33bab55750>\n",
      "<ecell4.core.GSLRandomNumberGenerator object at 0x7f33bab55750>\n",
      "0.550797904376\n",
      "<ecell4.core.GSLRandomNumberGenerator object at 0x7f33bab55600>\n",
      "<ecell4.core.GSLRandomNumberGenerator object at 0x7f33bab55600>\n",
      "0.967029838357\n"
     ]
    }
   ],
   "source": [
    "from ecell4 import *\n",
    "%matplotlib inline\n",
    "import numpy as np\n",
    "import math\n",
    "import matplotlib.pyplot as plt\n",
    "import os\n",
    "#from ecell4.extra.ensemble import getseed\n",
    "\n",
    "for i in range(5):\n",
    "    rng = core.GSLRandomNumberGenerator()\n",
    "    #help(core.GSLRandomNumberGenerator())\n",
    "    rng.seed(i)\n",
    "    print rng.uniform(0,1)"
   ]
  },
  {
   "cell_type": "code",
   "execution_count": 23,
   "metadata": {
    "collapsed": false
   },
   "outputs": [
    {
     "name": "stdout",
     "output_type": "stream",
     "text": [
      "0.844421851525\n",
      "0.134364244112\n",
      "0.956034271889\n",
      "0.237964627092\n",
      "0.236048089737\n"
     ]
    }
   ],
   "source": [
    "import random\n",
    "for i in range(5):\n",
    "    random.seed(i)\n",
    "    print random.uniform(0,1)"
   ]
  },
  {
   "cell_type": "code",
   "execution_count": 11,
   "metadata": {
    "collapsed": false
   },
   "outputs": [],
   "source": [
    "random.seed(os.urandom(1))"
   ]
  },
  {
   "cell_type": "code",
   "execution_count": null,
   "metadata": {
    "collapsed": true
   },
   "outputs": [],
   "source": []
  }
 ],
 "metadata": {
  "anaconda-cloud": {},
  "kernelspec": {
   "display_name": "Python [default]",
   "language": "python",
   "name": "python2"
  },
  "language_info": {
   "codemirror_mode": {
    "name": "ipython",
    "version": 2
   },
   "file_extension": ".py",
   "mimetype": "text/x-python",
   "name": "python",
   "nbconvert_exporter": "python",
   "pygments_lexer": "ipython2",
   "version": "2.7.12"
  }
 },
 "nbformat": 4,
 "nbformat_minor": 1
}
