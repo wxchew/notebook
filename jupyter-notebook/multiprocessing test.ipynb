{
 "cells": [
  {
   "cell_type": "code",
   "execution_count": 15,
   "metadata": {},
   "outputs": [],
   "source": [
    "import multiprocessing"
   ]
  },
  {
   "cell_type": "code",
   "execution_count": 16,
   "metadata": {},
   "outputs": [],
   "source": [
    "def singlerun(z=1):\n",
    "    N=200\n",
    "    a=0\n",
    "    for i in range(N):\n",
    "        for j in range(N):\n",
    "            for k in range(N):\n",
    "                a+=j*i*k\n",
    "    return a+z\n"
   ]
  },
  {
   "cell_type": "code",
   "execution_count": 17,
   "metadata": {
    "scrolled": true
   },
   "outputs": [
    {
     "data": {
      "text/plain": [
       "(7880599000001, 7880599000002)"
      ]
     },
     "execution_count": 17,
     "metadata": {},
     "output_type": "execute_result"
    }
   ],
   "source": [
    "singlerun(),singlerun(2)"
   ]
  },
  {
   "cell_type": "code",
   "execution_count": 18,
   "metadata": {},
   "outputs": [],
   "source": [
    "simrun =10"
   ]
  },
  {
   "cell_type": "markdown",
   "metadata": {},
   "source": [
    "kaizu's code simplified"
   ]
  },
  {
   "cell_type": "code",
   "execution_count": 19,
   "metadata": {},
   "outputs": [],
   "source": [
    "jobs=[]\n",
    "pip1s=[]\n",
    "\n",
    "for i in range(simrun):\n",
    "    def target_wrapper(f, end_send):\n",
    "        def wf(*args, **_kwargs):\n",
    "            end_send.send(f(*args, **_kwargs))\n",
    "        return wf    \n",
    "    pip1,pip2=multiprocessing.Pipe()\n",
    "    pip1s.append(pip1)\n",
    "    p=multiprocessing.Process(target=target_wrapper(singlerun,pip2),args=(i,))\n",
    "    p.daemon=1\n",
    "    jobs.append(p)\n",
    "    p.start()\n",
    "out = [i.recv() for i in pip1s]\n",
    "for j in jobs:\n",
    "    j.join()\n",
    "    "
   ]
  },
  {
   "cell_type": "code",
   "execution_count": 20,
   "metadata": {},
   "outputs": [
    {
     "data": {
      "text/plain": [
       "[7880599000000,\n",
       " 7880599000001,\n",
       " 7880599000002,\n",
       " 7880599000003,\n",
       " 7880599000004,\n",
       " 7880599000005,\n",
       " 7880599000006,\n",
       " 7880599000007,\n",
       " 7880599000008,\n",
       " 7880599000009]"
      ]
     },
     "execution_count": 20,
     "metadata": {},
     "output_type": "execute_result"
    }
   ],
   "source": [
    "out"
   ]
  },
  {
   "cell_type": "markdown",
   "metadata": {},
   "source": [
    "kaizu's ecell4 code"
   ]
  },
  {
   "cell_type": "code",
   "execution_count": 21,
   "metadata": {},
   "outputs": [],
   "source": [
    "def run(target, n=1, **kwargs):\n",
    "    def target_wrapper(f, end_send):\n",
    "        def wf(*args, **_kwargs):\n",
    "            end_send.send(f(*args, **_kwargs))\n",
    "        return wf\n",
    "\n",
    "    processes = []\n",
    "    end_recvs = []\n",
    "    for J in range(n):\n",
    "        end_recv, end_send = multiprocessing.Pipe(False)\n",
    "        end_recvs.append(end_recv)\n",
    "        p = multiprocessing.Process(\n",
    "            target=target_wrapper(target, end_send),args=(J,))\n",
    "        p.daemon=1\n",
    "        p.start()\n",
    "        processes.append(p)\n",
    "\n",
    "    for p in processes:\n",
    "        p.join()\n",
    "\n",
    "    retval = [end_recv.recv() for end_recv in end_recvs]\n",
    "    return [retval[i: i + n] for i in range(0, len(retval), n)] "
   ]
  },
  {
   "cell_type": "code",
   "execution_count": 22,
   "metadata": {
    "scrolled": true
   },
   "outputs": [
    {
     "data": {
      "text/plain": [
       "[[7880599000000,\n",
       "  7880599000001,\n",
       "  7880599000002,\n",
       "  7880599000003,\n",
       "  7880599000004,\n",
       "  7880599000005,\n",
       "  7880599000006,\n",
       "  7880599000007,\n",
       "  7880599000008,\n",
       "  7880599000009]]"
      ]
     },
     "execution_count": 22,
     "metadata": {},
     "output_type": "execute_result"
    }
   ],
   "source": [
    "run(singlerun,n=simrun)"
   ]
  },
  {
   "cell_type": "markdown",
   "metadata": {},
   "source": [
    "using Pool to distribute jobs"
   ]
  },
  {
   "cell_type": "code",
   "execution_count": 23,
   "metadata": {},
   "outputs": [
    {
     "name": "stdout",
     "output_type": "stream",
     "text": [
      "6\n"
     ]
    },
    {
     "data": {
      "text/plain": [
       "[7880599000000, 7880599000001, 7880599000002, 7880599000003, 7880599000004]"
      ]
     },
     "execution_count": 23,
     "metadata": {},
     "output_type": "execute_result"
    }
   ],
   "source": [
    "pool_size=multiprocessing.cpu_count()\n",
    "print pool_size\n",
    "pool=multiprocessing.Pool(processes=pool_size)\n",
    "pool_out=pool.map(singlerun,range(simrun))\n",
    "pool.close()\n",
    "pool.join()\n",
    "pool_out[:5]"
   ]
  },
  {
   "cell_type": "code",
   "execution_count": 24,
   "metadata": {},
   "outputs": [],
   "source": [
    "def runpool(func,n):\n",
    "    pool_size=multiprocessing.cpu_count()\n",
    "    pool=multiprocessing.Pool(processes=pool_size)\n",
    "    pool_out=[pool.apply_async(func,args=(x,)) for x in range(n)] #async=run n receive result indpnt of sequence\n",
    "    pool.close()\n",
    "    pool.join()\n",
    "    return [p.get() for p in pool_out]"
   ]
  },
  {
   "cell_type": "code",
   "execution_count": 25,
   "metadata": {},
   "outputs": [
    {
     "data": {
      "text/plain": [
       "[7880599000000,\n",
       " 7880599000001,\n",
       " 7880599000002,\n",
       " 7880599000003,\n",
       " 7880599000004,\n",
       " 7880599000005,\n",
       " 7880599000006,\n",
       " 7880599000007,\n",
       " 7880599000008,\n",
       " 7880599000009]"
      ]
     },
     "execution_count": 25,
     "metadata": {},
     "output_type": "execute_result"
    }
   ],
   "source": [
    "runpool(singlerun,simrun)"
   ]
  },
  {
   "cell_type": "code",
   "execution_count": 26,
   "metadata": {},
   "outputs": [],
   "source": [
    "%%timeit?"
   ]
  },
  {
   "cell_type": "code",
   "execution_count": null,
   "metadata": {},
   "outputs": [],
   "source": []
  }
 ],
 "metadata": {
  "kernelspec": {
   "display_name": "Python 2",
   "language": "python",
   "name": "python2"
  },
  "language_info": {
   "codemirror_mode": {
    "name": "ipython",
    "version": 2
   },
   "file_extension": ".py",
   "mimetype": "text/x-python",
   "name": "python",
   "nbconvert_exporter": "python",
   "pygments_lexer": "ipython2",
   "version": "2.7.12"
  }
 },
 "nbformat": 4,
 "nbformat_minor": 2
}
