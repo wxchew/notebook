{
 "cells": [
  {
   "cell_type": "code",
   "execution_count": 23,
   "metadata": {},
   "outputs": [
    {
     "data": {
      "text/plain": [
       "[<matplotlib.lines.Line2D at 0x7ff0628ab2e8>]"
      ]
     },
     "execution_count": 23,
     "metadata": {},
     "output_type": "execute_result"
    },
    {
     "data": {
      "image/png": "[encoded data removed]",
      "text/plain": [
       "<matplotlib.figure.Figure at 0x7ff062ad3630>"
      ]
     },
     "metadata": {},
     "output_type": "display_data"
    }
   ],
   "source": [
    "from ecell4 import *\n",
    "%matplotlib inline\n",
    "import numpy as np\n",
    "import math\n",
    "import sys\n",
    "import matplotlib.pyplot as plt\n",
    "from ecell4.extra import ensemble\n",
    "\n",
    "f=1.0208582\n",
    "def func(L):\n",
    "    vrs = np.arange(0.002,0.01,0.001)\n",
    "    La=[]\n",
    "    Ns=[]\n",
    "    Cs=[]\n",
    "    for vr in vrs:\n",
    "        w = spatiocyte.SpatiocyteWorld(ones()*L,vr)\n",
    "        (c,r,l)=w.shape()\n",
    "        l1,l2,l3=w.actual_lengths()\n",
    "        Vac=l1*l2*l3\n",
    "        Nev=(c - 2) * (r - 2) * (l - 2)\n",
    "        C=L**3/(Nev*(vr)**3)\n",
    "        Cs.append(C)\n",
    "        Ns.append(Nev)\n",
    "        La.append(Vac**(1./3)/L)\n",
    "    return L/vrs,Cs\n",
    "x,y=func(1)\n",
    "plt.plot(x,y,'g.-')\n",
    "x,y=func(2)\n",
    "plt.plot(x,y,'r.-')\n",
    "x,y=func(3)\n",
    "plt.plot(x,y,'b.-')   \n",
    "plt.plot(np.linspace(0,1600,100),[4*2**0.5]*100)"
   ]
  },
  {
   "cell_type": "code",
   "execution_count": 3,
   "metadata": {},
   "outputs": [
    {
     "name": "stdout",
     "output_type": "stream",
     "text": [
      "5.452681628825055 5.656854249492381\n"
     ]
    }
   ],
   "source": [
    "from ecell4 import *\n",
    "%matplotlib inline\n",
    "import numpy as np\n",
    "import math\n",
    "import sys\n",
    "import matplotlib.pyplot as plt\n",
    "from ecell4.extra import ensemble\n",
    "L=1\n",
    "vr=0.005\n",
    "w = spatiocyte.SpatiocyteWorld(ones()*L,vr)\n",
    "(c,r,l)=w.shape()\n",
    "l1,l2,l3=w.actual_lengths()\n",
    "Vac=l1*l2*l3\n",
    "Nev=(c - 2) * (r - 2) * (l - 2)\n",
    "print(L**3/(Nev*(vr)**3),4*2**0.5)"
   ]
  },
  {
   "cell_type": "code",
   "execution_count": 4,
   "metadata": {},
   "outputs": [
    {
     "name": "stdout",
     "output_type": "stream",
     "text": [
      "5.360263296133105\n"
     ]
    }
   ],
   "source": [
    "#ecell4\n",
    "Nev=1492464\n",
    "print(L**3/(Nev*(vr)**3))"
   ]
  },
  {
   "cell_type": "code",
   "execution_count": 6,
   "metadata": {},
   "outputs": [
    {
     "name": "stdout",
     "output_type": "stream",
     "text": [
      "5.613065024035368 5.656854249492381\n"
     ]
    }
   ],
   "source": [
    "from ecell4 import *\n",
    "%matplotlib inline\n",
    "import numpy as np\n",
    "import math\n",
    "import sys\n",
    "import matplotlib.pyplot as plt\n",
    "from ecell4.extra import ensemble\n",
    "L=5\n",
    "vr=0.005\n",
    "w = spatiocyte.SpatiocyteWorld(ones()*L,vr)\n",
    "(c,r,l)=w.shape()\n",
    "l1,l2,l3=w.actual_lengths()\n",
    "Vac=l1*l2*l3\n",
    "Nev=(c - 2) * (r - 2) * (l - 2)\n",
    "print(L**3/(Nev*(vr)**3),4*2**0.5)"
   ]
  },
  {
   "cell_type": "code",
   "execution_count": 7,
   "metadata": {},
   "outputs": [
    {
     "name": "stdout",
     "output_type": "stream",
     "text": [
      "5.593709627400763\n"
     ]
    }
   ],
   "source": [
    "#ecell4\n",
    "Nev=178772240\n",
    "print(L**3/(Nev*(vr)**3))"
   ]
  },
  {
   "cell_type": "code",
   "execution_count": 8,
   "metadata": {},
   "outputs": [
    {
     "data": {
      "text/plain": [
       "2.1544346900318834"
      ]
     },
     "execution_count": 8,
     "metadata": {},
     "output_type": "execute_result"
    }
   ],
   "source": [
    "cbrt(10)"
   ]
  },
  {
   "cell_type": "code",
   "execution_count": null,
   "metadata": {},
   "outputs": [],
   "source": []
  }
 ],
 "metadata": {
  "kernelspec": {
   "display_name": "Python 3",
   "language": "python",
   "name": "python3"
  },
  "language_info": {
   "codemirror_mode": {
    "name": "ipython",
    "version": 3
   },
   "file_extension": ".py",
   "mimetype": "text/x-python",
   "name": "python",
   "nbconvert_exporter": "python",
   "pygments_lexer": "ipython3",
   "version": "3.5.2"
  }
 },
 "nbformat": 4,
 "nbformat_minor": 2
}
