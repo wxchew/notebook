{
 "cells": [
  {
   "cell_type": "code",
   "execution_count": 11,
   "metadata": {
    "scrolled": true
   },
   "outputs": [],
   "source": [
    "from ecell4 import *\n",
    "from ecell4.extra import ensemble\n",
    "import numpy as np\n",
    "import matplotlib.pylab as plt\n",
    "%matplotlib inline\n",
    "\n",
    "duration = 1000#50000\n",
    "L=cbrt(100)\n",
    "Ca=5.\n",
    "Cb=1.\n",
    "k0= 0.1\n",
    "\n",
    "def singlerun_spa(rm,D):   \n",
    "    V=spatiocyte.SpatiocyteWorld.calculate_volume(Real3(L,L,L),rm*1.0208582)    \n",
    "    Nb=int(Cb*V)\n",
    "    Na=int(Ca*V)\n",
    "    keff = k0/Ca/Cb\n",
    "    kd = 4*np.pi*rm*2*D*2\n",
    "    ka = keff*kd/(kd-keff)\n",
    "    assert(ka>0)\n",
    "    with species_attributes():\n",
    "        A | {'D': D, 'radius':rm*1.0208582  }\n",
    "        B | {'D': D, 'radius':rm*1.0208582  }\n",
    "\n",
    "    with reaction_rules():\n",
    "        ~A > A | k0\n",
    "        A + B >B | ka     \n",
    "    m = get_model()\n",
    "    fac = spatiocyte.SpatiocyteFactory(rm*1.0208582)\n",
    "    fac.rng(GSLRandomNumberGenerator())\n",
    "    w = fac.create_world(Real3(L,L,L))\n",
    "    w.bind_to(m)\n",
    "    w.add_molecules(Species('B'),Nb)\n",
    "    w.add_molecules(Species('A'),0)\n",
    "    sim = fac.create_simulator(w)   \n",
    "    sim.initialize()\n",
    "    obs=NumberObserver(['A'])\n",
    "    sim.run(duration,obs)\n",
    "    return obs\n",
    "\n",
    "import time\n",
    "D=0.1\n",
    "rm=0.05\n",
    "t=time.time()\n",
    "obs=singlerun_spa(rm,D)\n",
    "dt=time.time()-t"
   ]
  },
  {
   "cell_type": "code",
   "execution_count": 12,
   "metadata": {},
   "outputs": [
    {
     "name": "stdout",
     "output_type": "stream",
     "text": [
      "rm 0.05\n",
      "13.087335586547852 s\n",
      "0.21812225977579752 min\n"
     ]
    },
    {
     "data": {
      "image/png": "[encoded data removed]",
      "text/plain": [
       "<Figure size 432x288 with 1 Axes>"
      ]
     },
     "metadata": {},
     "output_type": "display_data"
    }
   ],
   "source": [
    "print('rm',rm)\n",
    "print(dt,'s')\n",
    "print(dt/60,'min')\n",
    "viz.plot_number_observer(obs)"
   ]
  },
  {
   "cell_type": "code",
   "execution_count": 13,
   "metadata": {},
   "outputs": [
    {
     "data": {
      "text/plain": [
       "array([0.        , 0.00922655, 0.01845309, ..., 4.79780388, 4.80703043,\n",
       "       4.80703043])"
      ]
     },
     "execution_count": 13,
     "metadata": {},
     "output_type": "execute_result"
    }
   ],
   "source": [
    "V=spatiocyte.SpatiocyteWorld.calculate_volume(Real3(L,L,L),rm*1.0208582) \n",
    "np.array(obs.data()).T[1]/V"
   ]
  },
  {
   "cell_type": "code",
   "execution_count": null,
   "metadata": {},
   "outputs": [],
   "source": []
  }
 ],
 "metadata": {
  "anaconda-cloud": {},
  "kernelspec": {
   "display_name": "Python 3",
   "language": "python",
   "name": "python3"
  },
  "language_info": {
   "codemirror_mode": {
    "name": "ipython",
    "version": 3
   },
   "file_extension": ".py",
   "mimetype": "text/x-python",
   "name": "python",
   "nbconvert_exporter": "python",
   "pygments_lexer": "ipython3",
   "version": "3.5.2"
  }
 },
 "nbformat": 4,
 "nbformat_minor": 1
}
