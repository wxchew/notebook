{
 "cells": [
  {
   "cell_type": "markdown",
   "metadata": {},
   "source": [
    "## Simulation of dual phosphorylation-dephosphorylation cycle using Spatiocyte and ODE solver"
   ]
  },
  {
   "cell_type": "code",
   "execution_count": 6,
   "metadata": {},
   "outputs": [],
   "source": [
    "import math\n",
    "%matplotlib inline\n",
    "import numpy as np\n",
    "import os\n",
    "import matplotlib.pyplot as plt\n",
    "from ecell4 import *\n",
    "rng = GSLRandomNumberGenerator()"
   ]
  },
  {
   "cell_type": "markdown",
   "metadata": {},
   "source": [
    "### Dual phosphorylation-dephosphorylation model and parameters"
   ]
  },
  {
   "cell_type": "code",
   "execution_count": 7,
   "metadata": {},
   "outputs": [],
   "source": [
    "@species_attributes\n",
    "def attrgen(radius, D):\n",
    "    K | {\"radius\": radius, \"D\": D}\n",
    "    Kp | {\"radius\": radius, \"D\": D}\n",
    "    Kpp | {\"radius\": radius, \"D\": D}\n",
    "    KK | {\"radius\": radius, \"D\": D}\n",
    "    PP | {\"radius\": radius, \"D\": D}\n",
    "    K_KK | {\"radius\": radius, \"D\": D}\n",
    "    Kp_KK | {\"radius\": radius, \"D\": D}\n",
    "    Kpp_PP | {\"radius\": radius, \"D\": D}\n",
    "    Kp_PP | {\"radius\": radius, \"D\": D}\n",
    "    C | {\"radius\": radius, \"D\": D}\n",
    "\n",
    "@reaction_rules\n",
    "def rulegen(kon1, koff1, kcat1, kon2, koff2, kcat2,k7):\n",
    "    (KK + K == K_KK | (kon1, koff1)\n",
    "        > Kp + KKa | kcat1)\n",
    "    (KK + Kp == Kp_KK | (kon2, koff2)\n",
    "        > Kpp + KKa | kcat2)\n",
    "    (KKa > KK | k7)\n",
    "    (Kpp + PP == Kpp_PP | (kon1, koff1)\n",
    "        > Kp + PPa | kcat1)     \n",
    "    (Kp + PP == Kp_PP | (kon2, koff2)\n",
    "        > K + PPa | kcat2)\n",
    "    (PPa > PP | k7)\n",
    "\n",
    "@reaction_rules    \n",
    "def rulegen2(kon1, koff1, kcat1, kcat2):\n",
    "    (K + KK == K_KK | (kon1, koff1)\n",
    "        > Kp_KK | kcat1\n",
    "        > Kpp + KK | kcat2)\n",
    "\n",
    "    (Kpp + PP == Kpp_PP | (kon1, koff1)\n",
    "        > Kp + PP | kcat1\n",
    "        > K + PP | kcat2)\n",
    "\n",
    "ka1, kd1, kcat1 = 0.04483455086786913, 1.35, 1.5\n",
    "ka2, kd2, kcat2 = 0.09299017957780264, 1.73, 15.0\n",
    "trel = 1e-6\n",
    "k7 = math.log(2)/trel\n",
    "radius = 0.0025"
   ]
  },
  {
   "cell_type": "markdown",
   "metadata": {},
   "source": [
    "### Simulator for Spatiocyte and ODE"
   ]
  },
  {
   "cell_type": "code",
   "execution_count": 8,
   "metadata": {},
   "outputs": [],
   "source": [
    "def run(ratio,m,dur,NKT,NK): #Spatiocyte simulator\n",
    "    voxelr = 1.0208582*radius\n",
    "    w = spatiocyte.SpatiocyteWorld(Real3(1, 1, 1),voxelr,rng)\n",
    "    w.bind_to(m)\n",
    "    w.add_molecules(Species(\"K\"), NK)\n",
    "    w.add_molecules(Species(\"Kpp\"), NKT-NK)\n",
    "    Nppkk=int(60)\n",
    "    npp = int(Nppkk/(ratio+1))\n",
    "    nkk = Nppkk-npp\n",
    "    w.add_molecules(Species(\"KK\"), nkk)\n",
    "    w.add_molecules(Species(\"PP\"), npp)\n",
    "    sim = spatiocyte.SpatiocyteSimulator(m, w)\n",
    "    obs = FixedIntervalNumberObserver(5.0, [\"KK\",\"Kpp\",\"PP\"])\n",
    "    sim.run(dur, [obs])\n",
    "    data = np.array(obs.data()).T\n",
    "    NKK = data[1]\n",
    "    NKpp = data[2]\n",
    "    NP = data[3]\n",
    "    tt = data[0]\n",
    "    return tt,NKK,NKpp,NP\n",
    "\n",
    "def run_ode(ratio,m,dur,NKT,NK): #ODE simulator\n",
    "    w = ode.ODEWorld(Real3(1, 1, 1))\n",
    "    w.bind_to(m)\n",
    "    w.add_molecules(Species(\"K\"), NK)\n",
    "    w.add_molecules(Species(\"Kpp\"), NKT-NK)\n",
    "    Nppkk=int(60)\n",
    "    npp = int(Nppkk/(ratio+1))\n",
    "    nkk = Nppkk-npp\n",
    "    w.add_molecules(Species(\"KK\"), nkk)\n",
    "    w.add_molecules(Species(\"PP\"), npp)\n",
    "    sim = ode.ODESimulator(m,w)#simulator_type(m, w)\n",
    "    obs = FixedIntervalNumberObserver(1.0, [\"KK\",\"Kpp\",\"PP\"])\n",
    "    sim.run(dur, [obs])\n",
    "    data = np.array(obs.data()).T\n",
    "    NKK = data[1]\n",
    "    NKpp = data[2]\n",
    "    NP = data[3]\n",
    "    tt = data[0]\n",
    "    return tt,NKK,NKpp,NP"
   ]
  },
  {
   "cell_type": "markdown",
   "metadata": {},
   "source": [
    "### Execute simulation"
   ]
  },
  {
   "cell_type": "code",
   "execution_count": 9,
   "metadata": {},
   "outputs": [],
   "source": [
    "#spatiocyte simulator\n",
    "ratios = np.logspace(-1.5,1.5,12)\n",
    "NK= int(120*5)\n",
    "NKT=int(120*5)\n",
    "dur = 100 #duration\n",
    "D=0.06\n",
    "\n",
    "m = NetworkModel()\n",
    "voxelr = 1.0208582*radius\n",
    "for i, sp in enumerate(attrgen(str(voxelr), str(D))):\n",
    "    m.add_species_attribute(sp)\n",
    "rul = rulegen(ka1, kd1, kcat1, ka2, kd2, kcat2,k7)\n",
    "for i, rr in enumerate(rul):\n",
    "    reactants, products, k = rr.reactants(), rr.products(), rr.k()\n",
    "    m.add_reaction_rule(rr)\n",
    "xx = []\n",
    "yy = []    \n",
    "ratio=0.9\n",
    "tt,NKK,NKpp,NP = run(ratio,m,dur,NKT,NK)\n",
    "out=NKpp/NKT\n",
    "\n",
    "#xx.append(ratio) #[kk]/[P]\n",
    "#yy.append(np.mean(NKpp[int(dur*0.5):])/NKT) #[Kpp]/[K]total\n"
   ]
  },
  {
   "cell_type": "code",
   "execution_count": 10,
   "metadata": {},
   "outputs": [
    {
     "data": {
      "text/plain": [
       "0.4133333333333334"
      ]
     },
     "execution_count": 10,
     "metadata": {},
     "output_type": "execute_result"
    },
    {
     "data": {
      "image/png": "[encoded data removed]",
      "text/plain": [
       "<Figure size 432x288 with 1 Axes>"
      ]
     },
     "metadata": {},
     "output_type": "display_data"
    }
   ],
   "source": [
    "plt.plot(tt,out,'.')\n",
    "idx=tt>30\n",
    "np.mean(out[idx])"
   ]
  },
  {
   "cell_type": "markdown",
   "metadata": {},
   "source": [
    "### Load and plot data used in the paper"
   ]
  },
  {
   "cell_type": "code",
   "execution_count": 11,
   "metadata": {},
   "outputs": [
    {
     "data": {
      "text/plain": [
       "0.41597222222222224"
      ]
     },
     "execution_count": 11,
     "metadata": {},
     "output_type": "execute_result"
    }
   ],
   "source": [
    "idx=tt>40\n",
    "np.mean(out[idx])"
   ]
  },
  {
   "cell_type": "code",
   "execution_count": null,
   "metadata": {},
   "outputs": [],
   "source": []
  }
 ],
 "metadata": {
  "kernelspec": {
   "display_name": "Python 3",
   "language": "python",
   "name": "python3"
  },
  "language_info": {
   "codemirror_mode": {
    "name": "ipython",
    "version": 3
   },
   "file_extension": ".py",
   "mimetype": "text/x-python",
   "name": "python",
   "nbconvert_exporter": "python",
   "pygments_lexer": "ipython3",
   "version": "3.6.5"
  }
 },
 "nbformat": 4,
 "nbformat_minor": 2
}
