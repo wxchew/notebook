{
 "cells": [
  {
   "cell_type": "code",
   "execution_count": 5,
   "metadata": {
    "scrolled": true
   },
   "outputs": [],
   "source": [
    "from ecell4 import *\n",
    "from ecell4.extra import ensemble\n",
    "import numpy as np\n",
    "import matplotlib.pylab as plt\n",
    "%matplotlib inline\n",
    "\n",
    "duration = 1000#50000\n",
    "L=cbrt(100)\n",
    "Ca=5.\n",
    "Cb=1.\n",
    "k0= 0.1\n",
    "\n",
    "def singlerun_e(rm,D):\n",
    "    V = L**3 \n",
    "    keff = k0/Ca/Cb\n",
    "    Nb=100\n",
    "    Na=500\n",
    "    kd = 4*np.pi*rm*2*D*2\n",
    "    ka = keff*kd/(kd-keff)\n",
    "    dt = (2*rm)**2 / (6*D)\n",
    "    M = max(int(min(cbrt(Na + Nb), L / (2 * rm))), 3)\n",
    "    assert(ka>0)\n",
    "    with species_attributes():\n",
    "        A | {'D': D, 'radius':rm  }\n",
    "        B | {'D': D, 'radius':rm  }\n",
    "\n",
    "    with reaction_rules():\n",
    "        ~A > A | k0\n",
    "        A + B >B | ka\n",
    "    m = get_model()\n",
    "    fac = egfrd.EGFRDFactory(Integer3(M,M,M))\n",
    "    fac.rng(GSLRandomNumberGenerator())\n",
    "    w = fac.create_world(Real3(L,L,L))\n",
    "    w.bind_to(m)\n",
    "    w.add_molecules(Species('B'),Nb)\n",
    "    w.add_molecules(Species('A'),0)\n",
    "    sim = fac.create_simulator(w)   \n",
    "    sim.initialize()\n",
    "    obs=NumberObserver(['A'])\n",
    "    sim.run(duration,obs)\n",
    "    return obs\n",
    "\n",
    "\n",
    "import time\n",
    "D=0.1\n",
    "rm=0.05\n",
    "t=time.time()\n",
    "obs_e=singlerun_e(rm,D)\n",
    "dt=time.time()-t"
   ]
  },
  {
   "cell_type": "code",
   "execution_count": 6,
   "metadata": {},
   "outputs": [
    {
     "name": "stdout",
     "output_type": "stream",
     "text": [
      "rm 0.05\n",
      "12879.381662845612 s\n",
      "214.65636104742686 min\n"
     ]
    },
    {
     "data": {
      "image/png": "[encoded data removed]",
      "text/plain": [
       "<Figure size 432x288 with 1 Axes>"
      ]
     },
     "metadata": {},
     "output_type": "display_data"
    }
   ],
   "source": [
    "print('rm',rm)\n",
    "print(dt,'s')\n",
    "print(dt/60,'min')\n",
    "viz.plot_number_observer(obs_e)"
   ]
  },
  {
   "cell_type": "code",
   "execution_count": 7,
   "metadata": {},
   "outputs": [
    {
     "data": {
      "text/plain": [
       "array([  0.,   1.,   2., ..., 457., 458., 458.])"
      ]
     },
     "execution_count": 7,
     "metadata": {},
     "output_type": "execute_result"
    }
   ],
   "source": [
    "np.array(obs_e.data()).T[1]"
   ]
  },
  {
   "cell_type": "code",
   "execution_count": null,
   "metadata": {},
   "outputs": [],
   "source": []
  }
 ],
 "metadata": {
  "anaconda-cloud": {},
  "kernelspec": {
   "display_name": "Python 3",
   "language": "python",
   "name": "python3"
  },
  "language_info": {
   "codemirror_mode": {
    "name": "ipython",
    "version": 3
   },
   "file_extension": ".py",
   "mimetype": "text/x-python",
   "name": "python",
   "nbconvert_exporter": "python",
   "pygments_lexer": "ipython3",
   "version": "3.5.2"
  }
 },
 "nbformat": 4,
 "nbformat_minor": 1
}
