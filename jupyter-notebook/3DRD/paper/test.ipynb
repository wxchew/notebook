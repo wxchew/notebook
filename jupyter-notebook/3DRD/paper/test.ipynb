{
 "cells": [
  {
   "cell_type": "code",
   "execution_count": 1,
   "metadata": {},
   "outputs": [],
   "source": [
    "import math\n",
    "%matplotlib inline\n",
    "import numpy as np\n",
    "import os\n",
    "import matplotlib.pyplot as plt\n",
    "from ecell4 import *\n",
    "rng = GSLRandomNumberGenerator()"
   ]
  },
  {
   "cell_type": "code",
   "execution_count": 25,
   "metadata": {},
   "outputs": [
    {
     "name": "stderr",
     "output_type": "stream",
     "text": [
      "/usr/local/lib/python3.6/dist-packages/ipykernel_launcher.py:4: MatplotlibDeprecationWarning: matplotlib.verbose is deprecated;\n",
      "Command line argument --verbose-LEVEL is deprecated.\n",
      "This functionality is now provided by the standard\n",
      "python logging library.  To get more (or less) logging output:\n",
      "    import logging\n",
      "    logger = logging.getLogger('matplotlib')\n",
      "    logger.set_level(logging.INFO)\n",
      "  after removing the cwd from sys.path.\n"
     ]
    },
    {
     "ename": "KeyboardInterrupt",
     "evalue": "",
     "output_type": "error",
     "traceback": [
      "\u001b[0;31m---------------------------------------------------------------------------\u001b[0m",
      "\u001b[0;31mKeyboardInterrupt\u001b[0m                         Traceback (most recent call last)",
      "\u001b[0;32m<ipython-input-25-5ef6dcf231fb>\u001b[0m in \u001b[0;36m<module>\u001b[0;34m()\u001b[0m\n\u001b[1;32m     22\u001b[0m \u001b[0mobs\u001b[0m \u001b[0;34m=\u001b[0m \u001b[0mFixedIntervalHDF5Observer\u001b[0m\u001b[0;34m(\u001b[0m\u001b[0mT\u001b[0m\u001b[0;34m*\u001b[0m\u001b[0;36m1e-3\u001b[0m\u001b[0;34m,\u001b[0m \u001b[0;34m'test%03d.h5'\u001b[0m\u001b[0;34m)\u001b[0m\u001b[0;34m\u001b[0m\u001b[0m\n\u001b[1;32m     23\u001b[0m \u001b[0msim\u001b[0m \u001b[0;34m=\u001b[0m \u001b[0megfrd\u001b[0m\u001b[0;34m.\u001b[0m\u001b[0mEGFRDSimulator\u001b[0m\u001b[0;34m(\u001b[0m\u001b[0mw\u001b[0m\u001b[0;34m)\u001b[0m\u001b[0;34m\u001b[0m\u001b[0m\n\u001b[0;32m---> 24\u001b[0;31m \u001b[0msim\u001b[0m\u001b[0;34m.\u001b[0m\u001b[0mrun\u001b[0m\u001b[0;34m(\u001b[0m\u001b[0mT\u001b[0m\u001b[0;34m,\u001b[0m \u001b[0mobs\u001b[0m\u001b[0;34m)\u001b[0m\u001b[0;34m\u001b[0m\u001b[0m\n\u001b[0m\u001b[1;32m     25\u001b[0m \u001b[0;31m#viz.plot_trajectory(obs, interactive=False)\u001b[0m\u001b[0;34m\u001b[0m\u001b[0;34m\u001b[0m\u001b[0m\n\u001b[1;32m     26\u001b[0m \u001b[0mviz\u001b[0m\u001b[0;34m.\u001b[0m\u001b[0mplot_movie\u001b[0m\u001b[0;34m(\u001b[0m\u001b[0mobs\u001b[0m\u001b[0;34m)\u001b[0m\u001b[0;34m\u001b[0m\u001b[0m\n",
      "\u001b[0;31mKeyboardInterrupt\u001b[0m: "
     ]
    }
   ],
   "source": [
    "from ecell4 import *\n",
    "from matplotlib.pylab import *\n",
    "import numpy as np\n",
    "mpl.verbose.set_level(\"helpful\")\n",
    "\n",
    "T = 1\n",
    "V = 3e-15\n",
    "N = 10\n",
    "R = 5e-8\n",
    "D = 1e-12\n",
    "\n",
    "L = np.power(V, 1.0/3.0) # cuboid side length\n",
    "with species_attributes():\n",
    " A | {'D': D, 'radius': R}\n",
    "m = get_model()\n",
    "M = max(int(min(cbrt(N + N), L / (2*R))), 3)\n",
    "w = egfrd.EGFRDWorld(Real3(L, L, L), Integer3(M, M, M))\n",
    "w.bind_to(m)\n",
    "w.add_molecules(Species('A'), N)\n",
    "pid_list = [pid for pid, p in w.list_particles(Species('A'))[:10]]\n",
    "#obs = FixedIntervalTrajectoryObserver(T*1e-1, pid_list)\n",
    "obs = FixedIntervalHDF5Observer(T*1e-3, 'test%03d.h5')\n",
    "sim = egfrd.EGFRDSimulator(w)\n",
    "sim.run(T, obs)\n",
    "#viz.plot_trajectory(obs, interactive=False)\n",
    "viz.plot_movie(obs)"
   ]
  },
  {
   "cell_type": "code",
   "execution_count": 23,
   "metadata": {
    "scrolled": true
   },
   "outputs": [
    {
     "name": "stdout",
     "output_type": "stream",
     "text": [
      "(1.2507911028947254e-05, 4.200239828243512e-06, 1.1645401316933313e-05)\n",
      "(1.2218547679928743e-05, 4.318699103257019e-06, 1.193665626928501e-05)\n",
      "(1.1560588447277833e-05, 3.0867863752001764e-06, 1.2492506761630184e-05)\n",
      "(1.1545486842933777e-05, 4.2132710438638636e-06, 1.3053583004163887e-05)\n",
      "(1.1497738541684762e-05, 4.471098506860068e-06, 1.3167839864707792e-05)\n",
      "(1.1872781958114927e-05, 4.6830983799289565e-06, 1.3774377175599519e-05)\n",
      "(1.1198354910770508e-05, 4.2497057211258115e-06, 1.3676859627293599e-05)\n",
      "(1.1751612298764206e-05, 4.6921663081590405e-06, 1.422851880347635e-05)\n",
      "(1.1721126642104643e-05, 4.115801088459168e-06, 1.334529260657637e-05)\n",
      "(1.1951376182703036e-05, 4.111662638849432e-06, 1.4062832006644883e-05)\n",
      "(1.2592533514174199e-05, 3.6187329554963376e-06, 1.4250732242304662e-05)\n"
     ]
    }
   ],
   "source": [
    "for pos in obs.data()[0]:\n",
    "    print(tuple(pos))"
   ]
  },
  {
   "cell_type": "code",
   "execution_count": null,
   "metadata": {},
   "outputs": [],
   "source": []
  }
 ],
 "metadata": {
  "kernelspec": {
   "display_name": "Python 3",
   "language": "python",
   "name": "python3"
  },
  "language_info": {
   "codemirror_mode": {
    "name": "ipython",
    "version": 3
   },
   "file_extension": ".py",
   "mimetype": "text/x-python",
   "name": "python",
   "nbconvert_exporter": "python",
   "pygments_lexer": "ipython3",
   "version": "3.6.5"
  }
 },
 "nbformat": 4,
 "nbformat_minor": 2
}
