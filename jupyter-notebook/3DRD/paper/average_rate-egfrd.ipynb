{
 "cells": [
  {
   "cell_type": "code",
   "execution_count": 1,
   "metadata": {
    "scrolled": true
   },
   "outputs": [
    {
     "ename": "NameError",
     "evalue": "name 'res' is not defined",
     "output_type": "error",
     "traceback": [
      "\u001b[0;31m---------------------------------------------------------------------------\u001b[0m",
      "\u001b[0;31mNameError\u001b[0m                                 Traceback (most recent call last)",
      "\u001b[0;32m<ipython-input-1-ce7304751d57>\u001b[0m in \u001b[0;36m<module>\u001b[0;34m()\u001b[0m\n\u001b[1;32m     58\u001b[0m     \u001b[0mjobs\u001b[0m\u001b[0;34m=\u001b[0m\u001b[0;34m[\u001b[0m\u001b[0;34m{\u001b[0m\u001b[0;34m'kaf'\u001b[0m\u001b[0;34m:\u001b[0m\u001b[0mkaf\u001b[0m\u001b[0;34m,\u001b[0m\u001b[0;34m'L'\u001b[0m\u001b[0;34m:\u001b[0m\u001b[0mL\u001b[0m\u001b[0;34m}\u001b[0m\u001b[0;34m]\u001b[0m\u001b[0;34m\u001b[0m\u001b[0m\n\u001b[1;32m     59\u001b[0m     \u001b[0;31m#res=ensemble.run_slurm(wrap,jobs,n=simrun,nproc=350,path='tmp',modules=('numpy','ecell4','math'))[0]\u001b[0m\u001b[0;34m\u001b[0m\u001b[0;34m\u001b[0m\u001b[0m\n\u001b[0;32m---> 60\u001b[0;31m     \u001b[0mconc\u001b[0m\u001b[0;34m.\u001b[0m\u001b[0mappend\u001b[0m\u001b[0;34m(\u001b[0m\u001b[0mres\u001b[0m\u001b[0;34m[\u001b[0m\u001b[0;36m0\u001b[0m\u001b[0;34m]\u001b[0m\u001b[0;34m[\u001b[0m\u001b[0;36m1\u001b[0m\u001b[0;34m]\u001b[0m\u001b[0;34m)\u001b[0m\u001b[0;34m\u001b[0m\u001b[0m\n\u001b[0m\u001b[1;32m     61\u001b[0m     \u001b[0mrxt\u001b[0m\u001b[0;34m.\u001b[0m\u001b[0mappend\u001b[0m\u001b[0;34m(\u001b[0m\u001b[0mnp\u001b[0m\u001b[0;34m.\u001b[0m\u001b[0mmean\u001b[0m\u001b[0;34m(\u001b[0m\u001b[0;34m[\u001b[0m\u001b[0mr\u001b[0m\u001b[0;34m[\u001b[0m\u001b[0;36m0\u001b[0m\u001b[0;34m]\u001b[0m \u001b[0;32mfor\u001b[0m \u001b[0mr\u001b[0m \u001b[0;32min\u001b[0m \u001b[0mres\u001b[0m\u001b[0;34m]\u001b[0m\u001b[0;34m)\u001b[0m\u001b[0;34m)\u001b[0m\u001b[0;34m\u001b[0m\u001b[0m\n\u001b[1;32m     62\u001b[0m \u001b[0mprint\u001b[0m\u001b[0;34m(\u001b[0m\u001b[0;34m'finish'\u001b[0m\u001b[0;34m)\u001b[0m\u001b[0;34m\u001b[0m\u001b[0m\n",
      "\u001b[0;31mNameError\u001b[0m: name 'res' is not defined"
     ]
    }
   ],
   "source": [
    "from ecell4 import *\n",
    "%matplotlib inline\n",
    "import numpy as np\n",
    "import math\n",
    "import sys\n",
    "import matplotlib.pyplot as plt\n",
    "from ecell4.extra import ensemble\n",
    "import numpy as np\n",
    "\n",
    "def wrap(job,job_id,task_id):\n",
    "    def singlerun(kaf,L,run):\n",
    "        import numpy as np\n",
    "        rng = GSLRandomNumberGenerator()\n",
    "        rng.seed(run)\n",
    "        rm = 0.005\n",
    "        R=2*rm\n",
    "        D = 1\n",
    "        kd= 4.0*math.pi*D*2*rm\n",
    "        ka = kaf*kd\n",
    "        kon = (ka*kd)/(ka+kd)\n",
    "        Vac=L**3\n",
    "        N = 100\n",
    "        M = max(int(min(cbrt(N), L / (2 * rm))), 3)\n",
    "        C=float(N)/Vac\n",
    "        with species_attributes():\n",
    "            A |  {'D': str(0), 'radius':str(rm)}\n",
    "            B |  {'D': str(D), 'radius':str(rm)}\n",
    "\n",
    "        with reaction_rules():#for spa and egfrd\n",
    "            A + B > B | ka\n",
    "\n",
    "        m2 = get_model()\n",
    "\n",
    "        w = egfrd.EGFRDWorld(ones()*L,Integer3(M,M,M))\n",
    "        w.bind_to(m2)\n",
    "        na=1\n",
    "        w.add_molecules(Species('A'), na)\n",
    "        w.add_molecules(Species('B'), N)\n",
    "        sim = egfrd.EGFRDSimulator(w)\n",
    "        sim.initialize()\n",
    "        simt=0\n",
    "        while na==1:\n",
    "            sim.step()\n",
    "            na = w.num_particles_exact(Species('A'))\n",
    "            simt=sim.t()\n",
    "        return simt,C\n",
    "    job.update({'run':task_id})\n",
    "    out=singlerun(**job)\n",
    "    return out\n",
    "\n",
    "kaf=10.\n",
    "simrun=5000\n",
    "Ls=[3,2.5,2,1,0.5,0.1]\n",
    "Ls=[4,3.5]\n",
    "rxt=[]\n",
    "conc=[]\n",
    "for L in Ls:\n",
    "    jobs=[{'kaf':kaf,'L':L}]\n",
    "    #res=ensemble.run_slurm(wrap,jobs,n=simrun,nproc=350,path='tmp',modules=('numpy','ecell4','math'))[0]\n",
    "    conc.append(res[0][1])\n",
    "    rxt.append(np.mean([r[0] for r in res]))\n",
    "print('finish') "
   ]
  },
  {
   "cell_type": "code",
   "execution_count": 24,
   "metadata": {},
   "outputs": [
    {
     "name": "stdout",
     "output_type": "stream",
     "text": [
      "[1.5625     2.33236152]\n",
      "[6.86095951 3.29154353]\n",
      "[10.72024924  7.67706946]\n",
      "phi [8.18123087e-07 1.22122163e-06]\n"
     ]
    }
   ],
   "source": [
    "rxt=np.array(rxt)\n",
    "conc=np.array(conc)\n",
    "print(conc)\n",
    "print(rxt)\n",
    "print(rxt*conc)\n",
    "print('phi',conc*4*math.pi*0.005**3/3)"
   ]
  },
  {
   "cell_type": "code",
   "execution_count": 2,
   "metadata": {},
   "outputs": [
    {
     "name": "stdout",
     "output_type": "stream",
     "text": [
      "[3.7037037e+00 6.4000000e+00 1.2500000e+01 1.0000000e+02 8.0000000e+02\n",
      " 1.0000000e+05]\n",
      "[2.65432419e+00 1.36608182e+00 7.15382003e-01 9.32151634e-02\n",
      " 9.63539119e-03 3.58870174e-05]\n",
      "phi [1.93925472e-06 3.35103216e-06 6.54498469e-06 5.23598776e-05\n",
      " 4.18879020e-04 5.23598776e-02]\n"
     ]
    }
   ],
   "source": [
    "rxt=np.array(rxt)\n",
    "conc=np.array(conc)\n",
    "print(conc)\n",
    "print(rxt)\n",
    "print('phi',conc*4*math.pi*0.005**3/3)"
   ]
  },
  {
   "cell_type": "code",
   "execution_count": 12,
   "metadata": {},
   "outputs": [
    {
     "name": "stdout",
     "output_type": "stream",
     "text": [
      "kaf 10.0\n"
     ]
    },
    {
     "ename": "TypeError",
     "evalue": "can't multiply sequence by non-int of type 'list'",
     "output_type": "error",
     "traceback": [
      "\u001b[0;31m---------------------------------------------------------------------------\u001b[0m",
      "\u001b[0;31mTypeError\u001b[0m                                 Traceback (most recent call last)",
      "\u001b[0;32m<ipython-input-12-7d054224a7c5>\u001b[0m in \u001b[0;36m<module>\u001b[0;34m()\u001b[0m\n\u001b[1;32m      9\u001b[0m \u001b[0mplt\u001b[0m\u001b[0;34m.\u001b[0m\u001b[0mplot\u001b[0m\u001b[0;34m(\u001b[0m\u001b[0mconc\u001b[0m\u001b[0;34m,\u001b[0m\u001b[0;34m[\u001b[0m\u001b[0;36m1\u001b[0m\u001b[0;34m/\u001b[0m\u001b[0mkon\u001b[0m\u001b[0;34m]\u001b[0m\u001b[0;34m*\u001b[0m\u001b[0mlen\u001b[0m\u001b[0;34m(\u001b[0m\u001b[0mconc\u001b[0m\u001b[0;34m)\u001b[0m\u001b[0;34m,\u001b[0m\u001b[0mlabel\u001b[0m\u001b[0;34m=\u001b[0m\u001b[0;34m'1/kon'\u001b[0m\u001b[0;34m)\u001b[0m\u001b[0;34m\u001b[0m\u001b[0m\n\u001b[1;32m     10\u001b[0m \u001b[0mplt\u001b[0m\u001b[0;34m.\u001b[0m\u001b[0mplot\u001b[0m\u001b[0;34m(\u001b[0m\u001b[0mconc\u001b[0m\u001b[0;34m,\u001b[0m\u001b[0;34m[\u001b[0m\u001b[0;36m1\u001b[0m\u001b[0;34m/\u001b[0m\u001b[0mka\u001b[0m\u001b[0;34m]\u001b[0m\u001b[0;34m*\u001b[0m\u001b[0mlen\u001b[0m\u001b[0;34m(\u001b[0m\u001b[0mconc\u001b[0m\u001b[0;34m)\u001b[0m\u001b[0;34m,\u001b[0m\u001b[0mlabel\u001b[0m\u001b[0;34m=\u001b[0m\u001b[0;34m'1/ka'\u001b[0m\u001b[0;34m)\u001b[0m\u001b[0;34m\u001b[0m\u001b[0m\n\u001b[0;32m---> 11\u001b[0;31m \u001b[0mplt\u001b[0m\u001b[0;34m.\u001b[0m\u001b[0msemilogx\u001b[0m\u001b[0;34m(\u001b[0m\u001b[0mconc\u001b[0m\u001b[0;34m,\u001b[0m\u001b[0mrxt\u001b[0m\u001b[0;34m*\u001b[0m\u001b[0mconc\u001b[0m\u001b[0;34m,\u001b[0m\u001b[0;34m'o-'\u001b[0m\u001b[0;34m)\u001b[0m\u001b[0;34m\u001b[0m\u001b[0m\n\u001b[0m\u001b[1;32m     12\u001b[0m \u001b[0mplt\u001b[0m\u001b[0;34m.\u001b[0m\u001b[0mxlabel\u001b[0m\u001b[0;34m(\u001b[0m\u001b[0;34m'conc'\u001b[0m\u001b[0;34m)\u001b[0m\u001b[0;34m\u001b[0m\u001b[0m\n\u001b[1;32m     13\u001b[0m \u001b[0mplt\u001b[0m\u001b[0;34m.\u001b[0m\u001b[0mylabel\u001b[0m\u001b[0;34m(\u001b[0m\u001b[0;34m'mean first rxn time x C'\u001b[0m\u001b[0;34m)\u001b[0m\u001b[0;34m\u001b[0m\u001b[0m\n",
      "\u001b[0;31mTypeError\u001b[0m: can't multiply sequence by non-int of type 'list'"
     ]
    },
    {
     "data": {
      "image/png": "[encoded data removed]",
      "text/plain": [
       "<matplotlib.figure.Figure at 0x7f9a9c8a73c8>"
      ]
     },
     "metadata": {},
     "output_type": "display_data"
    }
   ],
   "source": [
    "print('kaf',kaf)\n",
    "rm = 0.005\n",
    "R=2*rm\n",
    "D = 1\n",
    "kd= 4.0*math.pi*D*R\n",
    "ka = kaf*kd\n",
    "kon = (ka*kd)/(ka+kd)\n",
    "\n",
    "plt.plot(conc,[1/kon]*len(conc),label='1/kon')\n",
    "plt.plot(conc,[1/ka]*len(conc),label='1/ka')\n",
    "plt.semilogx(conc,rxt*conc,'o-')\n",
    "plt.xlabel('conc')\n",
    "plt.ylabel('mean first rxn time x C')"
   ]
  },
  {
   "cell_type": "code",
   "execution_count": 16,
   "metadata": {},
   "outputs": [
    {
     "name": "stdout",
     "output_type": "stream",
     "text": [
      "kaf 0.1\n"
     ]
    },
    {
     "data": {
      "text/plain": [
       "<matplotlib.legend.Legend at 0x7f9a9c6a75f8>"
      ]
     },
     "execution_count": 16,
     "metadata": {},
     "output_type": "execute_result"
    },
    {
     "data": {
      "image/png": "[encoded data removed]",
      "text/plain": [
       "<matplotlib.figure.Figure at 0x7f9a9c697160>"
      ]
     },
     "metadata": {},
     "output_type": "display_data"
    }
   ],
   "source": [
    "print('kaf',kaf)\n",
    "rm = 0.005\n",
    "R=2*rm\n",
    "D = 1\n",
    "kd= 4.0*math.pi*D*R\n",
    "kaf=10\n",
    "ka = kaf*kd\n",
    "kon = (ka*kd)/(ka+kd)\n",
    "\n",
    "econc=np.array([1.5625 ,    2.33236152, 3.7037037e+00, 6.4000000e+00 ,1.2500000e+01, 1.0000000e+02 ,8.0000000e+02,\n",
    " 1.0000000e+05])\n",
    "etime=np.array([6.86095951, 3.29154353,2.65432419e+00, 1.36608182e+00 ,7.15382003e-01 ,9.32151634e-02,\n",
    " 9.63539119e-03, 3.58870174e-05])\n",
    "latconc=np.array([3.64871158e+00 ,6.30025812e+00 ,1.21675553e+01 ,9.55771445e+01,\n",
    " 7.39314196e+02, 6.59368514e+04])\n",
    "lattime=[2.36377904e+00, 1.38089638e+00, 7.03442977e-01, 9.09068837e-02,\n",
    " 1.10260900e-02, 5.28925700e-05]\n",
    "\n",
    "def tautheory(c): #eq4.5 Agmon n Szabo\n",
    "    a=ka*R/(ka+kd)\n",
    "    return 1./(c*4*math.pi*D*a*(1+math.sqrt(4*math.pi*a**3*c)))\n",
    "\n",
    "C=np.logspace(0,5,30)\n",
    "tau=np.array([c*tautheory(c) for c in C])\n",
    "plt.semilogx(C,tau,'-',label='continuum theory')\n",
    "plt.plot(econc,[1/kon]*len(econc),label='1/kon')\n",
    "plt.plot(econc,[1/ka]*len(econc),label='1/ka')\n",
    "plt.semilogx(econc,etime*econc,'o',label='egfrd')\n",
    "plt.semilogx(latconc,lattime*latconc,'x',label='lattice')\n",
    "plt.xlabel('conc')\n",
    "plt.ylabel('mean first rxn time x C')\n",
    "plt.title('N=100,kfactor={},runs={},rm={}'.format(kaf,simrun,rm))\n",
    "plt.legend(loc='best')\n",
    "#plt.savefig(\"./fig.png\",format='png',dpi=900)    "
   ]
  },
  {
   "cell_type": "code",
   "execution_count": 31,
   "metadata": {},
   "outputs": [
    {
     "data": {
      "text/plain": [
       "<matplotlib.legend.Legend at 0x7f9a9b6651d0>"
      ]
     },
     "execution_count": 31,
     "metadata": {},
     "output_type": "execute_result"
    },
    {
     "data": {
      "image/png": "[encoded data removed]",
      "text/plain": [
       "<matplotlib.figure.Figure at 0x7f9a9b665c88>"
      ]
     },
     "metadata": {},
     "output_type": "display_data"
    }
   ],
   "source": [
    "rm = 0.005\n",
    "R=2*rm\n",
    "D = 1\n",
    "kd= 4.0*math.pi*D*R\n",
    "\n",
    "def tautheory(c): #eq4.5 Agmon n Szabo\n",
    "    a=ka*R/(ka+kd)    \n",
    "    return 1./(c*4*math.pi*D*a*(1+math.sqrt(4*math.pi*a**3*c)))\n",
    "\n",
    "C=np.logspace(0,7,30)\n",
    "for kf in [0.1,1]:\n",
    "    ka = kf*kd\n",
    "    tau=np.array([c*tautheory(c) for c in C])\n",
    "    plt.loglog(C,tau,'-',label='kaf='+str(kf))\n",
    "plt.legend()"
   ]
  },
  {
   "cell_type": "code",
   "execution_count": null,
   "metadata": {},
   "outputs": [],
   "source": []
  }
 ],
 "metadata": {
  "anaconda-cloud": {},
  "kernelspec": {
   "display_name": "Python 3",
   "language": "python",
   "name": "python3"
  },
  "language_info": {
   "codemirror_mode": {
    "name": "ipython",
    "version": 3
   },
   "file_extension": ".py",
   "mimetype": "text/x-python",
   "name": "python",
   "nbconvert_exporter": "python",
   "pygments_lexer": "ipython3",
   "version": "3.5.2"
  }
 },
 "nbformat": 4,
 "nbformat_minor": 1
}
