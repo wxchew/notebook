{
 "cells": [
  {
   "cell_type": "code",
   "execution_count": 6,
   "metadata": {
    "scrolled": true
   },
   "outputs": [],
   "source": [
    "from ecell4 import *\n",
    "from ecell4.extra import ensemble\n",
    "import numpy as np\n",
    "import matplotlib.pylab as plt\n",
    "%matplotlib inline\n",
    "\n",
    "duration = 1000#50000\n",
    "L=cbrt(100)\n",
    "Ca=5.\n",
    "Cb=1.\n",
    "k0= 0.1\n",
    "\n",
    "def singlerun(rm,D):\n",
    "    keff = k0/Ca/Cb\n",
    "    Nb=100\n",
    "    Na=500\n",
    "    with species_attributes():\n",
    "        A | {'D': D, 'radius':rm  }\n",
    "        B | {'D': D, 'radius':rm  }\n",
    "\n",
    "    with reaction_rules():\n",
    "        ~A > A | k0\n",
    "        A + B >B | keff\n",
    "    m = get_model()\n",
    "    K = int(L/2/rm)\n",
    "    fac = meso.MesoscopicFactory(Integer3(K,K,K))\n",
    "    fac.rng(GSLRandomNumberGenerator())\n",
    "    w = fac.create_world(Real3(L,L,L))\n",
    "    w.bind_to(m)\n",
    "    w.add_molecules(Species('B'),Nb)\n",
    "    w.add_molecules(Species('A'),0)\n",
    "    sim = fac.create_simulator(w)   \n",
    "    sim.initialize()\n",
    "    obs=NumberObserver(['A'])\n",
    "    sim.run(duration,obs)\n",
    "    return obs\n",
    "\n",
    "\n",
    "import time\n",
    "D=0.1\n",
    "rm=1#0.05#1\n",
    "t=time.time()\n",
    "obs=singlerun(rm,D)\n",
    "dt=time.time()-t"
   ]
  },
  {
   "cell_type": "code",
   "execution_count": 7,
   "metadata": {},
   "outputs": [
    {
     "name": "stdout",
     "output_type": "stream",
     "text": [
      "rm 1\n",
      "3.185025453567505 s\n",
      "0.05308375755945841 min\n"
     ]
    },
    {
     "data": {
      "image/png": "[encoded data removed]",
      "text/plain": [
       "<Figure size 432x288 with 1 Axes>"
      ]
     },
     "metadata": {},
     "output_type": "display_data"
    }
   ],
   "source": [
    "print('rm',rm)\n",
    "print(dt,'s')\n",
    "print(dt/60,'min')\n",
    "viz.plot_number_observer(obs)"
   ]
  },
  {
   "cell_type": "code",
   "execution_count": 8,
   "metadata": {},
   "outputs": [
    {
     "data": {
      "text/plain": [
       "array([  0.,   1.,   2., ..., 483., 484., 484.])"
      ]
     },
     "execution_count": 8,
     "metadata": {},
     "output_type": "execute_result"
    }
   ],
   "source": [
    "np.array(obs.data()).T[1]"
   ]
  },
  {
   "cell_type": "code",
   "execution_count": null,
   "metadata": {},
   "outputs": [],
   "source": []
  }
 ],
 "metadata": {
  "anaconda-cloud": {},
  "kernelspec": {
   "display_name": "Python 3",
   "language": "python",
   "name": "python3"
  },
  "language_info": {
   "codemirror_mode": {
    "name": "ipython",
    "version": 3
   },
   "file_extension": ".py",
   "mimetype": "text/x-python",
   "name": "python",
   "nbconvert_exporter": "python",
   "pygments_lexer": "ipython3",
   "version": "3.6.5"
  }
 },
 "nbformat": 4,
 "nbformat_minor": 1
}
