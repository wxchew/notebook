{
 "cells": [
  {
   "cell_type": "code",
   "execution_count": 1,
   "metadata": {
    "collapsed": true
   },
   "outputs": [],
   "source": [
    "from ecell4 import *\n",
    "import math\n",
    "%matplotlib inline\n",
    "import numpy as np\n",
    "import matplotlib.pyplot as plt\n",
    "rng = GSLRandomNumberGenerator()"
   ]
  },
  {
   "cell_type": "code",
   "execution_count": 2,
   "metadata": {
    "collapsed": false
   },
   "outputs": [
    {
     "name": "stdout",
     "output_type": "stream",
     "text": [
      "kD,ka,kon 1.256 0.1256 0.114181818182\n",
      "dt 1.66666666667e-06 0.0166666666667 10000.0\n",
      "alpha 3.37789863624\n",
      "pacc 0.296042039057 5.6298310604e-06\n",
      "0.0909090909091\n"
     ]
    }
   ],
   "source": [
    "voxelr = 0.005\n",
    "L = 2.\n",
    "V=L**3\n",
    "Da = 10.\n",
    "Db = 0.\n",
    "kD = 4*3.14*2*voxelr*Da\n",
    "ka = 0.1*kD\n",
    "kon = ka*kD/(ka+kD)\n",
    "print 'kD,ka,kon',kD,ka,kon\n",
    "dt = 2*voxelr*voxelr/3./Da\n",
    "tb = (0.5*0.5*L*L)/6./Da #time to boundary\n",
    "print 'dt',dt,tb,tb/dt\n",
    "pacc = ka/6./(2**0.5)/Da/voxelr\n",
    "P = 1. #must be less then one\n",
    "alpha = P/pacc\n",
    "print 'alpha',alpha\n",
    "print 'pacc',pacc,dt*alpha\n",
    "print 1./(1+kD/ka)"
   ]
  },
  {
   "cell_type": "code",
   "execution_count": 3,
   "metadata": {
    "collapsed": true
   },
   "outputs": [],
   "source": [
    "def create_model_spa(Da,Db,voxelr,k): \n",
    "    with species_attributes():\n",
    "        A | {'D': str(Da), 'radius':str(voxelr)}\n",
    "        B | {'D': str(Db), 'radius':str(voxelr)}\n",
    "        #C | {'D': str(Db), 'radius':str(voxelr)}        \n",
    "    with reaction_rules():\n",
    "        A + B > B | k\n",
    "    return get_model()"
   ]
  },
  {
   "cell_type": "code",
   "execution_count": 7,
   "metadata": {
    "collapsed": false
   },
   "outputs": [],
   "source": [
    "#spatio\n",
    "M =  L /(voxelr*2)\n",
    "def spa_singlerun():\n",
    "    model = create_model_spa(Da,Db,voxelr,ka)\n",
    "    w = spatiocyte.SpatiocyteWorld(Real3(L,L,L),voxelr,rng)  \n",
    "    #w = spatiocyte.create_spatiocyte_world_cell_list_impl(Real3(L,L,L),voxelr,Integer3(M,M,M),rng)    \n",
    "    w.bind_to(model)\n",
    "    (pidB,posB),suc = w.new_particle(Species(\"B\"),Real3(L*0.5,L*0.5,L*0.5))\n",
    "    coord = w.position2coordinate(posB.position())\n",
    "    neipos = w.coordinate2position(w.get_neighbor(coord,1))\n",
    "    (pidA,posA),suc = w.new_particle(Species(\"A\"),neipos)\n",
    "    sim = spatiocyte.SpatiocyteSimulator(w)\n",
    "    #sim.set_alpha(alpha)\n",
    "    sim.initialize()    \n",
    "    duration = dt#1e-4\n",
    "    bol = 0\n",
    "    while sim.t() < duration:\n",
    "        sim.step()\n",
    "        cNa = w.num_molecules_exact(Species(\"A\"))\n",
    "        if (cNa == 0):\n",
    "            return sim.t()  \n",
    "        else:           \n",
    "            pidA,posA = w.get_particle(pidA)\n",
    "            inc = np.linalg.norm(np.array(tuple(posA.position()))-np.array(tuple(posB.position()))    )\n",
    "            if (inc>0.5*L):\n",
    "                #print 'escape'\n",
    "                return 0\n",
    "        \n",
    "    return 0"
   ]
  },
  {
   "cell_type": "code",
   "execution_count": null,
   "metadata": {
    "collapsed": false
   },
   "outputs": [],
   "source": [
    "rebtime = []\n",
    "norun = 100\n",
    "#rng.seed(0)\n",
    "for i in range(norun):\n",
    "    #print 'i',i\n",
    "    suc = spa_singlerun()\n",
    "    if (suc!=0):\n",
    "        rebtime.append(suc)"
   ]
  },
  {
   "cell_type": "code",
   "execution_count": null,
   "metadata": {
    "collapsed": false
   },
   "outputs": [],
   "source": [
    "rebtime=np.array(rebtime)\n",
    "print float(len(rebtime))/norun\n",
    "print min(rebtime)\n",
    "print max(rebtime)\n",
    "print float(len(rebtime[rebtime<dt]))/norun\n",
    "#print 'mean',np.mean(rebtime),'1/kon',1./kon"
   ]
  },
  {
   "cell_type": "code",
   "execution_count": 8,
   "metadata": {
    "collapsed": false
   },
   "outputs": [
    {
     "name": "stdout",
     "output_type": "stream",
     "text": [
      "sum of prob 0.0112666666667 88.7573964497\n"
     ]
    },
    {
     "data": {
      "text/plain": [
       "<matplotlib.text.Text at 0x7f0260f57450>"
      ]
     },
     "execution_count": 8,
     "metadata": {},
     "output_type": "execute_result"
    },
    {
     "data": {
      "image/png": "[encoded data removed]",
      "text/plain": [
       "<matplotlib.figure.Figure at 0x7f0260f3b950>"
      ]
     },
     "metadata": {},
     "output_type": "display_data"
    }
   ],
   "source": [
    "N = norun\n",
    "#plt.plot(tt2,z(tt2),label='p ~ t^-0.5')\n",
    "tmol = 1.66666666667e-06\n",
    "\n",
    "binlist = np.logspace(math.log10(min(rebtime)),math.log10(max(rebtime)),50)\n",
    "f, bins = np.histogram(rebtime, bins = binlist)\n",
    "binwidth = bins[1:]-bins[:-1]    \n",
    "ds = [float(h)/N/w for h,w in zip(f,binwidth)]\n",
    "sump = np.sum(ds*binwidth)\n",
    "print 'sum of prob',sump,1./sump\n",
    "t = 0.5*(bins[1:]+bins[:-1])\n",
    "plt.loglog(t,ds,'.')\n",
    "y = lambda x: 1e-10*(x**(-3./2)) #t^(-3/2)\n",
    "z = lambda x: 1e-4*(x**-0.5) #t^(-0.5)\n",
    "tt = np.logspace(-5.5,-3.5,100)\n",
    "tt2 = np.logspace(-8,-6,100)\n",
    "#plt.plot(tt,y(tt),label='p ~ t^(-3/2)')\n",
    "prange = np.logspace(-6,-1,10)\n",
    "#plt.plot([tmol]*len(prange),prange,'r')\n",
    "plt.plot([tb]*len(prange),prange,'c')\n",
    "plt.ylabel('dS/dt')\n",
    "plt.xlabel('time')\n",
    "#plt.legend()"
   ]
  },
  {
   "cell_type": "code",
   "execution_count": 41,
   "metadata": {
    "collapsed": false
   },
   "outputs": [
    {
     "data": {
      "text/plain": [
       "1.0416666666666667e-06"
      ]
     },
     "execution_count": 41,
     "metadata": {},
     "output_type": "execute_result"
    }
   ],
   "source": [
    "2* 0.0025* 0.0025/3./4"
   ]
  },
  {
   "cell_type": "code",
   "execution_count": 45,
   "metadata": {
    "collapsed": false
   },
   "outputs": [
    {
     "data": {
      "text/plain": [
       "0.0004166666666666667"
      ]
     },
     "execution_count": 45,
     "metadata": {},
     "output_type": "execute_result"
    }
   ],
   "source": [
    "2* 0.0025* 0.0025/3./0.01"
   ]
  },
  {
   "cell_type": "code",
   "execution_count": null,
   "metadata": {
    "collapsed": true
   },
   "outputs": [],
   "source": []
  }
 ],
 "metadata": {
  "kernelspec": {
   "display_name": "Python 2",
   "language": "python",
   "name": "python2"
  },
  "language_info": {
   "codemirror_mode": {
    "name": "ipython",
    "version": 2
   },
   "file_extension": ".py",
   "mimetype": "text/x-python",
   "name": "python",
   "nbconvert_exporter": "python",
   "pygments_lexer": "ipython2",
   "version": "2.7.10"
  }
 },
 "nbformat": 4,
 "nbformat_minor": 2
}
