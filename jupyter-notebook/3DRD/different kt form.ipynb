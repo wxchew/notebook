{
 "cells": [
  {
   "cell_type": "code",
   "execution_count": 19,
   "metadata": {
    "collapsed": false
   },
   "outputs": [
    {
     "name": "stdout",
     "output_type": "stream",
     "text": [
      "tau 1.66666666667e-05 dtau 3.335e-08\n",
      "ka 0.0251327412287 kt2 kt2 0.0250300772758\n",
      "0.0248133418898\n",
      "[0.025132741228718353, 0.025122103101986933, 0.025117721652792833]\n"
     ]
    }
   ],
   "source": [
    "import math\n",
    "import numpy as np\n",
    "\n",
    "def kt(tau):\n",
    "    re = 2*rm*ka/(kd+ka)\n",
    "    return 4*math.pi*re*Dt*(1+re/((math.pi*Dt*tau)**(0.5)))\n",
    "\n",
    "def phi(x):\n",
    "    return 1./( (377.*x/324)+(1+ (314.*(x**2)/847) )**0.5)\n",
    "\n",
    "def kt2(tau):\n",
    "    tauc = ((ka*2*rm/(ka+kd))**2)/(2*Dt)\n",
    "    x = ka*((tau/tauc)**(0.5))/kd\n",
    "    return kon*(1+(ka*phi(x)/kd))\n",
    "\n",
    "\n",
    "rm = 0.005\n",
    "rv = 1.001*rm\n",
    "D = 1\n",
    "Dt = 2*D\n",
    "tau = (2./3)*(rm**2)/D\n",
    "tau2 = (2./3)*(rv**2)/D\n",
    "dtau = tau2-tau\n",
    "kd= 4.0*math.pi*D*4*rm\n",
    "ka = 0.1*kd\n",
    "kon = (ka*kd)/(ka+kd)\n",
    "print 'tau',tau, 'dtau',dtau\n",
    "print 'ka',ka,'kt2','kt2',kt2(dtau)\n",
    "\n",
    "dt = dtau/100#1e-9\n",
    "kts = [kt2(t-tau) for t in np.arange(tau,tau2,dt)]\n",
    "km = np.trapz(kts,dx=dt)/dtau\n",
    "print km\n",
    "print kts[:3]\n"
   ]
  },
  {
   "cell_type": "code",
   "execution_count": null,
   "metadata": {
    "collapsed": true
   },
   "outputs": [],
   "source": []
  }
 ],
 "metadata": {
  "kernelspec": {
   "display_name": "Python [default]",
   "language": "python",
   "name": "python2"
  },
  "language_info": {
   "codemirror_mode": {
    "name": "ipython",
    "version": 2
   },
   "file_extension": ".py",
   "mimetype": "text/x-python",
   "name": "python",
   "nbconvert_exporter": "python",
   "pygments_lexer": "ipython2",
   "version": "2.7.12"
  }
 },
 "nbformat": 4,
 "nbformat_minor": 1
}
