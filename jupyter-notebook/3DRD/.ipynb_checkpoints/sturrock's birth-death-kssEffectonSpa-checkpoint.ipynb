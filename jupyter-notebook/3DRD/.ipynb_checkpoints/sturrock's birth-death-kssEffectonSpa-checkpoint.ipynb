{
 "cells": [
  {
   "cell_type": "code",
   "execution_count": 2,
   "metadata": {
    "scrolled": true
   },
   "outputs": [
    {
     "name": "stdout",
     "output_type": "stream",
     "text": [
      "spa\n",
      "Nb 128\n",
      "rm=0.02,D=0.02\n",
      "kon=0.1,ka=3.79,kd=0.0201,keff=0.02,kfactor=1.88e+02,V=1.28e+02\n",
      "mean [A] 4.9385038857\n",
      "saving into /home/chew/outputdata/sturrock_bd_spa_rm0.02_D0.02_L5.0\n",
      "saving into /home/chew/outputdata/sturrock_bd_spa_rm0.02_D0.02_L5.0_err\n"
     ]
    }
   ],
   "source": [
    "from ecell4 import *\n",
    "from ecell4.extra import ensemble\n",
    "import numpy as np\n",
    "import matplotlib.pylab as plt\n",
    "%matplotlib inline\n",
    "\n",
    "simrun=140#0\n",
    "duration = 1000\n",
    "nproc=70\n",
    "L=5.#cbrt(100)\n",
    "Ca=5.\n",
    "Cb=1.\n",
    "k0= 0.1\n",
    "method='multiprocessing'\n",
    "\n",
    "def write(name,obs):\n",
    "    f=open(name,'w')\n",
    "    data = np.array(obs.data()).T\n",
    "    np.savetxt(name,np.column_stack([data[0],data[1]]),delimiter=',',fmt='%s')\n",
    "    f.close()        \n",
    "    print('saving into',name)        \n",
    "    e=open(name+'_err','w')        \n",
    "    err = np.array(obs.error()).T        \n",
    "    np.savetxt(name+'_err',np.column_stack([err[0],err[1]]),delimiter=',',fmt='%s')\n",
    "    e.close()\n",
    "    print('saving into',name+'_err')\n",
    "\n",
    "def singlerun(rm,D,solver='ode',intrinsic=False,simrun=1):   \n",
    "    print(solver)\n",
    "    V = L**3 \n",
    "    if solver=='spa':\n",
    "        solver=(\"spatiocyte\",rm)\n",
    "        V=spatiocyte.SpatiocyteWorld.calculate_volume(Real3(L,L,L),rm)    \n",
    "    keff = k0/Ca/Cb\n",
    "    Nb=int(Cb*V)\n",
    "    print('Nb',Nb)\n",
    "    kd = 4*np.pi*rm*2*D*2\n",
    "    ka = keff*kd/(kd-keff)\n",
    "    assert(ka>0)\n",
    "    with species_attributes():\n",
    "        A | {'D': D, 'radius':rm}\n",
    "        B | {'D': D, 'radius':rm}\n",
    "\n",
    "    with reaction_rules():\n",
    "        ~A > A | k0\n",
    "        A + B >B | (ka if intrinsic else keff)\n",
    "    m = get_model()\n",
    "    print('rm={:.3},D={:.3}'.format(rm,D))\n",
    "    print('kon={:.3},ka={:.3},kd={:.3},keff={:.3},kfactor={:.3},V={:.3}'.format(k0,ka,kd,keff,ka/kd,V))\n",
    "    if simrun >1    :\n",
    "        obs=ensemble.ensemble_simulations(duration,n=simrun, y0={'B':Nb},model=m, solver=solver,volume=ones()*L,species_list=[\"A\"],return_type='observer',nproc=nproc,method=method,path='tmp')#,return_type=\"observer\")\n",
    "    else:\n",
    "        obs=run_simulation(duration,model=m,y0={'B':Nb},return_type='observer',species_list=['A'],solver=solver,volume=ones()*L)\n",
    "    data = np.array(obs.data()).T\n",
    "    print('mean [A]',np.mean(data[1][50:])/V)   \n",
    "    write('/home/chew/outputdata/sturrock_bd_spa_rm{:.3}_D{:.3}_L{:.3}'.format(rm,D,L),obs)\n",
    "    return obs\n",
    "\n",
    "#obs2=singlerun(0.05,0.1,'spa',True,simrun)   \n",
    "#obs3=singlerun(0.05,0.01,'spa',True,simrun)   \n",
    "#obs4=singlerun(0.1,0.01,'spa',True,simrun)   \n",
    "#obs5=singlerun(0.1,0.1,'spa',True,simrun)   \n",
    "#obs6=singlerun(0.1,0.005,'spa',True,simrun)   \n",
    "#obs7=singlerun(0.02,0.1,'spa',True,simrun)   \n",
    "obs8=singlerun(0.02,0.02,'spa',True,simrun)   \n",
    "#obs9=singlerun(0.05,0.02,'spa',True,simrun)   \n",
    "#obs1=singlerun(0.05,0.1,'spa',True,simrun)   \n",
    "\n",
    "    "
   ]
  },
  {
   "cell_type": "code",
   "execution_count": 2,
   "metadata": {},
   "outputs": [
    {
     "data": {
      "image/png": "[encoded data removed]",
      "text/plain": [
       "<matplotlib.figure.Figure at 0x7f57f870e470>"
      ]
     },
     "metadata": {},
     "output_type": "display_data"
    }
   ],
   "source": [
    "viz.plot_number_observer(obs7,'r.',obs8,'g.',obs9,'k-',obs1,'y-')#,obs6,'c-')"
   ]
  },
  {
   "cell_type": "code",
   "execution_count": null,
   "metadata": {},
   "outputs": [],
   "source": []
  }
 ],
 "metadata": {
  "anaconda-cloud": {},
  "kernelspec": {
   "display_name": "Python 3",
   "language": "python",
   "name": "python3"
  },
  "language_info": {
   "codemirror_mode": {
    "name": "ipython",
    "version": 3
   },
   "file_extension": ".py",
   "mimetype": "text/x-python",
   "name": "python",
   "nbconvert_exporter": "python",
   "pygments_lexer": "ipython3",
   "version": "3.6.5"
  }
 },
 "nbformat": 4,
 "nbformat_minor": 1
}
