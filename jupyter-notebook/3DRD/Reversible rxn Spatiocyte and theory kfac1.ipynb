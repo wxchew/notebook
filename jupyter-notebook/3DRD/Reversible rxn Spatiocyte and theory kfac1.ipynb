{
 "cells": [
  {
   "cell_type": "code",
   "execution_count": 9,
   "metadata": {
    "collapsed": false,
    "scrolled": true
   },
   "outputs": [
    {
     "name": "stdout",
     "output_type": "stream",
     "text": [
      "L 1.0\n",
      "Vr 1.03744444194\n",
      "0.251327412287 0.251327412287 0.125663706144\n",
      "phi 0.136317040721 phir 0.136317040721\n",
      "-404214.867075\n",
      "0.274371814813\n"
     ]
    }
   ],
   "source": [
    "%matplotlib inline\n",
    "from ecell4 import *\n",
    "import numpy as np\n",
    "import math\n",
    "import matplotlib.pyplot as plt\n",
    "\n",
    "k_factor = 1.\n",
    "voxelr = 0.005  \n",
    "L = 200*voxelr\n",
    "print 'L',L\n",
    "D = 1\n",
    "kd= 4.0*math.pi*D*4*voxelr\n",
    "ka = k_factor*kd\n",
    "kr = ka*100\n",
    "kon = (ka*kd)/(ka+kd)\n",
    "koff = (kr*kd)/(ka+kd)\n",
    "tm =(2*voxelr)**2/(6*D)\n",
    "N = 1000\n",
    "duration = 0.3#-math.log(0.1)/N/kon\n",
    "dt=duration/20\n",
    "w = spatiocyte.SpatiocyteWorld(ones()*L,voxelr)\n",
    "Vr = w.calculate_volume(ones()*L,voxelr)\n",
    "lx,ly,lz = tuple(w.calculate_shape(ones()*L,voxelr))\n",
    "Nv = lx*ly*lz\n",
    "vv = w.calculate_voxel_volume(voxelr)\n",
    "phi = 2.*N/Nv\n",
    "print 'Vr',Vr\n",
    "print ka,kd,kon\n",
    "print 'phi',phi*100,'phir',2*N*100*vv/Vr\n",
    "aa = 1\n",
    "bb = Vr*kr/ka\n",
    "cc = -Vr*kr*N/ka\n",
    "print bb**2+4*aa*cc\n",
    "Aeq = [(-bb-math.sqrt(bb**2-4*aa*cc))/2/aa,(-bb+math.sqrt(bb**2-4*aa*cc))/2/aa][1]/N\n",
    "print Aeq"
   ]
  },
  {
   "cell_type": "code",
   "execution_count": 11,
   "metadata": {
    "collapsed": false
   },
   "outputs": [
    {
     "name": "stdout",
     "output_type": "stream",
     "text": [
      "6.31534558785e-09\n"
     ]
    },
    {
     "data": {
      "image/png": "[encoded data removed]",
      "text/plain": [
       "<matplotlib.figure.Figure at 0x7fef05f3f5d0>"
      ]
     },
     "metadata": {},
     "output_type": "display_data"
    }
   ],
   "source": [
    "with reaction_rules():#for ODE\n",
    "    A +B == C | (kon,koff)\n",
    "\n",
    "m1 = get_model()\n",
    "\n",
    "ode = np.array(run_simulation(duration, model=m1, y0={'A': N,'B': N}, solver='ode', volume=Vr, return_type='array'))\n",
    "to = ode[:,0]\n",
    "nao = ode[:,1]/N\n",
    "nco = ode[:,3]/N\n",
    "plt.plot(to,nao,'g--')\n",
    "plt.plot(to,nco,'k--')\n",
    "print (nao[-1]-Aeq)*100/Aeq\n",
    "#print nco[-1]/nao[-1]**2 , ka/kr"
   ]
  },
  {
   "cell_type": "code",
   "execution_count": 12,
   "metadata": {
    "collapsed": false
   },
   "outputs": [],
   "source": [
    "with species_attributes():\n",
    "    A |B|C | {'D': str(D), 'radius':str(voxelr)}\n",
    "\n",
    "with reaction_rules():#for spa and egfrd\n",
    "    A + B == C | (ka,kr)\n",
    "\n",
    "m2 = get_model()\n",
    "\n",
    "def singlerun(i):\n",
    "    rng = GSLRandomNumberGenerator()\n",
    "    rng.seed(i)\n",
    "    #w = spatiocyte.create_spatiocyte_world_cell_list_impl(ones() * L, voxelr, Integer3(3, 3, 3), rng)\n",
    "    w = spatiocyte.SpatiocyteWorld(ones()*L,voxelr,rng)\n",
    "    w.bind_to(m2)\n",
    "    #ll= tuple(w.actual_lengths())\n",
    "    #print ll[0]*ll[1]*ll[2]\n",
    "    w.add_molecules(Species('A'), N)\n",
    "    w.add_molecules(Species('B'), N)\n",
    "    obs = FixedIntervalNumberObserver(dt, ('A'))\n",
    "    sim = spatiocyte.SpatiocyteSimulator(w)\n",
    "    sim.initialize()\n",
    "    sim.run(duration, obs)    \n",
    "    return np.array(obs.data())\n"
   ]
  },
  {
   "cell_type": "code",
   "execution_count": 13,
   "metadata": {
    "collapsed": false
   },
   "outputs": [],
   "source": [
    "def rung(run):   \n",
    "    leng = int((duration/dt)+1)\n",
    "    n = np.empty([run,leng])\n",
    "    for i in range(run):\n",
    "        spa = gfrd(i)\n",
    "        n[i] = spa[:,1]        \n",
    "    ts = spa[:,0]\n",
    "    return ts,n\n",
    "\n",
    "def rungtest(run):   \n",
    "    spa = rungfrd(1)\n",
    "    return spa[:,0]  ,spa[:,1]\n",
    "\n",
    "def runspa(run):   \n",
    "    leng = int((duration/dt)+1)\n",
    "    n = np.empty([run,leng])\n",
    "    for i in range(run):\n",
    "        spa = singlerun(i)\n",
    "        n[i] = spa[:,1]        \n",
    "    ts = spa[:,0]\n",
    "    return ts,n\n"
   ]
  },
  {
   "cell_type": "code",
   "execution_count": null,
   "metadata": {
    "collapsed": false
   },
   "outputs": [],
   "source": [
    "run = 10000\n",
    "#te,nae = rungtest(run)\n",
    "#print len(te)\n",
    "ts,nas = runspa(run)\n"
   ]
  },
  {
   "cell_type": "code",
   "execution_count": null,
   "metadata": {
    "collapsed": false
   },
   "outputs": [],
   "source": [
    "mean = np.mean(nas,axis=0)/N\n",
    "std = np.std(nas,axis=0)/N\n",
    "Amean =np.mean(mean[-3:-1] )\n",
    "print Amean,Aeq,abs(Amean-Aeq)*100/Aeq"
   ]
  },
  {
   "cell_type": "code",
   "execution_count": null,
   "metadata": {
    "collapsed": false
   },
   "outputs": [],
   "source": [
    "plt.errorbar(ts,mean,std,fmt=' ',marker='.')\n",
    "plt.plot(to,nao,'r--')\n",
    "print mean[-4:-1],Aeq"
   ]
  },
  {
   "cell_type": "code",
   "execution_count": null,
   "metadata": {
    "collapsed": true
   },
   "outputs": [],
   "source": []
  },
  {
   "cell_type": "code",
   "execution_count": null,
   "metadata": {
    "collapsed": true
   },
   "outputs": [],
   "source": []
  }
 ],
 "metadata": {
  "anaconda-cloud": {},
  "kernelspec": {
   "display_name": "Python 2",
   "language": "python",
   "name": "python2"
  },
  "language_info": {
   "codemirror_mode": {
    "name": "ipython",
    "version": 2
   },
   "file_extension": ".py",
   "mimetype": "text/x-python",
   "name": "python",
   "nbconvert_exporter": "python",
   "pygments_lexer": "ipython2",
   "version": "2.7.10"
  }
 },
 "nbformat": 4,
 "nbformat_minor": 1
}
