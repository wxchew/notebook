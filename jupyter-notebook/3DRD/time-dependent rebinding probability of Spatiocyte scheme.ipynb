{
 "cells": [
  {
   "cell_type": "code",
   "execution_count": 1,
   "metadata": {
    "collapsed": false
   },
   "outputs": [
    {
     "name": "stdout",
     "output_type": "stream",
     "text": [
      "29.0140372506\n"
     ]
    }
   ],
   "source": [
    "import sys\n",
    "import math\n",
    "import numpy as np\n",
    "from numpy import pi, sqrt, inf, log\n",
    "from ecell4 import *\n",
    "\n",
    "L = 100\n",
    "voxel_radius = 0.005\n",
    "D = 1\n",
    "rng = GSLRandomNumberGenerator()\n",
    "rng.seed(1)\n",
    "#if len(sys.argv) > 1:\n",
    "#    rng.seed(int(sys.argv[1]))\n",
    "\n",
    "w = spatiocyte.create_spatiocyte_world_cell_list_impl(ones() * L, voxel_radius, Integer3(3, 3, 3), rng)\n",
    "\n",
    "def singlerunA(dt, Pacc,alpha):\n",
    "    assert Pacc*alpha  <= 1\n",
    "    assert alpha<=1\n",
    "\n",
    "    coord1 = w.position2coordinate(ones() * L * 0.5)\n",
    "    coord2 = w.get_neighbor(coord1, 0)\n",
    "\n",
    "    dt = dt*alpha\n",
    "    t, nsteps = 0.0, 0\n",
    "    while all(0 <= dim < L for dim in w.coordinate2position(coord2)) and nsteps < maxstep:\n",
    "        rnd = w.rng().uniform_int(0, 11)\n",
    "        newcoord = w.get_neighbor(coord2, rnd)\n",
    "        if newcoord == coord1:\n",
    "            if Pacc * alpha >= w.rng().uniform(0, 1):\n",
    "                return t\n",
    "        elif alpha >= w.rng().uniform(0, 1):\n",
    "            coord2 = newcoord\n",
    "        t += dt\n",
    "        nsteps += 1\n",
    "    return False\n",
    "\n",
    "def singlerun(dt, Pacc):\n",
    "    assert Pacc<= 1\n",
    "    coord1 = w.position2coordinate(ones() * L * 0.5)\n",
    "    coord2 = w.get_neighbor(coord1, 0)\n",
    "\n",
    "    dt = dt\n",
    "    t, nsteps = 0.0, 0\n",
    "    while all(0 <= dim < L for dim in w.coordinate2position(coord2)) and nsteps < maxstep:\n",
    "        rnd = w.rng().uniform_int(0, 11)\n",
    "        newcoord = w.get_neighbor(coord2, rnd)\n",
    "        if newcoord == coord1:\n",
    "            if Pacc >= w.rng().uniform(0, 1):\n",
    "                return t\n",
    "        else:\n",
    "            coord2 = newcoord\n",
    "            nsteps += 1\n",
    "        t += dt\n",
    "    return False\n",
    "\n",
    "        \n",
    "kD = 4 * pi * (2 * voxel_radius) * D\n",
    "ka_factor = 10  # 100.0\n",
    "ka = kD * ka_factor\n",
    "r0=0.256318\n",
    "Pacc = Pacc = (1./r0-1)*ka_factor#ka / (6 * sqrt(2) * D * voxel_radius)\n",
    "dt = (4 * voxel_radius * voxel_radius) / (6 * D)\n",
    "maxstep= 1000000\n",
    "ntrials = 10000\n",
    "print Pacc\n",
    "if Pacc<=1:\n",
    "    res = [singlerun(dt, Pacc) for _ in range(ntrials)]\n",
    "else:    \n",
    "    res = [singlerunA(dt, Pacc,0.1/Pacc) for _ in range(ntrials)]\n",
    "times = np.array([i for i in res if i != False])\n",
    "#print float(len(times))/ntrials\n",
    "#print float(len(times[times<dt]))/ntrials"
   ]
  },
  {
   "cell_type": "code",
   "execution_count": 19,
   "metadata": {
    "collapsed": true
   },
   "outputs": [],
   "source": [
    "def phix(x):\n",
    "    return 1./( (377.*x/324)+(1+ (314.*(x**2)/847) )**0.5)\n",
    "\n",
    "def f(t):\n",
    "    x = np.sqrt(t)\n",
    "    return (1./math.pi**0.5 /x - phix(x))\n",
    "\n",
    "def theory(c):\n",
    "    R = 2*voxel_radius\n",
    "    tmol = R*R/D/(1+ka/kD)**2\n",
    "    Ptotal = ka/(ka+kD)\n",
    "    tau = np.logspace(-2,math.log10(1e-1/tmol),100)\n",
    "    #tau = np.logspace(0,math.log10(1e-1/tmol),100)\n",
    "    t = tau*tmol\n",
    "    Nfactor = (ka*(1+ka/kD)*D/kD/R/R)\n",
    "    plt.loglog(t,f(tau)*Nfactor,'-',c=c)#,label='factor'+str(factor))\n",
    "    #plt.plot([tmol]*10, np.logspace(-10,4,10),'--')\n",
    "    return #t,Ptotal*f(tau)"
   ]
  },
  {
   "cell_type": "code",
   "execution_count": 29,
   "metadata": {
    "collapsed": false
   },
   "outputs": [
    {
     "data": {
      "image/png": "[encoded data removed]",
      "text/plain": [
       "<matplotlib.figure.Figure at 0x7f61aca59d50>"
      ]
     },
     "metadata": {},
     "output_type": "display_data"
    }
   ],
   "source": [
    "%matplotlib inline\n",
    "import matplotlib.pyplot as plt\n",
    "hist, bin_edges = np.histogram(times,bins=np.logspace(np.log10(min(times)),np.log10(max(times)),20))\n",
    "tt = 0.5*(bin_edges[:-1]+bin_edges[1:])\n",
    "binwid = -(bin_edges[:-1]-bin_edges[1:])\n",
    "ft = np.array([float(h)/ntrials/b for h,b in zip(hist,binwid)])\n",
    "plt.loglog(tt,ft,'.')\n",
    "z = lambda x: 1e-4*(x**-1.5) #t^(-0.5)\n",
    "w = lambda x: 1e2*(x**-0.5) #t^(-0.5)\n",
    "#plt.plot(np.logspace(-5,-2,50),z(np.logspace(-5,-2,50)),label='p ~ t^-1.5')\n",
    "#plt.plot(np.logspace(-8,-5,50),w(np.logspace(-8,-5,50)),'r',label='p ~ t^-0.5')\n",
    "prange = np.logspace(1,6,10)\n",
    "plt.plot([dt]*len(prange),prange,'c')\n",
    "plt.xlabel('times')\n",
    "plt.ylabel('reaction frequency')\n",
    "#totalsum = sum(ft*binwid)\n",
    "theory('r')\n",
    "plt.legend()\n"
   ]
  },
  {
   "cell_type": "code",
   "execution_count": 30,
   "metadata": {
    "collapsed": false
   },
   "outputs": [],
   "source": [
    "name = \"rebinding_prob_kfac10\"\n",
    "fn = open(name,'w')\n",
    "np.savetxt(name,np.column_stack((tt,ft)),delimiter=',')\n",
    "fn.close()"
   ]
  },
  {
   "cell_type": "code",
   "execution_count": null,
   "metadata": {
    "collapsed": true
   },
   "outputs": [],
   "source": []
  }
 ],
 "metadata": {
  "kernelspec": {
   "display_name": "Python 2",
   "language": "python",
   "name": "python2"
  },
  "language_info": {
   "codemirror_mode": {
    "name": "ipython",
    "version": 2
   },
   "file_extension": ".py",
   "mimetype": "text/x-python",
   "name": "python",
   "nbconvert_exporter": "python",
   "pygments_lexer": "ipython2",
   "version": "2.7.10"
  }
 },
 "nbformat": 4,
 "nbformat_minor": 2
}
