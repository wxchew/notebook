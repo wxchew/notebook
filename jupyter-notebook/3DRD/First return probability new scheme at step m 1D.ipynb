{
 "cells": [
  {
   "cell_type": "code",
   "execution_count": 1,
   "metadata": {
    "collapsed": false
   },
   "outputs": [],
   "source": [
    "import math\n",
    "import numpy as np\n",
    "import scipy.special\n",
    "import matplotlib.pyplot as plt\n",
    "%matplotlib inline"
   ]
  },
  {
   "cell_type": "code",
   "execution_count": 43,
   "metadata": {
    "collapsed": false
   },
   "outputs": [
    {
     "name": "stdout",
     "output_type": "stream",
     "text": [
      "2.96192195877\n",
      "0.5\n",
      "0.263 3.27689013728e-06\n"
     ]
    }
   ],
   "source": [
    "tmol=1e-6\n",
    "R = 0.005*2\n",
    "D = 10.\n",
    "kD = 4*math.pi*R*D\n",
    "ka = 1*kD\n",
    "Pa = ka/6./math.sqrt(2)/D/0.005\n",
    "print Pa\n",
    "totalrep = 1./(1+kD/ka)\n",
    "print totalrep\n",
    "tau = tmol/((R)**2 /D/(1+ka/kD)**2)\n",
    "#prebt = (1+math.exp(tau)*(scipy.special.erf(math.sqrt(tau))-1))/(1+kD/ka)\n",
    "prebt = 0.263#0.982\n",
    "lamda = -np.log(1-prebt)/tmol\n",
    "print prebt,1./lamda"
   ]
  },
  {
   "cell_type": "code",
   "execution_count": 44,
   "metadata": {
    "collapsed": false
   },
   "outputs": [
    {
     "name": "stdout",
     "output_type": "stream",
     "text": [
      "0.96977\n"
     ]
    }
   ],
   "source": [
    "dat = np.random.exponential(1/lamda,int(1e5))\n",
    "hist, bin_edges = np.histogram(dat,bins=np.logspace(-7,0,50))\n",
    "tt = 0.5*(bin_edges[:-1]+bin_edges[1:])\n",
    "binwid = -(bin_edges[:-1]-bin_edges[1:])\n",
    "ft = np.array([float(h)/int(1e5)/b for h,b in zip(hist,binwid)])\n",
    "print sum(ft*binwid)"
   ]
  },
  {
   "cell_type": "code",
   "execution_count": 35,
   "metadata": {
    "collapsed": false
   },
   "outputs": [
    {
     "name": "stdout",
     "output_type": "stream",
     "text": [
      "8.22002384703e-13 0.00099856116678\n",
      "0.9858\n",
      "0.2625\n"
     ]
    }
   ],
   "source": [
    "M=[]\n",
    "trial = int(1e4)\n",
    "maxt = 1e3*tmol\n",
    "def rant():\n",
    "    return np.random.exponential(1/lamda)\n",
    "for i in range(trial):\n",
    "    t=0.\n",
    "    x=1\n",
    "    while t<maxt:\n",
    "        dt = rant()\n",
    "        if (x==1) and (dt<tmol):\n",
    "            t+=dt\n",
    "            M.append(t)\n",
    "            break\n",
    "        else:\n",
    "            t+= tmol\n",
    "            ran = np.random.randint(2)#np.random.uniform(0,1,2)\n",
    "            if ran==1:\n",
    "                d=1\n",
    "            else: d= -1\n",
    "            x+=d\n",
    "            if (x)==0:   \n",
    "                x = 1\n",
    "                M.append(t)\n",
    "                break\n",
    "            #else: x+=d\n",
    "#uq,uqcnt = np.unique(M,return_counts=True)\n",
    "#for i,j in zip(uq,uqcnt):\n",
    "#    print i,float(j)/trial\n",
    "print min(M),max(M)\n",
    "M = np.array(M)\n",
    "print float(len(M))/trial\n",
    "print float(len(M[M<tmol]))/trial\n",
    "#print float(len(M[M>=tmol]))/trial"
   ]
  },
  {
   "cell_type": "code",
   "execution_count": 10,
   "metadata": {
    "collapsed": false
   },
   "outputs": [
    {
     "name": "stdout",
     "output_type": "stream",
     "text": [
      "0.9998\n"
     ]
    },
    {
     "data": {
      "image/png": "[encoded data removed]",
      "text/plain": [
       "<matplotlib.figure.Figure at 0x7f4b8bfcd210>"
      ]
     },
     "metadata": {},
     "output_type": "display_data"
    }
   ],
   "source": [
    "hist, bin_edges = np.histogram(M,bins=np.logspace(np.log10(min(M)),np.log10(max(M)),30))\n",
    "tt = 0.5*(bin_edges[:-1]+bin_edges[1:])\n",
    "binwid = -(bin_edges[:-1]-bin_edges[1:])\n",
    "ft = np.array([float(h)/trial/b for h,b in zip(hist,binwid)])\n",
    "plt.loglog(tt,ft,'.')\n",
    "z = lambda x: 0.1*(x**-1.5) #t^(-0.5)\n",
    "#w = lambda x: 0.1*(x**-0.5) #t^(-0.5)\n",
    "plt.plot(np.logspace(-1,3,50),z(np.logspace(-1,3,50)),label='p ~ t^-1.5')\n",
    "#plt.plot(np.logspace(-6,1,50),w(np.logspace(-6,1,50)),'r',label='p ~ t^-0.5')\n",
    "plt.xlabel('step')\n",
    "plt.ylabel('first return prob density')\n",
    "totalsum = sum(ft*binwid)\n",
    "print totalsum"
   ]
  },
  {
   "cell_type": "code",
   "execution_count": 5,
   "metadata": {
    "collapsed": false
   },
   "outputs": [
    {
     "name": "stdout",
     "output_type": "stream",
     "text": [
      "1\n",
      "0\n",
      "0\n",
      "1\n",
      "1\n",
      "1\n",
      "1\n",
      "1\n",
      "0\n",
      "0\n"
     ]
    }
   ],
   "source": [
    "for i in range(10):\n",
    "    print np.random.randint(2)"
   ]
  },
  {
   "cell_type": "code",
   "execution_count": 71,
   "metadata": {
    "collapsed": false
   },
   "outputs": [],
   "source": [
    "a = np.array([[1,0,0],[0,1,0],[0,0,1],[-1,0,0],[0,-1,0],[0,0,-1]])"
   ]
  },
  {
   "cell_type": "code",
   "execution_count": 92,
   "metadata": {
    "collapsed": false
   },
   "outputs": [
    {
     "data": {
      "text/plain": [
       "0"
      ]
     },
     "execution_count": 92,
     "metadata": {},
     "output_type": "execute_result"
    }
   ],
   "source": [
    "sum(np.array([0,0,0]))"
   ]
  },
  {
   "cell_type": "code",
   "execution_count": 41,
   "metadata": {
    "collapsed": false
   },
   "outputs": [
    {
     "name": "stdout",
     "output_type": "stream",
     "text": [
      "0.919553908997\n"
     ]
    }
   ],
   "source": [
    "da=1/(0.5-0.263) -1\n",
    "print 4*3.14/3/2**0.5/da"
   ]
  },
  {
   "cell_type": "code",
   "execution_count": 37,
   "metadata": {
    "collapsed": false
   },
   "outputs": [
    {
     "data": {
      "text/plain": [
       "3.219409282700422"
      ]
     },
     "execution_count": 37,
     "metadata": {},
     "output_type": "execute_result"
    }
   ],
   "source": [
    "1./0.237 -1"
   ]
  },
  {
   "cell_type": "code",
   "execution_count": 39,
   "metadata": {
    "collapsed": false
   },
   "outputs": [
    {
     "data": {
      "text/plain": [
       "0.9196708265199377"
      ]
     },
     "execution_count": 39,
     "metadata": {},
     "output_type": "execute_result"
    }
   ],
   "source": [
    "1./3.219 *4*3.14 /3/2**0.5"
   ]
  },
  {
   "cell_type": "code",
   "execution_count": 42,
   "metadata": {
    "collapsed": false
   },
   "outputs": [
    {
     "data": {
      "text/plain": [
       "0.237"
      ]
     },
     "execution_count": 42,
     "metadata": {},
     "output_type": "execute_result"
    }
   ],
   "source": [
    "0.5-0.263"
   ]
  },
  {
   "cell_type": "code",
   "execution_count": null,
   "metadata": {
    "collapsed": true
   },
   "outputs": [],
   "source": []
  }
 ],
 "metadata": {
  "kernelspec": {
   "display_name": "Python 2",
   "language": "python",
   "name": "python2"
  },
  "language_info": {
   "codemirror_mode": {
    "name": "ipython",
    "version": 2
   },
   "file_extension": ".py",
   "mimetype": "text/x-python",
   "name": "python",
   "nbconvert_exporter": "python",
   "pygments_lexer": "ipython2",
   "version": "2.7.10"
  }
 },
 "nbformat": 4,
 "nbformat_minor": 2
}
