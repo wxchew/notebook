{
 "cells": [
  {
   "cell_type": "code",
   "execution_count": 24,
   "metadata": {
    "scrolled": false
   },
   "outputs": [
    {
     "name": "stdout",
     "output_type": "stream",
     "text": [
      "finish\n"
     ]
    }
   ],
   "source": [
    "from ecell4 import *\n",
    "%matplotlib inline\n",
    "import numpy as np\n",
    "import math\n",
    "import sys\n",
    "import os\n",
    "import matplotlib.pyplot as plt\n",
    "from ecell4.extra import ensemble\n",
    "\n",
    "def wrap(job,job_id,task_id):\n",
    "    def singlerun(kaf,run,correct):\n",
    "        import numpy as np\n",
    "        duration=0.05\n",
    "        run+=30000\n",
    "        rng = GSLRandomNumberGenerator()\n",
    "        rng.seed(run)\n",
    "        rm = 0.005\n",
    "        voxelr=rm\n",
    "        r0=0.256318\n",
    "        if correct==True:\n",
    "            voxelr=rm*1.0208582  #1.017#1.0196#1.0208582  \n",
    "        factor =700\n",
    "        L = factor*rm\n",
    "        D = 1.\n",
    "        kd= 4.0*math.pi*D*2*rm\n",
    "        ka = kaf*kd\n",
    "        #ka = (1./r0-1)*6*2**0.5*D*voxelr*kaa/kd\n",
    "        kon = (ka*kd)/(ka+kd)\n",
    "        tm =(2*voxelr)**2/(6*D)\n",
    "        #N = 4000\n",
    "        Na=4000\n",
    "        Nb=4000\n",
    "        #dt=tm\n",
    "        w = spatiocyte.SpatiocyteWorld(ones()*L,voxelr)\n",
    "        (c,r,l)=w.shape()\n",
    "        l1,l2,l3=w.actual_lengths()\n",
    "        Vac=l1*l2*l3\n",
    "        Nev=(c - 2) * (r - 2) * (l - 2)\n",
    "        #print('Nv',Nev,L**3/4/2**0.5/voxelr**3,Vac)\n",
    "        vv = w.calculate_voxel_volume(voxelr)\n",
    "        #phi = 2.*N/Nev\n",
    "        #print('ka,kd,kon,L,dur,N,phi',ka,kd,kon,L,duration,N,phi)\n",
    "\n",
    "        with species_attributes():\n",
    "            A |  {'D': str(0), 'radius':str(voxelr)}\n",
    "            B |  {'D': str(D), 'radius':str(voxelr)}\n",
    "\n",
    "        with reaction_rules():#for spa and egfrd\n",
    "            A + B > B | ka\n",
    "\n",
    "        m2 = get_model()\n",
    "\n",
    "        w = spatiocyte.SpatiocyteWorld(ones()*L,voxelr,rng)\n",
    "        w.bind_to(m2)\n",
    "        w.add_molecules(Species('A'), Na)\n",
    "        w.add_molecules(Species('B'), Nb)\n",
    "        sim = spatiocyte.SpatiocyteSimulator(w)\n",
    "        sim.initialize()\n",
    "        dt = tm#sim.dt()\n",
    "        tlog = dt\n",
    "        tlogs=[]\n",
    "        nlog=[]\n",
    "        Prxn = ka/(3*2**0.5*D*2*voxelr)      \n",
    "        #print(dt,tm,tm/dt,Prxn)\n",
    "        while sim.t()<duration:\n",
    "            if sim.t()>=tlog:\n",
    "                tlogs.append(sim.t())\n",
    "                nlog.append(w.num_particles_exact(Species('A')))\n",
    "                tlog+=dt\n",
    "            sim.step()\n",
    "        if correct==True:\n",
    "            folder='/home/chew/outputdata/keffc/kfac{}_{}_{}_{}/'.format(kaf,factor,Na,Nb)\n",
    "            name = folder+'run'+str(run)\n",
    "            if not os.path.exists(folder):\n",
    "                os.makedirs(folder)\n",
    "        else:\n",
    "            name = '/home/chew/outputdata/keff/kfac{}_{}_{}_{}/run{}'.format(kaf,factor,Na,Nb,run)\n",
    "        filename=open(name,'w')\n",
    "        np.savetxt(name,np.column_stack((tlogs,nlog)),delimiter=',',fmt='%s')\n",
    "        filename.close()  \n",
    "        return\n",
    "    job.update({'run':task_id})\n",
    "    out=singlerun(**job)\n",
    "\n",
    "    return out    \n",
    "        \n",
    "#singlerun(0.1,0,True)\n",
    "simrun=20000#00#00\n",
    "nproc=350\n",
    "kafs=[100]\n",
    "cor=True #correction true?\n",
    "for kaf in kafs:\n",
    "    jobs=[{'kaf':kaf,'correct':cor}]\n",
    "    #res=ensemble.run_sge(wrap,jobs,n=simrun,nproc=nproc,path='tmp',modules=('numpy','ecell4','math'))[0]\n",
    "    #res=ensemble.run_slurm(wrap,jobs,n=simrun,nproc=nproc,path='tmp',modules=('numpy','ecell4','math'))[0]#,extra_args=['--mail-user=wxchew@gmail.com', '--mail-type=ALL'])[0]\n",
    "    #res=ensemble.run_multiprocessing(wrap,jobs,n=simrun,nproc=nproc,modules=('numpy','ecell4','math'))[0]\n",
    "print('finish')"
   ]
  },
  {
   "cell_type": "code",
   "execution_count": 60,
   "metadata": {},
   "outputs": [
    {
     "name": "stdout",
     "output_type": "stream",
     "text": [
      "[ 3995.8  3994.   3992.6  3991.6  3990. ]\n"
     ]
    }
   ],
   "source": [
    "pp =np.array([[3997, 3995, 3992, 3992, 3992],\n",
    "[3997, 3995, 3994, 3992, 3990],\n",
    "[3994, 3994, 3994, 3991, 3989],\n",
    "[3993, 3991, 3990, 3990, 3988],\n",
    "[3998, 3995, 3993, 3993, 3991]])\n",
    "print(np.mean(pp,axis=0))"
   ]
  },
  {
   "cell_type": "code",
   "execution_count": 59,
   "metadata": {},
   "outputs": [
    {
     "data": {
      "text/plain": [
       "3995.8"
      ]
     },
     "execution_count": 59,
     "metadata": {},
     "output_type": "execute_result"
    }
   ],
   "source": [
    "(3997+3997+3994+3993+3998)/5"
   ]
  },
  {
   "cell_type": "code",
   "execution_count": 37,
   "metadata": {},
   "outputs": [
    {
     "name": "stdout",
     "output_type": "stream",
     "text": [
      "1390800\n",
      "5.654319433712918e-14 0.19750868957495077\n"
     ]
    }
   ],
   "source": [
    "Afitted=0.124666\n",
    "Bfitted=0.00564379\n",
    "rm = 0.005  \n",
    "D = 1\n",
    "f=1.0208582\n",
    "kd= 4.0*math.pi*D*2*rm\n",
    "ka = 100*kd\n",
    "r0=0.256318\n",
    "f=1.0208582\n",
    "Prxn = ka/(3*2**0.5*D*2*f*rm) \n",
    "L=1.#350*rm*2\n",
    "w = spatiocyte.SpatiocyteWorld(ones()*L,f*rm)\n",
    "(c,r,l)=w.shape()\n",
    "l1,l2,l3=w.actual_lengths()\n",
    "Vac=l1*l2*l3\n",
    "Nev=(c - 2) * (r - 2) * (l - 2)\n",
    "print(Nev)\n",
    "kap = 3*D*Prxn*Vac/Nev/2/(rm*f)**2\n",
    "er = lambda x,y: (x-y)*100/x\n",
    "keffl=kap/(1+Prxn*(0.34466))\n",
    "print(er(ka,kap),er(Afitted,keffl))"
   ]
  },
  {
   "cell_type": "code",
   "execution_count": 38,
   "metadata": {},
   "outputs": [
    {
     "data": {
      "text/plain": [
       "(0.10969723562966213, 0.013846372831865711, 0.1438021282714984)"
      ]
     },
     "execution_count": 38,
     "metadata": {},
     "output_type": "execute_result"
    }
   ],
   "source": [
    "8000*100/7292800,8000*100/57776864,2000*100/1390800"
   ]
  },
  {
   "cell_type": "code",
   "execution_count": 32,
   "metadata": {},
   "outputs": [
    {
     "name": "stdout",
     "output_type": "stream",
     "text": [
      "1.068098723667085\n",
      "0.9557714446564414\n",
      "5.406659758248262 5.656853931296765 5.656854249492381\n"
     ]
    }
   ],
   "source": [
    "V=1\n",
    "f=1.0208582\n",
    "cc=V/(1390800*(0.005*f)**3)\n",
    "r0=0.256318\n",
    "f2 =16*math.pi/3/cc/(1/r0-1)\n",
    "print(f2)\n",
    "print(5.406659758248262/4/2**0.5)\n",
    "print(V/(1390800*(0.005*f)**3),V/(1329287*(0.005*f)**3),4*2**0.5)\n",
    "print()"
   ]
  },
  {
   "cell_type": "code",
   "execution_count": 3,
   "metadata": {},
   "outputs": [],
   "source": [
    "def getrtime(res):\n",
    "    #st is start time\n",
    "    dat = np.array(res)\n",
    "    kon=dat[0][1]\n",
    "    print(kon)\n",
    "    #c1=dat[0][2]\n",
    "    c2=dat[0][3]\n",
    "    #mksim = []\n",
    "    rxntime=[]\n",
    "    #taus=[]\n",
    "    for i in range(simrun):\n",
    "        hist=np.array(dat[i][0])\n",
    "        #indx = np.where(hist[:,0]>st)[0][0]\n",
    "        #tau = np.dot(hist[indx:,0],hist[indx:,1])/sum(hist[indx:,1])\n",
    "        #taus.append(tau)\n",
    "        #ksim=1./tau/c2\n",
    "        #mksim.append(ksim)\n",
    "        for x,y in zip(hist[:,0],hist[:,1]):\n",
    "            for k in [x]*int(y):\n",
    "                rxntime.append(k)\n",
    "    #mtau=np.mean(taus)\n",
    "    return np.array(rxntime),kon,c2\n",
    "\n",
    "def getk(rxntime,frm,until,res):\n",
    "    #res is hist resolution\n",
    "    hi,be=np.histogram(rxntime,bins=np.arange(min(rxntime),max(rxntime),res))\n",
    "    hi = hi/simrun/1000\n",
    "    print('sum',sum(hi))\n",
    "    midpnt = (be[1:]+be[:-1])*0.5\n",
    "    indx = (until>midpnt)*(midpnt>frm)\n",
    "    N0=int(1000*(1-sum(hi[midpnt<=frm])))\n",
    "    hi = hi[indx]\n",
    "    midpnt = midpnt[indx]\n",
    "    print('N0',N0)\n",
    "    tini = midpnt[0]\n",
    "    hi = hi/hi[0]\n",
    "    midpnt = midpnt-midpnt[0]\n",
    "    plt.plot(midpnt,(hi),'.')\n",
    "    \n",
    "    fit=np.polyfit(midpnt, np.log(hi), 1)\n",
    "    print('fit',fit)\n",
    "    vol = 1000./c2\n",
    "\n",
    "    \n",
    "    C=math.exp(fit[1])\n",
    "    t=np.linspace(midpnt[0],midpnt[-1],100)\n",
    "    plt.plot(t,[C*math.exp(fit[0]*m) for m in t],'r-')\n",
    "    kfit = -fit[0]/N0\n",
    "    mt = -kon*N0\n",
    "    #print(mt,C,1./mt)\n",
    "    plt.semilogy(t,[math.exp(mt*m) for m in t],'k--')\n",
    "    #meantau=np.mean(rxntime[rxntime>st])\n",
    "    #meanksim = 1./mtau/c2\n",
    "    print('kon,kfit,err',kon,kfit,error(kon,kfit))\n",
    "    fig=plt.gcf()\n",
    "    fig.set_size_inches(12, 8)\n",
    "    plt.xlabel('rxn time')\n",
    "    plt.ylabel('frequency')\n",
    "    #print(mean1,mean2,kon,error(kon,mean1),error(kon,mean2))s\n",
    "\n",
    "def getst(res,frm,until,dt):\n",
    "    #st is start time\n",
    "    dat = np.array(res)\n",
    "    kon=dat[0][1]\n",
    "    #c1=dat[0][2]\n",
    "    c2=dat[0][3]\n",
    "    #mksim = []\n",
    "    rxntime=[]\n",
    "    #taus=[]\n",
    "    tlist = np.arange(0,until,dt)\n",
    "    mNa = np.zeros(len(tlist))\n",
    "    \n",
    "    for i in range(1):#simrun):\n",
    "        Na = np.zeros(len(tlist))\n",
    "        count = np.zeros(len(tlist))\n",
    "        Nat = [1000]\n",
    "        time = [0]        \n",
    "        hist=np.array(dat[i][0])\n",
    "        Nc = Nat[0]\n",
    "        for x,y in zip(hist[:,0],hist[:,1]):\n",
    "            Nc = Nc -y\n",
    "            if x<until:\n",
    "                indx=np.where(tlist>=x)\n",
    "                if len(indx[0])!=0:\n",
    "                    indx=indx[0][0]\n",
    "                    Na[indx]+=Nc\n",
    "                    count[indx]+=1.\n",
    "                #Nat.append(Nc)\n",
    "        for i,j in enumerate(count):\n",
    "            if j!=0:\n",
    "                count[i]=1./j\n",
    "        mNa+=count*Na/1000\n",
    "       \n",
    "    mNa = mNa/1\n",
    "    mNa[0]=1\n",
    "    tlist=tlist[mNa!=0]\n",
    "    mNa=mNa[mNa!=0]\n",
    "    plt.semilogy(tlist,mNa,'.')\n",
    "    inx=tlist>frm\n",
    "    fit=np.polyfit(tlist[inx], np.log(mNa[inx]), 1)\n",
    "    print(fit)\n",
    "    ksim=-fit[0]/c2\n",
    "    error = lambda x,y: (x-y)*100/x\n",
    "    print('ksim',ksim,'kon',kon,error(kon,ksim))\n",
    "    plt.plot(tlist[inx],[np.exp(fit[0]*t) for t in tlist[inx]],'r-')\n",
    "    #plt.semilogy(tlist,mNa,'.')\n",
    "    #mtau=np.mean(taus)\n",
    "\n",
    "    return mNa,tlist\n",
    "#time01=getrtime(res,0.01)\n",
    "#time1,kon,c2=getrtime(res,0.01)\n"
   ]
  },
  {
   "cell_type": "code",
   "execution_count": 4,
   "metadata": {},
   "outputs": [
    {
     "name": "stdout",
     "output_type": "stream",
     "text": [
      "[-120.82757547   -0.15281866]\n",
      "ksim 0.126418900822 kon 0.12441951103325916 -1.60697447894\n"
     ]
    },
    {
     "data": {
      "image/png": "[encoded data removed]",
      "text/plain": [
       "<matplotlib.figure.Figure at 0x7f8d900d3518>"
      ]
     },
     "metadata": {},
     "output_type": "display_data"
    }
   ],
   "source": [
    "Na,tt=getst(res100,0.005,0.05,0.001)"
   ]
  },
  {
   "cell_type": "code",
   "execution_count": 5,
   "metadata": {},
   "outputs": [
    {
     "ename": "NameError",
     "evalue": "name 'res1' is not defined",
     "output_type": "error",
     "traceback": [
      "\u001b[0;31m---------------------------------------------------------------------------\u001b[0m",
      "\u001b[0;31mNameError\u001b[0m                                 Traceback (most recent call last)",
      "\u001b[0;32m<ipython-input-5-dd8488726536>\u001b[0m in \u001b[0;36m<module>\u001b[0;34m()\u001b[0m\n\u001b[0;32m----> 1\u001b[0;31m \u001b[0mNa\u001b[0m\u001b[0;34m,\u001b[0m\u001b[0mtt\u001b[0m\u001b[0;34m=\u001b[0m\u001b[0mgetst\u001b[0m\u001b[0;34m(\u001b[0m\u001b[0mres1\u001b[0m\u001b[0;34m,\u001b[0m\u001b[0;36m0.02\u001b[0m\u001b[0;34m,\u001b[0m\u001b[0;36m0.07\u001b[0m\u001b[0;34m,\u001b[0m\u001b[0;36m0.001\u001b[0m\u001b[0;34m)\u001b[0m\u001b[0;34m\u001b[0m\u001b[0m\n\u001b[0m",
      "\u001b[0;31mNameError\u001b[0m: name 'res1' is not defined"
     ]
    }
   ],
   "source": [
    "Na,tt=getst(res1,0.02,0.07,0.001)"
   ]
  },
  {
   "cell_type": "code",
   "execution_count": 794,
   "metadata": {},
   "outputs": [
    {
     "name": "stdout",
     "output_type": "stream",
     "text": [
      "[ -1.10327833e+01   1.07949415e-03]\n",
      "ksim 0.0115433280051 kon 0.01142397328578107 -1.0447741459\n"
     ]
    },
    {
     "data": {
      "text/plain": [
       "(0.01, 1.1)"
      ]
     },
     "execution_count": 794,
     "metadata": {},
     "output_type": "execute_result"
    },
    {
     "data": {
      "image/png": "[encoded data removed]",
      "text/plain": [
       "<matplotlib.figure.Figure at 0x7fecd81d5828>"
      ]
     },
     "metadata": {},
     "output_type": "display_data"
    }
   ],
   "source": [
    "Na,tt=getst(res01,0.01,0.3,0.005)\n",
    "plt.ylim(0.01,1.1)"
   ]
  },
  {
   "cell_type": "code",
   "execution_count": 723,
   "metadata": {},
   "outputs": [
    {
     "data": {
      "text/plain": [
       "942.7254901960785"
      ]
     },
     "execution_count": 723,
     "metadata": {},
     "output_type": "execute_result"
    }
   ],
   "source": [
    "96158./102"
   ]
  },
  {
   "cell_type": "code",
   "execution_count": 687,
   "metadata": {},
   "outputs": [
    {
     "data": {
      "text/plain": [
       "[<matplotlib.lines.Line2D at 0x7fecd80e1ac8>]"
      ]
     },
     "execution_count": 687,
     "metadata": {},
     "output_type": "execute_result"
    },
    {
     "data": {
      "image/png": "[encoded data removed]",
      "text/plain": [
       "<matplotlib.figure.Figure at 0x7fecd8172278>"
      ]
     },
     "metadata": {},
     "output_type": "display_data"
    }
   ],
   "source": [
    "plt.semilogy(tt,Na,'.-')"
   ]
  },
  {
   "cell_type": "code",
   "execution_count": 513,
   "metadata": {},
   "outputs": [
    {
     "name": "stdout",
     "output_type": "stream",
     "text": [
      "0.12441951103325916\n"
     ]
    }
   ],
   "source": [
    "time100,kon,c2=getrtime(res100,0.0)"
   ]
  },
  {
   "cell_type": "code",
   "execution_count": 505,
   "metadata": {},
   "outputs": [
    {
     "name": "stdout",
     "output_type": "stream",
     "text": [
      "sum 0.9997048\n",
      "ini 0.5016942 0.00250005986478 1000\n",
      "[ -1.25214817e+02  -1.24419283e-01]\n",
      "0.8830095319699895\n",
      "0.12441951103325916 0.125214816642 -0.639212935549\n"
     ]
    },
    {
     "data": {
      "image/png": "[encoded data removed]",
      "text/plain": [
       "<matplotlib.figure.Figure at 0x7fece767c5c0>"
      ]
     },
     "metadata": {},
     "output_type": "display_data"
    }
   ],
   "source": [
    "getk(time100,0.07,0.005)"
   ]
  },
  {
   "cell_type": "code",
   "execution_count": 524,
   "metadata": {},
   "outputs": [
    {
     "ename": "TypeError",
     "evalue": "getrtime() takes 1 positional argument but 2 were given",
     "output_type": "error",
     "traceback": [
      "\u001b[0;31m---------------------------------------------------------------------------\u001b[0m",
      "\u001b[0;31mTypeError\u001b[0m                                 Traceback (most recent call last)",
      "\u001b[0;32m<ipython-input-524-df121eb2db98>\u001b[0m in \u001b[0;36m<module>\u001b[0;34m()\u001b[0m\n\u001b[0;32m----> 1\u001b[0;31m \u001b[0mtime1\u001b[0m\u001b[0;34m,\u001b[0m\u001b[0mkon\u001b[0m\u001b[0;34m,\u001b[0m\u001b[0mc2\u001b[0m\u001b[0;34m=\u001b[0m\u001b[0mgetrtime\u001b[0m\u001b[0;34m(\u001b[0m\u001b[0mres1\u001b[0m\u001b[0;34m,\u001b[0m\u001b[0;36m0.0\u001b[0m\u001b[0;34m)\u001b[0m\u001b[0;34m\u001b[0m\u001b[0m\n\u001b[0m\u001b[1;32m      2\u001b[0m \u001b[0mgetk\u001b[0m\u001b[0;34m(\u001b[0m\u001b[0mtime1\u001b[0m\u001b[0;34m,\u001b[0m\u001b[0;36m0.15\u001b[0m\u001b[0;34m,\u001b[0m\u001b[0;36m0.005\u001b[0m\u001b[0;34m)\u001b[0m\u001b[0;34m\u001b[0m\u001b[0m\n",
      "\u001b[0;31mTypeError\u001b[0m: getrtime() takes 1 positional argument but 2 were given"
     ]
    }
   ],
   "source": [
    "time1,kon,c2=getrtime(res1,0.0)\n",
    "getk(time1,0.15,0.005)"
   ]
  },
  {
   "cell_type": "code",
   "execution_count": 550,
   "metadata": {},
   "outputs": [
    {
     "name": "stdout",
     "output_type": "stream",
     "text": [
      "0.01142397328578107\n",
      "sum 0.9999998\n",
      "N0 895\n",
      "fit [ -1.09435133e+01  -8.47860562e-03]\n",
      "kon,kfit,err 0.01142397328578107 0.0122273891266 -7.03271813347\n"
     ]
    },
    {
     "data": {
      "image/png": "[encoded data removed]",
      "text/plain": [
       "<matplotlib.figure.Figure at 0x7fecef9b3cc0>"
      ]
     },
     "metadata": {},
     "output_type": "display_data"
    }
   ],
   "source": [
    "time01,kon,c2=getrtime(res01)\n",
    "getk(time01,0.01,0.5,0.001)"
   ]
  },
  {
   "cell_type": "code",
   "execution_count": 32,
   "metadata": {},
   "outputs": [
    {
     "name": "stdout",
     "output_type": "stream",
     "text": [
      "0.002\n",
      "0.0109638671168 0.0114712227259 0.01142397328578107 4.02754941312 -0.413599007844\n"
     ]
    }
   ],
   "source": [
    "mean1 = np.mean(np.array(res)[:,0])\n",
    "mean2 = np.mean(np.array(res)[:,1])\n",
    "kon=res[0][-1]\n",
    "error = lambda x,y: (x-y)*100/x\n",
    "print(teq)\n",
    "print(mean1,mean2,kon,error(kon,mean1),error(kon,mean2))"
   ]
  },
  {
   "cell_type": "code",
   "execution_count": null,
   "metadata": {},
   "outputs": [],
   "source": []
  },
  {
   "cell_type": "code",
   "execution_count": 23,
   "metadata": {},
   "outputs": [
    {
     "name": "stdout",
     "output_type": "stream",
     "text": [
      "0.05 0.01\n",
      "0.0109063752349 0.0114110703933 0.01142397328578107 4.53080585867 0.112945751749\n"
     ]
    }
   ],
   "source": [
    "print(,teq)\n",
    "print(mean1,mean2,kon,error(kon,mean1),error(kon,mean2))"
   ]
  },
  {
   "cell_type": "code",
   "execution_count": 4,
   "metadata": {},
   "outputs": [],
   "source": [
    "#new logging\n",
    "from ecell4 import *\n",
    "%matplotlib inline\n",
    "import numpy as np\n",
    "import math\n",
    "import sys\n",
    "import matplotlib.pyplot as plt\n",
    "from ecell4.extra import ensemble\n",
    "\n",
    "def wrap(job,job_id,task_id):\n",
    "    def singlerun(kaf,run,correct):\n",
    "        import numpy as np\n",
    "        duration =0.01 #0.12 for kfac1, 0.1 for kfac100\n",
    "        rng = GSLRandomNumberGenerator()\n",
    "        #run+=1000\n",
    "        rng.seed(run)\n",
    "        rm = 0.005\n",
    "        voxelr=rm\n",
    "        if correct==True:\n",
    "            voxelr=rm*1.0208582  \n",
    "        #r0=0.256318\n",
    "        L = 350*rm\n",
    "        D = 1\n",
    "        kd= 4.0*math.pi*D*2*rm\n",
    "        ka = kaf*kd\n",
    "        #ka = (1./r0-1)*6*2**0.5*D*voxelr*kaa/kd\n",
    "        kon = (ka*kd)/(ka+kd)\n",
    "        tm =(2*voxelr)**2/(6*D)\n",
    "        N = 4000\n",
    "        dt=tm\n",
    "        w = spatiocyte.SpatiocyteWorld(ones()*L,voxelr)\n",
    "        Vr = w.calculate_volume(ones()*L,voxelr)\n",
    "        lx,ly,lz = tuple(w.calculate_shape(ones()*L,voxelr))\n",
    "        Nv = lx*ly*lz\n",
    "        vv = w.calculate_voxel_volume(voxelr)\n",
    "        phi = 2.*N/Nv\n",
    "        #print 'ka,kd,kon,L,dur,N',ka,kd,kon,L,duration,N\n",
    "\n",
    "        with species_attributes():\n",
    "            A |  {'D': str(0), 'radius':str(voxelr)}\n",
    "            B |  {'D': str(D), 'radius':str(voxelr)}\n",
    "\n",
    "        with reaction_rules():#for spa and egfrd\n",
    "            A + B > B | ka\n",
    "\n",
    "        m2 = get_model()\n",
    "\n",
    "        w = spatiocyte.SpatiocyteWorld(ones()*L,voxelr,rng)\n",
    "        w.bind_to(m2)\n",
    "        w.add_molecules(Species('A'), N)\n",
    "        w.add_molecules(Species('B'), N)\n",
    "        obs = FixedIntervalNumberObserver(dt, ('A'))\n",
    "        sim = spatiocyte.SpatiocyteSimulator(w)\n",
    "        sim.initialize()\n",
    "        tlog = dt\n",
    "        tlogs=[]\n",
    "        nlog=[]\n",
    "        Nlast = N\n",
    "        while sim.t()<duration:\n",
    "            Nac = w.num_particles_exact(Species('A'))\n",
    "            dN = Nlast-Nac\n",
    "            if dN!=0:\n",
    "                tlogs.append(sim.t())\n",
    "                nlog.append(Nac)\n",
    "                Nlast=Nac\n",
    "                #tlog+=dt\n",
    "            sim.step()\n",
    "        if correct==True:\n",
    "            name = '/home/chew/outputdata/keffc/kfac'+str(kaf)+'/run'+str(run)\n",
    "        else:\n",
    "            name = '/home/chew/outputdata/keff/kfac'+str(kaf)+'/run'+str(run)\n",
    "        filename=open(name,'w')\n",
    "        np.savetxt(name,np.column_stack((tlogs,nlog)),delimiter=',',fmt='%s')\n",
    "        filename.close()  \n",
    "        return\n",
    "        \n",
    "    job.update({'run':task_id})\n",
    "    out=singlerun(**job)\n",
    "\n",
    "    return out\n",
    "\n",
    "simrun=60#10000\n",
    "nproc=60#300\n",
    "kafs=[100]\n",
    "cor=True #correction true?\n",
    "for kaf in kafs:\n",
    "    jobs=[{'kaf':kaf,'correct':cor}]\n",
    "    #res=ensemble.run_sge(wrap,jobs,n=simrun,nproc=nproc,path='tmp',modules=('numpy','ecell4','math'))[0]\n",
    "    res=ensemble.run_multiprocessing(wrap,jobs,n=simrun,nproc=nproc,modules=('numpy','ecell4','math'))[0]\n",
    "\n",
    "    "
   ]
  },
  {
   "cell_type": "code",
   "execution_count": 1,
   "metadata": {},
   "outputs": [
    {
     "name": "stderr",
     "output_type": "stream",
     "text": [
      "Process Process-1:\n",
      "Process Process-2:\n",
      "Traceback (most recent call last):\n",
      "  File \"/home/chew/ecell4/build/local/lib/python3.5/site-packages/ecell-4.1.2-py3.5-linux-x86_64.egg/ecell4/extra/ensemble.py\", line 32, in consumer\n",
      "    res = (i, f(*x))\n",
      "Traceback (most recent call last):\n",
      "  File \"/usr/lib/python3.5/multiprocessing/process.py\", line 249, in _bootstrap\n",
      "    self.run()\n",
      "  File \"/usr/lib/python3.5/multiprocessing/process.py\", line 93, in run\n",
      "    self._target(*self._args, **self._kwargs)\n",
      "  File \"/usr/lib/python3.5/multiprocessing/process.py\", line 249, in _bootstrap\n",
      "    self.run()\n",
      "  File \"/home/chew/ecell4/build/local/lib/python3.5/site-packages/ecell-4.1.2-py3.5-linux-x86_64.egg/ecell4/extra/ensemble.py\", line 32, in consumer\n",
      "    res = (i, f(*x))\n",
      "  File \"<ipython-input-1-bcb986c18952>\", line 77, in wrap\n",
      "    out=singlerun(**job)\n",
      "  File \"/usr/lib/python3.5/multiprocessing/process.py\", line 93, in run\n",
      "    self._target(*self._args, **self._kwargs)\n",
      "  File \"<ipython-input-1-bcb986c18952>\", line 66, in singlerun\n",
      "    sim.step()\n",
      "KeyboardInterrupt\n",
      "  File \"<ipython-input-1-bcb986c18952>\", line 77, in wrap\n",
      "    out=singlerun(**job)\n",
      "  File \"<ipython-input-1-bcb986c18952>\", line 66, in singlerun\n",
      "    sim.step()\n",
      "KeyboardInterrupt\n"
     ]
    },
    {
     "ename": "KeyboardInterrupt",
     "evalue": "",
     "output_type": "error",
     "traceback": [
      "\u001b[0;31m---------------------------------------------------------------------------\u001b[0m",
      "\u001b[0;31mKeyboardInterrupt\u001b[0m                         Traceback (most recent call last)",
      "\u001b[0;32m<ipython-input-1-bcb986c18952>\u001b[0m in \u001b[0;36m<module>\u001b[0;34m()\u001b[0m\n\u001b[1;32m     86\u001b[0m     \u001b[0mjobs\u001b[0m\u001b[0;34m=\u001b[0m\u001b[0;34m[\u001b[0m\u001b[0;34m{\u001b[0m\u001b[0;34m'kaf'\u001b[0m\u001b[0;34m:\u001b[0m\u001b[0mkaf\u001b[0m\u001b[0;34m,\u001b[0m\u001b[0;34m'correct'\u001b[0m\u001b[0;34m:\u001b[0m\u001b[0mcor\u001b[0m\u001b[0;34m}\u001b[0m\u001b[0;34m]\u001b[0m\u001b[0;34m\u001b[0m\u001b[0m\n\u001b[1;32m     87\u001b[0m     \u001b[0;31m#res=ensemble.run_sge(wrap,jobs,n=simrun,nproc=nproc,path='tmp',modules=('numpy','ecell4','math'))[0]\u001b[0m\u001b[0;34m\u001b[0m\u001b[0;34m\u001b[0m\u001b[0m\n\u001b[0;32m---> 88\u001b[0;31m     \u001b[0mres\u001b[0m\u001b[0;34m=\u001b[0m\u001b[0mensemble\u001b[0m\u001b[0;34m.\u001b[0m\u001b[0mrun_multiprocessing\u001b[0m\u001b[0;34m(\u001b[0m\u001b[0mwrap\u001b[0m\u001b[0;34m,\u001b[0m\u001b[0mjobs\u001b[0m\u001b[0;34m,\u001b[0m\u001b[0mn\u001b[0m\u001b[0;34m=\u001b[0m\u001b[0msimrun\u001b[0m\u001b[0;34m,\u001b[0m\u001b[0mnproc\u001b[0m\u001b[0;34m=\u001b[0m\u001b[0mnproc\u001b[0m\u001b[0;34m,\u001b[0m\u001b[0mmodules\u001b[0m\u001b[0;34m=\u001b[0m\u001b[0;34m(\u001b[0m\u001b[0;34m'numpy'\u001b[0m\u001b[0;34m,\u001b[0m\u001b[0;34m'ecell4'\u001b[0m\u001b[0;34m,\u001b[0m\u001b[0;34m'math'\u001b[0m\u001b[0;34m)\u001b[0m\u001b[0;34m)\u001b[0m\u001b[0;34m[\u001b[0m\u001b[0;36m0\u001b[0m\u001b[0;34m]\u001b[0m\u001b[0;34m\u001b[0m\u001b[0m\n\u001b[0m",
      "\u001b[0;32m~/ecell4/build/local/lib/python3.5/site-packages/ecell-4.1.2-py3.5-linux-x86_64.egg/ecell4/extra/ensemble.py\u001b[0m in \u001b[0;36mrun_multiprocessing\u001b[0;34m(target, jobs, n, nproc, **kwargs)\u001b[0m\n\u001b[1;32m     50\u001b[0m \u001b[0;34m\u001b[0m\u001b[0m\n\u001b[1;32m     51\u001b[0m     res = mulpmap(\n\u001b[0;32m---> 52\u001b[0;31m         target, ((job, i + 1, j + 1) for (i, job), j in itertools.product(enumerate(jobs), range(n))), nproc)\n\u001b[0m\u001b[1;32m     53\u001b[0m     \u001b[0;32mreturn\u001b[0m \u001b[0;34m[\u001b[0m\u001b[0mres\u001b[0m\u001b[0;34m[\u001b[0m\u001b[0mi\u001b[0m\u001b[0;34m:\u001b[0m \u001b[0mi\u001b[0m \u001b[0;34m+\u001b[0m \u001b[0mn\u001b[0m\u001b[0;34m]\u001b[0m \u001b[0;32mfor\u001b[0m \u001b[0mi\u001b[0m \u001b[0;32min\u001b[0m \u001b[0mrange\u001b[0m\u001b[0;34m(\u001b[0m\u001b[0;36m0\u001b[0m\u001b[0;34m,\u001b[0m \u001b[0mlen\u001b[0m\u001b[0;34m(\u001b[0m\u001b[0mres\u001b[0m\u001b[0;34m)\u001b[0m\u001b[0;34m,\u001b[0m \u001b[0mn\u001b[0m\u001b[0;34m)\u001b[0m\u001b[0;34m]\u001b[0m\u001b[0;34m\u001b[0m\u001b[0m\n\u001b[1;32m     54\u001b[0m \u001b[0;34m\u001b[0m\u001b[0m\n",
      "\u001b[0;32m~/ecell4/build/local/lib/python3.5/site-packages/ecell-4.1.2-py3.5-linux-x86_64.egg/ecell4/extra/ensemble.py\u001b[0m in \u001b[0;36mmulpmap\u001b[0;34m(f, X, nproc)\u001b[0m\n\u001b[1;32m     45\u001b[0m         \u001b[0;34m[\u001b[0m\u001b[0mw\u001b[0m\u001b[0;34m.\u001b[0m\u001b[0mstart\u001b[0m\u001b[0;34m(\u001b[0m\u001b[0;34m)\u001b[0m \u001b[0;32mfor\u001b[0m \u001b[0mw\u001b[0m \u001b[0;32min\u001b[0m \u001b[0mworkers\u001b[0m\u001b[0;34m]\u001b[0m\u001b[0;34m\u001b[0m\u001b[0m\n\u001b[1;32m     46\u001b[0m         \u001b[0;31m# [w.join() for w in workers]\u001b[0m\u001b[0;34m\u001b[0m\u001b[0;34m\u001b[0m\u001b[0m\n\u001b[0;32m---> 47\u001b[0;31m         \u001b[0mq_in\u001b[0m\u001b[0;34m.\u001b[0m\u001b[0mjoin\u001b[0m\u001b[0;34m(\u001b[0m\u001b[0;34m)\u001b[0m\u001b[0;34m\u001b[0m\u001b[0m\n\u001b[0m\u001b[1;32m     48\u001b[0m         \u001b[0mres\u001b[0m \u001b[0;34m=\u001b[0m \u001b[0;34m[\u001b[0m\u001b[0mq_out\u001b[0m\u001b[0;34m.\u001b[0m\u001b[0mget\u001b[0m\u001b[0;34m(\u001b[0m\u001b[0;34m)\u001b[0m \u001b[0;32mfor\u001b[0m \u001b[0m_\u001b[0m \u001b[0;32min\u001b[0m \u001b[0mrange\u001b[0m\u001b[0;34m(\u001b[0m\u001b[0mnum_tasks\u001b[0m\u001b[0;34m)\u001b[0m\u001b[0;34m]\u001b[0m\u001b[0;34m\u001b[0m\u001b[0m\n\u001b[1;32m     49\u001b[0m         \u001b[0;32mreturn\u001b[0m \u001b[0;34m[\u001b[0m\u001b[0mx\u001b[0m \u001b[0;32mfor\u001b[0m \u001b[0;34m(\u001b[0m\u001b[0m_\u001b[0m\u001b[0;34m,\u001b[0m \u001b[0mx\u001b[0m\u001b[0;34m)\u001b[0m \u001b[0;32min\u001b[0m \u001b[0msorted\u001b[0m\u001b[0;34m(\u001b[0m\u001b[0mres\u001b[0m\u001b[0;34m)\u001b[0m\u001b[0;34m]\u001b[0m\u001b[0;34m\u001b[0m\u001b[0m\n",
      "\u001b[0;32m/usr/lib/python3.5/multiprocessing/queues.py\u001b[0m in \u001b[0;36mjoin\u001b[0;34m(self)\u001b[0m\n\u001b[1;32m    312\u001b[0m         \u001b[0;32mwith\u001b[0m \u001b[0mself\u001b[0m\u001b[0;34m.\u001b[0m\u001b[0m_cond\u001b[0m\u001b[0;34m:\u001b[0m\u001b[0;34m\u001b[0m\u001b[0m\n\u001b[1;32m    313\u001b[0m             \u001b[0;32mif\u001b[0m \u001b[0;32mnot\u001b[0m \u001b[0mself\u001b[0m\u001b[0;34m.\u001b[0m\u001b[0m_unfinished_tasks\u001b[0m\u001b[0;34m.\u001b[0m\u001b[0m_semlock\u001b[0m\u001b[0;34m.\u001b[0m\u001b[0m_is_zero\u001b[0m\u001b[0;34m(\u001b[0m\u001b[0;34m)\u001b[0m\u001b[0;34m:\u001b[0m\u001b[0;34m\u001b[0m\u001b[0m\n\u001b[0;32m--> 314\u001b[0;31m                 \u001b[0mself\u001b[0m\u001b[0;34m.\u001b[0m\u001b[0m_cond\u001b[0m\u001b[0;34m.\u001b[0m\u001b[0mwait\u001b[0m\u001b[0;34m(\u001b[0m\u001b[0;34m)\u001b[0m\u001b[0;34m\u001b[0m\u001b[0m\n\u001b[0m\u001b[1;32m    315\u001b[0m \u001b[0;34m\u001b[0m\u001b[0m\n\u001b[1;32m    316\u001b[0m \u001b[0;31m#\u001b[0m\u001b[0;34m\u001b[0m\u001b[0;34m\u001b[0m\u001b[0m\n",
      "\u001b[0;32m/usr/lib/python3.5/multiprocessing/synchronize.py\u001b[0m in \u001b[0;36mwait\u001b[0;34m(self, timeout)\u001b[0m\n\u001b[1;32m    260\u001b[0m         \u001b[0;32mtry\u001b[0m\u001b[0;34m:\u001b[0m\u001b[0;34m\u001b[0m\u001b[0m\n\u001b[1;32m    261\u001b[0m             \u001b[0;31m# wait for notification or timeout\u001b[0m\u001b[0;34m\u001b[0m\u001b[0;34m\u001b[0m\u001b[0m\n\u001b[0;32m--> 262\u001b[0;31m             \u001b[0;32mreturn\u001b[0m \u001b[0mself\u001b[0m\u001b[0;34m.\u001b[0m\u001b[0m_wait_semaphore\u001b[0m\u001b[0;34m.\u001b[0m\u001b[0macquire\u001b[0m\u001b[0;34m(\u001b[0m\u001b[0;32mTrue\u001b[0m\u001b[0;34m,\u001b[0m \u001b[0mtimeout\u001b[0m\u001b[0;34m)\u001b[0m\u001b[0;34m\u001b[0m\u001b[0m\n\u001b[0m\u001b[1;32m    263\u001b[0m         \u001b[0;32mfinally\u001b[0m\u001b[0;34m:\u001b[0m\u001b[0;34m\u001b[0m\u001b[0m\n\u001b[1;32m    264\u001b[0m             \u001b[0;31m# indicate that this thread has woken\u001b[0m\u001b[0;34m\u001b[0m\u001b[0;34m\u001b[0m\u001b[0m\n",
      "\u001b[0;31mKeyboardInterrupt\u001b[0m: "
     ]
    }
   ],
   "source": [
    "#old logging\n",
    "from ecell4 import *\n",
    "%matplotlib inline\n",
    "import numpy as np\n",
    "import math\n",
    "import sys\n",
    "import matplotlib.pyplot as plt\n",
    "from ecell4.extra import ensemble\n",
    "\n",
    "def wrap(job,job_id,task_id):\n",
    "    def singlerun(kaf,run,correct):\n",
    "        import numpy as np\n",
    "        duration =0.1 #0.12 for kfac1, 0.1 for kfac100\n",
    "        rng = GSLRandomNumberGenerator()\n",
    "        #run+=1000\n",
    "        rng.seed(run)\n",
    "        rm = 0.005\n",
    "        voxelr=rm\n",
    "        if correct==True:\n",
    "            voxelr=rm*1.0208582  \n",
    "        #r0=0.256318\n",
    "        L = 350*rm\n",
    "        D = 1\n",
    "        kd= 4.0*math.pi*D*2*rm\n",
    "        ka = kaf*kd\n",
    "        #ka = (1./r0-1)*6*2**0.5*D*voxelr*kaa/kd\n",
    "        kon = (ka*kd)/(ka+kd)\n",
    "        tm =(2*voxelr)**2/(6*D)\n",
    "        N = 4000\n",
    "        dt=tm\n",
    "        w = spatiocyte.SpatiocyteWorld(ones()*L,voxelr)\n",
    "        Vr = w.calculate_volume(ones()*L,voxelr)\n",
    "        lx,ly,lz = tuple(w.calculate_shape(ones()*L,voxelr))\n",
    "        Nv = lx*ly*lz\n",
    "        vv = w.calculate_voxel_volume(voxelr)\n",
    "        phi = 2.*N/Nv\n",
    "        #print 'ka,kd,kon,L,dur,N',ka,kd,kon,L,duration,N\n",
    "\n",
    "        with species_attributes():\n",
    "            A |  {'D': str(0), 'radius':str(voxelr)}\n",
    "            B |  {'D': str(D), 'radius':str(voxelr)}\n",
    "\n",
    "        with reaction_rules():#for spa and egfrd\n",
    "            A + B > B | ka\n",
    "\n",
    "        m2 = get_model()\n",
    "\n",
    "        w = spatiocyte.SpatiocyteWorld(ones()*L,voxelr,rng)\n",
    "        w.bind_to(m2)\n",
    "        w.add_molecules(Species('A'), N)\n",
    "        w.add_molecules(Species('B'), N)\n",
    "        obs = FixedIntervalNumberObserver(dt, ('A'))\n",
    "        sim = spatiocyte.SpatiocyteSimulator(w)\n",
    "        sim.initialize()\n",
    "        tlog = dt\n",
    "        tlogs=[]\n",
    "        nlog=[]\n",
    "        while sim.t()<duration:\n",
    "            if sim.t()>=tlog:\n",
    "                tlogs.append(sim.t())\n",
    "                nlog.append(w.num_particles_exact(Species('A')))\n",
    "                tlog+=dt\n",
    "            sim.step()\n",
    "        if correct==True:\n",
    "            name = '/home/chew/outputdata/keffc/kfac'+str(kaf)+'/run'+str(run)\n",
    "        else:\n",
    "            name = '/home/chew/outputdata/keff/kfac'+str(kaf)+'/run'+str(run)\n",
    "        filename=open(name,'w')\n",
    "        np.savetxt(name,np.column_stack((tlogs,nlog)),delimiter=',',fmt='%s')\n",
    "        filename.close()  \n",
    "        return\n",
    "        \n",
    "    job.update({'run':task_id})\n",
    "    out=singlerun(**job)\n",
    "\n",
    "    return out\n",
    "\n",
    "simrun=10000\n",
    "nproc=300\n",
    "kafs=[100]\n",
    "cor=True #correction true?\n",
    "for kaf in kafs:\n",
    "    jobs=[{'kaf':kaf,'correct':cor}]\n",
    "    #res=ensemble.run_sge(wrap,jobs,n=simrun,nproc=nproc,path='tmp',modules=('numpy','ecell4','math'))[0]\n",
    "    res=ensemble.run_multiprocessing(wrap,jobs,n=simrun,nproc=nproc,modules=('numpy','ecell4','math'))[0]\n"
   ]
  },
  {
   "cell_type": "code",
   "execution_count": 50,
   "metadata": {},
   "outputs": [
    {
     "name": "stdout",
     "output_type": "stream",
     "text": [
      "42.2\n",
      "35.8\n",
      "42.2\n",
      "44.0\n"
     ]
    }
   ],
   "source": [
    "print(np.mean([33,43,43,47,45])) #False,rm\n",
    "print(np.mean([40,37,38,37,27])) #true,rm\n",
    "print(np.mean([33,43,45,47,43])) #False,rv\n",
    "print(np.mean([47,44,33,45,51])) #true,rv"
   ]
  },
  {
   "cell_type": "code",
   "execution_count": 1,
   "metadata": {
    "scrolled": true
   },
   "outputs": [
    {
     "name": "stdout",
     "output_type": "stream",
     "text": [
      "L 1.78650185\n",
      "Vr 5.83415352458\n",
      "1.25663698739 0.125663706144 0.114239732858\n",
      "phi 0.103155740411 phir 0.103155740411\n"
     ]
    }
   ],
   "source": [
    "from ecell4 import *\n",
    "import numpy as np\n",
    "import math\n",
    "import sys\n",
    "\n",
    "run = int(sys.argv[2])\n",
    "rng = GSLRandomNumberGenerator()\n",
    "rng.seed(run)\n",
    "k_factor = float(sys.argv[1])\n",
    "#rm = 0.005\n",
    "voxelr = 0.005#*1.0208582  \n",
    "#r0=0.256318\n",
    "L = 350*voxelr\n",
    "D = 1\n",
    "kd= 4.0*math.pi*D*2*voxelr\n",
    "ka = k_factor*kd\n",
    "#ka = (1./r0-1)*6*2**0.5*D*voxelr*kaa/kd\n",
    "kon = (ka*kd)/(ka+kd)\n",
    "tm =(2*voxelr)**2/(6*D)\n",
    "N = 4000\n",
    "duration =0.05# -math.log(1e-10)/N/kon\n",
    "dt=tm\n",
    "w = spatiocyte.SpatiocyteWorld(ones()*L,voxelr)\n",
    "Vr = w.calculate_volume(ones()*L,voxelr)\n",
    "lx,ly,lz = tuple(w.calculate_shape(ones()*L,voxelr))\n",
    "Nv = lx*ly*lz\n",
    "vv = w.calculate_voxel_volume(voxelr)\n",
    "phi = 2.*N/Nv\n",
    "print 'ka,kd,kon,L,dur,N',ka,kd,kon,L,duration,N\n",
    "\n",
    "with species_attributes():\n",
    "    A |  {'D': str(0), 'radius':str(voxelr)}\n",
    "    B |  {'D': str(D), 'radius':str(voxelr)}\n",
    "\n",
    "with reaction_rules():#for spa and egfrd\n",
    "    A + B > B | ka\n",
    "\n",
    "m2 = get_model()\n",
    "\n",
    "w = spatiocyte.SpatiocyteWorld(ones()*L,voxelr,rng)\n",
    "w.bind_to(m2)\n",
    "w.add_molecules(Species('A'), N)\n",
    "w.add_molecules(Species('B'), N)\n",
    "obs = FixedIntervalNumberObserver(dt, ('A'))\n",
    "sim = spatiocyte.SpatiocyteSimulator(w)\n",
    "sim.initialize()\n",
    "tlog = dt\n",
    "tlogs=[]\n",
    "nlog=[]\n",
    "while sim.t()<duration:\n",
    "    if sim.t()>tlog:\n",
    "        tlogs.append(tlog)\n",
    "        nlog.append(w.num_particles_exact(Species('A')))\n",
    "        tlog+=dt\n",
    "    sim.step()\n",
    "    #print sim.dt(),tm\n",
    "    #sim.run(duration, obs)    \n",
    "\n",
    "name = '/home/chew/runscript/data/keff/kfac'+str(k_factor)+'/run'+str(run)\n",
    "filename=open(name,'w')\n",
    "np.savetxt(name,np.column_stack((tlogs,nlog)),delimiter=',',fmt='%s')\n",
    "filename.close()\n"
   ]
  },
  {
   "cell_type": "code",
   "execution_count": 138,
   "metadata": {},
   "outputs": [
    {
     "data": {
      "text/plain": [
       "(array([1, 2, 3]),)"
      ]
     },
     "execution_count": 138,
     "metadata": {},
     "output_type": "execute_result"
    }
   ],
   "source": [
    "y=np.array([0.1,0.2,0.3,0.4])\n",
    "np.where(y>0.1)\n"
   ]
  },
  {
   "cell_type": "code",
   "execution_count": null,
   "metadata": {},
   "outputs": [],
   "source": []
  }
 ],
 "metadata": {
  "anaconda-cloud": {},
  "kernelspec": {
   "display_name": "Python 3",
   "language": "python",
   "name": "python3"
  },
  "language_info": {
   "codemirror_mode": {
    "name": "ipython",
    "version": 3
   },
   "file_extension": ".py",
   "mimetype": "text/x-python",
   "name": "python",
   "nbconvert_exporter": "python",
   "pygments_lexer": "ipython3",
   "version": "3.5.2"
  }
 },
 "nbformat": 4,
 "nbformat_minor": 1
}
