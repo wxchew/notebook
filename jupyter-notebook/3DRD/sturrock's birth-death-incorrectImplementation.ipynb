{
 "cells": [
  {
   "cell_type": "code",
   "execution_count": 1,
   "metadata": {
    "scrolled": false
   },
   "outputs": [
    {
     "name": "stdout",
     "output_type": "stream",
     "text": [
      "K 521.0007309586913\n",
      "Nb 101\n",
      "av=1.01e+02,intrinsic=True\n",
      "mean 9.0136855394\n"
     ]
    },
    {
     "data": {
      "image/png": "[encoded data removed]",
      "text/plain": [
       "<matplotlib.figure.Figure at 0x7fb4250ba240>"
      ]
     },
     "metadata": {},
     "output_type": "display_data"
    }
   ],
   "source": [
    "from ecell4 import *\n",
    "from ecell4.extra import ensemble\n",
    "import numpy as np\n",
    "import matplotlib.pylab as plt\n",
    "%matplotlib inline\n",
    "\n",
    "simrun=70#200#0#0\n",
    "duration = 1000\n",
    "D=0.1\n",
    "nproc=70\n",
    "L=cbrt(100)\n",
    "k0= 0.1\n",
    "keff=0.02\n",
    "method='multiprocessing'\n",
    "Mean=[]\n",
    "Ks=[]\n",
    "Cb = 1\n",
    "rlist=[0.005]#,0.03,0.02]#,0.01]\n",
    "\n",
    "for rm in rlist:\n",
    "    K=2.**(-5./6)*L/rm\n",
    "    print('K',K)\n",
    "    def singlerun(solver='ode',intrinsic=False,simrun=1):   \n",
    "        V = L**3 \n",
    "        #M = max(int(min(cbrt(Nas), L / (2 * rm))), 3)\n",
    "        if solver=='spa':\n",
    "            solver=(\"spatiocyte\",rm)\n",
    "            V=spatiocyte.SpatiocyteWorld.calculate_volume(Real3(L,L,L),rm)\n",
    "        elif solver=='egfrd':\n",
    "            solver = ('egfrd', Integer3(M, M, M)) \n",
    "        Nb =int(Cb*V)\n",
    "        print('Nb',Nb)\n",
    "        assert(Nb>0)\n",
    "        with species_attributes():\n",
    "            A | {'D': D, 'radius':rm}\n",
    "            B | {'D': D, 'radius':rm}\n",
    "\n",
    "        with reaction_rules():\n",
    "            ~A > A | k0\n",
    "            A + B >B | keff\n",
    "        m = get_model()\n",
    "\n",
    "        print('av={:.3},intrinsic={}'.format(float(V),intrinsic))\n",
    "        #print('kon={:.3},koff={:.3},kd={:.3},keff={:.3},kfactor={:.3}'.format(kon,(ka if intrinsic else keff),kd,keff,ka/kd))\n",
    "        if simrun >1    :\n",
    "            obs=ensemble.ensemble_simulations(duration,n=simrun, y0={'B':Nb},model=m, solver=solver,volume=ones()*L,species_list=[\"A\"],return_type='observer',nproc=nproc,method=method)#,return_type=\"observer\")\n",
    "        else:\n",
    "            obs=run_simulation(duration,model=m,y0={'B':Nb},return_type='observer',species_list=['A'],solver=solver,volume=ones()*L)\n",
    "        data2 = np.array(obs.data()).T\n",
    "        meana=np.mean(data2[1][90:])\n",
    "        print('mean',meana/V)\n",
    "        Mean.append(meana/V)\n",
    "        return obs\n",
    "\n",
    "    obs2=singlerun('spa',True,simrun)\n",
    "    Ks.append(K)\n",
    "    viz.plot_number_observer(obs2,'r.')#,obs1,'k-')\n",
    "    #obs3=singlerun('egfrd',True,simrun)\n",
    "    #obs4=singlerun('gillespie',False,simrun)\n",
    "    #write('/home/chew/outputdata/sturrock_bd_ode_rm{:.3}_Nas5'.format(rm),obs1)\n",
    "    #write('/home/chew/outputdata/sturrock_bd_spa_rm{:.3}_Nas5_10k'.format(rm),obs2)\n",
    "    #write('/home/chew/outputdata/sturrock_bd_egfrd_rm{:.3}_Nas5_10k'.format(rm),obs3)"
   ]
  },
  {
   "cell_type": "code",
   "execution_count": 8,
   "metadata": {},
   "outputs": [
    {
     "name": "stdout",
     "output_type": "stream",
     "text": [
      "[6.0232700657087559, 5.3931726795616077]\n",
      "[130.25018273967282, 52.10007309586912]\n"
     ]
    },
    {
     "data": {
      "text/plain": [
       "<matplotlib.text.Text at 0x7ff0ad834dd8>"
      ]
     },
     "execution_count": 8,
     "metadata": {},
     "output_type": "execute_result"
    },
    {
     "data": {
      "image/png": "[encoded data removed]",
      "text/plain": [
       "<matplotlib.figure.Figure at 0x7ff0ad7d40f0>"
      ]
     },
     "metadata": {},
     "output_type": "display_data"
    }
   ],
   "source": [
    "print(Mean)\n",
    "print(Ks)\n",
    "plt.plot(Ks,Mean,'o')\n",
    "plt.xlabel('K')\n",
    "plt.ylabel('Number of A')"
   ]
  },
  {
   "cell_type": "code",
   "execution_count": 9,
   "metadata": {},
   "outputs": [
    {
     "data": {
      "text/plain": [
       "0.11224620483093731"
      ]
     },
     "execution_count": 9,
     "metadata": {},
     "output_type": "execute_result"
    }
   ],
   "source": [
    "2**(1./6) /10"
   ]
  },
  {
   "cell_type": "code",
   "execution_count": 10,
   "metadata": {},
   "outputs": [
    {
     "data": {
      "text/plain": [
       "1.8181818181818181"
      ]
     },
     "execution_count": 10,
     "metadata": {},
     "output_type": "execute_result"
    }
   ],
   "source": [
    "0.02/0.1/0.11"
   ]
  },
  {
   "cell_type": "code",
   "execution_count": 11,
   "metadata": {},
   "outputs": [
    {
     "data": {
      "text/plain": [
       "1.8181818181818183"
      ]
     },
     "execution_count": 11,
     "metadata": {},
     "output_type": "execute_result"
    }
   ],
   "source": [
    "0.02*10/0.11"
   ]
  },
  {
   "cell_type": "code",
   "execution_count": 12,
   "metadata": {},
   "outputs": [
    {
     "data": {
      "text/plain": [
       "1.1295606565386387"
      ]
     },
     "execution_count": 12,
     "metadata": {},
     "output_type": "execute_result"
    }
   ],
   "source": [
    "L=1.\n",
    "rm=0.02\n",
    "spatiocyte.SpatiocyteWorld.calculate_volume(Real3(L,L,L),rm)"
   ]
  },
  {
   "cell_type": "code",
   "execution_count": 22,
   "metadata": {},
   "outputs": [
    {
     "data": {
      "text/plain": [
       "832.5"
      ]
     },
     "execution_count": 22,
     "metadata": {},
     "output_type": "execute_result"
    }
   ],
   "source": [
    "0.1*(10**3 -1)/(0.1+0.02)"
   ]
  },
  {
   "cell_type": "code",
   "execution_count": 10,
   "metadata": {},
   "outputs": [
    {
     "name": "stdout",
     "output_type": "stream",
     "text": [
      "521.0007309586913\n"
     ]
    }
   ],
   "source": [
    "L=cbrt(100.)\n",
    "rm=0.005\n",
    "print(2.**(-5./6)*L/rm)"
   ]
  },
  {
   "cell_type": "code",
   "execution_count": null,
   "metadata": {},
   "outputs": [],
   "source": []
  }
 ],
 "metadata": {
  "anaconda-cloud": {},
  "kernelspec": {
   "display_name": "Python 3",
   "language": "python",
   "name": "python3"
  },
  "language_info": {
   "codemirror_mode": {
    "name": "ipython",
    "version": 3
   },
   "file_extension": ".py",
   "mimetype": "text/x-python",
   "name": "python",
   "nbconvert_exporter": "python",
   "pygments_lexer": "ipython3",
   "version": "3.5.2"
  }
 },
 "nbformat": 4,
 "nbformat_minor": 1
}
