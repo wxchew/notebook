{
 "cells": [
  {
   "cell_type": "code",
   "execution_count": 1,
   "metadata": {
    "collapsed": false
   },
   "outputs": [],
   "source": [
    "from ecell4 import *\n",
    "import math\n",
    "%matplotlib inline\n",
    "import numpy as np\n",
    "import matplotlib.pyplot as plt\n",
    "rng = GSLRandomNumberGenerator()\n",
    "import scipy.special"
   ]
  },
  {
   "cell_type": "code",
   "execution_count": 9,
   "metadata": {
    "collapsed": false
   },
   "outputs": [
    {
     "name": "stdout",
     "output_type": "stream",
     "text": [
      "1.256\n",
      "tmol 1.66666666667e-06 0.00104166666667 625.0\n",
      "pacc 2.96042039057\n",
      "totalpreb 0.5\n",
      "alpha 0.337789863624\n"
     ]
    }
   ],
   "source": [
    "voxelr = 0.005\n",
    "L = 0.5\n",
    "V=L**3\n",
    "Da = 10.\n",
    "Db = 0.\n",
    "kD = 4*3.14*2*voxelr*Da\n",
    "print kD\n",
    "ka = 1*kD\n",
    "tmol = 2*voxelr*voxelr/3./Da\n",
    "tb = (0.5*0.5*L*L)/6./Da #time to boundary\n",
    "print 'tmol',tmol,tb,tb/tmol\n",
    "pacc = ka/6./(2**0.5)/Da/voxelr\n",
    "P = 1. #must be less then one\n",
    "print 'pacc',pacc\n",
    "totalpreb = 1./(1+kD/ka)\n",
    "print 'totalpreb',totalpreb\n",
    "alpha = 1./pacc\n",
    "print 'alpha',alpha\n",
    "#prebt = (1+math.exp(tmol)*(scipy.special.erf(math.sqrt(tmol))-1))/(1+kD/ka)\n",
    "#print prebt"
   ]
  },
  {
   "cell_type": "code",
   "execution_count": 10,
   "metadata": {
    "collapsed": false
   },
   "outputs": [
    {
     "name": "stdout",
     "output_type": "stream",
     "text": [
      "0.666666666667\n",
      "0.26325\n"
     ]
    }
   ],
   "source": [
    "print tmol/((voxelr*2)**2 /Da/(1+ka/kD)**2)\n",
    "print 0.5265*totalpreb"
   ]
  },
  {
   "cell_type": "code",
   "execution_count": 11,
   "metadata": {
    "collapsed": true
   },
   "outputs": [],
   "source": [
    "prebt =0.263\n",
    "lamda = -np.log(1-prebt)/tmol"
   ]
  },
  {
   "cell_type": "code",
   "execution_count": 12,
   "metadata": {
    "collapsed": true
   },
   "outputs": [],
   "source": [
    "def create_model_spa(Da,Db,voxelr,k): \n",
    "    with species_attributes():\n",
    "        A | {'D': str(Da), 'radius':str(voxelr)}        \n",
    "    return get_model()"
   ]
  },
  {
   "cell_type": "code",
   "execution_count": 13,
   "metadata": {
    "collapsed": false
   },
   "outputs": [],
   "source": [
    "#spatio\n",
    "def rant():\n",
    "    return np.random.exponential(1/lamda)  \n",
    "\n",
    "def spa_singlerun():\n",
    "    model = create_model_spa(Da,Db,voxelr,ka)\n",
    "    w = spatiocyte.SpatiocyteWorld(Real3(L,L,L),voxelr,rng)    \n",
    "    w.bind_to(model)\n",
    "    (pid,p),suc = w.new_particle(Species(\"A\"),Real3(L*0.5,L*0.5,L*0.5))\n",
    "    coord = w.position2coordinate(p.position())\n",
    "    neipos = w.coordinate2position(w.get_neighbor(coord,10))\n",
    "    sim = spatiocyte.SpatiocyteSimulator(w)\n",
    "    sim.initialize()    \n",
    "    duration = tb\n",
    "    while sim.t() <= duration:\n",
    "        dt = rant()\n",
    "        pid,Apos1 = w.get_particle(pid)\n",
    "        dist = np.array(tuple(Apos1.position()))-np.array(tuple(neipos))\n",
    "        length = np.linalg.norm(dist)\n",
    "        diff = length-2*voxelr   \n",
    "        if (diff<voxelr) and (dt<tmol):\n",
    "            #print 'neighbor'\n",
    "            return sim.t()+dt\n",
    "        else:\n",
    "            sim.step()  \n",
    "            pid,Apos2 = w.get_particle(pid)\n",
    "            dist = np.array(tuple(Apos2.position()))-np.array(tuple(neipos))\n",
    "            length = np.linalg.norm(dist)\n",
    "            if (length==0):\n",
    "                w.remove_particle(pid)\n",
    "                (pid,p),suc = w.new_particle(Species(\"A\"),Apos1.position())\n",
    "    return 0\n",
    "\n",
    "def spa_singlerun2():\n",
    "    model = create_model_spa(Da,Db,voxelr,ka)\n",
    "    w = spatiocyte.SpatiocyteWorld(Real3(L,L,L),voxelr,rng)    \n",
    "    w.bind_to(model)\n",
    "    (pid,p),suc = w.new_particle(Species(\"A\"),Real3(L*0.5,L*0.5,L*0.5))\n",
    "    coord = w.position2coordinate(p.position())\n",
    "    neipos = w.coordinate2position(w.get_neighbor(coord,10))\n",
    "    sim = spatiocyte.SpatiocyteSimulator(w)\n",
    "    sim.set_alpha(alpha)\n",
    "    sim.initialize()    \n",
    "    duration = tb\n",
    "    while sim.t() <= duration:\n",
    "        #if (sim.t()==0):\n",
    "        #    dt = rant()\n",
    "        #    if (dt<tmol):\n",
    "        #        return sim.t()+dt     \n",
    "        #    sim.set_alpha(1.)\n",
    "        pid,Apos1 = w.get_particle(pid)\n",
    "        sim.step()  \n",
    "        #if sim.t()==tmol:\n",
    "        #    w.remove_particle(pid)\n",
    "        #    (pid,p),suc = w.new_particle(Species(\"A\"),Real3(L*0.5,L*0.5,L*0.5))        \n",
    "        #sim.set_alpha(alpha)\n",
    "        pid,Apos2 = w.get_particle(pid)\n",
    "        dist = np.array(tuple(Apos2.position()))-np.array(tuple(neipos))\n",
    "        length = np.linalg.norm(dist)\n",
    "        if (length==0):\n",
    "            if (sim.t()>=tmol):\n",
    "                return sim.t()\n",
    "            else :\n",
    "                w.remove_particle(pid)\n",
    "                (pid,p),suc = w.new_particle(Species(\"A\"),Apos1.position())                \n",
    "    return 0\n"
   ]
  },
  {
   "cell_type": "code",
   "execution_count": 14,
   "metadata": {
    "collapsed": false
   },
   "outputs": [],
   "source": [
    "rebtime =[]\n",
    "rng.seed(0)\n",
    "trial = 10000\n",
    "for i in range(trial):\n",
    "    suc = spa_singlerun2()\n",
    "    if (suc!=0):\n",
    "        rebtime.append(suc)\n",
    "        #print i,suc"
   ]
  },
  {
   "cell_type": "code",
   "execution_count": 15,
   "metadata": {
    "collapsed": false,
    "scrolled": false
   },
   "outputs": [
    {
     "name": "stdout",
     "output_type": "stream",
     "text": [
      "1.68894931812e-06 0.00103645189822\n",
      "0.1974\n",
      "0.0\n"
     ]
    }
   ],
   "source": [
    "rebtime = np.array(rebtime)\n",
    "print min(rebtime),max(rebtime)\n",
    "print float(len(rebtime))/trial\n",
    "print float(len(rebtime[rebtime<tmol]))/trial"
   ]
  },
  {
   "cell_type": "code",
   "execution_count": 31,
   "metadata": {
    "collapsed": false,
    "scrolled": true
   },
   "outputs": [
    {
     "name": "stdout",
     "output_type": "stream",
     "text": [
      "0.9973\n"
     ]
    },
    {
     "data": {
      "image/png": "[encoded data removed]",
      "text/plain": [
       "<matplotlib.figure.Figure at 0x7fe4def73950>"
      ]
     },
     "metadata": {},
     "output_type": "display_data"
    }
   ],
   "source": [
    "hist, bin_edges = np.histogram(rebtime,bins=np.logspace(np.log10(min(rebtime)),np.log10(max(rebtime)),30))\n",
    "tt = 0.5*(bin_edges[:-1]+bin_edges[1:])\n",
    "binwid = -(bin_edges[:-1]-bin_edges[1:])\n",
    "ft = np.array([float(h)/trial/b for h,b in zip(hist,binwid)])\n",
    "plt.loglog(tt,ft,'.')\n",
    "z = lambda x: 1e-3*(x**-1.5) #t^(-0.5)\n",
    "#w = lambda x: 0.1*(x**-0.5) #t^(-0.5)\n",
    "plt.plot(np.logspace(-6,-3,50),z(np.logspace(-6,-3,50)),label='p ~ t^-1.5')\n",
    "#plt.plot(np.logspace(-6,1,50),w(np.logspace(-6,1,50)),'r',label='p ~ t^-0.5')\n",
    "prange = np.logspace(1,6,10)\n",
    "plt.plot([tmol]*len(prange),prange,'c')\n",
    "plt.xlabel('step')\n",
    "plt.ylabel('first return prob density')\n",
    "totalsum = sum(ft*binwid)\n",
    "print totalsum"
   ]
  },
  {
   "cell_type": "code",
   "execution_count": 44,
   "metadata": {
    "collapsed": false
   },
   "outputs": [
    {
     "name": "stdout",
     "output_type": "stream",
     "text": [
      "33841.2820553\n"
     ]
    }
   ],
   "source": [
    "a = 1.\n",
    "R = 0.005\n",
    "l = 2*R\n",
    "ip1 = 1./1.393\n",
    "B = (1-ip1)/(1-(1-a)*(1-ip1))\n",
    "C = 2*a*l*(1-a*B)/math.pi\n",
    "factor = (1./(1-C/R) -1)/4/math.pi/R/R\n",
    "print factor"
   ]
  },
  {
   "cell_type": "code",
   "execution_count": 40,
   "metadata": {
    "collapsed": false
   },
   "outputs": [
    {
     "data": {
      "text/plain": [
       "0.2821249102656138"
      ]
     },
     "execution_count": 40,
     "metadata": {},
     "output_type": "execute_result"
    }
   ],
   "source": [
    "1-1./1.393"
   ]
  },
  {
   "cell_type": "code",
   "execution_count": 43,
   "metadata": {
    "collapsed": false
   },
   "outputs": [
    {
     "data": {
      "text/plain": [
       "0.9996268656716417"
      ]
     },
     "execution_count": 43,
     "metadata": {},
     "output_type": "execute_result"
    }
   ],
   "source": [
    "1./(1./2679 +1)"
   ]
  },
  {
   "cell_type": "code",
   "execution_count": 60,
   "metadata": {
    "collapsed": false
   },
   "outputs": [
    {
     "data": {
      "text/plain": [
       "0.237"
      ]
     },
     "execution_count": 60,
     "metadata": {},
     "output_type": "execute_result"
    }
   ],
   "source": [
    "0.5-0.263"
   ]
  },
  {
   "cell_type": "code",
   "execution_count": 61,
   "metadata": {
    "collapsed": false
   },
   "outputs": [
    {
     "data": {
      "text/plain": [
       "0.11299999999999999"
      ]
     },
     "execution_count": 61,
     "metadata": {},
     "output_type": "execute_result"
    }
   ],
   "source": [
    "0.91-0.797"
   ]
  },
  {
   "cell_type": "code",
   "execution_count": 62,
   "metadata": {
    "collapsed": false
   },
   "outputs": [
    {
     "data": {
      "text/plain": [
       "0.519"
      ]
     },
     "execution_count": 62,
     "metadata": {},
     "output_type": "execute_result"
    }
   ],
   "source": [
    "0.256+0.263"
   ]
  },
  {
   "cell_type": "code",
   "execution_count": 79,
   "metadata": {
    "collapsed": false
   },
   "outputs": [
    {
     "data": {
      "text/plain": [
       "0.32157394843962006"
      ]
     },
     "execution_count": 79,
     "metadata": {},
     "output_type": "execute_result"
    }
   ],
   "source": [
    "(0.5-0.263)/(1-0.263)"
   ]
  },
  {
   "cell_type": "code",
   "execution_count": null,
   "metadata": {
    "collapsed": true
   },
   "outputs": [],
   "source": []
  }
 ],
 "metadata": {
  "kernelspec": {
   "display_name": "Python 2",
   "language": "python",
   "name": "python2"
  },
  "language_info": {
   "codemirror_mode": {
    "name": "ipython",
    "version": 2
   },
   "file_extension": ".py",
   "mimetype": "text/x-python",
   "name": "python",
   "nbconvert_exporter": "python",
   "pygments_lexer": "ipython2",
   "version": "2.7.10"
  }
 },
 "nbformat": 4,
 "nbformat_minor": 2
}
