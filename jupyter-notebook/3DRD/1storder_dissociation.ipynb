{
 "cells": [
  {
   "cell_type": "code",
   "execution_count": 6,
   "metadata": {
    "scrolled": true
   },
   "outputs": [
    {
     "name": "stdout",
     "output_type": "stream",
     "text": [
      "L 10.0\n",
      "rv 0.05\n",
      "Ls 10.1232885531\n",
      "ka/kd 9.94718394324\n",
      "kon 0.182695386354\n",
      "no of a 0\n",
      "no of b 51872\n",
      "vol fract 0.0\n",
      "wss 1037.44444194\n",
      "wo 1037.44444194\n",
      "no of voxel 1467168\n"
     ]
    },
    {
     "data": {
      "text/plain": [
       "<matplotlib.text.Text at 0x7fc899420310>"
      ]
     },
     "execution_count": 6,
     "metadata": {},
     "output_type": "execute_result"
    },
    {
     "data": {
      "image/png": "[encoded data removed]",
      "text/plain": [
       "<matplotlib.figure.Figure at 0x7fc8996cdb90>"
      ]
     },
     "metadata": {},
     "output_type": "display_data"
    }
   ],
   "source": [
    "%matplotlib inline\n",
    "from ecell4 import *\n",
    "import numpy as np\n",
    "import math\n",
    "import matplotlib.pyplot as plt\n",
    "from ecell4.gillespie import GillespieFactory\n",
    "from ecell4.ode import ODEFactory\n",
    "from ecell4.spatiocyte import SpatiocyteFactory\n",
    "from ecell4.bd import BDFactory\n",
    "from ecell4.meso import MesoscopicFactory\n",
    "from ecell4.egfrd import EGFRDFactory\n",
    "\n",
    "factors = [100]#,10]#,50]#,50]\n",
    "clrs = ['g','r','b']\n",
    "simno = 1\n",
    "for factor,clr in zip(factors,clrs):\n",
    "    voxelr = 0.05\n",
    "    L = voxelr*factor*2\n",
    "    print 'L',L\n",
    "    print 'rv',voxelr\n",
    "    worldsize1 = Real3(L,L,L)\n",
    "    V =  spatiocyte.SpatiocyteWorld(worldsize1,voxelr).get_volume()\n",
    "    Nv = spatiocyte.SpatiocyteWorld(worldsize1,voxelr).size()\n",
    "    Ls = (V)**(1./3)\n",
    "    print 'Ls',Ls\n",
    "    worldsize2 = Real3(Ls,Ls,Ls)\n",
    "\n",
    "    ka = 2.\n",
    "    kr = 1.5\n",
    "    #note: length unit is um by default\n",
    "    Da = 0.08\n",
    "    Db = 0.0\n",
    "    D = Da+Da\n",
    "    kd=4.0*math.pi*D*2*voxelr\n",
    "    kon = (ka*kd)/(ka+kd)\n",
    "    koff = kd*kr/(kd+ka)\n",
    "    print 'ka/kd',ka/kd\n",
    "    print 'kon',kon\n",
    "    duration = 0.5\n",
    "    dt = 1e-4\n",
    "    conc = 50.\n",
    "    Nb = int(conc*V)\n",
    "    Na = 0\n",
    "        \n",
    "    print 'no of a',Na\n",
    "    print 'no of b',Nb\n",
    "    print 'vol fract',float(Na)/Nv\n",
    "    timeserieslength = int(duration/dt)+1\n",
    "\n",
    "    with species_attributes():\n",
    "        A | {'D': str(Da), 'radius':str(voxelr)}\n",
    "        B | {'D': str(Db), 'radius':str(voxelr)}\n",
    "    \n",
    "    with reaction_rules():#for ODE\n",
    "        B > A+A | ka\n",
    "\n",
    "    m1 = get_model()\n",
    "    \n",
    "    with species_attributes():\n",
    "        A | {'D': str(Da), 'radius':str(voxelr)}\n",
    "        B | {'D': str(Db), 'radius':str(voxelr)}\n",
    "    \n",
    "    with reaction_rules():#for spa and egfrd\n",
    "        B > A+A | ka\n",
    "\n",
    "    mode = get_model()\n",
    "    \n",
    "    def singlerun(f,m,wz):\n",
    "        w = f.create_world(wz)\n",
    "        w.bind_to(m)\n",
    "        w.add_molecules(Species('A'), Na)\n",
    "        w.add_molecules(Species('B'), Nb)    \n",
    "        sim = f.create_simulator(w)\n",
    "        sim.initialize()\n",
    "        #print 'alpha',sim.get_alpha()\n",
    "        obs = FixedIntervalNumberObserver(dt, ('A','B'))\n",
    "        sim.run(duration,obs)\n",
    "        output = np.array(obs.data())\n",
    "        Nas = output[:,1]\n",
    "        Nbs = output[:,2]\n",
    "        time = output[:,0]\n",
    "        #plt.plot(time1,Naode)\n",
    "        return Nas,Nbs,time,w\n",
    "\n",
    "    mNas = np.zeros(timeserieslength)\n",
    "    mNae = np.zeros(timeserieslength)\n",
    "    mNao = np.zeros(timeserieslength)\n",
    "    #mNbs = np.zeros(timeserieslength)\n",
    "\n",
    "    Nao,Nbo,timeo,wo = singlerun(ODEFactory(),mode,worldsize2)\n",
    "    mNao = mNao + Nao\n",
    "    for runno in range(simno):\n",
    "        Nas,Nbs,timespa,ws = singlerun(SpatiocyteFactory(voxelr),m1,worldsize1)\n",
    "        mNas = mNas + Nas \n",
    "        #Nae,Nbe,timee,we = singlerun(EGFRDFactory(),m1,worldsize2)\n",
    "        #mNae = mNae + Nae \n",
    "\n",
    "    print 'wss',ws.get_volume()\n",
    "    print 'wo',wo.volume()\n",
    "    #print 'we',we.volume()\n",
    "    print 'no of voxel',ws.size()\n",
    "    mNas = mNas/simno/mNas[-1]\n",
    "    mNao = mNao/simno/mNao[-1]\n",
    "    #mNae = mNae/simno/mNae[-1]\n",
    "\n",
    "    plt.plot(timespa,mNas,c='g',linestyle='--',label='A_Spa')\n",
    "    plt.plot(timeo,mNao,c='r',linestyle='-',label='A_ODE')\n",
    "    #plt.plot(timee,mNae,c='b',linestyle='-',label='A_EGFRD')\n",
    "    plt.hold(True)\n",
    "    \n",
    "plt.legend(loc='best')\n",
    "plt.xlabel('time')\n",
    "plt.ylabel('Na/Na0')\n",
    "plt.title('simno={0:3d}, L={5:0.0f},Ls={6:0.2f}, Cini={1:3.0f}, rv={2:0.3f}, ka={3:0.3f},kd={4:0.3f}'.format(simno,conc,voxelr,ka,kd,L,Ls))\n",
    "#plt.savefig(\"Dlim_Spa_2ndorder_irr_kakd5(adjV)_rv=\"+str(voxelr)+\".png\",format='png')"
   ]
  },
  {
   "cell_type": "code",
   "execution_count": 3,
   "metadata": {},
   "outputs": [
    {
     "name": "stdout",
     "output_type": "stream",
     "text": [
      "[  0.00000000e+00   3.16363704e-04   6.32664142e-04 ...,   9.99767163e-01\n",
      "   9.99883593e-01   1.00000000e+00]\n"
     ]
    }
   ],
   "source": [
    "print mNao\n",
    "#stack = np.column_stack((timespa,Nam))\n",
    "#filename = open('output/Dlim_spa_2ndorder_irr_L1_kakd5.csv','w')\n",
    "#np.savetxt(filename,stack,fmt='%s')\n",
    "#filename.close()"
   ]
  },
  {
   "cell_type": "code",
   "execution_count": null,
   "metadata": {
    "collapsed": true
   },
   "outputs": [],
   "source": []
  }
 ],
 "metadata": {
  "anaconda-cloud": {},
  "kernelspec": {
   "display_name": "Python 2",
   "language": "python",
   "name": "python2"
  },
  "language_info": {
   "codemirror_mode": {
    "name": "ipython",
    "version": 2
   },
   "file_extension": ".py",
   "mimetype": "text/x-python",
   "name": "python",
   "nbconvert_exporter": "python",
   "pygments_lexer": "ipython2",
   "version": "2.7.12"
  }
 },
 "nbformat": 4,
 "nbformat_minor": 1
}
