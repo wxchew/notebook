{
 "cells": [
  {
   "cell_type": "code",
   "execution_count": 32,
   "metadata": {
    "collapsed": false
   },
   "outputs": [
    {
     "name": "stdout",
     "output_type": "stream",
     "text": [
      "29.6192195877 0.711671671913 0.0337618618559 1.0\n"
     ]
    }
   ],
   "source": [
    "import sys\n",
    "import numpy as np\n",
    "from numpy import pi, sqrt, inf, log\n",
    "from ecell4 import *\n",
    "\n",
    "\n",
    "#def exprnd(mu):\n",
    "#    return log(1.0 / w.rng().uniform(0, 1)) * mu\n",
    "\n",
    "def exprnd(mu):\n",
    "    return np.random.exponential(mu)  \n",
    "\n",
    "L = 100\n",
    "voxel_radius = 0.005\n",
    "D = 1\n",
    "rng = GSLRandomNumberGenerator()\n",
    "rng.seed(1)\n",
    "#if len(sys.argv) > 1:\n",
    "#    rng.seed(int(sys.argv[1]))\n",
    "\n",
    "w = spatiocyte.create_spatiocyte_world_cell_list_impl(ones() * L, voxel_radius, Integer3(3, 3, 3), rng)\n",
    "\n",
    "def singlerun1(tm, Pacc, alpha):\n",
    "    assert Pacc * alpha <= 1\n",
    "    assert alpha <= 1\n",
    "\n",
    "    coord1 = w.position2coordinate(ones() * L * 0.5)\n",
    "    coord2 = w.get_neighbor(coord1, 0)\n",
    "\n",
    "    dt = tm * alpha\n",
    "    t, nsteps = 0.0, 0\n",
    "    while all(0 <= dim < L for dim in w.coordinate2position(coord2)) and nsteps < maxstep:\n",
    "        rnd = w.rng().uniform_int(0, 11)\n",
    "        newcoord = w.get_neighbor(coord2, rnd)\n",
    "        if newcoord == coord1:\n",
    "            if Pacc * alpha >= w.rng().uniform(0, 1):\n",
    "                return True\n",
    "        elif alpha >= w.rng().uniform(0, 1):\n",
    "            coord2 = newcoord\n",
    "        nsteps += 1      \n",
    "        t += dt\n",
    "    return \n",
    "\n",
    "def singlerun2(dt, Pacc):\n",
    "    coord1 = w.position2coordinate(ones() * L * 0.5)\n",
    "    neighbors = [w.get_neighbor(coord1, i) for i in range(12)]\n",
    "    coord2 = neighbors[0]\n",
    "\n",
    "    t, nsteps = 0.0, 0\n",
    "    while all(0 <= dim < L for dim in w.coordinate2position(coord2)) and nsteps < maxstep:\n",
    "        if coord2 in neighbors:\n",
    "            dreact = exprnd(1./pr)\n",
    "            desc = exprnd(dt)\n",
    "        else:\n",
    "            dreact = inf\n",
    "            desc = exprnd(dt)\n",
    "\n",
    "        if dreact <= desc:\n",
    "            t += dreact\n",
    "            return True\n",
    "        else:\n",
    "            rnd = w.rng().uniform_int(0, 11)\n",
    "            newcoord = w.get_neighbor(coord2, rnd)\n",
    "            if newcoord != coord1:\n",
    "                coord2 = newcoord\n",
    "            t += desc\n",
    "        nsteps += 1\n",
    "        \n",
    "def singlerun3(dt, Pacc):\n",
    "    coord1 = w.position2coordinate(ones() * L * 0.5)\n",
    "    neighbors = [w.get_neighbor(coord1, i) for i in range(12)]\n",
    "    coord2 = neighbors[0]\n",
    "    t, nsteps = 0.0, 0\n",
    "    \n",
    "    while all(0 <= dim < L for dim in w.coordinate2position(coord2)) and nsteps < maxstep:\n",
    "        if coord2 in neighbors:\n",
    "            devent = exprnd(1./pt)\n",
    "            dstep = inf#exprnd(dt)\n",
    "        else:\n",
    "            devent = inf\n",
    "            dstep = exprnd(dt)\n",
    "\n",
    "        if devent < dstep:\n",
    "            t += devent\n",
    "            if w.rng().uniform(0, 1)<=(pr/pt):\n",
    "                return True\n",
    "            else:\n",
    "                newcoord = w.get_neighbor(coord2, w.rng().uniform_int(0, 11))\n",
    "                while newcoord==coord1:\n",
    "                    newcoord = w.get_neighbor(coord2, w.rng().uniform_int(0, 11))\n",
    "                if (newcoord==coord1):\n",
    "                    print 'error'\n",
    "                    break\n",
    "                coord2 = newcoord               \n",
    "        else:\n",
    "            rnd = w.rng().uniform_int(0, 11)\n",
    "            newcoord = w.get_neighbor(coord2, rnd)\n",
    "            t += dstep\n",
    "        nsteps += 1        \n",
    "        \n",
    "def singlerun4(dt, Pacc):#from shell to shell\n",
    "    coord1 = w.position2coordinate(ones() * L * 0.5)\n",
    "    neighbors = [w.get_neighbor(coord1, i) for i in range(12)]\n",
    "    coord2 = neighbors[0]\n",
    "    t, nsteps = 0.0, 0\n",
    "    \n",
    "    while all(0 <= dim < L for dim in w.coordinate2position(coord2)) and nsteps < maxstep:\n",
    "        rnd = w.rng().uniform_int(0, 11)\n",
    "        coord2 = w.get_neighbor(coord2, rnd)\n",
    "        nsteps += 1       \n",
    "        if coord2 in neighbors:\n",
    "            return True\n",
    "        \n",
    "\n",
    "kD = 4 * pi * (2 * voxel_radius) * D\n",
    "ka_factor = 10.  # 100.0\n",
    "ka = kD * ka_factor\n",
    "Pacc = ka / (6 * sqrt(2) * D * voxel_radius)\n",
    "dt = (4 * voxel_radius * voxel_radius) / (6 * D)\n",
    "pr = Pacc/12/dt\n",
    "pe = 11./12/dt\n",
    "pt = pr+pe\n",
    "alpha=1./Pacc\n",
    "\n",
    "print Pacc, Pacc/(Pacc+12),alpha,alpha*Pacc\n",
    "maxstep= 2#int(float(L/voxel_radius))\n",
    "ntrials = 10000000\n",
    "res = [singlerun1(dt, Pacc, alpha) for _ in range(ntrials)]\n",
    "#res = [singlerun2(dt, Pacc) for _ in range(ntrials)]\n",
    "#print res\n",
    "#rebprob= float(res.count(True)) / len(res)\n",
    "#print rebprob\n",
    "#t=Pacc/(Pacc+12)\n",
    "#print (t-rebprob)*100/t\n",
    "#print res\n",
    "#times = np.array([i for i in res if i != None])\n",
    "#print float(len(times))/ntrials\n",
    "#print float(len(times[times<dt]))/ntrials\n",
    "#ptot = 1./(1+(1./0.256318-1)/Pacc)\n",
    "#print ptot,(ptot-rebprob)*100/ptot"
   ]
  },
  {
   "cell_type": "code",
   "execution_count": 33,
   "metadata": {
    "collapsed": false
   },
   "outputs": [
    {
     "name": "stdout",
     "output_type": "stream",
     "text": [
      "None 0.8419529\n",
      "0 0.0832309\n",
      "1 0.0748162\n"
     ]
    }
   ],
   "source": [
    "def gethist2(ret,norun): #to get rxn fraction for each discrete t\n",
    "    uq,uqcnt = np.unique(ret,return_counts=True)\n",
    "    freq = [float(i)/norun for i in uqcnt]\n",
    "    for i,j in zip(uq,uqcnt): print i,float(j)/norun\n",
    "    #plt.loglog(freq,'.')\n",
    "gethist2(res,ntrials)    "
   ]
  },
  {
   "cell_type": "code",
   "execution_count": 35,
   "metadata": {
    "collapsed": false
   },
   "outputs": [
    {
     "data": {
      "text/plain": [
       "(0.074747687270894161, 0.081457674341339367)"
      ]
     },
     "execution_count": 35,
     "metadata": {},
     "output_type": "execute_result"
    }
   ],
   "source": [
    "((1-alpha)*11/12 +alpha/3)/12,((1-alpha)+alpha/3)/12"
   ]
  },
  {
   "cell_type": "code",
   "execution_count": 39,
   "metadata": {
    "collapsed": false
   },
   "outputs": [
    {
     "data": {
      "text/plain": [
       "[<matplotlib.lines.Line2D at 0x7fb8c96ecc10>]"
      ]
     },
     "execution_count": 39,
     "metadata": {},
     "output_type": "execute_result"
    },
    {
     "data": {
      "image/png": "[encoded data removed]",
      "text/plain": [
       "<matplotlib.figure.Figure at 0x7fb8c988bc10>"
      ]
     },
     "metadata": {},
     "output_type": "display_data"
    }
   ],
   "source": [
    "import matplotlib.pyplot as plt\n",
    "%matplotlib inline\n",
    "plt.plot([1,2,5,10],[7.16,3.33,1.2,0.4],'-o')"
   ]
  },
  {
   "cell_type": "code",
   "execution_count": 19,
   "metadata": {
    "collapsed": false
   },
   "outputs": [
    {
     "name": "stdout",
     "output_type": "stream",
     "text": [
      "0.505158889747 0.526885959164 -4.30103673487\n"
     ]
    }
   ],
   "source": [
    "def out(p,b2):\n",
    "    b1=p/12\n",
    "    b=b1+b2\n",
    "    a1=b1/b\n",
    "    a2=1-a1\n",
    "    r=1-(1./0.256318-1)/12\n",
    "    return a1/(1-a2*r)\n",
    "p=2.9619\n",
    "t=out(p,1)\n",
    "s=out(p,11./12)\n",
    "print t,s,(t-s)*100/t"
   ]
  },
  {
   "cell_type": "code",
   "execution_count": 63,
   "metadata": {
    "collapsed": false
   },
   "outputs": [
    {
     "data": {
      "image/png": "[encoded data removed]",
      "text/plain": [
       "<matplotlib.figure.Figure at 0x7fb8e2f0b150>"
      ]
     },
     "metadata": {},
     "output_type": "display_data"
    }
   ],
   "source": [
    "%matplotlib inline\n",
    "import matplotlib.pyplot as plt\n",
    "def plothist(times):\n",
    "    hist, bin_edges = np.histogram(times,bins=np.logspace(np.log10(min(times)),np.log10(max(times)),30))\n",
    "    tt = 0.5*(bin_edges[:-1]+bin_edges[1:])\n",
    "    binwid = -(bin_edges[:-1]-bin_edges[1:])\n",
    "    ft = np.array([float(h)/ntrials/b for h,b in zip(hist,binwid)])\n",
    "    plt.loglog(tt,ft,'.')\n",
    "    z = lambda x: 1e-3*(x**-1.5) #t^(-0.5)\n",
    "    #w = lambda x: 0.1*(x**-0.5) #t^(-0.5)\n",
    "    plt.plot(np.logspace(-6,-3,50),z(np.logspace(-6,-3,50)),label='p ~ t^-1.5')\n",
    "    #plt.plot(np.logspace(-6,1,50),w(np.logspace(-6,1,50)),'r',label='p ~ t^-0.5')\n",
    "    prange = np.logspace(1,6,10)\n",
    "    plt.plot([dt]*len(prange),prange,'c')\n",
    "    plt.xlabel('step')\n",
    "    plt.ylabel('first return prob density')\n",
    "    #totalsum = sum(ft*binwid)\n",
    "    \n",
    "plothist(times)\n",
    "plothist(times2)"
   ]
  },
  {
   "cell_type": "code",
   "execution_count": 55,
   "metadata": {
    "collapsed": false
   },
   "outputs": [
    {
     "name": "stdout",
     "output_type": "stream",
     "text": [
      "0.124419511033 0.12190202184\n",
      "2.02338778872\n"
     ]
    }
   ],
   "source": [
    "ka_factor = 100  # 100.0\n",
    "ka = kD * ka_factor\n",
    "Pa = ka / (6 * sqrt(2) * D * voxel_radius)\n",
    "alpha = Pa/(Pa+12)\n",
    "dt = (4 * voxel_radius * voxel_radius) / (6 * D)\n",
    "#k0 = Pa*(4*np.pi*voxel_radius**3 /3)/dt\n",
    "k0 = 6*sqrt(2)*voxel_radius*Pa*D\n",
    "E = 19.271868\n",
    "R0 = 0.256318\n",
    "Rl = 1-(1./R0 -1)/12\n",
    "kefft = ka*kD/(ka+kD)\n",
    "#print k0/(1+alpha*E)\n",
    "keffl = (1-(alpha/(1-(1-alpha)*Rl)))*k0\n",
    "print kefft,keffl\n",
    "print abs(kefft-keffl)*100/kefft"
   ]
  },
  {
   "cell_type": "code",
   "execution_count": 25,
   "metadata": {
    "collapsed": false
   },
   "outputs": [],
   "source": [
    "for i in range(1000000):\n",
    "    z=w.rng().uniform(1e-12, 1)\n",
    "    k=1./z\n",
    "    if (z==0): print z"
   ]
  },
  {
   "cell_type": "code",
   "execution_count": 32,
   "metadata": {
    "collapsed": false
   },
   "outputs": [
    {
     "data": {
      "text/plain": [
       "array([   1.01816347,    9.92896175,  110.11111111])"
      ]
     },
     "execution_count": 32,
     "metadata": {},
     "output_type": "execute_result"
    }
   ],
   "source": [
    "P=np.array([0.5045,0.9085,0.991])\n",
    "1./(1./P-1)"
   ]
  },
  {
   "cell_type": "code",
   "execution_count": 46,
   "metadata": {
    "collapsed": false
   },
   "outputs": [
    {
     "data": {
      "text/plain": [
       "0.758216356244977"
      ]
     },
     "execution_count": 46,
     "metadata": {},
     "output_type": "execute_result"
    }
   ],
   "source": [
    "1-(((1./0.256318)-1)/12)"
   ]
  },
  {
   "cell_type": "code",
   "execution_count": 59,
   "metadata": {
    "collapsed": false
   },
   "outputs": [
    {
     "data": {
      "text/plain": [
       "10000.0"
      ]
     },
     "execution_count": 59,
     "metadata": {},
     "output_type": "execute_result"
    }
   ],
   "source": [
    "100./0.01"
   ]
  },
  {
   "cell_type": "code",
   "execution_count": 5,
   "metadata": {
    "collapsed": false
   },
   "outputs": [
    {
     "name": "stdout",
     "output_type": "stream",
     "text": [
      "29.6192195877\n"
     ]
    }
   ],
   "source": [
    "D=1\n",
    "import math\n",
    "import numpy as np\n",
    "pi=np.pi\n",
    "voxel_radius=0.005\n",
    "kaf=10\n",
    "kD = 4 * pi * (2 * voxel_radius) * D\n",
    "ka_factor = kaf  # 100.0\n",
    "ka = kD * ka_factor\n",
    "Pacc = ka / (6 * math.sqrt(2) * D * voxel_radius)\n",
    "print Pacc"
   ]
  },
  {
   "cell_type": "code",
   "execution_count": 15,
   "metadata": {
    "collapsed": false
   },
   "outputs": [
    {
     "name": "stdout",
     "output_type": "stream",
     "text": [
      "-0.00162274109369\n"
     ]
    }
   ],
   "source": [
    "t=0.985986\n",
    "s=0.986002\n",
    "print (t-s)*100/t"
   ]
  },
  {
   "cell_type": "code",
   "execution_count": 17,
   "metadata": {
    "collapsed": false
   },
   "outputs": [
    {
     "name": "stdout",
     "output_type": "stream",
     "text": [
      "0.114181818182 0.114181818182\n"
     ]
    }
   ],
   "source": [
    "R0 = 0.256318\n",
    "D=1\n",
    "R=0.01\n",
    "kD=4*3.14*R*D\n",
    "ka=10*kD\n",
    "#P=ka/3/2**0.5/D/R\n",
    "P=(1./R0-1)/(1./(4*3.14*ka/(3*2**0.5*(ka+kD)*(1./R0-1)))-1)\n",
    "G=P/(P+1./R0-1)\n",
    "keff=G*3*2**0.5*D*R*(1./R0-1)\n",
    "print keff,ka*kD/(ka+kD)"
   ]
  },
  {
   "cell_type": "code",
   "execution_count": null,
   "metadata": {
    "collapsed": true
   },
   "outputs": [],
   "source": []
  }
 ],
 "metadata": {
  "kernelspec": {
   "display_name": "Python 2",
   "language": "python",
   "name": "python2"
  },
  "language_info": {
   "codemirror_mode": {
    "name": "ipython",
    "version": 2
   },
   "file_extension": ".py",
   "mimetype": "text/x-python",
   "name": "python",
   "nbconvert_exporter": "python",
   "pygments_lexer": "ipython2",
   "version": "2.7.10"
  }
 },
 "nbformat": 4,
 "nbformat_minor": 2
}
