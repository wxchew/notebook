{
 "cells": [
  {
   "cell_type": "code",
   "execution_count": 4,
   "metadata": {
    "collapsed": false
   },
   "outputs": [],
   "source": [
    "from ecell4 import *\n",
    "import math\n",
    "%matplotlib inline\n",
    "import numpy as np\n",
    "import matplotlib.pyplot as plt\n",
    "rng = GSLRandomNumberGenerator()\n",
    "import scipy.special"
   ]
  },
  {
   "cell_type": "code",
   "execution_count": 5,
   "metadata": {
    "collapsed": false
   },
   "outputs": [
    {
     "name": "stdout",
     "output_type": "stream",
     "text": [
      "1.256\n",
      "tmol 1.66666666667e-06 0.00416666666667 2500.0\n",
      "pacc 2.96042039057 pacc/tmol 1776252.23434\n",
      "totalpreb 0.5\n",
      "alpha 0.337789863624\n"
     ]
    }
   ],
   "source": [
    "voxelr = 0.005\n",
    "L = 1.\n",
    "V=L**3\n",
    "Da = 10.\n",
    "Db = 0.\n",
    "kD = 4*3.14*2*voxelr*Da\n",
    "print kD\n",
    "\n",
    "ka = 1*kD\n",
    "\n",
    "tmol = 2*voxelr*voxelr/3./Da\n",
    "tb = (0.5*0.5*L*L)/6./Da #time to boundary\n",
    "print 'tmol',tmol,tb,tb/tmol\n",
    "pacc = ka/6./(2**0.5)/Da/voxelr\n",
    "P = 1. #must be less then one\n",
    "print 'pacc',pacc,'pacc/tmol',pacc/tmol\n",
    "totalpreb = 1./(1+kD/ka)\n",
    "print 'totalpreb',totalpreb\n",
    "alpha = 1./pacc\n",
    "print 'alpha',alpha\n",
    "#prebt = (1+math.exp(tmol)*(scipy.special.erf(math.sqrt(tmol))-1))/(1+kD/ka)\n",
    "#print prebt\n"
   ]
  },
  {
   "cell_type": "code",
   "execution_count": 6,
   "metadata": {
    "collapsed": false
   },
   "outputs": [
    {
     "name": "stdout",
     "output_type": "stream",
     "text": [
      "148021.019528 600000.0\n"
     ]
    }
   ],
   "source": [
    "lamdar = pacc/tmol/12\n",
    "lamdas = 1./tmol\n",
    "print lamdar,lamdas\n",
    "\n",
    "def rant(lamda):\n",
    "    return np.random.exponential(1/lamda)  "
   ]
  },
  {
   "cell_type": "code",
   "execution_count": 17,
   "metadata": {
    "collapsed": false
   },
   "outputs": [
    {
     "data": {
      "text/plain": [
       "<matplotlib.legend.Legend at 0x7f58ff6c6fd0>"
      ]
     },
     "execution_count": 17,
     "metadata": {},
     "output_type": "execute_result"
    },
    {
     "data": {
      "image/png": "[encoded data removed]",
      "text/plain": [
       "<matplotlib.figure.Figure at 0x7f58ff807110>"
      ]
     },
     "metadata": {},
     "output_type": "display_data"
    }
   ],
   "source": [
    "for a in [0.1,0.01,0.001]:\n",
    "    C=a*alpha*(pacc+11)/12\n",
    "    ms = np.arange(0,1,a)   \n",
    "    s= [(C*(-C)**i+1)/(C+1) for i in range(len(ms))]\n",
    "    plt.plot(ms,s,'.',label=str(a))\n",
    "plt.legend()"
   ]
  },
  {
   "cell_type": "code",
   "execution_count": 213,
   "metadata": {
    "collapsed": true
   },
   "outputs": [],
   "source": [
    "def create_model_spa(Da,Db,voxelr,k): \n",
    "    with species_attributes():\n",
    "        A | {'D': str(Da), 'radius':str(voxelr)}        \n",
    "    return get_model()"
   ]
  },
  {
   "cell_type": "code",
   "execution_count": 214,
   "metadata": {
    "collapsed": false
   },
   "outputs": [],
   "source": [
    "#spatio\n",
    "def spa_singlerun():\n",
    "    model = create_model_spa(Da,Db,voxelr,ka)\n",
    "    w = spatiocyte.SpatiocyteWorld(Real3(L,L,L),voxelr,rng)    \n",
    "    w.bind_to(model)\n",
    "    oricord = 727208\n",
    "    oripos = w.coordinate2position(oricord)\n",
    "    FN = w.get_neighbor(oricord,2)   \n",
    "    Apos = w.coordinate2position(FN)\n",
    "    #(pid,p),suc = w.new_particle(Species(\"A\"),FNpos)\n",
    "    #print np.linalg.norm(np.array(Apos)-np.array(tuple(ori)))    \n",
    "    #print np.linalg.norm(np.array(tuple(FNpos))-np.array(tuple(ori)))\n",
    "    #dt = rant(lamda)\n",
    "    #w.remove_particle(pid)\n",
    "    (pid,p),suc = w.new_particle(Species(\"A\"),Apos)     \n",
    "    sim = spatiocyte.SpatiocyteSimulator(w)\n",
    "    sim.initialize()    \n",
    "    duration = tb    \n",
    "    while sim.t() <= duration:\n",
    "        #print 't',sim.t()\n",
    "        #dt = rant()\n",
    "        pid,Apos = w.get_particle(pid)\n",
    "        dist = np.array(tuple(Apos.position()))-np.array(tuple(oripos))\n",
    "        length = np.linalg.norm(dist)      \n",
    "        if (length<=0.011):# and (dt<tmol):        \n",
    "            dtr = rant(lamdar)\n",
    "            dts = rant(lamdas)\n",
    "        else:\n",
    "            dtr = np.inf#10*tmol\n",
    "            dts = rant(lamdas)\n",
    "        if (dtr<tmol and dtr<dts):\n",
    "            \n",
    "            return sim.t()+dtr                     \n",
    "        else:\n",
    "            ct = sim.t()\n",
    "            sim.step()\n",
    "            sim.set_t(ct+dts)           \n",
    "        pid,Apos1 = w.get_particle(pid)\n",
    "        dist = np.array(tuple(Apos1.position()))-np.array(tuple(oripos))\n",
    "        length = np.linalg.norm(dist) \n",
    "        #print 'length',length\n",
    "        if (length<=0.005):\n",
    "            #print 'pos correct'\n",
    "            w.remove_particle(pid)\n",
    "            (pid,p),suc = w.new_particle(Species(\"A\"),Apos.position())    \n",
    "        elif (length>0.5*L):\n",
    "            break            \n",
    "    return 0"
   ]
  },
  {
   "cell_type": "code",
   "execution_count": 215,
   "metadata": {
    "collapsed": false
   },
   "outputs": [],
   "source": [
    "#normal\n",
    "rebtime =[]\n",
    "#rng.seed(0)\n",
    "trial = 500\n",
    "for i in range(trial):\n",
    "    suc = spa_singlerun()\n",
    "    if (suc!=0):\n",
    "        rebtime.append(suc)\n",
    "        #print i,suc"
   ]
  },
  {
   "cell_type": "code",
   "execution_count": 216,
   "metadata": {
    "collapsed": false,
    "scrolled": false
   },
   "outputs": [
    {
     "name": "stdout",
     "output_type": "stream",
     "text": [
      "5.15535516352e-08 0.0015909775658\n",
      "0.396\n",
      "0.174\n"
     ]
    }
   ],
   "source": [
    "rebtime = np.array(rebtime)\n",
    "print min(rebtime),max(rebtime)\n",
    "print float(len(rebtime))/trial\n",
    "print float(len(rebtime[rebtime<tmol]))/trial\n",
    "#print float(len(rebtime[rebtime>=tmol]))/trial"
   ]
  },
  {
   "cell_type": "code",
   "execution_count": 221,
   "metadata": {
    "collapsed": false,
    "scrolled": true
   },
   "outputs": [
    {
     "name": "stdout",
     "output_type": "stream",
     "text": [
      "0.392\n"
     ]
    },
    {
     "data": {
      "image/png": "[encoded data removed]",
      "text/plain": [
       "<matplotlib.figure.Figure at 0x7fa6568ca450>"
      ]
     },
     "metadata": {},
     "output_type": "display_data"
    }
   ],
   "source": [
    "hist, bin_edges = np.histogram(rebtime,bins=np.logspace(np.log10(min(rebtime)),np.log10(max(rebtime)),30))\n",
    "tt = 0.5*(bin_edges[:-1]+bin_edges[1:])\n",
    "binwid = -(bin_edges[:-1]-bin_edges[1:])\n",
    "ft = np.array([float(h)/trial/b for h,b in zip(hist,binwid)])\n",
    "plt.loglog(tt,ft,'.')\n",
    "z = lambda x: 1e-3*(x**-1.5) #t^(-0.5)\n",
    "#w = lambda x: 0.1*(x**-0.5) #t^(-0.5)\n",
    "plt.plot(np.logspace(-6,-3,50),z(np.logspace(-6,-3,50)),label='p ~ t^-1.5')\n",
    "#plt.plot(np.logspace(-6,1,50),w(np.logspace(-6,1,50)),'r',label='p ~ t^-0.5')\n",
    "prange = np.logspace(1,6,10)\n",
    "plt.plot([tmol]*len(prange),prange,'c')\n",
    "plt.xlabel('step')\n",
    "plt.ylabel('first return prob density')\n",
    "totalsum = sum(ft*binwid)\n",
    "print totalsum"
   ]
  },
  {
   "cell_type": "code",
   "execution_count": 44,
   "metadata": {
    "collapsed": false
   },
   "outputs": [
    {
     "name": "stdout",
     "output_type": "stream",
     "text": [
      "33841.2820553\n"
     ]
    }
   ],
   "source": [
    "a = 1.\n",
    "R = 0.005\n",
    "l = 2*R\n",
    "ip1 = 1./1.393\n",
    "B = (1-ip1)/(1-(1-a)*(1-ip1))\n",
    "C = 2*a*l*(1-a*B)/math.pi\n",
    "factor = (1./(1-C/R) -1)/4/math.pi/R/R\n",
    "print factor"
   ]
  },
  {
   "cell_type": "code",
   "execution_count": 40,
   "metadata": {
    "collapsed": false
   },
   "outputs": [
    {
     "data": {
      "text/plain": [
       "0.2821249102656138"
      ]
     },
     "execution_count": 40,
     "metadata": {},
     "output_type": "execute_result"
    }
   ],
   "source": [
    "1-1./1.393"
   ]
  },
  {
   "cell_type": "code",
   "execution_count": 43,
   "metadata": {
    "collapsed": false
   },
   "outputs": [
    {
     "data": {
      "text/plain": [
       "0.9996268656716417"
      ]
     },
     "execution_count": 43,
     "metadata": {},
     "output_type": "execute_result"
    }
   ],
   "source": [
    "1./(1./2679 +1)"
   ]
  },
  {
   "cell_type": "code",
   "execution_count": 22,
   "metadata": {
    "collapsed": false
   },
   "outputs": [
    {
     "name": "stdout",
     "output_type": "stream",
     "text": [
      "0\n",
      "1\n",
      "2\n"
     ]
    }
   ],
   "source": [
    "suc=False\n",
    "r=[False,False,True,False]\n",
    "i=0\n",
    "while (suc==False):\n",
    "    print i\n",
    "    suc=r[i]\n",
    "    i+=1"
   ]
  },
  {
   "cell_type": "code",
   "execution_count": 57,
   "metadata": {
    "collapsed": false
   },
   "outputs": [
    {
     "data": {
      "text/plain": [
       "0.2138"
      ]
     },
     "execution_count": 57,
     "metadata": {},
     "output_type": "execute_result"
    }
   ],
   "source": [
    "0.5-(0.5724*0.5)"
   ]
  },
  {
   "cell_type": "code",
   "execution_count": 66,
   "metadata": {
    "collapsed": false
   },
   "outputs": [
    {
     "data": {
      "text/plain": [
       "0.2138"
      ]
     },
     "execution_count": 66,
     "metadata": {},
     "output_type": "execute_result"
    }
   ],
   "source": [
    "r=1.\n",
    "f = 1./r\n",
    "0.4276/(1+f)"
   ]
  },
  {
   "cell_type": "code",
   "execution_count": 68,
   "metadata": {
    "collapsed": false
   },
   "outputs": [
    {
     "data": {
      "text/plain": [
       "0.520884"
      ]
     },
     "execution_count": 68,
     "metadata": {},
     "output_type": "execute_result"
    }
   ],
   "source": [
    "0.5724*0.91"
   ]
  },
  {
   "cell_type": "code",
   "execution_count": 50,
   "metadata": {
    "collapsed": false
   },
   "outputs": [
    {
     "data": {
      "text/plain": [
       "0.3941740412979351"
      ]
     },
     "execution_count": 50,
     "metadata": {},
     "output_type": "execute_result"
    }
   ],
   "source": [
    "0.4276/0.5424/2"
   ]
  },
  {
   "cell_type": "code",
   "execution_count": 220,
   "metadata": {
    "collapsed": false
   },
   "outputs": [
    {
     "name": "stdout",
     "output_type": "stream",
     "text": [
      "[   0.66500167    8.59692898  120.95121951]\n"
     ]
    }
   ],
   "source": [
    "p = np.array([0.3994,0.8958,0.9918])\n",
    "print 1./(1./p-1)"
   ]
  },
  {
   "cell_type": "code",
   "execution_count": null,
   "metadata": {
    "collapsed": true
   },
   "outputs": [],
   "source": []
  }
 ],
 "metadata": {
  "kernelspec": {
   "display_name": "Python 2",
   "language": "python",
   "name": "python2"
  },
  "language_info": {
   "codemirror_mode": {
    "name": "ipython",
    "version": 2
   },
   "file_extension": ".py",
   "mimetype": "text/x-python",
   "name": "python",
   "nbconvert_exporter": "python",
   "pygments_lexer": "ipython2",
   "version": "2.7.10"
  }
 },
 "nbformat": 4,
 "nbformat_minor": 2
}
