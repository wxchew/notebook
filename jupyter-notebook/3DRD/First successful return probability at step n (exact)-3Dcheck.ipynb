{
 "cells": [
  {
   "cell_type": "code",
   "execution_count": 17,
   "metadata": {},
   "outputs": [],
   "source": [
    "import math\n",
    "import numpy as np\n",
    "import scipy\n",
    "import matplotlib.pyplot as plt\n",
    "%matplotlib inline"
   ]
  },
  {
   "cell_type": "code",
   "execution_count": 22,
   "metadata": {},
   "outputs": [],
   "source": [
    "def bino(n, k):\n",
    "    def eratosthenes_simple_numbers(N):\n",
    "        yield 2\n",
    "        nonsimp = set()\n",
    "        for i in range(3, N + 1, 2):\n",
    "            if i not in nonsimp:\n",
    "                nonsimp |= {j for j in range(i * i, N + 1, 2 * i)}\n",
    "                yield i\n",
    "    def calc_pow_in_factorial(a, p):\n",
    "        res = 0\n",
    "        while a:\n",
    "            a //= p\n",
    "            res += a\n",
    "        return res\n",
    "    ans = 1\n",
    "    for p in eratosthenes_simple_numbers(n):\n",
    "        ans *= p ** (calc_pow_in_factorial(n, p) - calc_pow_in_factorial(k, p) - calc_pow_in_factorial(n - k, p))\n",
    "    return ans"
   ]
  },
  {
   "cell_type": "code",
   "execution_count": 23,
   "metadata": {},
   "outputs": [],
   "source": [
    "def f1(n): #Pdiamond\n",
    "    x=0\n",
    "    for j in range(n+1):\n",
    "        xx = (bino(n,j))**2 *(bino(2*j,j))*(bino(2*n-2*j,n-j))\n",
    "        x+=xx\n",
    "    return x\n",
    "\n",
    "def f2(n): #Pfcc\n",
    "    y=0\n",
    "    for j in range(n+1):\n",
    "        yy = bino(n,j)*((-4)**(n-j)) *f1(j)\n",
    "        y+=yy\n",
    "    return float(y)/12**n\n",
    "\n",
    "def F(n): #FPfcc\n",
    "    y = [1]\n",
    "    if n==0: return y[0]\n",
    "    else:  \n",
    "        m = 1\n",
    "        while m<=n:\n",
    "            yy=0\n",
    "            for i in range(m-1):\n",
    "                j=i+1\n",
    "                yy+=f2(m-j)*y[j]\n",
    "            y.append(f2(m)-yy)    \n",
    "            m+=1\n",
    "    return y"
   ]
  },
  {
   "cell_type": "code",
   "execution_count": 39,
   "metadata": {},
   "outputs": [
    {
     "name": "stdout",
     "output_type": "stream",
     "text": [
      "[1, 0.0, 0.08333333333333333]\n"
     ]
    },
    {
     "data": {
      "text/plain": [
       "([0.08333333333333333], 0.08333333333333333)"
      ]
     },
     "execution_count": 39,
     "metadata": {},
     "output_type": "execute_result"
    }
   ],
   "source": [
    "#return at step n for j times\n",
    "def Fj(n,j):\n",
    "    y = F(n)\n",
    "    print(y)\n",
    "    y[0]=0 #Fj in row j-1\n",
    "    k=list(y)\n",
    "    Fnj=[y[-1]]\n",
    "    jj = 2\n",
    "    while jj<=j:\n",
    "        nlist = []\n",
    "        for nn in range(n+1): #get Fjj for all n \n",
    "            g=0\n",
    "            for i in range(nn): #get Fjj for nn\n",
    "                i+=1\n",
    "                g+= y[i]*k[nn-i]\n",
    "            nlist.append(g)\n",
    "        jj+=1\n",
    "        k=list(nlist)\n",
    "        Fnj.append(k[-1])\n",
    "    return Fnj #Fn at j=0 to input J\n",
    "       \n",
    "Fj(2,1),1./12"
   ]
  },
  {
   "cell_type": "code",
   "execution_count": 46,
   "metadata": {},
   "outputs": [
    {
     "name": "stdout",
     "output_type": "stream",
     "text": [
      "[1, 0.0, 0.08333333333333333, 0.027777777777777776]\n"
     ]
    },
    {
     "data": {
      "text/plain": [
       "(0.013888888888888888, 0.015625)"
      ]
     },
     "execution_count": 46,
     "metadata": {},
     "output_type": "execute_result"
    }
   ],
   "source": [
    "def Hn(alpha,n): #prob of first succesful return after step n\n",
    "    sm = 0\n",
    "    F=Fj(n,n/2)\n",
    "    for j in range(int(n/2)):\n",
    "        j+=1\n",
    "        sm+=F[j-1]*(1-alpha)**(j-1)\n",
    "    return alpha*sm\n",
    "\n",
    "Hn(0.5,3),4.5*0.5/144"
   ]
  },
  {
   "cell_type": "code",
   "execution_count": 6,
   "metadata": {},
   "outputs": [],
   "source": [
    "alpha =0.296\n",
    "prob = [Hn(alpha,step+1) for step in range(10)]"
   ]
  },
  {
   "cell_type": "code",
   "execution_count": 9,
   "metadata": {},
   "outputs": [
    {
     "name": "stdout",
     "output_type": "stream",
     "text": [
      "0.057707239577\n"
     ]
    }
   ],
   "source": [
    "print sum(prob)"
   ]
  },
  {
   "cell_type": "code",
   "execution_count": 70,
   "metadata": {},
   "outputs": [
    {
     "name": "stdout",
     "output_type": "stream",
     "text": [
      "400\n",
      "900\n"
     ]
    }
   ],
   "source": [
    "import os\n",
    "def loadata(fname):\n",
    "    namelist = os.listdir(fname)\n",
    "    norun = len(namelist)\n",
    "    print norun\n",
    "    ret = np.array([])\n",
    "    for name in namelist:\n",
    "        dat = np.loadtxt(fname+name,delimiter=',')   \n",
    "        ret =  np.r_[ret,dat]\n",
    "    return ret,norun\n",
    "\n",
    "def gethist2(fname): #to get rxn fraction for each discrete t\n",
    "    ret,norun = loadata(fname)\n",
    "    uq,uqcnt = np.unique(ret,return_counts=True)\n",
    "    freq = [float(i)/10000/norun for i in uqcnt]\n",
    "    #for i,j in zip(uq,uqcnt): print i,j\n",
    "    #plt.loglog(freq,'.')\n",
    "    return freq\n",
    "    \n",
    "freq1 = gethist2(\"data/fpt_01kD_L1_short/\")    \n",
    "freq2 = gethist2(\"data/fpt_001kD_L1_short/\")    "
   ]
  },
  {
   "cell_type": "code",
   "execution_count": 80,
   "metadata": {},
   "outputs": [
    {
     "data": {
      "text/plain": [
       "<matplotlib.legend.Legend at 0x7fabe4d13150>"
      ]
     },
     "execution_count": 80,
     "metadata": {},
     "output_type": "execute_result"
    },
    {
     "data": {
      "image/png": "[encoded data removed]",
      "text/plain": [
       "<matplotlib.figure.Figure at 0x7fabe631b5d0>"
      ]
     },
     "metadata": {},
     "output_type": "display_data"
    }
   ],
   "source": [
    "plt.loglog(range(len(prob)),prob,'g.',label='exact,alpha=0.296')\n",
    "plt.loglog(np.linspace(1,len(freq1),len(freq1)),freq1,'rx',label='sim,alpha=0.296')\n",
    "\n",
    "plt.loglog(range(len(prob2)),prob2,'r.',label='exact,alpha=0.03')\n",
    "plt.loglog(np.linspace(1,len(freq2),len(freq2)),freq2,'gx',label='sim,alpha=0.0296')\n",
    "\n",
    "z = lambda x: 0.1*(x**-1.5) #t^(-0.5)\n",
    "plt.plot(np.logspace(0,2,10),z(np.logspace(0,2,10)),label='p ~ t^-1.5')\n",
    "plt.xlabel('step')\n",
    "plt.ylabel('1st return prob')\n",
    "plt.legend(fontsize=9)               "
   ]
  },
  {
   "cell_type": "code",
   "execution_count": 66,
   "metadata": {},
   "outputs": [
    {
     "data": {
      "text/plain": [
       "array([  2.,   3.,   4.,   5.,   6.,   7.,   8.,   9.,  10.,  11.])"
      ]
     },
     "execution_count": 66,
     "metadata": {},
     "output_type": "execute_result"
    }
   ],
   "source": [
    "np.linspace(2,10+1,10)"
   ]
  },
  {
   "cell_type": "code",
   "execution_count": 14,
   "metadata": {},
   "outputs": [],
   "source": [
    "import numpy as np\n",
    "def Fna(n,f):\n",
    "    g = 0.5772156649\n",
    "    A=np.log(f*n)\n",
    "    t1=(2*np.pi/3**0.5)*(1/A)\n",
    "    t2=(2*np.pi/3**0.5)*(1/A-g/A**2)\n",
    "    t3=(np.pi)*(1/A-g/A**2+(g**2-np.pi**2/6)/A**3)\n",
    "    return t1,t2,t3"
   ]
  },
  {
   "cell_type": "code",
   "execution_count": 16,
   "metadata": {},
   "outputs": [
    {
     "data": {
      "text/plain": [
       "(0.4373736456710924, 0.4069350866256861, 0.3451933643012166)"
      ]
     },
     "execution_count": 16,
     "metadata": {},
     "output_type": "execute_result"
    }
   ],
   "source": [
    "Fna(50,16)"
   ]
  },
  {
   "cell_type": "code",
   "execution_count": null,
   "metadata": {},
   "outputs": [],
   "source": []
  }
 ],
 "metadata": {
  "kernelspec": {
   "display_name": "Python 2",
   "language": "python",
   "name": "python2"
  },
  "language_info": {
   "codemirror_mode": {
    "name": "ipython",
    "version": 3
   },
   "file_extension": ".py",
   "mimetype": "text/x-python",
   "name": "python",
   "nbconvert_exporter": "python",
   "pygments_lexer": "ipython3",
   "version": "3.5.2"
  }
 },
 "nbformat": 4,
 "nbformat_minor": 2
}
