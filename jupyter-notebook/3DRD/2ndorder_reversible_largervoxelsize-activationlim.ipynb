{
 "cells": [
  {
   "cell_type": "code",
   "execution_count": 2,
   "metadata": {
    "collapsed": false,
    "scrolled": true
   },
   "outputs": [],
   "source": [
    "%matplotlib inline\n",
    "from ecell4 import *\n",
    "import numpy as np\n",
    "import math\n",
    "import matplotlib.pyplot as plt\n",
    "\n",
    "run = 20\n",
    "\n",
    "rm = 0.005\n",
    "D = 1\n",
    "Dt = 2*D\n",
    "kd= 4.0*math.pi*D*4*rm\n",
    "ka = 0.1*kd\n",
    "kr = 0.1*ka\n",
    "T = 7\n",
    "L = 1.5\n",
    "V1 = L**3\n",
    "kon = (ka*kd)/(ka+kd)\n",
    "taum = (2./3)*(rm**2)/D\n",
    "N = 100#int(conc*V2)\n",
    "Nb=1\n",
    "\n",
    "with species_attributes():\n",
    "     A |B|C| {'D': str(D), 'radius':str(rm)}\n",
    "\n",
    "with reaction_rules():#for spa and egfrd\n",
    "     A + B == C | (ka,kr)\n",
    "        \n",
    "m1 = get_model()\n",
    "\n",
    "spa = np.array(ensemble_simulations(run, T, y0={\"A\": N,'B': N}, model=m1, solver=(\"spatiocyte\", rm), volume=V1,return_type='array'))\n",
    "ts = spa[0][0][:,0]\n",
    "nas = np.mean(spa[0][:,:,1],axis=0)\n",
    "\n"
   ]
  },
  {
   "cell_type": "code",
   "execution_count": 9,
   "metadata": {
    "collapsed": false,
    "scrolled": true
   },
   "outputs": [
    {
     "name": "stdout",
     "output_type": "stream",
     "text": [
      "kr 0.125663706144 krn 0.11527989848\n",
      "[0.025132741228718353, 0.023896849024339153, 0.023684154853372986] [0.022993544577856798, 0.022992808466603874, 0.022992083409414197]\n",
      "dtau 0.00165\n",
      "ka 0.0251327412287 ktm 0.022883643699 kt2 0.0229913691323\n",
      "kd 0.251327412287 ka 0.0251327412287 kon 0.0228479465716\n",
      "vol fract % 2.57111281143\n"
     ]
    },
    {
     "data": {
      "text/plain": [
       "<matplotlib.legend.Legend at 0x7f9c13093190>"
      ]
     },
     "execution_count": 9,
     "metadata": {},
     "output_type": "execute_result"
    },
    {
     "data": {
      "image/png": "[encoded data removed]",
      "text/plain": [
       "<matplotlib.figure.Figure at 0x7f9c15972950>"
      ]
     },
     "metadata": {},
     "output_type": "display_data"
    }
   ],
   "source": [
    "factor = 10\n",
    "rv = factor*rm\n",
    "V2 =  spatiocyte.SpatiocyteWorld(ones()*L,rv).get_volume()\n",
    "tauv = (2./3)*(rv**2)/D\n",
    "dtau = tauv - taum\n",
    "phi = (100*2*N*4.*math.pi*(rv**3)/(3*V2)) \n",
    "\n",
    "def phix(x):\n",
    "    return 1./( (377.*x/324)+(1+ (314.*(x**2)/847) )**0.5)\n",
    "\n",
    "def kt(tau):\n",
    "    tauc = ((ka*2*rm/(ka+kd))**2)/(2*Dt)\n",
    "    x = ka*((tau/tauc)**(0.5))/kd\n",
    "    return kon*(1+(ka*phix(x)/kd))\n",
    "\n",
    "kt2 = kt(dtau)\n",
    "dt = dtau/100#fine resolution needed for produce accurate numerical integration\n",
    "kts = [kt(t-taum) for t in np.arange(taum,tauv,dt)]\n",
    "ktm = np.trapz(kts,dx=dt)/dtau\n",
    "kd2= 4.0*math.pi*D*4*rv\n",
    "krn = kr*(1+(ktm/kd2))/(1+(ka/kd))\n",
    "\n",
    "print 'kr',kr,'krn',krn\n",
    "print kts[:3],kts[-3:]\n",
    "print 'dtau',dtau\n",
    "print 'ka',ka,'ktm',ktm,'kt2',kt2\n",
    "print 'kd',kd,'ka', ka,'kon', kon\n",
    "print 'vol fract %',phi\n",
    "\n",
    "with species_attributes():\n",
    "     A |B|C| {'D': str(D), 'radius':str(rm)}\n",
    "\n",
    "with reaction_rules():#for spa and egfrd\n",
    "     A + B == C | (ka,kr)#(ktm,krn)\n",
    "        \n",
    "m2 = get_model()\n",
    "\n",
    "spa2 = np.array(ensemble_simulations(10*run, T, y0={\"A\": N,'B': N}, model=m2, solver=(\"spatiocyte\", rv), volume=V1,return_type='array'))\n",
    "ts2 = spa2[0][0][:,0]\n",
    "nas2 = np.mean(spa2[0][:,:,1],axis=0)\n",
    "\n",
    "plt.plot(ts,nas,'g.',label='rm')\n",
    "plt.plot(ts2,nas2,'r.',label=str(factor)+'rm')\n",
    "plt.legend()\n"
   ]
  },
  {
   "cell_type": "code",
   "execution_count": null,
   "metadata": {
    "collapsed": true
   },
   "outputs": [],
   "source": [
    "#print 'aceptance prob, Prm',ap(ka,rm),'Prv',ap(kt2,rv)\n",
    "#print 'no of a',N\n",
    "#print 'no of b',N\n",
    "\n",
    "#print taum,tauv\n",
    "#print 'L',L\n",
    "#print 'rv',rv,'rm',rm\n",
    "#print 'actual vol',V2\n",
    "#print 'Ls',Ls\n",
    "\n",
    "#calculate intrinsic rm'\n",
    "#fa = (3.14*Dt*taum)**0.5\n",
    "#a = 0.5* fa\n",
    "#b = 0.5*(fa*fa + ka*fa/(3.14*Dt))**0.5\n",
    "#sol1 = -a+b\n",
    "#sol2 = -a-b\n",
    "#rr1 = (kd+ka)*sol1/2./ka\n",
    "#rr2 = (kd+ka)*sol2/2./ka\n",
    "#rr = rr1\n",
    "#print 'soltn',rr1,rr2,rm\n",
    "\n",
    "#def kt3(tau):\n",
    "#    tauc = ((ka*2*rr/(ka+kd))**2)/(2*Dt)\n",
    "#   x = ka*((tau/tauc)**(0.5))/kd\n",
    "#    return kon*(1+(ka*phix(x)/kd))\n",
    "\n",
    "#print kt3(taum),ka"
   ]
  },
  {
   "cell_type": "code",
   "execution_count": 7,
   "metadata": {
    "collapsed": false
   },
   "outputs": [
    {
     "name": "stdout",
     "output_type": "stream",
     "text": [
      "x [  0.          15.55634919  22.        ]\n",
      "tau 4.13223140496e-07\n",
      "phis [1.0, 0.036198485223472326, 0.025620571414851901]\n",
      "dx 0.01\n",
      "kt [0.025132741228718353, 0.022930652677197877, 0.022906484316244084]\n",
      "st [1.0, 0.9764231301739725, 0.9544563552763042]\n"
     ]
    },
    {
     "data": {
      "text/plain": [
       "<matplotlib.legend.Legend at 0x7f709a415210>"
      ]
     },
     "execution_count": 7,
     "metadata": {},
     "output_type": "execute_result"
    },
    {
     "data": {
      "image/png": "[encoded data removed]",
      "text/plain": [
       "<matplotlib.figure.Figure at 0x7f709a79cd90>"
      ]
     },
     "metadata": {},
     "output_type": "display_data"
    }
   ],
   "source": [
    "def phi(x):\n",
    "    return [1./( (377.*xx/324)+(1+ (314.*(xx**2)/847) )**0.5) for xx in x]\n",
    "\n",
    "def phi3(x):\n",
    "    p = []\n",
    "    l=len(x)\n",
    "    for i in range(l):\n",
    "        if (i==0):\n",
    "            p.append(math.exp(x[i]**2)*math.erfc(x[i]))\n",
    "        else:\n",
    "            xi = 1./x[i]\n",
    "            p.append((1./math.sqrt(math.pi))*xi*(1- 0.5*xi+0.75*xi**2-1.875*xi**3+6.5625*xi**4 -29.53125*xi**5))\n",
    "    return p\n",
    "\n",
    "def phi2(x):\n",
    "    tt =1.0/(1.0+0.5*x) \n",
    "    phi = [t*math.exp(-1.26551223+t*(1.00002368+t*(0.37409196+t*(0.09678418+t*(-0.18628806+t*(0.27886807+t*(-1.13520398+t*(1.48851587+ t*(-0.82215223+t*0.17087277))))))))) for t in tt] \n",
    "    return phi\n",
    "\n",
    "tau = ((ka*2*voxelr/(ka+kd))**2)/(2*D)\n",
    "tt= ts#np.arange(0,ts[-1],1e-5)\n",
    "x = ka*((tt/tau)**(0.5))/kd\n",
    "print 'x',x[:3]\n",
    "print 'tau',tau\n",
    "phis = phi(x)\n",
    "print 'phis',phis[:3]\n",
    "#kt = [kon for phi in phis]\n",
    "kt = [kon*(1+(ka*p/kd)) for p in phis]\n",
    "st = []\n",
    "dx = tt[2]-tt[1]\n",
    "for i in range(len(tt)):\n",
    "    st.append(math.exp(-(N/V2)*np.trapz(kt[0:i+1],dx=dx)))\n",
    "print 'dx',dx\n",
    "print 'kt',kt[:3]\n",
    "print 'st',st[:3]\n",
    "#plt.plot(tt,kt,'.')\n",
    "plt.plot(tt,st,'r--',label='theory')\n",
    "plt.plot(ts,nas/N,'g--',label='spa')\n",
    "ax= plt.gca()\n",
    "#ax.set_yscale(\"log\")\n",
    "plt.legend()"
   ]
  },
  {
   "cell_type": "code",
   "execution_count": null,
   "metadata": {
    "collapsed": true
   },
   "outputs": [],
   "source": []
  }
 ],
 "metadata": {
  "anaconda-cloud": {},
  "kernelspec": {
   "display_name": "Python 2",
   "language": "python",
   "name": "python2"
  },
  "language_info": {
   "codemirror_mode": {
    "name": "ipython",
    "version": 2
   },
   "file_extension": ".py",
   "mimetype": "text/x-python",
   "name": "python",
   "nbconvert_exporter": "python",
   "pygments_lexer": "ipython2",
   "version": "2.7.10"
  }
 },
 "nbformat": 4,
 "nbformat_minor": 1
}
