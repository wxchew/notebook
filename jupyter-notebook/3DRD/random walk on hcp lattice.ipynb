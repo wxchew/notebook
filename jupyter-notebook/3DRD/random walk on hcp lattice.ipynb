{
 "cells": [
  {
   "cell_type": "code",
   "execution_count": 1,
   "metadata": {
    "collapsed": false,
    "scrolled": true
   },
   "outputs": [
    {
     "name": "stdout",
     "output_type": "stream",
     "text": [
      "1200\n"
     ]
    }
   ],
   "source": [
    "from ecell4 import *\n",
    "import numpy as np\n",
    "import math\n",
    "import matplotlib.pyplot as plt\n",
    "rng = core.GSLRandomNumberGenerator()\n",
    "\n",
    "L = 0.08\n",
    "rm = 0.005\n",
    "w = spatiocyte.SpatiocyteWorld(Real3(L,L,L),rm)\n",
    "with species_attributes():\n",
    "    A | {'D':'1.','radius':str(rm)}\n",
    "m = get_model()\n",
    "w.bind_to(m)\n",
    "print w.size()"
   ]
  },
  {
   "cell_type": "code",
   "execution_count": 2,
   "metadata": {
    "collapsed": false
   },
   "outputs": [],
   "source": [
    "def run():\n",
    "    w.add_molecules(Species('A'),1)\n",
    "    PID,b =w.list_particles(Species('A'))[0]\n",
    "    oripos = tuple(b.position())\n",
    "    sim = spatiocyte.SpatiocyteSimulator(w)\n",
    "    sim.initialize()\n",
    "    logs= []\n",
    "    for N in range(7):\n",
    "        nstep=N+1\n",
    "        #print 'step',nstep\n",
    "        sim.step()    \n",
    "        pid,p = w.get_particle(PID)\n",
    "        cpos = tuple(p.position())\n",
    "        #print cpos\n",
    "        if (cpos==oripos):\n",
    "#            print 'is back',nstep\n",
    "             #logs.append(nstep) #for prob\n",
    "            w.remove_molecules(Species('A'),1)  #for first prob\n",
    "            return nstep#for first prob\n",
    "    w.remove_molecules(Species('A'),1)       \n",
    "    return logs"
   ]
  },
  {
   "cell_type": "code",
   "execution_count": 6,
   "metadata": {
    "collapsed": false
   },
   "outputs": [],
   "source": [
    "numtrial = 10000000\n",
    "steps = []\n",
    "for trial in range(numtrial):\n",
    "    nstep = run()\n",
    "    if nstep!=[]:\n",
    "        steps.append(nstep)\n",
    "#for prob calculation\n",
    "#    if len(nstep)!=0:\n",
    "#        for j in nstep:\n",
    "#            steps.append(j)\n",
    "#viz.plot_world(w)"
   ]
  },
  {
   "cell_type": "code",
   "execution_count": 7,
   "metadata": {
    "collapsed": false
   },
   "outputs": [
    {
     "name": "stdout",
     "output_type": "stream",
     "text": [
      "numstep= 2 prob= 0.0833132\n",
      "numstep= 3 prob= 0.0276615\n",
      "numstep= 4 prob= 0.0190682\n",
      "numstep= 5 prob= 0.0127377\n",
      "numstep= 6 prob= 0.0097159\n",
      "numstep= 7 prob= 0.0074401\n"
     ]
    }
   ],
   "source": [
    "steps=np.array(steps)\n",
    "uq,uqcnt = np.unique(steps,return_counts=True)\n",
    "if (len(uq)==0):print uq\n",
    "for i,j in zip(uq,uqcnt):\n",
    "    print 'numstep=',i,'prob=',float(j)/numtrial"
   ]
  },
  {
   "cell_type": "code",
   "execution_count": 5,
   "metadata": {
    "collapsed": false
   },
   "outputs": [
    {
     "data": {
      "text/html": [
       "<html>\n",
       "  <head>\n",
       "    <script type=\"text/javascript\">\n",
       "     (function(){\n",
       "       if(window[\"THREE\"] === undefined || window[\"d3\"] === undefined){\n",
       "\t require.config({\n",
       "\t   paths:{\n",
       "\t     d3: [\n",
       "\t       'https://d3js.org/d3.v3.min',\n",
       "\t       'custom/d3.min'\n",
       "\t     ],\n",
       "\t     THREE: [\n",
       "\t       'https://cdnjs.cloudflare.com/ajax/libs/three.js/r66/three.min',\n",
       "\t       'custom/three.min'\n",
       "\t     ],\n",
       "         Elegans: [\n",
       "           'https://cdn.rawgit.com/domitry/elegans/15e85b0dafdb6f09181c1ee2f0c47218f6fd698d/release/elegans.min',\n",
       "\t       'custom/elegans'\n",
       "\t     ]\n",
       "\t   },\n",
       "\t   shim:{\n",
       "\t     THREE: {\n",
       "\t       exports: 'THREE'\n",
       "\t     },\n",
       "\t     Elegans: {\n",
       "\t       deps: ['THREE'],\n",
       "\t       exports: 'Elegans'\n",
       "\t     }\n",
       "\t   }\n",
       "\t });\n",
       "\n",
       "\t require([\"d3\", \"THREE\"], function(d3){\n",
       "\t   window[\"d3\"] = d3;\n",
       "\n",
       "\t   d3.select(document)\n",
       "\t     .on(\"contextmenu\", function(){\n",
       "\t     d3.selectAll(\"canvas\").style(\"z-index\", 10);\n",
       "\t     d3.selectAll(\".download_menu\").style(\"z-index\", 100);\n",
       "\t   });\n",
       "\t });\n",
       "       }\n",
       "\n",
       "       require([\"Elegans\"], function(){\n",
       "\t console.log(\"Begin rendering...\");\n",
       "\t var model = {\"plots\": [], \"options\": {\"save_image\": true, \"range\": {\"y\": [0.0, 0.08], \"x\": [0.0, 0.08], \"z\": [0.0, 0.08]}, \"world_height\": 350, \"world_width\": 350, \"grid\": true, \"autorange\": false}};\n",
       "\t // Elegans.Embed.parse(\"#\"+\"viz72d8bbad-ee7d-420c-b83b-deace828666b\",model).render();\n",
       "\t var stage = Elegans.Embed.parse(\"#\"+\"viz72d8bbad-ee7d-420c-b83b-deace828666b\",model);\n",
       "     stage.world.camera.position.set(-22, 23, 32);\n",
       "     stage.world.camera.rotation.set(-0.6, 0.5, 0.6);\n",
       "\t stage.render();\n",
       "       });\n",
       "     })();\n",
       "    </script>\n",
       "  </head>\n",
       "  <body>\n",
       "    <div id=\"viz72d8bbad-ee7d-420c-b83b-deace828666b\"></div>\n",
       "  </body>\n",
       "</html>"
      ],
      "text/plain": [
       "<IPython.core.display.HTML object>"
      ]
     },
     "metadata": {},
     "output_type": "display_data"
    }
   ],
   "source": [
    "viz.plot_world(w)"
   ]
  },
  {
   "cell_type": "code",
   "execution_count": null,
   "metadata": {
    "collapsed": true
   },
   "outputs": [],
   "source": []
  }
 ],
 "metadata": {
  "anaconda-cloud": {},
  "kernelspec": {
   "display_name": "Python 2",
   "language": "python",
   "name": "python2"
  },
  "language_info": {
   "codemirror_mode": {
    "name": "ipython",
    "version": 2
   },
   "file_extension": ".py",
   "mimetype": "text/x-python",
   "name": "python",
   "nbconvert_exporter": "python",
   "pygments_lexer": "ipython2",
   "version": "2.7.10"
  }
 },
 "nbformat": 4,
 "nbformat_minor": 1
}
