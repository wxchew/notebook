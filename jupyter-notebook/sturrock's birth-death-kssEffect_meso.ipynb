{
 "cells": [
  {
   "cell_type": "code",
   "execution_count": 3,
   "metadata": {
    "scrolled": true
   },
   "outputs": [
    {
     "name": "stdout",
     "output_type": "stream",
     "text": [
      "meso K 4\n",
      "rm=0.5,D=0.1\n",
      "kon=0.1,keff=0.02,V=1e+02\n",
      "mean [A] 5.07888823529\n",
      "saving into /home/chew/outputdata/sturrock_bd_meso_rm0.5_D0.1_L4.64\n",
      "saving into /home/chew/outputdata/sturrock_bd_meso_rm0.5_D0.1_L4.64_err\n"
     ]
    }
   ],
   "source": [
    "from ecell4 import *\n",
    "from ecell4.extra import ensemble\n",
    "import numpy as np\n",
    "import matplotlib.pylab as plt\n",
    "%matplotlib inline\n",
    "\n",
    "simrun=100\n",
    "duration = 1000\n",
    "nproc=60\n",
    "L=cbrt(100)\n",
    "Ca=5.\n",
    "Cb=1.\n",
    "k0= 0.1\n",
    "method='multiprocessing'\n",
    "\n",
    "def write(name,obs):\n",
    "    f=open(name,'w')\n",
    "    data = np.array(obs.data()).T\n",
    "    np.savetxt(name,np.column_stack([data[0],data[1]]),delimiter=',',fmt='%s')\n",
    "    f.close()        \n",
    "    print('saving into',name)        \n",
    "    e=open(name+'_err','w')        \n",
    "    err = np.array(obs.error()).T        \n",
    "    np.savetxt(name+'_err',np.column_stack([err[0],err[1]]),delimiter=',',fmt='%s')\n",
    "    e.close()\n",
    "    print('saving into',name+'_err')\n",
    "\n",
    "def singlerun(rm,D,solver,intrinsic=False,simrun=1):  \n",
    "    K=int(L/2/rm)\n",
    "    print(solver,'K',K)\n",
    "    V = L**3 \n",
    "    Nb=100\n",
    "    solver = ('meso', Integer3(K,K,K))        \n",
    "    keff = k0/Ca/Cb\n",
    "\n",
    "    with species_attributes():\n",
    "        A | {'D': D}\n",
    "        B | {'D': D}\n",
    "\n",
    "    with reaction_rules():\n",
    "        ~A > A | k0\n",
    "        A + B >B | (ka if intrinsic else keff)\n",
    "        #A > ~A | keff\n",
    "    m = get_model()\n",
    "    print('rm={:.3},D={:.3}'.format(rm,D))\n",
    "    print('kon={:.3},keff={:.3},V={:.3}'.format(k0,keff,V))\n",
    "    if simrun >1    :\n",
    "        obs=ensemble.ensemble_simulations(duration,n=simrun, y0={'B':Nb},model=m, solver=solver,volume=ones()*L,species_list=[\"A\"],return_type='observer',nproc=nproc,method=method)#,return_type=\"observer\")\n",
    "    else:\n",
    "        obs=run_simulation(duration,model=m,y0={'B':Nb},return_type='observer',species_list=['A'],solver=solver,volume=ones()*L)\n",
    "    data = np.array(obs.data()).T\n",
    "    print('mean [A]',np.mean(data[1][50:])/V)   \n",
    "    write('/home/chew/outputdata/sturrock_bd_meso_rm{:.3}_D{:.3}_L{:.3}'.format(rm,D,L),obs)\n",
    "    return obs\n",
    "\n",
    "obs=singlerun(0.5,0.1,'meso',False,simrun)   \n",
    "\n",
    "    "
   ]
  },
  {
   "cell_type": "code",
   "execution_count": 4,
   "metadata": {},
   "outputs": [
    {
     "data": {
      "image/png": "[encoded data removed]",
      "text/plain": [
       "<matplotlib.figure.Figure at 0x7fb400e4a5f8>"
      ]
     },
     "metadata": {},
     "output_type": "display_data"
    }
   ],
   "source": [
    "#viz.plot_number_observer(obs4,'r.',obs2,'g.',obs3,'k-',obs5,'y-',obs6,'c-')\n",
    "viz.plot_number_observer(obs,'r.')"
   ]
  },
  {
   "cell_type": "code",
   "execution_count": 12,
   "metadata": {},
   "outputs": [
    {
     "data": {
      "text/plain": [
       "5.477225575051661"
      ]
     },
     "execution_count": 12,
     "metadata": {},
     "output_type": "execute_result"
    }
   ],
   "source": [
    "(6*0.1/0.02)**0.5#upper length scale"
   ]
  },
  {
   "cell_type": "code",
   "execution_count": null,
   "metadata": {},
   "outputs": [],
   "source": []
  }
 ],
 "metadata": {
  "anaconda-cloud": {},
  "kernelspec": {
   "display_name": "Python 3",
   "language": "python",
   "name": "python3"
  },
  "language_info": {
   "codemirror_mode": {
    "name": "ipython",
    "version": 3
   },
   "file_extension": ".py",
   "mimetype": "text/x-python",
   "name": "python",
   "nbconvert_exporter": "python",
   "pygments_lexer": "ipython3",
   "version": "3.5.2"
  }
 },
 "nbformat": 4,
 "nbformat_minor": 1
}
