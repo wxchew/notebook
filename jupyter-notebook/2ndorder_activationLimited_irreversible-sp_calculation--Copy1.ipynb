{
 "cells": [
  {
   "cell_type": "code",
   "execution_count": 13,
   "metadata": {
    "collapsed": false
   },
   "outputs": [
    {
     "name": "stdout",
     "output_type": "stream",
     "text": [
      "ka 0.0025 kd 0.502654824574 kon 0.00248762755556\n",
      "p 0.0147313912747\n",
      "dt 6.66666666667e-05\n",
      "x [ 0.          0.58022177  0.8205575 ]\n",
      "tau 4.89847620446e-09\n",
      "kt [0.0025000000000000005, 0.0024947557585824781, 0.0024935969552941752]\n",
      "[0.00248793821067001, 0.0024879381071526447, 0.0024879380037386937]\n",
      "kt/ka [1.0000000000000002, 0.99790230343299124, 0.99743878211767001]\n",
      "st [1.0, 0.9999833509527349, 0.9999667235254326]\n"
     ]
    },
    {
     "data": {
      "image/png": "[encoded data removed]",
      "text/plain": [
       "<matplotlib.figure.Figure at 0x7fd2080d2050>"
      ]
     },
     "metadata": {},
     "output_type": "display_data"
    }
   ],
   "source": [
    "import math\n",
    "import numpy as np\n",
    "import matplotlib.pyplot as plt\n",
    "from ecell4 import *\n",
    "\n",
    "def phi(x):\n",
    "    return [1./( (377.*xx/324)+(1+ (314.*(xx**2)/847) )**0.5) for xx in x]\n",
    "\n",
    "voxelr=0.005*2\n",
    "\n",
    "D = 1\n",
    "kd= 4.0*math.pi*D*4*voxelr\n",
    "ka=0.0025#0.01*kd\n",
    "kon = kd*ka/(kd+ka)\n",
    "\n",
    "print 'ka',ka,'kd',kd,'kon',kon\n",
    "print 'p',ka/(6*(2**0.5)*2*D*voxelr)\n",
    "dt = (2.*voxelr)**2/6./D\n",
    "print 'dt',dt\n",
    "N=100\n",
    "V2=1\n",
    "tau = ((ka*2*voxelr/(ka+kd))**2)/(2*D)\n",
    "T=0.1\n",
    "tt= np.arange(0,T,dt)\n",
    "x = ka*((tt/tau)**(0.5))/kd\n",
    "print 'x',x[:3]\n",
    "print 'tau',tau\n",
    "phis = phi(x)\n",
    "\n",
    "#kt = [kon for phi in phis]\n",
    "kt = [kon*(1+(ka*p/kd)) for p in phis]\n",
    "ktdka = [j/ka for j in kt]\n",
    "st = []\n",
    "for i in range(len(tt)):\n",
    "    st.append(math.exp(-(N/V2)*np.trapz(kt[0:i+1],dx=dt)))\n",
    "print 'kt',kt[:3]\n",
    "print kt[-3:]\n",
    "print 'kt/ka',ktdka[:3]\n",
    "print 'st',st[:3]\n",
    "#plt.plot(tt,kt,'.')\n",
    "\n",
    "with reaction_rules():#for ODE\n",
    "    A + B > B | kon\n",
    "m1 = get_model()\n",
    "\n",
    "ode = np.array(run_simulation(T, model=m1, y0={'A': N,'B': N}, solver='ode', volume=V2, return_type='array'))\n",
    "to = ode[:,0]\n",
    "nao = ode[:,1]\n",
    "\n",
    "plt.plot(to,nao/N,'g-')\n",
    "plt.plot(tt,st,'r--',label='theory')\n",
    "plt.show()"
   ]
  },
  {
   "cell_type": "code",
   "execution_count": null,
   "metadata": {
    "collapsed": true
   },
   "outputs": [],
   "source": []
  }
 ],
 "metadata": {
  "anaconda-cloud": {},
  "kernelspec": {
   "display_name": "Python [default]",
   "language": "python",
   "name": "python2"
  },
  "language_info": {
   "codemirror_mode": {
    "name": "ipython",
    "version": 2
   },
   "file_extension": ".py",
   "mimetype": "text/x-python",
   "name": "python",
   "nbconvert_exporter": "python",
   "pygments_lexer": "ipython2",
   "version": "2.7.12"
  }
 },
 "nbformat": 4,
 "nbformat_minor": 1
}
