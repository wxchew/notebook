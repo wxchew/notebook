{
 "cells": [
  {
   "cell_type": "code",
   "execution_count": 1,
   "metadata": {
    "collapsed": false
   },
   "outputs": [],
   "source": [
    "from ecell4 import *\n",
    "import math\n",
    "%matplotlib inline\n",
    "import numpy as np\n",
    "import matplotlib.pyplot as plt\n",
    "rng = GSLRandomNumberGenerator()"
   ]
  },
  {
   "cell_type": "code",
   "execution_count": 2,
   "metadata": {
    "collapsed": true
   },
   "outputs": [],
   "source": [
    "simrun =1.\n",
    "K = 20\n",
    "duration = 1000\n",
    "L=1.\n",
    "D = 0.1\n",
    "kon = 0.02\n",
    "koff = 0.1\n",
    "N = 1\n",
    "V = L**3\n",
    "h = L/K\n",
    "dt = 2.*(h*h)/3./D"
   ]
  },
  {
   "cell_type": "code",
   "execution_count": 3,
   "metadata": {
    "collapsed": false
   },
   "outputs": [],
   "source": [
    "def create_model(D,koff,kon): #sturock model\n",
    "    with species_attributes():\n",
    "        A | {'D': str(D)}\n",
    "        B | {'D': '0.'}\n",
    "\n",
    "    with reaction_rules():\n",
    "        A + B > B | koff\n",
    "        ~A > A | kon\n",
    "    return get_model()"
   ]
  },
  {
   "cell_type": "code",
   "execution_count": 4,
   "metadata": {
    "collapsed": false
   },
   "outputs": [],
   "source": [
    "w = meso.MesoscopicWorld(Real3(L,L,L), Integer3(K,K,K))\n",
    "#w = gillespie.GillespieWorld(Real3(L,L,L))\n",
    "m = create_model(D,koff,kon)\n",
    "w.bind_to(m)  # XXX: Point1\n",
    "w.add_molecules(Species('A'), N)\n",
    "w.add_molecules(Species('B'), 1)\n",
    "sim = meso.MesoscopicSimulator(w)\n",
    "#sim = gillespie.GillespieSimulator(w)\n",
    "\n",
    "#ensemble_simulations(100, duration, y0={\"A\": N}, model=m, solver=(\"gillespie\"), volume=Real3(L,L,L))"
   ]
  },
  {
   "cell_type": "code",
   "execution_count": 5,
   "metadata": {
    "collapsed": false
   },
   "outputs": [
    {
     "data": {
      "image/png": "[encoded data removed]",
      "text/plain": [
       "<matplotlib.figure.Figure at 0x7f6636a92f50>"
      ]
     },
     "metadata": {},
     "output_type": "display_data"
    }
   ],
   "source": [
    "obs = FixedIntervalNumberObserver(dt, ('A'))\n",
    "sim.run(duration, obs)\n",
    "viz.plot_number_observer(obs)"
   ]
  },
  {
   "cell_type": "code",
   "execution_count": null,
   "metadata": {
    "collapsed": false
   },
   "outputs": [],
   "source": []
  },
  {
   "cell_type": "code",
   "execution_count": null,
   "metadata": {
    "collapsed": true
   },
   "outputs": [],
   "source": []
  }
 ],
 "metadata": {
  "anaconda-cloud": {},
  "kernelspec": {
   "display_name": "Python 2",
   "language": "python",
   "name": "python2"
  },
  "language_info": {
   "codemirror_mode": {
    "name": "ipython",
    "version": 2
   },
   "file_extension": ".py",
   "mimetype": "text/x-python",
   "name": "python",
   "nbconvert_exporter": "python",
   "pygments_lexer": "ipython2",
   "version": "2.7.10"
  }
 },
 "nbformat": 4,
 "nbformat_minor": 1
}
