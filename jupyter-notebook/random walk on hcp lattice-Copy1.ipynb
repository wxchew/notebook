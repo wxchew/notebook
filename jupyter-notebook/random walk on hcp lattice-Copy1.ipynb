{
 "cells": [
  {
   "cell_type": "code",
   "execution_count": 1,
   "metadata": {
    "collapsed": false,
    "scrolled": true
   },
   "outputs": [
    {
     "name": "stdout",
     "output_type": "stream",
     "text": [
      "1200\n"
     ]
    }
   ],
   "source": [
    "from ecell4 import *\n",
    "import numpy as np\n",
    "import math\n",
    "import matplotlib.pyplot as plt\n",
    "rng = core.GSLRandomNumberGenerator()\n",
    "\n",
    "L = 0.08\n",
    "rm = 0.005\n",
    "w = spatiocyte.SpatiocyteWorld(Real3(L,L,L),rm)\n",
    "with species_attributes():\n",
    "    A | {'D':'1.','radius':str(rm)}\n",
    "m = get_model()\n",
    "w.bind_to(m)\n",
    "print w.size()"
   ]
  },
  {
   "cell_type": "code",
   "execution_count": 6,
   "metadata": {
    "collapsed": false
   },
   "outputs": [],
   "source": [
    "def run():\n",
    "    w.add_molecules(Species('A'),1)\n",
    "    PID,b =w.list_particles(Species('A'))[0]\n",
    "    oripos = tuple(b.position())\n",
    "    sim = spatiocyte.SpatiocyteSimulator(w)\n",
    "    sim.initialize()\n",
    "    logs= []\n",
    "    for N in range(6):\n",
    "        nstep=N+1\n",
    "        #print 'step',nstep\n",
    "        sim.step()    \n",
    "        pid,p = w.get_particle(PID)\n",
    "        cpos = tuple(p.position())\n",
    "        #print cpos\n",
    "        if (cpos==oripos):\n",
    "            #print 'is back',nstep,cpos\n",
    "            logs.append(nstep)\n",
    "    w.remove_molecules(Species('A'),1)       \n",
    "    return logs\n",
    "     "
   ]
  },
  {
   "cell_type": "code",
   "execution_count": null,
   "metadata": {
    "collapsed": false
   },
   "outputs": [],
   "source": [
    "numtrial = 10000000\n",
    "steps = []\n",
    "for trial in range(numtrial):\n",
    "    nstep = run()\n",
    "    if len(nstep)!=0:\n",
    "        for j in nstep:\n",
    "            steps.append(j)\n",
    "#viz.plot_world(w)"
   ]
  },
  {
   "cell_type": "code",
   "execution_count": null,
   "metadata": {
    "collapsed": false
   },
   "outputs": [],
   "source": [
    "steps=np.array(steps)\n",
    "uq,uqcnt = np.unique(steps,return_counts=True)\n",
    "if (len(uq)==0):print uq\n",
    "for i,j in zip(uq,uqcnt):\n",
    "    print 'numstep=',i,'prob=',float(j)/numtrial"
   ]
  },
  {
   "cell_type": "code",
   "execution_count": null,
   "metadata": {
    "collapsed": false
   },
   "outputs": [],
   "source": [
    "viz.plot_world(w)"
   ]
  },
  {
   "cell_type": "code",
   "execution_count": null,
   "metadata": {
    "collapsed": true
   },
   "outputs": [],
   "source": []
  }
 ],
 "metadata": {
  "anaconda-cloud": {},
  "kernelspec": {
   "display_name": "Python 2",
   "language": "python",
   "name": "python2"
  },
  "language_info": {
   "codemirror_mode": {
    "name": "ipython",
    "version": 2
   },
   "file_extension": ".py",
   "mimetype": "text/x-python",
   "name": "python",
   "nbconvert_exporter": "python",
   "pygments_lexer": "ipython2",
   "version": "2.7.10"
  }
 },
 "nbformat": 4,
 "nbformat_minor": 1
}
