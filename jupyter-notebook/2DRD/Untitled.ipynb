{
 "cells": [
  {
   "cell_type": "code",
   "execution_count": 1,
   "metadata": {},
   "outputs": [],
   "source": [
    "import numpy as np\n",
    "import math\n",
    "import matplotlib.pyplot as plt\n",
    "from math import pi,sqrt\n",
    "from scipy import special\n",
    "%matplotlib inline"
   ]
  },
  {
   "cell_type": "code",
   "execution_count": 43,
   "metadata": {},
   "outputs": [],
   "source": [
    "A=3**(3./2)/2/pi\n",
    "kf=0.1\n",
    "D=1\n",
    "R=0.01\n",
    "f1=0.256318\n",
    "l=R\n",
    "p1=1.34466\n",
    "kd=4*pi*R*D\n",
    "ka=kf*kd\n",
    "P=ka/(3*sqrt(2)*D*l)\n",
    "C=-A*P/(1+P*(p1-1))**2\n",
    "td=l*l/6/D\n",
    "\n",
    "\n",
    "def p(t):\n",
    "    #t1=(ka/(4*pi*R**3))*(1+kf)\n",
    "    t1=ka*R/(2*(ka+kd)*sqrt(pi*D))\n",
    "    #tau=D*(1+kf)**2/R/R\n",
    "    tau=t\n",
    "    return t1*tau**(-3/2)\n",
    "\n",
    "def Ht(t):\n",
    "    t1=(-C/2/sqrt(pi))\n",
    "    n=6*D/l/l\n",
    "    n=n*t\n",
    "    return t1*n**(-3/2)/td\n",
    "\n",
    "def phix(x):\n",
    "    return special.erfcx(x)\n",
    "\n",
    "def f(t):\n",
    "    x = t**0.5\n",
    "    return (1./math.pi**0.5 /x - phix(x))\n",
    "\n",
    "def f2(t):\n",
    "    return 0.5*t**(-3/2)/sqrt(pi)\n",
    "\n",
    "def theorykaf(tt):\n",
    "    ka = kd * kf\n",
    "    tmol = R*R/D/(1+ka/kd)**2\n",
    "    tau = tt/tmol\n",
    "    Nfactor = (ka*(1+ka/kd)*D/kd/R/R)\n",
    "    plt.loglog(tt,f(tau)*Nfactor,'g-')\n",
    "    \n",
    "def theorykaf2(tt):\n",
    "    ka = kd * kf\n",
    "    tmol = R*R/D/(1+ka/kd)**2\n",
    "    tau = tt/tmol\n",
    "    Nfactor = (ka*(1+ka/kd)*D/kd/R/R)\n",
    "    plt.loglog(tt,f2(tau)*Nfactor,'r-')    \n",
    "    "
   ]
  },
  {
   "cell_type": "code",
   "execution_count": 46,
   "metadata": {},
   "outputs": [
    {
     "data": {
      "image/png": "[encoded data removed]",
      "text/plain": [
       "<matplotlib.figure.Figure at 0x7f97f9251dd8>"
      ]
     },
     "metadata": {},
     "output_type": "display_data"
    }
   ],
   "source": [
    "t=np.logspace(-10,3,100)\n",
    "#plt.loglog(t,p(t),'-.')\n",
    "plt.loglog(t,Ht(t),'.')\n",
    "theorykaf(t)\n",
    "theorykaf2(t)"
   ]
  },
  {
   "cell_type": "code",
   "execution_count": null,
   "metadata": {},
   "outputs": [],
   "source": []
  }
 ],
 "metadata": {
  "kernelspec": {
   "display_name": "Python 3",
   "language": "python",
   "name": "python3"
  },
  "language_info": {
   "codemirror_mode": {
    "name": "ipython",
    "version": 3
   },
   "file_extension": ".py",
   "mimetype": "text/x-python",
   "name": "python",
   "nbconvert_exporter": "python",
   "pygments_lexer": "ipython3",
   "version": "3.5.2"
  }
 },
 "nbformat": 4,
 "nbformat_minor": 2
}
