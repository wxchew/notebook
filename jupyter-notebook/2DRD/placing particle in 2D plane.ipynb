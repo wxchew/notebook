{
 "cells": [
  {
   "cell_type": "code",
   "execution_count": null,
   "metadata": {
    "collapsed": false,
    "scrolled": false
   },
   "outputs": [],
   "source": [
    "from ecell4 import *\n",
    "import numpy as np\n",
    "import math\n",
    "import sys\n",
    "import os\n",
    "import scipy.spatial.distance \n",
    "import matplotlib.pyplot as plt\n",
    "%matplotlib inline\n",
    "rng = core.GSLRandomNumberGenerator()\n",
    "\n",
    "def singlerun(run):\n",
    "    rng.seed(run)\n",
    "    rm = 0.005\n",
    "    L = 15*rm*2\n",
    "    At = L*L\n",
    "    Ap = math.pi*rm*rm\n",
    "    No = int(phio*At/Ap)\n",
    "    #print 'L',L\n",
    "    #print 'phio',No*Ap/At,'No',No\n",
    "    w = egfrd.EGFRDWorld(Real3(L,L,L),matrix_sizes=Integer3(1,1,1),rng=rng)\n",
    "    x,y,z = w.actual_lengths()\n",
    "    with species_attributes():\n",
    "         O | {'D':str(Do),'radius':str(rm)}\n",
    "    m=get_model()\n",
    "    w.bind_to(m)\n",
    "    for i in range(No):\n",
    "         while(True):\n",
    "              (pid1,p1),suc = w.new_particle(Species(\"O\"),Real3(0,rng.uniform(0.0,L),rng.uniform(0.0,L)))\n",
    "              if (suc): break\n",
    "    #print 'real fraction',w.num_particles_exact(Species('O'))*Ap/y/z\n",
    "    ps = [p for pid, p in w.list_particles(Species(\"O\"))] #particle IDs\n",
    "    pos = [tuple(p.position()) for p in ps]\n",
    "    dist = scipy.spatial.distance.squareform(scipy.spatial.distance.pdist(pos,'euclidean'))\n",
    "    mindist = [min(i[i!=0])/2/rm for i in dist]\n",
    "    return np.median(mindist)\n",
    "\n",
    "phios = np.linspace(0.5,0.55,5)\n",
    "runs= 1\n",
    "nr = []\n",
    "for phio in phios:\n",
    "    mds = []\n",
    "    for run in range(runs):\n",
    "        mds.append(singlerun(run))\n",
    "    nr.append(np.mean(mds))\n",
    "\n",
    "\n",
    "#viz.plot_world(w)"
   ]
  },
  {
   "cell_type": "code",
   "execution_count": null,
   "metadata": {
    "collapsed": true
   },
   "outputs": [],
   "source": [
    "print phios\n",
    "print nr\n",
    "plt.semilogy(phios,nr,'.')\n",
    "plt.xlim(0.3,0.9)\n",
    "plt.ylim(1.0,1.2)\n",
    "plt.xlabel('obstacle area fraction')\n",
    "plt.ylabel('median nearest neighbor distance/2rm')\n"
   ]
  },
  {
   "cell_type": "code",
   "execution_count": 10,
   "metadata": {
    "collapsed": false
   },
   "outputs": [
    {
     "name": "stdout",
     "output_type": "stream",
     "text": [
      "[ 0.3         0.32222222  0.34444444  0.36666667  0.38888889  0.41111111\n",
      "  0.43333333  0.45555556  0.47777778  0.5       ]\n",
      "[1.1917159763886482, 1.1722468749897212, 1.1570462649581001, 1.1381540328452873, 1.1265140081370986, 1.1130906980894473, 1.0964790460744627, 1.0848330212271622, 1.0744484114291479, 1.0615436962156957]\n"
     ]
    },
    {
     "data": {
      "text/plain": [
       "<matplotlib.text.Text at 0x7fa567034350>"
      ]
     },
     "execution_count": 10,
     "metadata": {},
     "output_type": "execute_result"
    },
    {
     "data": {
      "image/png": "[encoded data removed]",
      "text/plain": [
       "<matplotlib.figure.Figure at 0x7fa5670204d0>"
      ]
     },
     "metadata": {},
     "output_type": "display_data"
    }
   ],
   "source": [
    "print phios\n",
    "print nr\n",
    "plt.semilogy(phios,nr,'.')\n",
    "plt.xlim(0.3,0.9)\n",
    "plt.ylim(1.0,1.2)\n",
    "plt.xlabel('obstacle area fraction')\n",
    "plt.ylabel('median nearest neighbor distance/2rm')\n"
   ]
  },
  {
   "cell_type": "code",
   "execution_count": null,
   "metadata": {
    "collapsed": true
   },
   "outputs": [],
   "source": []
  }
 ],
 "metadata": {
  "anaconda-cloud": {},
  "kernelspec": {
   "display_name": "Python 2",
   "language": "python",
   "name": "python2"
  },
  "language_info": {
   "codemirror_mode": {
    "name": "ipython",
    "version": 2
   },
   "file_extension": ".py",
   "mimetype": "text/x-python",
   "name": "python",
   "nbconvert_exporter": "python",
   "pygments_lexer": "ipython2",
   "version": "2.7.10"
  }
 },
 "nbformat": 4,
 "nbformat_minor": 1
}
