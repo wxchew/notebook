{
 "cells": [
  {
   "cell_type": "code",
   "execution_count": 70,
   "metadata": {
    "scrolled": true
   },
   "outputs": [],
   "source": [
    "from ecell4 import *\n",
    "%matplotlib inline\n",
    "import numpy as np\n",
    "import math\n",
    "import sys\n",
    "from math import sqrt\n",
    "import matplotlib.pyplot as plt\n",
    "from ecell4.extra import ensemble\n",
    "import numpy as np\n",
    "from math import pi\n",
    "def run(Da,Db,it,option):\n",
    "    L=6.5\n",
    "    N=100\n",
    "    kaf=100\n",
    "    run=0\n",
    "    correct='new'\n",
    "\n",
    "    shift=0\n",
    "    rm = 0.005\n",
    "    run+=shift\n",
    "    rng = GSLRandomNumberGenerator()\n",
    "    rng.seed(run)\n",
    "    D = 1\n",
    "    kd= 4.0*math.pi*D\n",
    "    ka = kaf*kd\n",
    "    f=1.0208582         \n",
    "    if correct=='new':\n",
    "        gamma=0.577216\n",
    "        factor = (2 * sqrt(2.0) + 4 * sqrt(3.0) + 3 * sqrt(6.0) + sqrt(22.0))**2/(72 * (6 * sqrt(2.0) + 4 * sqrt(3.0) + 3 * sqrt(6.0)))            \n",
    "        PP=1./(1+math.sqrt(3)*(math.log(f*f/12)+(4*math.pi*D/ka)-2*gamma)/2/math.pi)\n",
    "        ka = PP*D/factor            \n",
    "    \n",
    "    voxelr=rm*f\n",
    "    td = (2*voxelr)**2/4/D\n",
    "    tsimexp = td/PP\n",
    "    #print(tsimexp)\n",
    "    H = 3*voxelr*2\n",
    "    ori = Real3(0.5*H,0,0)\n",
    "    unit0 = Real3(0,0,L)\n",
    "    unit1 = Real3(0,L,0)\n",
    "    w = spatiocyte.SpatiocyteWorld(Real3(H,L,L),voxelr,rng)\n",
    "    size=tuple(w.calculate_shape(Real3(H,L,L),voxelr))\n",
    "    Nmv=size[1]*size[2]\n",
    "    \n",
    "    lx,ly,lz=w.actual_lengths()\n",
    "    Area = ly*lz\n",
    "    kat=2*sqrt(3)*D*PP\n",
    "    print(\"N\",N,\"Ns\",Nmv,'expected',N*N/Nmv,'Area',Area,'tsim',tsimexp,'kat',kat)\n",
    "    with species_attributes():\n",
    "        A |  {'D': str(Da), 'radius':str(voxelr),'location':'X'}\n",
    "        B |  {'D': str(Db), 'radius':str(voxelr),'location':'X'}           \n",
    "\n",
    "    with reaction_rules():#for spa and egfrd\n",
    "        A + B > B | ka\n",
    "\n",
    "    m2 = get_model()\n",
    "    w.bind_to(m2)\n",
    "    w.add_structure(Species('X'),PlanarSurface(ori,unit0,unit1))\n",
    "    sim = spatiocyte.SpatiocyteSimulator(w)\n",
    "    DN = []\n",
    "    cnt=0\n",
    "    for i in range(it):\n",
    "        cnt+=1 \n",
    "        w.add_molecules(Species('A'), N)\n",
    "        w.add_molecules(Species('B'), N)  \n",
    "        sim.initialize()\n",
    "        tsim = sim.dt()\n",
    "        sim.set_t(0)\n",
    "        if option=='manual':\n",
    "            sim.step()\n",
    "            res = w.num_particles_exact(Species('A'))\n",
    "        elif option=='auto':\n",
    "            obs = FixedIntervalNumberObserver(tsimexp,['A'])\n",
    "            sim.run(tsimexp,obs) \n",
    "            res=obs.data()[1]\n",
    "            #print(res)\n",
    "            res=res[1]\n",
    "        dn = N-res\n",
    "        DN.append(dn)        \n",
    "        res = w.num_particles_exact(Species('A'))\n",
    "        w.remove_molecules(Species('A'),res)\n",
    "        w.remove_molecules(Species('B'),N)\n",
    "        assert(w.num_particles_exact(Species('A'))==0)\n",
    "        assert(w.num_particles_exact(Species('B'))==0)\n",
    "    return DN\n"
   ]
  },
  {
   "cell_type": "code",
   "execution_count": 71,
   "metadata": {},
   "outputs": [
    {
     "name": "stdout",
     "output_type": "stream",
     "text": [
      "N 100 Ns 469568 expected 0.021296170096769797 Area 42.379903933586725 tsim 2.8403327892642647e-07 kat 317.7548934638077\n",
      "Da=1 0.020875\n",
      "311.4707184867527\n"
     ]
    },
    {
     "data": {
      "image/png": "[encoded data removed]",
      "text/plain": [
       "<Figure size 432x288 with 1 Axes>"
      ]
     },
     "metadata": {},
     "output_type": "display_data"
    }
   ],
   "source": [
    "it=40000\n",
    "opt = 'manual'\n",
    "dn=run(0,1,int(it),opt)\n",
    "print('Da=1',np.mean(dn))\n",
    "#x,y=np.histogram(dn,bins=10,range=(0,2))\n",
    "#plt.plot(0.5*(y[1:]+y[0:-1]),x,'o',label='Da=1')\n",
    "\n",
    "tsim = 2.8403327892642647e-07\n",
    "area = 42.379903933586725\n",
    "kap = np.array(dn)*area/100/100/tsim\n",
    "plt.hist(kap)#,range(0,400))\n",
    "print(np.mean(kap))"
   ]
  },
  {
   "cell_type": "code",
   "execution_count": null,
   "metadata": {
    "scrolled": true
   },
   "outputs": [],
   "source": []
  },
  {
   "cell_type": "code",
   "execution_count": 35,
   "metadata": {},
   "outputs": [
    {
     "name": "stdout",
     "output_type": "stream",
     "text": [
      "N 100 Ns 11400 expected 0.8771929824561403\n",
      "Da=1 0.945\n",
      "N 100 Ns 11400 expected 0.8771929824561403\n",
      "Db=1 0.872\n"
     ]
    },
    {
     "data": {
      "text/plain": [
       "<matplotlib.legend.Legend at 0x7fb5937eec18>"
      ]
     },
     "execution_count": 35,
     "metadata": {},
     "output_type": "execute_result"
    },
    {
     "data": {
      "image/png": "[encoded data removed]",
      "text/plain": [
       "<Figure size 432x288 with 1 Axes>"
      ]
     },
     "metadata": {},
     "output_type": "display_data"
    }
   ],
   "source": [
    "it=1e3\n",
    "dn =run(1,0,int(it))\n",
    "print('Da=1',np.mean(dn))\n",
    "x,y=np.histogram(dn,bins=10,range=(0,2))\n",
    "plt.plot(0.5*(y[1:]+y[0:-1]),x,'-',label='Da=1')\n",
    "\n",
    "dn =run(0,1,int(it))\n",
    "print('Db=1',np.mean(dn))\n",
    "x,y=np.histogram(dn,bins=10,range=(0,2))\n",
    "plt.plot(0.5*(y[1:]+y[0:-1]),x,'o',label='Db=1')\n",
    "plt.legend()"
   ]
  },
  {
   "cell_type": "code",
   "execution_count": 37,
   "metadata": {
    "scrolled": false
   },
   "outputs": [
    {
     "name": "stdout",
     "output_type": "stream",
     "text": [
      "N 100 Ns 11400 expected 0.8771929824561403\n",
      "Da=1 0.8827\n",
      "N 100 Ns 11400 expected 0.8771929824561403\n",
      "Db=1 0.87513\n"
     ]
    },
    {
     "data": {
      "text/plain": [
       "<matplotlib.legend.Legend at 0x7fb5936ca128>"
      ]
     },
     "execution_count": 37,
     "metadata": {},
     "output_type": "execute_result"
    },
    {
     "data": {
      "image/png": "[encoded data removed]",
      "text/plain": [
       "<Figure size 432x288 with 1 Axes>"
      ]
     },
     "metadata": {},
     "output_type": "display_data"
    }
   ],
   "source": [
    "it=1e5\n",
    "dn =run(1,0,int(it))\n",
    "print('Da=1',np.mean(dn))\n",
    "x,y=np.histogram(dn,bins=10,range=(0,6))\n",
    "plt.plot(0.5*(y[1:]+y[0:-1]),x,'-',label='Da=1')\n",
    "\n",
    "dn =run(0,1,int(it))\n",
    "print('Db=1',np.mean(dn))\n",
    "x,y=np.histogram(dn,bins=10,range=(0,6))\n",
    "plt.plot(0.5*(y[1:]+y[0:-1]),x,'o',label='Db=1')\n",
    "plt.legend()"
   ]
  },
  {
   "cell_type": "code",
   "execution_count": 7,
   "metadata": {},
   "outputs": [
    {
     "name": "stdout",
     "output_type": "stream",
     "text": [
      "N 100 Ns 11400 expected 0.8771929824561403\n",
      "0.872\n"
     ]
    },
    {
     "data": {
      "text/plain": [
       "(array([403.,   0., 381.,   0., 166.,   0.,  42.,   0.,   7.,   1.]),\n",
       " array([0. , 0.5, 1. , 1.5, 2. , 2.5, 3. , 3.5, 4. , 4.5, 5. ]),\n",
       " <a list of 10 Patch objects>)"
      ]
     },
     "execution_count": 7,
     "metadata": {},
     "output_type": "execute_result"
    },
    {
     "data": {
      "image/png": "[encoded data removed]",
      "text/plain": [
       "<Figure size 432x288 with 1 Axes>"
      ]
     },
     "metadata": {},
     "output_type": "display_data"
    }
   ],
   "source": [
    "dn =run(0,1,int(1e3))\n",
    "print(np.mean(dn))\n",
    "plt.hist(dn,bins=10)"
   ]
  },
  {
   "cell_type": "code",
   "execution_count": 8,
   "metadata": {},
   "outputs": [],
   "source": [
    "a,b=sim.last_reactions()[0]"
   ]
  },
  {
   "cell_type": "code",
   "execution_count": 10,
   "metadata": {},
   "outputs": [
    {
     "data": {
      "text/plain": [
       "'A+B>B|316.453'"
      ]
     },
     "execution_count": 10,
     "metadata": {},
     "output_type": "execute_result"
    }
   ],
   "source": [
    "a.as_string()"
   ]
  },
  {
   "cell_type": "code",
   "execution_count": 28,
   "metadata": {},
   "outputs": [
    {
     "data": {
      "text/plain": [
       "8.520998367792794e-07"
      ]
     },
     "execution_count": 28,
     "metadata": {},
     "output_type": "execute_result"
    }
   ],
   "source": [
    "b.t()"
   ]
  },
  {
   "cell_type": "code",
   "execution_count": 16,
   "metadata": {},
   "outputs": [
    {
     "data": {
      "text/plain": [
       "3"
      ]
     },
     "execution_count": 16,
     "metadata": {},
     "output_type": "execute_result"
    }
   ],
   "source": [
    "sim.num_steps()"
   ]
  },
  {
   "cell_type": "code",
   "execution_count": 20,
   "metadata": {},
   "outputs": [
    {
     "data": {
      "text/plain": [
       "98"
      ]
     },
     "execution_count": 20,
     "metadata": {},
     "output_type": "execute_result"
    }
   ],
   "source": [
    "w.num_particles_exact(Species('A'))"
   ]
  },
  {
   "cell_type": "code",
   "execution_count": null,
   "metadata": {},
   "outputs": [],
   "source": []
  }
 ],
 "metadata": {
  "kernelspec": {
   "display_name": "Python 3",
   "language": "python",
   "name": "python3"
  },
  "language_info": {
   "codemirror_mode": {
    "name": "ipython",
    "version": 3
   },
   "file_extension": ".py",
   "mimetype": "text/x-python",
   "name": "python",
   "nbconvert_exporter": "python",
   "pygments_lexer": "ipython3",
   "version": "3.6.5"
  }
 },
 "nbformat": 4,
 "nbformat_minor": 2
}
