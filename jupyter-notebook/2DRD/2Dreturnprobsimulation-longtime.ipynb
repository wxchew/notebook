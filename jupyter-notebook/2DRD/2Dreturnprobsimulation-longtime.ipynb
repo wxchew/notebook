{
 "cells": [
  {
   "cell_type": "code",
   "execution_count": 10,
   "metadata": {},
   "outputs": [],
   "source": [
    "import sys\n",
    "import math\n",
    "import numpy as np\n",
    "from numpy import pi, sqrt, inf, log\n",
    "from ecell4 import *\n",
    "import matplotlib.pyplot as plt\n",
    "\n",
    "L = 0.5\n",
    "voxel_radius = 0.005\n",
    "H = 3*voxel_radius*2\n",
    "D = 1\n",
    "rng = GSLRandomNumberGenerator()\n",
    "rng.seed(1)\n",
    "Pacc = 2#(1./r0-1)*ka_factor#ka / (6 * sqrt(2) * D * voxel_radius)\n",
    "dt = ( voxel_radius * voxel_radius) / ( D)\n",
    "\n",
    "maxstep= 1000#10000\n",
    "ntrials = int(1e7)\n",
    "p=1\n",
    "\n",
    "w = spatiocyte.SpatiocyteWorld(Real3(H,L,L),voxel_radius,rng)\n",
    "\n",
    "coord1 = w.position2coordinate(Real3(0.5*H,0.5*L,0.5*L))\n",
    "coord2 = w.get_neighbor(coord1, 0)\n",
    "pos=w.coordinate2position(coord1)\n",
    "dirn = [0,1,8,9,10,11]\n",
    "\n",
    "def singlerunA(dt, Pacc,alpha):\n",
    "    assert Pacc*alpha  <= 1\n",
    "    assert alpha<=1\n",
    "\n",
    "    coord1 = w.position2coordinate(Real3(0.5*H,0.5*L,0.5*L))\n",
    "    coord2 = w.get_neighbor(coord1, 0)\n",
    "\n",
    "    dt = dt*alpha\n",
    "    t, nsteps = 0.0, 0\n",
    "    while all(0 <= dim < L for dim in w.coordinate2position(coord2)) and nsteps < maxstep:\n",
    "        rnd = w.rng().uniform_int(0, 5)\n",
    "        newcoord = w.get_neighbor(coord2, dirn[rnd])\n",
    "        if newcoord == coord1:\n",
    "            if Pacc * alpha >= w.rng().uniform(0, 1):\n",
    "                return nsteps+1\n",
    "        elif alpha >= w.rng().uniform(0, 1):\n",
    "            coord2 = newcoord\n",
    "        t += dt\n",
    "        nsteps += 1\n",
    "    return False\n",
    "\n",
    "def singlerunB(dt, Pacc):\n",
    "    assert Pacc<= 1\n",
    "    coord1 = w.position2coordinate(Real3(0.5*H,0.5*L,0.5*L))\n",
    "    coord2 = w.get_neighbor(coord1, 0)\n",
    "\n",
    "    dt = dt\n",
    "    t, nsteps = 0.0, 0\n",
    "    while all(0 <= dim < L for dim in w.coordinate2position(coord2)) and nsteps < maxstep:\n",
    "        rnd = w.rng().uniform_int(0, 5)\n",
    "        newcoord = w.get_neighbor(coord2, dirn[rnd])\n",
    "        if newcoord == coord1:\n",
    "            if Pacc >= w.rng().uniform(0, 1):\n",
    "                return nsteps+1\n",
    "        else:\n",
    "            coord2 = newcoord\n",
    "        t += dt\n",
    "        nsteps += 1\n",
    "    return False\n",
    "        \n",
    "if Pacc<=1:\n",
    "    res = [singlerunB(dt, Pacc) for _ in range(ntrials)]\n",
    "else:    \n",
    "    res = [singlerunA(dt, Pacc,p/Pacc) for _ in range(ntrials)]\n"
   ]
  },
  {
   "cell_type": "code",
   "execution_count": 11,
   "metadata": {},
   "outputs": [
    {
     "name": "stdout",
     "output_type": "stream",
     "text": [
      "alpha 0.5\n",
      "step 1000 trials 10000000 Preb 0.7651414 0.23485860000000003\n"
     ]
    }
   ],
   "source": [
    "print('alpha',p/Pacc)\n",
    "count = np.array([i for i in res if i !=False])\n",
    "print('step',maxstep,'trials',ntrials,'Preb',len(count)/ntrials,1-len(count)/ntrials)"
   ]
  },
  {
   "cell_type": "code",
   "execution_count": 12,
   "metadata": {
    "scrolled": true
   },
   "outputs": [],
   "source": [
    "log =[]\n",
    "for stp in range(maxstep):\n",
    "    stp+=1\n",
    "    count = np.array([i for i in res if i ==stp])\n",
    "    log.append((len(count)/ntrials))\n"
   ]
  },
  {
   "cell_type": "code",
   "execution_count": 19,
   "metadata": {},
   "outputs": [
    {
     "data": {
      "image/png": "[encoded data removed]",
      "text/plain": [
       "<Figure size 432x288 with 1 Axes>"
      ]
     },
     "metadata": {},
     "output_type": "display_data"
    }
   ],
   "source": [
    "plt.loglog(log,'.')\n",
    "name = '/home/chew/outputdata/2Dreturnprob_Pa2_n1000_1e7trial'\n",
    "filename=open(name,'w')\n",
    "np.savetxt(name,log,delimiter=',',fmt='%s')\n",
    "filename.close()            "
   ]
  },
  {
   "cell_type": "code",
   "execution_count": 27,
   "metadata": {},
   "outputs": [],
   "source": [
    "from scipy.integrate import cumtrapz\n",
    "import mpmath as mp\n",
    "from scipy import special\n",
    "mydehoog = mp.calculus.inverselaplace.deHoog(mp)\n",
    "from mpmath import ellipk\n",
    "dps=8\n",
    "R=voxel_radius*2\n",
    "D=1\n",
    "g=0.577216;\n",
    "Pa=2\n",
    "td = R*R/4/D\n",
    "dt = td/Pa\n",
    "tmax = td*1000\n",
    "tt = np.arange(dt,tmax+dt,dt)\n",
    "\n",
    "def gs(s,D,Pa,td):\n",
    "    b1 = Pa/6/td;\n",
    "    b2 = 1/td;\n",
    "    p101 = 1/6; \n",
    "    zz = b2/(b2+s);\n",
    "    a = 3/zz+1-(3+6/zz)**0.5;\n",
    "    b = 3/zz+1+(3+6/zz)**0.5;\n",
    "    c = (a+1)*(b-1);\n",
    "    kk = 2*(b-a)/c\n",
    "    EF = ellipk(kk);\n",
    "    Pz = 6*EF/pi/zz/(c)**0.5;\n",
    "    f11 = 1-zz*zz*p101/(Pz-1);\n",
    "    g = b1/(s+b1+b2-s*zz/3-b2*f11);\n",
    "    return g/s\n",
    "\n",
    "def invltL(t,D,Pa,td): #inverse laplace transform of lattice k(s)\n",
    "    mp.dps = dps#15;\n",
    "    t = mp.convert(t)\n",
    "    mydehoog.calc_laplace_parameter(t)\n",
    "    fpvec = [gs(p,D,Pa,td) for p in mydehoog.p]\n",
    "    ft =(float(mydehoog.calc_time_domain_solution(fpvec,t,manual_prec=True)))\n",
    "    return ft\n",
    "\n",
    "gt = np.array([invltL(t,D,Pa,td) for t in tt])\n"
   ]
  },
  {
   "cell_type": "code",
   "execution_count": 28,
   "metadata": {},
   "outputs": [
    {
     "data": {
      "text/plain": [
       "[<matplotlib.lines.Line2D at 0x7f05b5e38748>]"
      ]
     },
     "execution_count": 28,
     "metadata": {},
     "output_type": "execute_result"
    },
    {
     "data": {
      "image/png": "[encoded data removed]",
      "text/plain": [
       "<Figure size 432x288 with 1 Axes>"
      ]
     },
     "metadata": {},
     "output_type": "display_data"
    }
   ],
   "source": [
    "plt.semilogx(tt,gt)"
   ]
  },
  {
   "cell_type": "code",
   "execution_count": 53,
   "metadata": {},
   "outputs": [
    {
     "name": "stdout",
     "output_type": "stream",
     "text": [
      "td 1.25e-05\n"
     ]
    },
    {
     "data": {
      "image/png": "[encoded data removed]",
      "text/plain": [
       "<Figure size 432x288 with 1 Axes>"
      ]
     },
     "metadata": {},
     "output_type": "display_data"
    }
   ],
   "source": [
    "step=np.arange(1,len(log)+1,1)\n",
    "simt = step*dt\n",
    "plt.semilogx(simt,np.cumsum(log),'.',label='numerical')\n",
    "#plt.semilogx(simt,cumtrapz(log,initial=0),'-')\n",
    "plt.loglog(tt,gt,'-',label='lattice theory (inv LT)')\n",
    "plt.xlabel('sim time')\n",
    "plt.ylabel('int_0^t g(t) dt')\n",
    "plt.title('Dlim lattice theory g(s) validation wf sim.')\n",
    "plt.legend()\n",
    "print('td',td)"
   ]
  },
  {
   "cell_type": "code",
   "execution_count": 20,
   "metadata": {},
   "outputs": [],
   "source": [
    "from math import pi,sqrt\n",
    "import matplotlib.pyplot as plt\n",
    "from numpy import log,exp\n",
    "import numpy as np\n",
    "P=0.5\n",
    "A=2*pi/sqrt(3)\n",
    "def H(z):\n",
    "    C=12*exp(A*(1./P-1))\n",
    "    return A/P/(log(C/(1-z)))\n",
    "\n",
    "def g(z):\n",
    "    B=log(12/(1-z))/A-1\n",
    "    return 1-1./(1+1./P/B)"
   ]
  },
  {
   "cell_type": "code",
   "execution_count": 32,
   "metadata": {},
   "outputs": [
    {
     "data": {
      "text/plain": [
       "[<matplotlib.lines.Line2D at 0x7f37407fb1d0>]"
      ]
     },
     "execution_count": 32,
     "metadata": {},
     "output_type": "execute_result"
    },
    {
     "data": {
      "image/png": "[encoded data removed]",
      "text/plain": [
       "<Figure size 432x288 with 1 Axes>"
      ]
     },
     "metadata": {},
     "output_type": "display_data"
    }
   ],
   "source": [
    "Z=np.logspace(-4,-0.9,30)\n",
    "plt.plot(Z,H(Z),'r-')\n",
    "plt.semilogx(Z,g(Z),'g.')"
   ]
  },
  {
   "cell_type": "code",
   "execution_count": 34,
   "metadata": {},
   "outputs": [
    {
     "data": {
      "text/plain": [
       "[<matplotlib.lines.Line2D at 0x7f3740c602b0>]"
      ]
     },
     "execution_count": 34,
     "metadata": {},
     "output_type": "execute_result"
    },
    {
     "data": {
      "image/png": "[encoded data removed]",
      "text/plain": [
       "<Figure size 432x288 with 1 Axes>"
      ]
     },
     "metadata": {},
     "output_type": "display_data"
    }
   ],
   "source": [
    "Z=np.logspace(-4,1,30)\n",
    "C=12*exp(A*(1./P-1))\n",
    "D=1\n",
    "l=0.01\n",
    "plt.semilogx(Z,1./log(C*(1+4*D/l/l/Z)),'r')\n",
    "plt.loglog(Z,1./log(4*D*C/l/l/Z),'--')"
   ]
  },
  {
   "cell_type": "code",
   "execution_count": null,
   "metadata": {},
   "outputs": [],
   "source": []
  }
 ],
 "metadata": {
  "kernelspec": {
   "display_name": "Python 3",
   "language": "python",
   "name": "python3"
  },
  "language_info": {
   "codemirror_mode": {
    "name": "ipython",
    "version": 3
   },
   "file_extension": ".py",
   "mimetype": "text/x-python",
   "name": "python",
   "nbconvert_exporter": "python",
   "pygments_lexer": "ipython3",
   "version": "3.6.5"
  }
 },
 "nbformat": 4,
 "nbformat_minor": 2
}
