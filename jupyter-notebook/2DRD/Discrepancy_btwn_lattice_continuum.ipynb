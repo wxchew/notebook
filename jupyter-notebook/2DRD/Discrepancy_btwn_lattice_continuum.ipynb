{
 "cells": [
  {
   "cell_type": "code",
   "execution_count": 2,
   "metadata": {},
   "outputs": [],
   "source": [
    "import numpy as np\n",
    "from math import sqrt as sqrt\n",
    "from math import pi as pi\n",
    "from math import exp as exp\n",
    "from numpy import log as log\n",
    "import matplotlib.pyplot as plt\n",
    "%matplotlib inline"
   ]
  },
  {
   "cell_type": "code",
   "execution_count": 5,
   "metadata": {},
   "outputs": [
    {
     "name": "stdout",
     "output_type": "stream",
     "text": [
      "td 2.5e-05\n",
      "l=R P=ka/2/sqrt(3)/D\n",
      "0.1\n",
      "0.06535263956372908\n",
      "1\n",
      "0.12642409816564704\n",
      "10\n",
      "0.13833813775361598\n"
     ]
    }
   ],
   "source": [
    "D=1\n",
    "R=0.005\n",
    "gamma=0.57721\n",
    "td=(2*R)**2/4/D\n",
    "print('td',td)\n",
    "\n",
    "def kck(ka,t,C):\n",
    "    ln=log(C*t)\n",
    "    return 4*pi*D*(1/ln-gamma/ln**2-1.311/ln**3)\n",
    "\n",
    "def er(a,b):\n",
    "    return (a-b)*100/a\n",
    "\n",
    "#kfac=ka/4piD\n",
    "print('l=R','P=ka/2/sqrt(3)/D')\n",
    "for kfac in [0.1,1,10]:\n",
    "    l=R\n",
    "    ka=kfac*4*pi*D\n",
    "    P=ka/2/sqrt(3)/D\n",
    "    A=2*pi/sqrt(3)\n",
    "    Cl=48*D*exp(A*(1./P-1))/l/l\n",
    "\n",
    "    kk=exp(4*pi*D/ka-2*gamma)\n",
    "    C=4*D*kk/R/R\n",
    "    tt=1000*td\n",
    "    print(kfac)\n",
    "    print(er(kck(ka,tt,C),kck(ka,tt,Cl)))\n",
    "    #print(kck(ka,tt,C),kck(ka,tt,Cl),er(kck(ka,tt,C),kck(ka,tt,Cl)))\n",
    "    #plt.semilogx(tt,kck(ka,tt,C),'-')\n",
    "    #plt.semilogx(tt,kck(ka,tt,Cl),'--')"
   ]
  },
  {
   "cell_type": "code",
   "execution_count": 20,
   "metadata": {},
   "outputs": [
    {
     "name": "stdout",
     "output_type": "stream",
     "text": [
      "l=Rf P=ka/2/sqrt(3)/D\n",
      "2.75664447710896\n",
      "0.1\n",
      "-0.16555176704048574\n",
      "0.27566444771089604\n",
      "1\n",
      "-0.3208885687566497\n",
      "0.0275664447710896\n",
      "10\n",
      "-0.3512359748959075\n"
     ]
    }
   ],
   "source": [
    "print('l=Rf','P=ka/2/sqrt(3)/D')\n",
    "for kfac in [0.1,1,10]:\n",
    "    f=1.0209\n",
    "    l=R*f\n",
    "    ka=kfac*4*pi*D\n",
    "    P=ka/2/sqrt(3)/D\n",
    "    A=2*pi/sqrt(3)\n",
    "    Cl=48*D*exp(A*(1./P-1))/l/l\n",
    "    print(2*sqrt(3)*D/ka)\n",
    "    kk=exp(4*pi*D/ka-2*gamma)\n",
    "    C=4*D*kk/R/R\n",
    "    tt=1000*td\n",
    "    print(kfac)\n",
    "    print(er(kck(ka,tt,C),kck(ka,tt,Cl)))\n",
    "    #print(kck(ka,tt,C),kck(ka,tt,Cl),er(kck(ka,tt,C),kck(ka,tt,Cl)))"
   ]
  },
  {
   "cell_type": "code",
   "execution_count": 24,
   "metadata": {},
   "outputs": [
    {
     "name": "stdout",
     "output_type": "stream",
     "text": [
      "0.1\n",
      "-0.3952633139319641\n",
      "1\n",
      "-0.36539378281283874\n",
      "10\n",
      "-0.3561066227677116\n"
     ]
    }
   ],
   "source": [
    "for kfac in [0.1,1,10]:\n",
    "    l=R*f\n",
    "    ka=kfac*4*pi*D\n",
    "    P=ka*(2*sqrt(2)+4*sqrt(3)+3*sqrt(6)+sqrt(22))**2/(72*(6*sqrt(2)+4*sqrt(3)+3*sqrt(6)))/D\n",
    "    A=2*pi/sqrt(3)\n",
    "    Cl=48*D*exp(A*(1./P-1))/l/l\n",
    "\n",
    "    kk=exp(4*pi*D/ka-2*gamma)\n",
    "    C=4*D*kk/R/R\n",
    "    tt=1000*td\n",
    "    print(kfac)\n",
    "    print(er(kck(ka,tt,C),kck(ka,tt,Cl)))\n",
    "    #print(kck(ka,tt,C),kck(ka,tt,Cl),er(kck(ka,tt,C),kck(ka,tt,Cl)))"
   ]
  },
  {
   "cell_type": "code",
   "execution_count": 22,
   "metadata": {},
   "outputs": [
    {
     "name": "stdout",
     "output_type": "stream",
     "text": [
      "l=Rf new P\n",
      "kfac 0.1\n",
      "0.7124918328474696 0.7124918328474696 0.0\n",
      "kfac 1\n",
      "1.2639564613541847 1.2639564613541847 0.0\n",
      "kfac 10\n",
      "1.3681853952702216 1.3681853952702216 0.0\n"
     ]
    },
    {
     "data": {
      "text/plain": [
       "<matplotlib.legend.Legend at 0x7f0018013d68>"
      ]
     },
     "execution_count": 22,
     "metadata": {},
     "output_type": "execute_result"
    },
    {
     "data": {
      "image/png": "[encoded data removed]",
      "text/plain": [
       "<matplotlib.figure.Figure at 0x7f001a03f7b8>"
      ]
     },
     "metadata": {},
     "output_type": "display_data"
    }
   ],
   "source": [
    "print('l=Rf','new P')\n",
    "for kfac in [0.1,1,10]:\n",
    "    f=1.0209\n",
    "    l=R*f\n",
    "    ka=kfac*4*pi*D\n",
    "    P=1./(sqrt(3)*log(f*f/12)/2/pi+sqrt(3)*D/ka/gamma+1)\n",
    "    A=2*pi/sqrt(3)\n",
    "    Cl=48*D*exp(A*(1./P-1))/l/l\n",
    "\n",
    "    kk=exp(2*pi*D/ka/gamma)\n",
    "    C=4*D*kk/R/R\n",
    "\n",
    "    tt=1000*td\n",
    "    print('kfac',kfac)\n",
    "    print(kck(ka,tt,C),kck(ka,tt,Cl),er(kck(ka,tt,C),kck(ka,tt,Cl)))\n",
    "    tt=np.linspace(td,1000*td,100)\n",
    "    plt.semilogx(tt,kck(ka,tt,C)/(4*pi*D),'-',label='continuum at kfac='+str(kfac))\n",
    "    plt.semilogx(tt,kck(ka,tt,Cl)/(4*pi*D),'.')\n",
    "plt.legend()"
   ]
  },
  {
   "cell_type": "code",
   "execution_count": 7,
   "metadata": {},
   "outputs": [
    {
     "name": "stdout",
     "output_type": "stream",
     "text": [
      "td 2.5e-05\n",
      "0.1\n",
      "-44.76283168146519\n",
      "1\n",
      "18.364189930031966\n",
      "10\n",
      "25.33947324572454\n"
     ]
    }
   ],
   "source": [
    "#square lattice\n",
    "D=1\n",
    "R=0.005\n",
    "gamma=0.57721\n",
    "td=(2*R)**2/4/D\n",
    "print('td',td)\n",
    "\n",
    "def kck(ka,t,C):\n",
    "    ln=log(C*t)\n",
    "    return 4*pi*D*(1/ln-gamma/ln**2-1.311/ln**3)\n",
    "\n",
    "def er(a,b):\n",
    "    return (a-b)*100/a\n",
    "\n",
    "#kfac=ka/4piD\n",
    "for kfac in [0.1,1,10]:\n",
    "    l=R\n",
    "    ka=kfac*4*pi*D\n",
    "    P=ka/6/D\n",
    "    f=1    \n",
    "    A=1/pi\n",
    "    B=8.\n",
    "    #P=1./(1+(log(1/B)+(4*pi*D/ka)-2*gamma)/A)\n",
    "    Cl=8*4*D*exp(A*(1./P-1))/l/l\n",
    "\n",
    "    kk=exp(4*pi*D/ka-2*gamma)\n",
    "    C=4*D*kk/R/R\n",
    "    tt=1000*td\n",
    "    print(kfac)\n",
    "    print(er(kck(ka,tt,C),kck(ka,tt,Cl)))\n",
    "    #print(kck(ka,tt,C),kck(ka,tt,Cl),er(kck(ka,tt,C),kck(ka,tt,Cl)))\n",
    "    #plt.semilogx(tt,kck(ka,tt,C),'-')\n",
    "    #plt.semilogx(tt,kck(ka,tt,Cl),'--')"
   ]
  },
  {
   "cell_type": "code",
   "execution_count": null,
   "metadata": {},
   "outputs": [],
   "source": []
  }
 ],
 "metadata": {
  "kernelspec": {
   "display_name": "Python 3",
   "language": "python",
   "name": "python3"
  },
  "language_info": {
   "codemirror_mode": {
    "name": "ipython",
    "version": 3
   },
   "file_extension": ".py",
   "mimetype": "text/x-python",
   "name": "python",
   "nbconvert_exporter": "python",
   "pygments_lexer": "ipython3",
   "version": "3.5.2"
  }
 },
 "nbformat": 4,
 "nbformat_minor": 2
}
