{
 "cells": [
  {
   "cell_type": "code",
   "execution_count": 10,
   "metadata": {
    "collapsed": false,
    "scrolled": false
   },
   "outputs": [
    {
     "name": "stdout",
     "output_type": "stream",
     "text": [
      "run 1 prerun 1\n",
      "phit 0.55\n",
      "rglrpos 168\n",
      "L=0.11949881425,rm=0.005,Dt=1,tmol=5.00E-05,duration=5e-09,simdt=5e-06\n",
      "NT 100\n",
      "fail [0.0, 0.03]\n",
      "fail [0.0, 0.06]\n",
      "fail [0.0, 0.08]\n",
      "fail [0.0, 0.11]\n",
      "fail [0.008660254037844387, 0.015]\n",
      "fail [0.008660254037844387, 0.035]\n",
      "fail [0.008660254037844387, 0.045]\n",
      "fail [0.008660254037844387, 0.055]\n",
      "fail [0.008660254037844387, 0.075]\n",
      "fail [0.008660254037844387, 0.085]\n",
      "fail [0.008660254037844387, 0.105]\n",
      "fail [0.008660254037844387, 0.115]\n",
      "fail [0.017320508075688773, 0.03]\n",
      "fail [0.017320508075688773, 0.06]\n",
      "fail [0.017320508075688773, 0.08]\n",
      "fail [0.017320508075688773, 0.11]\n",
      "fail [0.02598076211353316, 0.015]\n",
      "fail [0.02598076211353316, 0.035]\n",
      "fail [0.02598076211353316, 0.045]\n",
      "fail [0.02598076211353316, 0.055]\n",
      "fail [0.02598076211353316, 0.075]\n",
      "fail [0.02598076211353316, 0.085]\n",
      "fail [0.02598076211353316, 0.105]\n",
      "fail [0.02598076211353316, 0.115]\n",
      "fail [0.034641016151377546, 0.03]\n",
      "fail [0.034641016151377546, 0.06]\n",
      "fail [0.034641016151377546, 0.08]\n",
      "fail [0.034641016151377546, 0.11]\n",
      "fail [0.04330127018922193, 0.015]\n",
      "fail [0.04330127018922193, 0.035]\n",
      "fail [0.04330127018922193, 0.045]\n",
      "fail [0.04330127018922193, 0.055]\n",
      "fail [0.04330127018922193, 0.075]\n",
      "fail [0.04330127018922193, 0.085]\n",
      "fail [0.04330127018922193, 0.105]\n",
      "fail [0.04330127018922193, 0.115]\n",
      "fail [0.05196152422706632, 0.03]\n",
      "fail [0.05196152422706632, 0.06]\n",
      "fail [0.05196152422706632, 0.08]\n",
      "fail [0.05196152422706632, 0.11]\n",
      "fail [0.060621778264910706, 0.015]\n",
      "fail [0.060621778264910706, 0.035]\n",
      "fail [0.060621778264910706, 0.045]\n",
      "fail [0.060621778264910706, 0.055]\n",
      "fail [0.060621778264910706, 0.075]\n",
      "fail [0.060621778264910706, 0.085]\n",
      "fail [0.060621778264910706, 0.105]\n",
      "fail [0.060621778264910706, 0.115]\n",
      "fail [0.06928203230275509, 0.03]\n",
      "Nt 51\n"
     ]
    },
    {
     "data": {
      "text/html": [
       "<html>\n",
       "  <head>\n",
       "    <script type=\"text/javascript\">\n",
       "     (function(){\n",
       "       if(window[\"THREE\"] === undefined || window[\"d3\"] === undefined){\n",
       "\t require.config({\n",
       "\t   paths:{\n",
       "\t     d3: [\n",
       "\t       'https://d3js.org/d3.v3.min',\n",
       "\t       'custom/d3.min'\n",
       "\t     ],\n",
       "\t     THREE: [\n",
       "\t       'https://cdnjs.cloudflare.com/ajax/libs/three.js/r66/three.min',\n",
       "\t       'custom/three.min'\n",
       "\t     ],\n",
       "         Elegans: [\n",
       "           'https://cdn.rawgit.com/domitry/elegans/15e85b0dafdb6f09181c1ee2f0c47218f6fd698d/release/elegans.min',\n",
       "\t       'custom/elegans'\n",
       "\t     ]\n",
       "\t   },\n",
       "\t   shim:{\n",
       "\t     THREE: {\n",
       "\t       exports: 'THREE'\n",
       "\t     },\n",
       "\t     Elegans: {\n",
       "\t       deps: ['THREE'],\n",
       "\t       exports: 'Elegans'\n",
       "\t     }\n",
       "\t   }\n",
       "\t });\n",
       "\n",
       "\t require([\"d3\", \"THREE\"], function(d3){\n",
       "\t   window[\"d3\"] = d3;\n",
       "\n",
       "\t   d3.select(document)\n",
       "\t     .on(\"contextmenu\", function(){\n",
       "\t     d3.selectAll(\"canvas\").style(\"z-index\", 10);\n",
       "\t     d3.selectAll(\".download_menu\").style(\"z-index\", 100);\n",
       "\t   });\n",
       "\t });\n",
       "       }\n",
       "\n",
       "       require([\"Elegans\"], function(){\n",
       "\t console.log(\"Begin rendering...\");\n",
       "\t var model = {\"plots\": [{\"data\": {\"y\": [0.0, 0.0, 0.0, 0.0, 0.0, 0.0, 0.0, 0.0, 0.008660254037844387, 0.008660254037844387, 0.008660254037844387, 0.008660254037844387, 0.017320508075688773, 0.017320508075688773, 0.017320508075688773, 0.017320508075688773, 0.017320508075688773, 0.017320508075688773, 0.017320508075688773, 0.017320508075688773, 0.02598076211353316, 0.02598076211353316, 0.02598076211353316, 0.02598076211353316, 0.034641016151377546, 0.034641016151377546, 0.034641016151377546, 0.034641016151377546, 0.034641016151377546, 0.034641016151377546, 0.034641016151377546, 0.034641016151377546, 0.04330127018922193, 0.04330127018922193, 0.04330127018922193, 0.04330127018922193, 0.05196152422706632, 0.05196152422706632, 0.05196152422706632, 0.05196152422706632, 0.05196152422706632, 0.05196152422706632, 0.05196152422706632, 0.05196152422706632, 0.060621778264910706, 0.060621778264910706, 0.060621778264910706, 0.060621778264910706, 0.06928203230275509, 0.06928203230275509, 0.06928203230275509], \"x\": [0.0, 0.0, 0.0, 0.0, 0.0, 0.0, 0.0, 0.0, 0.0, 0.0, 0.0, 0.0, 0.0, 0.0, 0.0, 0.0, 0.0, 0.0, 0.0, 0.0, 0.0, 0.0, 0.0, 0.0, 0.0, 0.0, 0.0, 0.0, 0.0, 0.0, 0.0, 0.0, 0.0, 0.0, 0.0, 0.0, 0.0, 0.0, 0.0, 0.0, 0.0, 0.0, 0.0, 0.0, 0.0, 0.0, 0.0, 0.0, 0.0, 0.0, 0.0], \"z\": [0.0, 0.01, 0.02, 0.04, 0.05, 0.07, 0.09, 0.1, 0.005, 0.025, 0.065, 0.095, 0.0, 0.01, 0.02, 0.04, 0.05, 0.07, 0.09, 0.1, 0.005, 0.025, 0.065, 0.095, 0.0, 0.01, 0.02, 0.04, 0.05, 0.07, 0.09, 0.1, 0.005, 0.025, 0.065, 0.095, 0.0, 0.01, 0.02, 0.04, 0.05, 0.07, 0.09, 0.1, 0.005, 0.025, 0.065, 0.095, 0.0, 0.01, 0.02]}, \"type\": \"Particles\", \"options\": {\"color\": \"#a6cee3\", \"name\": \"T\", \"size\": 0.7531455484695605}}], \"options\": {\"save_image\": true, \"range\": {\"y\": [0.0, 0.11949881425029427], \"x\": [0.0, 0.11949881425029427], \"z\": [0.0, 0.11949881425029427]}, \"world_height\": 350, \"world_width\": 350, \"grid\": true, \"autorange\": false}};\n",
       "\t // Elegans.Embed.parse(\"#\"+\"viz150bd0dd-af02-46b5-8a31-1e6d4ae3c15f\",model).render();\n",
       "\t var stage = Elegans.Embed.parse(\"#\"+\"viz150bd0dd-af02-46b5-8a31-1e6d4ae3c15f\",model);\n",
       "     stage.world.camera.position.set(-22, 23, 32);\n",
       "     stage.world.camera.rotation.set(-0.6, 0.5, 0.6);\n",
       "\t stage.render();\n",
       "       });\n",
       "     })();\n",
       "    </script>\n",
       "  </head>\n",
       "  <body>\n",
       "    <div id=\"viz150bd0dd-af02-46b5-8a31-1e6d4ae3c15f\"></div>\n",
       "  </body>\n",
       "</html>"
      ],
      "text/plain": [
       "<IPython.core.display.HTML object>"
      ]
     },
     "metadata": {},
     "output_type": "display_data"
    },
    {
     "name": "stdout",
     "output_type": "stream",
     "text": [
      "[]\n"
     ]
    }
   ],
   "source": [
    "from ecell4 import *\n",
    "import numpy as np\n",
    "import math\n",
    "import sys\n",
    "import os\n",
    "#import matplotlib.pyplot as plt\n",
    "#%matplotlib inline\n",
    "rng = core.GSLRandomNumberGenerator()\n",
    "def prerun(plist):\n",
    "    output=[]\n",
    "    for pid, p in plist:\n",
    "            pos = tuple(p.position())\n",
    "            output.append([pos[1],pos[2]])\n",
    "    return output\n",
    "phit = 0.55#float(sys.argv[1]) \n",
    "run = 1#int(sys.argv[2]) \n",
    "prun = 1#int(sys.argv[3]) \n",
    "print 'run',run,'prerun',prun\n",
    "rm = 0.005\n",
    "Dt = 1\n",
    "dtfactor = 1e-1#5\n",
    "tmol = (2*rm)**2 / (2*Dt)\n",
    "finalt = math.log10(tmol*1000)\n",
    "equit = math.log10(tmol*1e-4)#100)\n",
    "Ap = math.pi*rm*rm\n",
    "Nt = 100\n",
    "At = Nt*Ap/phit\n",
    "L = At**0.5\n",
    "mat = Integer3(1,1,1)*int(L/2/rm)#max(3,int((Nall)**(1./2)))\n",
    "print 'phit',Nt*Ap/At\n",
    "simdt = math.log10(tmol*dtfactor)\n",
    "#tt = np.logspace(simdt,finalt,int(abs(finalt-simdt))*5)\n",
    "logt1 = np.logspace(simdt,finalt,int(abs(finalt-simdt))*7)\n",
    "logt2 = np.logspace(simdt,equit,int(abs(equit-simdt))*7)\n",
    "tt1 = np.concatenate(([0],logt1))\n",
    "tt2 = np.concatenate(([0],logt2))\n",
    "#plt.loglog(tt,tt,'.')\n",
    "#a=(3.)**0.5\n",
    "#b = math.sqrt(2.)\n",
    "#poss = [[n[0]*rm,n[1]*rm] for n in [[1,1],[1+b,1+b],[1+2*b,1],[1,2*b+1],[1+2*b,1+2*b]]]\n",
    "#poss = [[n[0]*rm,n[1]*rm] for n in [[1,1],[1+a,1+a],[1,1+2*a],[1+2*a,1],[1+2*a,1+2*a]]]\n",
    "#filename = '/home/chew/runscript/phi'+str(phit)+'inipos.csv'\n",
    "\n",
    "def singlerun(run,prun,tlog):\n",
    "    dur = tlog[-1]\n",
    "    if (prun!=1):\n",
    "        filename = 'data/phi'+str(phit)+'inipos.csv'\n",
    "        inipos = np.loadtxt(filename,delimiter=',')\n",
    "        print 'loading from ',filename\n",
    "    print 'L={},rm={},Dt={},tmol={:.2E},duration={},simdt={}'.format(L,rm,Dt,tmol,dur,tmol*dtfactor)\n",
    "    rng.seed(run)\n",
    "    w = egfrd.EGFRDWorld(Real3(L,L,L),matrix_sizes=mat,rng=rng)\n",
    "    x,y,z = w.actual_lengths()\n",
    "    with species_attributes():\n",
    "         T | {'D':str(Dt),'radius':str(rm)}\n",
    "    m=get_model()\n",
    "    w.bind_to(m)\n",
    "    print 'NT',Nt\n",
    "    if (prun==1): #prerun \n",
    "        if (phit<=0.5): #dilute, place particle randomly\n",
    "            for i in range(Nt): \n",
    "                while (True):\n",
    "                    (pid,p),suc = w.new_particle(Species(\"T\"),Real3(0,rng.uniform(0.0,L),rng.uniform(0.0,L)))\n",
    "                    if (suc): break\n",
    "        else: #dense, place particle in triangular lattice \n",
    "\n",
    "    else: #no prerun, start simulation\n",
    "        for i in range(Nt): \n",
    "            pp = inipos[i]\n",
    "            (pid,p),suc = w.new_particle(Species(\"T\"),Real3(0,pp[0],pp[1]))    \n",
    "    PID = [pid for pid, p in w.list_particles(Species(\"T\"))] #particle IDs\n",
    "    nt = len(PID)\n",
    "    print'Nt',nt\n",
    "    sim = egfrd.BDSimulator(w)\n",
    "    sim.set_dt(tmol*dtfactor)\n",
    "    sim.initialize()\n",
    "    simdt = sim.dt()\n",
    "    obs = TimingTrajectoryObserver(tlog,PID,True,tmol)\n",
    "    #sim.run(dur,obs)\n",
    "    viz.plot_world(w,radius=0.003)\n",
    "    #viz.plot_trajectory(obs)  \n",
    "    output = []\n",
    "    if (prun==1):\n",
    "        output=[]\n",
    "        #output = prerun(w.list_particles(Species(\"T\")))\n",
    "    else:\n",
    "        data=obs.data()\n",
    "        for i in range(Nt):\n",
    "            msd = np.array(\n",
    "                [np.linalg.norm(np.array(tuple(pos)) - np.array(tuple(data[i][0]))) ** 2\n",
    "                     for pos in data[i]]) \n",
    "            if (i==0): MSD = msd\n",
    "            else: MSD += msd    \n",
    "        output = MSD/nt\n",
    "    return output\n",
    "\n",
    "if (prun==1):\n",
    "\tnewpos = singlerun(run,prun,tt2)\n",
    "\t#filename = open('data/phi'+str(phit)+'inipos.csv','w')\n",
    "\t#np.savetxt(filename,newpos,delimiter=',',fmt='%s')\n",
    "\t#filename.close()\n",
    "\t#print 'saving to ',filename\n",
    "else:\n",
    "\tmsd = singlerun(run,prun,tt1)\n",
    "\tname = 'data/2DBDmocN900phi'+str(phit)+'run'+str(run)+'.csv'\n",
    "\t#filename = open(name,'w')\n",
    "\t#np.savetxt(filename,np.column_stack((tt1,msd)),delimiter=',',fmt='%s')\n",
    "\t#filename.close()\n",
    "\t#print 'saving to ',name\n",
    "#outpos,msd = singlerun(run,inipos,tt[-1])\n",
    "#outpos,msd = singlerun(run,[0],tt[-1])\n",
    "#dirname = '/home/chew/runscript/data/BDmocphi'+str(phit)\n",
    "#if not os.path.exists(dirname):\n",
    "#    os.makedirs(dirname)\n",
    "#name = dirname + '/phi'+str(phit)+'run'+str(run)+'.csv'\n",
    "\n",
    "\n",
    "print newpos[:5]\n"
   ]
  },
  {
   "cell_type": "code",
   "execution_count": 17,
   "metadata": {
    "collapsed": false
   },
   "outputs": [],
   "source": [
    "#print outpos\n",
    "newpos = outpos\n",
    "filename = open('data/phi'+str(phit)+'inipos.csv','w')\n",
    "np.savetxt(filename,newpos,delimiter=',',fmt='%s')\n",
    "filename.close()"
   ]
  },
  {
   "cell_type": "code",
   "execution_count": 8,
   "metadata": {
    "collapsed": false
   },
   "outputs": [
    {
     "name": "stdout",
     "output_type": "stream",
     "text": [
      "L 0.0255831676987\n",
      "2r 0.01\n",
      "[array([ 0.00648236,  0.01921531]), array([ 0.01980643,  0.01285319]), array([ 0.00010845,  0.00459844]), array([ 0.01651991,  0.02243567]), array([ 0.01078112,  0.0057152 ])]\n"
     ]
    }
   ],
   "source": [
    "#correct periodic boundary effect for initial particle coordinates\n",
    "import scipy.spatial.distance \n",
    "def correct(pos):    \n",
    "    for i in range(5):\n",
    "        for j in range(2):\n",
    "            p = pos[i][j]\n",
    "            while p<0:\n",
    "                p=L+p\n",
    "            while p>L:\n",
    "                p = p-L\n",
    "            pos[i][j]=p\n",
    "    return pos\n",
    "\n",
    "print 'L',L\n",
    "print '2r',2*rm\n",
    "new = list(inipos)\n",
    "print new\n",
    "\n",
    "            \n",
    "#newpos= correct(new)\n",
    "#print [[i[0],i[1]] for i in newpos]"
   ]
  },
  {
   "cell_type": "code",
   "execution_count": 28,
   "metadata": {
    "collapsed": false
   },
   "outputs": [
    {
     "name": "stdout",
     "output_type": "stream",
     "text": [
      "0.0461237133741 0.0244638222635\n",
      "0.0600590969435 0.00581607933513\n",
      "0.00552482578862 0.0229914395209\n",
      "0.0611852888404 0.0416782169861\n",
      "0.0533268723588 0.0485376296049\n"
     ]
    }
   ],
   "source": [
    "filename = 'data/phi'+str(phit)+'inipos.csv'\n",
    "data = np.loadtxt(filename,delimiter=',')\n",
    "for pos in data:\n",
    "    print pos[0],pos[1]"
   ]
  },
  {
   "cell_type": "code",
   "execution_count": 4,
   "metadata": {
    "collapsed": false,
    "scrolled": true
   },
   "outputs": [
    {
     "data": {
      "text/plain": [
       "<matplotlib.text.Text at 0x7f7879753510>"
      ]
     },
     "execution_count": 4,
     "metadata": {},
     "output_type": "execute_result"
    },
    {
     "data": {
      "image/png": "[encoded data removed]",
      "text/plain": [
       "<matplotlib.figure.Figure at 0x7f7879720110>"
      ]
     },
     "metadata": {},
     "output_type": "display_data"
    }
   ],
   "source": [
    "#tt= np.logspace(-10,-3,len(msd))\n",
    "MSD1 = msd\n",
    "tlog = tt1\n",
    "sigma=2*0.005\n",
    "sigma2=sigma**2\n",
    "tmol=5e-5\n",
    "import matplotlib.pyplot as plt\n",
    "%matplotlib inline   \n",
    "plt.loglog(tlog/tmol,MSD1/sigma2,'r.',label='1')\n",
    "#plt.loglog(t/tmol,MSD2,'g--',label='2')\n",
    "plt.plot(tlog/tmol,4.*Dt*np.array(tlog)/sigma2)\n",
    "#plt.legend()\n",
    "plt.xlabel('t/tmol')\n",
    "plt.ylabel('msd/sigma^2')\n"
   ]
  },
  {
   "cell_type": "code",
   "execution_count": 8,
   "metadata": {
    "collapsed": false
   },
   "outputs": [
    {
     "name": "stdout",
     "output_type": "stream",
     "text": [
      "0.341716021275\n"
     ]
    },
    {
     "data": {
      "text/plain": [
       "<matplotlib.text.Text at 0x7f787625cfd0>"
      ]
     },
     "execution_count": 8,
     "metadata": {},
     "output_type": "execute_result"
    },
    {
     "data": {
      "image/png": "[encoded data removed]",
      "text/plain": [
       "<matplotlib.figure.Figure at 0x7f78797e7f10>"
      ]
     },
     "metadata": {},
     "output_type": "display_data"
    }
   ],
   "source": [
    "#dct2 = MSD2[1:]/tt[1:]/4./Dt\n",
    "dct1 = MSD1[1:]/tlog[1:]/4./Dt\n",
    "plt.semilogx(tlog[1:]/5e-5,dct1,'.',label='1')\n",
    "#plt.semilogx(tt[1:],dct2,'g-',label='2')\n",
    "plt.ylim(0,1.)\n",
    "plt.legend()\n",
    "print np.mean(dct1[(tlog>3*tmol)[1::]])\n",
    "plt.xlabel('t/tmol')\n",
    "#plt.ylabel('msd/sigma^2')\n",
    "#plt.savefig(\"figure/2DBD_moc_N900_phi05.png\",format='png',dpi=100)"
   ]
  },
  {
   "cell_type": "code",
   "execution_count": 27,
   "metadata": {
    "collapsed": false
   },
   "outputs": [
    {
     "data": {
      "text/plain": [
       "[<matplotlib.lines.Line2D at 0x7f15d8b8ed10>]"
      ]
     },
     "execution_count": 27,
     "metadata": {},
     "output_type": "execute_result"
    },
    {
     "data": {
      "image/png": "[encoded data removed]",
      "text/plain": [
       "<matplotlib.figure.Figure at 0x7f15d8b8ee90>"
      ]
     },
     "metadata": {},
     "output_type": "display_data"
    }
   ],
   "source": [
    "#viz.plot_trajectory(obs)   \n",
    "MSD = msd\n",
    "dct = MSD[1:]/tt[1:]/4./Dt\n",
    "%matplotlib inline\n",
    "import matplotlib.pyplot as plt\n",
    "plt.loglog(tt,MSD,'.')\n",
    "plt.plot(tt,4.*Dt*np.array(tt))"
   ]
  },
  {
   "cell_type": "code",
   "execution_count": 39,
   "metadata": {
    "collapsed": false
   },
   "outputs": [
    {
     "ename": "TypeError",
     "evalue": "'float' object has no attribute '__getitem__'",
     "output_type": "error",
     "traceback": [
      "\u001b[0;31m---------------------------------------------------------------------------\u001b[0m",
      "\u001b[0;31mTypeError\u001b[0m                                 Traceback (most recent call last)",
      "\u001b[0;32m<ipython-input-39-522c7ccfa60a>\u001b[0m in \u001b[0;36m<module>\u001b[0;34m()\u001b[0m\n\u001b[1;32m      1\u001b[0m \u001b[0mnorun\u001b[0m \u001b[0;34m=\u001b[0m \u001b[0;36m1\u001b[0m\u001b[0;34m\u001b[0m\u001b[0m\n\u001b[1;32m      2\u001b[0m \u001b[0;32mfor\u001b[0m \u001b[0mrun\u001b[0m \u001b[0;32min\u001b[0m \u001b[0mrange\u001b[0m\u001b[0;34m(\u001b[0m\u001b[0mnorun\u001b[0m\u001b[0;34m)\u001b[0m\u001b[0;34m:\u001b[0m\u001b[0;34m\u001b[0m\u001b[0m\n\u001b[0;32m----> 3\u001b[0;31m     \u001b[0mmsd\u001b[0m \u001b[0;34m=\u001b[0m \u001b[0msinglerun\u001b[0m\u001b[0;34m(\u001b[0m\u001b[0mrun\u001b[0m\u001b[0;34m)\u001b[0m\u001b[0;34m\u001b[0m\u001b[0m\n\u001b[0m\u001b[1;32m      4\u001b[0m     \u001b[0;32mif\u001b[0m \u001b[0;34m(\u001b[0m\u001b[0mrun\u001b[0m\u001b[0;34m==\u001b[0m\u001b[0;36m0\u001b[0m\u001b[0;34m)\u001b[0m\u001b[0;34m:\u001b[0m\u001b[0;34m\u001b[0m\u001b[0m\n\u001b[1;32m      5\u001b[0m         \u001b[0mMSD\u001b[0m \u001b[0;34m=\u001b[0m \u001b[0mmsd\u001b[0m\u001b[0;34m\u001b[0m\u001b[0m\n",
      "\u001b[0;32m<ipython-input-4-d718b2141984>\u001b[0m in \u001b[0;36msinglerun\u001b[0;34m(run)\u001b[0m\n\u001b[1;32m     38\u001b[0m          \u001b[0;32mwhile\u001b[0m\u001b[0;34m(\u001b[0m\u001b[0mTrue\u001b[0m\u001b[0;34m)\u001b[0m\u001b[0;34m:\u001b[0m\u001b[0;34m\u001b[0m\u001b[0m\n\u001b[1;32m     39\u001b[0m             \u001b[0mpp\u001b[0m \u001b[0;34m=\u001b[0m \u001b[0mpos\u001b[0m\u001b[0;34m[\u001b[0m\u001b[0mi\u001b[0m\u001b[0;34m]\u001b[0m\u001b[0;34m\u001b[0m\u001b[0m\n\u001b[0;32m---> 40\u001b[0;31m             \u001b[0;34m(\u001b[0m\u001b[0mpid\u001b[0m\u001b[0;34m,\u001b[0m\u001b[0mp\u001b[0m\u001b[0;34m)\u001b[0m\u001b[0;34m,\u001b[0m\u001b[0msuc\u001b[0m \u001b[0;34m=\u001b[0m \u001b[0mw\u001b[0m\u001b[0;34m.\u001b[0m\u001b[0mnew_particle\u001b[0m\u001b[0;34m(\u001b[0m\u001b[0mSpecies\u001b[0m\u001b[0;34m(\u001b[0m\u001b[0;34m\"T\"\u001b[0m\u001b[0;34m)\u001b[0m\u001b[0;34m,\u001b[0m\u001b[0mReal3\u001b[0m\u001b[0;34m(\u001b[0m\u001b[0;36m0\u001b[0m\u001b[0;34m,\u001b[0m\u001b[0mpp\u001b[0m\u001b[0;34m[\u001b[0m\u001b[0;36m0\u001b[0m\u001b[0;34m]\u001b[0m\u001b[0;34m,\u001b[0m\u001b[0mpp\u001b[0m\u001b[0;34m[\u001b[0m\u001b[0;36m1\u001b[0m\u001b[0;34m]\u001b[0m\u001b[0;34m)\u001b[0m\u001b[0;34m)\u001b[0m\u001b[0;34m\u001b[0m\u001b[0m\n\u001b[0m\u001b[1;32m     41\u001b[0m             \u001b[0;32mif\u001b[0m \u001b[0;34m(\u001b[0m\u001b[0msuc\u001b[0m\u001b[0;34m)\u001b[0m\u001b[0;34m:\u001b[0m \u001b[0;32mbreak\u001b[0m\u001b[0;34m\u001b[0m\u001b[0m\n\u001b[1;32m     42\u001b[0m     \u001b[0mPID\u001b[0m \u001b[0;34m=\u001b[0m \u001b[0;34m[\u001b[0m\u001b[0mpid\u001b[0m \u001b[0;32mfor\u001b[0m \u001b[0mpid\u001b[0m\u001b[0;34m,\u001b[0m \u001b[0mp\u001b[0m \u001b[0;32min\u001b[0m \u001b[0mw\u001b[0m\u001b[0;34m.\u001b[0m\u001b[0mlist_particles\u001b[0m\u001b[0;34m(\u001b[0m\u001b[0mSpecies\u001b[0m\u001b[0;34m(\u001b[0m\u001b[0;34m\"T\"\u001b[0m\u001b[0;34m)\u001b[0m\u001b[0;34m)\u001b[0m\u001b[0;34m]\u001b[0m \u001b[0;31m#particle IDs\u001b[0m\u001b[0;34m\u001b[0m\u001b[0m\n",
      "\u001b[0;31mTypeError\u001b[0m: 'float' object has no attribute '__getitem__'"
     ]
    }
   ],
   "source": [
    "norun = 1\n",
    "for run in range(norun):\n",
    "    msd = singlerun(run)\n",
    "    if (run==0):\n",
    "        MSD = msd\n",
    "    else: \n",
    "        MSD+=msd\n",
    "MSD /= norun"
   ]
  },
  {
   "cell_type": "code",
   "execution_count": 3,
   "metadata": {
    "collapsed": false
   },
   "outputs": [
    {
     "data": {
      "text/plain": [
       "[<matplotlib.lines.Line2D at 0x7f8e7c1b9290>]"
      ]
     },
     "execution_count": 3,
     "metadata": {},
     "output_type": "execute_result"
    },
    {
     "data": {
      "image/png": "[encoded data removed]",
      "text/plain": [
       "<matplotlib.figure.Figure at 0x7f8e5dd946d0>"
      ]
     },
     "metadata": {},
     "output_type": "display_data"
    }
   ],
   "source": []
  },
  {
   "cell_type": "code",
   "execution_count": 4,
   "metadata": {
    "collapsed": false
   },
   "outputs": [
    {
     "data": {
      "text/plain": [
       "(0.2, 1.1)"
      ]
     },
     "execution_count": 4,
     "metadata": {},
     "output_type": "execute_result"
    },
    {
     "data": {
      "image/png": "[encoded data removed]",
      "text/plain": [
       "<matplotlib.figure.Figure at 0x7f8e5dd94d10>"
      ]
     },
     "metadata": {},
     "output_type": "display_data"
    }
   ],
   "source": [
    "plt.semilogx(tt[1:],dct,'.')\n",
    "plt.ylim(0.2,1.1)"
   ]
  },
  {
   "cell_type": "code",
   "execution_count": 6,
   "metadata": {
    "collapsed": false
   },
   "outputs": [
    {
     "data": {
      "text/plain": [
       "[<matplotlib.lines.Line2D at 0x7f397cb47490>]"
      ]
     },
     "execution_count": 6,
     "metadata": {},
     "output_type": "execute_result"
    },
    {
     "data": {
      "image/png": "[encoded data removed]",
      "text/plain": [
       "<matplotlib.figure.Figure at 0x7f397cb476d0>"
      ]
     },
     "metadata": {},
     "output_type": "display_data"
    }
   ],
   "source": [
    "msd = MSD/norun\n",
    "dct = msd[1:]/tt[1:]/4./Dt\n",
    "import matplotlib.pyplot as plt\n",
    "plt.loglog(tt,msd,'.')\n",
    "#plt.semilogx(tt[1:],dct,'.')\n",
    "plt.plot(tt,4.*Dt*np.array(tt))\n"
   ]
  },
  {
   "cell_type": "code",
   "execution_count": 7,
   "metadata": {
    "collapsed": false
   },
   "outputs": [
    {
     "data": {
      "text/plain": [
       "[<matplotlib.lines.Line2D at 0x7f397c5f3590>]"
      ]
     },
     "execution_count": 7,
     "metadata": {},
     "output_type": "execute_result"
    },
    {
     "data": {
      "image/png": "[encoded data removed]",
      "text/plain": [
       "<matplotlib.figure.Figure at 0x7f397cc0a150>"
      ]
     },
     "metadata": {},
     "output_type": "display_data"
    }
   ],
   "source": [
    "msd = MSD/norun\n",
    "dct = msd[1:]/tt[1:]/4./Dt\n",
    "import matplotlib.pyplot as plt\n",
    "#plt.loglog(tt,msd,'.')\n",
    "plt.semilogx(tt[1:],dct,'.')\n",
    "#plt.plot(tt,4.*Dt*np.array(tt))"
   ]
  },
  {
   "cell_type": "code",
   "execution_count": null,
   "metadata": {
    "collapsed": true
   },
   "outputs": [],
   "source": [
    "data=obs.data()\n",
    "leng = np.array(data).shape[1]\n",
    "msd=np.zeros(leng,float) #zeros array for initiation of sum of squared displacement\n",
    "for i in range(Nt):\n",
    "     msd += np.array(\n",
    "     [np.linalg.norm(np.array(tuple(pos)) - np.array(tuple(data[i][0]))) ** 2\n",
    "          for pos in data[i]]) \n",
    "\n",
    "msd = msd/Nt\n",
    "t=np.arange(0,dur,simdt)\n",
    "name = 'data/BDphi'+str(phio)+'/phi'+str(phio)+'run'+str(run)+'.csv'\n",
    "filename = open(name,'w')\n",
    "np.savetxt(filename,np.column_stack((t,msd)),delimiter=',',fmt='%s')\n",
    "filename.close()\n",
    "print 'saving to ',name"
   ]
  },
  {
   "cell_type": "code",
   "execution_count": 13,
   "metadata": {
    "collapsed": false
   },
   "outputs": [
    {
     "name": "stdout",
     "output_type": "stream",
     "text": [
      "2303\n",
      "47\n",
      "200\n"
     ]
    }
   ],
   "source": [
    "#M = max(3, int(min(cbrt(N), L / max(diameter))))\n",
    "print Nall\n",
    "print int((Nall)**(1./2))\n",
    "print int(L/rm)"
   ]
  },
  {
   "cell_type": "code",
   "execution_count": 15,
   "metadata": {
    "collapsed": false
   },
   "outputs": [],
   "source": [
    "\n",
    "Deff = msd[1:]/t[1:]/4/Dt\n",
    "plt.plot(t,msd)\n",
    "plt.plot(t,4*Dt*t,'g-')  #theoretical line\n",
    "plt.xlabel(\"time\")\n",
    "plt.ylabel(\"msd\")\n",
    "plt.show()"
   ]
  },
  {
   "cell_type": "code",
   "execution_count": 3,
   "metadata": {
    "collapsed": false
   },
   "outputs": [
    {
     "name": "stdout",
     "output_type": "stream",
     "text": [
      "0.748632071987\n"
     ]
    }
   ],
   "source": [
    "plt.loglog(t[1:],Deff)\n",
    "plt.xlabel(\"time\")\n",
    "plt.ylabel(\"D/Do\")\n",
    "print np.mean(Deff[-10:])\n",
    "plt.show()"
   ]
  },
  {
   "cell_type": "code",
   "execution_count": 9,
   "metadata": {
    "collapsed": false
   },
   "outputs": [],
   "source": [
    "#viz.plot_world(w)"
   ]
  },
  {
   "cell_type": "code",
   "execution_count": 7,
   "metadata": {
    "collapsed": false
   },
   "outputs": [
    {
     "name": "stdout",
     "output_type": "stream",
     "text": [
      "[ 0.31446205  0.31451613  0.3146622   0.3142563   0.31506291  0.31394816\n",
      "  0.31434592  0.31380255  0.31425508  0.31323333]\n"
     ]
    }
   ],
   "source": [
    "print Deff[-10:]"
   ]
  },
  {
   "cell_type": "code",
   "execution_count": 11,
   "metadata": {
    "collapsed": false
   },
   "outputs": [],
   "source": [
    "p = w.list_particles(Species(\"M\"))"
   ]
  },
  {
   "cell_type": "code",
   "execution_count": 13,
   "metadata": {
    "collapsed": false
   },
   "outputs": [
    {
     "name": "stdout",
     "output_type": "stream",
     "text": [
      "186528\n"
     ]
    }
   ],
   "source": [
    "print len(p)+186+74611"
   ]
  },
  {
   "cell_type": "code",
   "execution_count": 6,
   "metadata": {
    "collapsed": false
   },
   "outputs": [
    {
     "name": "stdout",
     "output_type": "stream",
     "text": [
      "(3, 3, 3)\n"
     ]
    }
   ],
   "source": [
    "print tuple(Integer3(1,1,1)*3)"
   ]
  },
  {
   "cell_type": "code",
   "execution_count": 5,
   "metadata": {
    "collapsed": false
   },
   "outputs": [
    {
     "name": "stdout",
     "output_type": "stream",
     "text": [
      "run 0\n",
      "phit 0.1 Nt 5\n",
      "41\n",
      "L=0.0626657068658,rm=0.005,Dt=1,tmol=5.00E-05,duration=0.1,simdt=5e-10\n"
     ]
    }
   ],
   "source": [
    "from ecell4 import *\n",
    "import numpy as np\n",
    "import math\n",
    "import sys\n",
    "import os\n",
    "#import matplotlib.pyplot as plt\n",
    "#%matplotlib inline\n",
    "rng = core.GSLRandomNumberGenerator()\n",
    "\n",
    "phit = float(sys.argv[1]) \n",
    "run = int(sys.argv[2]) \n",
    "prun = int(sys.argv[3]) \n",
    "Nt = int(sys.argv[4])\n",
    "print 'run',run,'prerun?',prun\n",
    "rm = 0.005\n",
    "Dt = 1\n",
    "dtfactor = 1e-5\n",
    "tmol = (2*rm)**2 / (2*Dt)\n",
    "finalt = math.log10(tmol*1000)\n",
    "equit = math.log10(tmol*100)\n",
    "Ap = math.pi*rm*rm\n",
    "At = Nt*Ap/phit\n",
    "L = At**0.5\n",
    "mat = Integer3(1,1,1)*int(L/2/rm)#max(3,int((Nall)**(1./2)))\n",
    "print 'phit',Nt*Ap/At\n",
    "simdt = math.log10(tmol*dtfactor)\n",
    "#tt = np.logspace(simdt,finalt,int(abs(finalt-simdt))*5)\n",
    "logt1 = np.logspace(simdt,finalt,int(abs(finalt-simdt))*7)\n",
    "logt2 = np.logspace(simdt,equit,int(abs(equit-simdt))*7)\n",
    "tt1 = np.concatenate(([0],logt1))\n",
    "tt2 = np.concatenate(([0],logt2))\n",
    "#plt.loglog(tt,tt,'.')\n",
    "#a=(3.)**0.5\n",
    "#b = math.sqrt(2.)\n",
    "#poss = [[n[0]*rm,n[1]*rm] for n in [[1,1],[1+b,1+b],[1+2*b,1],[1,2*b+1],[1+2*b,1+2*b]]]\n",
    "#poss = [[n[0]*rm,n[1]*rm] for n in [[1,1],[1+a,1+a],[1,1+2*a],[1+2*a,1],[1+2*a,1+2*a]]]\n",
    "#filename = '/home/chew/runscript/phi'+str(phit)+'inipos.csv'\n",
    "\n",
    "def prerun(plist):\n",
    "    output=[]\n",
    "    for pid, p in plist:\n",
    "            pos = tuple(p.position())\n",
    "            output.append([pos[1],pos[2]])\n",
    "    return output\n",
    "\n",
    "def singlerun(run,prun,tlog):\n",
    "    dur = tlog[-1]\n",
    "    if (prun!=1):\n",
    "        filename = '/home/chew/runscript/data/phi'+str(phit)+'inipos.csv'\n",
    "        inipos = np.loadtxt(filename,delimiter=',')\n",
    "        print 'loading from ',filename\n",
    "    print 'L={},rm={},Dt={},tmol={:.2E},duration={},simdt={}'.format(L,rm,Dt,tmol,dur,tmol*dtfactor)\n",
    "    rng.seed(run)\n",
    "    w = egfrd.EGFRDWorld(Real3(L,L,L),matrix_sizes=mat,rng=rng)\n",
    "    x,y,z = w.actual_lengths()\n",
    "    with species_attributes():\n",
    "         T | {'D':str(Dt),'radius':str(rm)}\n",
    "    m=get_model()\n",
    "    w.bind_to(m)\n",
    "    for i in range(Nt):\n",
    "         while(True):\n",
    "            if (prun==1): \n",
    "                (pid,p),suc = w.new_particle(Species(\"T\"),Real3(0,rng.uniform(0.0,L),rng.uniform(0.0,L)))\n",
    "            else: \n",
    "                pp = inipos[i]\n",
    "                (pid,p),suc = w.new_particle(Species(\"T\"),Real3(0,pp[0],pp[1]))    \n",
    "            if (suc): break\n",
    "    PID = [pid for pid, p in w.list_particles(Species(\"T\"))] #particle IDs\n",
    "    nt = len(PID)\n",
    "    print'Nt',nt\n",
    "    sim = egfrd.BDSimulator(w)\n",
    "    sim.set_dt(tmol*dtfactor)\n",
    "    sim.initialize()\n",
    "    simdt = sim.dt()\n",
    "    #obs = FixedIntervalTrajectoryObserver(tmol,PID)\n",
    "    obs = TimingTrajectoryObserver(tlog,PID,True,tmol)\n",
    "    sim.run(dur,obs)\n",
    "    #viz.plot_world(w,radius=0.003)\n",
    "    #viz.plot_trajectory(obs)  \n",
    "    output = []\n",
    "    if (prun==1):\n",
    "        output = prerun(w.list_particles(Species(\"T\")))\n",
    "    else:\n",
    "        data=obs.data()\n",
    "        for i in range(Nt):\n",
    "            msd = np.array(\n",
    "                [np.linalg.norm(np.array(tuple(pos)) - np.array(tuple(data[i][0]))) ** 2\n",
    "                     for pos in data[i]]) \n",
    "            if (i==0): MSD = msd\n",
    "            else: MSD += msd    \n",
    "        output = MSD/nt\n",
    "    return output\n",
    "\n",
    "if (prun==1):\n",
    "\tnewpos = singlerun(run,prun,tt2)\n",
    "\tfilename = open('/home/chew/runscript/data/phi'+str(phit)+'inipos.csv','w')\n",
    "\tnp.savetxt(filename,newpos,delimiter=',',fmt='%s')\n",
    "\tfilename.close()\n",
    "\tprint 'saving to ',filename\n",
    "else:\n",
    "\tmsd = singlerun(run,prun,tt1)\n",
    "    dirname = '/home/chew/runscript/data/BDmocN'+str(Nt)+'phi'+str(phit)\n",
    "    if not os.path.exists(dirname):\n",
    "        os.makedirs(dirname)\n",
    "\tname = dirname+'phi'+str(phit)+'run'+str(run)+'.csv'\n",
    "\tfilename = open(name,'w')\n",
    "\tnp.savetxt(filename,np.column_stack((tt1,msd)),delimiter=',',fmt='%s')\n",
    "\tfilename.close()\n",
    "\tprint 'saving to ',name"
   ]
  },
  {
   "cell_type": "code",
   "execution_count": null,
   "metadata": {
    "collapsed": true
   },
   "outputs": [],
   "source": []
  }
 ],
 "metadata": {
  "anaconda-cloud": {},
  "kernelspec": {
   "display_name": "Python 2",
   "language": "python",
   "name": "python2"
  },
  "language_info": {
   "codemirror_mode": {
    "name": "ipython",
    "version": 2
   },
   "file_extension": ".py",
   "mimetype": "text/x-python",
   "name": "python",
   "nbconvert_exporter": "python",
   "pygments_lexer": "ipython2",
   "version": "2.7.10"
  }
 },
 "nbformat": 4,
 "nbformat_minor": 1
}
