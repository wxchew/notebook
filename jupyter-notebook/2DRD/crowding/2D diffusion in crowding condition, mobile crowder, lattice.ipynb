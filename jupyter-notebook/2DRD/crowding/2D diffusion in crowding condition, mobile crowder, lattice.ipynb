{
 "cells": [
  {
   "cell_type": "code",
   "execution_count": 17,
   "metadata": {
    "collapsed": false,
    "scrolled": true
   },
   "outputs": [
    {
     "name": "stdout",
     "output_type": "stream",
     "text": [
      "Dratio 1.0\n",
      "L=2.0,rm=0.005,Dt=1.0,Do=1.0,tmol=2.5e-05,dur=0.1\n",
      "phit 2.13383407306e-05 phio 0.5\n",
      "Nt 1 No 23432 Nv 46864\n"
     ]
    }
   ],
   "source": [
    "from ecell4 import *\n",
    "import numpy as np\n",
    "import math\n",
    "import sys\n",
    "import os\n",
    "#%matplotlib inline\n",
    "#import matplotlib.pyplot as plt\n",
    "rng = core.GSLRandomNumberGenerator()\n",
    "\n",
    "phio = 0.5#float(sys.argv[1]) \n",
    "Dratio=  1.#float(sys.argv[2]) \n",
    "run = 0#int(sys.argv[3]) \n",
    "rm = 0.005\n",
    "L = 2.\n",
    "rv = rm\n",
    "H = 3*rv*2\n",
    "Nt = 1\n",
    "tend = -1\n",
    "Dt = 1.\n",
    "Do = Dt/Dratio\n",
    "tmol = (2*rv)**2 / (4*Dt)\n",
    "ori = Real3(0.5*H,0,0)\n",
    "lg1 = np.logspace(math.log10(2.1*tmol),-3,10)\n",
    "lg2 = np.logspace(-3,tend,30)[1:]\n",
    "tt = np.concatenate(([0.,tmol],lg1,lg2))\n",
    "dur = tt[-1]\n",
    "unit0 = Real3(0,0,L)\n",
    "unit1 = Real3(0,L,0)\n",
    "w = spatiocyte.SpatiocyteWorld(Real3(H,L,L),rv)\n",
    "lx,ly,lz = tuple(w.actual_lengths())\n",
    "#print 'lx,ly,lz',lx,ly,lz\n",
    "cs = w.row_size()\n",
    "ls = w.layer_size()\n",
    "Nmv = cs*ls\n",
    "No = int(Nmv*phio)\n",
    "with species_attributes():\n",
    "    T | {'D':str(Dt),'radius':str(rv),'location':'M'}\n",
    "    O | {'D':str(Do),'radius':str(rv),'location':'M'}\n",
    "m=get_model()\n",
    "print 'Dratio',Dratio\n",
    "print 'L={},rm={},Dt={},Do={},tmol={},dur={}'.format(L,rm,Dt,Do,tmol,dur)\n",
    "print 'phit',float(Nt)/Nmv,'phio',float(No)/Nmv\n",
    "print 'Nt',Nt,'No',No,'Nv',Nmv\n",
    "\n",
    "def singlerun(rr):\n",
    "    msd = np.zeros(len(tt),float)\n",
    "    rng.seed(rr)\n",
    "    w = spatiocyte.SpatiocyteWorld(Real3(H,L,L),rv,rng)\n",
    "    x,y,z = w.actual_lengths()\n",
    "    w.bind_to(m)\n",
    "    w.add_structure(Species('M'),PlanarSurface(ori,unit0,unit1))\n",
    "    w.add_molecules(Species('T'),Nt)\n",
    "    w.add_molecules(Species('O'),No)\n",
    "    sim = spatiocyte.SpatiocyteSimulator(w)\n",
    "    pids = [pid for pid, p in w.list_particles(Species(\"T\"))] #particle IDs\n",
    "    #obs = FixedIntervalTrajectoryObserver(dt,pids)\n",
    "    obs = TimingTrajectoryObserver(tt,pids,True,tmol)\n",
    "    sim.run(dur,obs)\n",
    "    data=obs.data()\n",
    "    for i in range(Nt):\n",
    "        msd += np.array(\n",
    "            [np.linalg.norm(np.array(tuple(pos)) - np.array(tuple(data[i][0]))) ** 2\n",
    "                 for pos in data[i]]) \n",
    "        #viz.plot_trajectory(obs)    \n",
    "    return msd/Nt\n",
    "#dirname = 'runscript/data/Dratio/D'+str(Dratio)+'/phi'+str(phio)\n",
    "#if not os.path.exists(dirname):\n",
    "#    os.makedirs(dirname)\n",
    "msd = singlerun(run)\n",
    "#name = 'runscript/data/Dratio/D'+str(Dratio)+'/phi'+str(phio)+'/LS2Dmoc_phi'+str(phio)+'_D'+str(Dratio)+'run'+str(run)+'.csv'\n",
    "#filename = open(name,'w')\n",
    "#np.savetxt(filename,np.column_stack((tt,msd)),delimiter=',',fmt='%s')\n",
    "#filename.close()\n",
    "#print 'saving to ',name"
   ]
  },
  {
   "cell_type": "code",
   "execution_count": 18,
   "metadata": {
    "collapsed": false
   },
   "outputs": [
    {
     "data": {
      "text/plain": [
       "[<matplotlib.lines.Line2D at 0x7f31432ac990>]"
      ]
     },
     "execution_count": 18,
     "metadata": {},
     "output_type": "execute_result"
    },
    {
     "data": {
      "image/png": "[encoded data removed]",
      "text/plain": [
       "<matplotlib.figure.Figure at 0x7f3142cc6b90>"
      ]
     },
     "metadata": {},
     "output_type": "display_data"
    }
   ],
   "source": [
    "plt.loglog(tt,msd,'.')\n",
    "plt.plot(tt,4*tt)"
   ]
  },
  {
   "cell_type": "code",
   "execution_count": null,
   "metadata": {
    "collapsed": true
   },
   "outputs": [],
   "source": [
    "f1,ax1 = plt.subplots(1)\n",
    "f2,ax2 = plt.subplots(1)\n",
    "Deffall = []\n",
    "for phit in phits:\n",
    "    MSD = run()\n",
    "    ax1.loglog(tt,MSD,'.',label='phi='+str(phit))\n",
    "    Deff = MSD[1:]/tt[1:]/4/Dt\n",
    "    ax2.semilogx(tt[1:],Deff,'.',label='phi='+str(phit))\n",
    "    Deffall.append(Deff)\n",
    "ax1.plot(tt,4*Dt*tt,'g-')  #theoretical line\n",
    "ax1.set_xlabel(\"time\")\n",
    "ax1.set_ylabel(\"msd\")\n",
    "ax1.legend(loc='best')\n",
    "ax2.set_xlabel(\"time\")\n",
    "ax2.set_ylabel(\"D/Do\")\n",
    "#ax2.set_ylim(0,1.1)\n",
    "ax2.legend(loc='best')\n",
    "plt.show()\n",
    "Deffs=[]\n",
    "for dff in Deffall:\n",
    "    Deffs.append(np.mean(dff[(tt>0.5)[1::]]))  "
   ]
  },
  {
   "cell_type": "code",
   "execution_count": 3,
   "metadata": {
    "collapsed": false
   },
   "outputs": [
    {
     "data": {
      "text/plain": [
       "([0.88139293492056958,\n",
       "  0.65926625952937068,\n",
       "  0.4328727540613489,\n",
       "  0.24333465701250864,\n",
       "  0.072002359752437087],\n",
       " [0.1, 0.3, 0.5, 0.7, 0.9])"
      ]
     },
     "execution_count": 3,
     "metadata": {},
     "output_type": "execute_result"
    }
   ],
   "source": [
    "Deffs,phits"
   ]
  },
  {
   "cell_type": "code",
   "execution_count": 7,
   "metadata": {
    "collapsed": false
   },
   "outputs": [
    {
     "data": {
      "image/png": "[encoded data removed]",
      "text/plain": [
       "<matplotlib.figure.Figure at 0x7f67db249990>"
      ]
     },
     "metadata": {},
     "output_type": "display_data"
    },
    {
     "name": "stdout",
     "output_type": "stream",
     "text": [
      "\n"
     ]
    }
   ],
   "source": [
    "plt.loglog(tt,msd,'.')\n",
    "plt.plot(tt,4*Dt*tt,'g-')  #theoretical line\n",
    "plt.xlabel(\"time\")\n",
    "plt.ylabel(\"msd\")\n",
    "plt.show()\n",
    "print "
   ]
  },
  {
   "cell_type": "code",
   "execution_count": 16,
   "metadata": {
    "collapsed": false
   },
   "outputs": [
    {
     "data": {
      "text/plain": [
       "(0, 1.1)"
      ]
     },
     "execution_count": 16,
     "metadata": {},
     "output_type": "execute_result"
    },
    {
     "data": {
      "image/png": "[encoded data removed]",
      "text/plain": [
       "<matplotlib.figure.Figure at 0x7f3142d81dd0>"
      ]
     },
     "metadata": {},
     "output_type": "display_data"
    }
   ],
   "source": [
    "Deff = msd[1:]/tt[1:]/4/Dt\n",
    "plt.semilogx(tt[1:],Deff,'.')\n",
    "plt.xlabel(\"time\")\n",
    "plt.ylabel(\"D/Do\")\n",
    "plt.ylim(0,1.1)\n",
    "#filename = open('data/2Dcrowding_LS_phi'+str(phio)+'.csv','w')\n",
    "#np.savetxt(filename,np.column_stack((msd,t)),delimiter=',',fmt='%s')\n",
    "#filename.close()"
   ]
  },
  {
   "cell_type": "code",
   "execution_count": 4,
   "metadata": {
    "collapsed": false
   },
   "outputs": [
    {
     "name": "stdout",
     "output_type": "stream",
     "text": [
      "0.791857939863\n"
     ]
    }
   ],
   "source": [
    "print np.mean(Deff[(t>.1)[1::]])"
   ]
  },
  {
   "cell_type": "code",
   "execution_count": 20,
   "metadata": {
    "collapsed": false
   },
   "outputs": [],
   "source": [
    "dat = np.loadtxt('data/2Dcrowding_LS_phi'+str(phio)+'.csv',delimiter=',',dtype=np.str_)"
   ]
  },
  {
   "cell_type": "code",
   "execution_count": 22,
   "metadata": {
    "collapsed": false
   },
   "outputs": [
    {
     "name": "stdout",
     "output_type": "stream",
     "text": [
      "[['0.0' '0.0']\n",
      " ['9.93548387097e-05' '2.5e-05']\n",
      " ['0.00018247311828' '5e-05']\n",
      " ..., \n",
      " ['0.346348172043' '0.24995']\n",
      " ['0.346216236559' '0.249975']\n",
      " ['0.346320107527' '0.25']]\n"
     ]
    }
   ],
   "source": [
    "print dat"
   ]
  },
  {
   "cell_type": "code",
   "execution_count": 13,
   "metadata": {
    "collapsed": false
   },
   "outputs": [
    {
     "name": "stdout",
     "output_type": "stream",
     "text": [
      "186528\n"
     ]
    }
   ],
   "source": [
    "print len(p)+186+74611"
   ]
  },
  {
   "cell_type": "code",
   "execution_count": null,
   "metadata": {
    "collapsed": true
   },
   "outputs": [],
   "source": []
  }
 ],
 "metadata": {
  "anaconda-cloud": {},
  "kernelspec": {
   "display_name": "Python 2",
   "language": "python",
   "name": "python2"
  },
  "language_info": {
   "codemirror_mode": {
    "name": "ipython",
    "version": 2
   },
   "file_extension": ".py",
   "mimetype": "text/x-python",
   "name": "python",
   "nbconvert_exporter": "python",
   "pygments_lexer": "ipython2",
   "version": "2.7.10"
  }
 },
 "nbformat": 4,
 "nbformat_minor": 1
}
