{
 "cells": [
  {
   "cell_type": "code",
   "execution_count": 12,
   "metadata": {},
   "outputs": [],
   "source": [
    "from ecell4 import *\n",
    "%matplotlib inline\n",
    "import numpy as np\n",
    "import math\n",
    "import sys\n",
    "from math import sqrt\n",
    "import matplotlib.pyplot as plt\n",
    "from ecell4.extra import ensemble\n",
    "import numpy as np\n",
    "from math import pi\n",
    "\n",
    "def singlerun(ka,NA,L,run,duration):\n",
    "    import numpy as np\n",
    "    rng = GSLRandomNumberGenerator()\n",
    "    rng.seed(run)\n",
    "    rm = 0.005\n",
    "    R=2*rm\n",
    "    voxelr=rm\n",
    "    D = 1.\n",
    "    td =(2*voxelr)**2/(4*D)\n",
    "    #print('td',td)\n",
    "    ori = Real3(0.5*L,0,0)\n",
    "    unit0 = Real3(0,0,L)\n",
    "    unit1 = Real3(0,L,0)        \n",
    "    w = spatiocyte.SpatiocyteWorld(Real3(L,L,L),voxelr,rng)\n",
    "    lx,ly,lz=w.actual_lengths()\n",
    "    Area= ly*lz\n",
    "\n",
    "    with species_attributes():\n",
    "        A |  {'D': str(D), 'radius':str(voxelr)}\n",
    "        B |  {'D': str(0), 'radius':str(voxelr),'location':'M'}\n",
    "\n",
    "    with reaction_rules():#for spa and egfrd\n",
    "        A + M > B | ka\n",
    "        B > M  | 10000\n",
    "\n",
    "    m2 = get_model()\n",
    "    w.bind_to(m2)\n",
    "    w.add_structure(Species('M'),PlanarSurface(ori,unit0,unit1))\n",
    "    w.add_molecules(Species('A'), NA)\n",
    "    #viz.plot_world(w,species_list=('A','M'))    \n",
    "    sim = spatiocyte.SpatiocyteSimulator(w)\n",
    "    sim.initialize()\n",
    "    #obs = NumberObserver('B')\n",
    "    obs=FixedIntervalNumberObserver(td*10,'A')\n",
    "    #sim.run(duration)\n",
    "    sim.run(duration,obs)        \n",
    "    #print('ka',ka,'evaluated ka',res*Area/sim.dt()/NA/NB)        \n",
    "    #obs=[0]\n",
    "    tlogs,nalog=np.array(obs.data()).T\n",
    "\n",
    "    return tlogs,nalog\n",
    "\n",
    "NA=500\n",
    "L=1\n",
    "ka = 1\n",
    "dur=2\n",
    "tlogs,nalog=singlerun(ka,NA,L,1,dur)"
   ]
  },
  {
   "cell_type": "code",
   "execution_count": null,
   "metadata": {},
   "outputs": [],
   "source": []
  },
  {
   "cell_type": "code",
   "execution_count": 16,
   "metadata": {},
   "outputs": [
    {
     "data": {
      "text/plain": [
       "[<matplotlib.lines.Line2D at 0x7f948aed8e10>]"
      ]
     },
     "execution_count": 16,
     "metadata": {},
     "output_type": "execute_result"
    },
    {
     "data": {
      "image/png": "[encoded data removed]",
      "text/plain": [
       "<Figure size 432x288 with 1 Axes>"
      ]
     },
     "metadata": {},
     "output_type": "display_data"
    }
   ],
   "source": [
    "plt.plot(tlogs,nalog/NA)"
   ]
  },
  {
   "cell_type": "code",
   "execution_count": 3,
   "metadata": {
    "scrolled": true
   },
   "outputs": [
    {
     "name": "stdout",
     "output_type": "stream",
     "text": [
      "finish\n"
     ]
    }
   ],
   "source": [
    "from ecell4 import *\n",
    "%matplotlib inline\n",
    "import numpy as np\n",
    "import math\n",
    "import sys\n",
    "from math import sqrt\n",
    "import matplotlib.pyplot as plt\n",
    "from ecell4.extra import ensemble\n",
    "import numpy as np\n",
    "from math import pi\n",
    "\n",
    "def wrap(job,job_id,task_id):\n",
    "    def singlerun(ka,NA,L,run,duration):\n",
    "        import numpy as np\n",
    "        rng = GSLRandomNumberGenerator()\n",
    "        rng.seed(run)\n",
    "        rm = 0.005\n",
    "        R=2*rm\n",
    "        voxelr=rm\n",
    "        D = 1.\n",
    "        td =(2*voxelr)**2/(4*D)\n",
    "        #print('td',td)\n",
    "        H = 3*voxelr*2\n",
    "        ori = Real3(0.5*H,0,0)\n",
    "        unit0 = Real3(0,0,L)\n",
    "        unit1 = Real3(0,L,0)        \n",
    "        w = spatiocyte.SpatiocyteWorld(Real3(H,L,L),voxelr,rng)\n",
    "        lx,ly,lz=w.actual_lengths()\n",
    "        Area= ly*lz\n",
    "\n",
    "        with species_attributes():\n",
    "            B |  {'D': str(D), 'radius':str(voxelr),'location':'M'}\n",
    "            A |  {'D': str(D), 'radius':str(voxelr)}\n",
    "\n",
    "        with reaction_rules():#for spa and egfrd\n",
    "            A + M > B | ka\n",
    "\n",
    "        m2 = get_model()\n",
    "        w.bind_to(m2)\n",
    "        w.add_structure(Species('M'),PlanarSurface(ori,unit0,unit1))\n",
    "        w.add_molecules(Species('A'), NA)\n",
    "        sim = spatiocyte.SpatiocyteSimulator(w)\n",
    "        sim.initialize()\n",
    "        obs = NumberObserver(('A','B'))\n",
    "        #obs=FixedIntervalNumberObserver(td,'A')\n",
    "        #sim.run(duration)\n",
    "        sim.run(duration,obs)        \n",
    "        #print('ka',ka,'evaluated ka',res*Area/sim.dt()/NA/NB)        \n",
    "        #obs=[0]\n",
    "        tlogs,nalog,nblog=np.array(obs.data()).T\n",
    "        return tlogs,nalog,nblog\n",
    "    job.update({'run':task_id})\n",
    "    out=singlerun(**job)\n",
    "    return out\n",
    "\n",
    "NA=500\n",
    "L=1\n",
    "ka = 1\n",
    "dur=2\n",
    "\n",
    "simrun=1\n",
    "\n",
    "jobs=[{'ka':ka,'L':L,'NA':NA,'duration':dur}]\n",
    "res=ensemble.run_multiprocessing(wrap,jobs,n=simrun,nproc=60,modules=('numpy','ecell4','math'))[0]\n",
    "print('finish') \n"
   ]
  },
  {
   "cell_type": "code",
   "execution_count": 5,
   "metadata": {},
   "outputs": [
    {
     "data": {
      "text/plain": [
       "[<matplotlib.lines.Line2D at 0x7f2e7cee1e80>]"
      ]
     },
     "execution_count": 5,
     "metadata": {},
     "output_type": "execute_result"
    },
    {
     "data": {
      "image/png": "[encoded data removed]",
      "text/plain": [
       "<Figure size 432x288 with 1 Axes>"
      ]
     },
     "metadata": {},
     "output_type": "display_data"
    }
   ],
   "source": [
    "plt.semilogx(res[0][0],res[0][1]/NA)\n",
    "plt.semilogx(res[0][0],res[0][2]/NA)\n",
    "plt.semilogx(res[0][0],(res[0][1]+res[0][2])/NA)"
   ]
  },
  {
   "cell_type": "code",
   "execution_count": 9,
   "metadata": {},
   "outputs": [
    {
     "name": "stdout",
     "output_type": "stream",
     "text": [
      "phil=0.10986757295206843%\n",
      "c0 10.463578376387469\n"
     ]
    }
   ],
   "source": [
    "voxelr=0.005\n",
    "H = 3*voxelr*2\n",
    "w = spatiocyte.SpatiocyteWorld(Real3(H,L,L),voxelr)\n",
    "size=tuple(w.calculate_shape(Real3(H,L,L),voxelr))\n",
    "Nmv=size[1]*size[2]    \n",
    "print('phil={}%'.format(N*100/Nmv))\n",
    "Area=Nmv*(2*voxelr)**2\n",
    "c0=NB/Area\n",
    "print('c0',c0)"
   ]
  },
  {
   "cell_type": "code",
   "execution_count": 10,
   "metadata": {},
   "outputs": [
    {
     "data": {
      "text/plain": [
       "(0.6283185307179586, 0.6283185307179586)"
      ]
     },
     "execution_count": 10,
     "metadata": {},
     "output_type": "execute_result"
    }
   ],
   "source": [
    "c0=10.4636\n",
    "kf=0.1\n",
    "ka=kf*2*pi*1\n",
    "K=1\n",
    "kd=ka/K\n",
    "sinf=kd/(kd+c0*ka)\n",
    "ka,kd"
   ]
  },
  {
   "cell_type": "code",
   "execution_count": 54,
   "metadata": {},
   "outputs": [
    {
     "data": {
      "text/plain": [
       "2.5e-05"
      ]
     },
     "execution_count": 54,
     "metadata": {},
     "output_type": "execute_result"
    }
   ],
   "source": [
    "(2*voxelr)**2/(4*1)"
   ]
  },
  {
   "cell_type": "code",
   "execution_count": 56,
   "metadata": {},
   "outputs": [
    {
     "data": {
      "text/plain": [
       "0.25"
      ]
     },
     "execution_count": 56,
     "metadata": {},
     "output_type": "execute_result"
    }
   ],
   "source": [
    "1.25/5"
   ]
  },
  {
   "cell_type": "code",
   "execution_count": null,
   "metadata": {},
   "outputs": [],
   "source": []
  }
 ],
 "metadata": {
  "kernelspec": {
   "display_name": "Python 3",
   "language": "python",
   "name": "python3"
  },
  "language_info": {
   "codemirror_mode": {
    "name": "ipython",
    "version": 3
   },
   "file_extension": ".py",
   "mimetype": "text/x-python",
   "name": "python",
   "nbconvert_exporter": "python",
   "pygments_lexer": "ipython3",
   "version": "3.5.2"
  }
 },
 "nbformat": 4,
 "nbformat_minor": 2
}
