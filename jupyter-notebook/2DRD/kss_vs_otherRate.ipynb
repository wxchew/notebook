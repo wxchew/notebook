{
 "cells": [
  {
   "cell_type": "code",
   "execution_count": 1,
   "metadata": {},
   "outputs": [],
   "source": [
    "import numpy as np\n",
    "import matplotlib.pyplot as plt\n",
    "from numpy import log,pi,sqrt\n",
    "%matplotlib inline"
   ]
  },
  {
   "cell_type": "code",
   "execution_count": 2,
   "metadata": {},
   "outputs": [],
   "source": [
    "g=0.577\n",
    "R=0.01\n",
    "D=1\n",
    "def f1(R,c,kf): \n",
    "    ka=kf*D\n",
    "    return 1./(1./ka+(log(2)-2*g-log(pi*R*R*c))/(4*pi*D))\n",
    "def f2(R,c,kf):\n",
    "    ka=kf*D\n",
    "    b=2*sqrt(1./pi/c+R*R)\n",
    "    return 1./(1./ka+(4*log(b/R)/(1-(R/b)**2)**2-2./(1-(R/b)**2)-1)/(8*pi*D))"
   ]
  },
  {
   "cell_type": "code",
   "execution_count": null,
   "metadata": {},
   "outputs": [],
   "source": [
    "kfs=np.logspace(-2,2,10)\n",
    "for c in [0.01,1,100]:\n",
    "    plt.plot(kfs,f1(R,c,kfs),'-')\n",
    "    plt.plot(kfs,f2(R,c,kfs),'--')\n",
    "plt.xscale('log')\n",
    "plt.xlabel('kf')"
   ]
  },
  {
   "cell_type": "code",
   "execution_count": 5,
   "metadata": {},
   "outputs": [
    {
     "data": {
      "text/plain": [
       "1.0469953012385262"
      ]
     },
     "execution_count": 5,
     "metadata": {},
     "output_type": "execute_result"
    }
   ],
   "source": [
    "A=1./pi\n",
    "B=8\n",
    "np.exp(g-1./2/A+np.log(B)/2)"
   ]
  },
  {
   "cell_type": "code",
   "execution_count": null,
   "metadata": {},
   "outputs": [],
   "source": []
  }
 ],
 "metadata": {
  "kernelspec": {
   "display_name": "Python 3",
   "language": "python",
   "name": "python3"
  },
  "language_info": {
   "codemirror_mode": {
    "name": "ipython",
    "version": 3
   },
   "file_extension": ".py",
   "mimetype": "text/x-python",
   "name": "python",
   "nbconvert_exporter": "python",
   "pygments_lexer": "ipython3",
   "version": "3.6.5"
  }
 },
 "nbformat": 4,
 "nbformat_minor": 2
}
