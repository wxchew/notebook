{
 "cells": [
  {
   "cell_type": "code",
   "execution_count": 4,
   "metadata": {},
   "outputs": [],
   "source": [
    "from ecell4 import *\n",
    "%matplotlib inline\n",
    "import numpy as np\n",
    "import math\n",
    "import sys\n",
    "from math import sqrt\n",
    "import matplotlib.pyplot as plt\n",
    "from ecell4.extra import ensemble\n",
    "import numpy as np\n",
    "from math import pi"
   ]
  },
  {
   "cell_type": "code",
   "execution_count": 5,
   "metadata": {
    "scrolled": true
   },
   "outputs": [
    {
     "name": "stderr",
     "output_type": "stream",
     "text": [
      "DEBUG:sge:Submitted batch job 1225444\n",
      "DEBUG:sge:             JOBID PARTITION     NAME     USER ST       TIME  NODES NODELIST(REASON)\n",
      "DEBUG:sge:   1225444_[1%350]      defq sge-tgcv     chew PD       0:00      1 (None)\n",
      "DEBUG:sge:\n",
      "INFO:sge:Job 1225444 must be queued, running or being transferred\n"
     ]
    },
    {
     "name": "stdout",
     "output_type": "stream",
     "text": [
      "25 500 525 6.421324129676528\n"
     ]
    },
    {
     "name": "stderr",
     "output_type": "stream",
     "text": [
      "INFO:sge:Waiting for jobids [1225444] to finish\n",
      "DEBUG:sge:             JOBID PARTITION     NAME     USER ST       TIME  NODES NODELIST(REASON)\n",
      "DEBUG:sge:         1225444_1      defq sge-tgcv     chew  R       0:10      1 ibc01\n",
      "DEBUG:sge:\n",
      "INFO:sge:Job 1225444 must be queued, running or being transferred\n",
      "INFO:sge:Waiting for jobids [1225444] to finish\n",
      "DEBUG:sge:             JOBID PARTITION     NAME     USER ST       TIME  NODES NODELIST(REASON)\n",
      "DEBUG:sge:         1225444_1      defq sge-tgcv     chew  R       0:20      1 ibc01\n",
      "DEBUG:sge:\n",
      "INFO:sge:Job 1225444 must be queued, running or being transferred\n",
      "INFO:sge:Waiting for jobids [1225444] to finish\n",
      "DEBUG:sge:             JOBID PARTITION     NAME     USER ST       TIME  NODES NODELIST(REASON)\n",
      "DEBUG:sge:         1225444_1      defq sge-tgcv     chew  R       0:30      1 ibc01\n",
      "DEBUG:sge:\n",
      "INFO:sge:Job 1225444 must be queued, running or being transferred\n",
      "INFO:sge:Waiting for jobids [1225444] to finish\n",
      "DEBUG:sge:             JOBID PARTITION     NAME     USER ST       TIME  NODES NODELIST(REASON)\n",
      "DEBUG:sge:         1225444_1      defq sge-tgcv     chew  R       0:40      1 ibc01\n",
      "DEBUG:sge:\n",
      "INFO:sge:Job 1225444 must be queued, running or being transferred\n",
      "INFO:sge:Waiting for jobids [1225444] to finish\n",
      "DEBUG:sge:             JOBID PARTITION     NAME     USER ST       TIME  NODES NODELIST(REASON)\n",
      "DEBUG:sge:         1225444_1      defq sge-tgcv     chew  R       0:50      1 ibc01\n",
      "DEBUG:sge:\n",
      "INFO:sge:Job 1225444 must be queued, running or being transferred\n",
      "INFO:sge:Waiting for jobids [1225444] to finish\n",
      "DEBUG:sge:             JOBID PARTITION     NAME     USER ST       TIME  NODES NODELIST(REASON)\n",
      "DEBUG:sge:\n",
      "DEBUG:sge:Submitted batch job 1225445\n",
      "DEBUG:sge:             JOBID PARTITION     NAME     USER ST       TIME  NODES NODELIST(REASON)\n",
      "DEBUG:sge:   1225445_[1%350]      defq sge-3rdh     chew PD       0:00      1 (None)\n",
      "DEBUG:sge:\n",
      "INFO:sge:Job 1225445 must be queued, running or being transferred\n",
      "INFO:sge:Waiting for jobids [1225445] to finish\n",
      "DEBUG:sge:             JOBID PARTITION     NAME     USER ST       TIME  NODES NODELIST(REASON)\n",
      "DEBUG:sge:         1225445_1      defq sge-3rdh     chew  R       0:10      1 ibc01\n",
      "DEBUG:sge:\n",
      "INFO:sge:Job 1225445 must be queued, running or being transferred\n",
      "INFO:sge:Waiting for jobids [1225445] to finish\n",
      "DEBUG:sge:             JOBID PARTITION     NAME     USER ST       TIME  NODES NODELIST(REASON)\n",
      "DEBUG:sge:         1225445_1      defq sge-3rdh     chew  R       0:20      1 ibc01\n",
      "DEBUG:sge:\n",
      "INFO:sge:Job 1225445 must be queued, running or being transferred\n",
      "DEBUG:sge:b''\n"
     ]
    },
    {
     "ename": "KeyboardInterrupt",
     "evalue": "",
     "output_type": "error",
     "traceback": [
      "\u001b[0;31m---------------------------------------------------------------------------\u001b[0m",
      "\u001b[0;31mKeyboardInterrupt\u001b[0m                         Traceback (most recent call last)",
      "\u001b[0;32m<ipython-input-5-f1b213cc1bbe>\u001b[0m in \u001b[0;36m<module>\u001b[0;34m()\u001b[0m\n\u001b[1;32m     78\u001b[0m     \u001b[0;32mfor\u001b[0m \u001b[0mkf\u001b[0m \u001b[0;32min\u001b[0m \u001b[0;34m[\u001b[0m\u001b[0;36m0.1\u001b[0m\u001b[0;34m,\u001b[0m\u001b[0;36m10\u001b[0m\u001b[0;34m]\u001b[0m\u001b[0;34m:\u001b[0m\u001b[0;31m#,500]:#,10]:\u001b[0m\u001b[0;34m\u001b[0m\u001b[0m\n\u001b[1;32m     79\u001b[0m         \u001b[0mjobs\u001b[0m\u001b[0;34m=\u001b[0m\u001b[0;34m[\u001b[0m\u001b[0;34m{\u001b[0m\u001b[0;34m'durfac'\u001b[0m\u001b[0;34m:\u001b[0m\u001b[0mdurfac\u001b[0m\u001b[0;34m,\u001b[0m\u001b[0;34m'L'\u001b[0m\u001b[0;34m:\u001b[0m\u001b[0mL\u001b[0m\u001b[0;34m,\u001b[0m\u001b[0;34m'kf'\u001b[0m\u001b[0;34m:\u001b[0m\u001b[0mkf\u001b[0m\u001b[0;34m,\u001b[0m\u001b[0;34m'K'\u001b[0m\u001b[0;34m:\u001b[0m\u001b[0mK\u001b[0m\u001b[0;34m,\u001b[0m\u001b[0;34m'correct'\u001b[0m\u001b[0;34m:\u001b[0m\u001b[0mprobdef\u001b[0m\u001b[0;34m,\u001b[0m\u001b[0;34m'NA'\u001b[0m\u001b[0;34m:\u001b[0m\u001b[0mNA\u001b[0m\u001b[0;34m,\u001b[0m\u001b[0;34m'NB'\u001b[0m\u001b[0;34m:\u001b[0m\u001b[0mNB\u001b[0m\u001b[0;34m}\u001b[0m\u001b[0;34m]\u001b[0m\u001b[0;34m\u001b[0m\u001b[0m\n\u001b[0;32m---> 80\u001b[0;31m         \u001b[0mres\u001b[0m\u001b[0;34m=\u001b[0m\u001b[0mensemble\u001b[0m\u001b[0;34m.\u001b[0m\u001b[0mrun_slurm\u001b[0m\u001b[0;34m(\u001b[0m\u001b[0mwrap\u001b[0m\u001b[0;34m,\u001b[0m\u001b[0mjobs\u001b[0m\u001b[0;34m,\u001b[0m\u001b[0mn\u001b[0m\u001b[0;34m=\u001b[0m\u001b[0msimrun\u001b[0m\u001b[0;34m,\u001b[0m\u001b[0mnproc\u001b[0m\u001b[0;34m=\u001b[0m\u001b[0;36m350\u001b[0m\u001b[0;34m,\u001b[0m\u001b[0mpath\u001b[0m\u001b[0;34m=\u001b[0m\u001b[0;34m'tmp'\u001b[0m\u001b[0;34m,\u001b[0m\u001b[0mmodules\u001b[0m\u001b[0;34m=\u001b[0m\u001b[0;34m(\u001b[0m\u001b[0;34m'numpy'\u001b[0m\u001b[0;34m,\u001b[0m\u001b[0;34m'ecell4'\u001b[0m\u001b[0;34m,\u001b[0m\u001b[0;34m'math'\u001b[0m\u001b[0;34m)\u001b[0m\u001b[0;34m)\u001b[0m\u001b[0;34m[\u001b[0m\u001b[0;36m0\u001b[0m\u001b[0;34m]\u001b[0m\u001b[0;34m\u001b[0m\u001b[0m\n\u001b[0m\u001b[1;32m     81\u001b[0m         \u001b[0;31m#res=ensemble.run_multiprocessing(wrap,jobs,n=simrun,nproc=60,modules=('numpy','ecell4','math'))[0]\u001b[0m\u001b[0;34m\u001b[0m\u001b[0;34m\u001b[0m\u001b[0m\n\u001b[1;32m     82\u001b[0m \u001b[0mprint\u001b[0m\u001b[0;34m(\u001b[0m\u001b[0;34m'finish'\u001b[0m\u001b[0;34m)\u001b[0m\u001b[0;34m\u001b[0m\u001b[0m\n",
      "\u001b[0;32m~/ecell4/build/local/lib/python3.5/site-packages/ecell-4.1.2-py3.5-linux-x86_64.egg/ecell4/extra/ensemble.py\u001b[0m in \u001b[0;36mrun_slurm\u001b[0;34m(target, jobs, n, nproc, path, delete, wait, environ, modules, **kwargs)\u001b[0m\n\u001b[1;32m    259\u001b[0m \u001b[0;34m\u001b[0m\u001b[0m\n\u001b[1;32m    260\u001b[0m     \u001b[0;31m#XXX: nproc only limits the maximum count for 'each' job, but not for the whole jobs.\u001b[0m\u001b[0;34m\u001b[0m\u001b[0;34m\u001b[0m\u001b[0m\n\u001b[0;32m--> 261\u001b[0;31m     \u001b[0mjobids\u001b[0m \u001b[0;34m=\u001b[0m \u001b[0mslurm\u001b[0m\u001b[0;34m.\u001b[0m\u001b[0mrun\u001b[0m\u001b[0;34m(\u001b[0m\u001b[0mcmds\u001b[0m\u001b[0;34m,\u001b[0m \u001b[0mn\u001b[0m\u001b[0;34m=\u001b[0m\u001b[0mn\u001b[0m\u001b[0;34m,\u001b[0m \u001b[0mpath\u001b[0m\u001b[0;34m=\u001b[0m\u001b[0mpath\u001b[0m\u001b[0;34m,\u001b[0m \u001b[0mdelete\u001b[0m\u001b[0;34m=\u001b[0m\u001b[0mdelete\u001b[0m\u001b[0;34m,\u001b[0m \u001b[0msync\u001b[0m\u001b[0;34m=\u001b[0m\u001b[0msync\u001b[0m\u001b[0;34m,\u001b[0m \u001b[0mmax_running_tasks\u001b[0m\u001b[0;34m=\u001b[0m\u001b[0mnproc\u001b[0m\u001b[0;34m,\u001b[0m \u001b[0;34m**\u001b[0m\u001b[0mkwargs\u001b[0m\u001b[0;34m)\u001b[0m\u001b[0;34m\u001b[0m\u001b[0m\n\u001b[0m\u001b[1;32m    262\u001b[0m \u001b[0;34m\u001b[0m\u001b[0m\n\u001b[1;32m    263\u001b[0m     \u001b[0;32mif\u001b[0m \u001b[0;32mnot\u001b[0m \u001b[0;34m(\u001b[0m\u001b[0msync\u001b[0m \u001b[0;34m>\u001b[0m \u001b[0;36m0\u001b[0m\u001b[0;34m)\u001b[0m\u001b[0;34m:\u001b[0m\u001b[0;34m\u001b[0m\u001b[0m\n",
      "\u001b[0;32m~/ecell4/build/local/lib/python3.5/site-packages/ecell-4.1.2-py3.5-linux-x86_64.egg/ecell4/extra/slurm.py\u001b[0m in \u001b[0;36mrun\u001b[0;34m(jobs, n, path, sync, delete, extra_args, max_running_tasks)\u001b[0m\n\u001b[1;32m     29\u001b[0m     \u001b[0;32mif\u001b[0m \u001b[0msync\u001b[0m \u001b[0;34m>\u001b[0m \u001b[0;36m0\u001b[0m\u001b[0;34m:\u001b[0m\u001b[0;34m\u001b[0m\u001b[0m\n\u001b[1;32m     30\u001b[0m         \u001b[0;32mtry\u001b[0m\u001b[0;34m:\u001b[0m\u001b[0;34m\u001b[0m\u001b[0m\n\u001b[0;32m---> 31\u001b[0;31m             \u001b[0mwait\u001b[0m\u001b[0;34m(\u001b[0m\u001b[0;34m[\u001b[0m\u001b[0mjobid\u001b[0m \u001b[0;32mfor\u001b[0m \u001b[0mjobid\u001b[0m\u001b[0;34m,\u001b[0m \u001b[0mname\u001b[0m\u001b[0;34m,\u001b[0m \u001b[0mfilename\u001b[0m \u001b[0;32min\u001b[0m \u001b[0mretval\u001b[0m\u001b[0;34m]\u001b[0m\u001b[0;34m,\u001b[0m \u001b[0msync\u001b[0m\u001b[0;34m)\u001b[0m\u001b[0;34m\u001b[0m\u001b[0m\n\u001b[0m\u001b[1;32m     32\u001b[0m         \u001b[0;32mfinally\u001b[0m\u001b[0;34m:\u001b[0m\u001b[0;34m\u001b[0m\u001b[0m\n\u001b[1;32m     33\u001b[0m             \u001b[0;32mif\u001b[0m \u001b[0mdelete\u001b[0m\u001b[0;34m:\u001b[0m\u001b[0;34m\u001b[0m\u001b[0m\n",
      "\u001b[0;32m~/ecell4/build/local/lib/python3.5/site-packages/ecell-4.1.2-py3.5-linux-x86_64.egg/ecell4/extra/slurm.py\u001b[0m in \u001b[0;36mwait\u001b[0;34m(jobids, interval)\u001b[0m\n\u001b[1;32m    185\u001b[0m \u001b[0;34m\u001b[0m\u001b[0m\n\u001b[1;32m    186\u001b[0m             \u001b[0;32mif\u001b[0m \u001b[0mdowait\u001b[0m\u001b[0;34m:\u001b[0m\u001b[0;34m\u001b[0m\u001b[0m\n\u001b[0;32m--> 187\u001b[0;31m                 \u001b[0mtime\u001b[0m\u001b[0;34m.\u001b[0m\u001b[0msleep\u001b[0m\u001b[0;34m(\u001b[0m\u001b[0minterval\u001b[0m\u001b[0;34m)\u001b[0m\u001b[0;34m\u001b[0m\u001b[0m\n\u001b[0m\u001b[1;32m    188\u001b[0m                 get_logger().info(\n\u001b[1;32m    189\u001b[0m                     \"Waiting for jobids {:s} to finish\".format(str(jobids)))\n",
      "\u001b[0;31mKeyboardInterrupt\u001b[0m: "
     ]
    }
   ],
   "source": [
    "def wrap(job,job_id,task_id):\n",
    "    def singlerun(kf,K,correct,NA,NB,L,run,durfac):\n",
    "        import numpy as np\n",
    "        rng = GSLRandomNumberGenerator()\n",
    "        rng.seed(run)\n",
    "        rm = 0.005\n",
    "        factor = (2 * sqrt(2.0) + 4 * sqrt(3.0) + 3 * sqrt(6.0) + sqrt(22.0))**2/(72 * (6 * sqrt(2.0) + 4 * sqrt(3.0) + 3 * sqrt(6.0)))\n",
    "        R=2*rm\n",
    "        voxelr=rm\n",
    "        D = 1.\n",
    "        ka=kf*2*pi*D\n",
    "        gamma=0.577\n",
    "        td =(2*voxelr)**2/(4*D)\n",
    "        duration=2#td*10**durfac\n",
    "        H = 3*voxelr*2\n",
    "        kd=ka/K        \n",
    "        if correct==True:\n",
    "            PP=1./(1+math.sqrt(3)*(math.log(1./12)+(4*math.pi*D/ka)-2*gamma)/2/math.pi)\n",
    "            ka = PP*D/factor\n",
    "        ori = Real3(0.5*H,0,0)\n",
    "        unit0 = Real3(0,0,L)\n",
    "        unit1 = Real3(0,L,0)        \n",
    "        w = spatiocyte.SpatiocyteWorld(Real3(H,L,L),voxelr,rng)\n",
    "        #size=tuple(w.calculate_shape(Real3(H,L,L),voxelr))\n",
    "        #Nmv=size[1]*size[2]    \n",
    "        #print('phil=',N/Nmv)\n",
    "        lx,ly,lz=w.actual_lengths()\n",
    "        Area= ly*lz\n",
    "        #Area=Nmv*(2*voxelr)**2\n",
    "        c0=NB/Area\n",
    "        sinf=kd/(kd+c0*ka)\n",
    "        #print(ka,kd)\n",
    "        with species_attributes():\n",
    "            A |  {'D': str(0), 'radius':str(voxelr),'location':'X'}\n",
    "            B |  {'D': str(D), 'radius':str(voxelr),'location':'X'}\n",
    "            C |  {'D': str(0), 'radius':str(voxelr),'location':'X'}\n",
    "\n",
    "        with reaction_rules():#for spa and egfrd\n",
    "            A + B == C | (ka,kd)\n",
    "\n",
    "        m2 = get_model()\n",
    "        w.bind_to(m2)\n",
    "        w.add_structure(Species('X'),PlanarSurface(ori,unit0,unit1))\n",
    "        w.add_molecules(Species('A'), NA)\n",
    "        w.add_molecules(Species('B'), NB)\n",
    "        sim = spatiocyte.SpatiocyteSimulator(w)\n",
    "        sim.initialize()\n",
    "        obs=FixedIntervalNumberObserver(td,'A')\n",
    "        sim.run(duration,obs)\n",
    "        out=np.array(obs.data()).T\n",
    "        if correct==True:\n",
    "            #name = '/home/chew/outputdata/2DRD/newP/kfac'+str(kaf)+'/run'+str(run)\n",
    "            name = '/home/chew/outputdata/2DRD/newP/kf'+str(kf)+'K'+str(K)+'/run'+str(run)\n",
    "        else:\n",
    "            #name = '/home/chew/outputdata/2DRD/oriP/kfac'+str(kaf)+'/run'+str(run)\n",
    "            name = '/home/chew/outputdata/2DRD/oriP/kf'+str(kf)+'K'+str(K)+'/run'+str(run)\n",
    "        #filename=open(name,'w')\n",
    "        #np.savetxt(name,np.column_stack((out[0],out[1])),delimiter=',',fmt='%s')\n",
    "        #filename.close()          \n",
    "        return \n",
    "    job.update({'run':task_id})\n",
    "    out=singlerun(**job)\n",
    "    return \n",
    "\n",
    "NB=500\n",
    "NA=int(0.05*NB)\n",
    "N=NA+NB\n",
    "rm = 0.005\n",
    "phi=0.1/100\n",
    "L=rm*sqrt(N*pi/phi)\n",
    "print(NA,NB,N,L)\n",
    "assert(NA>1)\n",
    "K=1#ka/kd\n",
    "durfac=1#4.5\n",
    "simrun=1#300#000\n",
    "\n",
    "for probdef in [True]:#,False]:#, True]:\n",
    "    for kf in [0.1,10]:#,500]:#,10]:\n",
    "        jobs=[{'durfac':durfac,'L':L,'kf':kf,'K':K,'correct':probdef,'NA':NA,'NB':NB}]\n",
    "        res=ensemble.run_slurm(wrap,jobs,n=simrun,nproc=350,path='tmp',modules=('numpy','ecell4','math'))[0]\n",
    "        #res=ensemble.run_multiprocessing(wrap,jobs,n=simrun,nproc=60,modules=('numpy','ecell4','math'))[0]\n",
    "print('finish') "
   ]
  },
  {
   "cell_type": "code",
   "execution_count": 3,
   "metadata": {},
   "outputs": [
    {
     "ename": "NameError",
     "evalue": "name 'plt' is not defined",
     "output_type": "error",
     "traceback": [
      "\u001b[0;31m---------------------------------------------------------------------------\u001b[0m",
      "\u001b[0;31mNameError\u001b[0m                                 Traceback (most recent call last)",
      "\u001b[0;32m<ipython-input-3-162329c70d59>\u001b[0m in \u001b[0;36m<module>\u001b[0;34m()\u001b[0m\n\u001b[0;32m----> 1\u001b[0;31m \u001b[0mplt\u001b[0m\u001b[0;34m.\u001b[0m\u001b[0msemilogx\u001b[0m\u001b[0;34m(\u001b[0m\u001b[0mres\u001b[0m\u001b[0;34m[\u001b[0m\u001b[0;36m0\u001b[0m\u001b[0;34m]\u001b[0m\u001b[0;34m[\u001b[0m\u001b[0;36m0\u001b[0m\u001b[0;34m]\u001b[0m\u001b[0;34m,\u001b[0m\u001b[0mres\u001b[0m\u001b[0;34m[\u001b[0m\u001b[0;36m0\u001b[0m\u001b[0;34m]\u001b[0m\u001b[0;34m[\u001b[0m\u001b[0;36m1\u001b[0m\u001b[0;34m]\u001b[0m\u001b[0;34m/\u001b[0m\u001b[0mNA\u001b[0m\u001b[0;34m)\u001b[0m\u001b[0;34m\u001b[0m\u001b[0m\n\u001b[0m",
      "\u001b[0;31mNameError\u001b[0m: name 'plt' is not defined"
     ]
    }
   ],
   "source": [
    "plt.semilogx(res[0][0],res[0][1]/NA)\n"
   ]
  },
  {
   "cell_type": "code",
   "execution_count": 9,
   "metadata": {},
   "outputs": [
    {
     "name": "stdout",
     "output_type": "stream",
     "text": [
      "phil=0.10986757295206843%\n",
      "c0 10.463578376387469\n"
     ]
    }
   ],
   "source": [
    "voxelr=0.005\n",
    "H = 3*voxelr*2\n",
    "w = spatiocyte.SpatiocyteWorld(Real3(H,L,L),voxelr)\n",
    "size=tuple(w.calculate_shape(Real3(H,L,L),voxelr))\n",
    "Nmv=size[1]*size[2]    \n",
    "print('phil={}%'.format(N*100/Nmv))\n",
    "Area=Nmv*(2*voxelr)**2\n",
    "c0=NB/Area\n",
    "print('c0',c0)"
   ]
  },
  {
   "cell_type": "code",
   "execution_count": 10,
   "metadata": {},
   "outputs": [
    {
     "data": {
      "text/plain": [
       "(0.6283185307179586, 0.6283185307179586)"
      ]
     },
     "execution_count": 10,
     "metadata": {},
     "output_type": "execute_result"
    }
   ],
   "source": [
    "c0=10.4636\n",
    "kf=0.1\n",
    "ka=kf*2*pi*1\n",
    "K=1\n",
    "kd=ka/K\n",
    "sinf=kd/(kd+c0*ka)\n",
    "ka,kd"
   ]
  },
  {
   "cell_type": "code",
   "execution_count": 54,
   "metadata": {},
   "outputs": [
    {
     "data": {
      "text/plain": [
       "2.5e-05"
      ]
     },
     "execution_count": 54,
     "metadata": {},
     "output_type": "execute_result"
    }
   ],
   "source": [
    "(2*voxelr)**2/(4*1)"
   ]
  },
  {
   "cell_type": "code",
   "execution_count": 56,
   "metadata": {},
   "outputs": [
    {
     "data": {
      "text/plain": [
       "0.25"
      ]
     },
     "execution_count": 56,
     "metadata": {},
     "output_type": "execute_result"
    }
   ],
   "source": [
    "1.25/5"
   ]
  },
  {
   "cell_type": "code",
   "execution_count": null,
   "metadata": {},
   "outputs": [],
   "source": []
  }
 ],
 "metadata": {
  "kernelspec": {
   "display_name": "Python 3",
   "language": "python",
   "name": "python3"
  },
  "language_info": {
   "codemirror_mode": {
    "name": "ipython",
    "version": 3
   },
   "file_extension": ".py",
   "mimetype": "text/x-python",
   "name": "python",
   "nbconvert_exporter": "python",
   "pygments_lexer": "ipython3",
   "version": "3.5.2"
  }
 },
 "nbformat": 4,
 "nbformat_minor": 2
}
