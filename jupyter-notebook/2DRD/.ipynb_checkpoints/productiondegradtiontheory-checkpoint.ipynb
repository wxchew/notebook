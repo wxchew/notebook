{
 "cells": [
  {
   "cell_type": "code",
   "execution_count": 1,
   "metadata": {},
   "outputs": [],
   "source": [
    "%matplotlib inline\n",
    "import numpy as np\n",
    "import math\n",
    "from scipy import special,integrate\n",
    "import matplotlib.pyplot as plt\n",
    "from mpmath import *\n",
    "#myTalbot = calculus.inverselaplace.FixedTalbot(mp)\n",
    "#myStehfest = calculus.inverselaplace.Stehfest(mp)\n",
    "mydehoog = calculus.inverselaplace.deHoog(mp)"
   ]
  },
  {
   "cell_type": "code",
   "execution_count": 10,
   "metadata": {},
   "outputs": [
    {
     "name": "stdout",
     "output_type": "stream",
     "text": [
      "[0.02513274122871835, 1.2566370614359172]\n"
     ]
    }
   ],
   "source": [
    "D=1.\n",
    "R=0.01\n",
    "C=R/D**0.5\n",
    "kd = 4*np.pi*R*D\n",
    "gamma=0.5772156\n",
    "tm = R*R/D/4\n",
    "kas = [kd*f for f in [0.2,10]]\n",
    "print(kas)"
   ]
  },
  {
   "cell_type": "code",
   "execution_count": 9,
   "metadata": {
    "scrolled": true
   },
   "outputs": [
    {
     "name": "stdout",
     "output_type": "stream",
     "text": [
      "0.02513274122871835 rel error of approximation at tm*100 -0.007546114934036662\n",
      "1.2566370614359172 rel error of approximation at tm*100 -0.1420181754768976\n"
     ]
    },
    {
     "data": {
      "text/plain": [
       "<matplotlib.legend.Legend at 0x7fa9280f0ef0>"
      ]
     },
     "execution_count": 9,
     "metadata": {},
     "output_type": "execute_result"
    },
    {
     "data": {
      "image/png": "[encoded data removed]",
      "text/plain": [
       "<matplotlib.figure.Figure at 0x7fa927ff0b70>"
      ]
     },
     "metadata": {},
     "output_type": "display_data"
    }
   ],
   "source": [
    "#inverse laplace transform of k(z) with absorbing b.c. and radiative b.c\n",
    "mp.dps=10\n",
    "mp.pretty=True\n",
    "tt=np.logspace(-8,8,20)\n",
    "#laplace domain form\n",
    "kz = lambda z: 2*np.pi*D*complex(z)**0.5*C*special.kv(1,C*(complex(z)**0.5))/complex(z)/special.kv(0,C*(complex(z)**0.5))\n",
    "kzck = lambda z: ka/(complex(z)+ka/kz(z))\n",
    "\n",
    "def invlt(fp,t):    \n",
    "    t = convert(t)\n",
    "    #print t\n",
    "    mydehoog.calc_laplace_parameter(t)\n",
    "    fpvec = [fp(p) for p in mydehoog.p]\n",
    "    ft =(float(mydehoog.calc_time_domain_solution(fpvec,t,manual_prec=False)))\n",
    "    return ft\n",
    "\n",
    "kta = [invlt(kz,t) for t in tt]\n",
    "#plt.loglog(tt/tm,kta,'o',label='ka infinity')\n",
    "#print kta\n",
    "\n",
    "for ka in kas:\n",
    "    ktck = [invlt(kzck,t) for t in tt]\n",
    "    plt.loglog(tt/tm,ktck,'.',label='ka '+str(ka))\n",
    "    tm100 = tt[tt>100*tm][0]    \n",
    "    lpt = invlt(kzck,tm100)\n",
    "    #print ka, ktck\n",
    "    #long time asymptotic from ritchie and sakukura/yogurtcu\n",
    "    ltck = lambda t:4*np.pi*D*(1./(np.log(4*D*t/R**2)-2*gamma+4*np.pi*D/ka)-gamma/(np.log(4*D*t/R**2)-2*gamma+4*np.pi*D/ka)**2\n",
    "                          -1.311/(np.log(4*D*t/R**2)-2*gamma+4*np.pi*D/ka)**3+0.25/(np.log(4*D*t/R**2)-2*gamma+4*np.pi*D/ka)**4)\n",
    "    plt.plot(tt[tt>tm*100]/tm,[ltck(t) for t in tt[tt>tm*100]],'-',label='asymp r.b.c')      \n",
    "    lpa = ltck(tm100)\n",
    "    print(ka,'rel error of approximation at tm*100',(lpt-lpa)*100/lpt)\n",
    "    \n",
    "    \n",
    "    \n",
    "lt = lambda t:2*np.pi*D*(2./(np.log(4*np.exp(-2*gamma)*D*t/R**2))-2*gamma/(np.log(4*np.exp(-2*gamma)*D*t/R**2))**2)\n",
    "#plt.plot(tt[tt>tm*100]/tm,[lt(t) for t in tt[tt>tm*100]],'-',label='asymp a.b.c')    \n",
    "plt.legend(loc='best',fontsize=8)\n",
    "#plt.xlim(10,1e11)\n",
    "#plt.ylim(1e-3,1e-1)"
   ]
  },
  {
   "cell_type": "code",
   "execution_count": 32,
   "metadata": {},
   "outputs": [
    {
     "name": "stdout",
     "output_type": "stream",
     "text": [
      "4e+12\n",
      "5.06979900258e-06\n",
      "-0.0457810094479\n"
     ]
    }
   ],
   "source": [
    "print tt[-1]/tm\n",
    "print (invlt(kzck,tt[-1])-ltck(tt[-1]))/invlt(kzck,tt[-1])\n",
    "print (invlt(kzck,tt[-1])-lt(tt[-1]))/invlt(kzck,tt[-1])"
   ]
  },
  {
   "cell_type": "code",
   "execution_count": 33,
   "metadata": {},
   "outputs": [
    {
     "name": "stdout",
     "output_type": "stream",
     "text": [
      "0.00556199395235\n",
      "-0.306091890978\n"
     ]
    }
   ],
   "source": [
    "tm100 = tt[tt>100*tm][0]\n",
    "print (invlt(kzck,tm100)-ltck(tm100))/invlt(kzck,tm100)\n",
    "print (invlt(kzck,tm100)-lt(tm100))/invlt(kzck,tm100)\n"
   ]
  },
  {
   "cell_type": "code",
   "execution_count": 36,
   "metadata": {},
   "outputs": [
    {
     "data": {
      "text/plain": [
       "[0.1,\n",
       " 1,\n",
       " 0.1,\n",
       " 1,\n",
       " 0.1,\n",
       " 1,\n",
       " 0.1,\n",
       " 1,\n",
       " 0.1,\n",
       " 1,\n",
       " 0.1,\n",
       " 1,\n",
       " 0.1,\n",
       " 1,\n",
       " 0.1,\n",
       " 1,\n",
       " 0.1,\n",
       " 1,\n",
       " 0.1,\n",
       " 1]"
      ]
     },
     "execution_count": 36,
     "metadata": {},
     "output_type": "execute_result"
    }
   ],
   "source": [
    "[0.1,1]*10"
   ]
  },
  {
   "cell_type": "code",
   "execution_count": 52,
   "metadata": {},
   "outputs": [
    {
     "name": "stdout",
     "output_type": "stream",
     "text": [
      "3.896553344263183\n"
     ]
    },
    {
     "data": {
      "text/plain": [
       "<matplotlib.legend.Legend at 0x7fb509f887f0>"
      ]
     },
     "execution_count": 52,
     "metadata": {},
     "output_type": "execute_result"
    },
    {
     "data": {
      "image/png": "[encoded data removed]",
      "text/plain": [
       "<matplotlib.figure.Figure at 0x7fb509fc3be0>"
      ]
     },
     "metadata": {},
     "output_type": "display_data"
    }
   ],
   "source": [
    "import math\n",
    "import numpy as np\n",
    "import matplotlib.pyplot as plt\n",
    "%matplotlib inline\n",
    "R=0.01\n",
    "k2=0.02\n",
    "D=0.2\n",
    "kd=4*math.pi*R*D\n",
    "ka=1./(1/k2-1./kd)\n",
    "print(ka/kd)\n",
    "for c in [0,0.1,1]:\n",
    "    f=np.logspace(-2,2,50)  \n",
    "    P=1./(1+1./f)\n",
    "    t1=np.sqrt(4*math.pi*R**3)\n",
    "    t2=np.sqrt(c*P**3)\n",
    "    ratio=1+t1*t2\n",
    "    perc=abs(ratio-1)*100\n",
    "    plt.semilogx(f,perc,'-',label='c='+str(c))\n",
    "plt.ylabel('(kss-kon)/kon, %')\n",
    "plt.xlabel('kfac')\n",
    "plt.legend()"
   ]
  },
  {
   "cell_type": "code",
   "execution_count": 26,
   "metadata": {},
   "outputs": [
    {
     "data": {
      "text/plain": [
       "0.0035449077018110324"
      ]
     },
     "execution_count": 26,
     "metadata": {},
     "output_type": "execute_result"
    }
   ],
   "source": [
    "math.sqrt(4*math.pi*R**3)"
   ]
  },
  {
   "cell_type": "code",
   "execution_count": null,
   "metadata": {},
   "outputs": [],
   "source": []
  }
 ],
 "metadata": {
  "kernelspec": {
   "display_name": "Python 3",
   "language": "python",
   "name": "python3"
  },
  "language_info": {
   "codemirror_mode": {
    "name": "ipython",
    "version": 3
   },
   "file_extension": ".py",
   "mimetype": "text/x-python",
   "name": "python",
   "nbconvert_exporter": "python",
   "pygments_lexer": "ipython3",
   "version": "3.5.2"
  },
  "widgets": {
   "state": {},
   "version": "1.1.2"
  }
 },
 "nbformat": 4,
 "nbformat_minor": 2
}
