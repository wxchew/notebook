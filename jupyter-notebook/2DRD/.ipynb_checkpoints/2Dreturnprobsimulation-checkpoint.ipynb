{
 "cells": [
  {
   "cell_type": "code",
   "execution_count": 41,
   "metadata": {},
   "outputs": [],
   "source": [
    "import sys\n",
    "import math\n",
    "import numpy as np\n",
    "from numpy import pi, sqrt, inf, log\n",
    "from ecell4 import *\n",
    "\n",
    "L = 0.1\n",
    "voxel_radius = 0.005\n",
    "H = 3*voxel_radius*2\n",
    "D = 1\n",
    "rng = GSLRandomNumberGenerator()\n",
    "rng.seed(1)\n",
    "Pacc = 0.5#(1./r0-1)*ka_factor#ka / (6 * sqrt(2) * D * voxel_radius)\n",
    "dt = ( voxel_radius * voxel_radius) / ( D)\n",
    "\n",
    "maxstep= 5#10000\n",
    "ntrials = 10000000#100000\n",
    "p=1\n",
    "\n",
    "w = spatiocyte.SpatiocyteWorld(Real3(H,L,L),voxel_radius,rng)\n",
    "\n",
    "coord1 = w.position2coordinate(Real3(0.5*H,0.5*L,0.5*L))\n",
    "coord2 = w.get_neighbor(coord1, 0)\n",
    "pos=w.coordinate2position(coord1)\n",
    "dirn = [0,1,8,9,10,11]\n",
    "\n",
    "def singlerunA(dt, Pacc,alpha):\n",
    "    assert Pacc*alpha  <= 1\n",
    "    assert alpha<=1\n",
    "\n",
    "    coord1 = w.position2coordinate(ones() * L * 0.5)\n",
    "    coord2 = w.get_neighbor(coord1, 0)\n",
    "\n",
    "    dt = dt*alpha\n",
    "    t, nsteps = 0.0, 0\n",
    "    while all(0 <= dim < L for dim in w.coordinate2position(coord2)) and nsteps < maxstep:\n",
    "        rnd = w.rng().uniform_int(0, 11)\n",
    "        newcoord = w.get_neighbor(coord2, rnd)\n",
    "        if newcoord == coord1:\n",
    "            if Pacc * alpha >= w.rng().uniform(0, 1):\n",
    "                return t\n",
    "        elif alpha >= w.rng().uniform(0, 1):\n",
    "            coord2 = newcoord\n",
    "        t += dt\n",
    "        nsteps += 1\n",
    "    return False\n",
    "\n",
    "def singlerunB(dt, Pacc):\n",
    "    assert Pacc<= 1\n",
    "    coord1 = w.position2coordinate(Real3(0.5*H,0.5*L,0.5*L))\n",
    "    coord2 = w.get_neighbor(coord1, 0)\n",
    "\n",
    "    dt = dt\n",
    "    t, nsteps = 0.0, 0\n",
    "    while all(0 <= dim < L for dim in w.coordinate2position(coord2)) and nsteps < maxstep:\n",
    "        rnd = w.rng().uniform_int(0, 5)\n",
    "        newcoord = w.get_neighbor(coord2, dirn[rnd])\n",
    "        if newcoord == coord1:\n",
    "            if Pacc >= w.rng().uniform(0, 1):\n",
    "                return nsteps+1\n",
    "        else:\n",
    "            coord2 = newcoord\n",
    "        t += dt\n",
    "        nsteps += 1\n",
    "    return False\n",
    "        \n",
    "if Pacc<=1:\n",
    "    res = [singlerunB(dt, Pacc) for _ in range(ntrials)]\n",
    "else:    \n",
    "    res = [singlerunA(dt, Pacc,p/Pacc) for _ in range(ntrials)]\n"
   ]
  },
  {
   "cell_type": "code",
   "execution_count": 42,
   "metadata": {},
   "outputs": [
    {
     "name": "stdout",
     "output_type": "stream",
     "text": [
      "0.0833274\n",
      "0.034721\n",
      "0.0260679\n",
      "0.0188021\n",
      "0.0152256\n"
     ]
    }
   ],
   "source": [
    "for stp in range(maxstep):\n",
    "    stp+=1\n",
    "    count = np.array([i for i in res if i ==stp])\n",
    "    print(len(count)/ntrials)"
   ]
  },
  {
   "cell_type": "code",
   "execution_count": null,
   "metadata": {},
   "outputs": [],
   "source": []
  }
 ],
 "metadata": {
  "kernelspec": {
   "display_name": "Python 3",
   "language": "python",
   "name": "python3"
  },
  "language_info": {
   "codemirror_mode": {
    "name": "ipython",
    "version": 3
   },
   "file_extension": ".py",
   "mimetype": "text/x-python",
   "name": "python",
   "nbconvert_exporter": "python",
   "pygments_lexer": "ipython3",
   "version": "3.5.2"
  }
 },
 "nbformat": 4,
 "nbformat_minor": 2
}
