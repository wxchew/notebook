{
 "cells": [
  {
   "cell_type": "code",
   "execution_count": 16,
   "metadata": {},
   "outputs": [
    {
     "name": "stderr",
     "output_type": "stream",
     "text": [
      "/home/chew/.local/lib/python2.7/site-packages/ipykernel/__main__.py:17: RuntimeWarning: divide by zero encountered in log\n"
     ]
    },
    {
     "data": {
      "image/png": "[encoded data removed]",
      "text/plain": [
       "<matplotlib.figure.Figure at 0x7f61d56a62d0>"
      ]
     },
     "metadata": {},
     "output_type": "display_data"
    }
   ],
   "source": [
    "%matplotlib inline\n",
    "from ecell4 import *\n",
    "from scipy import integrate\n",
    "from scipy.optimize import curve_fit\n",
    "import numpy\n",
    "import matplotlib.pylab as plt\n",
    "voxel_radius = 0.005\n",
    "D = 1.\n",
    "gamma = 0.5772156649\n",
    "\n",
    "def expfunc(k, N):\n",
    "    def func(x):\n",
    "        return N * numpy.exp(-k * x)\n",
    "    return func\n",
    "\n",
    "def test(k):\n",
    "    f = lambda x: k / (1 + k / 4 * numpy.pi * (D + D) / (numpy.log(4 * (D + D) * x / (voxel_radius * voxel_radius)) - 2 * gamma))\n",
    "    x = numpy.linspace(0, 2, 101)\n",
    "    y = [numpy.exp(-integrate.quad(f, 0, xi)[0]) for xi in x]\n",
    "    p, covar = curve_fit(lambda x, *args: expfunc(args[0], 1.0)(x), x, y, p0=[1.0])\n",
    "    return p[0]\n",
    "\n",
    "def test2(k):\n",
    "    f = lambda x: k / (1 + k / 4 * numpy.pi * (D + D) / (numpy.log(4 * (D + D) * x / (voxel_radius * voxel_radius)) - 2 * gamma))\n",
    "    x = numpy.linspace(0, 2, 101)\n",
    "    y = [numpy.exp(-integrate.quad(f, 0, xi)[0]) for xi in x]\n",
    "    p, covar = curve_fit(lambda x, *args: expfunc(args[0], 1.0)(x), x, y, p0=[1.0])\n",
    "    #plt.plot(x,y)\n",
    "    #plt.show()\n",
    "    return p[0]\n",
    "\n",
    "x=numpy.logspace(-1, +3, 11)\n",
    "#test2(100)\n",
    "plt.loglog(x, [test(xi) for xi in x], 'o')\n",
    "plt.loglog(x, x, '-')\n",
    "plt.plot(x, x / (1.0 + 0.2 * x), '--')\n",
    "plt.show()"
   ]
  },
  {
   "cell_type": "code",
   "execution_count": 18,
   "metadata": {},
   "outputs": [
    {
     "data": {
      "text/plain": [
       "0.2"
      ]
     },
     "execution_count": 18,
     "metadata": {},
     "output_type": "execute_result"
    }
   ],
   "source": [
    "0.2/D/D/"
   ]
  },
  {
   "cell_type": "code",
   "execution_count": null,
   "metadata": {
    "collapsed": true
   },
   "outputs": [],
   "source": []
  }
 ],
 "metadata": {
  "anaconda-cloud": {},
  "kernelspec": {
   "display_name": "Python 3",
   "language": "python",
   "name": "python3"
  },
  "language_info": {
   "codemirror_mode": {
    "name": "ipython",
    "version": 3
   },
   "file_extension": ".py",
   "mimetype": "text/x-python",
   "name": "python",
   "nbconvert_exporter": "python",
   "pygments_lexer": "ipython3",
   "version": "3.5.2"
  }
 },
 "nbformat": 4,
 "nbformat_minor": 1
}
