{
 "cells": [
  {
   "cell_type": "code",
   "execution_count": 121,
   "metadata": {
    "scrolled": true
   },
   "outputs": [],
   "source": [
    "from ecell4 import *\n",
    "%matplotlib inline\n",
    "import numpy as np\n",
    "import math\n",
    "import sys\n",
    "from math import sqrt\n",
    "import matplotlib.pyplot as plt\n",
    "from ecell4.extra import ensemble\n",
    "import numpy as np\n",
    "from math import pi\n",
    "\n",
    "def wrap(job,job_id,task_id):\n",
    "    def singlerun(ka,N,L,run,rm,shift,D):\n",
    "        import numpy as np\n",
    "        rng = GSLRandomNumberGenerator()\n",
    "        run+=shift\n",
    "        rng.seed(run)   \n",
    "        voxelr=rm    \n",
    "        td =(2*voxelr)**2/(6*D)\n",
    "        #print('td',td)\n",
    "        ori = Real3(0.5*L,0,0)\n",
    "        unit0 = Real3(0,0,L)\n",
    "        unit1 = Real3(0,L,0)        \n",
    "        w = spatiocyte.SpatiocyteWorld(Real3(L,L,L),voxelr,rng)\n",
    "        Vr = w.calculate_volume(Real3(L,L,L),voxelr)\n",
    "        size=tuple(w.calculate_shape(Real3(L,L,L),voxelr))\n",
    "        lx,ly,lz=w.actual_lengths()\n",
    "        #print('V',Vr,lx*ly*lz,size[1]*size[2]*size[0]*(voxelr*2)**3\n",
    "        Area= ly*lz\n",
    "        V=ly*lz*lx\n",
    "        Nv = size[1]*size[2]*size[0]\n",
    "        Ns=size[1]*size[2]\n",
    "        with species_attributes():\n",
    "            A |  {'D': str(D), 'radius':str(voxelr)}\n",
    "\n",
    "        with reaction_rules():#for spa and egfrd\n",
    "            A + M > M | ka\n",
    "\n",
    "        m2 = get_model()\n",
    "        w.bind_to(m2)\n",
    "        w.add_structure(Species('M'),PlanarSurface(ori,unit0,unit1))\n",
    "        w.add_molecules(Species('A'), N)\n",
    "        sim = spatiocyte.SpatiocyteSimulator(w)\n",
    "        sim.initialize()\n",
    "        sim.step()\n",
    "        res = w.num_particles_exact(Species('A'))\n",
    "        change = N-res\n",
    "        kap = change\n",
    "        if run==1:\n",
    "            print('actual A {},Lx{}, V{},Nvoxel={},Ns={},dt{}'.format(Area,lx,V,Nv,Ns,sim.dt()))    \n",
    "        return kap, \n",
    "    job.update({'run':task_id})\n",
    "    out=singlerun(**job)\n",
    "    return out\n",
    "\n",
    "def run(simrun,L,ka,conc,shift,D):\n",
    "    Vol=L**3\n",
    "    N=int(conc*Vol)\n",
    "    rm=0.005\n",
    "    print('ka',ka,'conc',conc,'L',L,'N',N,'D',D)\n",
    "    jobs=[{'ka':ka,'L':L,'N':N,'rm':rm,'shift':shift,'D':D}]    \n",
    "    res=ensemble.run_multiprocessing(wrap,jobs,n=simrun,nproc=60,modules=('numpy','ecell4','math'))[0]\n",
    "    #res=ensemble.run_slurm(wrap,jobs,n=simrun,nproc=nproc,path='tmp',modules=('numpy','ecell4','math'))[0]\n",
    "    #print('finish')\n",
    "    #print(res)\n",
    "    print(np.count_nonzero(res)/float(simrun))\n",
    "    MC=np.mean(res)\n",
    "    std = np.std(res)\n",
    "    print('mean changes {:.4f}+-{:.4f}'.format(MC,std))  \n",
    "    return MC\n",
    "\n"
   ]
  },
  {
   "cell_type": "code",
   "execution_count": 61,
   "metadata": {},
   "outputs": [
    {
     "name": "stdout",
     "output_type": "stream",
     "text": [
      "ka 10 conc 20000 L 0.5 N 2500\n",
      "actual A 0.2701999259807449,Lx0.5062278801751902, V0.13678273575272576,Nvoxel=193440,Ns=3120,dt1.6666666666666667e-05\n",
      "1.0\n",
      "mean changes 1.0000+-0.0000\n"
     ]
    },
    {
     "data": {
      "text/plain": [
       "1.0"
      ]
     },
     "execution_count": 61,
     "metadata": {},
     "output_type": "execute_result"
    }
   ],
   "source": [
    "run(simrun=1,ka=10,L=0.5,conc = 20000,shift=0)"
   ]
  },
  {
   "cell_type": "code",
   "execution_count": 38,
   "metadata": {
    "scrolled": true
   },
   "outputs": [
    {
     "name": "stdout",
     "output_type": "stream",
     "text": [
      "ka 10 conc 20000 L 0.5 N 2500\n",
      "actual A 0.2701999259807449,Lx0.5062278801751902, V0.13678273575272576,Nvoxel193440,dt1.6666666666666667e-05\n",
      "0.8145\n",
      "mean changes 1.6790+-1.2959\n",
      "ka 10 conc 20000 L 0.5 N 2500\n",
      "0.8181\n",
      "mean changes 1.6721+-1.2889\n",
      "ka 10 conc 20000 L 0.5 N 2500\n",
      "0.8122\n",
      "mean changes 1.6873+-1.3053\n",
      "ka 10 conc 20000 L 0.5 N 2500\n",
      "0.8156\n",
      "mean changes 1.6790+-1.3032\n",
      "ka 10 conc 20000 L 0.5 N 2500\n",
      "0.8169\n",
      "mean changes 1.6860+-1.2853\n",
      "ka 10 conc 20000 L 0.5 N 2500\n",
      "0.8151\n",
      "mean changes 1.6784+-1.2800\n",
      "ka 10 conc 20000 L 0.5 N 2500\n",
      "0.8168\n",
      "mean changes 1.6841+-1.2953\n",
      "ka 10 conc 20000 L 0.5 N 2500\n",
      "0.808\n",
      "mean changes 1.6822+-1.3086\n",
      "ka 10 conc 20000 L 0.5 N 2500\n",
      "0.81\n",
      "mean changes 1.6562+-1.2801\n",
      "ka 10 conc 20000 L 0.5 N 2500\n",
      "0.8184\n",
      "mean changes 1.6740+-1.2702\n",
      "expected=0.4219,sim=1.6778,+-0.0086,absdiff=-1.2560,diff%=-74.8570\n"
     ]
    }
   ],
   "source": [
    "Y = []\n",
    "sr = 100000\n",
    "num = 10\n",
    "for i in range(num):\n",
    "    y = run(simrun=int(sr/num),ka=10,L=0.5,conc = 20000,shift=int(int(sr/num)*i))\n",
    "    Y.append(y)\n",
    "Area = 0.2701999259807449\n",
    "dt=1.6666666666666667e-05 \n",
    "ka=10\n",
    "Vol = 0.13678273575272576\n",
    "N=2500\n",
    "exp=ka*dt*2*(N/Area)*Vol\n",
    "print('expected={:.4f},sim={:.4f},+-{:.4f},absdiff={:.4f},diff%={:.4f}'.format(exp,np.mean(Y),np.std(Y),exp-np.mean(Y),(exp-np.mean(Y))*100/np.mean(Y)))"
   ]
  },
  {
   "cell_type": "code",
   "execution_count": 122,
   "metadata": {
    "scrolled": true
   },
   "outputs": [
    {
     "name": "stdout",
     "output_type": "stream",
     "text": [
      "ka 10 conc 20000 L 0.5 N 2500 D 0.5\n",
      "actual A 0.2701999259807449,Lx0.5062278801751902, V0.13678273575272576,Nvoxel=193440,Ns=3120,dt3.3333333333333335e-05\n",
      "0.958\n",
      "mean changes 3.3150+-1.8226\n",
      "ka 10 conc 20000 L 0.5 N 2500 D 0.5\n",
      "0.956\n",
      "mean changes 3.2760+-1.8016\n",
      "ka 10 conc 20000 L 0.5 N 2500 D 0.5\n",
      "0.955\n",
      "mean changes 3.3580+-1.8094\n",
      "ka 10 conc 20000 L 0.5 N 2500 D 0.5\n",
      "0.957\n",
      "mean changes 3.3040+-1.8384\n",
      "ka 10 conc 20000 L 0.5 N 2500 D 0.5\n",
      "0.966\n",
      "mean changes 3.3170+-1.8107\n",
      "ka 10 conc 20000 L 0.5 N 2500 D 0.5\n",
      "0.967\n",
      "mean changes 3.4440+-1.8950\n",
      "ka 10 conc 20000 L 0.5 N 2500 D 0.5\n",
      "0.966\n",
      "mean changes 3.4230+-1.8434\n",
      "ka 10 conc 20000 L 0.5 N 2500 D 0.5\n",
      "0.963\n",
      "mean changes 3.3600+-1.8277\n",
      "ka 10 conc 20000 L 0.5 N 2500 D 0.5\n",
      "0.966\n",
      "mean changes 3.4130+-1.8795\n",
      "ka 10 conc 20000 L 0.5 N 2500 D 0.5\n",
      "0.958\n",
      "mean changes 3.3170+-1.8359\n",
      "expected=1.6462,sim=3.3527,+-0.0541,absdiff=-1.7065,diff%=-50.9004\n"
     ]
    }
   ],
   "source": [
    "Y = []\n",
    "sr = 10000\n",
    "num = 10\n",
    "D=0.5\n",
    "ka=10\n",
    "for i in range(num):\n",
    "    y = run(simrun=int(sr/num),ka=ka,L=0.5,conc = 20000,shift=int(int(sr/num)*i),D=D)\n",
    "    Y.append(y)\n",
    "Area = 0.2701999259807449\n",
    "Vol = 0.13678273575272576\n",
    "N=2500\n",
    "exp=ka*dt*2*(N*Area)/Vol\n",
    "print('expected={:.4f},sim={:.4f},+-{:.4f},absdiff={:.4f},diff%={:.4f}'.format(exp,np.mean(Y),np.std(Y),exp-np.mean(Y),(exp-np.mean(Y))*100/np.mean(Y)))"
   ]
  },
  {
   "cell_type": "code",
   "execution_count": 123,
   "metadata": {},
   "outputs": [
    {
     "name": "stdout",
     "output_type": "stream",
     "text": [
      "10 9.999999999999998\n",
      "expected=3.2923,sim=3.3527,+-0.0541,absdiff=-0.0604,diff%=-1.8008\n",
      "expected=3.2923,sim=3.3527,+-0.0541,absdiff=-0.0604,diff%=-1.8008\n"
     ]
    }
   ],
   "source": [
    "rv=0.005\n",
    "l=2*rv\n",
    "D=0.5\n",
    "td = l**2/6/D\n",
    "ka=10\n",
    "Ns=3120.\n",
    "Nv=193440\n",
    "dt=3.3333333333333335e-05 \n",
    "unitarea=2*sqrt(3)*rv*rv\n",
    "Pa1=unitarea*sqrt(2)*ka/3/D/rv#ecell4's def\n",
    "alpha=1./Pa1\n",
    "kl3=sqrt(3./2)*Pa1*D/l\n",
    "print(ka,kl3)\n",
    "Z=(N*Ns*dt)/(4*Nv*td*alpha)\n",
    "#exp1=Z*2*Pa1*alpha#ka*dt*2*(N*Area)/Vol#continum ka\n",
    "exp1=ka*dt*2*(N*Area)/Vol#continum ka\n",
    "exp3=kl3*dt*2*(N*Area)/Vol#my def ka\n",
    "for exp in [exp1,exp3]:\n",
    "    print('expected={:.4f},sim={:.4f},+-{:.4f},absdiff={:.4f},diff%={:.4f}'.format(exp,np.mean(Y),np.std(Y),exp-np.mean(Y),(exp-np.mean(Y))*100/np.mean(Y)))"
   ]
  },
  {
   "cell_type": "code",
   "execution_count": 110,
   "metadata": {},
   "outputs": [
    {
     "name": "stdout",
     "output_type": "stream",
     "text": [
      "10 9.999999999999998\n",
      "expected=1.6462,sim=1.6778,+-0.0086,absdiff=-0.0317,diff%=-1.8874\n",
      "expected=1.6462,sim=1.6778,+-0.0086,absdiff=-0.0317,diff%=-1.8874\n"
     ]
    }
   ],
   "source": [
    "rv=0.005\n",
    "l=2*rv\n",
    "D=1\n",
    "td = l**2/6/D\n",
    "ka=10\n",
    "Ns=3120.\n",
    "Nv=193440\n",
    "dt=1.6666666666666667e-05 \n",
    "unitarea=2*sqrt(3)*rv*rv\n",
    "Pa1=unitarea*sqrt(2)*ka/3/D/rv#ecell4's def\n",
    "alpha=1./Pa1\n",
    "kl3=sqrt(3./2)*Pa1*D/l\n",
    "print(ka,kl3)\n",
    "Z=(N*Ns*dt)/(4*Nv*td*alpha)\n",
    "#exp1=Z*2*Pa1*alpha#ka*dt*2*(N*Area)/Vol#continum ka\n",
    "exp1=ka*dt*2*(N*Area)/Vol#continum ka\n",
    "exp3=kl3*dt*2*(N*Area)/Vol#my def ka\n",
    "for exp in [exp1,exp3]:\n",
    "    print('expected={:.4f},sim={:.4f},+-{:.4f},absdiff={:.4f},diff%={:.4f}'.format(exp,np.mean(Y),np.std(Y),exp-np.mean(Y),(exp-np.mean(Y))*100/np.mean(Y)))"
   ]
  },
  {
   "cell_type": "code",
   "execution_count": 128,
   "metadata": {
    "scrolled": true
   },
   "outputs": [
    {
     "name": "stdout",
     "output_type": "stream",
     "text": [
      "ka 0.01 conc 20000 L 0.5 N 2500 D 1\n",
      "actual A 0.2701999259807449,Lx0.5062278801751902, V0.13678273575272576,Nvoxel=193440,Ns=3120,dt1.6666666666666667e-05\n",
      "0.0\n",
      "mean changes 0.0000+-0.0000\n",
      "ka 0.01 conc 20000 L 0.5 N 2500 D 1\n",
      "0.002\n",
      "mean changes 0.0020+-0.0447\n",
      "ka 0.01 conc 20000 L 0.5 N 2500 D 1\n",
      "0.001\n",
      "mean changes 0.0010+-0.0316\n",
      "ka 0.01 conc 20000 L 0.5 N 2500 D 1\n",
      "0.003\n",
      "mean changes 0.0030+-0.0547\n",
      "ka 0.01 conc 20000 L 0.5 N 2500 D 1\n",
      "0.002\n",
      "mean changes 0.0020+-0.0447\n",
      "ka 0.01 conc 20000 L 0.5 N 2500 D 1\n",
      "0.002\n",
      "mean changes 0.0020+-0.0447\n",
      "ka 0.01 conc 20000 L 0.5 N 2500 D 1\n",
      "0.0\n",
      "mean changes 0.0000+-0.0000\n",
      "ka 0.01 conc 20000 L 0.5 N 2500 D 1\n",
      "0.001\n",
      "mean changes 0.0010+-0.0316\n",
      "ka 0.01 conc 20000 L 0.5 N 2500 D 1\n",
      "0.001\n",
      "mean changes 0.0010+-0.0316\n",
      "ka 0.01 conc 20000 L 0.5 N 2500 D 1\n",
      "0.003\n",
      "mean changes 0.0030+-0.0547\n",
      "expected=0.0016,sim=0.0015,+-0.0010,absdiff=0.0001,diff%=9.7442\n"
     ]
    }
   ],
   "source": [
    "Z = []\n",
    "sr = 10000\n",
    "num = 10\n",
    "D=1\n",
    "ka=0.01\n",
    "for i in range(num):\n",
    "    y = run(simrun=int(sr/num),ka=ka,L=0.5,conc = 20000,shift=int(int(sr/num)*i),D=D)\n",
    "    Z.append(y)\n",
    "Area = 0.2701999259807449\n",
    "dt=1.6666666666666667e-05 \n",
    "Vol = 0.13678273575272576\n",
    "N=2500\n",
    "exp=ka*dt*2*(N*Area)/Vol\n",
    "print('expected={:.4f},sim={:.4f},+-{:.4f},absdiff={:.4f},diff%={:.4f}'.format(exp,np.mean(Z),np.std(Z),exp-np.mean(Z),(exp-np.mean(Z))*100/np.mean(Z)))"
   ]
  },
  {
   "cell_type": "code",
   "execution_count": 129,
   "metadata": {},
   "outputs": [
    {
     "name": "stdout",
     "output_type": "stream",
     "text": [
      "0.01 0.009999999999999998\n",
      "expected=0.00165,sim=0.00150,+-0.00102,absdiff=0.0001,diff%=9.7442\n",
      "expected=0.00165,sim=0.00150,+-0.00102,absdiff=0.0001,diff%=9.7442\n"
     ]
    }
   ],
   "source": [
    "rv=0.005\n",
    "l=2*rv\n",
    "td = l**2/6/D\n",
    "Ns=3120.\n",
    "Nv=193440\n",
    "dt=1.6666666666666667e-05 \n",
    "unitarea=2*sqrt(3)*rv*rv\n",
    "Pa1=unitarea*sqrt(2)*ka/3/D/rv#ecell4's def\n",
    "alpha=1./Pa1\n",
    "kl3=sqrt(3./2)*Pa1*D/l\n",
    "print(ka,kl3)\n",
    "#Z=(N*Ns*dt)/(4*Nv*td*alpha)\n",
    "#exp1=Z*2*Pa1*alpha#ka*dt*2*(N*Area)/Vol#continum ka\n",
    "exp1=ka*dt*2*(N*Area)/Vol#continum ka\n",
    "exp3=kl3*dt*2*(N*Area)/Vol#my def ka\n",
    "for exp in [exp1,exp3]:\n",
    "    print('expected={:.5f},sim={:.5f},+-{:.5f},absdiff={:.4f},diff%={:.4f}'.format(exp,np.mean(Z),np.std(Z),exp-np.mean(Z),(exp-np.mean(Z))*100/np.mean(Z)))"
   ]
  },
  {
   "cell_type": "code",
   "execution_count": null,
   "metadata": {},
   "outputs": [],
   "source": []
  }
 ],
 "metadata": {
  "kernelspec": {
   "display_name": "Python 3",
   "language": "python",
   "name": "python3"
  },
  "language_info": {
   "codemirror_mode": {
    "name": "ipython",
    "version": 3
   },
   "file_extension": ".py",
   "mimetype": "text/x-python",
   "name": "python",
   "nbconvert_exporter": "python",
   "pygments_lexer": "ipython3",
   "version": "3.6.5"
  }
 },
 "nbformat": 4,
 "nbformat_minor": 2
}
