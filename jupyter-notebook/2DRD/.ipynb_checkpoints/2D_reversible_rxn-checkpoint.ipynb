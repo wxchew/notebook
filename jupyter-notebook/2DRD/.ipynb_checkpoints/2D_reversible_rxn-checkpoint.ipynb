{
 "cells": [
  {
   "cell_type": "code",
   "execution_count": 1,
   "metadata": {},
   "outputs": [],
   "source": [
    "from ecell4 import *\n",
    "%matplotlib inline\n",
    "import numpy as np\n",
    "import math\n",
    "import sys\n",
    "from math import sqrt\n",
    "import matplotlib.pyplot as plt\n",
    "from ecell4.extra import ensemble\n",
    "import numpy as np\n",
    "from math import pi"
   ]
  },
  {
   "cell_type": "code",
   "execution_count": 2,
   "metadata": {
    "scrolled": true
   },
   "outputs": [
    {
     "name": "stdout",
     "output_type": "stream",
     "text": [
      "25 500 525 6.421324129676528\n",
      "finish\n"
     ]
    }
   ],
   "source": [
    "def wrap(job,job_id,task_id):\n",
    "    def singlerun(kf,K,correct,NA,NB,L,run,durfac):\n",
    "        import numpy as np\n",
    "        rng = GSLRandomNumberGenerator()\n",
    "        rng.seed(run)\n",
    "        rm = 0.005\n",
    "        factor = (2 * sqrt(2.0) + 4 * sqrt(3.0) + 3 * sqrt(6.0) + sqrt(22.0))**2/(72 * (6 * sqrt(2.0) + 4 * sqrt(3.0) + 3 * sqrt(6.0)))\n",
    "        R=2*rm\n",
    "        voxelr=rm\n",
    "        D = 1.\n",
    "        ka=kf*2*pi*D\n",
    "        gamma=0.577\n",
    "        td =(2*voxelr)**2/(4*D)\n",
    "        duration=2#td*10**durfac\n",
    "        H = 3*voxelr*2\n",
    "        kd=ka/K        \n",
    "        if correct==True:\n",
    "            PP=1./(1+math.sqrt(3)*(math.log(1./12)+(4*math.pi*D/ka)-2*gamma)/2/math.pi)\n",
    "            ka = PP*D/factor\n",
    "        ori = Real3(0.5*H,0,0)\n",
    "        unit0 = Real3(0,0,L)\n",
    "        unit1 = Real3(0,L,0)        \n",
    "        w = spatiocyte.SpatiocyteWorld(Real3(H,L,L),voxelr,rng)\n",
    "        #size=tuple(w.calculate_shape(Real3(H,L,L),voxelr))\n",
    "        #Nmv=size[1]*size[2]    \n",
    "        #print('phil=',N/Nmv)\n",
    "        lx,ly,lz=w.actual_lengths()\n",
    "        Area= ly*lz\n",
    "        #Area=Nmv*(2*voxelr)**2\n",
    "        c0=NB/Area\n",
    "        sinf=kd/(kd+c0*ka)\n",
    "        #print(ka,kd)\n",
    "        with species_attributes():\n",
    "            A |  {'D': str(0), 'radius':str(voxelr),'location':'X'}\n",
    "            B |  {'D': str(D), 'radius':str(voxelr),'location':'X'}\n",
    "            C |  {'D': str(0), 'radius':str(voxelr),'location':'X'}\n",
    "\n",
    "        with reaction_rules():#for spa and egfrd\n",
    "            A + B == C | (ka,kd)\n",
    "\n",
    "        m2 = get_model()\n",
    "        w.bind_to(m2)\n",
    "        w.add_structure(Species('X'),PlanarSurface(ori,unit0,unit1))\n",
    "        w.add_molecules(Species('A'), NA)\n",
    "        w.add_molecules(Species('B'), NB)\n",
    "        sim = spatiocyte.SpatiocyteSimulator(w)\n",
    "        sim.initialize()\n",
    "        obs=FixedIntervalNumberObserver(td,'A')\n",
    "        sim.run(duration,obs)\n",
    "        out=np.array(obs.data()).T\n",
    "        if correct==True:\n",
    "            #name = '/home/chew/outputdata/2DRD/newP/kfac'+str(kaf)+'/run'+str(run)\n",
    "            name = '/home/chew/outputdata/2DRD/newP/kf'+str(kf)+'K'+str(K)+'/run'+str(run)\n",
    "        else:\n",
    "            #name = '/home/chew/outputdata/2DRD/oriP/kfac'+str(kaf)+'/run'+str(run)\n",
    "            name = '/home/chew/outputdata/2DRD/oriP/kf'+str(kf)+'K'+str(K)+'/run'+str(run)\n",
    "        filename=open(name,'w')\n",
    "        np.savetxt(name,np.column_stack((out[0],out[1])),delimiter=',',fmt='%s')\n",
    "        filename.close()          \n",
    "        return \n",
    "    job.update({'run':task_id})\n",
    "    out=singlerun(**job)\n",
    "    return \n",
    "\n",
    "NB=500\n",
    "NA=int(0.05*NB)\n",
    "N=NA+NB\n",
    "rm = 0.005\n",
    "phi=0.1/100\n",
    "L=rm*sqrt(N*pi/phi)\n",
    "print(NA,NB,N,L)\n",
    "assert(NA>1)\n",
    "K=1#ka/kd\n",
    "durfac=4.5\n",
    "simrun=300#000\n",
    "\n",
    "for probdef in [True]:#,False]:#, True]:\n",
    "    for kf in [0.1,10]:#,500]:#,10]:\n",
    "        jobs=[{'durfac':durfac,'L':L,'kf':kf,'K':K,'correct':probdef,'NA':NA,'NB':NB}]\n",
    "        #res=ensemble.run_slurm(wrap,jobs,n=simrun,nproc=350,path='tmp',modules=('numpy','ecell4','math'))[0]\n",
    "        res=ensemble.run_multiprocessing(wrap,jobs,n=simrun,nproc=60,modules=('numpy','ecell4','math'))[0]\n",
    "print('finish') "
   ]
  },
  {
   "cell_type": "code",
   "execution_count": 8,
   "metadata": {},
   "outputs": [
    {
     "data": {
      "text/plain": [
       "[<matplotlib.lines.Line2D at 0x7f78b9223a58>]"
      ]
     },
     "execution_count": 8,
     "metadata": {},
     "output_type": "execute_result"
    },
    {
     "data": {
      "image/png": "[encoded data removed]",
      "text/plain": [
       "<matplotlib.figure.Figure at 0x7f78ba323860>"
      ]
     },
     "metadata": {},
     "output_type": "display_data"
    }
   ],
   "source": [
    "plt.semilogx(res[0][0],res[0][1]/NA)\n"
   ]
  },
  {
   "cell_type": "code",
   "execution_count": 9,
   "metadata": {},
   "outputs": [
    {
     "name": "stdout",
     "output_type": "stream",
     "text": [
      "phil=0.10986757295206843%\n",
      "c0 10.463578376387469\n"
     ]
    }
   ],
   "source": [
    "voxelr=0.005\n",
    "H = 3*voxelr*2\n",
    "w = spatiocyte.SpatiocyteWorld(Real3(H,L,L),voxelr)\n",
    "size=tuple(w.calculate_shape(Real3(H,L,L),voxelr))\n",
    "Nmv=size[1]*size[2]    \n",
    "print('phil={}%'.format(N*100/Nmv))\n",
    "Area=Nmv*(2*voxelr)**2\n",
    "c0=NB/Area\n",
    "print('c0',c0)"
   ]
  },
  {
   "cell_type": "code",
   "execution_count": 10,
   "metadata": {},
   "outputs": [
    {
     "data": {
      "text/plain": [
       "(0.6283185307179586, 0.6283185307179586)"
      ]
     },
     "execution_count": 10,
     "metadata": {},
     "output_type": "execute_result"
    }
   ],
   "source": [
    "c0=10.4636\n",
    "kf=0.1\n",
    "ka=kf*2*pi*1\n",
    "K=1\n",
    "kd=ka/K\n",
    "sinf=kd/(kd+c0*ka)\n",
    "ka,kd"
   ]
  },
  {
   "cell_type": "code",
   "execution_count": 54,
   "metadata": {},
   "outputs": [
    {
     "data": {
      "text/plain": [
       "2.5e-05"
      ]
     },
     "execution_count": 54,
     "metadata": {},
     "output_type": "execute_result"
    }
   ],
   "source": [
    "(2*voxelr)**2/(4*1)"
   ]
  },
  {
   "cell_type": "code",
   "execution_count": 56,
   "metadata": {},
   "outputs": [
    {
     "data": {
      "text/plain": [
       "0.25"
      ]
     },
     "execution_count": 56,
     "metadata": {},
     "output_type": "execute_result"
    }
   ],
   "source": [
    "1.25/5"
   ]
  },
  {
   "cell_type": "code",
   "execution_count": null,
   "metadata": {},
   "outputs": [],
   "source": []
  }
 ],
 "metadata": {
  "kernelspec": {
   "display_name": "Python 3",
   "language": "python",
   "name": "python3"
  },
  "language_info": {
   "codemirror_mode": {
    "name": "ipython",
    "version": 3
   },
   "file_extension": ".py",
   "mimetype": "text/x-python",
   "name": "python",
   "nbconvert_exporter": "python",
   "pygments_lexer": "ipython3",
   "version": "3.5.2"
  }
 },
 "nbformat": 4,
 "nbformat_minor": 2
}
