{
 "cells": [
  {
   "cell_type": "code",
   "execution_count": 30,
   "metadata": {
    "scrolled": true
   },
   "outputs": [
    {
     "data": {
      "text/plain": [
       "<matplotlib.legend.Legend at 0x7ff556ca8dd8>"
      ]
     },
     "execution_count": 30,
     "metadata": {},
     "output_type": "execute_result"
    },
    {
     "data": {
      "image/png": "[encoded data removed]",
      "text/plain": [
       "<matplotlib.figure.Figure at 0x7ff556ca8e80>"
      ]
     },
     "metadata": {},
     "output_type": "display_data"
    }
   ],
   "source": [
    "from ecell4 import *\n",
    "%matplotlib inline\n",
    "import numpy as np\n",
    "import math\n",
    "import sys\n",
    "from math import sqrt\n",
    "import matplotlib.pyplot as plt\n",
    "from ecell4.extra import ensemble\n",
    "import numpy as np\n",
    "\n",
    "def singlerun(ka,kd,NA,NB,L,run,durfac,opt):\n",
    "    rng = GSLRandomNumberGenerator()\n",
    "    rng.seed(run)\n",
    "    rm = 0.005\n",
    "    factor = (2 * sqrt(2.0) + 4 * sqrt(3.0) + 3 * sqrt(6.0) + sqrt(22.0))**2/(72 * (6 * sqrt(2.0) + 4 * sqrt(3.0) + 3 * sqrt(6.0)))\n",
    "    R=2*rm\n",
    "    voxelr=rm\n",
    "    D = 1.\n",
    "    gamma=0.577\n",
    "    td =(2*voxelr)**2/(4*D)\n",
    "    duration=td*10**durfac\n",
    "    H = 3*voxelr*2\n",
    "    ori = Real3(0.5*H,0,0)\n",
    "    unit0 = Real3(0,0,L)\n",
    "    unit1 = Real3(0,L,0)        \n",
    "    w = spatiocyte.SpatiocyteWorld(Real3(H,L,L),voxelr,rng)\n",
    "    size=tuple(w.calculate_shape(Real3(H,L,L),voxelr))\n",
    "    Nmv=size[1]*size[2]    \n",
    "    #print('phil=',N/Nmv)\n",
    "    Area=Nmv*(2*voxelr)**2\n",
    "    c0=NB/Area\n",
    "    sinf=kd/(kd+c0*ka)\n",
    "    with species_attributes():\n",
    "        A |  {'D': str(0), 'radius':str(voxelr),'location':'X'}\n",
    "        B |  {'D': str(D), 'radius':str(voxelr),'location':'X'}\n",
    "        C |  {'D': str(0), 'radius':str(voxelr),'location':'X'}\n",
    "\n",
    "    with reaction_rules():#for spa and egfrd\n",
    "        A + B == C | (ka,kd)\n",
    "\n",
    "    m2 = get_model()\n",
    "    w.bind_to(m2)\n",
    "    w.add_structure(Species('X'),PlanarSurface(ori,unit0,unit1))\n",
    "    w.add_molecules(Species('A'), NA)\n",
    "    w.add_molecules(Species('B'), NB)\n",
    "    #w.add_molecules(Species('C'), 0)\n",
    "    simt=0\n",
    "    tlog = td\n",
    "    tlogs=[]\n",
    "    nlog=[]  \n",
    "    sim = spatiocyte.SpatiocyteSimulator(w)\n",
    "    sim.initialize()\n",
    "    if opt==1:\n",
    "        while sim.t()<duration:\n",
    "            #if sim.t()>=tlog:\n",
    "            if sim.t()>=tlog:\n",
    "                tlogs.append(sim.t())\n",
    "                nlog.append(w.num_particles_exact(Species('A')))\n",
    "                tlog+=td\n",
    "            sim.step()         \n",
    "    elif opt==2:\n",
    "        obs=FixedIntervalNumberObserver(td,'A')\n",
    "        sim.run(duration,obs)\n",
    "        tlogs,nlog=np.array(obs.data()).T\n",
    "    elif opt==3:\n",
    "        obs=NumberObserver('A')\n",
    "        sim.run(duration,obs)\n",
    "        tlogs,nlog=np.array(obs.data()).T        \n",
    "    return tlogs,nlog\n",
    "\n",
    "L=4\n",
    "NB=1000#c0*L*L\n",
    "NA=int(0.1*NB)\n",
    "assert(NA>1)\n",
    "ka=1.25\n",
    "durfac=5\n",
    "kd=5\n",
    "run=1\n",
    "for opt,name in zip([1,2,3],['manual','fix interval','Number observer']):\n",
    "    x,y=singlerun(ka,kd,NA,NB,L,run,durfac,opt)\n",
    "    plt.plot(x,y,label=name)\n",
    "plt.legend()    "
   ]
  },
  {
   "cell_type": "code",
   "execution_count": null,
   "metadata": {},
   "outputs": [],
   "source": [
    "manual\n",
    "[0, 0, 0, 0, 0]\n",
    "[0.24989999999997656, 0.24992499999997655, 0.24994999999997655, 0.24997499999997655, 0.24999999999997655]\n",
    "fixinterval\n",
    "[ 5.  5.  5.  5.  5.]\n",
    "[ 0.2499    0.249925  0.24995   0.249975  0.25    ]\n",
    "NUmber observer\n",
    "[ 3.  2.  1.  0.  0.]\n",
    "[ 0.0722    0.075975  0.082375  0.135175  0.25    ]"
   ]
  },
  {
   "cell_type": "code",
   "execution_count": 13,
   "metadata": {},
   "outputs": [],
   "source": [
    "import glob\n",
    "import os.path\n",
    "\n",
    "N=NA\n",
    "\n",
    "def ldata(kf,name):\n",
    "    kf=str(kf)\n",
    "    #patterns='/home/chew/outputdata/2DRD/'+name+'/kfac'+kf+'/run*'\n",
    "    patterns='/home/chew/outputdata/2DRD/'+name+'/kd'+kf+'/run*'\n",
    "    fns=glob.glob(patterns)\n",
    "    data = None\n",
    "    for i, filename in enumerate(fns):\n",
    "        #print('[{}/{}] {}'.format(i + 1, len(fns), filename))\n",
    "        if data is None:\n",
    "            data = np.loadtxt(filename, delimiter=',')\n",
    "        else:\n",
    "            data += np.loadtxt(filename, delimiter=',')\n",
    "    data/=len(fns)  \n",
    "    time = data.T[0]\n",
    "    SP = data.T[1] / N\n",
    "    return time,SP"
   ]
  },
  {
   "cell_type": "code",
   "execution_count": 14,
   "metadata": {
    "scrolled": true
   },
   "outputs": [
    {
     "ename": "KeyboardInterrupt",
     "evalue": "",
     "output_type": "error",
     "traceback": [
      "\u001b[0;31m---------------------------------------------------------------------------\u001b[0m",
      "\u001b[0;31mKeyboardInterrupt\u001b[0m                         Traceback (most recent call last)",
      "\u001b[0;32m<ipython-input-14-a7b2d6e1de27>\u001b[0m in \u001b[0;36m<module>\u001b[0;34m()\u001b[0m\n\u001b[1;32m      3\u001b[0m \u001b[0;31m#t10o,s10o=ldata(10,'oriP')\u001b[0m\u001b[0;34m\u001b[0m\u001b[0;34m\u001b[0m\u001b[0m\n\u001b[1;32m      4\u001b[0m \u001b[0;31m#t01o,s01o=ldata(0.1,'oriP')\u001b[0m\u001b[0;34m\u001b[0m\u001b[0;34m\u001b[0m\u001b[0m\n\u001b[0;32m----> 5\u001b[0;31m \u001b[0mt5o\u001b[0m\u001b[0;34m,\u001b[0m\u001b[0ms5o\u001b[0m\u001b[0;34m=\u001b[0m\u001b[0mldata\u001b[0m\u001b[0;34m(\u001b[0m\u001b[0;36m5\u001b[0m\u001b[0;34m,\u001b[0m\u001b[0;34m'oriP'\u001b[0m\u001b[0;34m)\u001b[0m\u001b[0;34m\u001b[0m\u001b[0m\n\u001b[0m\u001b[1;32m      6\u001b[0m \u001b[0mt500o\u001b[0m\u001b[0;34m,\u001b[0m\u001b[0ms500o\u001b[0m\u001b[0;34m=\u001b[0m\u001b[0mldata\u001b[0m\u001b[0;34m(\u001b[0m\u001b[0;36m500\u001b[0m\u001b[0;34m,\u001b[0m\u001b[0;34m'oriP'\u001b[0m\u001b[0;34m)\u001b[0m\u001b[0;34m\u001b[0m\u001b[0m\n\u001b[1;32m      7\u001b[0m \u001b[0mt5n\u001b[0m\u001b[0;34m,\u001b[0m\u001b[0ms5n\u001b[0m\u001b[0;34m=\u001b[0m\u001b[0mldata\u001b[0m\u001b[0;34m(\u001b[0m\u001b[0;36m5\u001b[0m\u001b[0;34m,\u001b[0m\u001b[0;34m'newP'\u001b[0m\u001b[0;34m)\u001b[0m\u001b[0;34m\u001b[0m\u001b[0m\n",
      "\u001b[0;32m<ipython-input-13-48ecbe73cf0f>\u001b[0m in \u001b[0;36mldata\u001b[0;34m(kf, name)\u001b[0m\n\u001b[1;32m     15\u001b[0m             \u001b[0mdata\u001b[0m \u001b[0;34m=\u001b[0m \u001b[0mnp\u001b[0m\u001b[0;34m.\u001b[0m\u001b[0mloadtxt\u001b[0m\u001b[0;34m(\u001b[0m\u001b[0mfilename\u001b[0m\u001b[0;34m,\u001b[0m \u001b[0mdelimiter\u001b[0m\u001b[0;34m=\u001b[0m\u001b[0;34m','\u001b[0m\u001b[0;34m)\u001b[0m\u001b[0;34m\u001b[0m\u001b[0m\n\u001b[1;32m     16\u001b[0m         \u001b[0;32melse\u001b[0m\u001b[0;34m:\u001b[0m\u001b[0;34m\u001b[0m\u001b[0m\n\u001b[0;32m---> 17\u001b[0;31m             \u001b[0mdata\u001b[0m \u001b[0;34m+=\u001b[0m \u001b[0mnp\u001b[0m\u001b[0;34m.\u001b[0m\u001b[0mloadtxt\u001b[0m\u001b[0;34m(\u001b[0m\u001b[0mfilename\u001b[0m\u001b[0;34m,\u001b[0m \u001b[0mdelimiter\u001b[0m\u001b[0;34m=\u001b[0m\u001b[0;34m','\u001b[0m\u001b[0;34m)\u001b[0m\u001b[0;34m\u001b[0m\u001b[0m\n\u001b[0m\u001b[1;32m     18\u001b[0m     \u001b[0mdata\u001b[0m\u001b[0;34m/=\u001b[0m\u001b[0mlen\u001b[0m\u001b[0;34m(\u001b[0m\u001b[0mfns\u001b[0m\u001b[0;34m)\u001b[0m\u001b[0;34m\u001b[0m\u001b[0m\n\u001b[1;32m     19\u001b[0m     \u001b[0mtime\u001b[0m \u001b[0;34m=\u001b[0m \u001b[0mdata\u001b[0m\u001b[0;34m.\u001b[0m\u001b[0mT\u001b[0m\u001b[0;34m[\u001b[0m\u001b[0;36m0\u001b[0m\u001b[0;34m]\u001b[0m\u001b[0;34m\u001b[0m\u001b[0m\n",
      "\u001b[0;32m/usr/local/lib/python3.5/dist-packages/numpy/lib/npyio.py\u001b[0m in \u001b[0;36mloadtxt\u001b[0;34m(fname, dtype, comments, delimiter, converters, skiprows, usecols, unpack, ndmin, encoding)\u001b[0m\n\u001b[1;32m   1092\u001b[0m         \u001b[0;32mfor\u001b[0m \u001b[0mx\u001b[0m \u001b[0;32min\u001b[0m \u001b[0mread_data\u001b[0m\u001b[0;34m(\u001b[0m\u001b[0m_loadtxt_chunksize\u001b[0m\u001b[0;34m)\u001b[0m\u001b[0;34m:\u001b[0m\u001b[0;34m\u001b[0m\u001b[0m\n\u001b[1;32m   1093\u001b[0m             \u001b[0;32mif\u001b[0m \u001b[0mX\u001b[0m \u001b[0;32mis\u001b[0m \u001b[0;32mNone\u001b[0m\u001b[0;34m:\u001b[0m\u001b[0;34m\u001b[0m\u001b[0m\n\u001b[0;32m-> 1094\u001b[0;31m                 \u001b[0mX\u001b[0m \u001b[0;34m=\u001b[0m \u001b[0mnp\u001b[0m\u001b[0;34m.\u001b[0m\u001b[0marray\u001b[0m\u001b[0;34m(\u001b[0m\u001b[0mx\u001b[0m\u001b[0;34m,\u001b[0m \u001b[0mdtype\u001b[0m\u001b[0;34m)\u001b[0m\u001b[0;34m\u001b[0m\u001b[0m\n\u001b[0m\u001b[1;32m   1095\u001b[0m             \u001b[0;32melse\u001b[0m\u001b[0;34m:\u001b[0m\u001b[0;34m\u001b[0m\u001b[0m\n\u001b[1;32m   1096\u001b[0m                 \u001b[0mnshape\u001b[0m \u001b[0;34m=\u001b[0m \u001b[0mlist\u001b[0m\u001b[0;34m(\u001b[0m\u001b[0mX\u001b[0m\u001b[0;34m.\u001b[0m\u001b[0mshape\u001b[0m\u001b[0;34m)\u001b[0m\u001b[0;34m\u001b[0m\u001b[0m\n",
      "\u001b[0;31mKeyboardInterrupt\u001b[0m: "
     ]
    }
   ],
   "source": [
    "#t10n,s10n=ldata(10,'newP')\n",
    "#t01n,s01n=ldata(0.1,'newP')\n",
    "#t10o,s10o=ldata(10,'oriP')\n",
    "#t01o,s01o=ldata(0.1,'oriP')\n",
    "t5o,s5o=ldata(5,'oriP')\n",
    "t500o,s500o=ldata(500,'oriP')\n",
    "t5n,s5n=ldata(5,'newP')\n",
    "t500n,s500n=ldata(500,'newP')"
   ]
  },
  {
   "cell_type": "code",
   "execution_count": 10,
   "metadata": {},
   "outputs": [
    {
     "name": "stdout",
     "output_type": "stream",
     "text": [
      "c0 53.61125407445531\n"
     ]
    }
   ],
   "source": [
    "voxelr=0.005\n",
    "H = 3*voxelr*2\n",
    "w = spatiocyte.SpatiocyteWorld(Real3(H,L,L),voxelr)\n",
    "size=tuple(w.calculate_shape(Real3(H,L,L),voxelr))\n",
    "Nmv=size[1]*size[2]    \n",
    "#print('phil=',N/Nmv)\n",
    "Area=Nmv*(2*voxelr)**2\n",
    "c0=NB/Area\n",
    "#c0=NB/L/L\n",
    "print('c0',c0)"
   ]
  },
  {
   "cell_type": "code",
   "execution_count": 30,
   "metadata": {},
   "outputs": [],
   "source": [
    "tp5,sp5=(np.loadtxt('/home/chew/outputdata/Fig.surface.reversible.kd5.mpk1.csv',delimiter=',')).T\n",
    "tp500,sp500=(np.loadtxt('/home/chew/outputdata/Fig.surface.reversible.kd500.mpk1.csv',delimiter=',')).T"
   ]
  },
  {
   "cell_type": "code",
   "execution_count": 78,
   "metadata": {},
   "outputs": [],
   "source": [
    "#TT500=np.array(TT500)\n",
    "#ST500=np.array(ST500)"
   ]
  },
  {
   "cell_type": "code",
   "execution_count": 8,
   "metadata": {},
   "outputs": [],
   "source": [
    "TT5=[1.00000000e-05, 1.66810054e-05, 2.78255940e-05 ,4.64158883e-05,\n",
    " 7.74263683e-05, 1.29154967e-04 ,2.15443469e-04 ,3.59381366e-04,\n",
    " 5.99484250e-04, 1.00000000e-03 ,1.00000000e-03 ,1.66810054e-03,\n",
    " 2.78255940e-03, 4.64158883e-03 ,7.74263683e-03 ,1.29154967e-02,\n",
    " 2.15443469e-02, 3.59381366e-02 ,5.99484250e-02 ,1.00000000e-01]\n",
    "ST5=[9.90107036e-01, 9.83727020e-01, 9.73349506e-01, 9.56614234e-01,\n",
    " 9.29955744e-01 ,8.88249532e-01 ,8.24749866e-01 ,7.32012920e-01,\n",
    " 6.05051750e-01 ,4.47853509e-01 ,4.47984084e-01 ,2.81272819e-01,\n",
    " 1.41133866e-01 ,5.61929891e-02 ,2.11438244e-02 ,9.62283053e-03,\n",
    " 5.12229055e-03 ,2.89493303e-03 ,1.67936377e-03 ,9.87605737e-04]"
   ]
  },
  {
   "cell_type": "code",
   "execution_count": 11,
   "metadata": {},
   "outputs": [
    {
     "ename": "NameError",
     "evalue": "name 't5o' is not defined",
     "output_type": "error",
     "traceback": [
      "\u001b[0;31m---------------------------------------------------------------------------\u001b[0m",
      "\u001b[0;31mNameError\u001b[0m                                 Traceback (most recent call last)",
      "\u001b[0;32m<ipython-input-11-0ba8e3f57164>\u001b[0m in \u001b[0;36m<module>\u001b[0;34m()\u001b[0m\n\u001b[1;32m     13\u001b[0m \u001b[0mc1\u001b[0m\u001b[0;34m=\u001b[0m\u001b[0;36m100\u001b[0m\u001b[0;34m\u001b[0m\u001b[0m\n\u001b[1;32m     14\u001b[0m \u001b[0;31m#plotg(5,c1,tp5,sp5,'paper')\u001b[0m\u001b[0;34m\u001b[0m\u001b[0;34m\u001b[0m\u001b[0m\n\u001b[0;32m---> 15\u001b[0;31m \u001b[0mplotg\u001b[0m\u001b[0;34m(\u001b[0m\u001b[0;36m5\u001b[0m\u001b[0;34m,\u001b[0m\u001b[0mc0\u001b[0m\u001b[0;34m,\u001b[0m\u001b[0mt5o\u001b[0m\u001b[0;34m,\u001b[0m\u001b[0ms5o\u001b[0m\u001b[0;34m,\u001b[0m\u001b[0;34m'ori'\u001b[0m\u001b[0;34m)\u001b[0m\u001b[0;34m\u001b[0m\u001b[0m\n\u001b[0m\u001b[1;32m     16\u001b[0m \u001b[0mplotg\u001b[0m\u001b[0;34m(\u001b[0m\u001b[0;36m5\u001b[0m\u001b[0;34m,\u001b[0m\u001b[0mc0\u001b[0m\u001b[0;34m,\u001b[0m\u001b[0mt5n\u001b[0m\u001b[0;34m,\u001b[0m\u001b[0ms5n\u001b[0m\u001b[0;34m,\u001b[0m\u001b[0;34m'new'\u001b[0m\u001b[0;34m)\u001b[0m\u001b[0;34m\u001b[0m\u001b[0m\n\u001b[1;32m     17\u001b[0m \u001b[0;34m\u001b[0m\u001b[0m\n",
      "\u001b[0;31mNameError\u001b[0m: name 't5o' is not defined"
     ]
    }
   ],
   "source": [
    "def er(a,b):\n",
    "    return (a-b)*100/a\n",
    "\n",
    "def plotg(kd,c,x,y,name):\n",
    "    sinf=kd/(kd+c*ka)\n",
    "    print('{},kd={},Sinf={:.3f},Sim={:.3f},diff={:.2f}%'.format(name,kd,sinf,y[-1],er(sinf,y[-1])))\n",
    "    if name=='ori':\n",
    "        plt.semilogx(x,(y-sinf)/(1-sinf),'--',label=name+str(kd))\n",
    "    elif name=='new':\n",
    "        plt.semilogx(x,(y-sinf)/(1-sinf),'-',label=name+str(kd))    \n",
    "    else:\n",
    "        plt.semilogx(x,(y-sinf)/(1-sinf),'-.',label=name+str(kd))\n",
    "c1=100\n",
    "#plotg(5,c1,tp5,sp5,'paper')\n",
    "plotg(5,c0,t5o,s5o,'ori')\n",
    "plotg(5,c0,t5n,s5n,'new')\n",
    "\n",
    "#plotg(500,c0,t500o,s500o,'ori')\n",
    "plotg(500,c1,tp500,sp500,'paper')\n",
    "plotg(500,c0,t500n,s500n,'new')\n",
    "plt.plot(TT500,ST500,'-',label='theory500')\n",
    "plt.plot(TT5,ST5,'-',label='theory5')\n",
    "#plt.ylim(0,1.1)\n",
    "plt.legend()"
   ]
  },
  {
   "cell_type": "code",
   "execution_count": 9,
   "metadata": {},
   "outputs": [
    {
     "data": {
      "text/plain": [
       "(53.61125407445531, 62.5)"
      ]
     },
     "execution_count": 9,
     "metadata": {},
     "output_type": "execute_result"
    }
   ],
   "source": []
  },
  {
   "cell_type": "code",
   "execution_count": null,
   "metadata": {},
   "outputs": [],
   "source": []
  }
 ],
 "metadata": {
  "kernelspec": {
   "display_name": "Python 3",
   "language": "python",
   "name": "python3"
  },
  "language_info": {
   "codemirror_mode": {
    "name": "ipython",
    "version": 3
   },
   "file_extension": ".py",
   "mimetype": "text/x-python",
   "name": "python",
   "nbconvert_exporter": "python",
   "pygments_lexer": "ipython3",
   "version": "3.5.2"
  }
 },
 "nbformat": 4,
 "nbformat_minor": 2
}
