{
 "cells": [
  {
   "cell_type": "code",
   "execution_count": 8,
   "metadata": {},
   "outputs": [],
   "source": [
    "import glob\n",
    "import numpy as np\n",
    "import os.path\n",
    "from scipy import stats\n",
    "import math\n",
    "from math import sqrt,pi\n",
    "import matplotlib.pyplot as plt\n",
    "import mpmath as mp\n",
    "%matplotlib inline\n",
    "from scipy import special\n",
    "mydehoog = mp.calculus.inverselaplace.deHoog(mp)\n",
    "\n",
    "L=5\n",
    "f=1.0208582\n",
    "\n",
    "def calk(stsim,t,C): #get kt from st\n",
    "    dst = (stsim[2:]-stsim[:-2])/(t[2:]-t[:-2])\n",
    "    dst=np.append((stsim[1]-stsim[0])/(t[1]-t[0]),dst)\n",
    "    dst=np.append(dst,(stsim[-1]-stsim[-2])/(t[-1]-t[-2])  )\n",
    "    return -dst/stsim/C\n",
    "\n",
    "def funclt(t,C1,C2,D): #continuum kt at long time\n",
    "    #C1=R=2*rm,C2=ka\n",
    "    g = 0.577216\n",
    "    b1=4*D/C2/C2\n",
    "    A=np.log(b1*t)+4*pi*D/C1-2*g\n",
    "    return 4*pi*D*(1/A-g/A**2+(g**2-np.pi**2/6)/A**3+0.25/A**4)"
   ]
  },
  {
   "cell_type": "code",
   "execution_count": 2,
   "metadata": {
    "scrolled": true
   },
   "outputs": [
    {
     "name": "stdout",
     "output_type": "stream",
     "text": [
      "/home/chew/spatiocyte_example/2D/output/oriPa_2D_irr_kf0.01N423L6.5/*\n",
      "423.0 20000 0.200614156917643 6690848.0\n",
      "(153,)\n",
      "/home/chew/spatiocyte_example/2D/split/ec3_oriPa_simkf0.01_N423_L6.5_50tm_meanst_periodic_p0\n",
      "423.0 20000 0.200614156917643 6692299.0\n",
      "(153,)\n",
      "/home/chew/spatiocyte_example/2D/split/ec3_oriPa_simkf0.01_N423_L6.5_50tm_meanst_periodic_p1\n",
      "423.0 20000 0.200614156917643 6692401.0\n",
      "(153,)\n",
      "/home/chew/spatiocyte_example/2D/split/ec3_oriPa_simkf0.01_N423_L6.5_50tm_meanst_periodic_p2\n",
      "423.0 20000 0.200614156917643 6693253.0\n",
      "(153,)\n",
      "/home/chew/spatiocyte_example/2D/split/ec3_oriPa_simkf0.01_N423_L6.5_50tm_meanst_periodic_p3\n",
      "423.0 20000 0.200614156917643 6691215.0\n",
      "(153,)\n",
      "/home/chew/spatiocyte_example/2D/split/ec3_oriPa_simkf0.01_N423_L6.5_50tm_meanst_periodic_p4\n",
      "423.0 20000 0.200614156917643 6692777.0\n",
      "(153,)\n",
      "/home/chew/spatiocyte_example/2D/split/ec3_oriPa_simkf0.01_N423_L6.5_50tm_meanst_periodic_p5\n",
      "423.0 20000 0.200614156917643 6693444.0\n",
      "(153,)\n",
      "/home/chew/spatiocyte_example/2D/split/ec3_oriPa_simkf0.01_N423_L6.5_50tm_meanst_periodic_p6\n",
      "423.0 20000 0.200614156917643 6693429.0\n",
      "(153,)\n",
      "/home/chew/spatiocyte_example/2D/split/ec3_oriPa_simkf0.01_N423_L6.5_50tm_meanst_periodic_p7\n",
      "423.0 20000 0.200614156917643 6691617.0\n",
      "(153,)\n",
      "/home/chew/spatiocyte_example/2D/split/ec3_oriPa_simkf0.01_N423_L6.5_50tm_meanst_periodic_p8\n",
      "423.0 20000 0.200614156917643 6692402.0\n",
      "(153,)\n",
      "/home/chew/spatiocyte_example/2D/split/ec3_oriPa_simkf0.01_N423_L6.5_50tm_meanst_periodic_p9\n",
      "/home/chew/spatiocyte_example/2D/output/newPa_2D_irr_kf0.01N423L6.5/*\n",
      "423.0 20000 0.200614156917643 6697389.0\n",
      "(153,)\n",
      "/home/chew/spatiocyte_example/2D/split/ec3_newPa_simkf0.01_N423_L6.5_50tm_meanst_periodic_p0\n",
      "423.0 20000 0.200614156917643 6698425.0\n",
      "(153,)\n",
      "/home/chew/spatiocyte_example/2D/split/ec3_newPa_simkf0.01_N423_L6.5_50tm_meanst_periodic_p1\n",
      "423.0 20000 0.200614156917643 6699095.0\n",
      "(153,)\n",
      "/home/chew/spatiocyte_example/2D/split/ec3_newPa_simkf0.01_N423_L6.5_50tm_meanst_periodic_p2\n",
      "423.0 20000 0.200614156917643 6696994.0\n",
      "(153,)\n",
      "/home/chew/spatiocyte_example/2D/split/ec3_newPa_simkf0.01_N423_L6.5_50tm_meanst_periodic_p3\n",
      "423.0 20000 0.200614156917643 6699329.0\n",
      "(153,)\n",
      "/home/chew/spatiocyte_example/2D/split/ec3_newPa_simkf0.01_N423_L6.5_50tm_meanst_periodic_p4\n",
      "423.0 20000 0.200614156917643 6697181.0\n",
      "(153,)\n",
      "/home/chew/spatiocyte_example/2D/split/ec3_newPa_simkf0.01_N423_L6.5_50tm_meanst_periodic_p5\n",
      "423.0 20000 0.200614156917643 6698126.0\n",
      "(153,)\n",
      "/home/chew/spatiocyte_example/2D/split/ec3_newPa_simkf0.01_N423_L6.5_50tm_meanst_periodic_p6\n",
      "423.0 20000 0.200614156917643 6698534.0\n",
      "(153,)\n",
      "/home/chew/spatiocyte_example/2D/split/ec3_newPa_simkf0.01_N423_L6.5_50tm_meanst_periodic_p7\n",
      "423.0 20000 0.200614156917643 6698563.0\n",
      "(153,)\n",
      "/home/chew/spatiocyte_example/2D/split/ec3_newPa_simkf0.01_N423_L6.5_50tm_meanst_periodic_p8\n",
      "423.0 20000 0.200614156917643 6697531.0\n",
      "(153,)\n",
      "/home/chew/spatiocyte_example/2D/split/ec3_newPa_simkf0.01_N423_L6.5_50tm_meanst_periodic_p9\n"
     ]
    },
    {
     "data": {
      "image/png": "[encoded data removed]",
      "text/plain": [
       "<Figure size 432x288 with 1 Axes>"
      ]
     },
     "metadata": {},
     "output_type": "display_data"
    }
   ],
   "source": [
    "for pad in ['ori','new']:\n",
    "    kf=0.01\n",
    "    N=423\n",
    "    pattern = '/home/chew/spatiocyte_example/2D/output/{}Pa_2D_irr_kf{}N{}L6.5/*'.format(pad,kf,N)\n",
    "    FNS = glob.glob(pattern)#[:40000]\n",
    "    print(pattern)\n",
    "    split=10\n",
    "    sz = int(len(FNS)/split)\n",
    "    for j in range(split):\n",
    "        fns = FNS[(j)*sz:sz*(1+j)]\n",
    "        ss=[]\n",
    "        cnter = 0\n",
    "        for fn in fns:\n",
    "            t,nt=np.array(np.loadtxt(fn,delimiter=',',skiprows=1)).T\n",
    "            N0 = nt[0]    \n",
    "            nt=nt[1:-1]\n",
    "            #s=nt/float(N0)   \n",
    "            if len(ss)==0:\n",
    "                ss = nt\n",
    "            else: ss+=nt\n",
    "            cnter+=1\n",
    "        print(N0,cnter,t[-1],ss[-1])\n",
    "        t=t[1:-1]\n",
    "        print(np.array(ss).shape)\n",
    "        s = ss/float(cnter)/float(N0)\n",
    "        std=np.std(np.array(ss),axis=0)/N0\n",
    "        name='/home/chew/spatiocyte_example/2D/split/ec3_{}Pa_simkf{}_N{}_L6.5_50tm_meanst_periodic_p{}'.format(pad,kf,N,j)\n",
    "        print(name)\n",
    "        plt.semilogx(t,s,'-')\n",
    "        #plt.errorbar(t,s,std)\n",
    "        plt.xscale('log')\n",
    "        #plt.yscale('log')\n",
    "        filename=open(name,'w')\n",
    "        np.savetxt(name,[t,s],delimiter=',',fmt='%s')\n",
    "        filename.close()        \n",
    "\n",
    "\n"
   ]
  },
  {
   "cell_type": "code",
   "execution_count": 12,
   "metadata": {},
   "outputs": [
    {
     "name": "stdout",
     "output_type": "stream",
     "text": [
      "/home/chew/spatiocyte_example/2D/split/ec3_oriPa_simkf100.0_N100_L6.5_50tm_meanst_periodic_p0\n",
      "/home/chew/spatiocyte_example/2D/split/ec3_oriPa_simkf100.0_N100_L6.5_50tm_meanst_periodic_p1\n",
      "/home/chew/spatiocyte_example/2D/split/ec3_oriPa_simkf100.0_N100_L6.5_50tm_meanst_periodic_p2\n",
      "/home/chew/spatiocyte_example/2D/split/ec3_oriPa_simkf100.0_N100_L6.5_50tm_meanst_periodic_p3\n",
      "/home/chew/spatiocyte_example/2D/split/ec3_oriPa_simkf100.0_N100_L6.5_50tm_meanst_periodic_p4\n",
      "/home/chew/spatiocyte_example/2D/split/ec3_oriPa_simkf100.0_N100_L6.5_50tm_meanst_periodic_p5\n",
      "/home/chew/spatiocyte_example/2D/split/ec3_oriPa_simkf100.0_N100_L6.5_50tm_meanst_periodic_p6\n",
      "/home/chew/spatiocyte_example/2D/split/ec3_oriPa_simkf100.0_N100_L6.5_50tm_meanst_periodic_p7\n",
      "/home/chew/spatiocyte_example/2D/split/ec3_oriPa_simkf100.0_N100_L6.5_50tm_meanst_periodic_p8\n",
      "/home/chew/spatiocyte_example/2D/split/ec3_oriPa_simkf100.0_N100_L6.5_50tm_meanst_periodic_p9\n",
      "/home/chew/spatiocyte_example/2D/split/ec3_newPa_simkf100.0_N100_L6.5_50tm_meanst_periodic_p0\n",
      "/home/chew/spatiocyte_example/2D/split/ec3_newPa_simkf100.0_N100_L6.5_50tm_meanst_periodic_p1\n",
      "/home/chew/spatiocyte_example/2D/split/ec3_newPa_simkf100.0_N100_L6.5_50tm_meanst_periodic_p2\n",
      "/home/chew/spatiocyte_example/2D/split/ec3_newPa_simkf100.0_N100_L6.5_50tm_meanst_periodic_p3\n",
      "/home/chew/spatiocyte_example/2D/split/ec3_newPa_simkf100.0_N100_L6.5_50tm_meanst_periodic_p4\n",
      "/home/chew/spatiocyte_example/2D/split/ec3_newPa_simkf100.0_N100_L6.5_50tm_meanst_periodic_p5\n",
      "/home/chew/spatiocyte_example/2D/split/ec3_newPa_simkf100.0_N100_L6.5_50tm_meanst_periodic_p6\n",
      "/home/chew/spatiocyte_example/2D/split/ec3_newPa_simkf100.0_N100_L6.5_50tm_meanst_periodic_p7\n",
      "/home/chew/spatiocyte_example/2D/split/ec3_newPa_simkf100.0_N100_L6.5_50tm_meanst_periodic_p8\n",
      "/home/chew/spatiocyte_example/2D/split/ec3_newPa_simkf100.0_N100_L6.5_50tm_meanst_periodic_p9\n"
     ]
    },
    {
     "data": {
      "text/plain": [
       "(1.4, 2)"
      ]
     },
     "execution_count": 12,
     "metadata": {},
     "output_type": "execute_result"
    },
    {
     "data": {
      "image/png": "[encoded data removed]",
      "text/plain": [
       "<Figure size 432x288 with 1 Axes>"
      ]
     },
     "metadata": {},
     "output_type": "display_data"
    }
   ],
   "source": [
    "kf=100.0\n",
    "N=100#N=423\n",
    "Area = 42.247\n",
    "R=0.01\n",
    "D=1\n",
    "ka=kf*D*4*pi\n",
    "lg=8\n",
    "\n",
    "for pad in ['ori','new']:\n",
    "    KT=[]\n",
    "    for j in range(split):\n",
    "        name='/home/chew/spatiocyte_example/2D/split/ec3_{}Pa_simkf{}_N{}_L6.5_50tm_meanst_periodic_p{}'.format(pad,kf,N,j)\n",
    "        print(name)\n",
    "        t,st = np.loadtxt(name,delimiter=',')\n",
    "        kt = calk(st,t,N/Area)\n",
    "        KT.append(kt)\n",
    "        #plt.plot(t,kt,'.')\n",
    "    KT=np.array(KT)    \n",
    "    mkt = np.mean(KT,axis=0)\n",
    "    std = np.std(KT,axis=0)\n",
    "    plt.errorbar(t[::lg],mkt[::lg],std[::lg],fmt='o',capsize=5,label=pad)\n",
    "\n",
    "plt.plot(t,funclt(t,ka,R,D),'r-',label='cont. theory')\n",
    "plt.legend()\n",
    "plt.ylabel('k(t)')\n",
    "plt.xlabel('t')\n",
    "#plt.title('ec3,N={},kf={},L={},trials={}k'.format(423,0.01,6.5,200))\n",
    "plt.title('ec3,N={},kf={},L={},trials={}k_Db=0'.format(N,kf,6.5,120))\n",
    "plt.ylim(1.4,2)"
   ]
  },
  {
   "cell_type": "code",
   "execution_count": null,
   "metadata": {},
   "outputs": [],
   "source": [
    "#names = ['/home/chew/spatiocyte_example/2D/ec3_oriPa_simkf100_N100_L6.5_50tm_meanst_periodic',\n",
    "#'/home/chew/spatiocyte_example/2D/ec3_newPa_simkf100_N100_L6.5_50tm_meanst_periodic']\n",
    "names = ['/home/chew/spatiocyte_example/2D/ec3_oriPa_simkf100.0_N100_L6.5_50tm_meanst_periodic',\n",
    "        '/home/chew/spatiocyte_example/2D/ec3_newPa_simkf100.0_N100_L6.5_50tm_meanst_periodic']\n",
    "labels = ['ec3_oriPa','ec3_newPa']\n",
    "fig,ax=plt.subplots(1,2,figsize=(17,6))\n",
    "ST=[]\n",
    "N=100\n",
    "Area = 42.247\n",
    "Tth,kth = np.loadtxt('/home/chew/outputdata/keff/2D/kt_kf100N100A42_247.csv',delimiter=',').T\n",
    "ax[0].plot(Tth[:153],kth[:153],'r-',label='exact')\n",
    "kaf=100\n",
    "R=0.01\n",
    "D=1\n",
    "ka=kaf*D*4*pi\n",
    "\n",
    "Dif = []\n",
    "for i,name in enumerate(names):\n",
    "    t,st = np.loadtxt(name,delimiter=',')\n",
    "    #if i==1:\n",
    "    #    t=t[:153]\n",
    "    #    st=st[:153]\n",
    "    t=t[::2]\n",
    "    st=st[::2]\n",
    "    #ST.append(st[:31])\n",
    "    kt = calk(st,t,N/Area)\n",
    "    #kt=plotg(N,Area,t,st,'{}_conc{:.3f}'.format(labels[i],N/Area))\n",
    "    #print(max(t-Tth[:153]))\n",
    "    #idt = t>0.1\n",
    "    kth = funclt(t,ka,R,D)\n",
    "    dif = abs(kt-kth)#*100/kt\n",
    "    Dif.append(dif)\n",
    "    ax[0].plot(t,kt,label=labels[i])\n",
    "\n",
    "ax[0].set_xlim(0.05,0.2)\n",
    "ax[0].set_ylim(1.4,1.8)\n",
    "ax[0].set_ylabel('kt')\n",
    "ax[0].set_xlabel('t')\n",
    "ax[1].plot(t,Dif[0],'r-')\n",
    "ax[1].plot(t,Dif[1],'g-')\n",
    "ax[1].set_ylim(-0.02,0.02)\n",
    "ax[1].set_xlabel('t')\n",
    "ax[1].set_ylabel('difference compared to cont. theory, %')\n",
    "ax[0].set_title('kf100,L=6.5,N=100,ec3_offlattice,simrun=40k')\n",
    "ax[0].semilogx(t,funclt(t,ka,R,D),'c--',label='approx theory')\n",
    "#plt.xlim(0.05,0.2)\n",
    "#plt.ylim(0.4,0.8)\n",
    "#plt.semilogx(t,func(t,ka,R,D),'c--',label='approx theory')\n",
    "ax[0].legend()"
   ]
  },
  {
   "cell_type": "code",
   "execution_count": 43,
   "metadata": {
    "scrolled": true
   },
   "outputs": [
    {
     "name": "stdout",
     "output_type": "stream",
     "text": [
      "/home/chew/spatiocyte_example/2D/output/newPa_2D_irr_kf100.0N100L6.5/*\n",
      "sample size 4000\n",
      "N0=100.0iteration=4000tlast=0.200614156917643,Stlast=182132.0\n",
      "/home/chew/spatiocyte_example/2D/split/ec3_newPa_simkf100_N100_L6.5_50tm_meanst_Da1Db0_p0\n",
      "N0=100.0iteration=4000tlast=0.200614156917643,Stlast=182749.0\n",
      "/home/chew/spatiocyte_example/2D/split/ec3_newPa_simkf100_N100_L6.5_50tm_meanst_Da1Db0_p1\n",
      "N0=100.0iteration=4000tlast=0.200614156917643,Stlast=182788.0\n",
      "/home/chew/spatiocyte_example/2D/split/ec3_newPa_simkf100_N100_L6.5_50tm_meanst_Da1Db0_p2\n",
      "N0=100.0iteration=4000tlast=0.200614156917643,Stlast=182376.0\n",
      "/home/chew/spatiocyte_example/2D/split/ec3_newPa_simkf100_N100_L6.5_50tm_meanst_Da1Db0_p3\n",
      "N0=100.0iteration=4000tlast=0.200614156917643,Stlast=182178.0\n",
      "/home/chew/spatiocyte_example/2D/split/ec3_newPa_simkf100_N100_L6.5_50tm_meanst_Da1Db0_p4\n",
      "N0=100.0iteration=4000tlast=0.200614156917643,Stlast=182349.0\n",
      "/home/chew/spatiocyte_example/2D/split/ec3_newPa_simkf100_N100_L6.5_50tm_meanst_Da1Db0_p5\n",
      "N0=100.0iteration=4000tlast=0.200614156917643,Stlast=182060.0\n",
      "/home/chew/spatiocyte_example/2D/split/ec3_newPa_simkf100_N100_L6.5_50tm_meanst_Da1Db0_p6\n",
      "N0=100.0iteration=4000tlast=0.200614156917643,Stlast=182801.0\n",
      "/home/chew/spatiocyte_example/2D/split/ec3_newPa_simkf100_N100_L6.5_50tm_meanst_Da1Db0_p7\n",
      "N0=100.0iteration=4000tlast=0.200614156917643,Stlast=182314.0\n",
      "/home/chew/spatiocyte_example/2D/split/ec3_newPa_simkf100_N100_L6.5_50tm_meanst_Da1Db0_p8\n",
      "N0=100.0iteration=4000tlast=0.200614156917643,Stlast=182067.0\n",
      "/home/chew/spatiocyte_example/2D/split/ec3_newPa_simkf100_N100_L6.5_50tm_meanst_Da1Db0_p9\n",
      "N0=100.0iteration=4000tlast=0.200614156917643,Stlast=182446.0\n",
      "/home/chew/spatiocyte_example/2D/split/ec3_newPa_simkf100_N100_L6.5_50tm_meanst_Da1Db0_p10\n",
      "N0=100.0iteration=4000tlast=0.200614156917643,Stlast=182642.0\n",
      "/home/chew/spatiocyte_example/2D/split/ec3_newPa_simkf100_N100_L6.5_50tm_meanst_Da1Db0_p11\n",
      "N0=100.0iteration=4000tlast=0.200614156917643,Stlast=182788.0\n",
      "/home/chew/spatiocyte_example/2D/split/ec3_newPa_simkf100_N100_L6.5_50tm_meanst_Da1Db0_p12\n",
      "N0=100.0iteration=4000tlast=0.200614156917643,Stlast=182282.0\n",
      "/home/chew/spatiocyte_example/2D/split/ec3_newPa_simkf100_N100_L6.5_50tm_meanst_Da1Db0_p13\n",
      "N0=100.0iteration=4000tlast=0.200614156917643,Stlast=181887.0\n",
      "/home/chew/spatiocyte_example/2D/split/ec3_newPa_simkf100_N100_L6.5_50tm_meanst_Da1Db0_p14\n",
      "N0=100.0iteration=4000tlast=0.200614156917643,Stlast=182020.0\n",
      "/home/chew/spatiocyte_example/2D/split/ec3_newPa_simkf100_N100_L6.5_50tm_meanst_Da1Db0_p15\n",
      "N0=100.0iteration=4000tlast=0.200614156917643,Stlast=182509.0\n",
      "/home/chew/spatiocyte_example/2D/split/ec3_newPa_simkf100_N100_L6.5_50tm_meanst_Da1Db0_p16\n",
      "N0=100.0iteration=4000tlast=0.200614156917643,Stlast=181990.0\n",
      "/home/chew/spatiocyte_example/2D/split/ec3_newPa_simkf100_N100_L6.5_50tm_meanst_Da1Db0_p17\n",
      "N0=100.0iteration=4000tlast=0.200614156917643,Stlast=182756.0\n",
      "/home/chew/spatiocyte_example/2D/split/ec3_newPa_simkf100_N100_L6.5_50tm_meanst_Da1Db0_p18\n",
      "N0=100.0iteration=4000tlast=0.200614156917643,Stlast=181551.0\n",
      "/home/chew/spatiocyte_example/2D/split/ec3_newPa_simkf100_N100_L6.5_50tm_meanst_Da1Db0_p19\n",
      "/home/chew/spatiocyte_example/2D/output/newPa_2D_irr_kf100.0N100L6.5_Da0/*\n",
      "sample size 4000\n",
      "N0=100.0iteration=4000tlast=0.200614156917643,Stlast=180719.0\n",
      "/home/chew/spatiocyte_example/2D/split/ec3_newPa_simkf100_N100_L6.5_50tm_meanst_Da0Db1_p0\n",
      "N0=100.0iteration=4000tlast=0.200614156917643,Stlast=181163.0\n",
      "/home/chew/spatiocyte_example/2D/split/ec3_newPa_simkf100_N100_L6.5_50tm_meanst_Da0Db1_p1\n",
      "N0=100.0iteration=4000tlast=0.200614156917643,Stlast=181150.0\n",
      "/home/chew/spatiocyte_example/2D/split/ec3_newPa_simkf100_N100_L6.5_50tm_meanst_Da0Db1_p2\n",
      "N0=100.0iteration=4000tlast=0.200614156917643,Stlast=180921.0\n",
      "/home/chew/spatiocyte_example/2D/split/ec3_newPa_simkf100_N100_L6.5_50tm_meanst_Da0Db1_p3\n",
      "N0=100.0iteration=4000tlast=0.200614156917643,Stlast=181075.0\n",
      "/home/chew/spatiocyte_example/2D/split/ec3_newPa_simkf100_N100_L6.5_50tm_meanst_Da0Db1_p4\n",
      "N0=100.0iteration=4000tlast=0.200614156917643,Stlast=181656.0\n",
      "/home/chew/spatiocyte_example/2D/split/ec3_newPa_simkf100_N100_L6.5_50tm_meanst_Da0Db1_p5\n",
      "N0=100.0iteration=4000tlast=0.200614156917643,Stlast=181130.0\n",
      "/home/chew/spatiocyte_example/2D/split/ec3_newPa_simkf100_N100_L6.5_50tm_meanst_Da0Db1_p6\n",
      "N0=100.0iteration=4000tlast=0.200614156917643,Stlast=180972.0\n",
      "/home/chew/spatiocyte_example/2D/split/ec3_newPa_simkf100_N100_L6.5_50tm_meanst_Da0Db1_p7\n",
      "N0=100.0iteration=4000tlast=0.200614156917643,Stlast=181353.0\n",
      "/home/chew/spatiocyte_example/2D/split/ec3_newPa_simkf100_N100_L6.5_50tm_meanst_Da0Db1_p8\n",
      "N0=100.0iteration=4000tlast=0.200614156917643,Stlast=181102.0\n",
      "/home/chew/spatiocyte_example/2D/split/ec3_newPa_simkf100_N100_L6.5_50tm_meanst_Da0Db1_p9\n",
      "N0=100.0iteration=4000tlast=0.200614156917643,Stlast=181427.0\n",
      "/home/chew/spatiocyte_example/2D/split/ec3_newPa_simkf100_N100_L6.5_50tm_meanst_Da0Db1_p10\n",
      "N0=100.0iteration=4000tlast=0.200614156917643,Stlast=181002.0\n",
      "/home/chew/spatiocyte_example/2D/split/ec3_newPa_simkf100_N100_L6.5_50tm_meanst_Da0Db1_p11\n",
      "N0=100.0iteration=4000tlast=0.200614156917643,Stlast=181025.0\n",
      "/home/chew/spatiocyte_example/2D/split/ec3_newPa_simkf100_N100_L6.5_50tm_meanst_Da0Db1_p12\n",
      "N0=100.0iteration=4000tlast=0.200614156917643,Stlast=181142.0\n",
      "/home/chew/spatiocyte_example/2D/split/ec3_newPa_simkf100_N100_L6.5_50tm_meanst_Da0Db1_p13\n",
      "N0=100.0iteration=4000tlast=0.200614156917643,Stlast=181626.0\n",
      "/home/chew/spatiocyte_example/2D/split/ec3_newPa_simkf100_N100_L6.5_50tm_meanst_Da0Db1_p14\n",
      "N0=100.0iteration=4000tlast=0.200614156917643,Stlast=181397.0\n",
      "/home/chew/spatiocyte_example/2D/split/ec3_newPa_simkf100_N100_L6.5_50tm_meanst_Da0Db1_p15\n",
      "N0=100.0iteration=4000tlast=0.200614156917643,Stlast=180425.0\n",
      "/home/chew/spatiocyte_example/2D/split/ec3_newPa_simkf100_N100_L6.5_50tm_meanst_Da0Db1_p16\n",
      "N0=100.0iteration=4000tlast=0.200614156917643,Stlast=181320.0\n",
      "/home/chew/spatiocyte_example/2D/split/ec3_newPa_simkf100_N100_L6.5_50tm_meanst_Da0Db1_p17\n",
      "N0=100.0iteration=4000tlast=0.200614156917643,Stlast=181417.0\n",
      "/home/chew/spatiocyte_example/2D/split/ec3_newPa_simkf100_N100_L6.5_50tm_meanst_Da0Db1_p18\n",
      "N0=100.0iteration=4000tlast=0.200614156917643,Stlast=181216.0\n",
      "/home/chew/spatiocyte_example/2D/split/ec3_newPa_simkf100_N100_L6.5_50tm_meanst_Da0Db1_p19\n"
     ]
    }
   ],
   "source": [
    "folders=['/home/chew/spatiocyte_example/2D/output/newPa_2D_irr_kf100.0N100L6.5/*',\n",
    "        '/home/chew/spatiocyte_example/2D/output/newPa_2D_irr_kf100.0N100L6.5_Da0/*']\n",
    "kf=100\n",
    "N=100\n",
    "pad='new'\n",
    "names=['Da1Db0','Da0Db1']\n",
    "out=[]\n",
    "split=20\n",
    "for k,pattern in enumerate(folders):\n",
    "    name=names[k]\n",
    "    FNS = glob.glob(pattern)[:80000]\n",
    "    print(pattern)\n",
    "    \n",
    "    sz = int(len(FNS)/split)\n",
    "    print('sample size',sz)\n",
    "    stmean=[]\n",
    "    for j in range(split):\n",
    "        fns = FNS[(j)*sz:sz*(1+j)]\n",
    "        ss=[]\n",
    "        cnter = 0\n",
    "        for fn in fns:\n",
    "            t,nt=np.array(np.loadtxt(fn,delimiter=',',skiprows=1)).T\n",
    "            N0 = nt[0]    \n",
    "            nt=nt[1:-1]\n",
    "            #s=nt/float(N0)   \n",
    "            if len(ss)==0:\n",
    "                ss = nt\n",
    "            else: ss+=nt\n",
    "            cnter+=1\n",
    "        print('N0={}iteration={}tlast={},Stlast={}'.format(N0,cnter,t[-1],ss[-1]))\n",
    "        t=t[1:-1]\n",
    "        #print(np.array(ss).shape)\n",
    "        s = ss/float(cnter)/float(N0)\n",
    "        stmean.append(s)\n",
    "        fname='/home/chew/spatiocyte_example/2D/split/ec3_{}Pa_simkf{}_N{}_L6.5_50tm_meanst_{}_p{}'.format(pad,kf,N,name,j)\n",
    "        print(fname)\n",
    "        #plt.semilogx(t,s,'-')\n",
    "        #plt.errorbar(t,s,std)\n",
    "        #plt.xscale('log')\n",
    "        #plt.yscale('log')\n",
    "        filename=open(fname,'w')\n",
    "        np.savetxt(fname,[t,s],delimiter=',',fmt='%s')\n",
    "        filename.close()    \n",
    "    stmean=np.array(stmean)\n",
    "    out.append([t,stmean])"
   ]
  },
  {
   "cell_type": "code",
   "execution_count": 1,
   "metadata": {},
   "outputs": [
    {
     "ename": "NameError",
     "evalue": "name 'out' is not defined",
     "output_type": "error",
     "traceback": [
      "\u001b[0;31m---------------------------------------------------------------------------\u001b[0m",
      "\u001b[0;31mNameError\u001b[0m                                 Traceback (most recent call last)",
      "\u001b[0;32m<ipython-input-1-d97ff97f5f8d>\u001b[0m in \u001b[0;36m<module>\u001b[0;34m()\u001b[0m\n\u001b[1;32m      1\u001b[0m \u001b[0mds\u001b[0m\u001b[0;34m=\u001b[0m\u001b[0;36m2\u001b[0m\u001b[0;34m\u001b[0m\u001b[0m\n\u001b[1;32m      2\u001b[0m \u001b[0mi\u001b[0m\u001b[0;34m=\u001b[0m\u001b[0;36m0\u001b[0m\u001b[0;34m\u001b[0m\u001b[0m\n\u001b[0;32m----> 3\u001b[0;31m \u001b[0;32mfor\u001b[0m \u001b[0mt\u001b[0m\u001b[0;34m,\u001b[0m\u001b[0mstmean\u001b[0m \u001b[0;32min\u001b[0m \u001b[0mout\u001b[0m\u001b[0;34m:\u001b[0m\u001b[0;34m\u001b[0m\u001b[0m\n\u001b[0m\u001b[1;32m      4\u001b[0m     \u001b[0mprint\u001b[0m\u001b[0;34m(\u001b[0m\u001b[0mt\u001b[0m\u001b[0;34m.\u001b[0m\u001b[0mshape\u001b[0m\u001b[0;34m)\u001b[0m\u001b[0;34m\u001b[0m\u001b[0m\n\u001b[1;32m      5\u001b[0m     \u001b[0mprint\u001b[0m\u001b[0;34m(\u001b[0m\u001b[0mnp\u001b[0m\u001b[0;34m.\u001b[0m\u001b[0mstd\u001b[0m\u001b[0;34m(\u001b[0m\u001b[0mstmean\u001b[0m\u001b[0;34m,\u001b[0m\u001b[0maxis\u001b[0m\u001b[0;34m=\u001b[0m\u001b[0;36m0\u001b[0m\u001b[0;34m)\u001b[0m\u001b[0;34m[\u001b[0m\u001b[0;34m:\u001b[0m\u001b[0;34m:\u001b[0m\u001b[0mds\u001b[0m\u001b[0;34m]\u001b[0m\u001b[0;34m[\u001b[0m\u001b[0;34m-\u001b[0m\u001b[0;36m1\u001b[0m\u001b[0;34m]\u001b[0m\u001b[0;34m)\u001b[0m\u001b[0;34m\u001b[0m\u001b[0m\n",
      "\u001b[0;31mNameError\u001b[0m: name 'out' is not defined"
     ]
    }
   ],
   "source": [
    "ds=2\n",
    "i=0\n",
    "for t,stmean in out:\n",
    "    print(np.std(stmean,axis=0)[::ds][-1])\n",
    "    plt.errorbar(t[::ds],np.mean(stmean,axis=0)[::ds],np.std(stmean,axis=0)[::ds],label=i,capsize=5)\n",
    "    i+=1\n",
    "plt.legend()\n",
    "plt.ylim(0.45,0.6)\n",
    "plt.xlim(0.125,0.2)"
   ]
  },
  {
   "cell_type": "code",
   "execution_count": 9,
   "metadata": {},
   "outputs": [
    {
     "data": {
      "text/plain": [
       "2.0422724563012373"
      ]
     },
     "execution_count": 9,
     "metadata": {},
     "output_type": "execute_result"
    }
   ],
   "source": []
  },
  {
   "cell_type": "code",
   "execution_count": 16,
   "metadata": {
    "scrolled": true
   },
   "outputs": [
    {
     "name": "stdout",
     "output_type": "stream",
     "text": [
      "/home/chew/spatiocyte_example/2D/split/ec3_newPa_simkf100_N100_L6.5_50tm_meanst_Da1Db0_p0\n",
      "0.45533\n",
      "/home/chew/spatiocyte_example/2D/split/ec3_newPa_simkf100_N100_L6.5_50tm_meanst_Da1Db0_p1\n",
      "0.4568725\n",
      "/home/chew/spatiocyte_example/2D/split/ec3_newPa_simkf100_N100_L6.5_50tm_meanst_Da1Db0_p2\n",
      "0.45697000000000004\n",
      "/home/chew/spatiocyte_example/2D/split/ec3_newPa_simkf100_N100_L6.5_50tm_meanst_Da1Db0_p3\n",
      "0.45594\n",
      "/home/chew/spatiocyte_example/2D/split/ec3_newPa_simkf100_N100_L6.5_50tm_meanst_Da1Db0_p4\n",
      "0.455445\n",
      "/home/chew/spatiocyte_example/2D/split/ec3_newPa_simkf100_N100_L6.5_50tm_meanst_Da1Db0_p5\n",
      "0.45587249999999996\n",
      "/home/chew/spatiocyte_example/2D/split/ec3_newPa_simkf100_N100_L6.5_50tm_meanst_Da1Db0_p6\n",
      "0.45515\n",
      "/home/chew/spatiocyte_example/2D/split/ec3_newPa_simkf100_N100_L6.5_50tm_meanst_Da1Db0_p7\n",
      "0.4570025\n",
      "/home/chew/spatiocyte_example/2D/split/ec3_newPa_simkf100_N100_L6.5_50tm_meanst_Da1Db0_p8\n",
      "0.455785\n",
      "/home/chew/spatiocyte_example/2D/split/ec3_newPa_simkf100_N100_L6.5_50tm_meanst_Da1Db0_p9\n",
      "0.4551675\n",
      "/home/chew/spatiocyte_example/2D/split/ec3_newPa_simkf100_N100_L6.5_50tm_meanst_Da1Db0_p10\n",
      "0.456115\n",
      "/home/chew/spatiocyte_example/2D/split/ec3_newPa_simkf100_N100_L6.5_50tm_meanst_Da1Db0_p11\n",
      "0.456605\n",
      "/home/chew/spatiocyte_example/2D/split/ec3_newPa_simkf100_N100_L6.5_50tm_meanst_Da1Db0_p12\n",
      "0.45697000000000004\n",
      "/home/chew/spatiocyte_example/2D/split/ec3_newPa_simkf100_N100_L6.5_50tm_meanst_Da1Db0_p13\n",
      "0.455705\n",
      "/home/chew/spatiocyte_example/2D/split/ec3_newPa_simkf100_N100_L6.5_50tm_meanst_Da1Db0_p14\n",
      "0.4547175\n",
      "/home/chew/spatiocyte_example/2D/split/ec3_newPa_simkf100_N100_L6.5_50tm_meanst_Da1Db0_p15\n",
      "0.45505\n",
      "/home/chew/spatiocyte_example/2D/split/ec3_newPa_simkf100_N100_L6.5_50tm_meanst_Da1Db0_p16\n",
      "0.45627249999999997\n",
      "/home/chew/spatiocyte_example/2D/split/ec3_newPa_simkf100_N100_L6.5_50tm_meanst_Da1Db0_p17\n",
      "0.454975\n",
      "/home/chew/spatiocyte_example/2D/split/ec3_newPa_simkf100_N100_L6.5_50tm_meanst_Da1Db0_p18\n",
      "0.45689\n",
      "/home/chew/spatiocyte_example/2D/split/ec3_newPa_simkf100_N100_L6.5_50tm_meanst_Da1Db0_p19\n",
      "0.4538775\n",
      "(20, 153)\n",
      "/home/chew/spatiocyte_example/2D/split/ec3_newPa_simkf100_N100_L6.5_50tm_meanst_Da0Db1_p0\n",
      "0.45179749999999996\n",
      "/home/chew/spatiocyte_example/2D/split/ec3_newPa_simkf100_N100_L6.5_50tm_meanst_Da0Db1_p1\n",
      "0.4529075\n",
      "/home/chew/spatiocyte_example/2D/split/ec3_newPa_simkf100_N100_L6.5_50tm_meanst_Da0Db1_p2\n",
      "0.452875\n",
      "/home/chew/spatiocyte_example/2D/split/ec3_newPa_simkf100_N100_L6.5_50tm_meanst_Da0Db1_p3\n",
      "0.4523025\n",
      "/home/chew/spatiocyte_example/2D/split/ec3_newPa_simkf100_N100_L6.5_50tm_meanst_Da0Db1_p4\n",
      "0.45268749999999996\n",
      "/home/chew/spatiocyte_example/2D/split/ec3_newPa_simkf100_N100_L6.5_50tm_meanst_Da0Db1_p5\n",
      "0.45414\n",
      "/home/chew/spatiocyte_example/2D/split/ec3_newPa_simkf100_N100_L6.5_50tm_meanst_Da0Db1_p6\n",
      "0.452825\n",
      "/home/chew/spatiocyte_example/2D/split/ec3_newPa_simkf100_N100_L6.5_50tm_meanst_Da0Db1_p7\n",
      "0.45243\n",
      "/home/chew/spatiocyte_example/2D/split/ec3_newPa_simkf100_N100_L6.5_50tm_meanst_Da0Db1_p8\n",
      "0.4533825\n",
      "/home/chew/spatiocyte_example/2D/split/ec3_newPa_simkf100_N100_L6.5_50tm_meanst_Da0Db1_p9\n",
      "0.452755\n",
      "/home/chew/spatiocyte_example/2D/split/ec3_newPa_simkf100_N100_L6.5_50tm_meanst_Da0Db1_p10\n",
      "0.45356749999999996\n",
      "/home/chew/spatiocyte_example/2D/split/ec3_newPa_simkf100_N100_L6.5_50tm_meanst_Da0Db1_p11\n",
      "0.45250500000000005\n",
      "/home/chew/spatiocyte_example/2D/split/ec3_newPa_simkf100_N100_L6.5_50tm_meanst_Da0Db1_p12\n",
      "0.45256250000000003\n",
      "/home/chew/spatiocyte_example/2D/split/ec3_newPa_simkf100_N100_L6.5_50tm_meanst_Da0Db1_p13\n",
      "0.452855\n",
      "/home/chew/spatiocyte_example/2D/split/ec3_newPa_simkf100_N100_L6.5_50tm_meanst_Da0Db1_p14\n",
      "0.454065\n",
      "/home/chew/spatiocyte_example/2D/split/ec3_newPa_simkf100_N100_L6.5_50tm_meanst_Da0Db1_p15\n",
      "0.45349249999999997\n",
      "/home/chew/spatiocyte_example/2D/split/ec3_newPa_simkf100_N100_L6.5_50tm_meanst_Da0Db1_p16\n",
      "0.45106250000000003\n",
      "/home/chew/spatiocyte_example/2D/split/ec3_newPa_simkf100_N100_L6.5_50tm_meanst_Da0Db1_p17\n",
      "0.4533\n",
      "/home/chew/spatiocyte_example/2D/split/ec3_newPa_simkf100_N100_L6.5_50tm_meanst_Da0Db1_p18\n",
      "0.4535425\n",
      "/home/chew/spatiocyte_example/2D/split/ec3_newPa_simkf100_N100_L6.5_50tm_meanst_Da0Db1_p19\n",
      "0.45304\n",
      "(20, 153)\n"
     ]
    },
    {
     "data": {
      "text/plain": [
       "(1.4, 2)"
      ]
     },
     "execution_count": 16,
     "metadata": {},
     "output_type": "execute_result"
    },
    {
     "data": {
      "image/png": "[encoded data removed]",
      "text/plain": [
       "<Figure size 720x360 with 1 Axes>"
      ]
     },
     "metadata": {},
     "output_type": "display_data"
    }
   ],
   "source": [
    "plt.figure(figsize=(10,5))\n",
    "names=['Da1Db0','Da0Db1']\n",
    "N=100\n",
    "split=20\n",
    "kf=100\n",
    "Area=42.247\n",
    "lg=5\n",
    "R=0.01\n",
    "D=1\n",
    "ka=kf*D*4*pi\n",
    "lastkt=[[],[]]\n",
    "\n",
    "for ii,nm in enumerate(names):\n",
    "    KT=[]\n",
    "    for j in range(split):\n",
    "        name='/home/chew/spatiocyte_example/2D/split/ec3_newPa_simkf100_N100_L6.5_50tm_meanst_{}_p{}'.format(nm,j)\n",
    "        print(name)\n",
    "        t,st = np.loadtxt(name,delimiter=',')\n",
    "        print(st[-1])\n",
    "        kt = calk(st,t,N/Area)\n",
    "        KT.append(kt)\n",
    "        #plt.plot(t,kt,'.')\n",
    "        lastkt[ii].append(kt[-3])\n",
    "    KT=np.array(KT)    \n",
    "    mkt = np.mean(KT,axis=0)\n",
    "    print(KT.shape)\n",
    "    tscore = stats.t.ppf(1-0.025, 30)#Studnt, p<0.05, 2-tail\n",
    "    std = np.std(KT,axis=0)*tscore/math.sqrt(split-1)#check correct or not? P=0.05\n",
    "    plt.errorbar(t[::lg],mkt[::lg],std[::lg],fmt='.',capsize=5,label=nm)\n",
    "plt.plot(t,funclt(t,ka,R,D),'c-',label='cont. theory')\n",
    "plt.legend()\n",
    "plt.ylabel('k(t)')\n",
    "plt.xlabel('t')\n",
    "#plt.title('ec3,N={},kf={},L={},trials={}k'.format(423,0.01,6.5,200))\n",
    "#plt.title('ec3,N={},kf={},L={},trials={}k_Db=0'.format(N,kf,6.5,120))\n",
    "plt.ylim(1.4,2)"
   ]
  },
  {
   "cell_type": "code",
   "execution_count": 66,
   "metadata": {},
   "outputs": [
    {
     "name": "stdout",
     "output_type": "stream",
     "text": [
      "[1.435823 1.452893]\n"
     ]
    },
    {
     "data": {
      "text/plain": [
       "(array([1., 1., 3., 4., 4., 4., 3., 0.]),\n",
       " array([1.35 , 1.375, 1.4  , 1.425, 1.45 , 1.475, 1.5  , 1.525, 1.55 ]),\n",
       " <a list of 8 Patch objects>)"
      ]
     },
     "execution_count": 66,
     "metadata": {},
     "output_type": "execute_result"
    },
    {
     "data": {
      "image/png": "[encoded data removed]",
      "text/plain": [
       "<Figure size 432x288 with 1 Axes>"
      ]
     },
     "metadata": {},
     "output_type": "display_data"
    }
   ],
   "source": [
    "print(np.mean(lastkt,axis=1))\n",
    "plt.hist(lastkt[0],bins=8,alpha=0.5,range=(1.35,1.55))\n",
    "plt.hist(lastkt[1],bins=8,alpha=0.5,range=(1.35,1.55))"
   ]
  },
  {
   "cell_type": "code",
   "execution_count": 33,
   "metadata": {},
   "outputs": [
    {
     "name": "stderr",
     "output_type": "stream",
     "text": [
      "/usr/local/lib/python3.6/dist-packages/ipykernel_launcher.py:20: RuntimeWarning: divide by zero encountered in true_divide\n"
     ]
    },
    {
     "name": "stdout",
     "output_type": "stream",
     "text": [
      "df 62\n"
     ]
    },
    {
     "name": "stderr",
     "output_type": "stream",
     "text": [
      "/usr/local/lib/python3.6/dist-packages/numpy/core/_methods.py:112: RuntimeWarning: invalid value encountered in subtract\n",
      "  x = asanyarray(arr - arrmean)\n"
     ]
    },
    {
     "name": "stdout",
     "output_type": "stream",
     "text": [
      "df 200\n"
     ]
    },
    {
     "data": {
      "text/plain": [
       "(1.4, 2)"
      ]
     },
     "execution_count": 33,
     "metadata": {},
     "output_type": "execute_result"
    },
    {
     "data": {
      "image/png": "[encoded data removed]",
      "text/plain": [
       "<Figure size 720x360 with 1 Axes>"
      ]
     },
     "metadata": {},
     "output_type": "display_data"
    }
   ],
   "source": [
    "plt.figure(figsize=(10,5))\n",
    "names=['Da0.0Db1.0_5Nb','Da1.0Db0.0_5Nb']\n",
    "N=500\n",
    "kf=100\n",
    "Area=42.247\n",
    "lg=5\n",
    "R=0.01\n",
    "D=1\n",
    "ka=kf*D*4*pi\n",
    "lastkt=[[],[]]\n",
    "for ii,nm in enumerate(names):\n",
    "    pattern = '/home/chew/spatiocyte_example/2D/output/newPa_2D_irr_kf100N100L6.5_{}/*'.format(nm)\n",
    "    FNS = glob.glob(pattern)\n",
    "    KT=[]\n",
    "    df = len(FNS)-1\n",
    "    for name in FNS:\n",
    "        t,st=np.array(np.loadtxt(name,delimiter=',',skiprows=1)).T\n",
    "        kt = calk(st,t,N/Area)\n",
    "        KT.append(kt)\n",
    "        #plt.plot(t,kt,'.')\n",
    "        lastkt[ii].append(kt[-3])\n",
    "    KT=np.array(KT)    \n",
    "    mkt = np.mean(KT,axis=0)\n",
    "    print('df',df)\n",
    "    tscore = stats.t.ppf(1-0.025, df)#Studnt, p<0.05, 2-tail\n",
    "    std = np.std(KT,axis=0)*tscore/math.sqrt(df)#check correct or not? P=0.05\n",
    "    plt.errorbar(t[::lg],mkt[::lg],std[::lg],fmt='.',capsize=5,label=nm)\n",
    "plt.plot(t,funclt(t,ka,R,D),'c-',label='cont. theory')\n",
    "plt.legend()\n",
    "plt.ylabel('k(t)')\n",
    "plt.xlabel('t')\n",
    "#plt.title('ec3,N={},kf={},L={},trials={}k'.format(423,0.01,6.5,200))\n",
    "#plt.title('ec3,N={},kf={},L={},trials={}k_Db=0'.format(N,kf,6.5,120))\n",
    "plt.ylim(1.4,2)\n"
   ]
  },
  {
   "cell_type": "code",
   "execution_count": 15,
   "metadata": {},
   "outputs": [
    {
     "data": {
      "text/plain": [
       "(0.28986264423934294, 0.2886751345948129, 0.4113654077608089)"
      ]
     },
     "execution_count": 15,
     "metadata": {},
     "output_type": "execute_result"
    }
   ],
   "source": [
    "a=factor = (2 * sqrt(2.0) + 4 * sqrt(3.0) + 3 * sqrt(6.0) + sqrt(22.0))**2/(72 * (6 * sqrt(2.0) + 4 * sqrt(3.0) + 3 * sqrt(6.0)))            \n",
    "b=1/2/sqrt(3)\n",
    "a,b,(a-b)*100/b"
   ]
  },
  {
   "cell_type": "code",
   "execution_count": null,
   "metadata": {},
   "outputs": [],
   "source": []
  }
 ],
 "metadata": {
  "kernelspec": {
   "display_name": "Python 3",
   "language": "python",
   "name": "python3"
  },
  "language_info": {
   "codemirror_mode": {
    "name": "ipython",
    "version": 3
   },
   "file_extension": ".py",
   "mimetype": "text/x-python",
   "name": "python",
   "nbconvert_exporter": "python",
   "pygments_lexer": "ipython3",
   "version": "3.6.5"
  }
 },
 "nbformat": 4,
 "nbformat_minor": 2
}
