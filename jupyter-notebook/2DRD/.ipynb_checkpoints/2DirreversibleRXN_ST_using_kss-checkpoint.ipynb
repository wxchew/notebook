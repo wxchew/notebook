{
 "cells": [
  {
   "cell_type": "code",
   "execution_count": 43,
   "metadata": {},
   "outputs": [],
   "source": [
    "from ecell4 import *\n",
    "import numpy as np\n",
    "import math\n",
    "import sys\n",
    "import os\n",
    "import matplotlib.pyplot as plt\n",
    "%matplotlib inline\n",
    "from ecell4.extra import ensemble\n",
    "from math import sqrt\n",
    "\n",
    "def singlerun(kaf,run,correct,L,conc,Da,Db,duration):\n",
    "    rm = 0.005\n",
    "    rng = GSLRandomNumberGenerator()\n",
    "    rng.seed(run)\n",
    "    D = 1\n",
    "    kd= 4.0*math.pi*D\n",
    "    ka = kaf*kd\n",
    "    f=1.0208582         \n",
    "    if correct=='new':\n",
    "        gamma=0.577216\n",
    "        factor = (2 * sqrt(2.0) + 4 * sqrt(3.0) + 3 * sqrt(6.0) + sqrt(22.0))**2/(72 * (6 * sqrt(2.0) + 4 * sqrt(3.0) + 3 * sqrt(6.0)))            \n",
    "        PP=1./(1+math.sqrt(3)*(math.log(f*f/12)+(4*math.pi*D/ka)-2*gamma)/2/math.pi)\n",
    "        ka = PP*D/factor            \n",
    "    voxelr=rm*f\n",
    "    tm =(2*voxelr)**2/(4*D)        \n",
    "    H = 3*voxelr*2\n",
    "    ori = Real3(0.5*H,0,0)\n",
    "    unit0 = Real3(0,0,L)\n",
    "    unit1 = Real3(0,L,0)\n",
    "    w = spatiocyte.SpatiocyteWorld(Real3(H,L,L),voxelr,rng)\n",
    "    size=tuple(w.calculate_shape(Real3(H,L,L),voxelr))\n",
    "    Nmv=size[1]*size[2]\n",
    "    lx,ly,lz=w.actual_lengths()\n",
    "    N=int(conc*ly*lz)\n",
    "    Na=N\n",
    "    Nb=int(5*Na)\n",
    "    w.add_structure(Species('M'),PlanarSurface(ori,unit0,unit1))\n",
    "    with species_attributes():\n",
    "        A |  {'D': str(Da), 'radius':str(voxelr),'location':'M'}\n",
    "        B |  {'D': str(Db), 'radius':str(voxelr),'location':'M'}\n",
    "\n",
    "    with reaction_rules():\n",
    "        A + B > B | ka\n",
    "\n",
    "    m2 = get_model()\n",
    "    w.bind_to(m2)\n",
    "    w.add_molecules(Species('A'), Na)\n",
    "    w.add_molecules(Species('B'), Nb)\n",
    "    sim = spatiocyte.SpatiocyteSimulator(w)\n",
    "    sim.initialize()\n",
    "    tfactor=50\n",
    "    obs = FixedIntervalNumberObserver(tm*tfactor,['A'])\n",
    "    sim.run(duration,obs)       \n",
    "    data=obs.data()\n",
    "    return data\n",
    "\n",
    "kaf=1#00\n",
    "L=6.5\n",
    "Da=1\n",
    "Db=0\n",
    "conc=2.37\n",
    "cor='new'\n",
    "dur=0.2\n",
    "dat = singlerun(kaf,5,cor,L,conc,Da,Db,dur)\n",
    "tt=np.array(dat).T[0]\n",
    "NN=np.array(dat).T[1]"
   ]
  },
  {
   "cell_type": "code",
   "execution_count": 44,
   "metadata": {},
   "outputs": [
    {
     "data": {
      "text/plain": [
       "[<matplotlib.lines.Line2D at 0x7f423fae8e10>]"
      ]
     },
     "execution_count": 44,
     "metadata": {},
     "output_type": "execute_result"
    },
    {
     "data": {
      "image/png": "[encoded data removed]",
      "text/plain": [
       "<Figure size 432x288 with 1 Axes>"
      ]
     },
     "metadata": {},
     "output_type": "display_data"
    }
   ],
   "source": [
    "from math import pi\n",
    "def func(tt,kaf,L,conc):\n",
    "    D=1\n",
    "    rm = 0.005\n",
    "    R=2*rm    \n",
    "    gamma = 0.5772156    \n",
    "    f=1.0208582      \n",
    "    kd= 4.0*math.pi*D\n",
    "    ka = kaf*kd          \n",
    "    voxelr=rm*f    \n",
    "    H = 3*voxelr*2    \n",
    "    w = spatiocyte.SpatiocyteWorld(Real3(H,L,L),voxelr)\n",
    "    size=tuple(w.calculate_shape(Real3(H,L,L),voxelr))\n",
    "    Nmv=size[1]*size[2]\n",
    "    lx,ly,lz=w.actual_lengths()\n",
    "    N=int(conc*ly*lz)\n",
    "    Area = ly*lz\n",
    "    Na=N\n",
    "    Nb=int(5*Na)      \n",
    "    CB=Nb/Area\n",
    "    phi=pi*R*R*CB\n",
    "    kappa=ka/D\n",
    "    kss=kd/(np.log(2)-2*gamma-np.log(phi)+4*pi/kappa)    \n",
    "    #kss = ka\n",
    "    return Na*np.exp(-CB*kss*tt)\n",
    "#plt.plot(T,Node,'.-')\n",
    "plt.plot(tt,NN,'-')\n",
    "plt.plot(tt,func(tt,kaf,L,conc))"
   ]
  },
  {
   "cell_type": "code",
   "execution_count": 24,
   "metadata": {},
   "outputs": [
    {
     "data": {
      "text/plain": [
       "2.302585092994046"
      ]
     },
     "execution_count": 24,
     "metadata": {},
     "output_type": "execute_result"
    }
   ],
   "source": [
    "np.log(10)"
   ]
  },
  {
   "cell_type": "code",
   "execution_count": null,
   "metadata": {},
   "outputs": [],
   "source": []
  }
 ],
 "metadata": {
  "kernelspec": {
   "display_name": "Python 3",
   "language": "python",
   "name": "python3"
  },
  "language_info": {
   "codemirror_mode": {
    "name": "ipython",
    "version": 3
   },
   "file_extension": ".py",
   "mimetype": "text/x-python",
   "name": "python",
   "nbconvert_exporter": "python",
   "pygments_lexer": "ipython3",
   "version": "3.6.5"
  }
 },
 "nbformat": 4,
 "nbformat_minor": 2
}
