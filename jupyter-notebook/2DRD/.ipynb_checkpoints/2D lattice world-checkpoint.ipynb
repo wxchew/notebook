{
 "cells": [
  {
   "cell_type": "code",
   "execution_count": 6,
   "metadata": {
    "scrolled": true
   },
   "outputs": [
    {
     "name": "stdout",
     "output_type": "stream",
     "text": [
      "lx,ly,lz 0.04898979485566357 0.5196152422706632 0.52\n",
      "3120\n",
      "3120\n"
     ]
    }
   ],
   "source": [
    "from ecell4 import *\n",
    "import numpy as np\n",
    "import math\n",
    "import matplotlib.pyplot as plt\n",
    "rng = core.GSLRandomNumberGenerator()\n",
    "\n",
    "L = 0.5\n",
    "rm = 0.005\n",
    "H = 3*rm*2\n",
    "ori = Real3(0.5*H,0,0)\n",
    "unit0 = Real3(0,0,L)\n",
    "unit1 = Real3(0,L,0)\n",
    "w = spatiocyte.SpatiocyteWorld(Real3(H,L,L),rm)\n",
    "lx,ly,lz = tuple(w.actual_lengths())\n",
    "print('lx,ly,lz',lx,ly,lz)\n",
    "size=tuple(w.calculate_shape(Real3(H,L,L),rm))\n",
    "Nmv=size[1]*size[2]\n",
    "print(Nmv)\n",
    "w.add_structure(Species('M'),PlanarSurface(ori,unit0,unit1))\n",
    "print(len(w.list_particles(Species(\"M\"))))\n"
   ]
  },
  {
   "cell_type": "code",
   "execution_count": 35,
   "metadata": {},
   "outputs": [
    {
     "name": "stdout",
     "output_type": "stream",
     "text": [
      "3\n",
      "312\n",
      "2805\n"
     ]
    }
   ],
   "source": [
    "print len(w.list_particles(Species(\"T\")))\n",
    "print len(w.list_particles(Species(\"O\")))\n",
    "print len(w.list_particles(Species(\"M\")))"
   ]
  },
  {
   "cell_type": "code",
   "execution_count": 19,
   "metadata": {},
   "outputs": [
    {
     "data": {
      "image/png": "[encoded data removed]",
      "text/plain": [
       "<matplotlib.figure.Figure at 0x7f03b595f8d0>"
      ]
     },
     "metadata": {},
     "output_type": "display_data"
    }
   ],
   "source": [
    "\n",
    "plt.plot(t,msd)\n",
    "plt.plot(t,4*Dt*t,'g-')  #theoretical line\n",
    "plt.xlabel(\"time\")\n",
    "plt.ylabel(\"msd\")\n"
   ]
  },
  {
   "cell_type": "code",
   "execution_count": 17,
   "metadata": {},
   "outputs": [
    {
     "name": "stdout",
     "output_type": "stream",
     "text": [
      "10001 10001\n"
     ]
    }
   ],
   "source": [
    "Deff = msd[1:]/t[1:]/4/Dt\n",
    "plt.loglog(t[1:],Deff)\n",
    "plt.xlabel(\"time\")\n",
    "plt.ylabel(\"D/Do\")\n",
    "filename = open('data/2Dcrowding_LS_phi'+str(phio)+'.csv','w')\n",
    "np.savetxt(filename,np.column_stack((msd,t)),delimiter=',',fmt='%s')\n",
    "filename.close()"
   ]
  },
  {
   "cell_type": "code",
   "execution_count": 20,
   "metadata": {},
   "outputs": [],
   "source": [
    "dat = np.loadtxt('data/2Dcrowding_LS_phi'+str(phio)+'.csv',delimiter=',',dtype=np.str_)"
   ]
  },
  {
   "cell_type": "code",
   "execution_count": 22,
   "metadata": {},
   "outputs": [
    {
     "name": "stdout",
     "output_type": "stream",
     "text": [
      "[['0.0' '0.0']\n",
      " ['9.93548387097e-05' '2.5e-05']\n",
      " ['0.00018247311828' '5e-05']\n",
      " ..., \n",
      " ['0.346348172043' '0.24995']\n",
      " ['0.346216236559' '0.249975']\n",
      " ['0.346320107527' '0.25']]\n"
     ]
    }
   ],
   "source": [
    "print dat"
   ]
  },
  {
   "cell_type": "code",
   "execution_count": 13,
   "metadata": {},
   "outputs": [
    {
     "name": "stdout",
     "output_type": "stream",
     "text": [
      "186528\n"
     ]
    }
   ],
   "source": [
    "print len(p)+186+74611"
   ]
  },
  {
   "cell_type": "code",
   "execution_count": null,
   "metadata": {
    "collapsed": true
   },
   "outputs": [],
   "source": []
  }
 ],
 "metadata": {
  "anaconda-cloud": {},
  "kernelspec": {
   "display_name": "Python 3",
   "language": "python",
   "name": "python3"
  },
  "language_info": {
   "codemirror_mode": {
    "name": "ipython",
    "version": 3
   },
   "file_extension": ".py",
   "mimetype": "text/x-python",
   "name": "python",
   "nbconvert_exporter": "python",
   "pygments_lexer": "ipython3",
   "version": "3.5.2"
  }
 },
 "nbformat": 4,
 "nbformat_minor": 1
}
