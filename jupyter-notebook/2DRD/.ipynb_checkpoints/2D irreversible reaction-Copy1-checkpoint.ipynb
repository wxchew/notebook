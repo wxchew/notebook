{
 "cells": [
  {
   "cell_type": "code",
   "execution_count": 3,
   "metadata": {},
   "outputs": [
    {
     "name": "stdout",
     "output_type": "stream",
     "text": [
      "ka/D 0.01\n",
      "total number of voxels 11832\n",
      "area fraction of all particle 0.00785398163397\n",
      "acceptance prob 0.0014493132212\n",
      "rv 0.005\n",
      "2.5e-05\n",
      "2.5e-05\n",
      "rv 0.01\n",
      "0.0001\n",
      "0.0001\n"
     ]
    }
   ],
   "source": [
    "from ecell4 import *\n",
    "%matplotlib inline\n",
    "import numpy as np\n",
    "import math\n",
    "import matplotlib.pyplot as plt\n",
    "\n",
    "simrun = 1\n",
    "L = 1.\n",
    "rm = 0.005\n",
    "factors = [1,2]\n",
    "D = 1.\n",
    "ka = 0.01\n",
    "H = 3*rm*2\n",
    "dur = 1.5\n",
    "dt = 0.01\n",
    "ori = Real3(0.5*H,0,0)\n",
    "unit0 = Real3(0,0,L)\n",
    "unit1 = Real3(0,L,0)\n",
    "w = spatiocyte.SpatiocyteWorld(Real3(H,L,L),rm)\n",
    "cs = w.row_size()\n",
    "ls = w.layer_size()\n",
    "Nmv = cs*ls\n",
    "At = L*L\n",
    "N = 50\n",
    "Av = math.pi*rm*rm\n",
    "phi = 2.*N*Av/At\n",
    "Pacc = ka*(2*math.sqrt(2)+4*math.sqrt(3)+3*math.sqrt(6)+math.sqrt(22))**2 / 72/(2*D)/(6*math.sqrt(2)+4*math.sqrt(3)+3*math.sqrt(6))\n",
    "print 'ka/D',str(ka/D)\n",
    "print 'total number of voxels',Nmv\n",
    "print 'area fraction of all particle', phi\n",
    "print 'acceptance prob',Pacc\n",
    "Na = np.zeros(int(dur/dt)+1)\n",
    "Na2 = np.zeros(int(dur/dt)+1)\n",
    "\n",
    "def runsim(rv):\n",
    "    w = spatiocyte.SpatiocyteWorld(Real3(H,L,L),rv)\n",
    "    x,y,z = w.actual_lengths()\n",
    "    with species_attributes():\n",
    "        A | {'D':str(D),'radius':str(rm),'location':'M'}\n",
    "        B | {'D':str(D),'radius':str(rm),'location':'M'}\n",
    "    with reaction_rules():\n",
    "        A + B > B | ka\n",
    "    m=get_model()\n",
    "    w.bind_to(m)\n",
    "    w.add_structure(Species('M'),PlanarSurface(ori,unit0,unit1))\n",
    "    w.add_molecules(Species('A'),N)\n",
    "    w.add_molecules(Species('B'),N)\n",
    "    sim = spatiocyte.SpatiocyteSimulator(w)\n",
    "    obs = FixedIntervalNumberObserver(dt, ('A', 'B'))\n",
    "    #sim.run(dur,obs)\n",
    "\n",
    "for factor in factors:\n",
    "    rv = factor*rm\n",
    "    print 'rv',str(rv)\n",
    "    for rr in range(simrun):\n",
    "        dat = runsim(rv) \n",
    "\n",
    "\n"
   ]
  },
  {
   "cell_type": "code",
   "execution_count": 17,
   "metadata": {},
   "outputs": [
    {
     "name": "stdout",
     "output_type": "stream",
     "text": [
      "tm 5e-05\n",
      "walk time rm 1.25e-05\n",
      "walk time rv 0.0003125\n",
      "0.1\n",
      "0.0969751466278\n",
      "-0.336511348754\n"
     ]
    },
    {
     "data": {
      "text/plain": [
       "[<matplotlib.lines.Line2D at 0x7f30edcca390>]"
      ]
     },
     "execution_count": 17,
     "metadata": {},
     "output_type": "execute_result"
    },
    {
     "data": {
      "image/png": "[encoded data removed]",
      "text/plain": [
       "<matplotlib.figure.Figure at 0x7f30eddc3f10>"
      ]
     },
     "metadata": {},
     "output_type": "display_data"
    }
   ],
   "source": [
    "import math\n",
    "D=1.\n",
    "rm=0.005\n",
    "rv = 5*rm\n",
    "ka=0.1\n",
    "Dt = 2*D\n",
    "Rt = 2*rm\n",
    "tm = (Rt)**2/Dt\n",
    "pi=math.pi\n",
    "A = ka/(4*pi*Dt)\n",
    "twrm = (2*rm)**2/4/Dt\n",
    "twrv = (2*rv)**2/4/Dt\n",
    "print 'tm',tm\n",
    "print 'walk time rm',twrm\n",
    "print 'walk time rv',twrv\n",
    "\n",
    "def phix(x):\n",
    "    return 1./( (377.*x/324)+(1+ (314.*(x**2)/847) )**0.5)\n",
    "\n",
    "def kt(t):\n",
    "    B = math.sqrt(Dt*t/Rt/Rt)\n",
    "    phi = phix(2*A*B)\n",
    "    D = 1-(pi*Dt/ka)+(2*A*B*B)+(2*A*A*B**4)\n",
    "    k = 0.5-(2*A*B/math.sqrt(pi))-(A*B**3/math.sqrt(pi))+(2*A*phi*D)\n",
    "    return 2*pi*Dt*k\n",
    "\n",
    "print ka\n",
    "print kt(twrm)\n",
    "print kt(twrv)\n",
    "\n",
    "tt = np.linspace(0.0,twrv,100)\n",
    "ktt = [kt(i) for i in tt]\n",
    "plt.plot(tt,ktt)\n"
   ]
  },
  {
   "cell_type": "code",
   "execution_count": 11,
   "metadata": {},
   "outputs": [
    {
     "name": "stdout",
     "output_type": "stream",
     "text": [
      "/home/chew/wrk/ecell4/build/local/lib/python2.7/site-packages/ecell-4.0.4-py2.7-linux-x86_64.egg/ecell4/core.so\n"
     ]
    }
   ],
   "source": [
    "import ecell4.core; print(ecell4.core.__file__)"
   ]
  },
  {
   "cell_type": "code",
   "execution_count": null,
   "metadata": {
    "collapsed": true
   },
   "outputs": [],
   "source": []
  }
 ],
 "metadata": {
  "anaconda-cloud": {},
  "kernelspec": {
   "display_name": "Python 3",
   "language": "python",
   "name": "python3"
  },
  "language_info": {
   "codemirror_mode": {
    "name": "ipython",
    "version": 3
   },
   "file_extension": ".py",
   "mimetype": "text/x-python",
   "name": "python",
   "nbconvert_exporter": "python",
   "pygments_lexer": "ipython3",
   "version": "3.5.2"
  }
 },
 "nbformat": 4,
 "nbformat_minor": 1
}
