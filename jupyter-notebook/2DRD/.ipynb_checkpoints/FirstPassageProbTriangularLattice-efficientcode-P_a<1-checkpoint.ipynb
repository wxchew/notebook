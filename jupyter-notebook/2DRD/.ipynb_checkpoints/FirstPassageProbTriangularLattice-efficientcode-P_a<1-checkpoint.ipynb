{
 "cells": [
  {
   "cell_type": "code",
   "execution_count": 1,
   "metadata": {},
   "outputs": [],
   "source": [
    "import math\n",
    "import numpy as np\n",
    "import scipy\n",
    "import matplotlib.pyplot as plt\n",
    "%matplotlib inline"
   ]
  },
  {
   "cell_type": "code",
   "execution_count": 2,
   "metadata": {},
   "outputs": [],
   "source": [
    "def bino(n, k):\n",
    "    def eratosthenes_simple_numbers(N):\n",
    "        yield 2\n",
    "        nonsimp = set()\n",
    "        for i in range(3, N + 1, 2):\n",
    "            if i not in nonsimp:\n",
    "                nonsimp |= {j for j in range(i * i, N + 1, 2 * i)}\n",
    "                yield i\n",
    "    def calc_pow_in_factorial(a, p):\n",
    "        res = 0\n",
    "        while a:\n",
    "            a //= p\n",
    "            res += a\n",
    "        return res\n",
    "    ans = 1\n",
    "    for p in eratosthenes_simple_numbers(n):\n",
    "        ans *= p ** (calc_pow_in_factorial(n, p) - calc_pow_in_factorial(k, p) - calc_pow_in_factorial(n - k, p))\n",
    "    return ans"
   ]
  },
  {
   "cell_type": "code",
   "execution_count": 11,
   "metadata": {},
   "outputs": [],
   "source": [
    "memH={0:1}\n",
    "memP={0:1}\n",
    "memF={0:0}\n",
    "memF2={(0,0):0}\n",
    "\n",
    "def H(n): #Phoneycomb\n",
    "    if n not in memH:\n",
    "        x=0\n",
    "        for j in range(n+1):\n",
    "            xx = (bino(n,j))**2 *(bino(2*j,j))\n",
    "            x+=xx\n",
    "        memH[n]=x\n",
    "    return memH[n]\n",
    "\n",
    "def P(n): #Ptri\n",
    "    if n not in memP:\n",
    "        y=0\n",
    "        for j in range(n+1):\n",
    "            yy = bino(n,j)*((-3)**(n-j)) *H(j)\n",
    "            y+=yy\n",
    "        memP[n]=y/6**n\n",
    "    return memP[n]\n",
    "\n",
    "\n",
    "def F(n): #FPtri\n",
    "    if n not in memF:\n",
    "        yy=0\n",
    "        for j in range(n-1):\n",
    "            j+=1\n",
    "            yy+=P(n-j)*F(j)\n",
    "        memF[n]=P(n)-yy    \n",
    "    return memF[n]\n",
    "\n",
    "def Fj2(n,j):\n",
    "    if j==1:\n",
    "        return F(n)\n",
    "    elif (n,j) not in memF2:\n",
    "        y=0\n",
    "        for i in range(n):\n",
    "            i+=1\n",
    "            y+=F(i)*Fj2(n-i,j-1)\n",
    "        memF2[(n,j)]=y\n",
    "    return memF2[(n,j)]\n",
    "\n",
    "def Hn(Pa,n): #prob of first succesful return after step n\n",
    "    sm = 0\n",
    "    for j in range(n):\n",
    "        j+=1\n",
    "        sm+=Fj2(n+j,j)*(1-Pa)**(j-1)\n",
    "    return Pa*sm\n"
   ]
  },
  {
   "cell_type": "code",
   "execution_count": 12,
   "metadata": {},
   "outputs": [
    {
     "data": {
      "text/plain": [
       "0.007246308279157797"
      ]
     },
     "execution_count": 12,
     "metadata": {},
     "output_type": "execute_result"
    }
   ],
   "source": [
    "Hn(0.5,10)"
   ]
  },
  {
   "cell_type": "code",
   "execution_count": 14,
   "metadata": {},
   "outputs": [
    {
     "data": {
      "text/plain": [
       "{0: 0,\n",
       " 1: 0.0,\n",
       " 2: 0.16666666666666666,\n",
       " 3: 0.05555555555555555,\n",
       " 4: 0.04166666666666667,\n",
       " 5: 0.027777777777777776,\n",
       " 6: 0.02211934156378601,\n",
       " 7: 0.017489711934156382,\n",
       " 8: 0.014649777091906721,\n",
       " 9: 0.012407597927145252,\n",
       " 10: 0.010772105052583452,\n",
       " 11: 0.009460297274297615,\n",
       " 12: 0.0084216008632661,\n",
       " 13: 0.007565816631102984,\n",
       " 14: 0.006857007130730411,\n",
       " 15: 0.006258123182418179,\n",
       " 16: 0.005747698181891163,\n",
       " 17: 0.0053073545643962175,\n",
       " 18: 0.004924350109490848,\n",
       " 19: 0.004588354872239903,\n",
       " 20: 0.004291552964363803}"
      ]
     },
     "execution_count": 14,
     "metadata": {},
     "output_type": "execute_result"
    }
   ],
   "source": [
    "memF"
   ]
  },
  {
   "cell_type": "code",
   "execution_count": 23,
   "metadata": {},
   "outputs": [
    {
     "name": "stdout",
     "output_type": "stream",
     "text": [
      "[0.0, 0.08333333333333333, 0.034722222222222224, 0.026041666666666668, 0.01875964506172839, 0.015227141203703705, 0.012481312692901234, 0.010653244179026635, 0.009218115647415837, 0.008128193477023421]\n"
     ]
    }
   ],
   "source": [
    "n=10\n",
    "Pa=0.5\n",
    "print([Hn(Pa,i) for i in range(n)])"
   ]
  },
  {
   "cell_type": "code",
   "execution_count": 24,
   "metadata": {},
   "outputs": [],
   "source": [
    "def Fn(Pa,step):\n",
    "    Flist=[Hn(Pa,i+1) for i in range(step)]\n",
    "    return Flist,1-sum(Flist)"
   ]
  },
  {
   "cell_type": "code",
   "execution_count": 25,
   "metadata": {
    "scrolled": true
   },
   "outputs": [
    {
     "data": {
      "text/plain": [
       "([0.08333333333333333,\n",
       "  0.034722222222222224,\n",
       "  0.026041666666666668,\n",
       "  0.01875964506172839,\n",
       "  0.015227141203703705,\n",
       "  0.012481312692901234,\n",
       "  0.010653244179026635,\n",
       "  0.009218115647415837,\n",
       "  0.008128193477023421,\n",
       "  0.007246308279157797],\n",
       " 0.7741888172368208)"
      ]
     },
     "execution_count": 25,
     "metadata": {},
     "output_type": "execute_result"
    }
   ],
   "source": [
    "Fn(0.5,10)"
   ]
  },
  {
   "cell_type": "code",
   "execution_count": 60,
   "metadata": {},
   "outputs": [],
   "source": [
    "def Fna(Pa,n):\n",
    "    g = 0.5772156649\n",
    "    f=12*np.exp((1./Pa-1)*2*np.pi/np.sqrt(3))\n",
    "    A=np.log(f*n)\n",
    "    #t1=(2*np.pi/3**0.5)*(1/A)\n",
    "    #t2=(2*np.pi/3**0.5)*(1/A-g/A**2)\n",
    "    t3=(2*np.pi/Pa/3**0.5)*(1/A-g/A**2+(g**2-np.pi**2/6)/A**3)\n",
    "    return t3\n",
    "\n",
    "def Hnappx(Pa,n):\n",
    "    g = 0.5772156649\n",
    "    f=12*np.exp((1./Pa-1)*2*np.pi/np.sqrt(3))\n",
    "    #f=12*np.exp(2*np.pi/np.sqrt(3)/Pa)\n",
    "    A=np.log(f*n)\n",
    "    t3=(2*np.pi/3**0.5/n/Pa)*(1/A**2-2*g/A**3+(3*g**2-np.pi**2/2)/A**4)\n",
    "    #t3=(2*np.pi/3**0.5/n)*(1/A**2-2*g/A**3+(3*g**2-np.pi**2/2)/A**4)\n",
    "    return t3\n",
    "\n",
    "def err(a,b):\n",
    "    return (a-b)*100/a"
   ]
  },
  {
   "cell_type": "code",
   "execution_count": 84,
   "metadata": {},
   "outputs": [
    {
     "name": "stdout",
     "output_type": "stream",
     "text": [
      "exact 0.6278835999974417\n",
      "0.6293647166076114 error -0.235890316322282\n"
     ]
    }
   ],
   "source": [
    "st=50\n",
    "Pa=0.6\n",
    "a,b=Fn(Pa,st)\n",
    "print('exact',b)\n",
    "get=Fna(Pa,st)\n",
    "print(get,'error',err(b,get))"
   ]
  },
  {
   "cell_type": "code",
   "execution_count": 86,
   "metadata": {},
   "outputs": [
    {
     "ename": "KeyboardInterrupt",
     "evalue": "",
     "output_type": "error",
     "traceback": [
      "\u001b[0;31m---------------------------------------------------------------------------\u001b[0m",
      "\u001b[0;31mKeyboardInterrupt\u001b[0m                         Traceback (most recent call last)",
      "\u001b[0;32m<ipython-input-86-0ee42317805c>\u001b[0m in \u001b[0;36m<module>\u001b[0;34m()\u001b[0m\n\u001b[1;32m      1\u001b[0m \u001b[0mst\u001b[0m\u001b[0;34m=\u001b[0m\u001b[0;36m5000\u001b[0m\u001b[0;34m\u001b[0m\u001b[0m\n\u001b[1;32m      2\u001b[0m \u001b[0mPa\u001b[0m\u001b[0;34m=\u001b[0m\u001b[0;36m0.6\u001b[0m\u001b[0;34m\u001b[0m\u001b[0m\n\u001b[0;32m----> 3\u001b[0;31m \u001b[0ma\u001b[0m\u001b[0;34m,\u001b[0m\u001b[0mb\u001b[0m\u001b[0;34m=\u001b[0m\u001b[0mFn\u001b[0m\u001b[0;34m(\u001b[0m\u001b[0mPa\u001b[0m\u001b[0;34m,\u001b[0m\u001b[0mst\u001b[0m\u001b[0;34m)\u001b[0m\u001b[0;34m\u001b[0m\u001b[0m\n\u001b[0m\u001b[1;32m      4\u001b[0m \u001b[0mprint\u001b[0m\u001b[0;34m(\u001b[0m\u001b[0;34m'exact'\u001b[0m\u001b[0;34m,\u001b[0m\u001b[0mb\u001b[0m\u001b[0;34m)\u001b[0m\u001b[0;34m\u001b[0m\u001b[0m\n\u001b[1;32m      5\u001b[0m \u001b[0mget\u001b[0m\u001b[0;34m=\u001b[0m\u001b[0mFna\u001b[0m\u001b[0;34m(\u001b[0m\u001b[0mPa\u001b[0m\u001b[0;34m,\u001b[0m\u001b[0mst\u001b[0m\u001b[0;34m)\u001b[0m\u001b[0;34m\u001b[0m\u001b[0m\n",
      "\u001b[0;32m<ipython-input-24-d41df8f39537>\u001b[0m in \u001b[0;36mFn\u001b[0;34m(Pa, step)\u001b[0m\n\u001b[1;32m      1\u001b[0m \u001b[0;32mdef\u001b[0m \u001b[0mFn\u001b[0m\u001b[0;34m(\u001b[0m\u001b[0mPa\u001b[0m\u001b[0;34m,\u001b[0m\u001b[0mstep\u001b[0m\u001b[0;34m)\u001b[0m\u001b[0;34m:\u001b[0m\u001b[0;34m\u001b[0m\u001b[0m\n\u001b[0;32m----> 2\u001b[0;31m     \u001b[0mFlist\u001b[0m\u001b[0;34m=\u001b[0m\u001b[0;34m[\u001b[0m\u001b[0mHn\u001b[0m\u001b[0;34m(\u001b[0m\u001b[0mPa\u001b[0m\u001b[0;34m,\u001b[0m\u001b[0mi\u001b[0m\u001b[0;34m+\u001b[0m\u001b[0;36m1\u001b[0m\u001b[0;34m)\u001b[0m \u001b[0;32mfor\u001b[0m \u001b[0mi\u001b[0m \u001b[0;32min\u001b[0m \u001b[0mrange\u001b[0m\u001b[0;34m(\u001b[0m\u001b[0mstep\u001b[0m\u001b[0;34m)\u001b[0m\u001b[0;34m]\u001b[0m\u001b[0;34m\u001b[0m\u001b[0m\n\u001b[0m\u001b[1;32m      3\u001b[0m     \u001b[0;32mreturn\u001b[0m \u001b[0mFlist\u001b[0m\u001b[0;34m,\u001b[0m\u001b[0;36m1\u001b[0m\u001b[0;34m-\u001b[0m\u001b[0msum\u001b[0m\u001b[0;34m(\u001b[0m\u001b[0mFlist\u001b[0m\u001b[0;34m)\u001b[0m\u001b[0;34m\u001b[0m\u001b[0m\n",
      "\u001b[0;32m<ipython-input-24-d41df8f39537>\u001b[0m in \u001b[0;36m<listcomp>\u001b[0;34m(.0)\u001b[0m\n\u001b[1;32m      1\u001b[0m \u001b[0;32mdef\u001b[0m \u001b[0mFn\u001b[0m\u001b[0;34m(\u001b[0m\u001b[0mPa\u001b[0m\u001b[0;34m,\u001b[0m\u001b[0mstep\u001b[0m\u001b[0;34m)\u001b[0m\u001b[0;34m:\u001b[0m\u001b[0;34m\u001b[0m\u001b[0m\n\u001b[0;32m----> 2\u001b[0;31m     \u001b[0mFlist\u001b[0m\u001b[0;34m=\u001b[0m\u001b[0;34m[\u001b[0m\u001b[0mHn\u001b[0m\u001b[0;34m(\u001b[0m\u001b[0mPa\u001b[0m\u001b[0;34m,\u001b[0m\u001b[0mi\u001b[0m\u001b[0;34m+\u001b[0m\u001b[0;36m1\u001b[0m\u001b[0;34m)\u001b[0m \u001b[0;32mfor\u001b[0m \u001b[0mi\u001b[0m \u001b[0;32min\u001b[0m \u001b[0mrange\u001b[0m\u001b[0;34m(\u001b[0m\u001b[0mstep\u001b[0m\u001b[0;34m)\u001b[0m\u001b[0;34m]\u001b[0m\u001b[0;34m\u001b[0m\u001b[0m\n\u001b[0m\u001b[1;32m      3\u001b[0m     \u001b[0;32mreturn\u001b[0m \u001b[0mFlist\u001b[0m\u001b[0;34m,\u001b[0m\u001b[0;36m1\u001b[0m\u001b[0;34m-\u001b[0m\u001b[0msum\u001b[0m\u001b[0;34m(\u001b[0m\u001b[0mFlist\u001b[0m\u001b[0;34m)\u001b[0m\u001b[0;34m\u001b[0m\u001b[0m\n",
      "\u001b[0;32m<ipython-input-11-e21c02832cb5>\u001b[0m in \u001b[0;36mHn\u001b[0;34m(Pa, n)\u001b[0m\n\u001b[1;32m     47\u001b[0m     \u001b[0;32mfor\u001b[0m \u001b[0mj\u001b[0m \u001b[0;32min\u001b[0m \u001b[0mrange\u001b[0m\u001b[0;34m(\u001b[0m\u001b[0mn\u001b[0m\u001b[0;34m)\u001b[0m\u001b[0;34m:\u001b[0m\u001b[0;34m\u001b[0m\u001b[0m\n\u001b[1;32m     48\u001b[0m         \u001b[0mj\u001b[0m\u001b[0;34m+=\u001b[0m\u001b[0;36m1\u001b[0m\u001b[0;34m\u001b[0m\u001b[0m\n\u001b[0;32m---> 49\u001b[0;31m         \u001b[0msm\u001b[0m\u001b[0;34m+=\u001b[0m\u001b[0mFj2\u001b[0m\u001b[0;34m(\u001b[0m\u001b[0mn\u001b[0m\u001b[0;34m+\u001b[0m\u001b[0mj\u001b[0m\u001b[0;34m,\u001b[0m\u001b[0mj\u001b[0m\u001b[0;34m)\u001b[0m\u001b[0;34m*\u001b[0m\u001b[0;34m(\u001b[0m\u001b[0;36m1\u001b[0m\u001b[0;34m-\u001b[0m\u001b[0mPa\u001b[0m\u001b[0;34m)\u001b[0m\u001b[0;34m**\u001b[0m\u001b[0;34m(\u001b[0m\u001b[0mj\u001b[0m\u001b[0;34m-\u001b[0m\u001b[0;36m1\u001b[0m\u001b[0;34m)\u001b[0m\u001b[0;34m\u001b[0m\u001b[0m\n\u001b[0m\u001b[1;32m     50\u001b[0m     \u001b[0;32mreturn\u001b[0m \u001b[0mPa\u001b[0m\u001b[0;34m*\u001b[0m\u001b[0msm\u001b[0m\u001b[0;34m\u001b[0m\u001b[0m\n",
      "\u001b[0;32m<ipython-input-11-e21c02832cb5>\u001b[0m in \u001b[0;36mFj2\u001b[0;34m(n, j)\u001b[0m\n\u001b[1;32m     37\u001b[0m     \u001b[0;32melif\u001b[0m \u001b[0;34m(\u001b[0m\u001b[0mn\u001b[0m\u001b[0;34m,\u001b[0m\u001b[0mj\u001b[0m\u001b[0;34m)\u001b[0m \u001b[0;32mnot\u001b[0m \u001b[0;32min\u001b[0m \u001b[0mmemF2\u001b[0m\u001b[0;34m:\u001b[0m\u001b[0;34m\u001b[0m\u001b[0m\n\u001b[1;32m     38\u001b[0m         \u001b[0my\u001b[0m\u001b[0;34m=\u001b[0m\u001b[0;36m0\u001b[0m\u001b[0;34m\u001b[0m\u001b[0m\n\u001b[0;32m---> 39\u001b[0;31m         \u001b[0;32mfor\u001b[0m \u001b[0mi\u001b[0m \u001b[0;32min\u001b[0m \u001b[0mrange\u001b[0m\u001b[0;34m(\u001b[0m\u001b[0mn\u001b[0m\u001b[0;34m)\u001b[0m\u001b[0;34m:\u001b[0m\u001b[0;34m\u001b[0m\u001b[0m\n\u001b[0m\u001b[1;32m     40\u001b[0m             \u001b[0mi\u001b[0m\u001b[0;34m+=\u001b[0m\u001b[0;36m1\u001b[0m\u001b[0;34m\u001b[0m\u001b[0m\n\u001b[1;32m     41\u001b[0m             \u001b[0my\u001b[0m\u001b[0;34m+=\u001b[0m\u001b[0mF\u001b[0m\u001b[0;34m(\u001b[0m\u001b[0mi\u001b[0m\u001b[0;34m)\u001b[0m\u001b[0;34m*\u001b[0m\u001b[0mFj2\u001b[0m\u001b[0;34m(\u001b[0m\u001b[0mn\u001b[0m\u001b[0;34m-\u001b[0m\u001b[0mi\u001b[0m\u001b[0;34m,\u001b[0m\u001b[0mj\u001b[0m\u001b[0;34m-\u001b[0m\u001b[0;36m1\u001b[0m\u001b[0;34m)\u001b[0m\u001b[0;34m\u001b[0m\u001b[0m\n",
      "\u001b[0;31mKeyboardInterrupt\u001b[0m: "
     ]
    }
   ],
   "source": [
    "st=5000\n",
    "Pa=0.6\n",
    "a,b=Fn(Pa,st)\n",
    "print('exact',b)\n",
    "get=Fna(Pa,st)\n",
    "print(get,'error',err(b,get))"
   ]
  },
  {
   "cell_type": "code",
   "execution_count": 79,
   "metadata": {},
   "outputs": [
    {
     "name": "stdout",
     "output_type": "stream",
     "text": [
      "exact 0.8642451558188098\n",
      "0.8644148611624995 error -0.01963625049526367\n"
     ]
    }
   ],
   "source": [
    "st=500\n",
    "Pa=0.1\n",
    "a,b=Fn(Pa,st)\n",
    "print('exact',b)\n",
    "get=Fna(Pa,st)\n",
    "print(get,'error',err(b,get))"
   ]
  },
  {
   "cell_type": "code",
   "execution_count": 78,
   "metadata": {},
   "outputs": [
    {
     "name": "stdout",
     "output_type": "stream",
     "text": [
      "4.0863262176688676e-05 4.11542501949179e-05 -0.7121017822096976\n"
     ]
    }
   ],
   "source": [
    "st=500\n",
    "Pa=0.1\n",
    "ex=Hn(Pa,st)\n",
    "get=Hnappx(Pa,st)\n",
    "print(ex,get,err(ex,get))"
   ]
  },
  {
   "cell_type": "code",
   "execution_count": 44,
   "metadata": {},
   "outputs": [
    {
     "data": {
      "text/plain": [
       "0.0033616523155190463"
      ]
     },
     "execution_count": 44,
     "metadata": {},
     "output_type": "execute_result"
    }
   ],
   "source": [
    "Hn(0.5,20)"
   ]
  },
  {
   "cell_type": "code",
   "execution_count": 57,
   "metadata": {},
   "outputs": [
    {
     "data": {
      "image/png": "[encoded data removed]",
      "text/plain": [
       "<matplotlib.figure.Figure at 0x7fa1fae1bfd0>"
      ]
     },
     "metadata": {},
     "output_type": "display_data"
    }
   ],
   "source": [
    "sts=np.unique([int(s) for s in np.logspace(1,2.2,10)])\n",
    "for Pa in [0.2,0.9]:\n",
    "    Hns=[Hn(Pa,s) for s in sts]\n",
    "    Hnas=[Hnappx(Pa,s) for s in sts]\n",
    "    plt.loglog(sts,Hns,'--')\n",
    "    plt.loglog(sts,Hnas,'-')"
   ]
  },
  {
   "cell_type": "code",
   "execution_count": 100,
   "metadata": {},
   "outputs": [
    {
     "name": "stdout",
     "output_type": "stream",
     "text": [
      "0.032967169494382616\n",
      "3.012928885140807e+52 3.0129288851408457e+52 -1.2882301227997827e-12\n",
      "0.9292820100858549\n",
      "2432157.555205788 2432157.5552057866 5.743804955945862e-14\n",
      "3.040270784303087\n",
      "161751.18444987832 161751.18444987826 3.5985925612497855e-14\n"
     ]
    }
   ],
   "source": []
  },
  {
   "cell_type": "code",
   "execution_count": null,
   "metadata": {},
   "outputs": [],
   "source": []
  }
 ],
 "metadata": {
  "kernelspec": {
   "display_name": "Python 2",
   "language": "python",
   "name": "python2"
  },
  "language_info": {
   "codemirror_mode": {
    "name": "ipython",
    "version": 3
   },
   "file_extension": ".py",
   "mimetype": "text/x-python",
   "name": "python",
   "nbconvert_exporter": "python",
   "pygments_lexer": "ipython3",
   "version": "3.5.2"
  }
 },
 "nbformat": 4,
 "nbformat_minor": 2
}
