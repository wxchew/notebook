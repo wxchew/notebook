{
 "cells": [
  {
   "cell_type": "code",
   "execution_count": 15,
   "metadata": {},
   "outputs": [],
   "source": [
    "import numpy as np\n",
    "from math import sqrt as sqrt\n",
    "from math import pi as pi\n",
    "from math import exp as exp\n",
    "from numpy import log as log\n",
    "import matplotlib.pyplot as plt\n",
    "%matplotlib inline"
   ]
  },
  {
   "cell_type": "code",
   "execution_count": 49,
   "metadata": {},
   "outputs": [
    {
     "name": "stdout",
     "output_type": "stream",
     "text": [
      "td 2.5e-05\n",
      "l=R P=ka/2/sqrt(3)/D\n",
      "kfac 0.01\n",
      "0.13156800364788593 0.11663167559793765 11.352553535677426\n",
      "kfac 1\n",
      "1.2639564613541847 1.4020466269008136 -10.925231190216875\n",
      "kfac 100\n",
      "1.3795205931283951 1.5684566455530542 -13.695776153381013\n"
     ]
    }
   ],
   "source": [
    "D=1\n",
    "R=0.005\n",
    "gamma=0.57721\n",
    "td=(2*R)**2/4/D\n",
    "print('td',td)\n",
    "\n",
    "def kck(ka,t,C):\n",
    "    ln=log(C*t)\n",
    "    return 4*pi*D*(1/ln-gamma/ln**2-1.311/ln**3)\n",
    "\n",
    "def er(a,b):\n",
    "    return (a-b)*100/a\n",
    "\n",
    "#kfac=ka/4piD\n",
    "print('l=R','P=ka/2/sqrt(3)/D')\n",
    "for kfac in [0.01,1,100]:\n",
    "    l=R\n",
    "    ka=kfac*4*pi*D\n",
    "    P=ka/2/sqrt(3)/D\n",
    "    A=2*pi/sqrt(3)\n",
    "    Cl=48*D*exp(A*(1./P-1))/l/l\n",
    "\n",
    "    kk=exp(2*pi*D/ka/gamma)\n",
    "    C=4*D*kk/R/R\n",
    "\n",
    "    tt=1000*td\n",
    "    print('kfac',kfac)\n",
    "    print(kck(ka,tt,C),kck(ka,tt,Cl),er(kck(ka,tt,C),kck(ka,tt,Cl)))\n",
    "    #plt.semilogx(tt,kck(ka,tt,C),'-')\n",
    "    #plt.semilogx(tt,kck(ka,tt,Cl),'--')"
   ]
  },
  {
   "cell_type": "code",
   "execution_count": 50,
   "metadata": {},
   "outputs": [
    {
     "name": "stdout",
     "output_type": "stream",
     "text": [
      "l=Rf P=ka/2/sqrt(3)/D\n",
      "kfac 0.01\n",
      "0.13156800364788593 0.11667646790220662 11.318508552834295\n",
      "kfac 1\n",
      "1.2639564613541847 1.4083260978235814 -11.422041888588565\n",
      "kfac 100\n",
      "1.3795205931283951 1.5762174733443963 -14.258350415048435\n"
     ]
    }
   ],
   "source": [
    "print('l=Rf','P=ka/2/sqrt(3)/D')\n",
    "for kfac in [0.01,1,100]:\n",
    "    f=1.0209\n",
    "    l=R*f\n",
    "    ka=kfac*4*pi*D\n",
    "    P=ka/2/sqrt(3)/D\n",
    "    A=2*pi/sqrt(3)\n",
    "    Cl=48*D*exp(A*(1./P-1))/l/l\n",
    "\n",
    "    kk=exp(2*pi*D/ka/gamma)\n",
    "    C=4*D*kk/R/R\n",
    "\n",
    "    tt=1000*td\n",
    "    print('kfac',kfac)\n",
    "    print(kck(ka,tt,C),kck(ka,tt,Cl),er(kck(ka,tt,C),kck(ka,tt,Cl)))"
   ]
  },
  {
   "cell_type": "code",
   "execution_count": 51,
   "metadata": {},
   "outputs": [
    {
     "name": "stdout",
     "output_type": "stream",
     "text": [
      "l=R P=ka/2/sqrt(3)/D\n",
      "kfac 0.01\n",
      "0.13156800364788593 0.11707677665444007 11.01424859514368\n",
      "kfac 1\n",
      "1.2639564613541847 1.4026661034896886 -10.974242102207567\n",
      "kfac 100\n",
      "1.3795205931283951 1.56846429594174 -13.696330722027833\n"
     ]
    }
   ],
   "source": [
    "print('l=R','P=ka/2/sqrt(3)/D')\n",
    "for kfac in [0.01,1,100]:\n",
    "    l=R\n",
    "    ka=kfac*4*pi*D\n",
    "    P=ka*(2*sqrt(2)+4*sqrt(3)+3*sqrt(6)+sqrt(22))**2/(72*(6*sqrt(2)+4*sqrt(3)+3*sqrt(6)))/D\n",
    "    A=2*pi/sqrt(3)\n",
    "    Cl=48*D*exp(A*(1./P-1))/l/l\n",
    "\n",
    "    kk=exp(2*pi*D/ka/gamma)\n",
    "    C=4*D*kk/R/R\n",
    "\n",
    "    tt=1000*td\n",
    "    print('kfac',kfac)\n",
    "    print(kck(ka,tt,C),kck(ka,tt,Cl),er(kck(ka,tt,C),kck(ka,tt,Cl)))"
   ]
  },
  {
   "cell_type": "code",
   "execution_count": 58,
   "metadata": {},
   "outputs": [
    {
     "name": "stdout",
     "output_type": "stream",
     "text": [
      "l=Rf new P\n",
      "kfac 0.01\n",
      "0.13156800364788593 0.13156800364788593 0.0\n",
      "kfac 1\n",
      "1.2639564613541847 1.2639564613541847 0.0\n",
      "kfac 100\n",
      "1.3795205931283951 1.3795205931283951 0.0\n"
     ]
    },
    {
     "data": {
      "text/plain": [
       "<matplotlib.legend.Legend at 0x7f59f6badbe0>"
      ]
     },
     "execution_count": 58,
     "metadata": {},
     "output_type": "execute_result"
    },
    {
     "data": {
      "image/png": "[encoded data removed]",
      "text/plain": [
       "<matplotlib.figure.Figure at 0x7f59f6c06438>"
      ]
     },
     "metadata": {},
     "output_type": "display_data"
    }
   ],
   "source": [
    "print('l=Rf','new P')\n",
    "for kfac in [0.01,1,100]:\n",
    "    f=1.0209\n",
    "    l=R*f\n",
    "    ka=kfac*4*pi*D\n",
    "    P=1./(sqrt(3)*log(f*f/12)/2/pi+sqrt(3)*D/ka/gamma+1)\n",
    "    A=2*pi/sqrt(3)\n",
    "    Cl=48*D*exp(A*(1./P-1))/l/l\n",
    "\n",
    "    kk=exp(2*pi*D/ka/gamma)\n",
    "    C=4*D*kk/R/R\n",
    "\n",
    "    tt=1000*td\n",
    "    print('kfac',kfac)\n",
    "    print(kck(ka,tt,C),kck(ka,tt,Cl),er(kck(ka,tt,C),kck(ka,tt,Cl)))\n",
    "    tt=np.linspace(td,1000*td,100)\n",
    "    plt.semilogx(tt,kck(ka,tt,C)/(4*pi*D),'-',label='continuum at kfac='+str(kfac))\n",
    "    plt.semilogx(tt,kck(ka,tt,Cl)/(4*pi*D),'.')\n",
    "plt.legend()"
   ]
  },
  {
   "cell_type": "code",
   "execution_count": 59,
   "metadata": {},
   "outputs": [
    {
     "data": {
      "text/plain": [
       "3.0007290372115474"
      ]
     },
     "execution_count": 59,
     "metadata": {},
     "output_type": "execute_result"
    }
   ],
   "source": [
    "sqrt(3)/gamma"
   ]
  },
  {
   "cell_type": "code",
   "execution_count": null,
   "metadata": {},
   "outputs": [],
   "source": []
  }
 ],
 "metadata": {
  "kernelspec": {
   "display_name": "Python 3",
   "language": "python",
   "name": "python3"
  },
  "language_info": {
   "codemirror_mode": {
    "name": "ipython",
    "version": 3
   },
   "file_extension": ".py",
   "mimetype": "text/x-python",
   "name": "python",
   "nbconvert_exporter": "python",
   "pygments_lexer": "ipython3",
   "version": "3.5.2"
  }
 },
 "nbformat": 4,
 "nbformat_minor": 2
}
