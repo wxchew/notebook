{
 "cells": [
  {
   "cell_type": "code",
   "execution_count": 2,
   "metadata": {
    "scrolled": true
   },
   "outputs": [],
   "source": [
    "from ecell4 import *\n",
    "%matplotlib inline\n",
    "import numpy as np\n",
    "import math\n",
    "import sys\n",
    "from math import sqrt\n",
    "import matplotlib.pyplot as plt\n",
    "from ecell4.extra import ensemble\n",
    "import numpy as np\n",
    "from math import pi\n",
    "def run(Da,Db,it):\n",
    "    L=1\n",
    "    N=100\n",
    "    kaf=100\n",
    "    run=0\n",
    "    correct='new'\n",
    "\n",
    "    shift=0\n",
    "    rm = 0.005\n",
    "    run+=shift\n",
    "    rng = GSLRandomNumberGenerator()\n",
    "    rng.seed(run)\n",
    "    D = 1\n",
    "    kd= 4.0*math.pi*D\n",
    "    ka = kaf*kd\n",
    "    f=1.0208582         \n",
    "    if correct=='new':\n",
    "        gamma=0.577216\n",
    "        factor = (2 * sqrt(2.0) + 4 * sqrt(3.0) + 3 * sqrt(6.0) + sqrt(22.0))**2/(72 * (6 * sqrt(2.0) + 4 * sqrt(3.0) + 3 * sqrt(6.0)))            \n",
    "        PP=1./(1+math.sqrt(3)*(math.log(f*f/12)+(4*math.pi*D/ka)-2*gamma)/2/math.pi)\n",
    "        ka = PP*D/factor            \n",
    "    voxelr=rm*f\n",
    "    H = 3*voxelr*2\n",
    "    ori = Real3(0.5*H,0,0)\n",
    "    unit0 = Real3(0,0,L)\n",
    "    unit1 = Real3(0,L,0)\n",
    "    w = spatiocyte.SpatiocyteWorld(Real3(H,L,L),voxelr,rng)\n",
    "    size=tuple(w.calculate_shape(Real3(H,L,L),voxelr))\n",
    "    Nmv=size[1]*size[2]\n",
    "    print(\"N\",N,\"Ns\",Nmv,'expected',N*N/Nmv)\n",
    "    lx,ly,lz=w.actual_lengths()\n",
    "    Area = ly*lz\n",
    "    with species_attributes():\n",
    "        A |  {'D': str(Da), 'radius':str(voxelr),'location':'X'}\n",
    "        B |  {'D': str(Db), 'radius':str(voxelr),'location':'X'}           \n",
    "\n",
    "    with reaction_rules():#for spa and egfrd\n",
    "        A + B > B | ka\n",
    "\n",
    "    m2 = get_model()\n",
    "    w.bind_to(m2)\n",
    "    w.add_structure(Species('X'),PlanarSurface(ori,unit0,unit1))\n",
    "    sim = spatiocyte.SpatiocyteSimulator(w)\n",
    "    DN = 0\n",
    "    cnt=0\n",
    "    for i in range(it):\n",
    "        cnt+=1\n",
    "        w.add_molecules(Species('A'), N)\n",
    "        w.add_molecules(Species('B'), N)  \n",
    "        sim.initialize()\n",
    "        sim.step()\n",
    "        res = w.num_particles_exact(Species('A'))\n",
    "        dn = N-res\n",
    "        DN+=dn\n",
    "        w.remove_molecules(Species('A'),res)\n",
    "        w.remove_molecules(Species('B'),N)\n",
    "        assert(w.num_particles_exact(Species('A'))==0)\n",
    "        assert(w.num_particles_exact(Species('B'))==0)\n",
    "    print(DN/float(cnt))\n"
   ]
  },
  {
   "cell_type": "code",
   "execution_count": null,
   "metadata": {
    "scrolled": true
   },
   "outputs": [
    {
     "name": "stdout",
     "output_type": "stream",
     "text": [
      "N 100 Ns 11400 expected 0.8771929824561403\n"
     ]
    }
   ],
   "source": [
    "run(1,0,int(1e8))"
   ]
  },
  {
   "cell_type": "code",
   "execution_count": null,
   "metadata": {},
   "outputs": [],
   "source": [
    "run(0,1,int(1e8))"
   ]
  },
  {
   "cell_type": "code",
   "execution_count": 8,
   "metadata": {},
   "outputs": [],
   "source": [
    "a,b=sim.last_reactions()[0]"
   ]
  },
  {
   "cell_type": "code",
   "execution_count": 10,
   "metadata": {},
   "outputs": [
    {
     "data": {
      "text/plain": [
       "'A+B>B|316.453'"
      ]
     },
     "execution_count": 10,
     "metadata": {},
     "output_type": "execute_result"
    }
   ],
   "source": [
    "a.as_string()"
   ]
  },
  {
   "cell_type": "code",
   "execution_count": 28,
   "metadata": {},
   "outputs": [
    {
     "data": {
      "text/plain": [
       "8.520998367792794e-07"
      ]
     },
     "execution_count": 28,
     "metadata": {},
     "output_type": "execute_result"
    }
   ],
   "source": [
    "b.t()"
   ]
  },
  {
   "cell_type": "code",
   "execution_count": 16,
   "metadata": {},
   "outputs": [
    {
     "data": {
      "text/plain": [
       "3"
      ]
     },
     "execution_count": 16,
     "metadata": {},
     "output_type": "execute_result"
    }
   ],
   "source": [
    "sim.num_steps()"
   ]
  },
  {
   "cell_type": "code",
   "execution_count": 20,
   "metadata": {},
   "outputs": [
    {
     "data": {
      "text/plain": [
       "98"
      ]
     },
     "execution_count": 20,
     "metadata": {},
     "output_type": "execute_result"
    }
   ],
   "source": [
    "w.num_particles_exact(Species('A'))"
   ]
  },
  {
   "cell_type": "code",
   "execution_count": null,
   "metadata": {},
   "outputs": [],
   "source": []
  }
 ],
 "metadata": {
  "kernelspec": {
   "display_name": "Python 3",
   "language": "python",
   "name": "python3"
  },
  "language_info": {
   "codemirror_mode": {
    "name": "ipython",
    "version": 3
   },
   "file_extension": ".py",
   "mimetype": "text/x-python",
   "name": "python",
   "nbconvert_exporter": "python",
   "pygments_lexer": "ipython3",
   "version": "3.6.5"
  }
 },
 "nbformat": 4,
 "nbformat_minor": 2
}
