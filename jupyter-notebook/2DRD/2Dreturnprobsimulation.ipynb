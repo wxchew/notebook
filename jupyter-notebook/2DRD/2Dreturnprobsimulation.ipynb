{
 "cells": [
  {
   "cell_type": "code",
   "execution_count": 21,
   "metadata": {},
   "outputs": [],
   "source": [
    "import sys\n",
    "import math\n",
    "import numpy as np\n",
    "from numpy import pi, sqrt, inf, log\n",
    "from ecell4 import *\n",
    "\n",
    "L = 0.5\n",
    "voxel_radius = 0.005\n",
    "H = 3*voxel_radius*2\n",
    "D = 1\n",
    "rng = GSLRandomNumberGenerator()\n",
    "rng.seed(1)\n",
    "Pacc = 2#(1./r0-1)*ka_factor#ka / (6 * sqrt(2) * D * voxel_radius)\n",
    "dt = ( voxel_radius * voxel_radius) / ( D)\n",
    "\n",
    "maxstep= 5#10000\n",
    "ntrials = int(1e7)\n",
    "p=1\n",
    "\n",
    "w = spatiocyte.SpatiocyteWorld(Real3(H,L,L),voxel_radius,rng)\n",
    "\n",
    "coord1 = w.position2coordinate(Real3(0.5*H,0.5*L,0.5*L))\n",
    "coord2 = w.get_neighbor(coord1, 0)\n",
    "pos=w.coordinate2position(coord1)\n",
    "dirn = [0,1,8,9,10,11]\n",
    "\n",
    "def singlerunA(dt, Pacc,alpha):\n",
    "    assert Pacc*alpha  <= 1\n",
    "    assert alpha<=1\n",
    "\n",
    "    coord1 = w.position2coordinate(Real3(0.5*H,0.5*L,0.5*L))\n",
    "    coord2 = w.get_neighbor(coord1, 0)\n",
    "\n",
    "    dt = dt*alpha\n",
    "    t, nsteps = 0.0, 0\n",
    "    while all(0 <= dim < L for dim in w.coordinate2position(coord2)) and nsteps < maxstep:\n",
    "        rnd = w.rng().uniform_int(0, 5)\n",
    "        newcoord = w.get_neighbor(coord2, dirn[rnd])\n",
    "        if newcoord == coord1:\n",
    "            if Pacc * alpha >= w.rng().uniform(0, 1):\n",
    "                return nsteps+1\n",
    "        elif alpha >= w.rng().uniform(0, 1):\n",
    "            coord2 = newcoord\n",
    "        t += dt\n",
    "        nsteps += 1\n",
    "    return False\n",
    "\n",
    "def singlerunB(dt, Pacc):\n",
    "    assert Pacc<= 1\n",
    "    coord1 = w.position2coordinate(Real3(0.5*H,0.5*L,0.5*L))\n",
    "    coord2 = w.get_neighbor(coord1, 0)\n",
    "\n",
    "    dt = dt\n",
    "    t, nsteps = 0.0, 0\n",
    "    while all(0 <= dim < L for dim in w.coordinate2position(coord2)) and nsteps < maxstep:\n",
    "        rnd = w.rng().uniform_int(0, 5)\n",
    "        newcoord = w.get_neighbor(coord2, dirn[rnd])\n",
    "        if newcoord == coord1:\n",
    "            if Pacc >= w.rng().uniform(0, 1):\n",
    "                return nsteps+1\n",
    "        else:\n",
    "            coord2 = newcoord\n",
    "        t += dt\n",
    "        nsteps += 1\n",
    "    return False\n",
    "        \n",
    "if Pacc<=1:\n",
    "    res = [singlerunB(dt, Pacc) for _ in range(ntrials)]\n",
    "else:    \n",
    "    res = [singlerunA(dt, Pacc,p/Pacc) for _ in range(ntrials)]\n"
   ]
  },
  {
   "cell_type": "code",
   "execution_count": 22,
   "metadata": {},
   "outputs": [
    {
     "name": "stdout",
     "output_type": "stream",
     "text": [
      "alpha 0.5\n",
      "step 5 trials 10000000 Preb 0.4020483 0.5979517\n"
     ]
    }
   ],
   "source": [
    "print('alpha',p/Pacc)\n",
    "count = np.array([i for i in res if i !=False])\n",
    "print('step',maxstep,'trials',ntrials,'Preb',len(count)/ntrials,1-len(count)/ntrials)"
   ]
  },
  {
   "cell_type": "code",
   "execution_count": 23,
   "metadata": {},
   "outputs": [
    {
     "name": "stdout",
     "output_type": "stream",
     "text": [
      "0.1667666\n",
      "0.0970909\n",
      "0.0625043\n",
      "0.0434809\n",
      "0.0322056\n"
     ]
    }
   ],
   "source": [
    "for stp in range(maxstep):\n",
    "    stp+=1\n",
    "    count = np.array([i for i in res if i ==stp])\n",
    "    print(len(count)/ntrials)"
   ]
  },
  {
   "cell_type": "code",
   "execution_count": 27,
   "metadata": {},
   "outputs": [
    {
     "data": {
      "text/plain": [
       "0.2857142857142857"
      ]
     },
     "execution_count": 27,
     "metadata": {},
     "output_type": "execute_result"
    }
   ],
   "source": [
    "2/7"
   ]
  },
  {
   "cell_type": "code",
   "execution_count": 20,
   "metadata": {},
   "outputs": [],
   "source": [
    "from math import pi,sqrt\n",
    "import matplotlib.pyplot as plt\n",
    "from numpy import log,exp\n",
    "import numpy as np\n",
    "P=0.5\n",
    "A=2*pi/sqrt(3)\n",
    "def H(z):\n",
    "    C=12*exp(A*(1./P-1))\n",
    "    return A/P/(log(C/(1-z)))\n",
    "\n",
    "def g(z):\n",
    "    B=log(12/(1-z))/A-1\n",
    "    return 1-1./(1+1./P/B)"
   ]
  },
  {
   "cell_type": "code",
   "execution_count": 32,
   "metadata": {},
   "outputs": [
    {
     "data": {
      "text/plain": [
       "[<matplotlib.lines.Line2D at 0x7f37407fb1d0>]"
      ]
     },
     "execution_count": 32,
     "metadata": {},
     "output_type": "execute_result"
    },
    {
     "data": {
      "image/png": "[encoded data removed]",
      "text/plain": [
       "<Figure size 432x288 with 1 Axes>"
      ]
     },
     "metadata": {},
     "output_type": "display_data"
    }
   ],
   "source": [
    "Z=np.logspace(-4,-0.9,30)\n",
    "plt.plot(Z,H(Z),'r-')\n",
    "plt.semilogx(Z,g(Z),'g.')"
   ]
  },
  {
   "cell_type": "code",
   "execution_count": 34,
   "metadata": {},
   "outputs": [
    {
     "data": {
      "text/plain": [
       "[<matplotlib.lines.Line2D at 0x7f3740c602b0>]"
      ]
     },
     "execution_count": 34,
     "metadata": {},
     "output_type": "execute_result"
    },
    {
     "data": {
      "image/png": "[encoded data removed]",
      "text/plain": [
       "<Figure size 432x288 with 1 Axes>"
      ]
     },
     "metadata": {},
     "output_type": "display_data"
    }
   ],
   "source": [
    "Z=np.logspace(-4,1,30)\n",
    "C=12*exp(A*(1./P-1))\n",
    "D=1\n",
    "l=0.01\n",
    "plt.semilogx(Z,1./log(C*(1+4*D/l/l/Z)),'r')\n",
    "plt.loglog(Z,1./log(4*D*C/l/l/Z),'--')"
   ]
  },
  {
   "cell_type": "code",
   "execution_count": null,
   "metadata": {},
   "outputs": [],
   "source": []
  }
 ],
 "metadata": {
  "kernelspec": {
   "display_name": "Python 3",
   "language": "python",
   "name": "python3"
  },
  "language_info": {
   "codemirror_mode": {
    "name": "ipython",
    "version": 3
   },
   "file_extension": ".py",
   "mimetype": "text/x-python",
   "name": "python",
   "nbconvert_exporter": "python",
   "pygments_lexer": "ipython3",
   "version": "3.6.5"
  }
 },
 "nbformat": 4,
 "nbformat_minor": 2
}
