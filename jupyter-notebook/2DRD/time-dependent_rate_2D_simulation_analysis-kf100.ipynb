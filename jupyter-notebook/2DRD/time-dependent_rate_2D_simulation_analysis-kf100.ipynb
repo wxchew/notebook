{
 "cells": [
  {
   "cell_type": "code",
   "execution_count": 1,
   "metadata": {},
   "outputs": [],
   "source": [
    "import glob\n",
    "import numpy as np\n",
    "import os.path\n",
    "import matplotlib.pyplot as plt\n",
    "%matplotlib inline\n",
    "\n",
    "name1='/home/chew/outputdata/keff/2D/orikfac100_N423_L6.5_50tm_1.0208582rm_meankt'\n",
    "name2='/home/chew/outputdata/keff/2D/newkfac100_N423_L6.5_50tm_1.0208582rm_meankt'\n",
    "#name2='/home/chew/outputdata/keff/2D/newkfac100_N423_L6.5_50tm_1.0208582rm_meankt'\n",
    "#name2='/home/chew/outputdata/keff/2D/orikfac100_N423_L6.5_50tm_1.0208582rm_meankt_test'\n",
    "#name2 = '/home/chew/outputdata/keff/2D/orikfac100_N423_L6.5_50tm_1.0208582rm_NO_meankt_histofrxtime'\n",
    "\n",
    "t1,kt1=np.loadtxt(name1,delimiter=',')\n",
    "t2,kt2=np.loadtxt(name2,delimiter=',')\n",
    "#t3,kt3=np.loadtxt(name3,delimiter=',')\n",
    "T=[t1,t2]\n",
    "KT=[kt1,kt2]"
   ]
  },
  {
   "cell_type": "code",
   "execution_count": 2,
   "metadata": {
    "scrolled": true
   },
   "outputs": [
    {
     "data": {
      "image/png": "[encoded data removed]",
      "text/plain": [
       "<Figure size 432x288 with 1 Axes>"
      ]
     },
     "metadata": {},
     "output_type": "display_data"
    }
   ],
   "source": [
    "plt.plot(t1,kt1,label='ori')\n",
    "#plt.plot(t3,kt3,label='new')\n",
    "plt.semilogx(t2,kt2,label='histrxn')\n",
    "plt.legend()\n",
    "plt.xlim(1e-2,0.2)\n",
    "plt.ylim(1.4,2.5)\n",
    "T=[t1,t2]\n",
    "KT=[kt1,kt2]"
   ]
  },
  {
   "cell_type": "code",
   "execution_count": 13,
   "metadata": {},
   "outputs": [
    {
     "name": "stdout",
     "output_type": "stream",
     "text": [
      "td 2.5e-05\n",
      "ka 1256.6370614359173\n",
      "expected [1261.80643161  317.75489346]\n",
      "no of points 152\n",
      "sq er fit1=0.0317911\n",
      "no of points 152\n",
      "sq er fit1=0.0290002\n"
     ]
    },
    {
     "data": {
      "text/plain": [
       "[<matplotlib.lines.Line2D at 0x7f30bd84b7f0>]"
      ]
     },
     "execution_count": 13,
     "metadata": {},
     "output_type": "execute_result"
    },
    {
     "data": {
      "image/png": "[encoded data removed]",
      "text/plain": [
       "<Figure size 432x288 with 1 Axes>"
      ]
     },
     "metadata": {},
     "output_type": "display_data"
    }
   ],
   "source": [
    "from scipy.optimize import curve_fit\n",
    "import math\n",
    "import numpy as np\n",
    "from math import sqrt,pi,log\n",
    "from scipy import special\n",
    "\n",
    "D=1\n",
    "kd= 4.0*pi*D\n",
    "rm=0.005\n",
    "td = (rm*2)**2/4/D\n",
    "print('td',td)\n",
    "R=2*rm\n",
    "f=1.0208582 \n",
    "g = 0.577216\n",
    "kaf=100\n",
    "factor = (2 * sqrt(2.0) + 4 * sqrt(3.0) + 3 * sqrt(6.0) + sqrt(22.0))**2/(72 * (6 * sqrt(2.0) + 4 * sqrt(3.0) + 3 * sqrt(6.0)))            \n",
    "\n",
    "def funcbk(t,C1,C2,C3): #lattice kt for long time\n",
    "    A=np.log(C2*t)+C3\n",
    "    return C1*(1/A-g/A**2+(g**2-np.pi**2/6)/A**3+0.25/A**4)\n",
    "\n",
    "def err(a,b):\n",
    "    return ((a-b)*100/a)\n",
    "\n",
    "def func(t,C1,C2): #lattice kt for long time\n",
    "    b1=4*D/C2/C2\n",
    "    A=np.log(b1*t)+4*pi*D/C1-2*g\n",
    "    return 4*pi*D*(1/A-g/A**2+(g**2-np.pi**2/6)/A**3+0.25/A**4)\n",
    "\n",
    "def func2(t,C2): #lattice kt for long time\n",
    "    b1=48*D/R/R/f/f\n",
    "    AA = 2*pi/math.sqrt(3)\n",
    "    A=np.log(b1*t)+AA*(1./Pa-1)\n",
    "    return AA*C2*(1/A-g/A**2+(g**2-np.pi**2/6)/A**3+0.25/A**4)/Pa\n",
    "\n",
    "def func3(t,Pa):\n",
    "    l=f*R\n",
    "    n = 4*D*t/l/l\n",
    "    AA = 2*pi/math.sqrt(3)\n",
    "    A=np.log(12*n)+AA*(1/Pa-1)\n",
    "    return 4*pi*D*(1/A/A-2*g/A**3+(3*g*g-pi*pi/2)/A**4)/n\n",
    "\n",
    "tol = 0.5\n",
    "lb = lambda x: x-x*tol\n",
    "ub = lambda x: x+x*tol\n",
    "c1 = 4*pi*D\n",
    "c2 = 4*D/R/R\n",
    "c3=4*pi*D/R-2*g\n",
    "ka=kaf*kd \n",
    "Pa1=ka*factor/D\n",
    "Pa2=1./(1+math.sqrt(3)*(math.log(f*f/12)+(4*math.pi*D/ka)-2*g)/2/math.pi)\n",
    "Pas = np.array([Pa1,Pa2])\n",
    "print('ka',ka)\n",
    "expt =2*sqrt(3)*D*Pas\n",
    "#expt = [c1,c2,c3]\n",
    "print('expected',expt)\n",
    "fiterr=[]\n",
    "tcut=100*td\n",
    "cuts=[tcut]\n",
    "\n",
    "for tcut in cuts:\n",
    "    for i in range(len(KT)):\n",
    "        #i+=1\n",
    "        Pa = Pas[i]\n",
    "        idx = T[i]>tcut\n",
    "        x=T[i][idx]\n",
    "        print('no of points',len(x))\n",
    "        y=KT[i][idx]\n",
    "        popt,pcov = curve_fit(func2,x,y)#,p0=[1],bounds=(-np.inf,np.inf))#,bounds=([lb(c1),lb(c2),lb(c3)],[ub(c1),ub(c2),ub(c3)]))#,sigma=sigma,absolute_sigma=False)\n",
    "        perr = np.sqrt(np.diag(pcov))\n",
    "        r1=sum((y-func2(x,*popt))**2)\n",
    "        print('sq er fit1={:.7f}'.format(r1))\n",
    "        #Er=[]\n",
    "        #for j in range(len(expt)):\n",
    "        #    Er.append(abs(err(expt[j],popt[j])))\n",
    "        #    print('expected={:.4f}, fitted={:.5f}+-{:.5f}, error %={:.4f}'.format(expt[j],popt[j],perr[j],err(expt[j],popt[j])))\n",
    "        #print('expected={:.4f}, fitted={:.5f}+-{:.5f}, error %={:.4f}'.format(expt[i],popt[j],perr[j],err(expt[i],popt[j])))\n",
    "        plt.plot(x,y,'.',label='new')\n",
    "        #plt.semilogx(x,func2(x,*popt),'-',label='fitted')\n",
    "    #fiterr.append(max(Er))\n",
    "#plt.semilogx(x,func(x,ka,R),'r--')\n",
    "#plt.ylim(1.4,2.1)\n",
    "plt.semilogx(x,func3(x,Pa2),'--')"
   ]
  },
  {
   "cell_type": "code",
   "execution_count": 157,
   "metadata": {},
   "outputs": [
    {
     "name": "stdout",
     "output_type": "stream",
     "text": [
      "0.8981363462784141 0.9068996821171088\n"
     ]
    },
    {
     "data": {
      "text/plain": [
       "(91.72793663882513, 92.62294853527871, 91.35214551293758)"
      ]
     },
     "execution_count": 157,
     "metadata": {},
     "output_type": "execute_result"
    }
   ],
   "source": [
    "d = pi*Pa*D/popt[0]\n",
    "print(d,pi*sqrt(3)/6)\n",
    "gamma=0.577216\n",
    "f=1.0208582   \n",
    "factor = (2 * sqrt(2.0) + 4 * sqrt(3.0) + 3 * sqrt(6.0) + sqrt(22.0))**2/(72 * (6 * sqrt(2.0) + 4 * sqrt(3.0) + 3 * sqrt(6.0)))            \n",
    "PP=1./(1+math.sqrt(3)*(math.log(f*f/12)+(4*math.pi*D/ka)-2*gamma)/2/math.pi)\n",
    "ka2 = PP*D/factor            \n",
    "Pa2,popt[0]/2/sqrt(3)/D,ka2/2/sqrt(3)"
   ]
  },
  {
   "cell_type": "code",
   "execution_count": 121,
   "metadata": {},
   "outputs": [
    {
     "data": {
      "text/plain": [
       "[<matplotlib.lines.Line2D at 0x7fb82671a278>]"
      ]
     },
     "execution_count": 121,
     "metadata": {},
     "output_type": "execute_result"
    },
    {
     "data": {
      "image/png": "[encoded data removed]",
      "text/plain": [
       "<Figure size 432x288 with 1 Axes>"
      ]
     },
     "metadata": {},
     "output_type": "display_data"
    }
   ],
   "source": [
    "x=np.logspace(-2,2,20)\n",
    "diff = (func(x,ka,R)-func(x,*popt))*100/func(x,ka,R)\n",
    "plt.semilogx(x,diff)"
   ]
  },
  {
   "cell_type": "code",
   "execution_count": 10,
   "metadata": {
    "scrolled": false
   },
   "outputs": [
    {
     "name": "stdout",
     "output_type": "stream",
     "text": [
      "[12.566370614359172, 40000.0, -1.144432]\n",
      "no of points 134\n",
      "sq er fit1=0.0060621\n",
      "expected=12.5664, fitted=12.7649+-0.0788, error %=-1.5799\n",
      "expected=40000.0000, fitted=40419.3553+-863403981.5146, error %=-1.0484\n",
      "expected=-1.1444, fitted=-1.1335+-21361.1539, error %=0.9593\n",
      "no of points 134\n",
      "sq er fit1=0.0059939\n",
      "expected=12.5664, fitted=12.6949+-0.0781, error %=-1.0228\n",
      "expected=40000.0000, fitted=40107.1680+-913044283.6308, error %=-0.2679\n",
      "expected=-1.1444, fitted=-1.1414+-22765.1121, error %=0.2613\n"
     ]
    },
    {
     "data": {
      "image/png": "[encoded data removed]",
      "text/plain": [
       "<Figure size 432x288 with 1 Axes>"
      ]
     },
     "metadata": {},
     "output_type": "display_data"
    }
   ],
   "source": [
    "from scipy.optimize import curve_fit\n",
    "import math\n",
    "import numpy as np\n",
    "from math import sqrt,pi,log\n",
    "from scipy import special\n",
    "\n",
    "D=1\n",
    "kd= 4.0*pi*D\n",
    "rm=0.005\n",
    "td = (rm*2)**2/4/D\n",
    "tcut = 1000*td\n",
    "R=2*rm\n",
    "f=1.0208582 \n",
    "g = 0.577216\n",
    "kaf=100.\n",
    "\n",
    "def err(a,b):\n",
    "    return (a-b)*100/a\n",
    "\n",
    "def func(t,C1,C2,C3): #lattice kt for long time\n",
    "    A=np.log(C2*t)+C3\n",
    "    return C1*(1/A-g/A**2+(g**2-np.pi**2/6)/A**3+0.25/A**4 )\n",
    "\n",
    "tol = 0.5\n",
    "lb = lambda x: x-x*tol\n",
    "ub = lambda x: x+x*tol\n",
    "ka=kaf*kd \n",
    "c1=4*pi*D\n",
    "c2=4*D/R/R\n",
    "c3=4*pi*D/ka-2*g\n",
    "expt =[c1,c2,c3]\n",
    "print(expt)\n",
    "fiterr=[]\n",
    "cuts=[800*td] #minimum of both\n",
    "for i in range(2):\n",
    "    idx = T[i]>tcut\n",
    "    x=T[i][idx]\n",
    "    print('no of points',len(x))\n",
    "    y=KT[i][idx]\n",
    "    #sigma = SD[i][idx][:-2]\n",
    "    popt,pcov = curve_fit(func,x,y,p0=[c1,c2,c3],bounds=([lb(c1),lb(c2),ub(c3)],[ub(c1),ub(c2),lb(c3)]))#,sigma=sigma,absolute_sigma=False)\n",
    "    perr = np.sqrt(np.diag(pcov))\n",
    "    r1=sum((y-func(x,*popt))**2)\n",
    "    print('sq er fit1={:.7f}'.format(r1))\n",
    "    Er=[]\n",
    "    for j in range(3):\n",
    "        Er.append(abs(err(expt[j],popt[j])))\n",
    "        print('expected={:.4f}, fitted={:.4f}+-{:.4f}, error %={:.4f}'.format(expt[j],popt[j],perr[j],err(expt[j],popt[j])))\n",
    "    plt.plot(x,y,'.-',label='new')\n",
    "    plt.semilogx(x,func(x,*popt),'-',label='fitted')\n",
    "plt.semilogx(x,func(x,c1,c2,c3),'-',label='fitted')\n",
    "diff = err(func(x,c1,c2,c3),func(x,*popt))"
   ]
  },
  {
   "cell_type": "code",
   "execution_count": 93,
   "metadata": {},
   "outputs": [
    {
     "data": {
      "text/plain": [
       "(0.020612244897959184, 0.02)"
      ]
     },
     "execution_count": 93,
     "metadata": {},
     "output_type": "execute_result"
    },
    {
     "data": {
      "image/png": "[encoded data removed]",
      "text/plain": [
       "<Figure size 432x288 with 1 Axes>"
      ]
     },
     "metadata": {},
     "output_type": "display_data"
    }
   ],
   "source": [
    "plt.plot(fiterr,'o')\n",
    "plt.ylim(0,4)\n",
    "cuts[17],td*800"
   ]
  },
  {
   "cell_type": "code",
   "execution_count": 45,
   "metadata": {},
   "outputs": [
    {
     "data": {
      "text/plain": [
       "(-1.144432, -1.0299888, -1.2588751999999999)"
      ]
     },
     "execution_count": 45,
     "metadata": {},
     "output_type": "execute_result"
    }
   ],
   "source": [
    "ori10-19 new 15-19"
   ]
  },
  {
   "cell_type": "code",
   "execution_count": 30,
   "metadata": {},
   "outputs": [
    {
     "name": "stdout",
     "output_type": "stream",
     "text": [
      "/home/chew/outputdata/keff/2D/orikfac100_N423_L6.5_50tm_1.0208582rm/*\n",
      "N423\n",
      "nosimrun 30000\n",
      "/home/chew/outputdata/keff/2D/newkfac100_N423_L6.5_50tm_1.0208582rm/*\n",
      "N423\n",
      "nosimrun 30000\n"
     ]
    },
    {
     "data": {
      "text/plain": [
       "<matplotlib.legend.Legend at 0x7fc961971e80>"
      ]
     },
     "execution_count": 30,
     "metadata": {},
     "output_type": "execute_result"
    },
    {
     "data": {
      "image/png": "[encoded data removed]",
      "text/plain": [
       "<Figure size 432x288 with 1 Axes>"
      ]
     },
     "metadata": {},
     "output_type": "display_data"
    }
   ],
   "source": [
    "import glob\n",
    "import numpy as np\n",
    "import os.path\n",
    "import matplotlib.pyplot as plt\n",
    "%matplotlib inline\n",
    "\n",
    "L=5\n",
    "L=6.5\n",
    "f=1.0208582\n",
    "kaf=0.01\n",
    "kaf=100\n",
    "Ns=[2010,2017] \n",
    "Ns=[251,252]\n",
    "Ns=[252,252]\n",
    "Ns=[423,423]\n",
    "#Ns=[753,756]\n",
    "#conc=10#10,30,80\n",
    "actualA = [25.1282,25.2217]\n",
    "actualA = [25.2217,25.2217]\n",
    "actualA=[42.3799,42.3799]\n",
    "\n",
    "def calk(stsim,t,C): #get kt from st\n",
    "    dst = (stsim[2:]-stsim[:-2])/(t[2:]-t[:-2])\n",
    "    dst=np.append((stsim[1]-stsim[0])/(t[1]-t[0]),dst)\n",
    "    dst=np.append(dst,(stsim[-1]-stsim[-2])/(t[-1]-t[-2])  )\n",
    "    return -dst/stsim/C\n",
    "\n",
    "def calk2(stsim,t,C): #get kt from st\n",
    "    h = t[1]-t[0]\n",
    "    dst=[]\n",
    "    for i in range(len(stsim)-4):\n",
    "        y=(-stsim[i+4]+8*stsim[i+3]-8*stsim[i+1]+stsim[i])\n",
    "        dst.append(y)\n",
    "    dst = np.array(dst)/12/h\n",
    "    dst=np.append((stsim[2]-stsim[0])/2/h,dst)\n",
    "    dst=np.append((stsim[1]-stsim[0])/h,dst)\n",
    "    dst=np.append(dst,(stsim[-1]-stsim[-3])/2/h )\n",
    "    dst=np.append(dst,(stsim[-1]-stsim[-2])/h )\n",
    "    return -dst/stsim/C\n",
    "\n",
    "patterns1 = ['/home/chew/outputdata/keff/2D/orikfac{}_N{}_L{}_50tm_{}rm/*'.format(kaf,Ns[0],L,f),\n",
    "            '/home/chew/outputdata/keff/2D/newkfac{}_N{}_L{}_50tm_{}rm/*'.format(kaf,Ns[1],L,f)]\n",
    "#\n",
    "#'/home/chew/outputdata/keff/2D/orikfac{}_N{}_L{}_50tm_{}rm/*'.format(kaf,Ns[0],L,f),\n",
    "def getst(N,pattern,ds):   \n",
    "    fns = glob.glob(pattern)\n",
    "    y=0\n",
    "    #fns= fns[:50]\n",
    "    tlast=0\n",
    "    for fn in fns:\n",
    "        r=np.loadtxt(fn,delimiter=',')\n",
    "        y+=np.array(r).T[1][::ds]\n",
    "        if tlast==0:\n",
    "            tlast=np.array(r).T[0][-1]\n",
    "        assert(tlast==np.array(r).T[0][-1])\n",
    "    x=np.array(r).T[0][::ds]\n",
    "    print('nosimrun',len(fns))\n",
    "    y/=float(len(fns))\n",
    "    s=y/float(N)\n",
    "    plt.semilogx(x,s,'-',label=str(N))\n",
    "    plt.ylim(0,1)\n",
    "    return x,s       \n",
    "\n",
    "TT=[]\n",
    "ST=[]\n",
    "for i,pattern in enumerate(patterns1):\n",
    "    print(pattern)\n",
    "    NN=Ns[i]\n",
    "    print('N{}'.format(NN))\n",
    "    t,st=getst(NN,pattern,1)    \n",
    "    TT.append(t)\n",
    "    ST.append(st)\n",
    "plt.legend()\n"
   ]
  },
  {
   "cell_type": "code",
   "execution_count": 31,
   "metadata": {},
   "outputs": [
    {
     "name": "stdout",
     "output_type": "stream",
     "text": [
      "A 42.3799\n",
      "conc 9.981146722856826\n",
      "A 42.3799\n",
      "conc 9.981146722856826\n"
     ]
    },
    {
     "data": {
      "text/plain": [
       "<matplotlib.legend.Legend at 0x7fc961bc0550>"
      ]
     },
     "execution_count": 31,
     "metadata": {},
     "output_type": "execute_result"
    },
    {
     "data": {
      "image/png": "[encoded data removed]",
      "text/plain": [
       "<Figure size 432x288 with 1 Axes>"
      ]
     },
     "metadata": {},
     "output_type": "display_data"
    }
   ],
   "source": [
    "KT=[]\n",
    "T=[]\n",
    "for i,st in enumerate(ST):\n",
    "    #pct=1\n",
    "    Area=actualA[i]\n",
    "    print('A',Area)\n",
    "    #Area=Area*(1-pct/100.)\n",
    "    #print('A',Area)\n",
    "    NN=Ns[i]\n",
    "    t=TT[i][1:]\n",
    "    T.append(t)\n",
    "    conc = NN/Area\n",
    "    kt = calk(st,TT[i],conc)   \n",
    "    print('conc',conc)\n",
    "    KT.append(kt[1:])\n",
    "    plt.loglog(t,kt[1:],'-',label='N='+str(NN))\n",
    "plt.legend()"
   ]
  },
  {
   "cell_type": "code",
   "execution_count": 39,
   "metadata": {},
   "outputs": [
    {
     "data": {
      "text/plain": [
       "array([3.7965661 , 2.80886859, 2.58030947, 2.44333233, 2.35207032,\n",
       "       2.28020554, 2.2214862 , 2.17550791, 2.13559582, 2.10368419,\n",
       "       2.07715826, 2.04929421, 2.01789519, 1.99128253, 1.97065842,\n",
       "       1.95675978, 1.94297402, 1.92779274, 1.90875247, 1.89078399,\n",
       "       1.87971878, 1.8687276 , 1.86220417, 1.85055895, 1.83459698,\n",
       "       1.82597797, 1.81653488, 1.80628947, 1.80150702, 1.7959972 ,\n",
       "       1.78766947, 1.7784701 , 1.76947396, 1.76520763, 1.75823933,\n",
       "       1.74456298, 1.73791853, 1.7363138 , 1.73561488, 1.73444531,\n",
       "       1.72632387, 1.71551555, 1.71178739, 1.70192606, 1.69619719,\n",
       "       1.69574992, 1.68748791, 1.68507239, 1.68127236, 1.67569424,\n",
       "       1.67689979, 1.67404323, 1.66644615, 1.65986265, 1.65376189,\n",
       "       1.65016294, 1.64510497, 1.64512886, 1.64626155, 1.64364999,\n",
       "       1.63442097, 1.63062454, 1.62805173, 1.62331589, 1.62340846,\n",
       "       1.61537791, 1.61164019, 1.61448779, 1.61282596, 1.61033957,\n",
       "       1.60602217, 1.60698283, 1.60466867, 1.59084397, 1.58936665,\n",
       "       1.58775349, 1.5843832 , 1.58931121, 1.58626278, 1.57871961,\n",
       "       1.57572233, 1.57830276, 1.58153224, 1.5757987 , 1.57602807,\n",
       "       1.57517564, 1.56836702, 1.57101108, 1.56114835, 1.54641278,\n",
       "       1.54932154, 1.55831149, 1.55733937, 1.55254777, 1.5574994 ,\n",
       "       1.55936645, 1.54251725, 1.54340139, 1.54422001, 1.54481904,\n",
       "       1.55675415, 1.55421631, 1.53746219, 1.52739742, 1.53306689,\n",
       "       1.54190115, 1.54884282, 1.54157194, 1.5356561 , 1.52247844,\n",
       "       1.52178782, 1.53192392, 1.5295972 , 1.52900421, 1.52503911,\n",
       "       1.52083809, 1.51614135, 1.51950138, 1.52640771, 1.52284021,\n",
       "       1.51505203, 1.51774075, 1.50587971, 1.50345649, 1.50040554,\n",
       "       1.48877568, 1.48485216, 1.49052786, 1.5067123 , 1.50825834,\n",
       "       1.51218442, 1.50708375, 1.49735025, 1.4890844 , 1.48100986,\n",
       "       1.4817377 , 1.48862633, 1.49050758, 1.47616974, 1.47869418,\n",
       "       1.48449809, 1.47922336, 1.47670806, 1.4811082 , 1.47645834,\n",
       "       1.47886855, 1.49426609, 1.48919094, 1.4825667 , 1.46540371,\n",
       "       1.45448717, 1.46275267, 1.48165914])"
      ]
     },
     "execution_count": 39,
     "metadata": {},
     "output_type": "execute_result"
    }
   ],
   "source": [
    "KT[0]"
   ]
  },
  {
   "cell_type": "code",
   "execution_count": 149,
   "metadata": {},
   "outputs": [
    {
     "name": "stdout",
     "output_type": "stream",
     "text": [
      "Pa 364.2521414769726,rv 0.0051042909999999995\n",
      "Pa 91.72793663882513,rv 0.0051042909999999995\n",
      "1.4507474263608517 0.1993114675870096\n",
      "Pa 364.2521414769726,rv 0.0051042909999999995\n",
      "Pa 364.2521414769726,rv 0.0051042909999999995\n"
     ]
    },
    {
     "name": "stderr",
     "output_type": "stream",
     "text": [
      "/usr/local/lib/python3.6/dist-packages/matplotlib/axes/_base.py:3129: UserWarning: Attempted to set non-positive xlimits for log-scale axis; invalid limits will be ignored.\n",
      "  'Attempted to set non-positive xlimits for log-scale axis; '\n",
      "/usr/local/lib/python3.6/dist-packages/matplotlib/axes/_axes.py:6462: UserWarning: The 'normed' kwarg is deprecated, and has been replaced by the 'density' kwarg.\n",
      "  warnings.warn(\"The 'normed' kwarg is deprecated, and has been \"\n"
     ]
    },
    {
     "data": {
      "text/plain": [
       "Text(0.5,0,'ksim-ktheory for t>0, %')"
      ]
     },
     "execution_count": 149,
     "metadata": {},
     "output_type": "execute_result"
    },
    {
     "data": {
      "image/png": "[encoded data removed]",
      "text/plain": [
       "<Figure size 1080x360 with 2 Axes>"
      ]
     },
     "metadata": {},
     "output_type": "display_data"
    }
   ],
   "source": [
    "import math\n",
    "import numpy as np\n",
    "from math import sqrt,pi,log\n",
    "from scipy import special\n",
    "import mpmath as mp\n",
    "import matplotlib.pyplot as plt\n",
    "%matplotlib inline\n",
    "mydehoog = mp.calculus.inverselaplace.deHoog(mp)\n",
    "\n",
    "D=1\n",
    "kd= 4.0*pi*D\n",
    "rm=0.005\n",
    "td = (rm*2)**2/4/D\n",
    "tcut = 0#100*td\n",
    "R=2*rm\n",
    "f=1.0208582 \n",
    "C=R/D**0.5\n",
    "g = 0.577216\n",
    "kz = lambda z: 2*np.pi*D*complex(z)**0.5*C*special.kv(1,C*(complex(z)**0.5))/complex(z)/special.kv(0,C*(complex(z)**0.5)) \n",
    "\n",
    "def ktl(kaf,t,pa): #lattice kt for long time\n",
    "    ka = kaf*kd\n",
    "    factor = (2 * sqrt(2.0) + 4 * sqrt(3.0) + 3 * sqrt(6.0) + sqrt(22.0))**2/(72 * (6 * sqrt(2.0) + 4 * sqrt(3.0) + 3 * sqrt(6.0)))            \n",
    "    Pa=ka*factor/D\n",
    "    voxelr =rm*f\n",
    "    if pa=='new':  \n",
    "        #voxelr=rm*f\n",
    "        Pa=1./(1+math.sqrt(3)*(math.log(f*f/12)+(4*math.pi*D/ka)-2*g)/2/math.pi)\n",
    "    C1 = 12*4*D/(voxelr*2)**2\n",
    "    C2 = (1./Pa-1)*2*math.pi/sqrt(3)\n",
    "    if pa=='ck':\n",
    "        C1=4*D/R/R\n",
    "        C2=4*pi*D/ka-2*g\n",
    "    F = C1*t\n",
    "    A=np.log(F)+C2\n",
    "    t3=4*np.pi*D*(1/A-g/A**2+(g**2-np.pi**2/6)/A**3)\n",
    "    print('Pa {},rv {}'.format(Pa,voxelr))\n",
    "    return t3   \n",
    "\n",
    "def invlt(kaf,t):    #inverse laplace transform of k(z)\n",
    "    ka=kaf*kd  \n",
    "    mp.dps = 15;\n",
    "    fp= lambda z: ka/(complex(z)+ka/kz(z))\n",
    "    t = mp.convert(t)\n",
    "    mydehoog.calc_laplace_parameter(t)\n",
    "    fpvec = [fp(p) for p in mydehoog.p]\n",
    "    ft =(float(mydehoog.calc_time_domain_solution(fpvec,t,manual_prec=False)))\n",
    "    return ft\n",
    "\n",
    "def err(a,b):\n",
    "    return (a-b)*100/a\n",
    "\n",
    "def diff(time,ksim):\n",
    "    #ktck = np.array([invlt(kaf,t) for t in time]) #from inverse LT\n",
    "    ktck = ktl(kaf,time,'ck')    \n",
    "    return err(ktck,ksim)\n",
    "    \n",
    "\n",
    "fig,ax = plt.subplots(1,2,figsize=(15,5))\n",
    "  #expected\n",
    "\n",
    "tt=T[0][1:]\n",
    "ktck = np.array([invlt(kaf,t) for t in tt]) #from inverse LT\n",
    "orilat = ktl(kaf,tt,'ori')\n",
    "newlat = ktl(kaf,tt,'new')\n",
    "print(newlat[-1],tt[-1])\n",
    "#ktck = ktl(kaf,tt,'ck')\n",
    "#diffori = err(ktck,orilat)\n",
    "#diffnew = err(ktck,newlat)\n",
    "\n",
    "idx0 = T[0]>tcut\n",
    "\n",
    "#simulation result\n",
    "ax[0].semilogx(T[0][idx0],KT[0][idx0],'.',label='ori')\n",
    "ax[0].set_ylim(ktck[-1]*0.95,ktck[tt>tcut][0]*1.05)\n",
    "ax[0].set_xlim(tcut,T[0][-1])\n",
    "ax[0].set_ylabel('k(t)')\n",
    "ax[0].set_xlabel('t')\n",
    "\n",
    "ax[1].hist(diff(T[0][idx0],KT[0][idx0]),range=(-2,0.5),normed=True,label='ori, kf='+str(kaf),alpha=0.5)\n",
    "\n",
    "idx1 = T[1]>tcut\n",
    "ax[0].semilogx(T[1][idx1],KT[1][idx1],'.',label='new')\n",
    "ax[1].hist(diff(T[1][idx1],KT[1][idx1]),range=(-2,0.5),normed=True,label='new, kf='+str(kaf),alpha=0.5)\n",
    "ax[0].plot(tt,orilat,'-',label='lat theory ori, kf='+str(kaf))\n",
    "ax[0].semilogx(tt,newlat,'-',label='lat theory new, kf='+str(kaf))\n",
    "ax[0].plot(tt,ktck,'--',label='CK theory, kf='+str(kaf))\n",
    "\n",
    "ax[0].legend()\n",
    "ax[1].legend()\n",
    "ax[1].set_ylabel('frequency')\n",
    "ax[1].set_xlabel('ksim-ktheory for t>{}, %'.format(tcut))"
   ]
  },
  {
   "cell_type": "code",
   "execution_count": 6,
   "metadata": {},
   "outputs": [
    {
     "data": {
      "text/plain": [
       "array([1.45887779e+09, 3.64048761e+04, 8.07081386e-02])"
      ]
     },
     "execution_count": 6,
     "metadata": {},
     "output_type": "execute_result"
    }
   ],
   "source": [
    "perr"
   ]
  },
  {
   "cell_type": "code",
   "execution_count": 60,
   "metadata": {},
   "outputs": [
    {
     "name": "stdout",
     "output_type": "stream",
     "text": [
      "td 2.5e-05\n"
     ]
    },
    {
     "name": "stderr",
     "output_type": "stream",
     "text": [
      "/usr/local/lib/python3.6/dist-packages/scipy/integrate/quadpack.py:385: IntegrationWarning: The integral is probably divergent, or slowly convergent.\n",
      "  warnings.warn(msg, IntegrationWarning)\n",
      "/usr/local/lib/python3.6/dist-packages/scipy/integrate/quadpack.py:385: IntegrationWarning: The algorithm does not converge.  Roundoff error is detected\n",
      "  in the extrapolation table.  It is assumed that the requested tolerance\n",
      "  cannot be achieved, and that the returned result (if full_output = 1) is \n",
      "  the best which can be obtained.\n",
      "  warnings.warn(msg, IntegrationWarning)\n"
     ]
    },
    {
     "data": {
      "text/plain": [
       "[<matplotlib.lines.Line2D at 0x7fb827f83320>]"
      ]
     },
     "execution_count": 60,
     "metadata": {},
     "output_type": "execute_result"
    },
    {
     "data": {
      "image/png": "[encoded data removed]",
      "text/plain": [
       "<Figure size 432x288 with 1 Axes>"
      ]
     },
     "metadata": {},
     "output_type": "display_data"
    }
   ],
   "source": [
    "from scipy.optimize import curve_fit\n",
    "import math\n",
    "import numpy as np\n",
    "from math import sqrt,pi,log\n",
    "from scipy import special\n",
    "from scipy.integrate import quad \n",
    "\n",
    "D=1\n",
    "kd= 4.0*pi*D\n",
    "rm=0.005\n",
    "td = (rm*2)**2/4/D\n",
    "print('td',td)\n",
    "R=2*rm\n",
    "f=1.0208582 \n",
    "g = 0.577216\n",
    "kaf=100\n",
    "N=423.\n",
    "Area = 42.3799\n",
    "\n",
    "def func(t): #lattice kt for long time\n",
    "    C1=ka\n",
    "    C2=R\n",
    "    b1=4*D/C2/C2\n",
    "    A=np.log(b1*t)+4*pi*D/C1-2*g\n",
    "    return 4*pi*D*(1/A-g/A**2+(g**2-np.pi**2/6)/A**3+0.25/A**4)\n",
    "\n",
    "ka=kaf*kd \n",
    "def S(t):\n",
    "    conc = N/Area\n",
    "    return [np.exp(-conc*quad(func,0,tt)[0]) for tt in t]\n",
    "\n",
    "tt=np.logspace(-1,math.log(0.2)/math.log(10),20)\n",
    "st = S(tt)\n",
    "plt.semilogx(tt,st,'o-')"
   ]
  },
  {
   "cell_type": "code",
   "execution_count": 15,
   "metadata": {},
   "outputs": [
    {
     "data": {
      "text/plain": [
       "276999"
      ]
     },
     "execution_count": 15,
     "metadata": {},
     "output_type": "execute_result"
    }
   ],
   "source": [
    "f=1.0208582 \n",
    "l=2*0.005*f\n",
    "int(25.*pi*sqrt(3)/6/(pi*l*l/4))"
   ]
  },
  {
   "cell_type": "code",
   "execution_count": 57,
   "metadata": {},
   "outputs": [
    {
     "data": {
      "text/plain": [
       "0.19952623149688797"
      ]
     },
     "execution_count": 57,
     "metadata": {},
     "output_type": "execute_result"
    }
   ],
   "source": [
    "10**-0.7"
   ]
  },
  {
   "cell_type": "code",
   "execution_count": 1,
   "metadata": {},
   "outputs": [
    {
     "data": {
      "text/plain": [
       "4.641588833612778"
      ]
     },
     "execution_count": 1,
     "metadata": {},
     "output_type": "execute_result"
    }
   ],
   "source": [
    "100.**(1./3)"
   ]
  },
  {
   "cell_type": "code",
   "execution_count": null,
   "metadata": {},
   "outputs": [],
   "source": []
  }
 ],
 "metadata": {
  "kernelspec": {
   "display_name": "Python 3",
   "language": "python",
   "name": "python3"
  },
  "language_info": {
   "codemirror_mode": {
    "name": "ipython",
    "version": 3
   },
   "file_extension": ".py",
   "mimetype": "text/x-python",
   "name": "python",
   "nbconvert_exporter": "python",
   "pygments_lexer": "ipython3",
   "version": "3.6.5"
  }
 },
 "nbformat": 4,
 "nbformat_minor": 2
}
