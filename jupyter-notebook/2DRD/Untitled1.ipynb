{
 "cells": [
  {
   "cell_type": "code",
   "execution_count": 2,
   "metadata": {},
   "outputs": [
    {
     "name": "stdout",
     "output_type": "stream",
     "text": [
      "Pa 364.2521414769726,rv 0.0051042909999999995\n"
     ]
    },
    {
     "data": {
      "text/plain": [
       "1.4555341951880676"
      ]
     },
     "execution_count": 2,
     "metadata": {},
     "output_type": "execute_result"
    }
   ],
   "source": [
    "import math\n",
    "import numpy as np\n",
    "from math import sqrt,pi,log\n",
    "\n",
    "D=1\n",
    "kd= 4.0*pi*D\n",
    "rm=0.005\n",
    "td = (rm*2)**2/4/D\n",
    "tcut = 1000*td\n",
    "R=2*rm\n",
    "f=1.0208582 \n",
    "C=R/D**0.5\n",
    "g = 0.577216\n",
    "kaf=100\n",
    "\n",
    "def ktl(kaf,t,pa): #lattice kt for long time\n",
    "    ka = kaf*kd\n",
    "    factor = (2 * sqrt(2.0) + 4 * sqrt(3.0) + 3 * sqrt(6.0) + sqrt(22.0))**2/(72 * (6 * sqrt(2.0) + 4 * sqrt(3.0) + 3 * sqrt(6.0)))            \n",
    "    Pa=ka*factor/D\n",
    "    voxelr =rm*f\n",
    "    if pa=='new':  \n",
    "        #voxelr=rm*f\n",
    "        Pa=1./(1+math.sqrt(3)*(math.log(f*f/12)+(4*math.pi*D/ka)-2*g)/2/math.pi)\n",
    "    C1 = 12*4*D/(voxelr*2)**2\n",
    "    C2 = (1./Pa-1)*2*math.pi/sqrt(3)\n",
    "    if pa=='ck':\n",
    "        C1=4*D/R/R\n",
    "        C2=4*pi*D/ka-2*g\n",
    "    F = C1*t\n",
    "    A=np.log(F)+C2\n",
    "    t3=4*np.pi*D*(1/A-g/A**2+(g**2-np.pi**2/6)/A**3)\n",
    "    print('Pa {},rv {}'.format(Pa,voxelr))\n",
    "    return t3   \n",
    "\n",
    "#last 1.4555341951880676 0.1993114675870096\n",
    "#ktck = np.array([invlt(kaf,t) for t in tt]) #from inverse LT\n",
    "ktl(kaf,0.1993114675870096,'ori')\n"
   ]
  },
  {
   "cell_type": "code",
   "execution_count": null,
   "metadata": {},
   "outputs": [],
   "source": []
  }
 ],
 "metadata": {
  "kernelspec": {
   "display_name": "Python 3",
   "language": "python",
   "name": "python3"
  },
  "language_info": {
   "codemirror_mode": {
    "name": "ipython",
    "version": 3
   },
   "file_extension": ".py",
   "mimetype": "text/x-python",
   "name": "python",
   "nbconvert_exporter": "python",
   "pygments_lexer": "ipython3",
   "version": "3.6.5"
  }
 },
 "nbformat": 4,
 "nbformat_minor": 2
}
