{
 "cells": [
  {
   "cell_type": "code",
   "execution_count": null,
   "metadata": {
    "scrolled": true
   },
   "outputs": [
    {
     "name": "stderr",
     "output_type": "stream",
     "text": [
      "DEBUG:sge:Submitted batch job 2392309\n",
      "DEBUG:sge:             JOBID PARTITION     NAME     USER ST       TIME  NODES NODELIST(REASON)\n",
      "DEBUG:sge:2392309_[1-10%500]     debug sge-4kgi     chew PD       0:00      1 (None)\n",
      "DEBUG:sge:\n",
      "INFO:sge:Job 2392309 must be queued, running or being transferred\n"
     ]
    }
   ],
   "source": [
    "from ecell4 import *\n",
    "import numpy as np\n",
    "import math\n",
    "import sys\n",
    "import os\n",
    "import matplotlib.pyplot as plt\n",
    "%matplotlib inline\n",
    "from ecell4.extra import ensemble\n",
    "\n",
    "def wrap(job,job_id,task_id):\n",
    "    def singlerun(kaf,run,correct,L,conc,shift):\n",
    "        import numpy as np\n",
    "        from math import sqrt\n",
    "        rm = 0.005\n",
    "        run+=shift\n",
    "        rng = GSLRandomNumberGenerator()\n",
    "        rng.seed(run)\n",
    "        D = 1\n",
    "        kd= 4.0*math.pi*D\n",
    "        ka = kaf*kd\n",
    "        f=1.0208582         \n",
    "        if correct=='new':\n",
    "            gamma=0.577216\n",
    "            factor = (2 * sqrt(2.0) + 4 * sqrt(3.0) + 3 * sqrt(6.0) + sqrt(22.0))**2/(72 * (6 * sqrt(2.0) + 4 * sqrt(3.0) + 3 * sqrt(6.0)))            \n",
    "            PP=1./(1+math.sqrt(3)*(math.log(f*f/12)+(4*math.pi*D/ka)-2*gamma)/2/math.pi)\n",
    "            ka = PP*D/factor            \n",
    "        voxelr=rm*f\n",
    "        tm =(2*voxelr)**2/(4*D)        \n",
    "        duration=0.2\n",
    "        H = 3*voxelr*2\n",
    "        ori = Real3(0.5*H,0,0)\n",
    "        unit0 = Real3(0,0,L)\n",
    "        unit1 = Real3(0,L,0)\n",
    "        w = spatiocyte.SpatiocyteWorld(Real3(H,L,L),voxelr,rng)\n",
    "        size=tuple(w.calculate_shape(Real3(H,L,L),voxelr))\n",
    "        Nmv=size[1]*size[2]\n",
    "        lx,ly,lz=w.actual_lengths()\n",
    "        N=int(conc*ly*lz)\n",
    "        w.add_structure(Species('M'),PlanarSurface(ori,unit0,unit1))\n",
    "        with species_attributes():\n",
    "            A |  {'D': str(0), 'radius':str(voxelr),'location':'M'}\n",
    "            B |  {'D': str(D), 'radius':str(voxelr),'location':'M'}\n",
    "\n",
    "        with reaction_rules():\n",
    "            A + B > B | ka\n",
    "\n",
    "        m2 = get_model()\n",
    "        w.bind_to(m2)\n",
    "        w.add_molecules(Species('A'), N)\n",
    "        w.add_molecules(Species('B'), N)\n",
    "        sim = spatiocyte.SpatiocyteSimulator(w)\n",
    "        sim.initialize()\n",
    "        tfactor=50\n",
    "        obs = FixedIntervalNumberObserver(tm*tfactor,['A'])\n",
    "        #NM = w.get_value_exact(Species('M'))\n",
    "        #print('nm',NM)\n",
    "        #sim.run(duration,obs)       \n",
    "        #data=obs.data()\n",
    "        #folder='/home/chew/outputdata/keff/2D/{}kfac{}_N{}_L{}_{}tm_{}rm/'.format(correct,kaf,N,L,tfactor,f)\n",
    "        #name = folder+'run'+str(run)\n",
    "        #if not os.path.exists(folder):\n",
    "            #os.makedirs(folder)            \n",
    "        #filename=open(name,'w')\n",
    "        #np.savetxt(name,data,delimiter=',',fmt='%s')\n",
    "        #filename.close()       \n",
    "        if run==1:\n",
    "            print('lx{},ly{},lz{}'.format(lx,ly,lz))\n",
    "            print('size {},{},{}'.format(size[0],size[1],size[2]))\n",
    "            print('total voxel',Nmv)\n",
    "            print('N {}, rv{}, Area {}, actual Area {:.4f}'.format(N,voxelr,L*L,ly*lz))\n",
    "            print('100tm',tm*100)\n",
    "            print('sim.dt(),tm',sim.dt(),tm,tm/sim.dt())\n",
    "        return \n",
    "    job.update({'run':task_id})\n",
    "    out=singlerun(**job)\n",
    "    return       \n",
    "\n",
    "simrun=10\n",
    "kaf=100\n",
    "nproc=500#250#\n",
    "L=5\n",
    "shift=0\n",
    "# works in low conc, deviate when conc is high\n",
    "for conc in [4]:\n",
    "    for cor in ['new']:#,'new']:\n",
    "        jobs=[{'kaf':kaf,'correct':cor,'conc':conc,'L':L,'shift':shift}]    \n",
    "        ensemble.run_slurm(wrap,jobs,n=simrun,nproc=nproc,path='tmp',modules=('numpy','ecell4','math'),extra_args=['--exclude=ibc[02,12,27]'])[0]\n",
    "        #ensemble.run_multiprocessing(wrap,jobs,n=simrun,nproc=nproc,modules=('numpy','ecell4','math'))[0]\n",
    "print('finish')"
   ]
  },
  {
   "cell_type": "code",
   "execution_count": 7,
   "metadata": {},
   "outputs": [
    {
     "data": {
      "text/plain": [
       "4.0032506395192895"
      ]
     },
     "execution_count": 7,
     "metadata": {},
     "output_type": "execute_result"
    }
   ],
   "source": [
    "Ns = 276774\n",
    "actualArea= 24.9797\n",
    "100/actualArea\n",
    "L=5, Ns = 276774, actual Area (x unit area) = 24.9797\n"
   ]
  },
  {
   "cell_type": "code",
   "execution_count": 11,
   "metadata": {},
   "outputs": [
    {
     "name": "stdout",
     "output_type": "stream",
     "text": [
      "ec3, layer579 x row 502,actual vacant voxel 288500, difference=2158\n",
      "ec4, layer502 x row 578,actual vacant voxel 290156, difference=0\n"
     ]
    }
   ],
   "source": [
    "print('ec3, layer{} x row {},actual vacant voxel {}, difference={}'.format(579,502,288500,579*502-288500))\n",
    "print('ec4, layer{} x row {},actual vacant voxel {}, difference={}'.format(502,578,290156,502*578-290156))"
   ]
  },
  {
   "cell_type": "code",
   "execution_count": 5,
   "metadata": {},
   "outputs": [
    {
     "data": {
      "text/plain": [
       "13382"
      ]
     },
     "execution_count": 5,
     "metadata": {},
     "output_type": "execute_result"
    }
   ],
   "source": [
    "290156-276774"
   ]
  },
  {
   "cell_type": "code",
   "execution_count": 15,
   "metadata": {},
   "outputs": [
    {
     "data": {
      "text/plain": [
       "array([5.79, 5.02, 5.02, 5.78])"
      ]
     },
     "execution_count": 15,
     "metadata": {},
     "output_type": "execute_result"
    }
   ],
   "source": [
    "l=0.01\n",
    "l*np.array([579,502,502,578])"
   ]
  },
  {
   "cell_type": "code",
   "execution_count": 28,
   "metadata": {},
   "outputs": [
    {
     "data": {
      "text/plain": [
       "(42.247035016616685, 42.289111497600004)"
      ]
     },
     "execution_count": 28,
     "metadata": {},
     "output_type": "execute_result"
    }
   ],
   "source": [
    "from math import sqrt\n",
    "getA = lambda N,rv: N*rv**2*2*sqrt(3)\n",
    "getA(468096,0.00510429),6.49776*6.50826"
   ]
  },
  {
   "cell_type": "code",
   "execution_count": 30,
   "metadata": {},
   "outputs": [
    {
     "data": {
      "text/plain": [
       "(25.128246706047758, 25.128111999999998)"
      ]
     },
     "execution_count": 30,
     "metadata": {},
     "output_type": "execute_result"
    }
   ],
   "source": [
    "getA(290156,0.005),5.0056*5.02"
   ]
  },
  {
   "cell_type": "code",
   "execution_count": 34,
   "metadata": {},
   "outputs": [
    {
     "data": {
      "text/plain": [
       "42.247035016616685"
      ]
     },
     "execution_count": 34,
     "metadata": {},
     "output_type": "execute_result"
    }
   ],
   "source": [
    "rv=0.00510429\n",
    "uA = 2*sqrt(3)*rv**2\n",
    "uA*468096"
   ]
  },
  {
   "cell_type": "code",
   "execution_count": 46,
   "metadata": {},
   "outputs": [
    {
     "data": {
      "text/plain": [
       "100"
      ]
     },
     "execution_count": 46,
     "metadata": {},
     "output_type": "execute_result"
    }
   ],
   "source": [
    "int(2.37*6.5*6.5)"
   ]
  },
  {
   "cell_type": "code",
   "execution_count": 11,
   "metadata": {},
   "outputs": [
    {
     "name": "stdout",
     "output_type": "stream",
     "text": [
      "0.05001163379472196 5.021626286014201 5.022622343999999\n",
      "6 492 568\n"
     ]
    }
   ],
   "source": [
    "from ecell4 import *\n",
    "import numpy as np\n",
    "import math\n",
    "import sys\n",
    "import os\n",
    "import matplotlib.pyplot as plt\n",
    "%matplotlib inline\n",
    "from math import sqrt,pi\n",
    "\n",
    "kaf=100\n",
    "nproc=500#250#\n",
    "L=5\n",
    "shift=0\n",
    "conc=4.\n",
    "rm = 0.005\n",
    "run=1\n",
    "correct='new'\n",
    "rng = GSLRandomNumberGenerator()\n",
    "rng.seed(run)\n",
    "D = 1\n",
    "kd= 4.0*math.pi*D\n",
    "ka = kaf*kd\n",
    "f=1.0208582         \n",
    "if correct=='new':\n",
    "    gamma=0.577216\n",
    "    factor = (2 * sqrt(2.0) + 4 * sqrt(3.0) + 3 * sqrt(6.0) + sqrt(22.0))**2/(72 * (6 * sqrt(2.0) + 4 * sqrt(3.0) + 3 * sqrt(6.0)))            \n",
    "    PP=1./(1+math.sqrt(3)*(math.log(f*f/12)+(4*math.pi*D/ka)-2*gamma)/2/math.pi)\n",
    "    ka = PP*D/factor            \n",
    "voxelr=rm*f\n",
    "tm =(2*voxelr)**2/(4*D)        \n",
    "duration=1#tm*5e4#tm*5e3\n",
    "H = 3*voxelr*2\n",
    "ori = Real3(0.5*H,0,0)\n",
    "unit0 = Real3(0,0,L)\n",
    "unit1 = Real3(0,L,0)\n",
    "w = spatiocyte.SpatiocyteWorld(Real3(H,L,L),voxelr,rng)\n",
    "size=tuple(w.calculate_shape(Real3(H,L,L),voxelr))\n",
    "Nmv=size[1]*size[2]\n",
    "lx,ly,lz=w.actual_lengths()\n",
    "N=int(conc*ly*lz)\n",
    "print(lx,ly,lz)\n",
    "print(size[0],size[1],size[2])\n",
    "#print(Nmv*(voxelr*2)**2)\n",
    "w.add_structure(Species('M'),PlanarSurface(ori,unit0,unit1))\n",
    "with species_attributes():\n",
    "    A |  {'D': str(0), 'radius':str(voxelr),'location':'M'}\n",
    "    B |  {'D': str(D), 'radius':str(voxelr),'location':'M'}\n",
    "\n",
    "with reaction_rules():\n",
    "    A + B > B | ka\n",
    "\n",
    "m2 = get_model()\n",
    "#print('ka',ka,'Rv',voxelr*2)\n",
    "w.bind_to(m2)\n",
    "w.add_molecules(Species('A'),2)\n"
   ]
  },
  {
   "cell_type": "code",
   "execution_count": 18,
   "metadata": {},
   "outputs": [
    {
     "name": "stdout",
     "output_type": "stream",
     "text": [
      "(0.008335272299120327, 0.002946963782872184, 0.0051042909999999995)\n",
      "(0.008335272299120327, 0.002946963782872184, 0.015312872999999998)\n",
      "(0.008335272299120327, 0.002946963782872184, 0.025521455)\n",
      "(0.008335272299120327, 0.002946963782872184, 0.035730037)\n",
      "(0.008335272299120327, 0.002946963782872184, 0.04593861899999999)\n",
      "(0.008335272299120327, 0.002946963782872184, 0.056147200999999994)\n",
      "(0.008335272299120327, 0.002946963782872184, 0.06635578299999999)\n",
      "(0.008335272299120327, 0.002946963782872184, 0.076564365)\n",
      "(0.008335272299120327, 0.002946963782872184, 0.08677294699999999)\n",
      "(0.008335272299120327, 0.002946963782872184, 0.096981529)\n"
     ]
    }
   ],
   "source": [
    "for i in range(10):\n",
    "    pid,p=w.list_particles(Species('M'))[i]\n",
    "    print(tuple(p.position()))"
   ]
  },
  {
   "cell_type": "code",
   "execution_count": 10,
   "metadata": {},
   "outputs": [
    {
     "data": {
      "text/plain": [
       "(0.008335272299120327, 3.6188715253670414, 1.755876104)"
      ]
     },
     "execution_count": 10,
     "metadata": {},
     "output_type": "execute_result"
    }
   ],
   "source": []
  },
  {
   "cell_type": "code",
   "execution_count": null,
   "metadata": {},
   "outputs": [],
   "source": []
  }
 ],
 "metadata": {
  "kernelspec": {
   "display_name": "Python 3",
   "language": "python",
   "name": "python3"
  },
  "language_info": {
   "codemirror_mode": {
    "name": "ipython",
    "version": 3
   },
   "file_extension": ".py",
   "mimetype": "text/x-python",
   "name": "python",
   "nbconvert_exporter": "python",
   "pygments_lexer": "ipython3",
   "version": "3.6.5"
  }
 },
 "nbformat": 4,
 "nbformat_minor": 2
}
