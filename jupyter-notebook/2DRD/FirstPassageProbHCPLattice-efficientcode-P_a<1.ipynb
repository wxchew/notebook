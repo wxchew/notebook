{
 "cells": [
  {
   "cell_type": "code",
   "execution_count": 76,
   "metadata": {},
   "outputs": [],
   "source": [
    "import math\n",
    "import numpy as np\n",
    "import scipy\n",
    "import matplotlib.pyplot as plt\n",
    "%matplotlib inline"
   ]
  },
  {
   "cell_type": "code",
   "execution_count": 77,
   "metadata": {},
   "outputs": [],
   "source": [
    "def bino(n, k):\n",
    "    def eratosthenes_simple_numbers(N):\n",
    "        yield 2\n",
    "        nonsimp = set()\n",
    "        for i in range(3, N + 1, 2):\n",
    "            if i not in nonsimp:\n",
    "                nonsimp |= {j for j in range(i * i, N + 1, 2 * i)}\n",
    "                yield i\n",
    "    def calc_pow_in_factorial(a, p):\n",
    "        res = 0\n",
    "        while a:\n",
    "            a //= p\n",
    "            res += a\n",
    "        return res\n",
    "    ans = 1\n",
    "    for p in eratosthenes_simple_numbers(n):\n",
    "        ans *= p ** (calc_pow_in_factorial(n, p) - calc_pow_in_factorial(k, p) - calc_pow_in_factorial(n - k, p))\n",
    "    return ans"
   ]
  },
  {
   "cell_type": "code",
   "execution_count": 78,
   "metadata": {},
   "outputs": [],
   "source": [
    "memH={0:1}\n",
    "memP={0:1}\n",
    "memF={0:0}\n",
    "memF2={(0,0):0}\n",
    "\n",
    "def H(n): \n",
    "    if n not in memH:\n",
    "        x=0\n",
    "        for j in range(n+1):\n",
    "            xx = (bino(n,j))**2 *(bino(2*j,j))*(bino(2*n-2*j,n-j))\n",
    "            x+=xx\n",
    "        memH[n]=x\n",
    "    return memH[n]\n",
    "\n",
    "def P(n): \n",
    "    if n not in memP:\n",
    "        y=0\n",
    "        for j in range(n+1):\n",
    "            yy = bino(n,j)*((-4)**(n-j)) *H(j)\n",
    "            y+=yy\n",
    "        memP[n]=y/12**n\n",
    "    return memP[n]\n",
    "\n",
    "\n",
    "def F(n): \n",
    "    if n not in memF:\n",
    "        yy=0\n",
    "        for j in range(n-1):\n",
    "            j+=1\n",
    "            yy+=P(n-j)*F(j)\n",
    "        memF[n]=P(n)-yy    \n",
    "    return memF[n]\n",
    "\n",
    "\n",
    "def Fj(n,j):\n",
    "    y=[F(i+1) for i in range(n)]\n",
    "    k=list(y)\n",
    "    Fnj=[y[-1]]\n",
    "    jj = 2\n",
    "    while jj<=j:\n",
    "        nlist = []\n",
    "        for nn in range(n): #get Fjj for all n \n",
    "            g=0\n",
    "            for i in range(nn): #get Fjj for nn\n",
    "                i+=1\n",
    "                g+= y[i]*k[nn-i]\n",
    "            nlist.append(g)\n",
    "        jj+=1\n",
    "        k=list(nlist)\n",
    "        Fnj.append(k[-1])\n",
    "    return Fnj #Fn at j=0 to input J\n",
    "\n",
    "def Fj2(n,j):\n",
    "    if j==1:\n",
    "        return F(n)\n",
    "    elif (n,j) not in memF2:\n",
    "        y=0\n",
    "        for i in range(n):\n",
    "            i+=1\n",
    "            y+=F(i)*Fj2(n-i,j-1)\n",
    "        memF2[(n,j)]=y\n",
    "    return memF2[(n,j)]\n",
    "\n",
    "def Hn(Pa,n): #prob of first succesful return after step n\n",
    "    sm = 0\n",
    "    for j in range(n):\n",
    "        j+=1\n",
    "        sm+=Fj2(n+j,j)*(1-Pa)**(j-1)\n",
    "    return Pa*sm\n"
   ]
  },
  {
   "cell_type": "code",
   "execution_count": 81,
   "metadata": {},
   "outputs": [
    {
     "name": "stdout",
     "output_type": "stream",
     "text": [
      "0.041666666666666664\n",
      "0.015625\n",
      "0.010778356481481483\n",
      "0.007429711612654322\n",
      "0.005680162720228909\n"
     ]
    }
   ],
   "source": [
    "for i in range(5):\n",
    "    print(Hn(0.5,i+1))"
   ]
  },
  {
   "cell_type": "code",
   "execution_count": 75,
   "metadata": {},
   "outputs": [
    {
     "name": "stdout",
     "output_type": "stream",
     "text": [
      "0.02961921958772244 0.006265667905187531\n"
     ]
    }
   ],
   "source": [
    "n=10\n",
    "kfac=0.01\n",
    "#Pa=(1/0.256318-1)*kfac \n",
    "voxel_radius = 0.005\n",
    "D = 1\n",
    "kD = 4 * np.pi * (2 * voxel_radius) * D\n",
    "ka = kD * kfac\n",
    "Pa=ka / (6 * np.sqrt(2) * D * voxel_radius)\n",
    "#print(Pa,1./(1+1./kfac))\n",
    "ls=[Hn(Pa,i+1) for i in range(n)]\n",
    "print(Pa,sum(ls))"
   ]
  },
  {
   "cell_type": "code",
   "execution_count": 40,
   "metadata": {},
   "outputs": [],
   "source": [
    "def Fn(step):\n",
    "    Flist=[F(i+2) for i in range(step)]\n",
    "    return Flist,1-sum(Flist)"
   ]
  },
  {
   "cell_type": "code",
   "execution_count": 57,
   "metadata": {},
   "outputs": [],
   "source": [
    "def Hna(n,P):\n",
    "    A=3**(3./2)/2/np.pi\n",
    "    p1=1.344661\n",
    "    C=A/(1+P*(p1-1))**2\n",
    "    return P*C*n**(-3./2)/2/np.pi**0.5\n",
    "\n",
    "def Hna2(n,P):\n",
    "    A=3**(3./2)/2/np.pi\n",
    "    p1=1.344661\n",
    "    C=A/(1-P*(p1-1))**2\n",
    "    return P*C*n**(-3./2)/2/np.pi**0.5\n",
    "\n",
    "def err(a,b):\n",
    "    return (a-b)*100/a"
   ]
  },
  {
   "cell_type": "code",
   "execution_count": 58,
   "metadata": {},
   "outputs": [
    {
     "name": "stdout",
     "output_type": "stream",
     "text": [
      "exact 8.333738675751084e-05\n",
      "8.487249280194163e-05 error -1.8420376545973587\n",
      "0.0001702758994191518 error -104.32114089995216\n"
     ]
    }
   ],
   "source": [
    "st=100\n",
    "Pa=0.5\n",
    "b=Hn(Pa,st)\n",
    "print('exact',b)\n",
    "get=Hna(st,Pa)\n",
    "get2=Hna2(st,Pa)\n",
    "print(get,'error',err(b,get))\n",
    "print(get2,'error',err(b,get2))"
   ]
  },
  {
   "cell_type": "code",
   "execution_count": 18,
   "metadata": {},
   "outputs": [
    {
     "name": "stdout",
     "output_type": "stream",
     "text": [
      "exact 0.40360099485353773\n",
      "fac 8 0.42142166659545166 error -4.415418190032176\n",
      "fac 12 0.4031080647171479 error 0.12213303303891142\n",
      "fac 16 0.39100935125562136 error 3.119824717599057\n"
     ]
    }
   ],
   "source": [
    "st=300\n",
    "a,b=Fn(st)\n",
    "print('exact',b)\n",
    "\n",
    "for fac in [8,12,16]:\n",
    "    get=Fna(st,fac)\n",
    "    print('fac',fac,get,'error',err(b,get))"
   ]
  },
  {
   "cell_type": "code",
   "execution_count": 19,
   "metadata": {},
   "outputs": [
    {
     "name": "stdout",
     "output_type": "stream",
     "text": [
      "exact 0.3824958188425627\n",
      "fac 8 0.39859496360355995 error -4.208972743731813\n",
      "fac 12 0.3820938103420653 error 0.10510141044518029\n",
      "fac 16 0.3711609211045028 error 2.963404351022568\n"
     ]
    }
   ],
   "source": [
    "st=500\n",
    "a,b=Fn(st)\n",
    "print('exact',b)\n",
    "\n",
    "for fac in [8,12,16]:\n",
    "    get=Fna(st,fac)\n",
    "    print('fac',fac,get,'error',err(b,get))"
   ]
  },
  {
   "cell_type": "code",
   "execution_count": null,
   "metadata": {},
   "outputs": [],
   "source": [
    "st=5000\n",
    "a,b=Fn(st)\n",
    "print('exact',b)\n",
    "\n",
    "for fac in [8,12,16]:\n",
    "    get=Fna(st,fac)\n",
    "    print('fac',fac,get,'error',err(b,get))"
   ]
  },
  {
   "cell_type": "code",
   "execution_count": 9,
   "metadata": {},
   "outputs": [
    {
     "data": {
      "text/plain": [
       "<matplotlib.legend.Legend at 0x7f157a0e1ad0>"
      ]
     },
     "execution_count": 9,
     "metadata": {},
     "output_type": "execute_result"
    },
    {
     "data": {
      "image/png": "[encoded data removed]",
      "text/plain": [
       "<matplotlib.figure.Figure at 0x7f157a1460d0>"
      ]
     },
     "metadata": {},
     "output_type": "display_data"
    }
   ],
   "source": [
    "plt.loglog(range(len(prob)),prob,'.',label='exact')\n",
    "z = lambda x: 0.1*(x**-1.5) #t^(-0.5)\n",
    "plt.plot(np.logspace(0,2,10),z(np.logspace(0,2,10)),label='p ~ t^-1.5')\n",
    "plt.xlabel('step')\n",
    "plt.ylabel('1st return prob')\n",
    "plt.legend()               "
   ]
  },
  {
   "cell_type": "code",
   "execution_count": null,
   "metadata": {
    "collapsed": true
   },
   "outputs": [],
   "source": []
  }
 ],
 "metadata": {
  "kernelspec": {
   "display_name": "Python 2",
   "language": "python",
   "name": "python2"
  },
  "language_info": {
   "codemirror_mode": {
    "name": "ipython",
    "version": 3
   },
   "file_extension": ".py",
   "mimetype": "text/x-python",
   "name": "python",
   "nbconvert_exporter": "python",
   "pygments_lexer": "ipython3",
   "version": "3.5.2"
  }
 },
 "nbformat": 4,
 "nbformat_minor": 2
}
