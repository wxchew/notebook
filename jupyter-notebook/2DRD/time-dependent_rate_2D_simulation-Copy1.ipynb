{
 "cells": [
  {
   "cell_type": "code",
   "execution_count": null,
   "metadata": {
    "scrolled": true
   },
   "outputs": [
    {
     "name": "stdout",
     "output_type": "stream",
     "text": [
      "Da1,Db0\n",
      "Da0,Db1\n"
     ]
    }
   ],
   "source": [
    "from ecell4 import *\n",
    "import numpy as np\n",
    "import math\n",
    "import sys\n",
    "import os\n",
    "import matplotlib.pyplot as plt\n",
    "%matplotlib inline\n",
    "from ecell4.extra import ensemble\n",
    "\n",
    "def wrap(job,job_id,task_id):\n",
    "    def singlerun(kaf,run,correct,L,conc,shift):\n",
    "        import numpy as np\n",
    "        from math import sqrt\n",
    "        rm = 0.005\n",
    "        run+=shift\n",
    "        rng = GSLRandomNumberGenerator()\n",
    "        rng.seed(run)\n",
    "        D = 1\n",
    "        kd= 4.0*math.pi*D*2*rm\n",
    "        ka = kaf*kd\n",
    "        voxelr=rm\n",
    "        tm =(2*voxelr)**2/(4*D)        \n",
    "        duration=0.2#tm*5e4#tm*5e3\n",
    "        w = spatiocyte.SpatiocyteWorld(Real3(L,L,L),voxelr,rng)\n",
    "        N=100\n",
    "        #print(lx,ly,lz)\n",
    "        #print(size[0],size[1],size[2])\n",
    "        #print(Nmv*(voxelr*2)**2)\n",
    "        Da=0\n",
    "        Db=0\n",
    "        if correct==1:\n",
    "            Da=1\n",
    "        elif correct==2:\n",
    "            Db=1\n",
    "        with species_attributes():\n",
    "            A |  {'D': str(Da), 'radius':str(voxelr)}\n",
    "            B |  {'D': str(Db), 'radius':str(voxelr)}\n",
    "\n",
    "        with reaction_rules():\n",
    "            A + B > B | ka\n",
    "\n",
    "        m2 = get_model()\n",
    "        if run==1:\n",
    "            print('Da{},Db{}'.format(Da,Db))\n",
    "        #print('ka',ka,'Rv',voxelr*2)\n",
    "        w.bind_to(m2)\n",
    "        w.add_molecules(Species('A'), N)\n",
    "        w.add_molecules(Species('B'), N*5)\n",
    "        #pid,p=w.get_particle(Species('A'))\n",
    "        #w.list_structure_particles()\n",
    "        sim = spatiocyte.SpatiocyteSimulator(w)\n",
    "        sim.initialize()\n",
    "        #print(sim.dt(),tm)\n",
    "        tfactor=50\n",
    "        #obs=NumberObserver(['A'])\n",
    "        obs = FixedIntervalNumberObserver(tm*tfactor,['A'])\n",
    "        sim.run(duration,obs)       \n",
    "        data=obs.data()    \n",
    "        \n",
    "        return data\n",
    "    job.update({'run':task_id})\n",
    "    out=singlerun(**job)\n",
    "    return out      \n",
    "\n",
    "simrun=3000\n",
    "kaf=100\n",
    "nproc=500#250#\n",
    "L=2\n",
    "shift=0\n",
    "# works in low conc, deviate when conc is high\n",
    "result=[]\n",
    "cor='new'\n",
    "conc=2.38\n",
    "for cor in [1,2]:\n",
    "    jobs=[{'kaf':kaf,'correct':cor,'conc':conc,'L':L,'shift':shift}]    \n",
    "    #ensemble.run_slurm(wrap,jobs,n=simrun,nproc=nproc,path='tmp',modules=('numpy','ecell4','math'),extra_args=['--exclude=ibc[02,12,27]'])[0]\n",
    "    res=ensemble.run_multiprocessing(wrap,jobs,n=simrun,nproc=nproc,modules=('numpy','ecell4','math'))[0]\n",
    "    res=np.array(res)\n",
    "    t=np.mean(res.T[0],axis=1)\n",
    "    nt = np.mean(res.T[1],axis=1)     \n",
    "    result.append([t,nt])"
   ]
  },
  {
   "cell_type": "code",
   "execution_count": 30,
   "metadata": {},
   "outputs": [
    {
     "data": {
      "text/plain": [
       "<matplotlib.legend.Legend at 0x7f7aa5a74d30>"
      ]
     },
     "execution_count": 30,
     "metadata": {},
     "output_type": "execute_result"
    },
    {
     "data": {
      "image/png": "[encoded data removed]",
      "text/plain": [
       "<Figure size 432x288 with 1 Axes>"
      ]
     },
     "metadata": {},
     "output_type": "display_data"
    }
   ],
   "source": [
    "i=0\n",
    "for t,nt in result:\n",
    "    plt.semilogx(t,nt/100,label=str(i))\n",
    "    i+=1\n",
    "plt.xlim(0.15,0.2)\n",
    "plt.ylim(0.2,0.35)\n",
    "plt.legend()"
   ]
  },
  {
   "cell_type": "code",
   "execution_count": 16,
   "metadata": {},
   "outputs": [
    {
     "data": {
      "text/plain": [
       "(161,)"
      ]
     },
     "execution_count": 16,
     "metadata": {},
     "output_type": "execute_result"
    }
   ],
   "source": [
    "in 3D, St decay faster when Db=0,Da=1\n",
    "in 2D, st decay faster when Da=0"
   ]
  },
  {
   "cell_type": "code",
   "execution_count": 11,
   "metadata": {},
   "outputs": [
    {
     "data": {
      "text/plain": [
       "(0.28986264423934294, 0.2886751345948129)"
      ]
     },
     "execution_count": 11,
     "metadata": {},
     "output_type": "execute_result"
    }
   ],
   "source": [
    "from math import sqrt\n",
    "gam = (2 * sqrt(2.0) + 4 * sqrt(3.0) + 3 * sqrt(6.0) + sqrt(22.0))**2/(72 * (6 * sqrt(2.0) + 4 * sqrt(3.0) + 3 * sqrt(6.0)))            \n",
    "gam, 1./2/sqrt(3)"
   ]
  },
  {
   "cell_type": "code",
   "execution_count": 10,
   "metadata": {},
   "outputs": [
    {
     "data": {
      "text/plain": [
       "(0.9168857180924649, 1)"
      ]
     },
     "execution_count": 10,
     "metadata": {},
     "output_type": "execute_result"
    }
   ],
   "source": [
    "factor = ((2 * sqrt(2.0) + 4 * sqrt(3.0) + 3 * sqrt(6.0) + sqrt(22.0))/((6 * sqrt(2.0) + 4 * sqrt(3.0) + 3 * sqrt(6.0))))**2            \n",
    "factor,1"
   ]
  },
  {
   "cell_type": "code",
   "execution_count": null,
   "metadata": {},
   "outputs": [],
   "source": []
  }
 ],
 "metadata": {
  "kernelspec": {
   "display_name": "Python 3",
   "language": "python",
   "name": "python3"
  },
  "language_info": {
   "codemirror_mode": {
    "name": "ipython",
    "version": 3
   },
   "file_extension": ".py",
   "mimetype": "text/x-python",
   "name": "python",
   "nbconvert_exporter": "python",
   "pygments_lexer": "ipython3",
   "version": "3.6.5"
  }
 },
 "nbformat": 4,
 "nbformat_minor": 2
}
