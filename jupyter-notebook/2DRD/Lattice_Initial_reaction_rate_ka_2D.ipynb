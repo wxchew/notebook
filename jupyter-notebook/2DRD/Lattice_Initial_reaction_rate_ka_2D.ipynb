{
 "cells": [
  {
   "cell_type": "code",
   "execution_count": 16,
   "metadata": {
    "scrolled": true
   },
   "outputs": [
    {
     "name": "stdout",
     "output_type": "stream",
     "text": [
      "550 0.015 1.6969953641040518 2.8797932657906435\n",
      "pa 1.0\n",
      "std 4.026742947472855\n",
      "kat 3.4641, kap 3.4720, diff -0.2291\n",
      "finish\n"
     ]
    }
   ],
   "source": [
    "from ecell4 import *\n",
    "%matplotlib inline\n",
    "import numpy as np\n",
    "import math\n",
    "import sys\n",
    "from math import sqrt\n",
    "import matplotlib.pyplot as plt\n",
    "from ecell4.extra import ensemble\n",
    "import numpy as np\n",
    "from math import pi\n",
    "\n",
    "def wrap(job,job_id,task_id):\n",
    "    def singlerun(ka,NA,NB,L,run):\n",
    "        import numpy as np\n",
    "        rng = GSLRandomNumberGenerator()\n",
    "        #run+=20000\n",
    "        rng.seed(run)\n",
    "        rm = 0.005\n",
    "        R=2*rm\n",
    "        voxelr=rm\n",
    "        D = 1.\n",
    "        gamma=0.577\n",
    "        td =(2*voxelr)**2/(4*D)\n",
    "        #print('td',td)\n",
    "        H = 3*voxelr*2\n",
    "        ori = Real3(0.5*H,0,0)\n",
    "        unit0 = Real3(0,0,L)\n",
    "        unit1 = Real3(0,L,0)        \n",
    "        w = spatiocyte.SpatiocyteWorld(Real3(H,L,L),voxelr,rng)\n",
    "        lx,ly,lz=w.actual_lengths()\n",
    "        Area= ly*lz\n",
    "\n",
    "        with species_attributes():\n",
    "            A |  {'D': str(0), 'radius':str(voxelr),'location':'X'}\n",
    "            B |  {'D': str(D), 'radius':str(voxelr),'location':'X'}\n",
    "            C |  {'D': str(0), 'radius':str(voxelr),'location':'X'}\n",
    "\n",
    "        with reaction_rules():#for spa and egfrd\n",
    "            A + B > C | ka\n",
    "\n",
    "        m2 = get_model()\n",
    "        w.bind_to(m2)\n",
    "        w.add_structure(Species('X'),PlanarSurface(ori,unit0,unit1))\n",
    "        w.add_molecules(Species('A'), NA)\n",
    "        w.add_molecules(Species('B'), NB)\n",
    "        sim = spatiocyte.SpatiocyteSimulator(w)\n",
    "        sim.initialize()\n",
    "        #print('dt',sim.dt())\n",
    "        sim.step()\n",
    "        res = w.num_particles_exact(Species('C'))\n",
    "        kap = res*Area/sim.dt()/NA/NB\n",
    "        #print('ka',ka,'evaluated ka',res*Area/sim.dt()/NA/NB)        \n",
    "        return kap \n",
    "    job.update({'run':task_id})\n",
    "    out=singlerun(**job)\n",
    "    return out\n",
    "\n",
    "NA=500\n",
    "NB=int(0.1*NA)\n",
    "N=NA+NB\n",
    "rm = 0.005\n",
    "phi=1.5/100\n",
    "L=rm*sqrt(N*pi/phi)\n",
    "print(N,phi,L,L*L)\n",
    "assert(NA>1)\n",
    "D=1\n",
    "factor = (2 * sqrt(2.0) + 4 * sqrt(3.0) + 3 * sqrt(6.0) + sqrt(22.0))**2/(72 * (6 * sqrt(2.0) + 4 * sqrt(3.0) + 3 * sqrt(6.0)))\n",
    "ka = D/factor\n",
    "simrun=30000\n",
    "Pa=ka*factor/D\n",
    "print('pa',Pa)\n",
    "\n",
    "jobs=[{'ka':ka,'L':L,'NA':NA,'NB':NB}]\n",
    "res=ensemble.run_multiprocessing(wrap,jobs,n=simrun,nproc=60,modules=('numpy','ecell4','math'))[0]\n",
    "kap=np.mean(res)\n",
    "print('std',np.std(res))\n",
    "kat=2*sqrt(3)*D*Pa\n",
    "diff=(kat-kap)*100/kat\n",
    "print('kat {:.4f}, kap {:.4f}, diff {:.4f}'.format(kat,kap,diff))\n",
    "print('finish') "
   ]
  },
  {
   "cell_type": "code",
   "execution_count": 48,
   "metadata": {},
   "outputs": [
    {
     "data": {
      "text/plain": [
       "3.4641016151377544"
      ]
     },
     "execution_count": 48,
     "metadata": {},
     "output_type": "execute_result"
    }
   ],
   "source": [
    "20k sim\n",
    "550 0.01 2.07838636896174 4.319689898685966\n",
    "pa 1.0\n",
    "std 4.922420511503859\n",
    "kat 3.4641, kap 3.4653, diff -0.0341\n",
    "\n",
    "550 0.01 2.07838636896174 4.319689898685966\n",
    "pa 1.0\n",
    "std 4.976280000979169\n",
    "kat 3.4641, kap 3.4977, diff -0.9692\n"
   ]
  },
  {
   "cell_type": "code",
   "execution_count": 3,
   "metadata": {},
   "outputs": [
    {
     "data": {
      "text/plain": [
       "3.4554"
      ]
     },
     "execution_count": 3,
     "metadata": {},
     "output_type": "execute_result"
    }
   ],
   "source": [
    "0.5*(3.4068+3.5040)"
   ]
  },
  {
   "cell_type": "code",
   "execution_count": 10,
   "metadata": {},
   "outputs": [
    {
     "data": {
      "text/plain": [
       "(0.6283185307179586, 0.6283185307179586)"
      ]
     },
     "execution_count": 10,
     "metadata": {},
     "output_type": "execute_result"
    }
   ],
   "source": [
    "c0=10.4636\n",
    "kf=0.1\n",
    "ka=kf*2*pi*1\n",
    "K=1\n",
    "kd=ka/K\n",
    "sinf=kd/(kd+c0*ka)\n",
    "ka,kd"
   ]
  },
  {
   "cell_type": "code",
   "execution_count": 54,
   "metadata": {},
   "outputs": [
    {
     "data": {
      "text/plain": [
       "2.5e-05"
      ]
     },
     "execution_count": 54,
     "metadata": {},
     "output_type": "execute_result"
    }
   ],
   "source": [
    "(2*voxelr)**2/(4*1)"
   ]
  },
  {
   "cell_type": "code",
   "execution_count": 56,
   "metadata": {},
   "outputs": [
    {
     "data": {
      "text/plain": [
       "0.25"
      ]
     },
     "execution_count": 56,
     "metadata": {},
     "output_type": "execute_result"
    }
   ],
   "source": [
    "1.25/5"
   ]
  },
  {
   "cell_type": "code",
   "execution_count": null,
   "metadata": {},
   "outputs": [],
   "source": []
  }
 ],
 "metadata": {
  "kernelspec": {
   "display_name": "Python 3",
   "language": "python",
   "name": "python3"
  },
  "language_info": {
   "codemirror_mode": {
    "name": "ipython",
    "version": 3
   },
   "file_extension": ".py",
   "mimetype": "text/x-python",
   "name": "python",
   "nbconvert_exporter": "python",
   "pygments_lexer": "ipython3",
   "version": "3.5.2"
  }
 },
 "nbformat": 4,
 "nbformat_minor": 2
}
