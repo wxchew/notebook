{
 "cells": [
  {
   "cell_type": "code",
   "execution_count": 42,
   "metadata": {
    "scrolled": true
   },
   "outputs": [],
   "source": [
    "from ecell4 import *\n",
    "%matplotlib inline\n",
    "import numpy as np\n",
    "import math\n",
    "import sys\n",
    "from math import sqrt\n",
    "import matplotlib.pyplot as plt\n",
    "from ecell4.extra import ensemble\n",
    "import numpy as np\n",
    "from math import pi\n",
    "\n",
    "def wrap(job,job_id,task_id):\n",
    "    def singlerun(kaf,run,correct,Da,Db,shift):\n",
    "        import numpy as np\n",
    "        from math import sqrt\n",
    "        L=6.5\n",
    "        N=100\n",
    "        rm = 0.005\n",
    "        run+=shift\n",
    "        rng = GSLRandomNumberGenerator()\n",
    "        rng.seed(run)\n",
    "        D = 1\n",
    "        kd= 4.0*math.pi*D\n",
    "        ka = kaf*kd\n",
    "        f=1.0208582         \n",
    "        if correct=='new':\n",
    "            gamma=0.577216\n",
    "            factor = (2 * sqrt(2.0) + 4 * sqrt(3.0) + 3 * sqrt(6.0) + sqrt(22.0))**2/(72 * (6 * sqrt(2.0) + 4 * sqrt(3.0) + 3 * sqrt(6.0)))            \n",
    "            PP=1./(1+math.sqrt(3)*(math.log(f*f/12)+(4*math.pi*D/ka)-2*gamma)/2/math.pi)\n",
    "            ka = PP*D/factor            \n",
    "        voxelr=rm*f\n",
    "        H = 3*voxelr*2\n",
    "        ori = Real3(0.5*H,0,0)\n",
    "        unit0 = Real3(0,0,L)\n",
    "        unit1 = Real3(0,L,0)\n",
    "        w = spatiocyte.SpatiocyteWorld(Real3(H,L,L),voxelr,rng)\n",
    "        size=tuple(w.calculate_shape(Real3(H,L,L),voxelr))\n",
    "        Nmv=size[1]*size[2]\n",
    "        lx,ly,lz=w.actual_lengths()\n",
    "        #N=int(conc*ly*lz)\n",
    "        Area = ly*lz\n",
    "        with species_attributes():\n",
    "            A |  {'D': str(Da), 'radius':str(voxelr),'location':'X'}\n",
    "            B |  {'D': str(Db), 'radius':str(voxelr),'location':'X'}           \n",
    "            \n",
    "        with reaction_rules():#for spa and egfrd\n",
    "            A + B > B | ka\n",
    "            #A + B > A | ka\n",
    "\n",
    "        m2 = get_model()\n",
    "        w.bind_to(m2)\n",
    "        w.add_structure(Species('X'),PlanarSurface(ori,unit0,unit1))\n",
    "        w.add_molecules(Species('A'), N)\n",
    "        w.add_molecules(Species('B'), N)\n",
    "        sim = spatiocyte.SpatiocyteSimulator(w)\n",
    "        sim.initialize()\n",
    "        t0=sim.t()\n",
    "        tsim = sim.dt()\n",
    "        \n",
    "        if run==1:\n",
    "            print('N {},Area{},dt{},ka{},Ns{},Pa{}'.format(N,Area,sim.dt(),kaf*kd,Nmv,PP))    \n",
    "        #print('dt',sim.dt())\n",
    "        #change=0\n",
    "        #while change==0:\n",
    "        #print('current time{:.3e},simdt{:.3e}'.format(sim.t(),sim.dt()))\n",
    "        if Da==0.5:\n",
    "            sim.step()\n",
    "        sim.step()\n",
    "        #print('current time{:.3e},simdt{:.3e}'.format(sim.t(),sim.dt()))    \n",
    "        res = w.num_particles_exact(Species('A'))\n",
    "        tl = sim.t()\n",
    "        dt = tl-t0\n",
    "        #print(dt,tsim)\n",
    "        change = N-res\n",
    "        #kap = res*Area/sim.dt()/N/N\n",
    "        #kap= Area*change/sim.dt()/N/N\n",
    "        #print('ka',ka,'evaluated ka',res*Area/sim.dt()/NA/NB)        \n",
    "        return change,dt,Area#kap \n",
    "    job.update({'run':task_id})\n",
    "    out=singlerun(**job)\n",
    "    return out\n",
    "\n",
    "def run(simrun,kaf,cor,Da,Db,shift):\n",
    "    if shift==0:\n",
    "        print('kaf',kaf,'Pa',cor,'Da',Da,'Db',Db)\n",
    "    nproc = 500\n",
    "    jobs=[{'kaf':kaf,'correct':cor,'Da':Da,'Db':Db,'shift':shift}]    \n",
    "    res=ensemble.run_multiprocessing(wrap,jobs,n=simrun,nproc=60,modules=('numpy','ecell4','math'))[0]\n",
    "    #res=ensemble.run_slurm(wrap,jobs,n=simrun,nproc=nproc,path='tmp',modules=('numpy','ecell4','math'),extra_args=['--exclude=ibc[01,02,12,27]'])[0]\n",
    "    #print(shift)\n",
    "    res = np.array(res).T\n",
    "    tsim = res[1][0]\n",
    "    Area = res[2][0]\n",
    "    dN=np.mean(res[0])   \n",
    "    std=np.std(res[0][0])    \n",
    "    if Da==0.5:\n",
    "        tsim/=2\n",
    "    kap = dN*Area/100/100/tsim\n",
    "    #print(tsim,dN)\n",
    "    #std = std*Area/100/100/tsim\n",
    "    gamma=0.577216\n",
    "    D=1\n",
    "    kd= 4.0*math.pi*D\n",
    "    ka = kaf*kd\n",
    "    f=1.0208582     \n",
    "    factor = (2 * sqrt(2.0) + 4 * sqrt(3.0) + 3 * sqrt(6.0) + sqrt(22.0))**2/(72 * (6 * sqrt(2.0) + 4 * sqrt(3.0) + 3 * sqrt(6.0)))            \n",
    "    if cor=='new':\n",
    "        Pa=1./(1+math.sqrt(3)*(math.log(f*f/12)+(4*math.pi*D/ka)-2*gamma)/2/math.pi)\n",
    "    elif cor=='ori':\n",
    "        Pa = factor*ka/D\n",
    "    kat=2*sqrt(3)*D*Pa\n",
    "    #diff=(kat-kap)*100/kat\n",
    "    #print('kat {:.4f}, kap {:.4f}+-{:.4f}, diff% {:.4f}'.format(kat,kap,diff))  \n",
    "    #print(Pa)\n",
    "    return kat,kap,dN    \n",
    "    #print(np.count_nonzero(res)/float(simrun))\n",
    "#run(2,100,'new',0.5,0.5,0)"
   ]
  },
  {
   "cell_type": "code",
   "execution_count": 2,
   "metadata": {
    "scrolled": false
   },
   "outputs": [
    {
     "name": "stdout",
     "output_type": "stream",
     "text": [
      "kaf 100 Pa new Da 0 Db 1\n",
      "N 100,Area1.028883792854046,dt2.8403327892642647e-07,ka1256.6370614359173,Ns11400,Pa91.72793663882513\n",
      "kaf 100 Pa new Da 1 Db 0\n",
      "N 100,Area1.028883792854046,dt2.8403327892642647e-07,ka1256.6370614359173,Ns11400,Pa91.72793663882513\n",
      "kaf 100 Pa new Da 0.5 Db 0.5\n",
      "N 100,Area1.028883792854046,dt5.680665578528529e-07,ka1256.6370614359173,Ns11400,Pa91.72793663882513\n"
     ]
    },
    {
     "data": {
      "text/plain": [
       "(317.7548934638077, 1448.9623141949633, 4.0)"
      ]
     },
     "execution_count": 2,
     "metadata": {},
     "output_type": "execute_result"
    }
   ],
   "source": [
    "run(1,100,'new',0,1,0)\n",
    "run(1,100,'new',1,0,0)\n",
    "run(1,100,'new',0.5,0.5,0)"
   ]
  },
  {
   "cell_type": "code",
   "execution_count": 43,
   "metadata": {},
   "outputs": [
    {
     "name": "stdout",
     "output_type": "stream",
     "text": [
      "total sample 500000\n",
      "kaf 100 Pa new Da 0 Db 1\n",
      "N 100,Area42.379903933586725,dt2.8403327892642647e-07,ka1256.6370614359173,Ns469568,Pa91.72793663882513\n",
      "dNsim0.021434expected0.8771929824561403\n",
      "expected=317.7549,sim=319.8114,+-70.4690,absdiff=-2.0565,diff%=-0.6472,std/mean % 22.034548545157076\n"
     ]
    }
   ],
   "source": [
    "Y = []\n",
    "Nsample = 500\n",
    "eachite = 1000\n",
    "print('total sample',Nsample*eachite)\n",
    "Da=0\n",
    "Db=1\n",
    "DN = []\n",
    "DNth = 100*100/11400\n",
    "for i in range(Nsample):\n",
    "    x,y,dn = run(simrun=eachite,kaf=100,cor = 'new',Da=Da,Db=Db,shift=int(i*eachite))\n",
    "    #print(int(i*eachite))\n",
    "    Y.append(y)\n",
    "    DN.append(dn)\n",
    "print('dNsim{}expected{}'.format(np.mean(DN),DNth))\n",
    "print('expected={:.4f},sim={:.4f},+-{:.4f},absdiff={:.4f},diff%={:.4f},std/mean %'.format(x,np.mean(Y),np.std(Y),x-np.mean(Y),(x-np.mean(Y))*100/x),np.std(Y)*100/np.mean(Y))\n"
   ]
  },
  {
   "cell_type": "code",
   "execution_count": 44,
   "metadata": {},
   "outputs": [
    {
     "name": "stdout",
     "output_type": "stream",
     "text": [
      "500 samples, each sample has 1000 iteration\n"
     ]
    },
    {
     "data": {
      "image/png": "[encoded data removed]",
      "text/plain": [
       "<Figure size 432x288 with 1 Axes>"
      ]
     },
     "metadata": {},
     "output_type": "display_data"
    }
   ],
   "source": [
    "plt.hist(Y,bins=20,alpha=0.2)\n",
    "plt.axvline(np.mean(Y),c='r',label='mean')\n",
    "plt.axvline(x,label='expected')\n",
    "plt.legend()\n",
    "print('{} samples, each sample has {} iteration'.format(Nsample,eachite))"
   ]
  },
  {
   "cell_type": "code",
   "execution_count": 34,
   "metadata": {
    "scrolled": true
   },
   "outputs": [
    {
     "name": "stdout",
     "output_type": "stream",
     "text": [
      "total sample 500000\n",
      "kaf 100 Pa new Da 0 Db 1\n",
      "N 100,Area1.028883792854046,dt2.8403327892642647e-07,ka1256.6370614359173,Ns11400,Pa91.72793663882513\n",
      "dNsim0.875242expected0.8771929824561403\n",
      "expected=317.7549,sim=317.0482,+-11.5819,absdiff=0.7067,diff%=0.2224,std/mean % 3.653051651150781\n"
     ]
    }
   ],
   "source": [
    "Y = []\n",
    "Nsample = 500\n",
    "eachite = 1000\n",
    "print('total sample',Nsample*eachite)\n",
    "Da=0\n",
    "Db=1\n",
    "DN = []\n",
    "DNth = 100*100/11400\n",
    "for i in range(Nsample):\n",
    "    x,y,dn = run(simrun=eachite,kaf=100,cor = 'new',Da=Da,Db=Db,shift=int(i*eachite))\n",
    "    #print(int(i*eachite))\n",
    "    Y.append(y)\n",
    "    DN.append(dn)\n",
    "print('dNsim{}expected{}'.format(np.mean(DN),DNth))\n",
    "print('expected={:.4f},sim={:.4f},+-{:.4f},absdiff={:.4f},diff%={:.4f},std/mean %'.format(x,np.mean(Y),np.std(Y),x-np.mean(Y),(x-np.mean(Y))*100/x),np.std(Y)*100/np.mean(Y))\n"
   ]
  },
  {
   "cell_type": "code",
   "execution_count": 36,
   "metadata": {},
   "outputs": [
    {
     "name": "stdout",
     "output_type": "stream",
     "text": [
      "500 samples, each sample has 1000 iteration\n"
     ]
    },
    {
     "data": {
      "image/png": "[encoded data removed]",
      "text/plain": [
       "<Figure size 432x288 with 1 Axes>"
      ]
     },
     "metadata": {},
     "output_type": "display_data"
    }
   ],
   "source": [
    "plt.hist(Y,bins=20,alpha=0.2)\n",
    "plt.axvline(np.mean(Y),c='r',label='mean')\n",
    "plt.axvline(x,label='expected')\n",
    "plt.legend()\n",
    "print('{} samples, each sample has {} iteration'.format(Nsample,eachite))"
   ]
  },
  {
   "cell_type": "code",
   "execution_count": 37,
   "metadata": {},
   "outputs": [
    {
     "name": "stdout",
     "output_type": "stream",
     "text": [
      "total sample 500000\n",
      "kaf 100 Pa new Da 1 Db 0\n",
      "N 100,Area1.028883792854046,dt2.8403327892642647e-07,ka1256.6370614359173,Ns11400,Pa91.72793663882513\n",
      "dNsim0.8770979999999999expected0.8771929824561403\n",
      "expected=317.7549,sim=317.7205,+-10.5490,absdiff=0.0344,diff%=0.0108,std/mean % 3.3202000077891713\n"
     ]
    }
   ],
   "source": [
    "Y = []\n",
    "Nsample = 500\n",
    "eachite = 1000\n",
    "print('total sample',Nsample*eachite)\n",
    "Da=1\n",
    "Db=0\n",
    "DN = []\n",
    "DNth = 100*100/11400\n",
    "for i in range(Nsample):\n",
    "    x,y,dn = run(simrun=eachite,kaf=100,cor = 'new',Da=Da,Db=Db,shift=int(i*eachite))\n",
    "    #print(int(i*eachite))\n",
    "    Y.append(y)\n",
    "    DN.append(dn)\n",
    "print('dNsim{}expected{}'.format(np.mean(DN),DNth))\n",
    "print('expected={:.4f},sim={:.4f},+-{:.4f},absdiff={:.4f},diff%={:.4f},std/mean %'.format(x,np.mean(Y),np.std(Y),x-np.mean(Y),(x-np.mean(Y))*100/x),np.std(Y)*100/np.mean(Y))\n"
   ]
  },
  {
   "cell_type": "code",
   "execution_count": 41,
   "metadata": {},
   "outputs": [
    {
     "name": "stdout",
     "output_type": "stream",
     "text": [
      "500 samples, each sample has 1000 iteration\n"
     ]
    },
    {
     "data": {
      "image/png": "[encoded data removed]",
      "text/plain": [
       "<Figure size 432x288 with 1 Axes>"
      ]
     },
     "metadata": {},
     "output_type": "display_data"
    }
   ],
   "source": [
    "plt.hist(Y,bins=20,alpha=0.2)\n",
    "plt.axvline(np.mean(Y),c='r',label='mean')\n",
    "plt.axvline(x,label='expected')\n",
    "plt.legend()\n",
    "print('{} samples, each sample has {} iteration'.format(Nsample,eachite))"
   ]
  },
  {
   "cell_type": "code",
   "execution_count": 65,
   "metadata": {},
   "outputs": [
    {
     "name": "stdout",
     "output_type": "stream",
     "text": [
      "kaf 100 Pa new Da 1 Db 0\n",
      "N 100,Area1.028883792854046,dt2.8403327892642647e-07,ka1256.6370614359173,Ns11400,Pa91.72793663882513\n",
      "dNsim0.8770979999999999expected0.8771929824561403\n",
      "expected=317.7549,sim=317.7205,+-1.8943,absdiff=0.0344,diff%=0.0108,std/mean % 0.5962145409973576\n"
     ]
    }
   ],
   "source": [
    "Y = []\n",
    "sr = 500000\n",
    "num = 20\n",
    "Da=1\n",
    "Db=0\n",
    "DN = []\n",
    "DNth = 100*100/11400\n",
    "for i in range(num):\n",
    "    x,y,dn = run(simrun=int(sr/num),kaf=100,cor = 'new',Da=Da,Db=Db,shift=int(int(sr/num)*i))\n",
    "    Y.append(y)\n",
    "    DN.append(dn)\n",
    "print('dNsim{}expected{}'.format(np.mean(DN),DNth))\n",
    "print('expected={:.4f},sim={:.4f},+-{:.4f},absdiff={:.4f},diff%={:.4f},std/mean %'.format(x,np.mean(Y),np.std(Y),x-np.mean(Y),(x-np.mean(Y))*100/x),np.std(Y)*100/np.mean(Y))"
   ]
  },
  {
   "cell_type": "code",
   "execution_count": 110,
   "metadata": {},
   "outputs": [
    {
     "name": "stdout",
     "output_type": "stream",
     "text": [
      "kaf 100 Pa new Da 0.5 Db 0.5\n",
      "N 100,Area1.028883792854046,dt5.680665578528529e-07,ka1256.6370614359173,Ns11400,Pa91.72793663882513\n",
      "dNsim1.599368expected0.8771929824561403\n",
      "expected=317.7549,sim=579.3560,+-3.0820,absdiff=-261.6011,diff%=-82.3280,std/mean % 0.5319699423290817\n"
     ]
    }
   ],
   "source": [
    "Y = []\n",
    "sr = 500000\n",
    "num = 20\n",
    "Da=0.5\n",
    "Db=0.5\n",
    "DN = []\n",
    "DNth = 100*100/11400\n",
    "for i in range(num):\n",
    "    x,y,dn = run(simrun=int(sr/num),kaf=100,cor = 'new',Da=Da,Db=Db,shift=int(int(sr/num)*i))\n",
    "    Y.append(y)\n",
    "    DN.append(dn)\n",
    "print('dNsim{}expected{}'.format(np.mean(DN),DNth))\n",
    "print('expected={:.4f},sim={:.4f},+-{:.4f},absdiff={:.4f},diff%={:.4f},std/mean %'.format(x,np.mean(Y),np.std(Y),x-np.mean(Y),(x-np.mean(Y))*100/x),np.std(Y)*100/np.mean(Y))"
   ]
  },
  {
   "cell_type": "code",
   "execution_count": 117,
   "metadata": {},
   "outputs": [
    {
     "data": {
      "text/plain": [
       "1.7466912896275777"
      ]
     },
     "execution_count": 117,
     "metadata": {},
     "output_type": "execute_result"
    }
   ],
   "source": [
    "dc=100*100/11400\n",
    "dc+(100-dc)*100/11400"
   ]
  },
  {
   "cell_type": "code",
   "execution_count": 40,
   "metadata": {},
   "outputs": [
    {
     "name": "stdout",
     "output_type": "stream",
     "text": [
      "kaf 100 Pa new Da 1 Db 0\n",
      "N 100,Area42.379903933586725,dt2.8403327892642647e-07,ka1256.6370614359173,Ns469568,Pa91.72793663882513\n"
     ]
    },
    {
     "data": {
      "text/plain": [
       "(317.7548934638077, 244.70034889498177)"
      ]
     },
     "execution_count": 40,
     "metadata": {},
     "output_type": "execute_result"
    }
   ],
   "source": [
    "run(5000,100,'new',1,0,0)"
   ]
  },
  {
   "cell_type": "code",
   "execution_count": 41,
   "metadata": {},
   "outputs": [
    {
     "name": "stdout",
     "output_type": "stream",
     "text": [
      "kaf 100 Pa new Da 0 Db 1\n",
      "N 100,Area42.379903933586725,dt2.8403327892642647e-07,ka1256.6370614359173,Ns469568,Pa91.72793663882513\n"
     ]
    },
    {
     "data": {
      "text/plain": [
       "(317.7548934638077, 268.57355366522387)"
      ]
     },
     "execution_count": 41,
     "metadata": {},
     "output_type": "execute_result"
    }
   ],
   "source": [
    "run(5000,100,'new',0,1,0)"
   ]
  },
  {
   "cell_type": "code",
   "execution_count": 29,
   "metadata": {},
   "outputs": [],
   "source": [
    "SR=100000"
   ]
  },
  {
   "cell_type": "code",
   "execution_count": 30,
   "metadata": {
    "scrolled": true
   },
   "outputs": [
    {
     "name": "stdout",
     "output_type": "stream",
     "text": [
      "kaf 100 Pa new Da 0 Db 1\n",
      "N 100,Area42.379903933586725,dt2.8403327892642647e-07,ka1256.6370614359173,Ns469568,Pa91.72793663882513\n",
      "expected=317.7549,sim=314.2311,+-20.9125,absdiff=3.5238,diff%=1.1090,std/mean % 6.655130805487931\n"
     ]
    }
   ],
   "source": [
    "Y = []\n",
    "sr = SR\n",
    "num = 20\n",
    "Da=0\n",
    "Db=1\n",
    "for i in range(num):\n",
    "    x,y = run(simrun=int(sr/num),kaf=100,cor = 'new',Da=Da,Db=Db,shift=int(int(sr/num)*i))\n",
    "    Y.append(y)\n",
    "print('expected={:.4f},sim={:.4f},+-{:.4f},absdiff={:.4f},diff%={:.4f},std/mean %'.format(x,np.mean(Y),np.std(Y),x-np.mean(Y),(x-np.mean(Y))*100/x),np.std(Y)*100/np.mean(Y))"
   ]
  },
  {
   "cell_type": "code",
   "execution_count": 31,
   "metadata": {
    "scrolled": true
   },
   "outputs": [
    {
     "name": "stdout",
     "output_type": "stream",
     "text": [
      "kaf 100 Pa new Da 1 Db 0\n",
      "N 100,Area42.379903933586725,dt2.8403327892642647e-07,ka1256.6370614359173,Ns469568,Pa91.72793663882513\n",
      "expected=317.7549,sim=315.7231,+-27.2621,absdiff=2.0318,diff%=0.6394,std/mean % 8.634824646923434\n"
     ]
    }
   ],
   "source": [
    "Y = []\n",
    "sr = SR\n",
    "num = 20\n",
    "Da=1\n",
    "Db=0\n",
    "for i in range(num):\n",
    "    x,y = run(simrun=int(sr/num),kaf=100,cor = 'new',Da=Da,Db=Db,shift=int(int(sr/num)*i))\n",
    "    Y.append(y)\n",
    "print('expected={:.4f},sim={:.4f},+-{:.4f},absdiff={:.4f},diff%={:.4f},std/mean %'.format(x,np.mean(Y),np.std(Y),x-np.mean(Y),(x-np.mean(Y))*100/x),np.std(Y)*100/np.mean(Y))"
   ]
  },
  {
   "cell_type": "code",
   "execution_count": 32,
   "metadata": {},
   "outputs": [
    {
     "name": "stdout",
     "output_type": "stream",
     "text": [
      "kaf 100 Pa new Da 0.5 Db 0.5\n",
      "N 100,Area42.379903933586725,dt5.680665578528529e-07,ka1256.6370614359173,Ns469568,Pa91.72793663882513\n",
      "expected=317.7549,sim=315.7231,+-27.2621,absdiff=2.0318,diff%=0.6394,std/mean % 8.634824646923434\n"
     ]
    }
   ],
   "source": [
    "Y = []\n",
    "sr = SR\n",
    "num = 20\n",
    "Da=0.5\n",
    "Db=0.5\n",
    "for i in range(num):\n",
    "    x,y = run(simrun=int(sr/num),kaf=100,cor = 'new',Da=Da,Db=Db,shift=int(int(sr/num)*i))\n",
    "    Y.append(y)\n",
    "print('expected={:.4f},sim={:.4f},+-{:.4f},absdiff={:.4f},diff%={:.4f},std/mean %'.format(x,np.mean(Y),np.std(Y),x-np.mean(Y),(x-np.mean(Y))*100/x),np.std(Y)*100/np.mean(Y))"
   ]
  },
  {
   "cell_type": "code",
   "execution_count": 31,
   "metadata": {},
   "outputs": [],
   "source": [
    "SR=200"
   ]
  },
  {
   "cell_type": "code",
   "execution_count": 116,
   "metadata": {},
   "outputs": [
    {
     "name": "stdout",
     "output_type": "stream",
     "text": [
      "kaf 100 conc 10 Pa new\n",
      "N 423,Area42.379903933586725,dt2.8403327892642647e-07,ka1256.6370614359173,Nv469568\n",
      "0.0\n",
      "kat 317.7549, kap 0.0000+-0.0000, diff% 100.0000\n"
     ]
    },
    {
     "data": {
      "text/plain": [
       "(317.7548934638077, 0.0)"
      ]
     },
     "execution_count": 116,
     "metadata": {},
     "output_type": "execute_result"
    }
   ],
   "source": [
    "run(simrun=1,kaf=100,conc = 10,cor = 'new',shift=0)"
   ]
  },
  {
   "cell_type": "code",
   "execution_count": 86,
   "metadata": {
    "scrolled": true
   },
   "outputs": [
    {
     "name": "stdout",
     "output_type": "stream",
     "text": [
      "kaf 100 conc 10 Pa new\n",
      "0.322\n",
      "kat 317.7549, kap 322.7997+-517.8556, diff% -1.5877\n",
      "kaf 100 conc 10 Pa new\n",
      "0.3143\n",
      "kat 317.7549, kap 318.2133+-517.4041, diff% -0.1443\n",
      "kaf 100 conc 10 Pa new\n",
      "0.3197\n",
      "kat 317.7549, kap 319.2140+-513.6832, diff% -0.4592\n",
      "kaf 100 conc 10 Pa new\n",
      "0.3114\n",
      "kat 317.7549, kap 314.7110+-518.7382, diff% 0.9579\n",
      "kaf 100 conc 10 Pa new\n",
      "0.3185\n",
      "kat 317.7549, kap 320.2147+-517.2446, diff% -0.7741\n",
      "kaf 100 conc 10 Pa new\n",
      "0.3176\n",
      "kat 317.7549, kap 322.7164+-521.8534, diff% -1.5614\n",
      "kaf 100 conc 10 Pa new\n",
      "0.3122\n",
      "kat 317.7549, kap 310.8751+-509.3029, diff% 2.1651\n",
      "kaf 100 conc 10 Pa new\n",
      "0.3142\n",
      "kat 317.7549, kap 318.0466+-519.6522, diff% -0.0918\n",
      "kaf 100 conc 10 Pa new\n",
      "0.3148\n",
      "kat 317.7549, kap 313.8771+-510.4641, diff% 1.2204\n",
      "kaf 100 conc 10 Pa new\n",
      "0.313\n",
      "kat 317.7549, kap 310.4581+-504.8271, diff% 2.2963\n",
      "expected=317.7549,sim=317.1126,+-4.2343,absdiff=0.6423,diff%=0.2021\n"
     ]
    }
   ],
   "source": [
    "Y = []\n",
    "sr = 100000\n",
    "num = 10\n",
    "for i in range(num):\n",
    "    x,y = run(simrun=int(sr/num),kaf=100,conc = 10,cor = 'new',shift=int(int(sr/num)*i))\n",
    "    Y.append(y)\n",
    "print('expected={:.4f},sim={:.4f},+-{:.4f},absdiff={:.4f},diff%={:.4f}'.format(x,np.mean(Y),np.std(Y),x-np.mean(Y),(x-np.mean(Y))*100/x))"
   ]
  },
  {
   "cell_type": "code",
   "execution_count": 123,
   "metadata": {},
   "outputs": [
    {
     "data": {
      "text/plain": [
       "(0.38028000648577875,\n",
       " 1.5069535233640057,\n",
       " 0.3810502419244922,\n",
       " 0.38105024192449233)"
      ]
     },
     "execution_count": 123,
     "metadata": {},
     "output_type": "execute_result"
    }
   ],
   "source": [
    "N=423\n",
    "rm=0.005\n",
    "Area=42.379903933586725\n",
    "dt = 2.8403327892642647e-7\n",
    "kaa=316.45311481766623\n",
    "ka=1256.6370614359173\n",
    "ch = 317.1126*dt*N*N/Area\n",
    "td =(2*rm*f)**2/(4*D)   \n",
    "Ns=469568\n",
    "Pa=1./(1+math.sqrt(3)*(math.log(f*f/12)+(4*math.pi*D/ka)-2*gamma)/2/math.pi)\n",
    "alpha = 1./Pa\n",
    "Z=N*N*dt/Ns/td/alpha\n",
    "kl=2*sqrt(3)*Pa*D\n",
    "ch,ka*N*N*dt/Area,Z*Pa*alpha,kl*N*N*dt/Area"
   ]
  },
  {
   "cell_type": "code",
   "execution_count": 87,
   "metadata": {
    "scrolled": true
   },
   "outputs": [
    {
     "name": "stdout",
     "output_type": "stream",
     "text": [
      "kaf 0.01 conc 10 Pa new\n",
      "0.015\n",
      "kat 0.1256, kap 0.1409+-1.1592, diff% -12.1653\n",
      "kaf 0.01 conc 10 Pa new\n",
      "0.0122\n",
      "kat 0.1256, kap 0.1109+-0.9980, diff% 11.7151\n",
      "kaf 0.01 conc 10 Pa new\n",
      "0.0141\n",
      "kat 0.1256, kap 0.1291+-1.0832, diff% -2.7579\n",
      "kaf 0.01 conc 10 Pa new\n",
      "0.0148\n",
      "kat 0.1256, kap 0.1355+-1.1089, diff% -7.8234\n",
      "kaf 0.01 conc 10 Pa new\n",
      "0.0147\n",
      "kat 0.1256, kap 0.1345+-1.1052, diff% -7.0998\n",
      "kaf 0.01 conc 10 Pa new\n",
      "0.0134\n",
      "kat 0.1256, kap 0.1227+-1.0570, diff% 2.3076\n",
      "kaf 0.01 conc 10 Pa new\n",
      "0.0138\n",
      "kat 0.1256, kap 0.1255+-1.0605, diff% 0.1367\n",
      "kaf 0.01 conc 10 Pa new\n",
      "0.0148\n",
      "kat 0.1256, kap 0.1345+-1.0977, diff% -7.0998\n",
      "kaf 0.01 conc 10 Pa new\n",
      "0.0139\n",
      "kat 0.1256, kap 0.1282+-1.0872, diff% -2.0342\n",
      "kaf 0.01 conc 10 Pa new\n",
      "0.0126\n",
      "kat 0.1256, kap 0.1155+-1.0261, diff% 8.0968\n",
      "expected=0.1256,sim=0.1277,+-0.0089,absdiff=-0.0021,diff%=-1.6724\n"
     ]
    }
   ],
   "source": [
    "Y = []\n",
    "sr = 100000\n",
    "num = 10\n",
    "for i in range(num):\n",
    "    x,y = run(simrun=int(sr/num),kaf=0.01,conc = 10,cor = 'new',shift=int(int(sr/num)*i))\n",
    "    Y.append(y)\n",
    "print('expected={:.4f},sim={:.4f},+-{:.4f},absdiff={:.4f},diff%={:.4f}'.format(x,np.mean(Y),np.std(Y),x-np.mean(Y),(x-np.mean(Y))*100/x))"
   ]
  },
  {
   "cell_type": "code",
   "execution_count": 90,
   "metadata": {},
   "outputs": [
    {
     "name": "stdout",
     "output_type": "stream",
     "text": [
      "kaf 0.1 conc 10 Pa new\n",
      "0.132\n",
      "kat 1.2529, kap 1.2855+-3.4161, diff% -2.5957\n",
      "kaf 0.1 conc 10 Pa new\n",
      "0.1293\n",
      "kat 1.2529, kap 1.2573+-3.3890, diff% -0.3465\n",
      "kaf 0.1 conc 10 Pa new\n",
      "0.1329\n",
      "kat 1.2529, kap 1.2955+-3.4232, diff% -3.3939\n",
      "kaf 0.1 conc 10 Pa new\n",
      "0.127\n",
      "kat 1.2529, kap 1.2473+-3.3988, diff% 0.4517\n",
      "kaf 0.1 conc 10 Pa new\n",
      "0.1364\n",
      "kat 1.2529, kap 1.3236+-3.4498, diff% -5.6431\n",
      "kaf 0.1 conc 10 Pa new\n",
      "0.1275\n",
      "kat 1.2529, kap 1.2309+-3.3212, diff% 1.7577\n",
      "kaf 0.1 conc 10 Pa new\n",
      "0.1266\n",
      "kat 1.2529, kap 1.2236+-3.3114, diff% 2.3382\n",
      "kaf 0.1 conc 10 Pa new\n",
      "0.1268\n",
      "kat 1.2529, kap 1.2527+-3.4355, diff% 0.0163\n",
      "kaf 0.1 conc 10 Pa new\n",
      "0.1306\n",
      "kat 1.2529, kap 1.2818+-3.4416, diff% -2.3055\n",
      "kaf 0.1 conc 10 Pa new\n",
      "0.1226\n",
      "kat 1.2529, kap 1.1882+-3.2856, diff% 5.1679\n",
      "expected=1.2529,sim=1.2586,+-0.0374,absdiff=-0.0057,diff%=-0.4553\n"
     ]
    }
   ],
   "source": [
    "Y = []\n",
    "sr = 100000\n",
    "num = 10\n",
    "for i in range(num):\n",
    "    x,y = run(simrun=int(sr/num),kaf=0.1,conc = 10,cor = 'new',shift=int(int(sr/num)*i))\n",
    "    Y.append(y)\n",
    "print('expected={:.4f},sim={:.4f},+-{:.4f},absdiff={:.4f},diff%={:.4f}'.format(x,np.mean(Y),np.std(Y),x-np.mean(Y),(x-np.mean(Y))*100/x))"
   ]
  },
  {
   "cell_type": "code",
   "execution_count": 88,
   "metadata": {
    "scrolled": true
   },
   "outputs": [
    {
     "name": "stdout",
     "output_type": "stream",
     "text": [
      "kaf 10 conc 10 Pa new\n",
      "0.3219\n",
      "kat 97.0021, kap 98.4913+-158.0783, diff% -1.5352\n",
      "kaf 10 conc 10 Pa new\n",
      "0.3143\n",
      "kat 97.0021, kap 97.1166+-157.9038, diff% -0.1180\n",
      "kaf 10 conc 10 Pa new\n",
      "0.3197\n",
      "kat 97.0021, kap 97.4985+-156.8235, diff% -0.5117\n",
      "kaf 10 conc 10 Pa new\n",
      "0.3108\n",
      "kat 97.0021, kap 95.9202+-158.3268, diff% 1.1154\n",
      "kaf 10 conc 10 Pa new\n",
      "0.3185\n",
      "kat 97.0021, kap 97.8294+-158.0383, diff% -0.8528\n",
      "kaf 10 conc 10 Pa new\n",
      "0.3175\n",
      "kat 97.0021, kap 98.5422+-159.3939, diff% -1.5877\n",
      "kaf 10 conc 10 Pa new\n",
      "0.3121\n",
      "kat 97.0021, kap 94.8510+-155.4243, diff% 2.2176\n",
      "kaf 10 conc 10 Pa new\n",
      "0.3147\n",
      "kat 97.0021, kap 97.2439+-158.7875, diff% -0.2492\n",
      "kaf 10 conc 10 Pa new\n",
      "0.3153\n",
      "kat 97.0021, kap 95.9965+-155.9917, diff% 1.0367\n",
      "kaf 10 conc 10 Pa new\n",
      "0.3132\n",
      "kat 97.0021, kap 94.8764+-154.1738, diff% 2.1914\n",
      "expected=97.0021,sim=96.8366,+-1.2902,absdiff=0.1655,diff%=0.1706\n"
     ]
    }
   ],
   "source": [
    "Y = []\n",
    "sr = 100000\n",
    "num = 10\n",
    "for i in range(num):\n",
    "    x,y = run(simrun=int(sr/num),kaf=10,conc = 10,cor = 'new',shift=int(int(sr/num)*i))\n",
    "    Y.append(y)\n",
    "print('expected={:.4f},sim={:.4f},+-{:.4f},absdiff={:.4f},diff%={:.4f}'.format(x,np.mean(Y),np.std(Y),x-np.mean(Y),(x-np.mean(Y))*100/x))"
   ]
  },
  {
   "cell_type": "code",
   "execution_count": 89,
   "metadata": {},
   "outputs": [
    {
     "name": "stdout",
     "output_type": "stream",
     "text": [
      "kaf 1 conc 10 Pa new\n",
      "0.3211\n",
      "kat 12.2057, kap 12.3803+-19.9092, diff% -1.4302\n",
      "kaf 1 conc 10 Pa new\n",
      "0.3155\n",
      "kat 12.2057, kap 12.2682+-19.8832, diff% -0.5117\n",
      "kaf 1 conc 10 Pa new\n",
      "0.3203\n",
      "kat 12.2057, kap 12.2618+-19.6902, diff% -0.4592\n",
      "kaf 1 conc 10 Pa new\n",
      "0.3113\n",
      "kat 12.2057, kap 12.1080+-19.9863, diff% 0.8005\n",
      "kaf 1 conc 10 Pa new\n",
      "0.3195\n",
      "kat 12.2057, kap 12.3098+-19.7980, diff% -0.8528\n",
      "kaf 1 conc 10 Pa new\n",
      "0.3172\n",
      "kat 12.2057, kap 12.3771+-20.0063, diff% -1.4040\n",
      "kaf 1 conc 10 Pa new\n",
      "0.312\n",
      "kat 12.2057, kap 11.9895+-19.6363, diff% 1.7715\n",
      "kaf 1 conc 10 Pa new\n",
      "0.3141\n",
      "kat 12.2057, kap 12.2233+-19.9931, diff% -0.1443\n",
      "kaf 1 conc 10 Pa new\n",
      "0.3152\n",
      "kat 12.2057, kap 12.0664+-19.6205, diff% 1.1416\n",
      "kaf 1 conc 10 Pa new\n",
      "0.313\n",
      "kat 12.2057, kap 11.9479+-19.4280, diff% 2.1126\n",
      "expected=12.2057,sim=12.1932,+-0.1479,absdiff=0.0125,diff%=0.1024\n"
     ]
    }
   ],
   "source": [
    "Y = []\n",
    "sr = 100000\n",
    "num = 10\n",
    "for i in range(num):\n",
    "    x,y = run(simrun=int(sr/num),kaf=1,conc = 10,cor = 'new',shift=int(int(sr/num)*i))\n",
    "    Y.append(y)\n",
    "print('expected={:.4f},sim={:.4f},+-{:.4f},absdiff={:.4f},diff%={:.4f}'.format(x,np.mean(Y),np.std(Y),x-np.mean(Y),(x-np.mean(Y))*100/x))"
   ]
  },
  {
   "cell_type": "code",
   "execution_count": 32,
   "metadata": {},
   "outputs": [
    {
     "name": "stdout",
     "output_type": "stream",
     "text": [
      "kaf 100 conc 10 Pa new\n",
      "0.335\n",
      "kat 317.7549, kap 337.7264+-534.5862, diff% -6.2852\n",
      "kaf 100 conc 10 Pa ori\n",
      "0.335\n",
      "kat 1261.8064, kap 1341.1135+-2122.8446, diff% -6.2852\n"
     ]
    }
   ],
   "source": [
    "run(simrun=SR,kaf=100,conc = 10,cor = 'new')\n",
    "run(simrun=SR,kaf=100,conc = 10,cor = 'ori')"
   ]
  },
  {
   "cell_type": "code",
   "execution_count": 37,
   "metadata": {},
   "outputs": [
    {
     "name": "stdout",
     "output_type": "stream",
     "text": [
      "kaf 0.01 conc 10 Pa ori\n",
      "0.025\n",
      "kat 0.1262, kap 0.2273+-1.4193, diff% -80.1174\n",
      "kaf 0.01 conc 10 Pa new\n",
      "0.025\n",
      "kat 0.1256, kap 0.2273+-1.4193, diff% -80.9118\n"
     ]
    }
   ],
   "source": [
    "run(simrun=SR,kaf=0.01,conc = 10,cor = 'ori')\n",
    "run(simrun=SR,kaf=0.01,conc = 10,cor = 'new')"
   ]
  },
  {
   "cell_type": "code",
   "execution_count": 35,
   "metadata": {},
   "outputs": [
    {
     "name": "stdout",
     "output_type": "stream",
     "text": [
      "kaf 100 conc 10 Pa new\n",
      "0.335\n",
      "kat 317.7549, kap 337.7264+-534.5862, diff% -6.2852\n",
      "kaf 100 conc 20 Pa new\n",
      "0.77\n",
      "kat 317.7549, kap 341.0890+-274.3775, diff% -7.3434\n",
      "kaf 100 conc 30 Pa new\n",
      "0.975\n",
      "kat 317.7549, kap 333.8935+-165.9144, diff% -5.0789\n",
      "kaf 100 conc 40 Pa new\n",
      "0.995\n",
      "kat 317.7549, kap 311.6037+-138.8687, diff% 1.9358\n",
      "kaf 100 conc 50 Pa new\n",
      "1.0\n",
      "kat 317.7549, kap 330.1181+-112.6933, diff% -3.8908\n",
      "kaf 100 conc 60 Pa new\n",
      "1.0\n",
      "kat 317.7549, kap 320.0390+-86.0901, diff% -0.7188\n"
     ]
    }
   ],
   "source": [
    "for conc in [10,20,30,40,50,60]:\n",
    "    run(simrun=SR,kaf=100,conc = conc,cor = 'new')"
   ]
  },
  {
   "cell_type": "code",
   "execution_count": 36,
   "metadata": {},
   "outputs": [
    {
     "name": "stdout",
     "output_type": "stream",
     "text": [
      "kaf 0.01 conc 10 Pa new\n",
      "0.025\n",
      "kat 0.1256, kap 0.2273+-1.4193, diff% -80.9118\n",
      "kaf 0.01 conc 20 Pa new\n",
      "0.035\n",
      "kat 0.1256, kap 0.0794+-0.4167, diff% 36.8303\n",
      "kaf 0.01 conc 30 Pa new\n",
      "0.14\n",
      "kat 0.1256, kap 0.1460+-0.3686, diff% -16.2210\n",
      "kaf 0.01 conc 40 Pa new\n",
      "0.19\n",
      "kat 0.1256, kap 0.1189+-0.2569, diff% 5.3572\n",
      "kaf 0.01 conc 50 Pa new\n",
      "0.32\n",
      "kat 0.1256, kap 0.1378+-0.2281, diff% -9.6830\n",
      "kaf 0.01 conc 60 Pa new\n",
      "0.375\n",
      "kat 0.1256, kap 0.1183+-0.1796, diff% 5.8209\n"
     ]
    }
   ],
   "source": [
    "for conc in [10,20,30,40,50,60]:\n",
    "    run(simrun=SR,kaf=0.01,conc = conc,cor = 'new')"
   ]
  },
  {
   "cell_type": "code",
   "execution_count": 39,
   "metadata": {},
   "outputs": [
    {
     "name": "stdout",
     "output_type": "stream",
     "text": [
      "kaf 100 conc 10 Pa new\n",
      "0.335\n",
      "kat 317.7549, kap 337.7264+-534.5862, diff% -6.2852\n",
      "kaf 100 conc 10 Pa new\n",
      "0.31\n",
      "kat 317.7549, kap 314.7944+-520.7615, diff% 0.9317\n",
      "kaf 100 conc 10 Pa new\n",
      "0.30625\n",
      "kat 317.7549, kap 307.4978+-510.8388, diff% 3.2280\n",
      "kaf 100 conc 10 Pa new\n",
      "0.3175\n",
      "kat 317.7549, kap 317.9215+-512.1134, diff% -0.0524\n"
     ]
    }
   ],
   "source": [
    "for sr in [200,400,800,1600]:\n",
    "    run(simrun=sr,kaf=100,conc = 10,cor = 'new')"
   ]
  },
  {
   "cell_type": "code",
   "execution_count": 40,
   "metadata": {},
   "outputs": [
    {
     "name": "stdout",
     "output_type": "stream",
     "text": [
      "kaf 100 conc 60 Pa new\n",
      "1.0\n",
      "kat 317.7549, kap 320.0390+-86.0901, diff% -0.7188\n",
      "kaf 100 conc 60 Pa new\n",
      "1.0\n",
      "kat 317.7549, kap 319.1731+-85.2205, diff% -0.4463\n",
      "kaf 100 conc 60 Pa new\n",
      "1.0\n",
      "kat 317.7549, kap 318.1917+-85.2380, diff% -0.1375\n",
      "kaf 100 conc 60 Pa new\n",
      "1.0\n",
      "kat 317.7549, kap 320.5730+-84.7845, diff% -0.8869\n"
     ]
    }
   ],
   "source": [
    "for sr in [200,400,800,1600]:\n",
    "    run(simrun=sr,kaf=100,conc = 60,cor = 'new')"
   ]
  },
  {
   "cell_type": "code",
   "execution_count": 41,
   "metadata": {},
   "outputs": [
    {
     "name": "stdout",
     "output_type": "stream",
     "text": [
      "kaf 0.01 conc 60 Pa new\n",
      "0.375\n",
      "kat 0.1256, kap 0.1183+-0.1796, diff% 5.8209\n",
      "kaf 0.01 conc 60 Pa new\n",
      "0.4075\n",
      "kat 0.1256, kap 0.1290+-0.1797, diff% -2.6952\n",
      "kaf 0.01 conc 60 Pa new\n",
      "0.40875\n",
      "kat 0.1256, kap 0.1331+-0.1865, diff% -5.9514\n",
      "kaf 0.01 conc 60 Pa new\n",
      "0.388125\n",
      "kat 0.1256, kap 0.1263+-0.1822, diff% -0.5662\n"
     ]
    }
   ],
   "source": [
    "for sr in [200,400,800,1600]:\n",
    "    run(simrun=sr,kaf=0.01,conc = 60,cor = 'new')"
   ]
  },
  {
   "cell_type": "code",
   "execution_count": null,
   "metadata": {},
   "outputs": [],
   "source": [
    "#longer run doesnt change std and diff much\n",
    "#conc changes std and diff much"
   ]
  },
  {
   "cell_type": "code",
   "execution_count": 49,
   "metadata": {
    "scrolled": false
   },
   "outputs": [
    {
     "name": "stdout",
     "output_type": "stream",
     "text": [
      "kaf 0.01 conc 10.0 Pa new\n",
      "0.0125\n",
      "kat 0.1256, kap 0.1136+-1.0100, diff% 9.5441\n",
      "kaf 0.01 conc 20.0 Pa new\n",
      "0.0475\n",
      "kat 0.1256, kap 0.1077+-0.4823, diff% 14.2697\n",
      "kaf 0.01 conc 30.0 Pa new\n",
      "0.1375\n",
      "kat 0.1256, kap 0.1460+-0.3754, diff% -16.2210\n",
      "kaf 0.01 conc 40.0 Pa new\n",
      "0.1825\n",
      "kat 0.1256, kap 0.1175+-0.2622, diff% 6.4839\n",
      "kaf 0.01 conc 50.0 Pa new\n",
      "0.3075\n",
      "kat 0.1256, kap 0.1369+-0.2322, diff% -8.9614\n",
      "kaf 0.01 conc 60.0 Pa new\n",
      "0.4075\n",
      "kat 0.1256, kap 0.1290+-0.1797, diff% -2.6952\n",
      "kaf 0.01 conc 70.0 Pa new\n",
      "0.5425\n",
      "kat 0.1256, kap 0.1350+-0.1464, diff% -7.4455\n",
      "kaf 0.01 conc 80.0 Pa new\n",
      "0.5875\n",
      "kat 0.1256, kap 0.1281+-0.1380, diff% -1.9663\n",
      "kaf 0.01 conc 90.0 Pa new\n",
      "0.69\n",
      "kat 0.1256, kap 0.1331+-0.1240, diff% -5.9237\n",
      "kaf 0.01 conc 100.0 Pa new\n",
      "0.7375\n",
      "kat 0.1256, kap 0.1180+-0.0999, diff% 6.0561\n"
     ]
    }
   ],
   "source": [
    "diff=[]\n",
    "for conc in np.linspace(10,100,10):\n",
    "    df = run(simrun=400,kaf=0.01,conc = conc,cor = 'new')\n",
    "    diff.append(df)"
   ]
  },
  {
   "cell_type": "code",
   "execution_count": 53,
   "metadata": {},
   "outputs": [
    {
     "data": {
      "text/plain": [
       "Text(0,0.5,'diff frm expected%')"
      ]
     },
     "execution_count": 53,
     "metadata": {},
     "output_type": "execute_result"
    },
    {
     "data": {
      "image/png": "[encoded data removed]",
      "text/plain": [
       "<Figure size 432x288 with 1 Axes>"
      ]
     },
     "metadata": {},
     "output_type": "display_data"
    }
   ],
   "source": [
    "plt.plot(np.linspace(10,100,10),abs(np.array(diff)))\n",
    "plt.xlabel('conc')\n",
    "plt.ylabel('diff frm expected%')"
   ]
  },
  {
   "cell_type": "code",
   "execution_count": 54,
   "metadata": {},
   "outputs": [
    {
     "name": "stdout",
     "output_type": "stream",
     "text": [
      "kaf 100 conc 10.0 Pa new\n",
      "0.31\n",
      "kat 317.7549, kap 314.7944+-520.7615, diff% 0.9317\n",
      "kaf 100 conc 20.0 Pa new\n",
      "0.78\n",
      "kat 317.7549, kap 331.7299+-272.0481, diff% -4.3980\n",
      "kaf 100 conc 30.0 Pa new\n",
      "0.9675\n",
      "kat 317.7549, kap 334.8171+-174.3779, diff% -5.3696\n",
      "kaf 100 conc 40.0 Pa new\n",
      "0.9925\n",
      "kat 317.7549, kap 315.1092+-138.9943, diff% 0.8326\n",
      "kaf 100 conc 50.0 Pa new\n",
      "1.0\n",
      "kat 317.7549, kap 328.8708+-105.2068, diff% -3.4983\n",
      "kaf 100 conc 60.0 Pa new\n",
      "1.0\n",
      "kat 317.7549, kap 319.1731+-85.2205, diff% -0.4463\n",
      "kaf 100 conc 70.0 Pa new\n",
      "1.0\n",
      "kat 317.7549, kap 316.1933+-74.2117, diff% 0.4915\n",
      "kaf 100 conc 80.0 Pa new\n",
      "1.0\n",
      "kat 317.7549, kap 314.0705+-58.9626, diff% 1.1595\n",
      "kaf 100 conc 90.0 Pa new\n",
      "1.0\n",
      "kat 317.7549, kap 315.8196+-58.2732, diff% 0.6091\n",
      "kaf 100 conc 100.0 Pa new\n",
      "1.0\n",
      "kat 317.7549, kap 315.2719+-47.7257, diff% 0.7814\n"
     ]
    }
   ],
   "source": [
    "diff=[]\n",
    "for conc in np.linspace(10,100,10):\n",
    "    df = run(simrun=400,kaf=100,conc = conc,cor = 'new')\n",
    "    diff.append(df)"
   ]
  },
  {
   "cell_type": "code",
   "execution_count": 55,
   "metadata": {},
   "outputs": [
    {
     "data": {
      "text/plain": [
       "Text(0,0.5,'diff frm expected%')"
      ]
     },
     "execution_count": 55,
     "metadata": {},
     "output_type": "execute_result"
    },
    {
     "data": {
      "image/png": "[encoded data removed]",
      "text/plain": [
       "<Figure size 432x288 with 1 Axes>"
      ]
     },
     "metadata": {},
     "output_type": "display_data"
    }
   ],
   "source": [
    "plt.plot(np.linspace(10,100,10),abs(np.array(diff)))\n",
    "plt.xlabel('conc')\n",
    "plt.ylabel('diff frm expected%')"
   ]
  },
  {
   "cell_type": "code",
   "execution_count": null,
   "metadata": {},
   "outputs": [],
   "source": [
    "#diff reduces with conc, in the same time, fraction of rxn happen in first step increases\n",
    "#std reduces as well."
   ]
  },
  {
   "cell_type": "code",
   "execution_count": 56,
   "metadata": {},
   "outputs": [
    {
     "name": "stdout",
     "output_type": "stream",
     "text": [
      "kaf 100 conc 200 Pa new\n",
      "1.0\n",
      "kat 317.7549, kap 316.3453+-25.3018, diff% 0.4436\n",
      "kaf 0.01 conc 200 Pa new\n",
      "0.9925\n",
      "kat 0.1256, kap 0.1238+-0.0514, diff% 1.4363\n"
     ]
    },
    {
     "data": {
      "text/plain": [
       "1.4363146420420148"
      ]
     },
     "execution_count": 56,
     "metadata": {},
     "output_type": "execute_result"
    }
   ],
   "source": [
    "run(simrun=400,kaf=100,conc = 200,cor = 'new')\n",
    "run(simrun=400,kaf=0.01,conc = 200,cor = 'new')"
   ]
  },
  {
   "cell_type": "code",
   "execution_count": 57,
   "metadata": {},
   "outputs": [
    {
     "name": "stdout",
     "output_type": "stream",
     "text": [
      "kaf 100 conc 200 Pa new\n",
      "1.0\n",
      "kat 317.7549, kap 316.2492+-25.4856, diff% 0.4739\n",
      "kaf 0.01 conc 200 Pa new\n",
      "0.99125\n",
      "kat 0.1256, kap 0.1244+-0.0517, diff% 0.9856\n"
     ]
    },
    {
     "data": {
      "text/plain": [
       "0.9856347821519469"
      ]
     },
     "execution_count": 57,
     "metadata": {},
     "output_type": "execute_result"
    }
   ],
   "source": [
    "run(simrun=800,kaf=100,conc = 200,cor = 'new')\n",
    "run(simrun=800,kaf=0.01,conc = 200,cor = 'new')"
   ]
  },
  {
   "cell_type": "code",
   "execution_count": 58,
   "metadata": {},
   "outputs": [
    {
     "name": "stdout",
     "output_type": "stream",
     "text": [
      "kaf 100 conc 400 Pa new\n",
      "1.0\n",
      "kat 317.7549, kap 312.8132+-11.9091, diff% 1.5552\n",
      "kaf 0.01 conc 400 Pa new\n",
      "1.0\n",
      "kat 0.1256, kap 0.1255+-0.0268, diff% 0.1299\n"
     ]
    },
    {
     "data": {
      "text/plain": [
       "0.12986048673495088"
      ]
     },
     "execution_count": 58,
     "metadata": {},
     "output_type": "execute_result"
    }
   ],
   "source": [
    "run(simrun=400,kaf=100,conc = 400,cor = 'new')\n",
    "run(simrun=400,kaf=0.01,conc = 400,cor = 'new')"
   ]
  },
  {
   "cell_type": "code",
   "execution_count": 59,
   "metadata": {},
   "outputs": [
    {
     "name": "stdout",
     "output_type": "stream",
     "text": [
      "kaf 100 conc 800 Pa new\n",
      "1.0\n",
      "kat 317.7549, kap 308.5648+-5.9435, diff% 2.8922\n",
      "kaf 0.01 conc 800 Pa new\n",
      "1.0\n",
      "kat 0.1256, kap 0.1265+-0.0127, diff% -0.6697\n"
     ]
    },
    {
     "data": {
      "text/plain": [
       "-0.6696957640305774"
      ]
     },
     "execution_count": 59,
     "metadata": {},
     "output_type": "execute_result"
    }
   ],
   "source": [
    "run(simrun=400,kaf=100,conc = 800,cor = 'new')\n",
    "run(simrun=400,kaf=0.01,conc = 800,cor = 'new')"
   ]
  },
  {
   "cell_type": "code",
   "execution_count": 62,
   "metadata": {},
   "outputs": [
    {
     "data": {
      "text/plain": [
       "7.220236472672754"
      ]
     },
     "execution_count": 62,
     "metadata": {},
     "output_type": "execute_result"
    }
   ],
   "source": [
    "Area = 42.3799\n",
    "Nv= 469568\n",
    "800*Area*100/Nv"
   ]
  },
  {
   "cell_type": "code",
   "execution_count": 63,
   "metadata": {},
   "outputs": [
    {
     "name": "stdout",
     "output_type": "stream",
     "text": [
      "kaf 100 conc 10 Pa new\n",
      "0.31866666666666665\n",
      "kat 317.7549, kap 320.0757+-516.3215, diff% -0.7304\n",
      "kaf 100 conc 10 Pa ori\n",
      "0.31856666666666666\n",
      "kat 1261.8064, kap 1270.4704+-2049.6769, diff% -0.6866\n",
      "kaf 0.01 conc 10 Pa new\n",
      "0.013766666666666667\n",
      "kat 0.1256, kap 0.1270+-1.0822, diff% -1.0694\n",
      "kaf 0.01 conc 10 Pa ori\n",
      "0.013766666666666667\n",
      "kat 0.1262, kap 0.1270+-1.0822, diff% -0.6256\n"
     ]
    },
    {
     "data": {
      "text/plain": [
       "-0.6255837560814193"
      ]
     },
     "execution_count": 63,
     "metadata": {},
     "output_type": "execute_result"
    }
   ],
   "source": [
    "sr=30000\n",
    "run(simrun=sr,kaf=100,conc = 10,cor = 'new')\n",
    "run(simrun=sr,kaf=100,conc = 10,cor = 'ori')\n",
    "run(simrun=sr,kaf=0.01,conc = 10,cor = 'new')\n",
    "run(simrun=sr,kaf=0.01,conc = 10,cor = 'ori')"
   ]
  },
  {
   "cell_type": "code",
   "execution_count": 100,
   "metadata": {},
   "outputs": [
    {
     "data": {
      "text/plain": [
       "(1.6329931618554523, 1.4911340979854824)"
      ]
     },
     "execution_count": 100,
     "metadata": {},
     "output_type": "execute_result"
    }
   ],
   "source": [
    "2*sqrt(2)/sqrt(3),24/(6+3*sqrt(3)+2*sqrt(6))"
   ]
  },
  {
   "cell_type": "code",
   "execution_count": 75,
   "metadata": {},
   "outputs": [
    {
     "data": {
      "text/plain": [
       "0.9204712812960235"
      ]
     },
     "execution_count": 75,
     "metadata": {},
     "output_type": "execute_result"
    }
   ],
   "source": [
    "100*100/10864"
   ]
  },
  {
   "cell_type": "code",
   "execution_count": 45,
   "metadata": {},
   "outputs": [
    {
     "data": {
      "text/plain": [
       "10000000.0"
      ]
     },
     "execution_count": 45,
     "metadata": {},
     "output_type": "execute_result"
    }
   ],
   "source": [
    "1./1e-7"
   ]
  },
  {
   "cell_type": "code",
   "execution_count": null,
   "metadata": {},
   "outputs": [],
   "source": []
  }
 ],
 "metadata": {
  "kernelspec": {
   "display_name": "Python 3",
   "language": "python",
   "name": "python3"
  },
  "language_info": {
   "codemirror_mode": {
    "name": "ipython",
    "version": 3
   },
   "file_extension": ".py",
   "mimetype": "text/x-python",
   "name": "python",
   "nbconvert_exporter": "python",
   "pygments_lexer": "ipython3",
   "version": "3.6.5"
  }
 },
 "nbformat": 4,
 "nbformat_minor": 2
}
