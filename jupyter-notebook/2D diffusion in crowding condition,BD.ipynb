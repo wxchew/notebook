{
 "cells": [
  {
   "cell_type": "code",
   "execution_count": 35,
   "metadata": {
    "collapsed": false,
    "scrolled": false
   },
   "outputs": [
    {
     "data": {
      "text/plain": [
       "\"\\ndirname = 'data/BDphi'+str(phio)\\nif not os.path.exists(dirname):\\n    os.makedirs(dirname)\\nname = dirname + '/phi'+str(phio)+'run'+str(run)+'.csv'\\nfilename = open(name,'w')\\nnp.savetxt(filename,np.column_stack((tt,msd)),delimiter=',',fmt='%s')\\nfilename.close()\\nprint 'saving to ',name\\n\""
      ]
     },
     "execution_count": 35,
     "metadata": {},
     "output_type": "execute_result"
    }
   ],
   "source": [
    "from ecell4 import *\n",
    "import numpy as np\n",
    "import math\n",
    "import sys\n",
    "import os\n",
    "#%matplotlib inline\n",
    "rng = core.GSLRandomNumberGenerator()\n",
    "phio = 0.05#float(sys.argv[1]) \n",
    "rm = 0.005\n",
    "Do = 0\n",
    "Dt = 1\n",
    "Nt = 1\n",
    "dtfactor = 1e-3\n",
    "tmol = (2*rm)**2 / (2*Dt)\n",
    "L = 15*rm*2\n",
    "At = L*L\n",
    "Ap = math.pi*rm*rm\n",
    "No = int(phio*At/Ap)\n",
    "mat = Integer3(1,1,1)*int(L/2/rm)#max(3,int((Nall)**(1./2)))\n",
    "#print 'matrix size',tuple(mat)\n",
    "#print 'phio',No*Ap/At,'Nt',Nt,'No',No\n",
    "tt = np.logspace(-8,1,70)\n",
    "tt = np.insert(tt,0,0.)\n",
    "dur = tt[-1]#tmol*10**5\n",
    "\n",
    "def singlerun(run):\n",
    "    #run = 0#int(sys.argv[2]) \n",
    "    #print 'run',run\n",
    "    rng.seed(run)\n",
    "\n",
    "    w = egfrd.EGFRDWorld(Real3(L,L,L),matrix_sizes=mat,rng=rng)\n",
    "    x,y,z = w.actual_lengths()\n",
    "\n",
    "    with species_attributes():\n",
    "         T | {'D':str(Dt),'radius':str(rm)}\n",
    "         O | {'D':str(Do),'radius':str(rm)}\n",
    "    m=get_model()\n",
    "    w.bind_to(m)\n",
    "    (PID,p),suc = w.new_particle(Species(\"T\"),Real3(0,L*0.5,L*0.5))\n",
    "\n",
    "    for i in range(No):\n",
    "         while(True):\n",
    "              (pid1,p1),suc = w.new_particle(Species(\"O\"),Real3(0,rng.uniform(0.0,L),rng.uniform(0.0,L)))\n",
    "              if (suc): break\n",
    "\n",
    "    sim = egfrd.BDSimulator(w)\n",
    "    sim.set_dt(tmol*dtfactor)\n",
    "    sim.initialize()\n",
    "    if (run==0):\n",
    "        print 'L={},rm={},Do={},Dt={},tmol={:.2E},duration={},simdt={}'.format(L,rm,Do,Dt,tmol,dur,sim.dt())\n",
    "    pid,p = w.get_particle(PID)    \n",
    "    simdt = sim.dt()\n",
    "    obs = TimingTrajectoryObserver(tt,[pid],True,tmol)\n",
    "    sim.run(dur,obs)\n",
    "    data=obs.data()[0]\n",
    "    msd = np.array([np.linalg.norm(np.array(tuple(pos)) - np.array(tuple(data[0]))) ** 2 for pos in data]) \n",
    "    return msd\n",
    "'''\n",
    "dirname = 'data/BDphi'+str(phio)\n",
    "if not os.path.exists(dirname):\n",
    "    os.makedirs(dirname)\n",
    "name = dirname + '/phi'+str(phio)+'run'+str(run)+'.csv'\n",
    "filename = open(name,'w')\n",
    "np.savetxt(filename,np.column_stack((tt,msd)),delimiter=',',fmt='%s')\n",
    "filename.close()\n",
    "print 'saving to ',name\n",
    "'''"
   ]
  },
  {
   "cell_type": "code",
   "execution_count": 36,
   "metadata": {
    "collapsed": false
   },
   "outputs": [
    {
     "name": "stdout",
     "output_type": "stream",
     "text": [
      "L=0.15,rm=0.005,Do=0,Dt=1,tmol=5.00E-05,duration=10.0,simdt=5e-08\n"
     ]
    }
   ],
   "source": [
    "norun = 1\n",
    "for run in range(norun):\n",
    "    msd = singlerun(run)\n",
    "    if (run==0):\n",
    "        MSD = msd\n",
    "    else: \n",
    "        MSD+=msd\n",
    "MSD /= norun"
   ]
  },
  {
   "cell_type": "code",
   "execution_count": 37,
   "metadata": {
    "collapsed": false
   },
   "outputs": [
    {
     "data": {
      "text/plain": [
       "[<matplotlib.lines.Line2D at 0x7f8b80bb9390>]"
      ]
     },
     "execution_count": 37,
     "metadata": {},
     "output_type": "execute_result"
    },
    {
     "data": {
      "image/png": "[encoded data removed]",
      "text/plain": [
       "<matplotlib.figure.Figure at 0x7f8b80ad8750>"
      ]
     },
     "metadata": {},
     "output_type": "display_data"
    }
   ],
   "source": [
    "dct = MSD[1:]/tt[1:]/4./Dt\n",
    "%matplotlib inline\n",
    "import matplotlib.pyplot as plt\n",
    "plt.loglog(tt,MSD,'.')\n",
    "plt.plot(tt,4.*Dt*np.array(tt))"
   ]
  },
  {
   "cell_type": "code",
   "execution_count": 38,
   "metadata": {
    "collapsed": false
   },
   "outputs": [
    {
     "data": {
      "text/plain": [
       "(0.2, 1.1)"
      ]
     },
     "execution_count": 38,
     "metadata": {},
     "output_type": "execute_result"
    },
    {
     "data": {
      "image/png": "[encoded data removed]",
      "text/plain": [
       "<matplotlib.figure.Figure at 0x7f8b801a37d0>"
      ]
     },
     "metadata": {},
     "output_type": "display_data"
    }
   ],
   "source": [
    "plt.semilogx(tt[1:],dct,'.')\n",
    "plt.ylim(0.2,1.1)"
   ]
  },
  {
   "cell_type": "code",
   "execution_count": 6,
   "metadata": {
    "collapsed": false
   },
   "outputs": [
    {
     "data": {
      "text/plain": [
       "[<matplotlib.lines.Line2D at 0x7f397cb47490>]"
      ]
     },
     "execution_count": 6,
     "metadata": {},
     "output_type": "execute_result"
    },
    {
     "data": {
      "image/png": "[encoded data removed]",
      "text/plain": [
       "<matplotlib.figure.Figure at 0x7f397cb476d0>"
      ]
     },
     "metadata": {},
     "output_type": "display_data"
    }
   ],
   "source": [
    "msd = MSD/norun\n",
    "dct = msd[1:]/tt[1:]/4./Dt\n",
    "import matplotlib.pyplot as plt\n",
    "plt.loglog(tt,msd,'.')\n",
    "#plt.semilogx(tt[1:],dct,'.')\n",
    "plt.plot(tt,4.*Dt*np.array(tt))\n"
   ]
  },
  {
   "cell_type": "code",
   "execution_count": 7,
   "metadata": {
    "collapsed": false
   },
   "outputs": [
    {
     "data": {
      "text/plain": [
       "[<matplotlib.lines.Line2D at 0x7f397c5f3590>]"
      ]
     },
     "execution_count": 7,
     "metadata": {},
     "output_type": "execute_result"
    },
    {
     "data": {
      "image/png": "[encoded data removed]",
      "text/plain": [
       "<matplotlib.figure.Figure at 0x7f397cc0a150>"
      ]
     },
     "metadata": {},
     "output_type": "display_data"
    }
   ],
   "source": [
    "msd = MSD/norun\n",
    "dct = msd[1:]/tt[1:]/4./Dt\n",
    "import matplotlib.pyplot as plt\n",
    "#plt.loglog(tt,msd,'.')\n",
    "plt.semilogx(tt[1:],dct,'.')\n",
    "#plt.plot(tt,4.*Dt*np.array(tt))"
   ]
  },
  {
   "cell_type": "code",
   "execution_count": null,
   "metadata": {
    "collapsed": true
   },
   "outputs": [],
   "source": [
    "data=obs.data()\n",
    "leng = np.array(data).shape[1]\n",
    "msd=np.zeros(leng,float) #zeros array for initiation of sum of squared displacement\n",
    "for i in range(Nt):\n",
    "     msd += np.array(\n",
    "     [np.linalg.norm(np.array(tuple(pos)) - np.array(tuple(data[i][0]))) ** 2\n",
    "          for pos in data[i]]) \n",
    "\n",
    "msd = msd/Nt\n",
    "t=np.arange(0,dur,simdt)\n",
    "name = 'data/BDphi'+str(phio)+'/phi'+str(phio)+'run'+str(run)+'.csv'\n",
    "filename = open(name,'w')\n",
    "np.savetxt(filename,np.column_stack((t,msd)),delimiter=',',fmt='%s')\n",
    "filename.close()\n",
    "print 'saving to ',name"
   ]
  },
  {
   "cell_type": "code",
   "execution_count": 13,
   "metadata": {
    "collapsed": false
   },
   "outputs": [
    {
     "name": "stdout",
     "output_type": "stream",
     "text": [
      "2303\n",
      "47\n",
      "200\n"
     ]
    }
   ],
   "source": [
    "#M = max(3, int(min(cbrt(N), L / max(diameter))))\n",
    "print Nall\n",
    "print int((Nall)**(1./2))\n",
    "print int(L/rm)"
   ]
  },
  {
   "cell_type": "code",
   "execution_count": 15,
   "metadata": {
    "collapsed": false
   },
   "outputs": [],
   "source": [
    "\n",
    "Deff = msd[1:]/t[1:]/4/Dt\n",
    "plt.plot(t,msd)\n",
    "plt.plot(t,4*Dt*t,'g-')  #theoretical line\n",
    "plt.xlabel(\"time\")\n",
    "plt.ylabel(\"msd\")\n",
    "plt.show()"
   ]
  },
  {
   "cell_type": "code",
   "execution_count": 3,
   "metadata": {
    "collapsed": false
   },
   "outputs": [
    {
     "name": "stdout",
     "output_type": "stream",
     "text": [
      "0.748632071987\n"
     ]
    }
   ],
   "source": [
    "plt.loglog(t[1:],Deff)\n",
    "plt.xlabel(\"time\")\n",
    "plt.ylabel(\"D/Do\")\n",
    "print np.mean(Deff[-10:])\n",
    "plt.show()"
   ]
  },
  {
   "cell_type": "code",
   "execution_count": 9,
   "metadata": {
    "collapsed": false
   },
   "outputs": [],
   "source": [
    "#viz.plot_world(w)"
   ]
  },
  {
   "cell_type": "code",
   "execution_count": 7,
   "metadata": {
    "collapsed": false
   },
   "outputs": [
    {
     "name": "stdout",
     "output_type": "stream",
     "text": [
      "[ 0.31446205  0.31451613  0.3146622   0.3142563   0.31506291  0.31394816\n",
      "  0.31434592  0.31380255  0.31425508  0.31323333]\n"
     ]
    }
   ],
   "source": [
    "print Deff[-10:]"
   ]
  },
  {
   "cell_type": "code",
   "execution_count": 11,
   "metadata": {
    "collapsed": false
   },
   "outputs": [],
   "source": [
    "p = w.list_particles(Species(\"M\"))"
   ]
  },
  {
   "cell_type": "code",
   "execution_count": 13,
   "metadata": {
    "collapsed": false
   },
   "outputs": [
    {
     "name": "stdout",
     "output_type": "stream",
     "text": [
      "186528\n"
     ]
    }
   ],
   "source": [
    "print len(p)+186+74611"
   ]
  },
  {
   "cell_type": "code",
   "execution_count": 6,
   "metadata": {
    "collapsed": false
   },
   "outputs": [
    {
     "name": "stdout",
     "output_type": "stream",
     "text": [
      "(3, 3, 3)\n"
     ]
    }
   ],
   "source": [
    "print tuple(Integer3(1,1,1)*3)"
   ]
  },
  {
   "cell_type": "code",
   "execution_count": null,
   "metadata": {
    "collapsed": true
   },
   "outputs": [],
   "source": [
    "from ecell4 import *\n",
    "import numpy as np\n",
    "import math\n",
    "import sys\n",
    "import os\n",
    "#%matplotlib inline\n",
    "rng = core.GSLRandomNumberGenerator()\n",
    "phio = float(sys.argv[1]) \n",
    "run = int(sys.argv[2]) \n",
    "rm = 0.005\n",
    "Do = 0\n",
    "Dt = 1\n",
    "Nt = 1\n",
    "dtfactor = 1e-3\n",
    "tt = np.logspace(-8,1,70)\n",
    "tt = np.insert(tt,0,0.)\n",
    "tmol = (2*rm)**2 / (2*Dt)\n",
    "L = 15*rm*2\n",
    "At = L*L\n",
    "Ap = math.pi*rm*rm\n",
    "No = int(phio*At/Ap)\n",
    "mat = Integer3(1,1,1)*int(L/2/rm)#max(3,int((Nall)**(1./2)))\n",
    "print 'matrix size',tuple(mat)\n",
    "print 'phio',No*Ap/At,'Nt',Nt,'No',No\n",
    "dur = tt[-1]#tmol*10**5\n",
    "print 'run',run\n",
    "rng.seed(run)\n",
    "w = egfrd.EGFRDWorld(Real3(L,L,L),matrix_sizes=mat,rng=rng)\n",
    "x,y,z = w.actual_lengths()\n",
    "\n",
    "with species_attributes():\n",
    "     T | {'D':str(Dt),'radius':str(rm)}\n",
    "     O | {'D':str(Do),'radius':str(rm)}\n",
    "m=get_model()\n",
    "w.bind_to(m)\n",
    "(PID,p),suc = w.new_particle(Species(\"T\"),Real3(0,L*0.5,L*0.5))\n",
    "\n",
    "for i in range(No):\n",
    "     while(True):\n",
    "          (pid1,p1),suc = w.new_particle(Species(\"O\"),Real3(0,rng.uniform(0.0,L),rng.uniform(0.0,L)))\n",
    "          if (suc): break\n",
    "\n",
    "sim = egfrd.BDSimulator(w)\n",
    "sim.set_dt(tmol*dtfactor)\n",
    "sim.initialize()\n",
    "print 'L={},rm={},Do={},Dt={},tmol={:.2E},duration={},simdt={}'.format(L,rm,Do,Dt,tmol,dur,sim.dt())\n",
    "pid,p = w.get_particle(PID)    \n",
    "simdt = sim.dt()\n",
    "obs = TimingTrajectoryObserver(tt,[pid],True,tmol)\n",
    "sim.run(dur,obs)\n",
    "data=obs.data()[0]\n",
    "msd = np.array([np.linalg.norm(np.array(tuple(pos)) - np.array(tuple(data[0]))) ** 2 for pos in data]) \n",
    "dirname = 'data/BDphi'+str(phio)\n",
    "if not os.path.exists(dirname):\n",
    "    os.makedirs(dirname)\n",
    "name = dirname + '/phi'+str(phio)+'run'+str(run)+'.csv'\n",
    "filename = open(name,'w')\n",
    "np.savetxt(filename,np.column_stack((tt,msd)),delimiter=',',fmt='%s')\n",
    "filename.close()\n",
    "print 'saving to ',name"
   ]
  }
 ],
 "metadata": {
  "anaconda-cloud": {},
  "kernelspec": {
   "display_name": "Python 2",
   "language": "python",
   "name": "python2"
  },
  "language_info": {
   "codemirror_mode": {
    "name": "ipython",
    "version": 2
   },
   "file_extension": ".py",
   "mimetype": "text/x-python",
   "name": "python",
   "nbconvert_exporter": "python",
   "pygments_lexer": "ipython2",
   "version": "2.7.10"
  }
 },
 "nbformat": 4,
 "nbformat_minor": 1
}
