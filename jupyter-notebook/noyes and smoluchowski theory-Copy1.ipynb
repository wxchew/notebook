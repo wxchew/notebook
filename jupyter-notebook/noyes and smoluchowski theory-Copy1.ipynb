{
 "cells": [
  {
   "cell_type": "code",
   "execution_count": 1,
   "metadata": {
    "collapsed": true
   },
   "outputs": [],
   "source": [
    "from ecell4 import *\n",
    "%matplotlib inline\n",
    "import numpy as np\n",
    "import math\n",
    "import matplotlib.pyplot as plt\n",
    "rng = core.GSLRandomNumberGenerator()"
   ]
  },
  {
   "cell_type": "code",
   "execution_count": 13,
   "metadata": {
    "collapsed": false
   },
   "outputs": [],
   "source": [
    "radius, D = 0.005, 10\n",
    "dt = (2*radius)**2 / 6./D\n",
    "duration = dt*10**5\n",
    "Nm = 100\n",
    "with species_attributes():\n",
    "    A | {'D':str(D),'radius':str(radius)}\n",
    "    B | {'D':'0.0','radius':str(radius)}\n",
    "with reaction_rules():\n",
    "    A + B > B | 100.\n",
    "m=get_model()\n",
    "w = spatiocyte.SpatiocyteWorld(Real3(1,1,1)*0.2,radius,rng=rng)\n",
    "\n",
    "w.bind_to(m)\n",
    "w.add_molecules(Species('A'),Nm)\n",
    "w.add_molecules(Species('B'),1)\n",
    "sim = spatiocyte.SpatiocyteSimulator(w)\n",
    "obs = FixedIntervalNumberObserver(dt, ('A'))\n",
    "sim.run(duration,obs)\n",
    "\n"
   ]
  },
  {
   "cell_type": "code",
   "execution_count": 14,
   "metadata": {
    "collapsed": false
   },
   "outputs": [
    {
     "name": "stdout",
     "output_type": "stream",
     "text": [
      "1.256\n",
      "13728\n"
     ]
    }
   ],
   "source": [
    "print 4*3.14*2*radius*D\n",
    "print w.size()"
   ]
  },
  {
   "cell_type": "code",
   "execution_count": 24,
   "metadata": {
    "collapsed": false
   },
   "outputs": [
    {
     "data": {
      "text/plain": [
       "(0, 0.04)"
      ]
     },
     "execution_count": 24,
     "metadata": {},
     "output_type": "execute_result"
    },
    {
     "data": {
      "image/png": "[encoded data removed]",
      "text/plain": [
       "<matplotlib.figure.Figure at 0x7f1c0f8a3e90>"
      ]
     },
     "metadata": {},
     "output_type": "display_data"
    }
   ],
   "source": [
    "data = np.array(obs.data()).T\n",
    "t=data[0]\n",
    "na = data[1]\n",
    "plt.semilogy(t,na/Nm,'.')\n",
    "plt.xlim(0,0.04)\n",
    "#viz.plot_number_observer(obs)\n",
    "#viz.plot_number_observer(*observers, *[expfunc(p, N) for p in params], ylim=(N * 0.2, N), legend=False)"
   ]
  },
  {
   "cell_type": "code",
   "execution_count": 11,
   "metadata": {
    "collapsed": false
   },
   "outputs": [
    {
     "data": {
      "text/plain": [
       "(array([ 18.,   2.,   0.,   1.,   0.,   0.,   1.,   0.,   0.,   1.]),\n",
       " array([  3.33333333e-05,   9.10000000e-04,   1.78666667e-03,\n",
       "          2.66333333e-03,   3.54000000e-03,   4.41666667e-03,\n",
       "          5.29333333e-03,   6.17000000e-03,   7.04666667e-03,\n",
       "          7.92333333e-03,   8.80000000e-03]),\n",
       " <a list of 10 Patch objects>)"
      ]
     },
     "execution_count": 11,
     "metadata": {},
     "output_type": "execute_result"
    },
    {
     "data": {
      "image/png": "[encoded data removed]",
      "text/plain": [
       "<matplotlib.figure.Figure at 0x7f58d61f2710>"
      ]
     },
     "metadata": {},
     "output_type": "display_data"
    }
   ],
   "source": [
    "plt.hist(log)"
   ]
  },
  {
   "cell_type": "code",
   "execution_count": 5,
   "metadata": {
    "collapsed": false
   },
   "outputs": [
    {
     "data": {
      "text/plain": [
       "0.06"
      ]
     },
     "execution_count": 5,
     "metadata": {},
     "output_type": "execute_result"
    }
   ],
   "source": [
    "12.*0.005"
   ]
  },
  {
   "cell_type": "code",
   "execution_count": null,
   "metadata": {
    "collapsed": true
   },
   "outputs": [],
   "source": []
  }
 ],
 "metadata": {
  "anaconda-cloud": {},
  "kernelspec": {
   "display_name": "Python 2",
   "language": "python",
   "name": "python2"
  },
  "language_info": {
   "codemirror_mode": {
    "name": "ipython",
    "version": 2
   },
   "file_extension": ".py",
   "mimetype": "text/x-python",
   "name": "python",
   "nbconvert_exporter": "python",
   "pygments_lexer": "ipython2",
   "version": "2.7.10"
  }
 },
 "nbformat": 4,
 "nbformat_minor": 1
}
