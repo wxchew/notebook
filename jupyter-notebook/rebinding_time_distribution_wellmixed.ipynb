{
 "cells": [
  {
   "cell_type": "code",
   "execution_count": 2,
   "metadata": {
    "collapsed": true
   },
   "outputs": [],
   "source": [
    "from ecell4 import *\n",
    "import math\n",
    "%matplotlib inline\n",
    "import numpy as np\n",
    "import matplotlib.pyplot as plt\n",
    "rng = GSLRandomNumberGenerator()"
   ]
  },
  {
   "cell_type": "code",
   "execution_count": 22,
   "metadata": {
    "collapsed": false
   },
   "outputs": [
    {
     "name": "stdout",
     "output_type": "stream",
     "text": [
      "Na 296\n",
      "1.256 12.56 1.14181818182\n",
      "dt 1.66666666667e-06 0.00416666666667 2500.0\n",
      "pacc 29.6042039057 5.6298310604e-08\n",
      "200.0\n"
     ]
    }
   ],
   "source": [
    "voxelr = 0.005\n",
    "simrun = 1#000\n",
    "L = 1.#0.15\n",
    "V = L**3\n",
    "Da = 10.\n",
    "Db = 0.\n",
    "Lr = 0.15 #length used in spatiocyte\n",
    "conc = 1./(Lr**3)\n",
    "Na = int(V*conc)\n",
    "T = np.logspace(-5,0,100)\n",
    "print 'Na',Na\n",
    "kD = 4*3.14*2*voxelr*Da\n",
    "ka = 10.*kD\n",
    "kon = ka*kD/(ka+kD)\n",
    "print kD,ka,kon\n",
    "dt = 2*voxelr*voxelr/3./Da\n",
    "tb = (0.5*0.5*L*L)/6./Da #time to boundary\n",
    "print 'dt',dt,tb,tb/dt\n",
    "pacc = ka/6./(2**0.5)/Da/voxelr\n",
    "print 'pacc',pacc,dt/pacc\n",
    "print L/voxelr"
   ]
  },
  {
   "cell_type": "code",
   "execution_count": 23,
   "metadata": {
    "collapsed": true
   },
   "outputs": [],
   "source": [
    "def create_model_gil(Da,Db,k): \n",
    "    with species_attributes():\n",
    "        A | {'D': str(Da)}\n",
    "        B | {'D': str(Db)}\n",
    "    with reaction_rules():\n",
    "        A + B > B | k\n",
    "    return get_model()\n",
    "\n",
    "# kon / (0.15 ** 3)\n",
    "# kon * 2370 * 1 / (2 ** 3)\n",
    "\n",
    "def create_model_spa(Da,Db,k): \n",
    "    with species_attributes():\n",
    "        A | {'D': str(Da),'radius': str(voxelr)}\n",
    "        B | {'D': str(Db),'radius': str(voxelr)}\n",
    "    with reaction_rules():\n",
    "        A + B > B | k\n",
    "    return get_model()"
   ]
  },
  {
   "cell_type": "code",
   "execution_count": 24,
   "metadata": {
    "collapsed": false
   },
   "outputs": [
    {
     "data": {
      "text/plain": [
       "<matplotlib.text.Text at 0x7fe81cbee950>"
      ]
     },
     "execution_count": 24,
     "metadata": {},
     "output_type": "execute_result"
    },
    {
     "data": {
      "image/png": "[encoded data removed]",
      "text/plain": [
       "<matplotlib.figure.Figure at 0x7fe81ddc0090>"
      ]
     },
     "metadata": {},
     "output_type": "display_data"
    }
   ],
   "source": [
    "def run_gil(kon):\n",
    "    m = create_model_gil(Da,Db,kon / (Lr ** 3) * V)\n",
    "    Nt = ensemble_simulations(simrun,T, model=m,y0={'A':Na,'B':1}, solver='gillespie',volume=V,return_type='observer')\n",
    "    time = Nt.data()[:,0]\n",
    "    St = Nt.data()[:,1]/Na * escapeprob\n",
    "    Rt = -(St[1:]-St[:-1])/(time[1:]-time[:-1])\n",
    "    return time,Rt\n",
    "\n",
    "def run_ode(kon):\n",
    "    m = create_model_gil(Da,Db,kon / (Lr ** 3) * V)\n",
    "    Nt = ensemble_simulations(simrun,T, model=m,y0={'A':Na,'B':1}, solver='ode',volume=V,return_type='observer')\n",
    "    time = Nt.data()[:,0]\n",
    "    St = Nt.data()[:,1]/Na * escapeprob\n",
    "    Rt = -(St[1:]-St[:-1])/(time[1:]-time[:-1])\n",
    "    return time,Rt\n",
    "\n",
    "escapeprob = 1.#0.061#0.095\n",
    "#t,Rt = run_gil(kon)\n",
    "t2,Rt2 = run_ode(kon)\n",
    "#plt.loglog(t[1:],Rt,'.')\n",
    "plt.loglog(t2[1:],Rt2,'-')\n",
    "plt.ylabel('reaction rate')"
   ]
  },
  {
   "cell_type": "code",
   "execution_count": 12,
   "metadata": {
    "collapsed": true
   },
   "outputs": [],
   "source": [
    "def run_spa(ka):\n",
    "    m = create_model_spa(Da,Db,ka)\n",
    "    Nt = ensemble_simulations(simrun,duration, model=m,y0={'A':Na,'B':1}, solver=('spatiocyte',voxelr),volume=V,return_type='observer')\n",
    "    #Nt = ensemble_simulations(simrun,duration, model=m,y0={'A':Na,'B':1}, solver=('meso',Integer3(K,K,K)),volume=V,return_type='observer')\n",
    "    time = Nt.data()[:,0]\n",
    "    Nat = Nt.data()[:,1]/Na\n",
    "    dS = -(Nat[1:]-Nat[:-1])/(time[1:]-time[:-1])\n",
    "    plt.loglog(time[1:],dS,'.',label=kon)\n",
    "    plt.legend()"
   ]
  },
  {
   "cell_type": "code",
   "execution_count": 17,
   "metadata": {
    "collapsed": false
   },
   "outputs": [
    {
     "data": {
      "text/plain": [
       "15.0"
      ]
     },
     "execution_count": 17,
     "metadata": {},
     "output_type": "execute_result"
    }
   ],
   "source": []
  },
  {
   "cell_type": "code",
   "execution_count": null,
   "metadata": {
    "collapsed": true
   },
   "outputs": [],
   "source": []
  }
 ],
 "metadata": {
  "kernelspec": {
   "display_name": "Python 2",
   "language": "python",
   "name": "python2"
  },
  "language_info": {
   "codemirror_mode": {
    "name": "ipython",
    "version": 2
   },
   "file_extension": ".py",
   "mimetype": "text/x-python",
   "name": "python",
   "nbconvert_exporter": "python",
   "pygments_lexer": "ipython2",
   "version": "2.7.10"
  }
 },
 "nbformat": 4,
 "nbformat_minor": 2
}
