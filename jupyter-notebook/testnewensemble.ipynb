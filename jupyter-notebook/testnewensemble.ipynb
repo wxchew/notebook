{
 "cells": [
  {
   "cell_type": "code",
   "execution_count": 1,
   "metadata": {},
   "outputs": [
    {
     "name": "stderr",
     "output_type": "stream",
     "text": [
      "INFO:__main__:egfrd\n",
      "INFO:__main__:av=1.0,Nas=5,Nbs=1\n",
      "INFO:__main__:kon=0.1,keff=0.02,kd=0.251,ka=0.0217,kfactor=0.0865\n",
      "INFO:__main__:<ecell4.extra.ensemble.ensemble_simulations.<locals>.DummyObserver object at 0x7efc13f667b8>\n"
     ]
    }
   ],
   "source": [
    "from ecell4 import *\n",
    "from ecell4.extra import ensemble\n",
    "import numpy as np\n",
    "# import matplotlib.pylab as plt\n",
    "\n",
    "import logging\n",
    "_logger = logging.getLogger(__name__)\n",
    "\n",
    "def singlerun(L, Nas, Nbs, rm, D, k0, duration, solver='ode',simrun=1,nproc=1,method='serial'):\n",
    "    _logger.info(solver)\n",
    "    V = L ** 3\n",
    "    M = max(int(min(cbrt(Nas + Nbs), L / (2 * rm))), 3)\n",
    "    if solver == 'spa':\n",
    "        solver=(\"spatiocyte\", rm)\n",
    "        V = spatiocyte.SpatiocyteWorld.calculate_volume(Real3(L, L, L), rm)\n",
    "    elif solver == 'egfrd':\n",
    "        solver = ('egfrd', Integer3(M, M, M))\n",
    "\n",
    "    kon = k0\n",
    "    keff = k0 / (Nbs / V) / (Nas / V)\n",
    "    kd = 4 * np.pi * (rm * 2) * (D * 2)\n",
    "    ka = keff * kd / (kd - keff)\n",
    "    assert(ka > 0)\n",
    "\n",
    "    with species_attributes():\n",
    "        A | {'D': D, 'radius': rm}\n",
    "        B | {'D': D, 'radius': rm}\n",
    "\n",
    "    with reaction_rules():\n",
    "        ~A > A | kon\n",
    "        #A + B > B | ka\n",
    "        A > ~A | keff\n",
    "    m = get_model()\n",
    "\n",
    "    _logger.info('av={:.3},Nas={},Nbs={}'.format(float(V), Nas, Nbs))\n",
    "    _logger.info('kon={:.3},keff={:.3},kd={:.3},ka={:.3},kfactor={:.3}'.format(kon, keff, kd, ka, ka / kd))\n",
    "    res = ensemble.ensemble_simulations(duration, n=simrun, y0={'B': Nbs}, model=m, solver=solver, volume=ones()*L, species_list=[\"A\"], return_type='observer', nproc=nproc, method=method, path='tmp')\n",
    "    res.save('res_{:.3f}_{:.3f}.csv'.format(rm, D))\n",
    "    _logger.info(res)\n",
    "\n",
    "\n",
    "if __name__ == \"__main__\":\n",
    "    logging.basicConfig(level=logging.INFO)\n",
    "\n",
    "    simrun = 10#0\n",
    "    duration = 1000\n",
    "    Nas = 5#00\n",
    "    Nbs = 1#00\n",
    "    nproc = min(simrun, 300)\n",
    "    L = 1#cbrt(100.0)\n",
    "    k0 = 0.1\n",
    "    method = 'multiprocessing'\n",
    "\n",
    "    singlerun(L, Nas, Nbs, 0.05, 0.1, k0, duration, 'egfrd', simrun, nproc, method)\n",
    "    #singlerun(L, Nas, Nbs, 0.05, 0.01, k0, duration, 'egfrd', simrun, nproc, method)\n",
    "    #singlerun(L, Nas, Nbs, 0.005, 0.1, k0, duration, 'egfrd', simrun, nproc, method)"
   ]
  },
  {
   "cell_type": "code",
   "execution_count": 6,
   "metadata": {},
   "outputs": [
    {
     "data": {
      "text/plain": [
       "0.5689320388349515"
      ]
     },
     "execution_count": 6,
     "metadata": {},
     "output_type": "execute_result"
    }
   ],
   "source": [
    "1-0.3*0.74/0.515"
   ]
  },
  {
   "cell_type": "code",
   "execution_count": null,
   "metadata": {},
   "outputs": [],
   "source": []
  }
 ],
 "metadata": {
  "kernelspec": {
   "display_name": "Python 3",
   "language": "python",
   "name": "python3"
  },
  "language_info": {
   "codemirror_mode": {
    "name": "ipython",
    "version": 3
   },
   "file_extension": ".py",
   "mimetype": "text/x-python",
   "name": "python",
   "nbconvert_exporter": "python",
   "pygments_lexer": "ipython3",
   "version": "3.5.2"
  }
 },
 "nbformat": 4,
 "nbformat_minor": 2
}
