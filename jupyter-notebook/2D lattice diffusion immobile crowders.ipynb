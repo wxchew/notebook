{
 "cells": [
  {
   "cell_type": "code",
   "execution_count": 1,
   "metadata": {
    "collapsed": false,
    "scrolled": false
   },
   "outputs": [
    {
     "name": "stdout",
     "output_type": "stream",
     "text": [
      "run 1\n",
      "L=1.0,rm=0.005,Do=0,Dt=1,dt=2.5e-05\n",
      "lx,ly,lz 0.0489897948557 1.00458946839 1.02\n",
      "real phi 0.147470840804\n",
      "no of membrane voxels 102 x 116 = 11832\n",
      "occupancy of tracer 0.0107336037863 occupancy of obstacles 0.162609871535\n",
      "Nt 127 No 1924\n"
     ]
    }
   ],
   "source": [
    "from ecell4 import *\n",
    "import numpy as np\n",
    "import math\n",
    "%matplotlib inline\n",
    "import matplotlib.pyplot as plt\n",
    "rng = core.GSLRandomNumberGenerator()\n",
    "\n",
    "phio = 0.9069/6#int(sys.argv[1]) \n",
    "run = 1#int(sys.argv[2]) \n",
    "\n",
    "print 'run',run\n",
    "L = 1.\n",
    "rm = 0.005\n",
    "rv = rm#*1.5384\n",
    "At = L*L\n",
    "Ap = math.pi*rm*rm\n",
    "Do = 0\n",
    "Dt = 1\n",
    "phit = 0.01\n",
    "H = 3*rv*2\n",
    "dt = (2*rv)**2 / (4*Dt)\n",
    "print 'L={},rm={},Do={},Dt={},dt={}'.format(L,rm,Do,Dt,dt)\n",
    "ori = Real3(0.5*H,0,0)\n",
    "unit0 = Real3(0,0,L)\n",
    "unit1 = Real3(0,L,0)\n",
    "w = spatiocyte.SpatiocyteWorld(Real3(H,L,L),rv)\n",
    "lx,ly,lz = tuple(w.actual_lengths())\n",
    "print 'lx,ly,lz',lx,ly,lz\n",
    "cs = w.row_size()\n",
    "ls = w.layer_size()\n",
    "Nmv = cs*ls\n",
    "#Nt = int(phit*Nmv)\n",
    "Nt = int(phit*At/Ap)\n",
    "#No = int(phio*Nmv)\n",
    "No = int(phio*At/Ap)\n",
    "phir = No*np.pi*rm*rm/ly/lz\n",
    "print 'real phi',phir\n",
    "print 'no of membrane voxels',cs,'x',ls,'=',Nmv\n",
    "print 'occupancy of tracer',float(Nt)/Nmv,'occupancy of obstacles',float(No)/Nmv\n",
    "print 'Nt',Nt,'No',No\n",
    "tt = np.logspace(math.log10(2.1*dt),1,15)\n",
    "tt = np.insert(tt,0,dt)\n",
    "tt = np.insert(tt,0,0.)\n",
    "dur = tt[-1]\n",
    "\n",
    "def singlerun(rr):\n",
    "    msd = np.zeros(len(tt),float)\n",
    "    #print 'run',rr\n",
    "    rng.seed(rr)\n",
    "    w = spatiocyte.SpatiocyteWorld(Real3(H,L,L),rv,rng)\n",
    "    x,y,z = w.actual_lengths()\n",
    "    with species_attributes():\n",
    "        O | {'D':str(Do),'radius':str(rv),'location':'M'}\n",
    "        T | {'D':str(Dt),'radius':str(rv),'location':'M'}\n",
    "    m=get_model()\n",
    "    w.bind_to(m)\n",
    "    w.add_structure(Species('M'),PlanarSurface(ori,unit0,unit1))\n",
    "    w.add_molecules(Species('O'),No)\n",
    "    w.add_molecules(Species('T'),Nt)\n",
    "    sim = spatiocyte.SpatiocyteSimulator(w)\n",
    "    pids = [pid for pid, p in w.list_particles(Species(\"T\"))] #particle IDs\n",
    "    #obs = FixedIntervalTrajectoryObserver(dt,pids)\n",
    "    obs = TimingTrajectoryObserver(tt,pids,True,dt)\n",
    "    sim.run(dur,obs)\n",
    "    data=obs.data()\n",
    "    for i in range(Nt):\n",
    "        msd += np.array(\n",
    "            [np.linalg.norm(np.array(tuple(pos)) - np.array(tuple(data[i][0]))) ** 2\n",
    "                 for pos in data[i]]) \n",
    "    #viz.plot_trajectory(obs)    \n",
    "    return msd/Nt\n",
    "\n",
    "msd = singlerun(run)\n",
    "\n",
    "#name = 'data/2Dcrowding_LS_phi'+str(phio)+'run'+str(run)+'.csv'\n",
    "#filename = open(name,'w')\n",
    "#np.savetxt(filename,np.column_stack((t,msd)),delimiter=',',fmt='%s')\n",
    "#filename.close()\n",
    "#print 'saving to ',name\n",
    "\n",
    "\n"
   ]
  },
  {
   "cell_type": "code",
   "execution_count": 2,
   "metadata": {
    "collapsed": false,
    "scrolled": true
   },
   "outputs": [
    {
     "data": {
      "image/png": "[encoded data removed]",
      "text/plain": [
       "<matplotlib.figure.Figure at 0x7f13a030eed0>"
      ]
     },
     "metadata": {},
     "output_type": "display_data"
    },
    {
     "name": "stdout",
     "output_type": "stream",
     "text": [
      "\n"
     ]
    }
   ],
   "source": [
    "plt.loglog(tt,msd,'.')\n",
    "plt.plot(tt,4*Dt*tt,'g-')  #theoretical line\n",
    "plt.xlabel(\"time\")\n",
    "plt.ylabel(\"msd\")\n",
    "plt.show()\n",
    "print "
   ]
  },
  {
   "cell_type": "code",
   "execution_count": 3,
   "metadata": {
    "collapsed": false
   },
   "outputs": [
    {
     "name": "stdout",
     "output_type": "stream",
     "text": [
      "0.699535072575\n"
     ]
    },
    {
     "data": {
      "image/png": "[encoded data removed]",
      "text/plain": [
       "<matplotlib.figure.Figure at 0x7f138444a090>"
      ]
     },
     "metadata": {},
     "output_type": "display_data"
    }
   ],
   "source": [
    "Deff = msd[1:]/tt[1:]/4/Dt\n",
    "plt.semilogx(tt[1:],Deff,'.')\n",
    "plt.xlabel(\"time\")\n",
    "plt.ylabel(\"D/Do\")\n",
    "plt.ylim(0,1.1)\n",
    "#filename = open('data/2Dcrowding_LS_phi'+str(phio)+'.csv','w')\n",
    "#np.savetxt(filename,np.column_stack((msd,t)),delimiter=',',fmt='%s')\n",
    "#filename.close()\n",
    "print np.mean(Deff[(tt>1e-1)[1::]])"
   ]
  },
  {
   "cell_type": "code",
   "execution_count": 4,
   "metadata": {
    "collapsed": false
   },
   "outputs": [
    {
     "data": {
      "text/plain": [
       "(0.45, 0.02)"
      ]
     },
     "execution_count": 4,
     "metadata": {},
     "output_type": "execute_result"
    }
   ],
   "source": [
    "0.0  , 0.97\n",
    "0.05 , 0.82\n",
    "0.1  , 0.66\n",
    "0.15 , 0.54\n",
    "0.2  , 0.43\n",
    "0.25 , 0.28\n",
    "0.3  , 0.22\n",
    "0.35 , 0.14\n",
    "0.4  , 0.08\n",
    "0.45 , 0.02"
   ]
  }
 ],
 "metadata": {
  "anaconda-cloud": {},
  "kernelspec": {
   "display_name": "Python 2",
   "language": "python",
   "name": "python2"
  },
  "language_info": {
   "codemirror_mode": {
    "name": "ipython",
    "version": 2
   },
   "file_extension": ".py",
   "mimetype": "text/x-python",
   "name": "python",
   "nbconvert_exporter": "python",
   "pygments_lexer": "ipython2",
   "version": "2.7.10"
  }
 },
 "nbformat": 4,
 "nbformat_minor": 1
}
