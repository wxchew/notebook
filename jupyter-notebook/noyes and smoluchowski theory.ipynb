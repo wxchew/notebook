{
 "cells": [
  {
   "cell_type": "code",
   "execution_count": 1,
   "metadata": {
    "collapsed": true
   },
   "outputs": [],
   "source": [
    "from ecell4 import *\n",
    "%matplotlib inline\n",
    "import numpy as np\n",
    "import math\n",
    "import matplotlib.pyplot as plt\n",
    "rng = core.GSLRandomNumberGenerator()"
   ]
  },
  {
   "cell_type": "code",
   "execution_count": 2,
   "metadata": {
    "collapsed": false
   },
   "outputs": [],
   "source": [
    "radius, D = 0.005, 5\n",
    "dt = (2*radius)**2 / 6./D\n",
    "duration = 2*10**-2\n",
    "L=1.\n",
    "with species_attributes():\n",
    "    A | {'D':str(D),'radius':str(radius)}\n",
    "m = get_model()\n",
    "\n",
    "def run():\n",
    "    w = spatiocyte.SpatiocyteWorld(Real3(L,L,L),radius,rng=rng)\n",
    "    w.bind_to(m)\n",
    "    pid,p = w.new_particle(Species('A'),Real3(L,L,L)*0.5)\n",
    "    PID = pid[0]\n",
    "    pid,p = w.get_particle(PID)\n",
    "    oripos = tuple(p.position())\n",
    "    sim = spatiocyte.SpatiocyteSimulator(w)\n",
    "    sim.initialize()\n",
    "    sim.step()\n",
    "    while sim.t()<duration:\n",
    "        pid,p = w.get_particle(PID)\n",
    "        cpos = tuple(p.position())\n",
    "        if (cpos!=oripos):\n",
    "            sim.step()\n",
    "        else:\n",
    "            #print 'bek to ori',n,sim.t()\n",
    "            log.append(sim.t())\n",
    "            break\n",
    "\n",
    "Nm = 10000   \n",
    "log = []\n",
    "for n in range(Nm):      \n",
    "    run()\n"
   ]
  },
  {
   "cell_type": "code",
   "execution_count": 9,
   "metadata": {
    "collapsed": false
   },
   "outputs": [
    {
     "name": "stdout",
     "output_type": "stream",
     "text": [
      "6.66666666667e-06\n",
      "3.33333333333e-06\n"
     ]
    },
    {
     "data": {
      "text/plain": [
       "<matplotlib.text.Text at 0x7f488d5a1890>"
      ]
     },
     "execution_count": 9,
     "metadata": {},
     "output_type": "execute_result"
    },
    {
     "data": {
      "image/png": "[encoded data removed]",
      "text/plain": [
       "<matplotlib.figure.Figure at 0x7f488ddeef90>"
      ]
     },
     "metadata": {},
     "output_type": "display_data"
    }
   ],
   "source": [
    "f,bined = np.histogram(log,bins=500)\n",
    "ff = (Nm-np.cumsum(f))/float(Nm)\n",
    "#print sum(ff)*Nm,len(log)\n",
    "print min(log)\n",
    "print dt\n",
    "tt = [i*0.5 for i in bined[:-1]+bined[1:]]\n",
    "plt.semilogx(tt,ff,'.')\n",
    "plt.xlim(dt,1e-2)\n",
    "plt.ylim(0.7,1.)\n",
    "plt.ylabel('fraction of walkers not return to origin')\n",
    "plt.xlabel('time')"
   ]
  },
  {
   "cell_type": "code",
   "execution_count": 11,
   "metadata": {
    "collapsed": false
   },
   "outputs": [
    {
     "name": "stdout",
     "output_type": "stream",
     "text": [
      "100.0 1.256 1.24042032077\n"
     ]
    },
    {
     "data": {
      "text/plain": [
       "[<matplotlib.lines.Line2D at 0x7f488d3f9a10>]"
      ]
     },
     "execution_count": 11,
     "metadata": {},
     "output_type": "execute_result"
    },
    {
     "data": {
      "image/png": "[encoded data removed]",
      "text/plain": [
       "<matplotlib.figure.Figure at 0x7f488d41c050>"
      ]
     },
     "metadata": {},
     "output_type": "display_data"
    }
   ],
   "source": [
    "def phix(x):\n",
    "    return 1./( (377.*x/324)+(1+ (314.*(x**2)/847) )**0.5)\n",
    "\n",
    "def kt(tau):\n",
    "    tauc = ((ka*2*rm/(ka+kd))**2)/(2*Dt)\n",
    "    x = ka*((tau/tauc)**(0.5))/kd\n",
    "    return kon*(1+(ka*phix(x)/kd))\n",
    "\n",
    "ka = 100.\n",
    "rm = radius\n",
    "Dt = D*2.\n",
    "kd = 4*3.14*2*radius*Dt\n",
    "kon = ka*kd/(ka+kd)\n",
    "print ka,kd,kon\n",
    "#t = np.linspace(0,dt*0.01,1000)\n",
    "t= np.logspace(-6,-2,100)\n",
    "plt.xlim(dt,1e-2)\n",
    "plt.semilogx(t,kt(t)/ka,'.')"
   ]
  },
  {
   "cell_type": "code",
   "execution_count": 12,
   "metadata": {
    "collapsed": false
   },
   "outputs": [],
   "source": [
    "with species_attributes():\n",
    "    A | {'D':str(D),'radius':str(radius)}\n",
    "    B | {'D':'0.0','radius':str(radius)}\n",
    "with reaction_rules():\n",
    "    A + B > B | 100.\n",
    "m=get_model()\n",
    "w = spatiocyte.SpatiocyteWorld(Real3(1,1,1),radius,rng=rng)\n",
    "w.bind_to(m)\n",
    "w.add_molecules(Species('A'),Nm)\n",
    "w.add_molecules(Species('B'),1)\n",
    "sim = spatiocyte.SpatiocyteSimulator(w)\n",
    "obs = FixedIntervalNumberObserver(dt, ('A'))\n",
    "sim.run(duration,obs)"
   ]
  },
  {
   "cell_type": "code",
   "execution_count": 15,
   "metadata": {
    "collapsed": false
   },
   "outputs": [
    {
     "data": {
      "text/plain": [
       "[<matplotlib.lines.Line2D at 0x7f488d0c0990>]"
      ]
     },
     "execution_count": 15,
     "metadata": {},
     "output_type": "execute_result"
    },
    {
     "data": {
      "image/png": "[encoded data removed]",
      "text/plain": [
       "<matplotlib.figure.Figure at 0x7f488d161690>"
      ]
     },
     "metadata": {},
     "output_type": "display_data"
    }
   ],
   "source": [
    "data = np.array(obs.data()).T\n",
    "t=data[0]\n",
    "na = data[1]\n",
    "plt.plot(t,na/Nm,'.')\n",
    "#plt.xlim(dt,1e-2)\n",
    "#viz.plot_number_observer(obs)\n",
    "#viz.plot_number_observer(*observers, *[expfunc(p, N) for p in params], ylim=(N * 0.2, N), legend=False)"
   ]
  },
  {
   "cell_type": "code",
   "execution_count": null,
   "metadata": {
    "collapsed": true
   },
   "outputs": [],
   "source": []
  }
 ],
 "metadata": {
  "anaconda-cloud": {},
  "kernelspec": {
   "display_name": "Python 2",
   "language": "python",
   "name": "python2"
  },
  "language_info": {
   "codemirror_mode": {
    "name": "ipython",
    "version": 2
   },
   "file_extension": ".py",
   "mimetype": "text/x-python",
   "name": "python",
   "nbconvert_exporter": "python",
   "pygments_lexer": "ipython2",
   "version": "2.7.10"
  }
 },
 "nbformat": 4,
 "nbformat_minor": 1
}
