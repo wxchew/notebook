{
 "cells": [
  {
   "cell_type": "code",
   "execution_count": 3,
   "metadata": {
    "collapsed": false,
    "scrolled": true
   },
   "outputs": [
    {
     "name": "stdout",
     "output_type": "stream",
     "text": [
      "('kd', 0.12566370614359174, 'ka', 0.02, 'k2', 0.1, 'kon', 0.017253948766031743)\n",
      "L 1.0\n",
      "Ls 1.18478834472\n",
      "rv 0.05\n",
      "K 10.0\n",
      "V1 1.0 V2 1.66311514935 Nv 2352\n",
      "tau 0.1\n",
      "no of b 1\n"
     ]
    },
    {
     "ename": "IndexError",
     "evalue": "too many indices for array",
     "output_type": "error",
     "traceback": [
      "\u001b[0;31m---------------------------------------------------------------------------\u001b[0m",
      "\u001b[0;31mIndexError\u001b[0m                                Traceback (most recent call last)",
      "\u001b[0;32m<ipython-input-3-1d5d3e1876d4>\u001b[0m in \u001b[0;36m<module>\u001b[0;34m()\u001b[0m\n\u001b[1;32m     61\u001b[0m \u001b[0;34m\u001b[0m\u001b[0m\n\u001b[1;32m     62\u001b[0m     \u001b[0mspa\u001b[0m \u001b[0;34m=\u001b[0m \u001b[0mnp\u001b[0m\u001b[0;34m.\u001b[0m\u001b[0marray\u001b[0m\u001b[0;34m(\u001b[0m\u001b[0mensemble_simulations\u001b[0m\u001b[0;34m(\u001b[0m\u001b[0mrun\u001b[0m\u001b[0;34m,\u001b[0m \u001b[0mT\u001b[0m\u001b[0;34m,\u001b[0m \u001b[0my0\u001b[0m\u001b[0;34m=\u001b[0m\u001b[0;34m{\u001b[0m\u001b[0;34m'A'\u001b[0m\u001b[0;34m:\u001b[0m\u001b[0mNa\u001b[0m\u001b[0;34m,\u001b[0m\u001b[0;34m'B'\u001b[0m\u001b[0;34m:\u001b[0m \u001b[0mNb\u001b[0m\u001b[0;34m}\u001b[0m\u001b[0;34m,\u001b[0m \u001b[0mmodel\u001b[0m\u001b[0;34m=\u001b[0m\u001b[0mm2\u001b[0m\u001b[0;34m,\u001b[0m \u001b[0msolver\u001b[0m\u001b[0;34m=\u001b[0m\u001b[0;34m(\u001b[0m\u001b[0;34m\"spatiocyte\"\u001b[0m\u001b[0;34m,\u001b[0m \u001b[0mvoxelr\u001b[0m\u001b[0;34m)\u001b[0m\u001b[0;34m,\u001b[0m \u001b[0mvolume\u001b[0m\u001b[0;34m=\u001b[0m\u001b[0mV1\u001b[0m\u001b[0;34m,\u001b[0m\u001b[0mreturn_type\u001b[0m\u001b[0;34m=\u001b[0m\u001b[0;34m'array'\u001b[0m\u001b[0;34m)\u001b[0m\u001b[0;34m)\u001b[0m\u001b[0;34m\u001b[0m\u001b[0m\n\u001b[0;32m---> 63\u001b[0;31m     \u001b[0mts\u001b[0m \u001b[0;34m=\u001b[0m \u001b[0mspa\u001b[0m\u001b[0;34m[\u001b[0m\u001b[0;36m0\u001b[0m\u001b[0;34m]\u001b[0m\u001b[0;34m[\u001b[0m\u001b[0;36m0\u001b[0m\u001b[0;34m]\u001b[0m\u001b[0;34m[\u001b[0m\u001b[0;34m:\u001b[0m\u001b[0;34m,\u001b[0m\u001b[0;36m0\u001b[0m\u001b[0;34m]\u001b[0m\u001b[0;34m\u001b[0m\u001b[0m\n\u001b[0m\u001b[1;32m     64\u001b[0m     \u001b[0mnas\u001b[0m \u001b[0;34m=\u001b[0m \u001b[0mnp\u001b[0m\u001b[0;34m.\u001b[0m\u001b[0mmean\u001b[0m\u001b[0;34m(\u001b[0m\u001b[0mspa\u001b[0m\u001b[0;34m[\u001b[0m\u001b[0;36m0\u001b[0m\u001b[0;34m]\u001b[0m\u001b[0;34m[\u001b[0m\u001b[0;34m:\u001b[0m\u001b[0;34m,\u001b[0m\u001b[0;34m:\u001b[0m\u001b[0;34m,\u001b[0m\u001b[0;36m1\u001b[0m\u001b[0;34m]\u001b[0m\u001b[0;34m,\u001b[0m\u001b[0maxis\u001b[0m\u001b[0;34m=\u001b[0m\u001b[0;36m0\u001b[0m\u001b[0;34m)\u001b[0m\u001b[0;34m\u001b[0m\u001b[0m\n\u001b[1;32m     65\u001b[0m     \u001b[0;32mprint\u001b[0m \u001b[0;34m'mean Na='\u001b[0m\u001b[0;34m,\u001b[0m\u001b[0mnp\u001b[0m\u001b[0;34m.\u001b[0m\u001b[0mmean\u001b[0m\u001b[0;34m(\u001b[0m\u001b[0mnas\u001b[0m\u001b[0;34m[\u001b[0m\u001b[0;34m-\u001b[0m\u001b[0;36m100\u001b[0m\u001b[0;34m:\u001b[0m\u001b[0;34m:\u001b[0m\u001b[0;34m]\u001b[0m\u001b[0;34m)\u001b[0m\u001b[0;34m\u001b[0m\u001b[0m\n",
      "\u001b[0;31mIndexError\u001b[0m: too many indices for array"
     ]
    }
   ],
   "source": [
    "%matplotlib inline\n",
    "from ecell4 import *\n",
    "import numpy as np\n",
    "import math\n",
    "import matplotlib.pyplot as plt\n",
    "\n",
    "Ks = [10]#[4,10,50,60]\n",
    "\n",
    "for K in Ks:\n",
    "    run = 2#2000\n",
    "    T = 800\n",
    "\n",
    "    L=1.\n",
    "    voxelr=L/(2*K)\n",
    "    Da = 0.1\n",
    "    Db = 0.\n",
    "    D=Da+Db\n",
    "    kd= 4.0*math.pi*D*2*voxelr\n",
    "    ka = 0.02\n",
    "    kon = ka*kd/(ka+kd)\n",
    "    k2 = 0.1\n",
    "    print('kd',kd,'ka', ka,'k2',k2,'kon',kon)\n",
    "    V1 = L**3\n",
    "    ws = spatiocyte.SpatiocyteWorld(ones()*L,voxelr)\n",
    "    V2 =  ws.get_volume()\n",
    "    Nv = ws.size()\n",
    "\n",
    "    Ls = (V2)**(1./3)\n",
    "    print 'L',L\n",
    "    print 'Ls',Ls\n",
    "    print 'rv',voxelr\n",
    "    print 'K',L/(2*voxelr)\n",
    "    print 'V1',V1,'V2',V2,'Nv',Nv\n",
    "    print 'tau',(2*voxelr)**2/Da\n",
    "    Nb = 1\n",
    "    Na=0\n",
    "\n",
    "    #phi = (100*2*N*4.*math.pi*(voxelr**3)/(3*V2)) \n",
    "    print 'no of b',Nb\n",
    "    #print 'vol fract %',phi\n",
    "\n",
    "    with species_attributes():\n",
    "        A | {'D': str(Da), 'radius':str(voxelr)}\n",
    "        B | {'D': str(Db), 'radius':str(voxelr)}\n",
    "\n",
    "    with reaction_rules():#for egfrd \n",
    "        A + B > B | ka\n",
    "        ~A > A | k2/V2\n",
    "\n",
    "    m1 = get_model()\n",
    "\n",
    "    with species_attributes():\n",
    "        A | {'D': str(Da), 'radius':str(voxelr)}\n",
    "        B | {'D': str(Db), 'radius':str(voxelr)}\n",
    "\n",
    "    with reaction_rules():#for spa \n",
    "        A + B > B | ka\n",
    "        ~A > A | k2\n",
    "\n",
    "    m2 = get_model()\n",
    "\n",
    "    spa = np.array(ensemble_simulations(run, T, y0={'A':Na,'B': Nb}, model=m2, solver=(\"spatiocyte\", voxelr), volume=V1,return_type='array'))\n",
    "    ts = spa[0][0][:,0]\n",
    "    nas = np.mean(spa[0][:,:,1],axis=0)\n",
    "    print 'mean Na=',np.mean(nas[-100::])\n",
    "    plt.plot(ts,nas,label='K={0:2d},r={1:0.3f}'.format(K,voxelr))\n",
    "    plt.ylabel('Na')\n",
    "    plt.xlabel('time')\n",
    "    print '\\n'\n",
    "plt.title(\"L={4:1.0f},Da={0:0.1f},ka={1:0.2f},k2={3:0.1f},Nb={5:1.0f}\".format(Da,ka,kd,k2,L,Nb))\n",
    "fig = plt.gcf()\n",
    "fig.set_size_inches(7,4)\n",
    "plt.legend(loc='best')\n",
    "#plt.savefig(\"figure/Sturrock_reaction2.png\",format='png',dpi=100)"
   ]
  },
  {
   "cell_type": "code",
   "execution_count": null,
   "metadata": {
    "collapsed": false
   },
   "outputs": [],
   "source": [
    "eg = np.array(ensemble_simulations(1, T, y0={\"A\": Na,'B': Na}, model=m1, solver=(\"egfrd\",voxelr), volume=V2,return_type='array'))\n",
    "te = eg[0][0][:,0]\n",
    "nae = np.mean(eg[0][:,:,1],axis=0)\n",
    "\n",
    "plt.plot(ts,nas,'r--')\n",
    "plt.plot(te,nae,'b--')"
   ]
  },
  {
   "cell_type": "code",
   "execution_count": 4,
   "metadata": {
    "collapsed": false
   },
   "outputs": [
    {
     "data": {
      "image/png": "[encoded data removed]",
      "text/plain": [
       "<matplotlib.figure.Figure at 0x7fdbaa3abc90>"
      ]
     },
     "metadata": {},
     "output_type": "display_data"
    }
   ],
   "source": [
    "plt.plot(ts,nas,'r.',label='spa')\n",
    "plt.plot(te,nae,'b--',label='egfrd')\n",
    "plt.legend(loc='best')\n",
    "plt.xlabel('time')\n",
    "plt.ylabel('Na')\n",
    "fig = plt.gcf()\n",
    "fig.set_size_inches(7,4)\n",
    "plt.title('A+B>C, L={0:0.1f},N={1:3.0f}, rv={2:0.3f}, ka={3:0.3f},kd={4:0.3f},kon={5:0.3f}'.format(L,N,voxelr,ka,kd,kon))\n",
    "#plt.savefig(\"figure/2ndodr_irr_Difflim_L{0:0.1f}_rv{1:0.2f}.png\".format(L,voxelr),format='png',dpi=100)"
   ]
  },
  {
   "cell_type": "code",
   "execution_count": 5,
   "metadata": {
    "collapsed": true
   },
   "outputs": [],
   "source": [
    "#stack = np.column_stack((timespa,Nam))\n",
    "#filename = open('output/Dlim_spa_2ndorder_irr_L1_kakd5.csv','w')\n",
    "#np.savetxt(filename,stack,fmt='%s')\n",
    "#filename.close()"
   ]
  },
  {
   "cell_type": "code",
   "execution_count": 5,
   "metadata": {
    "collapsed": false
   },
   "outputs": [
    {
     "data": {
      "text/plain": [
       "10.0"
      ]
     },
     "execution_count": 5,
     "metadata": {},
     "output_type": "execute_result"
    }
   ],
   "source": [
    "0.1/0.01"
   ]
  },
  {
   "cell_type": "code",
   "execution_count": null,
   "metadata": {
    "collapsed": true
   },
   "outputs": [],
   "source": []
  }
 ],
 "metadata": {
  "anaconda-cloud": {},
  "kernelspec": {
   "display_name": "Python 2",
   "language": "python",
   "name": "python2"
  },
  "language_info": {
   "codemirror_mode": {
    "name": "ipython",
    "version": 2
   },
   "file_extension": ".py",
   "mimetype": "text/x-python",
   "name": "python",
   "nbconvert_exporter": "python",
   "pygments_lexer": "ipython2",
   "version": "2.7.10"
  }
 },
 "nbformat": 4,
 "nbformat_minor": 1
}
