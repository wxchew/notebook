{
 "cells": [
  {
   "cell_type": "markdown",
   "metadata": {},
   "source": [
    "using zero order production and first order degradation, at r=0.005, both spatiocyte and egfrd agrees with ode mean=5. at r=0.05, egfrd result is 2% lower than ode mean while spatiocyte agrees."
   ]
  },
  {
   "cell_type": "code",
   "execution_count": 2,
   "metadata": {
    "scrolled": true
   },
   "outputs": [
    {
     "name": "stdout",
     "output_type": "stream",
     "text": [
      "radius 0.05\n",
      "ode\n",
      "av=1.0,intrinsic=False\n",
      "kon=0.1,koff=0.02,kd=0.251,keff=0.02,kfactor=0.0865\n",
      "spa\n",
      "av=1.66,intrinsic=True\n",
      "kon=0.0601,koff=0.0383,kd=0.251,keff=0.0333,kfactor=0.153\n",
      "egfrd\n",
      "av=1.0,intrinsic=True\n",
      "kon=0.1,koff=0.0217,kd=0.251,keff=0.02,kfactor=0.0865\n"
     ]
    },
    {
     "data": {
      "image/png": "[encoded data removed]",
      "text/plain": [
       "<matplotlib.figure.Figure at 0x7f581cbe2828>"
      ]
     },
     "metadata": {},
     "output_type": "display_data"
    },
    {
     "name": "stdout",
     "output_type": "stream",
     "text": [
      "spamean 4.99164117647\n",
      "egfrdmean 4.90058235294\n",
      "radius 0.005\n",
      "ode\n",
      "av=1.0,intrinsic=False\n",
      "kon=0.1,koff=0.02,kd=0.0251,keff=0.02,kfactor=3.9\n",
      "spa\n",
      "av=1.04,intrinsic=True\n",
      "kon=0.0964,koff=0.119,kd=0.0251,keff=0.0207,kfactor=4.73\n",
      "egfrd\n",
      "av=1.0,intrinsic=True\n",
      "kon=0.1,koff=0.0979,kd=0.0251,keff=0.02,kfactor=3.9\n"
     ]
    },
    {
     "data": {
      "image/png": "[encoded data removed]",
      "text/plain": [
       "<matplotlib.figure.Figure at 0x7f577cbbc898>"
      ]
     },
     "metadata": {},
     "output_type": "display_data"
    },
    {
     "name": "stdout",
     "output_type": "stream",
     "text": [
      "spamean 5.00001960784\n",
      "egfrdmean 4.99981764706\n"
     ]
    }
   ],
   "source": [
    "from ecell4 import *\n",
    "from ecell4.extra import ensemble\n",
    "import numpy as np\n",
    "import matplotlib.pylab as plt\n",
    "%matplotlib inline\n",
    "\n",
    "simrun=10000\n",
    "duration = 1000\n",
    "#rm = 0.005\n",
    "D=0.1\n",
    "Nas = 5\n",
    "nproc=None\n",
    "L=1#cbrt(10)\n",
    "k0= 0.1\n",
    "koff=0.02\n",
    "method='multiprocessing'\n",
    "\n",
    "for rm in [0.05,0.005]:\n",
    "    print('radius',rm)\n",
    "    def write(name,obs):\n",
    "        try:\n",
    "            f=open(name,'w')\n",
    "            data = np.array(obs.data()).T\n",
    "            np.savetxt(name,np.column_stack([data[0],data[1]]),delimiter=',',fmt='%s')\n",
    "            f.close()        \n",
    "            print('saving into',name)        \n",
    "            e=open(name+'_err','w')        \n",
    "            err = np.array(obs.error()).T        \n",
    "            np.savetxt(name+'_err',np.column_stack([err[0],err[1]]),delimiter=',',fmt='%s')\n",
    "            e.close()\n",
    "            print('saving into',name+'_err')\n",
    "        except AttributeError:\n",
    "            print('no error')\n",
    "\n",
    "    def singlerun(solver='ode',intrinsic=False,simrun=1):   \n",
    "        print(solver)\n",
    "        V = L**3 \n",
    "        M = max(int(min(cbrt(Nas), L / (2 * rm))), 3)\n",
    "        if solver=='spa':\n",
    "            solver=(\"spatiocyte\",rm)\n",
    "            V=spatiocyte.SpatiocyteWorld.calculate_volume(Real3(L,L,L),rm)\n",
    "        elif solver=='egfrd':\n",
    "            solver = ('egfrd', Integer3(M, M, M)) \n",
    "\n",
    "        kon=k0/V        \n",
    "        keff = kon*V*V/Nas\n",
    "        kd = 4*np.pi*rm*2*D*2\n",
    "        ka = keff*kd/(kd-keff)\n",
    "        assert(ka>0)\n",
    "        with species_attributes():\n",
    "            A | {'D': 0, 'radius':rm}\n",
    "            #B | {'D': D, 'radius':rm}\n",
    "\n",
    "        with reaction_rules():\n",
    "            ~A > A | kon\n",
    "            #A + B >B | (ka if intrinsic else keff)\n",
    "            A  > ~A | koff\n",
    "        m = get_model()\n",
    "\n",
    "        print('av={:.3},intrinsic={}'.format(float(V),intrinsic))\n",
    "        print('kon={:.3},koff={:.3},kd={:.3},keff={:.3},kfactor={:.3}'.format(kon,(ka if intrinsic else keff),kd,keff,ka/kd))\n",
    "        if simrun >1    :\n",
    "            obs=ensemble.ensemble_simulations(duration,n=simrun, model=m, solver=solver,volume=ones()*L,species_list=[\"A\"],return_type='observer',nproc=nproc,method=method)#,return_type=\"observer\")\n",
    "        else:\n",
    "            obs=run_simulation(duration,model=m,return_type='observer',species_list=['A'],solver=solver,volume=ones()*L)\n",
    "        return obs\n",
    "\n",
    "    obs1=singlerun('ode',False,1)\n",
    "    obs2=singlerun('spa',True,simrun)\n",
    "    obs3=singlerun('egfrd',True,simrun)\n",
    "    #obs4=singlerun('gillespie',False,simrun)\n",
    "    #write('/home/chew/outputdata/sturrock_bd_ode_rm{:.3}_Nas5'.format(rm),obs1)\n",
    "    #write('/home/chew/outputdata/sturrock_bd_spa_rm{:.3}_Nas5_10k'.format(rm),obs2)\n",
    "    #write('/home/chew/outputdata/sturrock_bd_egfrd_rm{:.3}_Nas5_10k'.format(rm),obs3)\n",
    "    viz.plot_number_observer(obs3,'r.',obs2,'g.',obs1,'k-')#,obs3,'k-')\n",
    "    data2 = np.array(obs2.data()).T\n",
    "    data3 = np.array(obs3.data()).T\n",
    "    print('spamean',np.mean(data2[1][50:]))\n",
    "    print('egfrdmean',np.mean(data3[1][50:]))"
   ]
  },
  {
   "cell_type": "markdown",
   "metadata": {},
   "source": [
    "after fixing egfrd production code"
   ]
  },
  {
   "cell_type": "code",
   "execution_count": 3,
   "metadata": {},
   "outputs": [
    {
     "name": "stdout",
     "output_type": "stream",
     "text": [
      "radius 0.05\n",
      "ode\n",
      "av=1.0,intrinsic=False\n",
      "kon=0.1,koff=0.02,kd=0.251,keff=0.02,kfactor=0.0865\n",
      "spa\n",
      "av=1.66,intrinsic=True\n",
      "kon=0.0601,koff=0.0383,kd=0.251,keff=0.0333,kfactor=0.153\n",
      "egfrd\n",
      "av=1.0,intrinsic=True\n",
      "kon=0.1,koff=0.0217,kd=0.251,keff=0.02,kfactor=0.0865\n"
     ]
    },
    {
     "data": {
      "image/png": "[encoded data removed]",
      "text/plain": [
       "<matplotlib.figure.Figure at 0x7fbd6cb9aa90>"
      ]
     },
     "metadata": {},
     "output_type": "display_data"
    },
    {
     "name": "stdout",
     "output_type": "stream",
     "text": [
      "spamean 4.98840784314\n",
      "egfrdmean 5.00464117647\n",
      "radius 0.005\n",
      "ode\n",
      "av=1.0,intrinsic=False\n",
      "kon=0.1,koff=0.02,kd=0.0251,keff=0.02,kfactor=3.9\n",
      "spa\n",
      "av=1.04,intrinsic=True\n",
      "kon=0.0964,koff=0.119,kd=0.0251,keff=0.0207,kfactor=4.73\n",
      "egfrd\n",
      "av=1.0,intrinsic=True\n",
      "kon=0.1,koff=0.0979,kd=0.0251,keff=0.02,kfactor=3.9\n"
     ]
    },
    {
     "data": {
      "image/png": "[encoded data removed]",
      "text/plain": [
       "<matplotlib.figure.Figure at 0x7fbd4bb2b2b0>"
      ]
     },
     "metadata": {},
     "output_type": "display_data"
    },
    {
     "name": "stdout",
     "output_type": "stream",
     "text": [
      "spamean 5.00749411765\n",
      "egfrdmean 5.00170980392\n"
     ]
    }
   ],
   "source": [
    "from ecell4 import *\n",
    "from ecell4.extra import ensemble\n",
    "import numpy as np\n",
    "import matplotlib.pylab as plt\n",
    "%matplotlib inline\n",
    "\n",
    "simrun=10000\n",
    "duration = 1000\n",
    "#rm = 0.005\n",
    "D=0.1\n",
    "Nas = 5\n",
    "nproc=None\n",
    "L=1#cbrt(10)\n",
    "k0= 0.1\n",
    "koff=0.02\n",
    "method='multiprocessing'\n",
    "\n",
    "for rm in [0.05,0.005]:\n",
    "    print('radius',rm)\n",
    "    def write(name,obs):\n",
    "        try:\n",
    "            f=open(name,'w')\n",
    "            data = np.array(obs.data()).T\n",
    "            np.savetxt(name,np.column_stack([data[0],data[1]]),delimiter=',',fmt='%s')\n",
    "            f.close()        \n",
    "            print('saving into',name)        \n",
    "            e=open(name+'_err','w')        \n",
    "            err = np.array(obs.error()).T        \n",
    "            np.savetxt(name+'_err',np.column_stack([err[0],err[1]]),delimiter=',',fmt='%s')\n",
    "            e.close()\n",
    "            print('saving into',name+'_err')\n",
    "        except AttributeError:\n",
    "            print('no error')\n",
    "\n",
    "    def singlerun(solver='ode',intrinsic=False,simrun=1):   \n",
    "        print(solver)\n",
    "        V = L**3 \n",
    "        M = max(int(min(cbrt(Nas), L / (2 * rm))), 3)\n",
    "        if solver=='spa':\n",
    "            solver=(\"spatiocyte\",rm)\n",
    "            V=spatiocyte.SpatiocyteWorld.calculate_volume(Real3(L,L,L),rm)\n",
    "        elif solver=='egfrd':\n",
    "            solver = ('egfrd', Integer3(M, M, M)) \n",
    "\n",
    "        kon=k0/V        \n",
    "        keff = kon*V*V/Nas\n",
    "        kd = 4*np.pi*rm*2*D*2\n",
    "        ka = keff*kd/(kd-keff)\n",
    "        assert(ka>0)\n",
    "        with species_attributes():\n",
    "            A | {'D': 0, 'radius':rm}\n",
    "            #B | {'D': D, 'radius':rm}\n",
    "\n",
    "        with reaction_rules():\n",
    "            ~A > A | kon\n",
    "            #A + B >B | (ka if intrinsic else keff)\n",
    "            A  > ~A | koff\n",
    "        m = get_model()\n",
    "\n",
    "        print('av={:.3},intrinsic={}'.format(float(V),intrinsic))\n",
    "        print('kon={:.3},koff={:.3},kd={:.3},keff={:.3},kfactor={:.3}'.format(kon,(ka if intrinsic else keff),kd,keff,ka/kd))\n",
    "        if simrun >1    :\n",
    "            obs=ensemble.ensemble_simulations(duration,n=simrun, model=m, solver=solver,volume=ones()*L,species_list=[\"A\"],return_type='observer',nproc=nproc,method=method)#,return_type=\"observer\")\n",
    "        else:\n",
    "            obs=run_simulation(duration,model=m,return_type='observer',species_list=['A'],solver=solver,volume=ones()*L)\n",
    "        return obs\n",
    "\n",
    "    obs1=singlerun('ode',False,1)\n",
    "    obs2=singlerun('spa',True,simrun)\n",
    "    obs3=singlerun('egfrd',True,simrun)\n",
    "    #obs4=singlerun('gillespie',False,simrun)\n",
    "    #write('/home/chew/outputdata/sturrock_bd_ode_rm{:.3}_Nas5'.format(rm),obs1)\n",
    "    #write('/home/chew/outputdata/sturrock_bd_spa_rm{:.3}_Nas5_10k'.format(rm),obs2)\n",
    "    #write('/home/chew/outputdata/sturrock_bd_egfrd_rm{:.3}_Nas5_10k'.format(rm),obs3)\n",
    "    viz.plot_number_observer(obs3,'r.',obs2,'g.',obs1,'k-')#,obs3,'k-')\n",
    "    data2 = np.array(obs2.data()).T\n",
    "    data3 = np.array(obs3.data()).T\n",
    "    print('spamean',np.mean(data2[1][50:]))\n",
    "    print('egfrdmean',np.mean(data3[1][50:]))"
   ]
  },
  {
   "cell_type": "code",
   "execution_count": null,
   "metadata": {},
   "outputs": [],
   "source": []
  }
 ],
 "metadata": {
  "anaconda-cloud": {},
  "kernelspec": {
   "display_name": "Python 3",
   "language": "python",
   "name": "python3"
  },
  "language_info": {
   "codemirror_mode": {
    "name": "ipython",
    "version": 3
   },
   "file_extension": ".py",
   "mimetype": "text/x-python",
   "name": "python",
   "nbconvert_exporter": "python",
   "pygments_lexer": "ipython3",
   "version": "3.5.2"
  }
 },
 "nbformat": 4,
 "nbformat_minor": 1
}
