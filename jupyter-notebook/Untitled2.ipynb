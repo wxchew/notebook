{
 "cells": [
  {
   "cell_type": "code",
   "execution_count": 4,
   "metadata": {},
   "outputs": [
    {
     "name": "stdout",
     "output_type": "stream",
     "text": [
      "\n",
      "Please wait a moment while I gather a list of all available modules...\n",
      "\n"
     ]
    },
    {
     "name": "stderr",
     "output_type": "stream",
     "text": [
      "/usr/local/lib/python3.5/dist-packages/IPython/kernel/__init__.py:13: ShimWarning: The `IPython.kernel` package has been deprecated since IPython 4.0.You should import from ipykernel or jupyter_client instead.\n",
      "  \"You should import from ipykernel or jupyter_client instead.\", ShimWarning)\n",
      "/usr/local/lib/python3.5/dist-packages/matplotlib/cbook.py:137: MatplotlibDeprecationWarning: The matplotlib.delaunay module was deprecated in version 1.4. Use matplotlib.tri.Triangulation instead.\n",
      "  warnings.warn(message, mplDeprecation, stacklevel=1)\n"
     ]
    },
    {
     "name": "stdout",
     "output_type": "stream",
     "text": [
      "CDROM               ast                 ipykernel_launcher  rlcompleter\n",
      "ClusterShell        asynchat            ipyparallel         rmagic\n",
      "CommandNotFound     asyncio             ipython_genutils    runpy\n",
      "Cython              asyncore            ipywidgets          sched\n",
      "DLFCN               atexit              itertools           select\n",
      "DistUpgrade         audioop             janitor             selectors\n",
      "IN                  autoreload          jedi                setuptools\n",
      "IPython             base64              jinja2              shelve\n",
      "LanguageSelector    bdb                 json                shlex\n",
      "TYPES               binascii            jsonschema          shutil\n",
      "UpdateManager       binhex              jupyter             signal\n",
      "__future__          bisect              jupyter_client      simplegeneric\n",
      "_ast                bleach              jupyter_console     site\n",
      "_bisect             builtins            jupyter_core        sitecustomize\n",
      "_bootlocale         bz2                 jupyterhub          six\n",
      "_bz2                cProfile            keyword             smtpd\n",
      "_codecs             calendar            language_support_pkgs smtplib\n",
      "_codecs_cn          certifi             lib2to3             snack\n",
      "_codecs_hk          cgi                 linecache           sndhdr\n",
      "_codecs_iso2022     cgitb               locale              socket\n",
      "_codecs_jp          chardet             logging             socketserver\n",
      "_codecs_kr          chunk               lsb_release         softwareproperties\n",
      "_codecs_tw          cmath               lzma                spwd\n",
      "_collections        cmd                 macpath             sqlalchemy\n",
      "_collections_abc    code                macurl2path         sqlite3\n",
      "_compat_pickle      codecs              mailbox             sre_compile\n",
      "_compression        codeop              mailcap             sre_constants\n",
      "_crypt              collections         mako                sre_parse\n",
      "_csv                colorsys            markupsafe          ssh_import_id\n",
      "_ctypes             compileall          marshal             ssl\n",
      "_ctypes_test        concurrent          math                stat\n",
      "_curses             configparser        matplotlib          statistics\n",
      "_curses_panel       contextlib          mimetypes           storemagic\n",
      "_datetime           copy                mistune             string\n",
      "_dbm                copyreg             mmap                stringprep\n",
      "_dbus_bindings      crypt               modulefinder        struct\n",
      "_dbus_glib_bindings csv                 multiprocessing     subprocess\n",
      "_decimal            ctypes              nbconvert           sunau\n",
      "_dummy_thread       curl                nbformat            symbol\n",
      "_elementtree        curses              netrc               sympyprinting\n",
      "_functools          cycler              nis                 symtable\n",
      "_gdbm               cython              nntplib             sys\n",
      "_hashlib            cythonmagic         notebook            sysconfig\n",
      "_heapq              datetime            ntpath              syslog\n",
      "_imp                dateutil            nturl2path          systemd\n",
      "_io                 dbm                 numbers             tabnanny\n",
      "_json               dbus                numpy               tarfile\n",
      "_locale             deb822              oauth2              telnetlib\n",
      "_lsprof             debconf             opcode              tempfile\n",
      "_lzma               debian              operator            terminado\n",
      "_markupbase         debian_bundle       optparse            termios\n",
      "_md5                decimal             os                  test\n",
      "_multibytecodec     decorator           ossaudiodev         testpath\n",
      "_multiprocessing    difflib             pamela              tests\n",
      "_opcode             dis                 pandocfilters       textwrap\n",
      "_operator           distutils           parser              this\n",
      "_osx_support        doctest             parso               threading\n",
      "_pickle             dummy_threading     pathlib             time\n",
      "_posixsubprocess    easy_install        pdb                 timeit\n",
      "_pydecimal          ecell4              pexpect             tkinter\n",
      "_pyio               editor              pickle              token\n",
      "_random             email               pickleshare         tokenize\n",
      "_sha1               encodings           pickletools         tornado\n",
      "_sha256             entrypoints         pip                 trace\n",
      "_sha512             enum                pipes               traceback\n",
      "_signal             errno               pkg_resources       tracemalloc\n",
      "_sitebuiltins       faulthandler        pkgutil             traitlets\n",
      "_snack              fcntl               platform            tty\n",
      "_socket             filecmp             plistlib            turtle\n",
      "_sqlite3            fileinput           poplib              types\n",
      "_sre                fnmatch             posix               typing\n",
      "_ssl                formatter           posixpath           ufw\n",
      "_stat               fpectl              pprint              unicodedata\n",
      "_string             fractions           problem_report      unittest\n",
      "_strptime           ftplib              profile             urllib\n",
      "_struct             functools           prompt_toolkit      urllib3\n",
      "_symtable           gc                  pstats              uu\n",
      "_sysconfigdata      genericpath         pty                 uuid\n",
      "_sysconfigdata_m    getopt              ptyprocess          venv\n",
      "_testbuffer         getpass             pwd                 warnings\n",
      "_testcapi           gettext             py_compile          wave\n",
      "_testimportmultiple gi                  pyclbr              wcwidth\n",
      "_testmultiphase     glob                pycurl              weakref\n",
      "_thread             grp                 pydoc               webbrowser\n",
      "_threading_local    gzip                pydoc_data          webencodings\n",
      "_tracemalloc        hashlib             pyexpat             wheel\n",
      "_warnings           heapq               pygments            widgetsnbextension\n",
      "_weakref            hmac                pygtkcompat         wsgiref\n",
      "_weakrefset         html                pylab               xdrlib\n",
      "abc                 html5lib            pyparsing           xml\n",
      "aifc                http                pytz                xmlrpc\n",
      "alembic             idlelib             pyximport           xxlimited\n",
      "antigravity         idna                qtconsole           xxsubtype\n",
      "apport              imaplib             queue               yaml\n",
      "apport_python_hook  imghdr              quopri              zipapp\n",
      "apt                 imp                 random              zipfile\n",
      "apt_inst            importlib           re                  zipimport\n",
      "apt_pkg             inspect             readline            zlib\n",
      "aptsources          io                  reprlib             zmq\n",
      "argparse            ipaddress           requests            \n",
      "array               ipykernel           resource            \n",
      "\n",
      "Enter any module name to get more help.  Or, type \"modules spam\" to search\n",
      "for modules whose name or summary contain the string \"spam\".\n",
      "\n"
     ]
    }
   ],
   "source": [
    "help(\"modules\")"
   ]
  },
  {
   "cell_type": "code",
   "execution_count": 7,
   "metadata": {},
   "outputs": [
    {
     "ename": "NameError",
     "evalue": "name 'env' is not defined",
     "output_type": "error",
     "traceback": [
      "\u001b[0;31m---------------------------------------------------------------------------\u001b[0m",
      "\u001b[0;31mNameError\u001b[0m                                 Traceback (most recent call last)",
      "\u001b[0;32m<ipython-input-7-27184866e19b>\u001b[0m in \u001b[0;36m<module>\u001b[0;34m()\u001b[0m\n\u001b[0;32m----> 1\u001b[0;31m \u001b[0mprint\u001b[0m\u001b[0;34m(\u001b[0m\u001b[0menv\u001b[0m\u001b[0;34m)\u001b[0m\u001b[0;34m\u001b[0m\u001b[0m\n\u001b[0m",
      "\u001b[0;31mNameError\u001b[0m: name 'env' is not defined"
     ]
    }
   ],
   "source": [
    "print(env)"
   ]
  },
  {
   "cell_type": "code",
   "execution_count": null,
   "metadata": {},
   "outputs": [],
   "source": []
  }
 ],
 "metadata": {
  "kernelspec": {
   "display_name": "Python 3",
   "language": "python",
   "name": "python3"
  },
  "language_info": {
   "codemirror_mode": {
    "name": "ipython",
    "version": 3
   },
   "file_extension": ".py",
   "mimetype": "text/x-python",
   "name": "python",
   "nbconvert_exporter": "python",
   "pygments_lexer": "ipython3",
   "version": "3.5.2"
  }
 },
 "nbformat": 4,
 "nbformat_minor": 2
}
