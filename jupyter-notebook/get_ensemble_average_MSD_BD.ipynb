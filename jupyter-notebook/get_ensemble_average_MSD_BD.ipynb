{
 "cells": [
  {
   "cell_type": "code",
   "execution_count": 1,
   "metadata": {
    "collapsed": true
   },
   "outputs": [],
   "source": [
    "from ecell4 import *\n",
    "%matplotlib inline\n",
    "import numpy as np\n",
    "import math\n",
    "import matplotlib.pyplot as plt\n",
    "import os\n",
    "from scipy.optimize import curve_fit\n",
    "#!/usr/bin/python"
   ]
  },
  {
   "cell_type": "code",
   "execution_count": 2,
   "metadata": {
    "collapsed": false,
    "scrolled": true
   },
   "outputs": [
    {
     "name": "stdout",
     "output_type": "stream",
     "text": [
      "0.05\n",
      "80\n",
      "save in data/2Dcrowding_BDmocN120phi0.05.csv\n",
      "0.1\n",
      "80\n",
      "save in data/2Dcrowding_BDmocN120phi0.1.csv\n",
      "0.15\n",
      "80\n",
      "save in data/2Dcrowding_BDmocN120phi0.15.csv\n",
      "0.2\n",
      "80\n",
      "save in data/2Dcrowding_BDmocN120phi0.2.csv\n",
      "0.25\n",
      "80\n",
      "save in data/2Dcrowding_BDmocN120phi0.25.csv\n",
      "0.3\n",
      "80\n",
      "save in data/2Dcrowding_BDmocN120phi0.3.csv\n",
      "0.35\n",
      "80\n",
      "save in data/2Dcrowding_BDmocN120phi0.35.csv\n",
      "0.4\n",
      "80\n",
      "save in data/2Dcrowding_BDmocN120phi0.4.csv\n",
      "0.45\n",
      "80\n",
      "save in data/2Dcrowding_BDmocN120phi0.45.csv\n",
      "0.5\n",
      "80\n",
      "save in data/2Dcrowding_BDmocN120phi0.5.csv\n",
      "0.55\n",
      "40\n",
      "save in data/2Dcrowding_BDmocN120phi0.55.csv\n"
     ]
    }
   ],
   "source": [
    "phis=[0.05,0.1,0.15,0.2,0.25,0.3,0.35,0.4,0.45,0.5,0.55]#[0.1,0.2,0.3,0.45,0.5]\n",
    "def getmsd(phi,nam):\n",
    "    print phi\n",
    "    dat = np.loadtxt('data/'+nam+str(phi)+'/phi'+str(phi)+'run0.csv',delimiter=',')\n",
    "    msd = np.zeros(dat.shape[0])\n",
    "    namelist = os.listdir(\"data/\"+nam+str(phi)+\"/\")\n",
    "    norun = len(namelist)\n",
    "    print norun\n",
    "    datm = []\n",
    "    delist = [] \n",
    "    for name in namelist:\n",
    "        dat = np.loadtxt('data/'+nam+str(phi)+\"/\"+name,delimiter=',')\n",
    "        #print dat.shape,name\n",
    "        t = dat[:,0]\n",
    "        #plt.plot(t,dat[:,1],'.')\n",
    "        #plt.plot(t,dat[:,1]/t/4.)\n",
    "        #plt.xscale('log')\n",
    "        datm.append(dat[:,1])\n",
    "        deff = dat[:,1][1:]/t[1:]/4\n",
    "        delist.append(np.mean(deff[(t[1:]>1e-3)]))\n",
    "    #plt.plot(t,dat[:,1]/t/4.)\n",
    "    #plt.xscale('log')\n",
    "    mean = np.mean(datm,axis=0)\n",
    "    #var = np.mean((datm-mean)**2,axis=0)\n",
    "    #std = np.sqrt(var)\n",
    "    t = dat[:,0]\n",
    "    out = np.column_stack((t,mean))\n",
    "    name = 'data/2Dcrowding_'+nam+str(phi)+'.csv'\n",
    "    filename = open(name,'w')\n",
    "    np.savetxt(filename,out,delimiter=',',fmt='%s')\n",
    "    filename.close()\n",
    "    print 'save in '+name\n",
    "    return out,[np.mean(delist),np.std(delist)]\n",
    "stats = []\n",
    "for phi in phis:\n",
    "    for nam in ['BDmocN120phi']:#,'BDmocN49phi','BDmocN81phi']:\n",
    "    #nam ='BDmocphi2_'#'BDmocphi\n",
    "        out,stat = getmsd(phi,nam)\n",
    "        stats.append(stat)\n",
    "        #tt = np.logspace(-10,-1,50)\n",
    "        #plot2(out)\n",
    "        #plt.plot(tt,msdf(tt,c1[0],c1[1],c1[2]),'-',label='fit by 4dt+A+Blnt')\n"
   ]
  },
  {
   "cell_type": "code",
   "execution_count": 3,
   "metadata": {
    "collapsed": false
   },
   "outputs": [
    {
     "name": "stdout",
     "output_type": "stream",
     "text": [
      "(0.90804253466628015, 0.824620130563267, 0.74394964042802492, 0.67533481048114741, 0.60598316687796405, 0.54450425022283255, 0.49313001996674455, 0.44278122182988816, 0.3900430382981484, 0.33731935730880658, 0.27672769730434654)\n",
      "(0.048695583400131449, 0.04128777335104563, 0.039411437976376446, 0.036158607631194349, 0.02801296397283231, 0.029436530571336095, 0.026940353375172463, 0.02606433268370947, 0.023348225271125435, 0.021371854969047137, 0.016742903699305405)\n"
     ]
    },
    {
     "data": {
      "text/plain": [
       "<Container object of 3 artists>"
      ]
     },
     "execution_count": 3,
     "metadata": {},
     "output_type": "execute_result"
    },
    {
     "name": "stderr",
     "output_type": "stream",
     "text": [
      "/usr/lib/python2.7/dist-packages/matplotlib/collections.py:571: FutureWarning: elementwise comparison failed; returning scalar instead, but in the future will perform elementwise comparison\n",
      "  if self._edgecolors == str('face'):\n"
     ]
    },
    {
     "data": {
      "image/png": "[encoded data removed]",
      "text/plain": [
       "<matplotlib.figure.Figure at 0x7f9194a5df50>"
      ]
     },
     "metadata": {},
     "output_type": "display_data"
    }
   ],
   "source": [
    "demean,destd = zip(*stats)\n",
    "print demean\n",
    "print destd\n",
    "plt.errorbar(phis,demean,yerr=destd,fmt='.-')"
   ]
  },
  {
   "cell_type": "code",
   "execution_count": 3,
   "metadata": {
    "collapsed": false,
    "scrolled": true
   },
   "outputs": [],
   "source": [
    "def plot1(out):\n",
    "    t = out[:,0]\n",
    "    msd = out[:,1]\n",
    "    #std = out[:,2]\n",
    "    #plt.errorbar(t,msd,yerr=std,fmt='.-')\n",
    "    plt.plot(t,msd,'.')\n",
    "    plt.yscale('log')\n",
    "    plt.xscale('log')\n",
    "    plt.plot(t,4*t,'r--')\n",
    "    #plt.ylim(0,0.2)\n",
    "    #plt.xlim(1e-2,1e-1)\n",
    "#plot1(out)"
   ]
  },
  {
   "cell_type": "code",
   "execution_count": 7,
   "metadata": {
    "collapsed": false
   },
   "outputs": [
    {
     "name": "stdout",
     "output_type": "stream",
     "text": [
      "0.276727697304\n"
     ]
    },
    {
     "data": {
      "image/png": "[encoded data removed]",
      "text/plain": [
       "<matplotlib.figure.Figure at 0x7f6063bcb310>"
      ]
     },
     "metadata": {},
     "output_type": "display_data"
    }
   ],
   "source": [
    "def plot2(out):\n",
    "    msd = out[:,1][1:]\n",
    "    t=out[:,0][1:]\n",
    "    #error = out[:,2][1:]/t/4.\n",
    "    Deff = msd/t/4.\n",
    "    #plt.errorbar(t,Deff,yerr=error,fmt='.',label=nam)\n",
    "    plt.plot(t,Deff,'.-',label=nam)\n",
    "    #plt.ylim(0.3,0.5)\n",
    "    #plt.xlim(1e-5,1e-1)\n",
    "    #plt.yticks(np.arange(0.5,1,0.1))\n",
    "    #plt.grid()\n",
    "    plt.xlabel(\"time\")\n",
    "    plt.ylabel(\"D/Do\")\n",
    "    plt.legend()\n",
    "    plt.xscale('log')\n",
    "    print np.mean(Deff[(t>1e-3)])\n",
    "plot2(out)\n"
   ]
  },
  {
   "cell_type": "code",
   "execution_count": 6,
   "metadata": {
    "collapsed": false
   },
   "outputs": [
    {
     "name": "stdout",
     "output_type": "stream",
     "text": [
      "0.154506076825\n"
     ]
    }
   ],
   "source": [
    "print msd[-1]"
   ]
  },
  {
   "cell_type": "code",
   "execution_count": 10,
   "metadata": {
    "collapsed": false
   },
   "outputs": [
    {
     "name": "stdout",
     "output_type": "stream",
     "text": [
      "0.211670643972\n"
     ]
    }
   ],
   "source": [
    "print np.mean(Deff[-100:])"
   ]
  },
  {
   "cell_type": "code",
   "execution_count": 2,
   "metadata": {
    "collapsed": false
   },
   "outputs": [],
   "source": [
    "import numpy as np\n",
    "a=np.array([1,2])"
   ]
  },
  {
   "cell_type": "code",
   "execution_count": 7,
   "metadata": {
    "collapsed": false
   },
   "outputs": [
    {
     "name": "stdout",
     "output_type": "stream",
     "text": [
      "(10,)\n"
     ]
    }
   ],
   "source": [
    "print np.zeros(10).shape"
   ]
  },
  {
   "cell_type": "code",
   "execution_count": null,
   "metadata": {
    "collapsed": true
   },
   "outputs": [],
   "source": []
  }
 ],
 "metadata": {
  "anaconda-cloud": {},
  "kernelspec": {
   "display_name": "Python 2",
   "language": "python",
   "name": "python2"
  },
  "language_info": {
   "codemirror_mode": {
    "name": "ipython",
    "version": 2
   },
   "file_extension": ".py",
   "mimetype": "text/x-python",
   "name": "python",
   "nbconvert_exporter": "python",
   "pygments_lexer": "ipython2",
   "version": "2.7.10"
  }
 },
 "nbformat": 4,
 "nbformat_minor": 1
}
