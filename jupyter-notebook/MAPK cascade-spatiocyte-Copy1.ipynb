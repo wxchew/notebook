{
 "cells": [
  {
   "cell_type": "code",
   "execution_count": 4,
   "metadata": {
    "collapsed": false
   },
   "outputs": [
    {
     "name": "stdout",
     "output_type": "stream",
     "text": [
      "trel 1e-06\n",
      "1.42857142857e-06\n",
      "(0, u'K', u'0.005', u'5.0')\n",
      "(1, u'Kp', u'0.005', u'5.0')\n",
      "(2, u'Kpp', u'0.005', u'5.0')\n",
      "(3, u'KK', u'0.005', u'5.0')\n",
      "(4, u'PP', u'0.005', u'5.0')\n",
      "(5, u'K_KK', u'0.005', u'5.0')\n",
      "(6, u'Kp_KK', u'0.005', u'5.0')\n",
      "(7, u'Kpp_PP', u'0.005', u'5.0')\n",
      "(8, u'Kp_PP', u'0.005', u'5.0')\n",
      "(0, u'KK+K>K_KK|0.0448346')\n",
      "(1, u'K_KK>KK+K|1.35')\n",
      "(2, u'K_KK>Kp+KKa|1.5')\n",
      "(3, u'KK+Kp>Kp_KK|0.0929902')\n",
      "(4, u'Kp_KK>KK+Kp|1.73')\n",
      "(5, u'Kp_KK>Kpp+KKa|15')\n",
      "(6, u'KKa>KK|700000')\n",
      "(7, u'Kpp+PP>Kpp_PP|0.0448346')\n",
      "(8, u'Kpp_PP>Kpp+PP|1.35')\n",
      "(9, u'Kpp_PP>Kp+PPa|1.5')\n",
      "(10, u'Kp+PP>Kp_PP|0.0929902')\n",
      "(11, u'Kp_PP>Kp+PP|1.73')\n",
      "(12, u'Kp_PP>K+PPa|15')\n",
      "(13, u'PPa>PP|700000')\n"
     ]
    }
   ],
   "source": [
    "import math\n",
    "import numpy as np\n",
    "import os\n",
    "import sys\n",
    "from ecell4 import *\n",
    "rng = GSLRandomNumberGenerator()\n",
    "rng.seed(0)\n",
    "\n",
    "D = 5.\n",
    "ratio = 10\n",
    "ka1, kd1, kcat1 = 0.04483455086786913, 1.35, 1.5\n",
    "ka2, kd2, kcat2 = 0.09299017957780264, 1.73, 15.0\n",
    "trel = 1e-6\n",
    "print 'trel',trel\n",
    "k7 = 700000.#math.log(2)/trel\n",
    "print 1./700000\n",
    "r0=1.0208582\n",
    "radius = 0.005\n",
    "NKT = 50\n",
    "dur = 1#200#1000\n",
    "\n",
    "\n",
    "@species_attributes\n",
    "def attrgen(radius, D):\n",
    "    K | {\"radius\": radius, \"D\": D}\n",
    "    Kp | {\"radius\": radius, \"D\": D}\n",
    "    Kpp | {\"radius\": radius, \"D\": D}\n",
    "    KK | {\"radius\": radius, \"D\": D}\n",
    "    PP | {\"radius\": radius, \"D\": D}\n",
    "    K_KK | {\"radius\": radius, \"D\": D}\n",
    "    Kp_KK | {\"radius\": radius, \"D\": D}\n",
    "    Kpp_PP | {\"radius\": radius, \"D\": D}\n",
    "    Kp_PP | {\"radius\": radius, \"D\": D}\n",
    "\n",
    "@reaction_rules\n",
    "def rulegen(kon1, koff1, kcat1, kon2, koff2, kcat2,k7):\n",
    "    (KK + K == K_KK | (kon1, koff1)\n",
    "        > Kp + KKa | kcat1)\n",
    "    (KK + Kp == Kp_KK | (kon2, koff2)\n",
    "        > Kpp + KKa | kcat2)\n",
    "    (KKa > KK | k7)\n",
    "    (Kpp + PP == Kpp_PP | (kon1, koff1)\n",
    "        > Kp + PPa | kcat1)     \n",
    "    (Kp + PP == Kp_PP | (kon2, koff2)\n",
    "        > K + PPa | kcat2)\n",
    "    (PPa > PP | k7)\n",
    "\n",
    "def runs(ratio,m):\n",
    "    w = spatiocyte.SpatiocyteWorld(Real3(1, 1, 1),radius,rng)\n",
    "    w.bind_to(m)\n",
    "    w.add_molecules(Species(\"K\"), NKT)\n",
    "    npp = int(25./(ratio+1))\n",
    "    nkk = 25-npp\n",
    "    w.add_molecules(Species(\"KK\"), nkk)\n",
    "    w.add_molecules(Species(\"KKa\"), 10)\n",
    "    w.add_molecules(Species(\"PP\"), npp)\n",
    "    sim = spatiocyte.SpatiocyteSimulator(m, w)\n",
    "    obs = FixedIntervalNumberObserver(0.1, [\"KK\",\"Kpp\",\"PP\"])\n",
    "    sim.run(dur, obs)\n",
    "    data = np.array(obs.data()).T\n",
    "    NKK = data[1]\n",
    "    NKpp = data[2]\n",
    "    NP = data[3]\n",
    "    tt = data[0]\n",
    "    return tt,NKK,NKpp,NP\n",
    "\n",
    "m = NetworkModel()\n",
    "for i, sp in enumerate(attrgen(str(radius), str(D))):\n",
    "    print(i, sp.serial(), sp.get_attribute(\"radius\"), sp.get_attribute(\"D\"))\n",
    "    m.add_species_attribute(sp)\n",
    "rul = rulegen(ka1, kd1, kcat1, ka2, kd2, kcat2,k7)\n",
    "for i, rr in enumerate(rul):\n",
    "    reactants, products, k = rr.reactants(), rr.products(), rr.k()\n",
    "    print(i, rr.as_string())\n",
    "    m.add_reaction_rule(rr)\n",
    "tt,NKK,NKpp,NP = runs(ratio,m)\n",
    "meanN = np.mean(NKpp[int(dur*0.5):])/NKT\n",
    "\n",
    "\n"
   ]
  },
  {
   "cell_type": "code",
   "execution_count": 5,
   "metadata": {
    "collapsed": false
   },
   "outputs": [
    {
     "name": "stdout",
     "output_type": "stream",
     "text": [
      "[<ecell4.core.FixedIntervalNumberObserver object at 0x7f4eb3121eb8>]\n"
     ]
    }
   ],
   "source": [
    "w = spatiocyte.SpatiocyteWorld(Real3(1, 1, 1),radius,rng)\n",
    "sim = spatiocyte.SpatiocyteSimulator(m, w)\n",
    "obs = FixedIntervalNumberObserver(1.0, [\"KK\",\"Kpp\",\"PP\"])\n",
    "print [obs]"
   ]
  },
  {
   "cell_type": "code",
   "execution_count": 2,
   "metadata": {
    "collapsed": false
   },
   "outputs": [
    {
     "name": "stdout",
     "output_type": "stream",
     "text": [
      "9.68838725027e-09\n"
     ]
    }
   ],
   "source": [
    "k=1000000\n",
    "import math\n",
    "import numpy as np\n",
    "import os\n",
    "import sys\n",
    "from ecell4 import *\n",
    "rng = GSLRandomNumberGenerator()\n",
    "D=1\n",
    "\n",
    "def create_model(k, D, radius=0.005):\n",
    "    with species_attributes():\n",
    "        A | B | {'D': str(D), 'radius': str(radius)}\n",
    "    with reaction_rules():\n",
    "        A  > B | k # uma^2/s\n",
    "    return get_model()\n",
    "\n",
    "def singlerun(k, D, voxel_radius, L, N,run):\n",
    "    radius = voxel_radius\n",
    "    NB = N\n",
    "    rng.seed(run)\n",
    "    m = create_model(k, D, radius)\n",
    "    w = spatiocyte.SpatiocyteWorld(ones() * L, voxel_radius,rng)\n",
    "    w.bind_to(m)\n",
    "    w.add_molecules(Species('A'), 10)\n",
    "    w.add_molecules(Species('B'), 0)\n",
    "    sim = spatiocyte.SpatiocyteSimulator(w)\n",
    "    print sim.next_time()\n",
    "    obs = FixedIntervalNumberObserver(1,['A'])\n",
    "    while len(obs.data()) == 0 or obs.data()[-1][1] > N * 0.2:\n",
    "        sim.run(10, [obs])\n",
    "    return obs\n",
    "\n",
    "obs =singlerun(k,D,0.005,1,10,1)"
   ]
  },
  {
   "cell_type": "code",
   "execution_count": null,
   "metadata": {
    "collapsed": true
   },
   "outputs": [],
   "source": []
  }
 ],
 "metadata": {
  "kernelspec": {
   "display_name": "Python 2",
   "language": "python",
   "name": "python2"
  },
  "language_info": {
   "codemirror_mode": {
    "name": "ipython",
    "version": 2
   },
   "file_extension": ".py",
   "mimetype": "text/x-python",
   "name": "python",
   "nbconvert_exporter": "python",
   "pygments_lexer": "ipython2",
   "version": "2.7.10"
  }
 },
 "nbformat": 4,
 "nbformat_minor": 2
}
