{
 "cells": [
  {
   "cell_type": "code",
   "execution_count": null,
   "metadata": {
    "collapsed": false
   },
   "outputs": [
    {
     "name": "stdout",
     "output_type": "stream",
     "text": [
      "L 2\n",
      "rv 0.005\n"
     ]
    }
   ],
   "source": [
    "from ecell4 import *\n",
    "%matplotlib inline\n",
    "import numpy as np\n",
    "import math\n",
    "import matplotlib.pyplot as plt\n",
    "\n",
    "r = 0.005  \n",
    "D = 1\n",
    "L = 2\n",
    "print 'L',L\n",
    "print 'rv',r\n",
    "V1 = L**3\n",
    "V2 =  spatiocyte.SpatiocyteWorld(ones()*L,r).get_volume()\n",
    "Nc = 1\n",
    "Nt = 100\n",
    "dt = (2*r)**2/(6*D)\n",
    "ti = 10*dt\n",
    "dur = 1000*dt\n",
    "nump = int(round((dur/ti)))\n",
    "print 'dt',dt\n",
    "print 'nump',nump\n",
    "phi = (100*2*Nc*4.*math.pi*(r**3)/(3*V2)) \n",
    "print 'no of crowders',Nc\n",
    "print 'no of tracer',Nt\n",
    "print 'vol fract %',phi\n",
    "\n",
    "with species_attributes():\n",
    "    T | {'D': str(D),'radius':str(r)}\n",
    "    C | {'D': '0','radius':str(r)}\n",
    "\n",
    "m = get_model()\n",
    "w = spatiocyte.SpatiocyteWorld(ones()*L,r)  # The second argument is 'voxel_radius'.\n",
    "w.bind_to(m)\n",
    "w.add_molecules(Species('C'), Nc)\n",
    "w.add_molecules(Species('T'), Nt)\n",
    "sim = spatiocyte.SpatiocyteSimulator(w)\n",
    "\n",
    "pids = [pid for pid, p in w.list_particles(Species(\"T\"))] #particle IDs\n",
    "print pids[0]\n",
    "obs = FixedIntervalTrajectoryObserver(ti,pids)\n",
    "sim.run(dur, obs)\n",
    "\n",
    "msd=np.zeros(int(nump),float) #zeros array for initiation of sum of squared displacement\n",
    "data=obs.data()\n",
    "for i in range(Nt):\n",
    "    msd += np.array(\n",
    "        [np.linalg.norm(np.array(tuple(pos)) - np.array(tuple(data[i][0]))) ** 2\n",
    "             for pos in data[i]]) \n",
    "    #print i\n",
    "msd/=Nt\n",
    "t=np.linspace(0,dur,nump)\n",
    "plt.plot(t,msd)\n",
    "plt.plot(t,6*D*t,'g-')  #theoretical line\n",
    "plt.xlabel(\"time\")\n",
    "plt.ylabel(\"msd\")"
   ]
  },
  {
   "cell_type": "code",
   "execution_count": null,
   "metadata": {
    "collapsed": true
   },
   "outputs": [],
   "source": []
  },
  {
   "cell_type": "code",
   "execution_count": null,
   "metadata": {
    "collapsed": true
   },
   "outputs": [],
   "source": []
  }
 ],
 "metadata": {
  "anaconda-cloud": {},
  "kernelspec": {
   "display_name": "Python [default]",
   "language": "python",
   "name": "python2"
  },
  "language_info": {
   "codemirror_mode": {
    "name": "ipython",
    "version": 2
   },
   "file_extension": ".py",
   "mimetype": "text/x-python",
   "name": "python",
   "nbconvert_exporter": "python",
   "pygments_lexer": "ipython2",
   "version": "2.7.12"
  }
 },
 "nbformat": 4,
 "nbformat_minor": 1
}
