{
 "cells": [
  {
   "cell_type": "code",
   "execution_count": 6,
   "metadata": {
    "scrolled": false
   },
   "outputs": [
    {
     "name": "stdout",
     "output_type": "stream",
     "text": [
      "ode\n",
      "keff 0.0025\n",
      "kon=0.0125,ka=0.0025,kd=2.51,keff=0.0025,kfactor=0.000996\n",
      "spa\n",
      "keff 0.004157787873376901\n",
      "kon=0.00752,ka=0.00416,kd=2.51,keff=0.00416,kfactor=0.00166\n",
      "spamean 40.2587058824\n",
      "ode\n",
      "keff 0.0025\n",
      "kon=0.0125,ka=0.0025,kd=0.0126,keff=0.0025,kfactor=0.248\n",
      "spa\n",
      "keff 0.004157787873376901\n",
      "kon=0.00752,ka=0.00621,kd=0.0126,keff=0.00416,kfactor=0.494\n",
      "spamean 37.2415686275\n"
     ]
    },
    {
     "data": {
      "image/png": "[encoded data removed]",
      "text/plain": [
       "<matplotlib.figure.Figure at 0x7fb9ee05b198>"
      ]
     },
     "metadata": {},
     "output_type": "display_data"
    }
   ],
   "source": [
    "from ecell4 import *\n",
    "from ecell4.extra import ensemble\n",
    "import numpy as np\n",
    "import matplotlib.pylab as plt\n",
    "%matplotlib inline\n",
    "\n",
    "simrun=500#0#0\n",
    "duration = 3500\n",
    "nproc=None\n",
    "L=2#cbrt(10)\n",
    "Nas = 5*L**3\n",
    "Nb=1*L**3\n",
    "k0= 0.1\n",
    "method='multiprocessing'\n",
    "rm=0.1\n",
    "obss=[]\n",
    "for D in [1,0.005]:\n",
    "    def write(name,obs):\n",
    "        try:\n",
    "            f=open(name,'w')\n",
    "            data = np.array(obs.data()).T\n",
    "            np.savetxt(name,np.column_stack([data[0],data[1]]),delimiter=',',fmt='%s')\n",
    "            f.close()        \n",
    "            print('saving into',name)        \n",
    "            e=open(name+'_err','w')        \n",
    "            err = np.array(obs.error()).T        \n",
    "            np.savetxt(name+'_err',np.column_stack([err[0],err[1]]),delimiter=',',fmt='%s')\n",
    "            e.close()\n",
    "            print('saving into',name+'_err')\n",
    "        except AttributeError:\n",
    "            print('no error')\n",
    "\n",
    "\n",
    "\n",
    "    def singlerun(solver='ode',intrinsic=False,simrun=1):   \n",
    "        print(solver)\n",
    "        V = L**3 \n",
    "        M = max(int(min(cbrt(Nas), L / (2 * rm))), 3)\n",
    "        if solver=='spa':\n",
    "            solver=(\"spatiocyte\",rm)\n",
    "            V=spatiocyte.SpatiocyteWorld.calculate_volume(Real3(L,L,L),rm)\n",
    "        elif solver=='egfrd':\n",
    "            solver = ('egfrd', Integer3(M, M, M)) \n",
    "\n",
    "        kon=k0/V        \n",
    "        keff = kon*V*V/Nas/Nb\n",
    "        print('keff',keff)\n",
    "        kd = 4*np.pi*rm*2*D\n",
    "        ka = keff*kd/(kd-keff)\n",
    "        assert(ka>0)\n",
    "        with species_attributes():\n",
    "            A | {'D': D, 'radius':rm}\n",
    "            B | {'D': 0, 'radius':rm}\n",
    "\n",
    "        with reaction_rules():\n",
    "            ~A > A | kon\n",
    "            A + B >B | (ka if intrinsic else keff)\n",
    "        m = get_model()\n",
    "\n",
    "        #print('av={:.3},intrinsic={}'.format(float(V),intrinsic))\n",
    "        print('kon={:.3},ka={:.3},kd={:.3},keff={:.3},kfactor={:.3}'.format(kon,(ka if intrinsic else keff),kd,keff,ka/kd))\n",
    "        if simrun >1    :\n",
    "            obs=ensemble.ensemble_simulations(duration,n=simrun, y0={'B':Nb},model=m, solver=solver,volume=ones()*L,species_list=[\"A\"],return_type='observer',nproc=nproc,method=method)#,return_type=\"observer\")\n",
    "        else:\n",
    "            obs=run_simulation(duration,model=m,y0={'B':Nb},return_type='observer',species_list=['A'],solver=solver,volume=ones()*L)\n",
    "        return obs\n",
    "\n",
    "    obs1=singlerun('ode',False,1)\n",
    "    obs2=singlerun('spa',True,simrun)\n",
    "    data2 = np.array(obs2.data()).T\n",
    "    print('spamean',np.mean(data2[1][50:]))    \n",
    "    obss.append(obs2)\n",
    "    #obs3=singlerun('egfrd',True,simrun)\n",
    "    #obs4=singlerun('gillespie',False,simrun)\n",
    "    #write('/home/chew/outputdata/sturrock_bd_ode_rm{:.3}_Nas5'.format(rm),obs1)\n",
    "    #write('/home/chew/outputdata/sturrock_bd_spa_rm{:.3}_Nas5_10k'.format(rm),obs2)\n",
    "    #write('/home/chew/outputdata/sturrock_bd_egfrd_rm{:.3}_Nas5_10k'.format(rm),obs3)\n",
    "viz.plot_number_observer(obss[0],'r.',obss[1],'g.',obs1,'k-')#,obs3,'k-')    "
   ]
  },
  {
   "cell_type": "code",
   "execution_count": null,
   "metadata": {},
   "outputs": [],
   "source": []
  }
 ],
 "metadata": {
  "anaconda-cloud": {},
  "kernelspec": {
   "display_name": "Python 3",
   "language": "python",
   "name": "python3"
  },
  "language_info": {
   "codemirror_mode": {
    "name": "ipython",
    "version": 3
   },
   "file_extension": ".py",
   "mimetype": "text/x-python",
   "name": "python",
   "nbconvert_exporter": "python",
   "pygments_lexer": "ipython3",
   "version": "3.5.2"
  }
 },
 "nbformat": 4,
 "nbformat_minor": 1
}
