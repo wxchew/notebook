{
 "cells": [
  {
   "cell_type": "code",
   "execution_count": null,
   "metadata": {
    "collapsed": false
   },
   "outputs": [],
   "source": [
    "from ecell4 import *\n",
    "from ecell4.extra import ensemble\n",
    "import math\n",
    "import os\n",
    "import sys\n",
    "%matplotlib inline\n",
    "import matplotlib.pyplot as plt\n",
    "import numpy as np\n",
    "rng = GSLRandomNumberGenerator()\n",
    "\n",
    "simrun =10\n",
    "voxelr=0.05\n",
    "duration = 500\n",
    "L=0.2\n",
    "Da = 0#0.1\n",
    "Db = 0.1\n",
    "D=Da+Db\n",
    "koff = 0.02\n",
    "kon = 0.1\n",
    "Nb0 = 1\n",
    "Na0=150\n",
    "V1 = L**3\n",
    "dt = 10\n",
    "#kd= 4.0*math.pi*D*2*voxelr\n",
    "ka = 0#koff/(1-(koff/kd))\n",
    "w = spatiocyte.SpatiocyteWorld(Real3(L,L,L),voxelr,rng) \n",
    "wv=w.calculate_volume(Real3(L,L,L),voxelr)\n",
    "kon = kon#/wv\n",
    "\n",
    "print('L={:f}\\n Rvoxel={:f}\\n actual volume={:f}'.format(L,voxelr,wv))\n",
    "print('kon={:f}\\n koff={:f}\\n ka={:f}'.format(kon,koff,ka))\n",
    "print('simulation run {:d}'.format(simrun)) \n",
    "\n",
    "def draw_time(w):\n",
    "    k = kon\n",
    "    Ng = w.size() - w.num_voxels() # total No. voxel-total no. species=empty voxels\n",
    "    p = k #* Ng / (w.size()-Nb0)\n",
    "    r = rng.uniform(0, 1)  #XXX: Update me\n",
    "    tau = math.log(1./r)/p\n",
    "    return w.t() + tau,Ng\n",
    "\n",
    "def do_reaction(w):\n",
    "    Ng = w.size() - w.num_voxels() \n",
    "    #print w.size(),Ng\n",
    "    na =w.num_molecules_exact(Species(\"A\"))\n",
    "    if ((Ng+na+Nb0)!=w.size()):  print 'error',Ng+na,na, w.size()\n",
    "    w.add_molecules(Species(\"A\"), 1)   \n",
    "    \n",
    "def create_model(Da,Db,voxelr,ka): \n",
    "    with species_attributes():\n",
    "        A | {'D': str(Da), 'radius':str(voxelr)}\n",
    "        #B | {'D': str(Db), 'radius':str(voxelr)}\n",
    "    #with reaction_rules():\n",
    "    #    A + B > B | ka\n",
    "    return get_model()\n",
    "\n",
    "def create_modelODE(D,koff,kon,rm): #sturock model\n",
    "    with species_attributes():\n",
    "        A | {'D': str(D), 'radius':str(rm)}\n",
    "        B | {'D': str(0), 'radius':str(rm)}\n",
    "    with reaction_rules():\n",
    "        #A + B > B | koff\n",
    "        ~A > A | kon\n",
    "    return get_model()\n",
    "\n",
    "def singlerun1(Na,run): #correct model\n",
    "    rng.seed(run)\n",
    "    model = create_model(Da,Db,voxelr,ka)\n",
    "    w = spatiocyte.SpatiocyteWorld(Real3(L,L,L),voxelr,rng) \n",
    "    if run==0: print 'total voxels',w.size()\n",
    "    w.bind_to(model)\n",
    "    w.add_molecules(Species(\"A\"), Na0)\n",
    "    #w.add_molecules(Species(\"B\"),Nb0)\n",
    "    #V = w.get_volume()\n",
    "    sim = spatiocyte.SpatiocyteSimulator(model, w)    \n",
    "    T,Ng = draw_time(w)\n",
    "    #print(T, sim.next_time())\n",
    "    data = []\n",
    "    index = 0\n",
    "    i=1\n",
    "    while (sim.t() <= tt[-1]) and Ng!=5:\n",
    "        Ng = w.size() - w.num_voxels() \n",
    "        if sim.next_time() < T:          \n",
    "            sim.step()\n",
    "            if len(sim.last_reactions()) > 0:\n",
    "                T,Ng = draw_time(w)\n",
    "        else:\n",
    "            sim.step(T)\n",
    "            do_reaction(w)\n",
    "            T,Ng = draw_time(w)\n",
    "        if sim.t()>=tt[i] :\n",
    "            Na[i]+=w.num_molecules_exact(Species(\"A\"))\n",
    "            i+=1\n",
    "            #np.delete(time,time[i])\n",
    "    return Na\n",
    "\n",
    "def singlerun2(Na,run): #sturrock model\n",
    "    rng.seed(run)\n",
    "    f = spatiocyte.SpatiocyteFactory(voxelr)\n",
    "    w = f.create_world()\n",
    "    #V = w.get_volume()\n",
    "    k0 = k2/w.size()\n",
    "    #print k2,w.size(),V\n",
    "    model = create_model2(Da,Db,voxelr,ka,k0)\n",
    "    w.bind_to(model)\n",
    "    w.add_molecules(Species(\"A\"), Na0)\n",
    "    w.add_molecules(Species(\"B\"),Nb0)\n",
    "    sim = f.create_simulator(w)\n",
    "    obs = FixedIntervalNumberObserver(dt, 'A')\n",
    "    sim.run(duration+1,obs)\n",
    "    data = np.array(obs.data())[:,1]\n",
    "    Na  = np.array([Na[x]+y for x,y in enumerate(data)])\n",
    "    #Nv = w.col_size()*w.layer_size()*w.row_size()\n",
    "    return Na,w.calculate_volume(Real3(L,L,L),voxelr)\n",
    "\n",
    "tt = np.arange(0,duration+1,dt)\n",
    "Na = np.zeros(len(tt))\n",
    "for i in range(int(simrun)):\n",
    "    Na = singlerun1(Na,i)\n",
    "Na = Na/float(simrun) #not concentration\n",
    "name = '/home/chew/wrk/ecellwork/data/sturrockrxn02_rv{:.4f}_normprate.csv'.format(voxelr)\n",
    "#fn = open(name,'w')\n",
    "#np.savetxt(fn,[tt,Na],delimiter=',',fmt='%s')\n",
    "#fn.close()\n",
    "print 'saving in ',name\n",
    "print 'mean Na at last few points',np.mean(Na[-20:])\n",
    "mode=create_modelODE(D,koff,kon/V1,voxelr)\n",
    "ode = ensemble.ensemble_simulations(t=duration,n=1,y0={'A': Na0,'B':Nb0},volume=V1, model=mode, solver=(\"ode\"),method='serial',return_type='array')\n",
    "datode = np.array(ode)[0]\n",
    "plt.plot(datode[:,0],datode[:,1])\n",
    "plt.plot(tt,Na,'.')\n"
   ]
  },
  {
   "cell_type": "code",
   "execution_count": 4,
   "metadata": {
    "collapsed": false
   },
   "outputs": [
    {
     "name": "stdout",
     "output_type": "stream",
     "text": [
      "4.84013451599\n",
      "4.87165808841\n",
      "4.92712412396\n"
     ]
    },
    {
     "data": {
      "image/png": "[encoded data removed]",
      "text/plain": [
       "<matplotlib.figure.Figure at 0x7fcbf9350fd0>"
      ]
     },
     "metadata": {},
     "output_type": "display_data"
    }
   ],
   "source": [
    "import numpy as np\n",
    "%matplotlib inline\n",
    "import matplotlib.pyplot as plt\n",
    "#rad=[0.0125,0.0500,0.125]\n",
    "rad=[0.0125,0.0500,0.125]\n",
    "clrs = ['r','g','b','c','k']\n",
    "'''\n",
    "for i in range(len(rad)):\n",
    "    print rad[i]\n",
    "    dat = np.loadtxt('/home/chew/wrk/ecellwork/data/sturrockrxn02_rv{0:0.4f}_normprate.csv'.format(rad[i]),dtype='str',delimiter=',')\n",
    "    y=[float(e) for e in dat[1]]\n",
    "    x=[float(e) for e in dat[0]]\n",
    "    print np.mean(y[-20:])\n",
    "    plt.plot(x,y,c=clrs[i],linestyle='',marker='.',label='r={0:0.4f}'.format(rad[i]))\n",
    "'''\n",
    "dat=np.loadtxt('/home/chew/wrk/spatiocyte/examples/sturrock/Spa0.1.csv',delimiter=',',skiprows=1)\n",
    "plt.plot(dat[:,0],dat[:,1]/2.89631,'k-',label='ecell3Spa0.1')  \n",
    "print np.mean(dat[:,1][-100:]/2.89631)\n",
    "dat=np.loadtxt('/home/chew/wrk/spatiocyte/examples/sturrock/Spa0.05.csv',delimiter=',',skiprows=1)\n",
    "plt.plot(dat[:,0],dat[:,1]/1.66312,'r-',label='ecell3Spa0.05')  \n",
    "print np.mean(dat[:,1][-100:]/1.66312)\n",
    "dat=np.loadtxt('/home/chew/wrk/spatiocyte/examples/sturrock/Spa0.05V2.csv',delimiter=',',skiprows=1)\n",
    "plt.plot(dat[:,0],dat[:,1]/10.5161,'b-',label='ecell3Spa0.05V2')  \n",
    "print np.mean(dat[:,1][-100:]/10.5161)\n",
    "\n",
    "dat = np.loadtxt('/home/chew/wrk/ecellwork/data/sturrockmean0.0500',dtype='str',delimiter=',')\n",
    "plt.plot(dat[:,0],dat[:,1],'g-',label='egfrd0.05')     \n",
    "dat = np.loadtxt('/home/chew/wrk/ecellwork/data/sturrockmean0.0750',dtype='str',delimiter=',')\n",
    "plt.plot(dat[:,0],dat[:,1],'k-',label='egfrd0.075')     \n",
    "dat = np.loadtxt('/home/chew/wrk/ecellwork/data/sturrockmean0.1000L1',dtype='str',delimiter=',')\n",
    "plt.plot(dat[:,0],dat[:,1],'c-',label='egfrd0.1L1')  \n",
    "dat = np.loadtxt('/home/chew/wrk/ecellwork/data/sturrockmean0.1000L2',dtype='str',delimiter=',')\n",
    "y=[float(i)/(2**3) for i in dat[:,1]]\n",
    "x=[float(i) for i in dat[:,0]]\n",
    "plt.plot(x,y,'y-',label='egfrd0.1L2')  \n",
    "dat = np.loadtxt('/home/chew/wrk/ecellwork/data/sturrockmean0.1250',dtype='str',delimiter=',')\n",
    "plt.plot(dat[:,0],dat[:,1],'b-',label='egfrd0.125')   \n",
    "tt=np.arange(0,2000,1)\n",
    "plt.plot(tt,[5]*len(tt))\n",
    "#dat = np.loadtxt('/home/chew/wrk/ecellwork/data/sturrock0.100.csv',dtype='str',delimiter=',')    \n",
    "#plt.plot(dat[0],dat[1],'o')\n",
    "plt.xlabel('time')\n",
    "plt.ylabel('[Na]')\n",
    "#plt.title(\"L={4:1.0f},Da={0:0.1f},ka={1:0.2f},k2={3:0.1f},Nb={5:1.0f}\".format(Da,ka,kd,k2,L,Nb0))\n",
    "fig = plt.gcf()\n",
    "fig.set_size_inches(7,4)\n",
    "plt.legend(loc='best')\n",
    "#plt.savefig(\"figure/1st_order_production_2nd_order_degradation_Sturrock_rxn_Ks.png\",format='png',dpi=100)\n",
    "plt.xlim(0 ,2000)\n",
    "plt.show()\n"
   ]
  },
  {
   "cell_type": "code",
   "execution_count": 98,
   "metadata": {
    "collapsed": false
   },
   "outputs": [
    {
     "data": {
      "text/plain": [
       "0.07500000000000001"
      ]
     },
     "execution_count": 98,
     "metadata": {},
     "output_type": "execute_result"
    }
   ],
   "source": [
    "0.5*(0.05+0.1)"
   ]
  },
  {
   "cell_type": "code",
   "execution_count": 94,
   "metadata": {
    "collapsed": false
   },
   "outputs": [
    {
     "data": {
      "text/plain": [
       "0.18142224689457484"
      ]
     },
     "execution_count": 94,
     "metadata": {},
     "output_type": "execute_result"
    }
   ],
   "source": [
    "nt=4\n",
    "(0.3/4/3.14/nt)**(1./3)"
   ]
  },
  {
   "cell_type": "code",
   "execution_count": 104,
   "metadata": {
    "collapsed": false
   },
   "outputs": [
    {
     "name": "stdout",
     "output_type": "stream",
     "text": [
      "0.0125\n"
     ]
    }
   ],
   "source": [
    "print L/(2*40)\n"
   ]
  },
  {
   "cell_type": "code",
   "execution_count": 108,
   "metadata": {
    "collapsed": false
   },
   "outputs": [
    {
     "data": {
      "text/plain": [
       "8.299999999999999"
      ]
     },
     "execution_count": 108,
     "metadata": {},
     "output_type": "execute_result"
    }
   ],
   "source": [
    "5*1.66"
   ]
  },
  {
   "cell_type": "code",
   "execution_count": 109,
   "metadata": {
    "collapsed": false
   },
   "outputs": [
    {
     "data": {
      "text/plain": [
       "2.951807228915663"
      ]
     },
     "execution_count": 109,
     "metadata": {},
     "output_type": "execute_result"
    }
   ],
   "source": [
    "4.9/1.66"
   ]
  },
  {
   "cell_type": "code",
   "execution_count": 126,
   "metadata": {
    "collapsed": false
   },
   "outputs": [
    {
     "data": {
      "text/plain": [
       "2.386485386504598"
      ]
     },
     "execution_count": 126,
     "metadata": {},
     "output_type": "execute_result"
    }
   ],
   "source": [
    "w.calculate_volume(Real3(1,1,1),0.125)"
   ]
  },
  {
   "cell_type": "code",
   "execution_count": 119,
   "metadata": {
    "collapsed": false
   },
   "outputs": [
    {
     "data": {
      "text/plain": [
       "(6, 6, 6)"
      ]
     },
     "execution_count": 119,
     "metadata": {},
     "output_type": "execute_result"
    }
   ],
   "source": [
    "tuple(w.calculate_shape(Real3(1,1,1),0.125))"
   ]
  },
  {
   "cell_type": "code",
   "execution_count": 127,
   "metadata": {
    "collapsed": true
   },
   "outputs": [],
   "source": [
    "x,y,z=tuple(w.actual_lengths())"
   ]
  },
  {
   "cell_type": "code",
   "execution_count": 128,
   "metadata": {
    "collapsed": false
   },
   "outputs": [
    {
     "name": "stdout",
     "output_type": "stream",
     "text": [
      "1.22474487139 1.29903810568 1.5 2.3864853865\n"
     ]
    }
   ],
   "source": [
    "print x,y,z,x*y*z"
   ]
  },
  {
   "cell_type": "code",
   "execution_count": 13,
   "metadata": {
    "collapsed": false
   },
   "outputs": [],
   "source": [
    "a=np.array([0,1,2,3])"
   ]
  },
  {
   "cell_type": "code",
   "execution_count": 14,
   "metadata": {
    "collapsed": false
   },
   "outputs": [
    {
     "data": {
      "text/plain": [
       "array([0, 1, 2])"
      ]
     },
     "execution_count": 14,
     "metadata": {},
     "output_type": "execute_result"
    }
   ],
   "source": [
    "np.delete(a,-1)"
   ]
  },
  {
   "cell_type": "code",
   "execution_count": null,
   "metadata": {
    "collapsed": true
   },
   "outputs": [],
   "source": []
  }
 ],
 "metadata": {
  "anaconda-cloud": {},
  "kernelspec": {
   "display_name": "Python 2",
   "language": "python",
   "name": "python2"
  },
  "language_info": {
   "codemirror_mode": {
    "name": "ipython",
    "version": 2
   },
   "file_extension": ".py",
   "mimetype": "text/x-python",
   "name": "python",
   "nbconvert_exporter": "python",
   "pygments_lexer": "ipython2",
   "version": "2.7.10"
  }
 },
 "nbformat": 4,
 "nbformat_minor": 1
}
