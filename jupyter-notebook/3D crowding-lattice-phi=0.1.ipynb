{
 "cells": [
  {
   "cell_type": "code",
   "execution_count": 1,
   "metadata": {
    "collapsed": false
   },
   "outputs": [],
   "source": [
    "%matplotlib inline\n",
    "from ecell4 import *\n",
    "import numpy as np\n",
    "import math\n",
    "import time\n",
    "import matplotlib.pylab as plt\n",
    "from ecell4.lattice import LatticeWorld as world_type, LatticeSimulator as simulator_type\n",
    "start_time=time.time()"
   ]
  },
  {
   "cell_type": "code",
   "execution_count": 2,
   "metadata": {
    "collapsed": false
   },
   "outputs": [
    {
     "name": "stdout",
     "output_type": "stream",
     "text": [
      "phiA=0.000262\n",
      "td=1.66666666667e-05\n",
      "total voxels=1403000\n"
     ]
    }
   ],
   "source": [
    "length=1e-6\n",
    "Dc=1e-12 #diffusion constant\n",
    "voxels=\"5e-9\"# voxel radius size\n",
    "radius=\"5e-9\"# radius of the species\n",
    "vm= (4.0/3.0) * math.pi * float(radius)**3 #volume of each molecule\n",
    "phi=0.1 #crowder volume fraction\n",
    "Na=500 #number of molec A\n",
    "intvl=1e-5 #observation interval (smaller than td)\n",
    "simdrtn=1e-1 #simulation duration\n",
    "\n",
    "w = world_type(Real3(length,length,length),float(voxels))\n",
    "Vt= w.volume() #total volume\n",
    "Nc=Vt*phi/vm #number of crowder\n",
    "phiA=Na*vm/Vt#volume fraction of molec A\n",
    "nump=round((simdrtn/intvl)+1) #number of points/steps\n",
    "print('phiA=%f' %(phiA))\n",
    "td=(2*float(radius))**2/(6*Dc)#t=2rv^2/3D\n",
    "print('td=%s' %td)\n",
    "print('total voxels=%i' %(w.col_size()*w.layer_size()*w.row_size()))\n"
   ]
  },
  {
   "cell_type": "code",
   "execution_count": 3,
   "metadata": {
    "collapsed": false,
    "scrolled": false
   },
   "outputs": [
    {
     "name": "stdout",
     "output_type": "stream",
     "text": [
      "num of A= 500\n",
      "num of crowder= 190985\n",
      "fraction of crowder= 0.100000\n"
     ]
    }
   ],
   "source": [
    "m = NetworkModel()\n",
    "m.add_species_attribute(Species(\"A\", radius, str(Dc)))\n",
    "m.add_species_attribute(Species(\"B\", radius, \"0\"))\n",
    "#estimated time for the next diffusion walk to neighboring voxel\n",
    "\n",
    "w.bind_to(m)\n",
    "w.add_molecules(Species(\"A\"), Na)\n",
    "w.add_molecules(Species(\"B\"), Nc)\n",
    "\n",
    "print 'num of A= %i' %Na\n",
    "print 'num of crowder= %i' %Nc\n",
    "print 'fraction of crowder= %f' %phi"
   ]
  },
  {
   "cell_type": "code",
   "execution_count": 31,
   "metadata": {
    "collapsed": false
   },
   "outputs": [],
   "source": [
    "#viz.plot_world(w)"
   ]
  },
  {
   "cell_type": "code",
   "execution_count": 32,
   "metadata": {
    "collapsed": false
   },
   "outputs": [],
   "source": [
    "pids = [pid for pid, p in w.list_particles(Species(\"A\"))] #particle IDs\n",
    "sim = simulator_type(m, w)\n",
    "obs = FixedIntervalTrajectoryObserver(intvl, pids) #log the particle' position\n",
    "sim.run(simdrtn, obs)#run simulation"
   ]
  },
  {
   "cell_type": "code",
   "execution_count": 33,
   "metadata": {
    "collapsed": false
   },
   "outputs": [],
   "source": [
    "#viz.plot_trajectory(obs)"
   ]
  },
  {
   "cell_type": "code",
   "execution_count": 34,
   "metadata": {
    "collapsed": false,
    "scrolled": false
   },
   "outputs": [],
   "source": [
    "msd=np.zeros(int(nump),float) #zeros array for initiation of sum of squared displacement\n",
    "data=obs.data()\n",
    "for i in range(Na):\n",
    "    msd += np.array(\n",
    "        [np.linalg.norm(np.array(tuple(pos)) - np.array(tuple(data[i][0]))) ** 2\n",
    "             for pos in data[i]]) \n",
    "    #print i\n",
    "msd/=Na\n"
   ]
  },
  {
   "cell_type": "code",
   "execution_count": 35,
   "metadata": {
    "collapsed": false
   },
   "outputs": [
    {
     "name": "stdout",
     "output_type": "stream",
     "text": [
      "voxel size: 5e-09\n",
      "particle radius: 5e-09\n",
      "diffusion constant: 1e-12\n",
      "number of A particles: 500\n",
      "volume fraction of crowder=0.000262\n",
      "number of crowders: 190985\n",
      "volume fraction of crowder: 0.100000\n",
      "run time = 127 second\n"
     ]
    }
   ],
   "source": [
    "t=np.linspace(0,simdrtn,nump) #sim time, start,end,interval\n",
    "f=open('msd_crowding_phi'+str(phi),'w')\n",
    "f.writelines('%.16e %e %e \\n'  %(Dc,length,float(voxels)))\n",
    "for i in range(len(t)):\n",
    "    f.write('%.16e %.16e \\n' %(t[i],msd[i]))\n",
    "f.close()\n",
    "\n",
    "print 'voxel size: %s' %float(voxels)\n",
    "print 'particle radius: %s' %float(radius)\n",
    "print 'diffusion constant: %s' %Dc\n",
    "print 'number of A particles: %i' %Na\n",
    "print('volume fraction of crowder=%f' %(phiA))\n",
    "print 'number of crowders: %i' %Nc\n",
    "print 'volume fraction of crowder: %f' %phi\n",
    "print(\"run time = %i second\" %(time.time()-start_time))"
   ]
  },
  {
   "cell_type": "code",
   "execution_count": 36,
   "metadata": {
    "collapsed": false
   },
   "outputs": [
    {
     "name": "stdout",
     "output_type": "stream",
     "text": [
      "[  4.90906320e-12   2.48924474e-15]\n",
      "D=[8.1817720011718677e-13]\n"
     ]
    },
    {
     "data": {
      "image/png": "[encoded data removed]",
      "text/plain": [
       "<matplotlib.figure.Figure at 0x7f67fecc4ad0>"
      ]
     },
     "metadata": {},
     "output_type": "display_data"
    }
   ],
   "source": [
    "plt.plot(t,msd,\"k-\") #plot graph\n",
    "p=np.polyfit(t,msd,1) #fit using linear eqtn\n",
    "print p\n",
    "plt.plot(t,6*Dc*t,'g-')  #theoretical line\n",
    "plt.xlabel(\"time\")\n",
    "plt.ylabel(\"msd\")\n",
    "print(\"D=%s\" %[p[0]/6])"
   ]
  },
  {
   "cell_type": "code",
   "execution_count": null,
   "metadata": {
    "collapsed": true
   },
   "outputs": [],
   "source": []
  }
 ],
 "metadata": {
  "kernelspec": {
   "display_name": "Python [default]",
   "language": "python",
   "name": "python2"
  },
  "language_info": {
   "codemirror_mode": {
    "name": "ipython",
    "version": 2
   },
   "file_extension": ".py",
   "mimetype": "text/x-python",
   "name": "python",
   "nbconvert_exporter": "python",
   "pygments_lexer": "ipython2",
   "version": "2.7.12"
  }
 },
 "nbformat": 4,
 "nbformat_minor": 0
}
