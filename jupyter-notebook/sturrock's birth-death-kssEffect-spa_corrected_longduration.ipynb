{
 "cells": [
  {
   "cell_type": "code",
   "execution_count": 18,
   "metadata": {
    "scrolled": true
   },
   "outputs": [
    {
     "name": "stdout",
     "output_type": "stream",
     "text": [
      "spa\n",
      "Nb 1 Na 5\n",
      "rm=0.005,D=0.1\n",
      "kon=0.1,ka=0.17,kd=0.0251,keff=0.0219,kfactor=6.76,V=1.05\n",
      "mean [A] 5.02929009285\n"
     ]
    }
   ],
   "source": [
    "from ecell4 import *\n",
    "from ecell4.extra import ensemble\n",
    "import numpy as np\n",
    "import matplotlib.pylab as plt\n",
    "%matplotlib inline\n",
    "\n",
    "duration = 10000\n",
    "L=cbrt(100)\n",
    "Ca=5.\n",
    "Cb=1.\n",
    "k0= 0.1\n",
    "\n",
    "def write(name,obs):\n",
    "    f=open(name,'w')\n",
    "    data = np.array(obs.data()).T\n",
    "    np.savetxt(name,np.column_stack([data[0],data[1]]),delimiter=',',fmt='%s')\n",
    "    f.close()        \n",
    "    print('saving into',name)        \n",
    "\n",
    "def singlerun(rm,D,solver='ode',intrinsic=False):   \n",
    "    print(solver)\n",
    "    V = L**3 \n",
    "    if solver=='spa':\n",
    "        solver=(\"spatiocyte\",rm*1.0208582)\n",
    "        V=spatiocyte.SpatiocyteWorld.calculate_volume(Real3(L,L,L),rm*1.0208582)    \n",
    "    elif solver=='G':\n",
    "        solver = (\"gillespie\")\n",
    "    Nb=int(Cb*V)\n",
    "    Na=int(Ca*V)\n",
    "    keff = k0/(Nb/V)/(Na/V)\n",
    "    print('Nb',Nb,'Na',Na)\n",
    "    kd = 4*np.pi*rm*2*D*2\n",
    "    ka = keff*kd/(kd-keff)\n",
    "    dt = (2*rm*1.0208582)**2 / (6*D)\n",
    "    assert(ka>0)\n",
    "    with species_attributes():\n",
    "        A | {'D': D, 'radius':rm*1.0208582  }\n",
    "        B | {'D': D, 'radius':rm*1.0208582  }\n",
    "\n",
    "    with reaction_rules():\n",
    "        ~A > A | k0\n",
    "        A + B >B | (ka if intrinsic else keff)\n",
    "    m = get_model()\n",
    "    w = spatiocyte.SpatiocyteWorld(Real3(L,L,L),rm*1.0208582)\n",
    "    w.bind_to(m)\n",
    "    w.add_molecules(Species('B'),Nb)\n",
    "    w.add_molecules(Species('A'),Na)\n",
    "    sim = spatiocyte.SpatiocyteSimulator(w)    \n",
    "    print('rm={:.3},D={:.3}'.format(rm,D))\n",
    "    print('kon={:.3},ka={:.3},kd={:.3},keff={:.3},kfactor={:.3},V={:.3}'.format(k0,ka,kd,keff,ka/kd,V))\n",
    "    obs = FixedIntervalNumberObserver(dt, ['A'])\n",
    "    sim.run(duration,obs)\n",
    "    data = np.array(obs.data()).T\n",
    "    print('mean [A]',np.mean(data[1][50:])/V)   \n",
    "    #write('/home/chew/outputdata/sturrock_bd_{}_rm{:.3}_D{:.3}_L{:.3}b_dur{}'.format('spa',rm,D,L,duration),obs)\n",
    "    return obs\n",
    "\n",
    "for job in [[0.05,0.1]]:#[[0.02,0.02],[0.05,0.01]]:#[0.05,0.1],[0.05,0.01]]:\n",
    "    obs=singlerun(job[0],job[1],'spa',True)\n",
    "    #obs=singlerun(job[0],job[1],'G',False,simrun)\n",
    "\n",
    "    "
   ]
  },
  {
   "cell_type": "code",
   "execution_count": 19,
   "metadata": {},
   "outputs": [
    {
     "data": {
      "image/png": "[encoded data removed]",
      "text/plain": [
       "<matplotlib.figure.Figure at 0x7f299f397898>"
      ]
     },
     "metadata": {},
     "output_type": "display_data"
    }
   ],
   "source": [
    "#viz.plot_number_observer(obs4,'r.',obs2,'g.',obs3,'k-',obs5,'y-',obs6,'c-')\n",
    "viz.plot_number_observer(obs,'r.')"
   ]
  },
  {
   "cell_type": "code",
   "execution_count": 18,
   "metadata": {},
   "outputs": [
    {
     "data": {
      "text/plain": [
       "[<matplotlib.lines.Line2D at 0x7f4a6c605d68>]"
      ]
     },
     "execution_count": 18,
     "metadata": {},
     "output_type": "execute_result"
    },
    {
     "data": {
      "image/png": "[encoded data removed]",
      "text/plain": [
       "<matplotlib.figure.Figure at 0x7f4a6c523160>"
      ]
     },
     "metadata": {},
     "output_type": "display_data"
    }
   ],
   "source": [
    "data = np.array(obs.data()).T\n",
    "plt.plot(data[1][-500:],'.')"
   ]
  },
  {
   "cell_type": "code",
   "execution_count": 5,
   "metadata": {},
   "outputs": [
    {
     "data": {
      "text/plain": [
       "5.0606000000000018"
      ]
     },
     "execution_count": 5,
     "metadata": {},
     "output_type": "execute_result"
    }
   ],
   "source": [
    "np.array(obs.data()).T[1][-1]/L**3"
   ]
  },
  {
   "cell_type": "code",
   "execution_count": null,
   "metadata": {},
   "outputs": [],
   "source": [
    "5.265"
   ]
  }
 ],
 "metadata": {
  "anaconda-cloud": {},
  "kernelspec": {
   "display_name": "Python 3",
   "language": "python",
   "name": "python3"
  }
 },
 "nbformat": 4,
 "nbformat_minor": 1
}
