{
 "cells": [
  {
   "cell_type": "code",
   "execution_count": 24,
   "metadata": {
    "collapsed": false
   },
   "outputs": [
    {
     "name": "stdout",
     "output_type": "stream",
     "text": [
      "0.083271\n",
      "0.0833333333333\n"
     ]
    }
   ],
   "source": [
    "import sys\n",
    "import numpy as np\n",
    "from numpy import pi, sqrt, inf, log\n",
    "from ecell4 import *\n",
    "\n",
    "\n",
    "#def exprnd(mu):\n",
    "#    return log(1.0 / w.rng().uniform(0, 1)) * mu\n",
    "\n",
    "def exprnd(mu):\n",
    "    return np.random.exponential(mu)  \n",
    "\n",
    "L = 100\n",
    "voxel_radius = 0.005\n",
    "D = 1\n",
    "rng = GSLRandomNumberGenerator()\n",
    "rng.seed(1)\n",
    "#if len(sys.argv) > 1:\n",
    "#    rng.seed(int(sys.argv[1]))\n",
    "\n",
    "w = spatiocyte.create_spatiocyte_world_cell_list_impl(ones() * L, voxel_radius, Integer3(3, 3, 3), rng)\n",
    "\n",
    "def singlerun(dt, Pacc):\n",
    "    assert Pacc  <= 1\n",
    "\n",
    "    coord1 = w.position2coordinate(ones() * L * 0.5)\n",
    "    coord2 = w.get_neighbor(coord1, 0)\n",
    "\n",
    "    dt = dt\n",
    "    t, nsteps = 0.0, 0\n",
    "    while nsteps < maxstep:\n",
    "        rnd = w.rng().uniform_int(0, 11)\n",
    "        newcoord = w.get_neighbor(coord2, rnd)\n",
    "        if newcoord == coord1:\n",
    "            #if Pacc >= w.rng().uniform(0, 1):\n",
    "                return True\n",
    "        else:\n",
    "            coord2 = newcoord\n",
    "        t += dt\n",
    "        nsteps += 1\n",
    "    return False\n",
    "\n",
    "kD = 4 * pi * (2 * voxel_radius) * D\n",
    "ka_factor = 0.1  # 100.0\n",
    "ka = kD * ka_factor\n",
    "Pacc = 1#ka / (6 * sqrt(2) * D * voxel_radius)\n",
    "dt = (4 * voxel_radius * voxel_radius) / (6 * D)\n",
    "\n",
    "maxstep= 1#int(float(L*0.5/voxel_radius))\n",
    "ntrials = 1000000\n",
    "res = [singlerun(dt, Pacc) for _ in range(ntrials)]\n",
    "#res = [singlerun3(dt, Pacc) for _ in range(ntrials)]\n",
    "#print 'preb',1./(1+1./ka_factor)\n",
    "print float(res.count(True)) / len(res)\n",
    "#times = np.array([i for i in res if i != None])\n",
    "#print float(len(times))/ntrials\n",
    "#print float(len(times[times<dt]))/ntrials\n",
    "print 1./12"
   ]
  },
  {
   "cell_type": "code",
   "execution_count": 23,
   "metadata": {
    "collapsed": false
   },
   "outputs": [
    {
     "name": "stdout",
     "output_type": "stream",
     "text": [
      "-0.916792\n"
     ]
    }
   ],
   "source": [
    "a=1./12\n",
    "print 0.083208-a/a"
   ]
  },
  {
   "cell_type": "code",
   "execution_count": 11,
   "metadata": {
    "collapsed": false
   },
   "outputs": [
    {
     "name": "stdout",
     "output_type": "stream",
     "text": [
      "0.0926296515259\n"
     ]
    }
   ],
   "source": [
    "R=0.256318\n",
    "print 1./(1+(1./R-1)/Pacc)"
   ]
  },
  {
   "cell_type": "code",
   "execution_count": 63,
   "metadata": {
    "collapsed": false
   },
   "outputs": [
    {
     "data": {
      "image/png": "[encoded data removed]",
      "text/plain": [
       "<matplotlib.figure.Figure at 0x7fb8e2f0b150>"
      ]
     },
     "metadata": {},
     "output_type": "display_data"
    }
   ],
   "source": [
    "%matplotlib inline\n",
    "import matplotlib.pyplot as plt\n",
    "def plothist(times):\n",
    "    hist, bin_edges = np.histogram(times,bins=np.logspace(np.log10(min(times)),np.log10(max(times)),30))\n",
    "    tt = 0.5*(bin_edges[:-1]+bin_edges[1:])\n",
    "    binwid = -(bin_edges[:-1]-bin_edges[1:])\n",
    "    ft = np.array([float(h)/ntrials/b for h,b in zip(hist,binwid)])\n",
    "    plt.loglog(tt,ft,'.')\n",
    "    z = lambda x: 1e-3*(x**-1.5) #t^(-0.5)\n",
    "    #w = lambda x: 0.1*(x**-0.5) #t^(-0.5)\n",
    "    plt.plot(np.logspace(-6,-3,50),z(np.logspace(-6,-3,50)),label='p ~ t^-1.5')\n",
    "    #plt.plot(np.logspace(-6,1,50),w(np.logspace(-6,1,50)),'r',label='p ~ t^-0.5')\n",
    "    prange = np.logspace(1,6,10)\n",
    "    plt.plot([dt]*len(prange),prange,'c')\n",
    "    plt.xlabel('step')\n",
    "    plt.ylabel('first return prob density')\n",
    "    #totalsum = sum(ft*binwid)\n",
    "    \n",
    "plothist(times)\n",
    "plothist(times2)"
   ]
  },
  {
   "cell_type": "code",
   "execution_count": 17,
   "metadata": {
    "collapsed": false
   },
   "outputs": [
    {
     "name": "stdout",
     "output_type": "stream",
     "text": [
      "68.1242050518 1.66666666667e-05\n",
      "0.998631012351\n"
     ]
    }
   ],
   "source": [
    "ka_factor = 1.  # 100.0\n",
    "ka = kD * ka_factor\n",
    "Pa = ka / (6 * sqrt(2) * D * voxel_radius)\n",
    "print Pa,dt\n",
    "print (1-np.exp(-(Pa+11)/12))"
   ]
  },
  {
   "cell_type": "code",
   "execution_count": 16,
   "metadata": {
    "collapsed": false
   },
   "outputs": [
    {
     "data": {
      "text/plain": [
       "23.570226039551578"
      ]
     },
     "execution_count": 16,
     "metadata": {},
     "output_type": "execute_result"
    }
   ],
   "source": [
    "1. / (6 * sqrt(2) * D * voxel_radius)"
   ]
  },
  {
   "cell_type": "code",
   "execution_count": 25,
   "metadata": {
    "collapsed": false
   },
   "outputs": [],
   "source": [
    "for i in range(1000000):\n",
    "    z=w.rng().uniform(1e-12, 1)\n",
    "    k=1./z\n",
    "    if (z==0): print z"
   ]
  },
  {
   "cell_type": "code",
   "execution_count": 32,
   "metadata": {
    "collapsed": false
   },
   "outputs": [
    {
     "data": {
      "text/plain": [
       "array([   1.01816347,    9.92896175,  110.11111111])"
      ]
     },
     "execution_count": 32,
     "metadata": {},
     "output_type": "execute_result"
    }
   ],
   "source": [
    "P=np.array([0.5045,0.9085,0.991])\n",
    "1./(1./P-1)"
   ]
  },
  {
   "cell_type": "code",
   "execution_count": 46,
   "metadata": {
    "collapsed": false
   },
   "outputs": [
    {
     "data": {
      "text/plain": [
       "0.758216356244977"
      ]
     },
     "execution_count": 46,
     "metadata": {},
     "output_type": "execute_result"
    }
   ],
   "source": [
    "1-(((1./0.256318)-1)/12)"
   ]
  },
  {
   "cell_type": "code",
   "execution_count": 59,
   "metadata": {
    "collapsed": false
   },
   "outputs": [
    {
     "data": {
      "text/plain": [
       "10000.0"
      ]
     },
     "execution_count": 59,
     "metadata": {},
     "output_type": "execute_result"
    }
   ],
   "source": [
    "100./0.01"
   ]
  },
  {
   "cell_type": "code",
   "execution_count": 9,
   "metadata": {
    "collapsed": false
   },
   "outputs": [
    {
     "data": {
      "text/plain": [
       "10000.0"
      ]
     },
     "execution_count": 9,
     "metadata": {},
     "output_type": "execute_result"
    }
   ],
   "source": [
    "50/0.005"
   ]
  },
  {
   "cell_type": "code",
   "execution_count": null,
   "metadata": {
    "collapsed": true
   },
   "outputs": [],
   "source": []
  }
 ],
 "metadata": {
  "kernelspec": {
   "display_name": "Python 2",
   "language": "python",
   "name": "python2"
  },
  "language_info": {
   "codemirror_mode": {
    "name": "ipython",
    "version": 2
   },
   "file_extension": ".py",
   "mimetype": "text/x-python",
   "name": "python",
   "nbconvert_exporter": "python",
   "pygments_lexer": "ipython2",
   "version": "2.7.10"
  }
 },
 "nbformat": 4,
 "nbformat_minor": 2
}
