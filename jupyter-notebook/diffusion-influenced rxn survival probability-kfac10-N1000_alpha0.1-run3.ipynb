{
 "cells": [
  {
   "cell_type": "code",
   "execution_count": 1,
   "metadata": {
    "collapsed": false,
    "scrolled": true
   },
   "outputs": [
    {
     "name": "stdout",
     "output_type": "stream",
     "text": [
      "L 1.0\n",
      "Vr 1.03744444194\n",
      "1.25663706144 0.125663706144 0.114239732858\n",
      "phi 0.136317040721 phir 0.136317040721\n"
     ]
    }
   ],
   "source": [
    "%matplotlib inline\n",
    "from ecell4 import *\n",
    "import numpy as np\n",
    "import math\n",
    "import matplotlib.pyplot as plt\n",
    "\n",
    "k_factor = 10\n",
    "voxelr = 0.005  \n",
    "L = 200*voxelr\n",
    "print 'L',L\n",
    "D = 1\n",
    "kd= 4.0*math.pi*D*2*voxelr\n",
    "ka = k_factor*kd\n",
    "kon = (ka*kd)/(ka+kd)\n",
    "tm =(2*voxelr)**2/(6*D)\n",
    "N = 1000\n",
    "duration = 0.04#-math.log(0.00001)/N/kon\n",
    "dt=tm*10\n",
    "w = spatiocyte.SpatiocyteWorld(ones()*L,voxelr)\n",
    "Vr = w.calculate_volume(ones()*L,voxelr)\n",
    "lx,ly,lz = tuple(w.calculate_shape(ones()*L,voxelr))\n",
    "Nv = lx*ly*lz\n",
    "vv = w.calculate_voxel_volume(voxelr)\n",
    "phi = 2.*N/Nv\n",
    "print 'Vr',Vr\n",
    "print ka,kd,kon\n",
    "print 'phi',phi*100,'phir',2*N*100*vv/Vr\n",
    "\n"
   ]
  },
  {
   "cell_type": "code",
   "execution_count": 2,
   "metadata": {
    "collapsed": false
   },
   "outputs": [
    {
     "name": "stdout",
     "output_type": "stream",
     "text": [
      "0.0122202692353\n"
     ]
    },
    {
     "data": {
      "text/plain": [
       "[<matplotlib.lines.Line2D at 0x7fd3fdb6d590>]"
      ]
     },
     "execution_count": 2,
     "metadata": {},
     "output_type": "execute_result"
    },
    {
     "data": {
      "image/png": "[encoded data removed]",
      "text/plain": [
       "<matplotlib.figure.Figure at 0x7fd4201c6790>"
      ]
     },
     "metadata": {},
     "output_type": "display_data"
    }
   ],
   "source": [
    "with reaction_rules():#for ODE\n",
    "    A +B > B | kon\n",
    "\n",
    "m1 = get_model()\n",
    "\n",
    "ode = np.array(run_simulation(duration, model=m1, y0={'A': N,'B': N}, solver='ode', volume=Vr, return_type='array'))\n",
    "to = ode[:,0]\n",
    "nao = ode[:,1]\n",
    "print nao[-1]/N\n",
    "plt.plot(to,nao/N,'g--')"
   ]
  },
  {
   "cell_type": "code",
   "execution_count": 3,
   "metadata": {
    "collapsed": false
   },
   "outputs": [],
   "source": [
    "with species_attributes():\n",
    "    A |  {'D': str(0), 'radius':str(voxelr)}\n",
    "    B |  {'D': str(D), 'radius':str(voxelr)}\n",
    "\n",
    "with reaction_rules():#for spa and egfrd\n",
    "    A + B > B | ka\n",
    "\n",
    "m2 = get_model()\n",
    "\n",
    "def singlerun(i,run):\n",
    "    rng = GSLRandomNumberGenerator()\n",
    "    if run==0:    rng.seed(i)\n",
    "    else: rng.seed(i+run)\n",
    "    #w = spatiocyte.create_spatiocyte_world_cell_list_impl(ones() * L, voxelr, Integer3(3, 3, 3), rng)\n",
    "    w = spatiocyte.SpatiocyteWorld(ones()*L,voxelr,rng)\n",
    "    w.bind_to(m2)\n",
    "    #ll= tuple(w.actual_lengths())\n",
    "    #print ll[0]*ll[1]*ll[2]\n",
    "    w.add_molecules(Species('A'), N)\n",
    "    w.add_molecules(Species('B'), N)\n",
    "    obs = FixedIntervalNumberObserver(dt, ('A'))\n",
    "    sim = spatiocyte.SpatiocyteSimulator(w)\n",
    "    sim.initialize()\n",
    "    sim.run(duration, obs)    \n",
    "    return np.array(obs.data())\n",
    "\n"
   ]
  },
  {
   "cell_type": "code",
   "execution_count": null,
   "metadata": {
    "collapsed": false
   },
   "outputs": [],
   "source": [
    "def runspa(run,clus):   \n",
    "    for i in range(run):       \n",
    "        if clus==0: spa = singlerun(i,0)\n",
    "        else: spa=singlerun(i,run)\n",
    "        if i==0:         \n",
    "            n = spa[:,1]        \n",
    "        else:\n",
    "            n+=spa[:,1]   \n",
    "    ts = spa[:,0]\n",
    "    return ts,n/run\n"
   ]
  },
  {
   "cell_type": "code",
   "execution_count": null,
   "metadata": {
    "collapsed": false
   },
   "outputs": [],
   "source": [
    "run = 50000\n",
    "#te,nae = rungtest(run)\n",
    "#print len(te)\n",
    "ts,nas = runspa(run,1)\n",
    "mean = nas"
   ]
  },
  {
   "cell_type": "code",
   "execution_count": null,
   "metadata": {
    "collapsed": false
   },
   "outputs": [],
   "source": [
    "#mean = np.mean(nas,axis=0)\n",
    "#std = np.std(nas,axis=0)"
   ]
  },
  {
   "cell_type": "code",
   "execution_count": null,
   "metadata": {
    "collapsed": false
   },
   "outputs": [],
   "source": [
    "#plt.errorbar(ts,mean,std,fmt=' ',marker='.')\n",
    "plt.plot(ts,mean,'.')\n",
    "plt.plot(to,nao,'r--')\n",
    "print mean[-10:]"
   ]
  },
  {
   "cell_type": "code",
   "execution_count": null,
   "metadata": {
    "collapsed": false
   },
   "outputs": [],
   "source": [
    "l=2\n",
    "print 'dt',ts[l]-ts[0],tm\n",
    "ks = -Vr *(mean[l:]-mean[:-l])/mean[:-l]/(ts[l]-ts[0])/N\n",
    "plt.plot(ts[int(l*0.5):-int(l*0.5)],ks,'.')\n",
    "Pacc = ka / (6 * math.sqrt(2) * D * voxelr)\n",
    "print Pacc\n",
    "r0=0.256318\n",
    "kefftheory = 3*(2**0.5)*D*2*voxelr*(1/r0 -1)*Pacc/(Pacc+1/r0 -1)\n",
    "plt.plot(ts,[kon]*len(ts),label='keff')\n",
    "plt.plot(ts,[kefftheory]*len(ts),label='keff_theory')\n",
    "plt.legend()\n",
    "print ka,kon,kefftheory\n",
    "km = np.mean(ks[-50:])\n",
    "print km"
   ]
  },
  {
   "cell_type": "code",
   "execution_count": null,
   "metadata": {
    "collapsed": false,
    "scrolled": true
   },
   "outputs": [],
   "source": [
    "#C =1.02085\n",
    "#r0=0.256318\n",
    "#voxelr = 0.005/C\n",
    "#kd = 4*np.pi*4*D*voxelr\n",
    "#kaa = k_factor*4.0*math.pi*D*4*0.005\n",
    "#ka = kaa*kd/(3*2**0.5 *D*4*0.005*(1/r0 -1))\n",
    "#kon = (ka*kd)/(ka+kd)\n",
    "\n",
    "#import scipy.integrate as integrate\n",
    "def Phi(xx):\n",
    "    return 1./( (377.*xx/324)+(1+ (314.*(xx**2)/847) )**0.5)\n",
    "\n",
    "tau = ((ka*2*voxelr/(ka+kd))**2)/(D)\n",
    "#tt= np.linspace(0,0.5,1e3)\n",
    "#def kt(t):\n",
    "#    x=ka*((t/tau)**(0.5))/kd\n",
    "#    return kon*(1+(ka*phi(x)/kd))\n",
    "#intkt = [integrate.quad(lambda t: kt(t),0,T)[0] for T in tt] \n",
    "\n",
    "tt=ts\n",
    "intkt = [kon*(t+tau*((kd/ka)*(Phi(ka*((t/tau)**(0.5))/kd)-1)+2*(math.sqrt(t/np.pi/tau)))) for t in tt]\n",
    "\n",
    "st = [math.exp(-ik*N/Vr) for ik in intkt]\n",
    "#plt.errorbar(ts,mean/N,std/N,fmt=' ',marker='.')\n",
    "plt.plot(ts,mean/N,'k')\n",
    "plt.plot(tt,st,'c-')\n",
    "plt.plot(to,nao/N,'r--')\n",
    "#plt.ylim(0.4,1)"
   ]
  },
  {
   "cell_type": "code",
   "execution_count": null,
   "metadata": {
    "collapsed": false
   },
   "outputs": [],
   "source": [
    "diff = (st-mean/N)*100/(st)\n",
    "plt.plot(ts,diff,'.')\n",
    "print np.mean(diff)"
   ]
  },
  {
   "cell_type": "code",
   "execution_count": null,
   "metadata": {
    "collapsed": true
   },
   "outputs": [],
   "source": []
  },
  {
   "cell_type": "code",
   "execution_count": null,
   "metadata": {
    "collapsed": true
   },
   "outputs": [],
   "source": []
  }
 ],
 "metadata": {
  "anaconda-cloud": {},
  "kernelspec": {
   "display_name": "Python 2",
   "language": "python",
   "name": "python2"
  },
  "language_info": {
   "codemirror_mode": {
    "name": "ipython",
    "version": 2
   },
   "file_extension": ".py",
   "mimetype": "text/x-python",
   "name": "python",
   "nbconvert_exporter": "python",
   "pygments_lexer": "ipython2",
   "version": "2.7.10"
  }
 },
 "nbformat": 4,
 "nbformat_minor": 1
}
