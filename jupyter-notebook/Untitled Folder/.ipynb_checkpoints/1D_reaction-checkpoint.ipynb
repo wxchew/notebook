{
 "cells": [
  {
   "cell_type": "code",
   "execution_count": 2,
   "metadata": {},
   "outputs": [],
   "source": [
    "import numpy as np\n",
    "import math\n",
    "import matplotlib.pyplot as plt\n",
    "from numpy import random"
   ]
  },
  {
   "cell_type": "code",
   "execution_count": 29,
   "metadata": {
    "scrolled": false
   },
   "outputs": [
    {
     "data": {
      "text/plain": [
       "(array([2829., 1317., 1068.,  953.,  800.,  692.,  645.,  580.,  553.,\n",
       "         563.]),\n",
       " array([  1. ,  20.9,  40.8,  60.7,  80.6, 100.5, 120.4, 140.3, 160.2,\n",
       "        180.1, 200. ]),\n",
       " <a list of 10 Patch objects>)"
      ]
     },
     "execution_count": 29,
     "metadata": {},
     "output_type": "execute_result"
    },
    {
     "data": {
      "image/png": "[encoded data removed]",
      "text/plain": [
       "<Figure size 432x288 with 1 Axes>"
      ]
     },
     "metadata": {},
     "output_type": "display_data"
    }
   ],
   "source": [
    "L=100\n",
    "N=10000\n",
    "#traj = [x]\n",
    "dur = 2*L\n",
    "ST = []\n",
    "#time=[]\n",
    "def singlerun(P):\n",
    "    step = 0\n",
    "    x=0\n",
    "    while x==0:\n",
    "        x=random.randint(-L,L,1)   \n",
    "    while step<dur:\n",
    "        #print('x',x)\n",
    "        inc = (-1)**np.random.randint(2, size=1)\n",
    "        #print('inc',inc)\n",
    "        nxt = x+inc[0]\n",
    "        #print('nxt',nxt)\n",
    "        step+=1\n",
    "        if nxt==0:\n",
    "            #print('at 0')\n",
    "            r = random.uniform(0,1)\n",
    "            #print(r)\n",
    "            if r<P:\n",
    "                #print('reach')\n",
    "                x=0\n",
    "                return step\n",
    "        else: x=nxt\n",
    "        #traj.append(x)\n",
    "        #time.append(step)\n",
    "    return None\n",
    "        \n",
    "while N>0:\n",
    "    out = singlerun(1)\n",
    "    if out!=None:\n",
    "        ST.append(out)\n",
    "        N-=1\n",
    "plt.hist(ST)\n",
    "#print(ST,len(ST))\n",
    "#plt.plot(time,traj,'o-')\n"
   ]
  },
  {
   "cell_type": "code",
   "execution_count": 109,
   "metadata": {},
   "outputs": [
    {
     "data": {
      "text/plain": [
       "array([0.])"
      ]
     },
     "execution_count": 109,
     "metadata": {},
     "output_type": "execute_result"
    }
   ],
   "source": [
    "a=np.array([1,0])\n",
    "np.zeros(2)[a==0]"
   ]
  },
  {
   "cell_type": "code",
   "execution_count": 18,
   "metadata": {},
   "outputs": [
    {
     "name": "stdout",
     "output_type": "stream",
     "text": [
      "0\n",
      "[0]\n",
      "[0]\n",
      "[0]\n",
      "[-1]\n"
     ]
    }
   ],
   "source": [
    "r=0\n",
    "\n",
    "    \n",
    "print(r)"
   ]
  },
  {
   "cell_type": "code",
   "execution_count": null,
   "metadata": {},
   "outputs": [],
   "source": []
  }
 ],
 "metadata": {
  "kernelspec": {
   "display_name": "Python 3",
   "language": "python",
   "name": "python3"
  },
  "language_info": {
   "codemirror_mode": {
    "name": "ipython",
    "version": 3
   },
   "file_extension": ".py",
   "mimetype": "text/x-python",
   "name": "python",
   "nbconvert_exporter": "python",
   "pygments_lexer": "ipython3",
   "version": "3.6.5"
  }
 },
 "nbformat": 4,
 "nbformat_minor": 2
}
