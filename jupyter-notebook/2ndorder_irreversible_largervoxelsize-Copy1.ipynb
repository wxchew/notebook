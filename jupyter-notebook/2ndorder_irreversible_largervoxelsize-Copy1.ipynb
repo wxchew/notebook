{
 "cells": [
  {
   "cell_type": "code",
   "execution_count": 96,
   "metadata": {
    "collapsed": false,
    "scrolled": true
   },
   "outputs": [
    {
     "name": "stdout",
     "output_type": "stream",
     "text": [
      "0.176084994627\n",
      "1.66666666667e-05\n"
     ]
    }
   ],
   "source": [
    "%matplotlib inline\n",
    "from ecell4 import *\n",
    "import numpy as np\n",
    "import math\n",
    "import matplotlib.pyplot as plt\n",
    "\n",
    "def phix(x):\n",
    "    return 1./( (377.*x/324)+(1+ (314.*(x**2)/847) )**0.5)\n",
    "\n",
    "def kt(tau):\n",
    "    tauc = ((ka*2*rm/(ka+kd))**2)/(2*Dt)\n",
    "    x = ka*((tau/tauc)**(0.5))/kd\n",
    "    return kon*(1+(ka*phix(x)/kd))\n",
    "\n",
    "rm=0.005\n",
    "D = 1\n",
    "Dt = 2*D\n",
    "L = 1#1.5\n",
    "V1 = L**3\n",
    "N=50\n",
    "kd= 4.0*math.pi*D*4*rm\n",
    "ka = 1*kd\n",
    "kon = (ka*kd)/(ka+kd)\n",
    "taum = (2./3)*(rm**2)/D\n",
    "kd= 4.0*math.pi*D*4*rm\n",
    "factor=1.5\n",
    "rv = factor*rm\n",
    "tauv = (2./3)*(rv**2)/D\n",
    "dtau = tauv - taum\n",
    "kt2 = kt(dtau)\n",
    "dt = dtau/1000#fine resolution needed for produce accurate numerical integration\n",
    "kts = [kt(t) for t in np.arange(0.0,dtau,dt)]\n",
    "intg = np.trapz(kts,dx=dt)/dtau#/ka\n",
    "print intg\n",
    "print taum"
   ]
  },
  {
   "cell_type": "code",
   "execution_count": 97,
   "metadata": {
    "collapsed": false
   },
   "outputs": [
    {
     "name": "stdout",
     "output_type": "stream",
     "text": [
      "33.3333333333\n",
      "0.188471660325\n"
     ]
    }
   ],
   "source": [
    "c = 1./(2*rm)-1./(2*rv)\n",
    "print c\n",
    "ks = ka/(1+(c*ka/4/3.14/Dt))\n",
    "print ks"
   ]
  },
  {
   "cell_type": "code",
   "execution_count": 87,
   "metadata": {
    "collapsed": false
   },
   "outputs": [],
   "source": [
    "with species_attributes():\n",
    "     A |B| {'D': str(D), 'radius':str(rm)}\n",
    "\n",
    "with reaction_rules():#for spa and egfrd\n",
    "     A + B > B | ka\n",
    "\n",
    "m = get_model()\n",
    "spa = np.array(ensemble_simulations(500, 1e-2, y0={\"A\": N,'B': N}, model=m, solver=(\"spatiocyte\", rm), volume=V1,return_type='array'))\n",
    "ts = spa[0][:,0]\n",
    "nas = np.mean(spa[:,:,1],axis=0)"
   ]
  },
  {
   "cell_type": "code",
   "execution_count": 88,
   "metadata": {
    "collapsed": false
   },
   "outputs": [
    {
     "name": "stdout",
     "output_type": "stream",
     "text": [
      "[ 6.74518849] [[ 0.00045837]]\n",
      "5e-05\n",
      "0.134903769733\n"
     ]
    },
    {
     "data": {
      "image/png": "[encoded data removed]",
      "text/plain": [
       "<matplotlib.figure.Figure at 0x7f6d3d658710>"
      ]
     },
     "metadata": {},
     "output_type": "display_data"
    }
   ],
   "source": [
    "from scipy.optimize import curve_fit\n",
    "def func(x,k):\n",
    "    return np.exp(-k*x)\n",
    "p,cov = curve_fit(func,ts,nas/N)\n",
    "plt.plot(ts,nas/N,'.',label=str(factor)+'rm')\n",
    "plt.plot(ts,func(ts,*p))\n",
    "print p,cov\n",
    "print dtau\n",
    "print p[0]*dtau/N/dtau\n",
    "kaa = p[0]*dtau/N/dtau"
   ]
  },
  {
   "cell_type": "code",
   "execution_count": 72,
   "metadata": {
    "collapsed": true
   },
   "outputs": [],
   "source": [
    "with species_attributes():\n",
    "     A |B| {'D': str(D), 'radius':str(rm)}\n",
    "\n",
    "with reaction_rules():#for spa and egfrd\n",
    "     A + B > B | ka\n",
    "\n",
    "m = get_model()\n",
    "spa1 = np.array(ensemble_simulations(20, 1, y0={\"A\": N,'B': N}, model=m, solver=(\"spatiocyte\", rm), volume=V1,return_type='array'))\n",
    "ts = spa1[0][:,0]\n",
    "nas1 = np.mean(spa1[:,:,1],axis=0)\n"
   ]
  },
  {
   "cell_type": "code",
   "execution_count": 104,
   "metadata": {
    "collapsed": false
   },
   "outputs": [
    {
     "name": "stdout",
     "output_type": "stream",
     "text": [
      "0.251327412287 0.134903769733\n"
     ]
    }
   ],
   "source": [
    "with species_attributes():\n",
    "     A |B| {'D': str(D), 'radius':str(rm)}\n",
    "\n",
    "with reaction_rules():#for spa and egfrd\n",
    "     A + B > B | ks\n",
    "\n",
    "print ka,kaa    \n",
    "m = get_model()\n",
    "spa2 = np.array(ensemble_simulations(50, 1, y0={\"A\": N,'B': N}, model=m, solver=(\"spatiocyte\", rv), volume=V1,return_type='array'))\n",
    "ts = spa2[0][:,0]\n",
    "nas2 = np.mean(spa2[:,:,1],axis=0)\n"
   ]
  },
  {
   "cell_type": "code",
   "execution_count": 105,
   "metadata": {
    "collapsed": false
   },
   "outputs": [
    {
     "name": "stdout",
     "output_type": "stream",
     "text": [
      "0.188471660325\n"
     ]
    },
    {
     "data": {
      "text/plain": [
       "[<matplotlib.lines.Line2D at 0x7f6d3d575e10>]"
      ]
     },
     "execution_count": 105,
     "metadata": {},
     "output_type": "execute_result"
    },
    {
     "data": {
      "image/png": "[encoded data removed]",
      "text/plain": [
       "<matplotlib.figure.Figure at 0x7f6d3d575750>"
      ]
     },
     "metadata": {},
     "output_type": "display_data"
    }
   ],
   "source": [
    "print ks\n",
    "plt.plot(ts,nas1,'.',label=str(factor)+'rm')\n",
    "plt.plot(ts,nas2,'-')"
   ]
  },
  {
   "cell_type": "code",
   "execution_count": null,
   "metadata": {
    "collapsed": true
   },
   "outputs": [],
   "source": []
  }
 ],
 "metadata": {
  "anaconda-cloud": {},
  "kernelspec": {
   "display_name": "Python 2",
   "language": "python",
   "name": "python2"
  },
  "language_info": {
   "codemirror_mode": {
    "name": "ipython",
    "version": 2
   },
   "file_extension": ".py",
   "mimetype": "text/x-python",
   "name": "python",
   "nbconvert_exporter": "python",
   "pygments_lexer": "ipython2",
   "version": "2.7.10"
  }
 },
 "nbformat": 4,
 "nbformat_minor": 1
}
