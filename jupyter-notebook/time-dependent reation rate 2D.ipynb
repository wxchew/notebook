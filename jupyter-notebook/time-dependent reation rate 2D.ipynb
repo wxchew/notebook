{
 "cells": [
  {
   "cell_type": "code",
   "execution_count": 27,
   "metadata": {
    "collapsed": false
   },
   "outputs": [],
   "source": [
    "%matplotlib inline\n",
    "import numpy as np\n",
    "from scipy import special,integrate\n",
    "import matplotlib.pyplot as plt"
   ]
  },
  {
   "cell_type": "code",
   "execution_count": 28,
   "metadata": {
    "collapsed": false
   },
   "outputs": [],
   "source": [
    "D=0.02\n",
    "R=0.01\n",
    "gamma=0.5772156\n",
    "ka=0.1\n",
    "tt=np.logspace(-7,3,20)\n",
    "f = lambda u,t: np.exp(-(D*t/R**2)*u**2)/u/(special.jn(0,u)**2+special.yn(0,u)**2)\n",
    "k =[8*D*(1./np.pi)*integrate.quad(f, 0, np.inf,args=(t),limit=1000,maxp1=1000)[0] for t in tt]\n",
    "#fck = lambda u: np.exp(-(D*t/R**2)*u**2)/u/((np.pi*u*special.jn(1,u)/2/ka**0.5+np.pi*ka**0.5*special.jn(0,u)/2)**2\n",
    "                                            #+(np.pi*u*special.yn(1,u)/2/ka**0.5+np.pi*ka**0.5*special.yn(0,u)/2)**2)\n",
    "#kck= [2*np.pi*ka*R*integrate.quad(fck, 0, np.inf)[0] for t in tt]\n",
    "#fck2 = lambda u: (np.exp(-D*t*u**2)-1)/u/((2*np.pi*R*D*u*special.jn(1,R*u)+ka*special.jn(0,R*u))**2\n",
    "#                                            +(2*np.pi*R*D*u*special.yn(1,R*u)+ka*special.yn(0,R*u))**2)\n",
    "#kck2= [ka+8*D*ka**2*(1./np.pi)*integrate.quad(fck2, 0, np.inf)[0] for t in tt]"
   ]
  },
  {
   "cell_type": "code",
   "execution_count": 3,
   "metadata": {
    "collapsed": false
   },
   "outputs": [],
   "source": [
    "st = lambda t: 2*np.pi*D*(1./(np.pi*D*t/R**2)**0.5 +0.5-0.25*(D*t/R**2/np.pi)**0.5)\n",
    "kst = [st(t) for t in tt]"
   ]
  },
  {
   "cell_type": "code",
   "execution_count": 4,
   "metadata": {
    "collapsed": true
   },
   "outputs": [],
   "source": [
    "lt = lambda t:2*np.pi*D*(2./(np.log(4*np.exp(-2*gamma)*D*t/R**2))-2*gamma/(np.log(4*np.exp(-2*gamma)*D*t/R**2))**2)\n",
    "klt = [lt(t) for t in tt]"
   ]
  },
  {
   "cell_type": "code",
   "execution_count": 5,
   "metadata": {
    "collapsed": false
   },
   "outputs": [],
   "source": [
    "ltck = lambda t:4*np.pi*D*(1./(np.log(4*D*t/R**2)-2*gamma+4*np.pi*D/ka)-gamma/(np.log(4*D*t/R**2)-2*gamma+4*np.pi*D/ka)**2\n",
    "                           -1.311/(np.log(4*D*t/R**2)-2*gamma+4*np.pi*D/ka)**3+0.25/(np.log(4*D*t/R**2)-2*gamma+4*np.pi*D/ka)**4)\n",
    "kltck = [ltck(t) for t in tt]                           "
   ]
  },
  {
   "cell_type": "code",
   "execution_count": 29,
   "metadata": {
    "collapsed": false
   },
   "outputs": [
    {
     "data": {
      "text/plain": [
       "<matplotlib.legend.Legend at 0x7f37051c38d0>"
      ]
     },
     "execution_count": 29,
     "metadata": {},
     "output_type": "execute_result"
    },
    {
     "data": {
      "image/png": "[encoded data removed]",
      "text/plain": [
       "<matplotlib.figure.Figure at 0x7f36fed2a4d0>"
      ]
     },
     "metadata": {},
     "output_type": "display_data"
    }
   ],
   "source": [
    "plt.loglog(tt,k,'.',label='absorbing')\n",
    "#plt.loglog(tt,kck,'o',label='ck')\n",
    "#plt.loglog(tt,kck2,'bo',label='ck2')\n",
    "#plt.loglog(tt,kltck,'g-',label='longtime ck')\n",
    "#plt.loglog(tt,kst,'g-')\n",
    "#plt.loglog(tt,klt,'r-',label='longtime absorb')\n",
    "plt.legend()"
   ]
  },
  {
   "cell_type": "code",
   "execution_count": null,
   "metadata": {
    "collapsed": true
   },
   "outputs": [],
   "source": []
  }
 ],
 "metadata": {
  "kernelspec": {
   "display_name": "Python 2",
   "language": "python",
   "name": "python2"
  },
  "language_info": {
   "codemirror_mode": {
    "name": "ipython",
    "version": 2
   },
   "file_extension": ".py",
   "mimetype": "text/x-python",
   "name": "python",
   "nbconvert_exporter": "python",
   "pygments_lexer": "ipython2",
   "version": "2.7.10"
  },
  "widgets": {
   "state": {},
   "version": "1.1.2"
  }
 },
 "nbformat": 4,
 "nbformat_minor": 2
}
