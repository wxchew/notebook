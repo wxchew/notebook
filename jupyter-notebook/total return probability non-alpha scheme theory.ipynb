{
 "cells": [
  {
   "cell_type": "code",
   "execution_count": 1,
   "metadata": {
    "collapsed": false
   },
   "outputs": [],
   "source": [
    "import math\n",
    "import numpy as np\n",
    "import scipy\n",
    "import matplotlib.pyplot as plt\n",
    "%matplotlib inline"
   ]
  },
  {
   "cell_type": "code",
   "execution_count": 2,
   "metadata": {
    "collapsed": true
   },
   "outputs": [],
   "source": [
    "def bino(n, k):\n",
    "    def eratosthenes_simple_numbers(N):\n",
    "        yield 2\n",
    "        nonsimp = set()\n",
    "        for i in xrange(3, N + 1, 2):\n",
    "            if i not in nonsimp:\n",
    "                nonsimp |= {j for j in xrange(i * i, N + 1, 2 * i)}\n",
    "                yield i\n",
    "    def calc_pow_in_factorial(a, p):\n",
    "        res = 0\n",
    "        while a:\n",
    "            a //= p\n",
    "            res += a\n",
    "        return res\n",
    "    ans = 1\n",
    "    for p in eratosthenes_simple_numbers(n):\n",
    "        ans *= p ** (calc_pow_in_factorial(n, p) - calc_pow_in_factorial(k, p) - calc_pow_in_factorial(n - k, p))\n",
    "    return ans"
   ]
  },
  {
   "cell_type": "code",
   "execution_count": 3,
   "metadata": {
    "collapsed": false
   },
   "outputs": [],
   "source": [
    "def f1(n): #Pdiamond\n",
    "    x=0\n",
    "    for j in range(n+1):\n",
    "        xx = (bino(n,j))**2 *(bino(2*j,j))*(bino(2*n-2*j,n-j))\n",
    "        x+=xx\n",
    "    return x\n",
    "\n",
    "def f2(n): #Pfcc\n",
    "    y=0\n",
    "    for j in range(n+1):\n",
    "        yy = bino(n,j)*((-4)**(n-j)) *f1(j)\n",
    "        y+=yy\n",
    "    return float(y)/12**n\n",
    "\n",
    "def F(n): #FPfcc\n",
    "    y = [1]\n",
    "    if n==0: return y[0]\n",
    "    else:  \n",
    "        m = 1\n",
    "        while m<=n:\n",
    "            yy=0\n",
    "            for i in range(m-1):\n",
    "                j=i+1\n",
    "                yy+=f2(m-j)*y[j]\n",
    "            y.append(f2(m)-yy)    \n",
    "            m+=1\n",
    "    return y"
   ]
  },
  {
   "cell_type": "code",
   "execution_count": 94,
   "metadata": {
    "collapsed": false
   },
   "outputs": [
    {
     "name": "stdout",
     "output_type": "stream",
     "text": [
      "[0.019097222222222224]\n",
      "[0.019097222222222224, 0.006944444444444444]\n",
      "[0.012731481481481483, 0.004629629629629629, 0.0]\n"
     ]
    }
   ],
   "source": [
    "#return at step n for j times\n",
    "def Fj(n,j):\n",
    "    y = F(n)\n",
    "    y[0]=0 #Fj in row j-1\n",
    "    k=list(y)\n",
    "    Fnj=[y[-1]]\n",
    "    jj = 2\n",
    "    while jj<=j:\n",
    "        nlist = []\n",
    "        for nn in range(n+1): #get Fjj for all n \n",
    "            g=0\n",
    "            for i in range(nn): #get Fjj for nn\n",
    "                i+=1\n",
    "                g+= y[i]*k[nn-i]\n",
    "            nlist.append(g)\n",
    "        jj+=1\n",
    "        k=list(nlist)\n",
    "        Fnj.append(k[-1])\n",
    "    return Fnj #Fn at j=0 to input J\n",
    "       \n",
    "print Fj(4,1)\n",
    "print Fj(4,2)\n",
    "print Fj(5,3)"
   ]
  },
  {
   "cell_type": "code",
   "execution_count": 105,
   "metadata": {
    "collapsed": false
   },
   "outputs": [],
   "source": [
    "def Hn2(p,n): #prob of first succesful return after step n starting from origin\n",
    "    sm = 0\n",
    "    F=Fj(n,n/2)\n",
    "    for j in range(n/2):\n",
    "        j+=1\n",
    "        sm+=F[j-1]*(1-p)**(j-1)\n",
    "    return p*sm\n",
    "\n",
    "def Hn(p,n): #prob of first succesful return after step n starting from origin\n",
    "    sm = 0\n",
    "    m=n+1\n",
    "    for j in range(n):\n",
    "        sm+=(1-p)**j*Fj(m+j,1+j)[-1]\n",
    "    return sm*p\n"
   ]
  },
  {
   "cell_type": "code",
   "execution_count": 120,
   "metadata": {
    "collapsed": false
   },
   "outputs": [],
   "source": [
    "rv = 0.005\n",
    "D = 1\n",
    "kfac = 0.01\n",
    "kD = 4*np.pi*(2*rv)*D\n",
    "ka = kD*kfac\n",
    "alpha = ka/(6*np.sqrt(2)*D*rv)\n",
    "prob = [Hn(alpha,step) for step in range(11)] #step counted from origin"
   ]
  },
  {
   "cell_type": "code",
   "execution_count": 121,
   "metadata": {
    "collapsed": false
   },
   "outputs": [
    {
     "name": "stdout",
     "output_type": "stream",
     "text": [
      "0.00626566790519\n",
      "[0.0, 0.0024682682989768698, 0.0010223527761779616, 0.00071484966775555347, 0.00050820135683002994, 0.00039453120762383148, 0.00031638217732570396, 0.00026199185113487655, 0.00022162833265684277, 0.00019083402992214074, 0.00016662820678372035]\n"
     ]
    }
   ],
   "source": [
    "print sum(prob)\n",
    "print prob\n",
    "#print (alpha/12)*(1+(5-alpha)/12)\n",
    "#print (alpha/12)*((5-alpha)/12)\n",
    "#print alpha*((Fj(3,1)[-1])+(1-alpha)*Fj(4,2)[-1])"
   ]
  },
  {
   "cell_type": "code",
   "execution_count": 40,
   "metadata": {
    "collapsed": false
   },
   "outputs": [
    {
     "data": {
      "text/plain": [
       "0.059630929839112"
      ]
     },
     "execution_count": 40,
     "metadata": {},
     "output_type": "execute_result"
    }
   ],
   "source": [
    "0.05971515- 8.4220160888e-05\n"
   ]
  },
  {
   "cell_type": "code",
   "execution_count": 70,
   "metadata": {
    "collapsed": false
   },
   "outputs": [
    {
     "name": "stdout",
     "output_type": "stream",
     "text": [
      "400\n",
      "900\n"
     ]
    }
   ],
   "source": [
    "import os\n",
    "def loadata(fname):\n",
    "    namelist = os.listdir(fname)\n",
    "    norun = len(namelist)\n",
    "    print norun\n",
    "    ret = np.array([])\n",
    "    for name in namelist:\n",
    "        dat = np.loadtxt(fname+name,delimiter=',')   \n",
    "        ret =  np.r_[ret,dat]\n",
    "    return ret,norun\n",
    "\n",
    "def gethist2(fname): #to get rxn fraction for each discrete t\n",
    "    ret,norun = loadata(fname)\n",
    "    uq,uqcnt = np.unique(ret,return_counts=True)\n",
    "    freq = [float(i)/10000/norun for i in uqcnt]\n",
    "    #for i,j in zip(uq,uqcnt): print i,j\n",
    "    #plt.loglog(freq,'.')\n",
    "    return freq\n",
    "    \n",
    "freq1 = gethist2(\"data/fpt_01kD_L1_short/\")    \n",
    "freq2 = gethist2(\"data/fpt_001kD_L1_short/\")    "
   ]
  },
  {
   "cell_type": "code",
   "execution_count": 13,
   "metadata": {
    "collapsed": false
   },
   "outputs": [
    {
     "data": {
      "text/plain": [
       "<matplotlib.legend.Legend at 0x7fa17a235090>"
      ]
     },
     "execution_count": 13,
     "metadata": {},
     "output_type": "execute_result"
    },
    {
     "data": {
      "image/png": "[encoded data removed]",
      "text/plain": [
       "<matplotlib.figure.Figure at 0x7fa17a0bf150>"
      ]
     },
     "metadata": {},
     "output_type": "display_data"
    }
   ],
   "source": [
    "plt.loglog(range(len(prob)),prob,'g.',label='exact,alpha=0.296')\n",
    "#plt.loglog(np.linspace(1,len(freq1),len(freq1)),freq1,'rx',label='sim,alpha=0.296')\n",
    "\n",
    "#plt.loglog(range(len(prob2)),prob2,'r.',label='exact,alpha=0.03')\n",
    "#plt.loglog(np.linspace(1,len(freq2),len(freq2)),freq2,'gx',label='sim,alpha=0.0296')\n",
    "\n",
    "#z = lambda x: 0.1*(x**-1.5) #t^(-0.5)\n",
    "#plt.plot(np.logspace(0,2,10),z(np.logspace(0,2,10)),label='p ~ t^-1.5')\n",
    "plt.xlabel('step')\n",
    "plt.ylabel('1st return prob')\n",
    "plt.legend(fontsize=9)               "
   ]
  },
  {
   "cell_type": "code",
   "execution_count": 66,
   "metadata": {
    "collapsed": false
   },
   "outputs": [
    {
     "data": {
      "text/plain": [
       "array([  2.,   3.,   4.,   5.,   6.,   7.,   8.,   9.,  10.,  11.])"
      ]
     },
     "execution_count": 66,
     "metadata": {},
     "output_type": "execute_result"
    }
   ],
   "source": [
    "np.linspace(2,10+1,10)"
   ]
  },
  {
   "cell_type": "code",
   "execution_count": null,
   "metadata": {
    "collapsed": true
   },
   "outputs": [],
   "source": []
  }
 ],
 "metadata": {
  "kernelspec": {
   "display_name": "Python 2",
   "language": "python",
   "name": "python2"
  },
  "language_info": {
   "codemirror_mode": {
    "name": "ipython",
    "version": 2
   },
   "file_extension": ".py",
   "mimetype": "text/x-python",
   "name": "python",
   "nbconvert_exporter": "python",
   "pygments_lexer": "ipython2",
   "version": "2.7.10"
  }
 },
 "nbformat": 4,
 "nbformat_minor": 2
}
