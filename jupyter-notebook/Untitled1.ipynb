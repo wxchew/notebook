{
 "cells": [
  {
   "cell_type": "code",
   "execution_count": 29,
   "metadata": {},
   "outputs": [],
   "source": [
    "from ecell4 import *\n",
    "import matplotlib.pylab as plt\n",
    "import numpy as np\n",
    "%matplotlib inline"
   ]
  },
  {
   "cell_type": "code",
   "execution_count": 76,
   "metadata": {},
   "outputs": [
    {
     "data": {
      "text/plain": [
       "[<matplotlib.lines.Line2D at 0x7faf68803a10>]"
      ]
     },
     "execution_count": 76,
     "metadata": {},
     "output_type": "execute_result"
    },
    {
     "data": {
      "image/png": "[encoded data removed]",
      "text/plain": [
       "<matplotlib.figure.Figure at 0x7faf68aecc90>"
      ]
     },
     "metadata": {},
     "output_type": "display_data"
    }
   ],
   "source": [
    "Ks=np.arange(2,30,1)\n",
    "k1=0.02\n",
    "k2=0.1\n",
    "L=1.\n",
    "D=0.1\n",
    "A=[]\n",
    "for K in Ks:\n",
    "    rm=2**(1./6) *L/K/2\n",
    "    kd=4*3.14*rm*2*D\n",
    "    #keff=kd*k1/(k1+kd)\n",
    "    w=spatiocyte.SpatiocyteWorld(Real3(L,L,L),rm)\n",
    "    V=w.actual_volume()\n",
    "    #N=w.size()\n",
    "    N=K**3\n",
    "    k11=k1*kd/(k1+kd)\n",
    "    #A.append(k2*(N/V-1)/(k2+k1))\n",
    "    A.append(k2*(N-1)/(k2+k11*N))\n",
    "plt.plot(Ks,A,'o')"
   ]
  },
  {
   "cell_type": "code",
   "execution_count": null,
   "metadata": {},
   "outputs": [],
   "source": []
  }
 ],
 "metadata": {
  "kernelspec": {
   "display_name": "Python 3",
   "language": "python",
   "name": "python3"
  },
  "language_info": {
   "codemirror_mode": {
    "name": "ipython",
    "version": 2
   },
   "file_extension": ".py",
   "mimetype": "text/x-python",
   "name": "python",
   "nbconvert_exporter": "python",
   "pygments_lexer": "ipython2",
   "version": "2.7.12"
  }
 },
 "nbformat": 4,
 "nbformat_minor": 2
}
