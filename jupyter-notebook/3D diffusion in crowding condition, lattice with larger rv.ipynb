{
 "cells": [
  {
   "cell_type": "code",
   "execution_count": 11,
   "metadata": {
    "collapsed": false,
    "scrolled": true
   },
   "outputs": [
    {
     "name": "stdout",
     "output_type": "stream",
     "text": [
      "L=0.2,rm=0.005,rv=0.005,Do=0,Dt=1,dt=1.66666666667e-05\n",
      "defined volume 0.008\n",
      "actual volume 0.00970716189213\n",
      "no of voxels 13728\n"
     ]
    }
   ],
   "source": [
    "from ecell4 import *\n",
    "import numpy as np\n",
    "%matplotlib inline\n",
    "import math\n",
    "import sys\n",
    "import matplotlib.pyplot as plt\n",
    "rng = core.GSLRandomNumberGenerator()\n",
    "\n",
    "phios = [0.2]#[0.05,0.1,0.18]\n",
    "simrun = 1\n",
    "phit = 0.001\n",
    "L = 0.2\n",
    "Vt = L**3\n",
    "rm = 0.005\n",
    "Vp = 4./3*math.pi*rm**3\n",
    "Nt = int(phit*Vt/Vp)\n",
    "if (Nt==0): print 'no tracer'\n",
    "Do = 0\n",
    "Dt = 1    \n",
    "rv = rm#1.66097*rm\n",
    "H = 3*rv*2\n",
    "dt = (2*rv)**2 / (6*Dt)\n",
    "tt = np.logspace(math.log10(2.1*dt),-1,15)\n",
    "tt = np.insert(tt,0,dt)\n",
    "tt = np.insert(tt,0,0.)\n",
    "dur = tt[-1]\n",
    "print 'L={},rm={},rv={},Do={},Dt={},dt={}'.format(L,rm,rv,Do,Dt,dt)\n",
    "w = spatiocyte.SpatiocyteWorld(Real3(L,L,L),rv)\n",
    "rs = w.row_size()\n",
    "ls = w.layer_size()\n",
    "cs = w.col_size()\n",
    "Nmv = cs*ls*rs\n",
    "x,y,z = tuple(w.actual_lengths())\n",
    "print 'defined volume',L**3\n",
    "print 'actual volume',y*z*x\n",
    "print 'no of voxels',Nmv\n",
    "\n",
    "def run(phio):\n",
    "    msd = np.zeros(len(tt),float)\n",
    "    w = spatiocyte.SpatiocyteWorld(Real3(H,L,L),rv)\n",
    "    x,y,z = w.actual_lengths()\n",
    "    with species_attributes():\n",
    "        O | {'D':str(Do),'radius':str(rv)}\n",
    "        T | {'D':str(Dt),'radius':str(rv)}\n",
    "    m=get_model()\n",
    "    w.bind_to(m)\n",
    "    #w.add_structure(Species('M'),PlanarSurface(ori,unit0,unit1))\n",
    "    w.add_molecules(Species('T'),Nt)\n",
    "    w.add_molecules(Species('O'),No)\n",
    "    sim = spatiocyte.SpatiocyteSimulator(w)\n",
    "    pids = [pid for pid, p in w.list_particles(Species(\"T\"))] #particle IDs\n",
    "    #obs = FixedIntervalTrajectoryObserver(dt,pids)\n",
    "    obs = TimingTrajectoryObserver(tt,pids,True,dt)\n",
    "    sim.run(dur,obs)\n",
    "    data=obs.data()\n",
    "    #viz.plot_trajectory(obs)\n",
    "    for i in range(Nt):\n",
    "        #print 'tracer',i\n",
    "        msd += np.array(\n",
    "            [np.linalg.norm(np.array(tuple(pos)) - np.array(tuple(data[i][0]))) ** 2\n",
    "                 for pos in data[i]]) \n",
    "\n",
    "    #msd = msd/Nt\n",
    "    return msd"
   ]
  },
  {
   "cell_type": "code",
   "execution_count": 12,
   "metadata": {
    "collapsed": false,
    "scrolled": true
   },
   "outputs": [
    {
     "name": "stdout",
     "output_type": "stream",
     "text": [
      "phio 0.2\n",
      "occupancy of tracer 0.000981747704247 occupancy of obstacles 0.199949282432\n",
      "Nt 15 No 3055\n",
      "total traj 15\n"
     ]
    },
    {
     "data": {
      "image/png": "[encoded data removed]",
      "text/plain": [
       "<matplotlib.figure.Figure at 0x7f81a6d373d0>"
      ]
     },
     "metadata": {},
     "output_type": "display_data"
    },
    {
     "data": {
      "image/png": "[encoded data removed]",
      "text/plain": [
       "<matplotlib.figure.Figure at 0x7f81a5fc54d0>"
      ]
     },
     "metadata": {},
     "output_type": "display_data"
    }
   ],
   "source": [
    "f1,ax1 = plt.subplots(1)\n",
    "f2,ax2 = plt.subplots(1)\n",
    "Deffall = []\n",
    "for phio in phios:\n",
    "    print 'phio',str(phio)\n",
    "    No = int(phio*Vt/Vp)\n",
    "    print 'occupancy of tracer',Nt*Vp/Vt,'occupancy of obstacles',No*Vp/Vt\n",
    "    phi_hcp = float(No)/Nmv\n",
    "    #print 'phi_hcp/phi_BD=',str(phi_hcp/phio)\n",
    "    print 'Nt',Nt,'No',No\n",
    "    MSD = []\n",
    "    print 'total traj',simrun*Nt\n",
    "    for rr in range(simrun):\n",
    "        #print 'run',rr\n",
    "        msdr = run(phio)\n",
    "        MSD.append(msdr)\n",
    "    MSD = np.array(MSD)\n",
    "    MSD = np.mean(MSD,axis=0)\n",
    "    #fn = open('data/2Dcrowding_LS_phi'+str(phio)+'rv1.54rm.csv','w')\n",
    "    #np.savetxt(fn,np.column_stack((t,MSD)),delimiter=',',fmt='%s')\n",
    "    #fn.close()\n",
    "    ax1.loglog(tt,MSD,'.',label='phi='+str(phio))\n",
    "    ax1.plot(tt,6*Dt*tt,'g-')  #theoretical line\n",
    "    ax1.set_xlabel(\"time\")\n",
    "    ax1.set_ylabel(\"msd\")\n",
    "    Deff = MSD[1:]/tt[1:]/6/Dt\n",
    "    ax2.semilogx(tt[1:],Deff,'.',label='phi='+str(phio))\n",
    "    ax2.set_xlabel(\"time\")\n",
    "    ax2.set_ylabel(\"D/Do\")\n",
    "    ax2.set_ylim(0,1.1)\n",
    "    Deffall.append(Deff)\n",
    "ax1.legend(loc='best')\n",
    "ax2.legend(loc='best') \n",
    "plt.show()\n",
    "Deffall = np.array(Deffall)\n",
    "Deffs=[]\n",
    "for dff in Deffall:\n",
    "    Deffs.append(np.mean(dff[(tt>.2)[1::]]))"
   ]
  },
  {
   "cell_type": "code",
   "execution_count": 7,
   "metadata": {
    "collapsed": true
   },
   "outputs": [],
   "source": [
    "f1.savefig(\"figure/2DLSphir_diffusion_MSD_t.png\",format='png',dpi=100)    \n",
    "f2.savefig(\"figure/2DLSphir_diffusion_Deff_t.png\",format='png',dpi=100)"
   ]
  },
  {
   "cell_type": "code",
   "execution_count": 5,
   "metadata": {
    "collapsed": false,
    "scrolled": true
   },
   "outputs": [
    {
     "data": {
      "text/plain": [
       "[0.75305785376494638,\n",
       " 0.44457121129333504,\n",
       " 0.15132287822750226,\n",
       " 0.019633047966775903]"
      ]
     },
     "execution_count": 5,
     "metadata": {},
     "output_type": "execute_result"
    }
   ],
   "source": [
    "Deffs"
   ]
  },
  {
   "cell_type": "code",
   "execution_count": 6,
   "metadata": {
    "collapsed": false
   },
   "outputs": [
    {
     "name": "stdout",
     "output_type": "stream",
     "text": [
      "phi= 0.05  Deff= 0.753057853765\n",
      "phi= 0.1  Deff= 0.444571211293\n",
      "phi= 0.15  Deff= 0.151322878228\n",
      "phi= 0.18  Deff= 0.0196330479668\n"
     ]
    },
    {
     "data": {
      "image/png": "[encoded data removed]",
      "text/plain": [
       "<matplotlib.figure.Figure at 0x7f6c4e298cd0>"
      ]
     },
     "metadata": {},
     "output_type": "display_data"
    }
   ],
   "source": [
    "from ecell4 import *\n",
    "import numpy as np\n",
    "import math\n",
    "import sys\n",
    "import matplotlib.pyplot as plt\n",
    "%matplotlib inline\n",
    "phios = [0.05,0.1,0.15,0.18]\n",
    "#phir = [0.,0.0906,0.1813,0.272,0.3627]\n",
    "Deffs =[0.75305785376494638, 0.44457121129333504, 0.15132287822750226, 0.019633047966775903]\n",
    "#phiobd = [0, 0.05,0.1,0.15,0.18,0.2]\n",
    "#Deffbd = [0.94830140592077317, 0.67515725372187418, 0.42724170618727503, 0.20667644039049163, 0.081817752936242369, 0.032423098951908771]\n",
    "xx = np.linspace(0,0.18,10)\n",
    "plt.plot(xx,[(-1./0.18)*i+1. for i in xx],'r--',label='BD Deff=1-5.55phi')\n",
    "plt.plot(phios,Deffs,'bo',label='LS,rv=1.66097rm')\n",
    "#plt.plot(phiobd,Deffbd,'ro-',label='BD')\n",
    "plt.title('LS sim')\n",
    "plt.xlabel('phi,area occupied by obstacles')\n",
    "plt.ylabel('Deff')\n",
    "plt.xlim(0,0.5)\n",
    "plt.ylim(0.0,1)\n",
    "plt.legend(loc='best')\n",
    "for i,j in zip(phios,Deffs):\n",
    "    print 'phi=',str(i),' Deff=',str(j)\n",
    "plt.savefig(\"figure/2DLSBD_diffusion_Deff_phir.png\",format='png',dpi=100)\n",
    "plt.show()"
   ]
  },
  {
   "cell_type": "code",
   "execution_count": 31,
   "metadata": {
    "collapsed": false
   },
   "outputs": [
    {
     "name": "stdout",
     "output_type": "stream",
     "text": [
      "[0.15075974327250233, 0.30151948654500466, 0.45228406278997835, 0.5427379755644912, 0.6030438060624806]\n",
      "phi_hcp/phi_BD 3.01519486545\n",
      "phi_hcp/phi_BD 3.01519486545\n",
      "phi_hcp/phi_BD 3.01522708527\n",
      "phi_hcp/phi_BD 3.01521097536\n",
      "phi_hcp/phi_BD 3.01521903031\n",
      "2.77777777778\n",
      "area= 49 lattice area= 49.3184117738\n"
     ]
    }
   ],
   "source": [
    "Nos = [31194, 62388 ,93583, 112299, 124777]\n",
    "phil = [float(i)/206912 for i in Nos]\n",
    "print phil\n",
    "for i,j in zip(phios[1:],phil):\n",
    "    print 'phi_hcp/phi_BD',j/i\n",
    "print 0.5/0.18\n",
    "print 'area=',49,'lattice area=',str(7.011272387006512*7.03416)"
   ]
  },
  {
   "cell_type": "code",
   "execution_count": null,
   "metadata": {
    "collapsed": true
   },
   "outputs": [],
   "source": []
  }
 ],
 "metadata": {
  "anaconda-cloud": {},
  "kernelspec": {
   "display_name": "Python 2",
   "language": "python",
   "name": "python2"
  },
  "language_info": {
   "codemirror_mode": {
    "name": "ipython",
    "version": 2
   },
   "file_extension": ".py",
   "mimetype": "text/x-python",
   "name": "python",
   "nbconvert_exporter": "python",
   "pygments_lexer": "ipython2",
   "version": "2.7.10"
  }
 },
 "nbformat": 4,
 "nbformat_minor": 1
}
